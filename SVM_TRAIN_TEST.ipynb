{
  "nbformat": 4,
  "nbformat_minor": 0,
  "metadata": {
    "colab": {
      "provenance": []
    },
    "kernelspec": {
      "name": "python3",
      "display_name": "Python 3"
    },
    "language_info": {
      "name": "python"
    }
  },
  "cells": [
    {
      "cell_type": "code",
      "execution_count": 1,
      "metadata": {
        "id": "Q8-b-ksX0VOD"
      },
      "outputs": [],
      "source": [
        "import numpy as np\n",
        "import pandas as pd\n",
        "import matplotlib.pyplot as plt\n",
        "import plotly.express as px\n",
        "import seaborn as sns\n",
        "from google.colab import files\n",
        "from sklearn.preprocessing import LabelEncoder,StandardScaler\n",
        "from sklearn.metrics import accuracy_score\n",
        "from sklearn.model_selection import train_test_split\n",
        "from sklearn.svm import SVC\n",
        "from sklearn.naive_bayes import MultinomialNB,GaussianNB\n",
        "from sklearn.model_selection import GridSearchCV,RandomizedSearchCV"
      ]
    },
    {
      "cell_type": "code",
      "source": [
        "upload=files.upload()"
      ],
      "metadata": {
        "colab": {
          "base_uri": "https://localhost:8080/",
          "height": 73
        },
        "id": "QJiO7MOU0gw3",
        "outputId": "0510b8ef-e39b-4ac5-d080-926ab85b229f"
      },
      "execution_count": 2,
      "outputs": [
        {
          "output_type": "display_data",
          "data": {
            "text/plain": [
              "<IPython.core.display.HTML object>"
            ],
            "text/html": [
              "\n",
              "     <input type=\"file\" id=\"files-8aba0c02-91f9-4769-8ecf-259ef1989bdf\" name=\"files[]\" multiple disabled\n",
              "        style=\"border:none\" />\n",
              "     <output id=\"result-8aba0c02-91f9-4769-8ecf-259ef1989bdf\">\n",
              "      Upload widget is only available when the cell has been executed in the\n",
              "      current browser session. Please rerun this cell to enable.\n",
              "      </output>\n",
              "      <script>// Copyright 2017 Google LLC\n",
              "//\n",
              "// Licensed under the Apache License, Version 2.0 (the \"License\");\n",
              "// you may not use this file except in compliance with the License.\n",
              "// You may obtain a copy of the License at\n",
              "//\n",
              "//      http://www.apache.org/licenses/LICENSE-2.0\n",
              "//\n",
              "// Unless required by applicable law or agreed to in writing, software\n",
              "// distributed under the License is distributed on an \"AS IS\" BASIS,\n",
              "// WITHOUT WARRANTIES OR CONDITIONS OF ANY KIND, either express or implied.\n",
              "// See the License for the specific language governing permissions and\n",
              "// limitations under the License.\n",
              "\n",
              "/**\n",
              " * @fileoverview Helpers for google.colab Python module.\n",
              " */\n",
              "(function(scope) {\n",
              "function span(text, styleAttributes = {}) {\n",
              "  const element = document.createElement('span');\n",
              "  element.textContent = text;\n",
              "  for (const key of Object.keys(styleAttributes)) {\n",
              "    element.style[key] = styleAttributes[key];\n",
              "  }\n",
              "  return element;\n",
              "}\n",
              "\n",
              "// Max number of bytes which will be uploaded at a time.\n",
              "const MAX_PAYLOAD_SIZE = 100 * 1024;\n",
              "\n",
              "function _uploadFiles(inputId, outputId) {\n",
              "  const steps = uploadFilesStep(inputId, outputId);\n",
              "  const outputElement = document.getElementById(outputId);\n",
              "  // Cache steps on the outputElement to make it available for the next call\n",
              "  // to uploadFilesContinue from Python.\n",
              "  outputElement.steps = steps;\n",
              "\n",
              "  return _uploadFilesContinue(outputId);\n",
              "}\n",
              "\n",
              "// This is roughly an async generator (not supported in the browser yet),\n",
              "// where there are multiple asynchronous steps and the Python side is going\n",
              "// to poll for completion of each step.\n",
              "// This uses a Promise to block the python side on completion of each step,\n",
              "// then passes the result of the previous step as the input to the next step.\n",
              "function _uploadFilesContinue(outputId) {\n",
              "  const outputElement = document.getElementById(outputId);\n",
              "  const steps = outputElement.steps;\n",
              "\n",
              "  const next = steps.next(outputElement.lastPromiseValue);\n",
              "  return Promise.resolve(next.value.promise).then((value) => {\n",
              "    // Cache the last promise value to make it available to the next\n",
              "    // step of the generator.\n",
              "    outputElement.lastPromiseValue = value;\n",
              "    return next.value.response;\n",
              "  });\n",
              "}\n",
              "\n",
              "/**\n",
              " * Generator function which is called between each async step of the upload\n",
              " * process.\n",
              " * @param {string} inputId Element ID of the input file picker element.\n",
              " * @param {string} outputId Element ID of the output display.\n",
              " * @return {!Iterable<!Object>} Iterable of next steps.\n",
              " */\n",
              "function* uploadFilesStep(inputId, outputId) {\n",
              "  const inputElement = document.getElementById(inputId);\n",
              "  inputElement.disabled = false;\n",
              "\n",
              "  const outputElement = document.getElementById(outputId);\n",
              "  outputElement.innerHTML = '';\n",
              "\n",
              "  const pickedPromise = new Promise((resolve) => {\n",
              "    inputElement.addEventListener('change', (e) => {\n",
              "      resolve(e.target.files);\n",
              "    });\n",
              "  });\n",
              "\n",
              "  const cancel = document.createElement('button');\n",
              "  inputElement.parentElement.appendChild(cancel);\n",
              "  cancel.textContent = 'Cancel upload';\n",
              "  const cancelPromise = new Promise((resolve) => {\n",
              "    cancel.onclick = () => {\n",
              "      resolve(null);\n",
              "    };\n",
              "  });\n",
              "\n",
              "  // Wait for the user to pick the files.\n",
              "  const files = yield {\n",
              "    promise: Promise.race([pickedPromise, cancelPromise]),\n",
              "    response: {\n",
              "      action: 'starting',\n",
              "    }\n",
              "  };\n",
              "\n",
              "  cancel.remove();\n",
              "\n",
              "  // Disable the input element since further picks are not allowed.\n",
              "  inputElement.disabled = true;\n",
              "\n",
              "  if (!files) {\n",
              "    return {\n",
              "      response: {\n",
              "        action: 'complete',\n",
              "      }\n",
              "    };\n",
              "  }\n",
              "\n",
              "  for (const file of files) {\n",
              "    const li = document.createElement('li');\n",
              "    li.append(span(file.name, {fontWeight: 'bold'}));\n",
              "    li.append(span(\n",
              "        `(${file.type || 'n/a'}) - ${file.size} bytes, ` +\n",
              "        `last modified: ${\n",
              "            file.lastModifiedDate ? file.lastModifiedDate.toLocaleDateString() :\n",
              "                                    'n/a'} - `));\n",
              "    const percent = span('0% done');\n",
              "    li.appendChild(percent);\n",
              "\n",
              "    outputElement.appendChild(li);\n",
              "\n",
              "    const fileDataPromise = new Promise((resolve) => {\n",
              "      const reader = new FileReader();\n",
              "      reader.onload = (e) => {\n",
              "        resolve(e.target.result);\n",
              "      };\n",
              "      reader.readAsArrayBuffer(file);\n",
              "    });\n",
              "    // Wait for the data to be ready.\n",
              "    let fileData = yield {\n",
              "      promise: fileDataPromise,\n",
              "      response: {\n",
              "        action: 'continue',\n",
              "      }\n",
              "    };\n",
              "\n",
              "    // Use a chunked sending to avoid message size limits. See b/62115660.\n",
              "    let position = 0;\n",
              "    do {\n",
              "      const length = Math.min(fileData.byteLength - position, MAX_PAYLOAD_SIZE);\n",
              "      const chunk = new Uint8Array(fileData, position, length);\n",
              "      position += length;\n",
              "\n",
              "      const base64 = btoa(String.fromCharCode.apply(null, chunk));\n",
              "      yield {\n",
              "        response: {\n",
              "          action: 'append',\n",
              "          file: file.name,\n",
              "          data: base64,\n",
              "        },\n",
              "      };\n",
              "\n",
              "      let percentDone = fileData.byteLength === 0 ?\n",
              "          100 :\n",
              "          Math.round((position / fileData.byteLength) * 100);\n",
              "      percent.textContent = `${percentDone}% done`;\n",
              "\n",
              "    } while (position < fileData.byteLength);\n",
              "  }\n",
              "\n",
              "  // All done.\n",
              "  yield {\n",
              "    response: {\n",
              "      action: 'complete',\n",
              "    }\n",
              "  };\n",
              "}\n",
              "\n",
              "scope.google = scope.google || {};\n",
              "scope.google.colab = scope.google.colab || {};\n",
              "scope.google.colab._files = {\n",
              "  _uploadFiles,\n",
              "  _uploadFilesContinue,\n",
              "};\n",
              "})(self);\n",
              "</script> "
            ]
          },
          "metadata": {}
        },
        {
          "output_type": "stream",
          "name": "stdout",
          "text": [
            "Saving SalaryData_Train(1)(1).csv to SalaryData_Train(1)(1).csv\n"
          ]
        }
      ]
    },
    {
      "cell_type": "code",
      "source": [
        "upload= files.upload()"
      ],
      "metadata": {
        "colab": {
          "base_uri": "https://localhost:8080/",
          "height": 73
        },
        "id": "_z6rdhvG0n0B",
        "outputId": "d34ec343-7fdb-4e71-e5b5-e90b1bf16e38"
      },
      "execution_count": 3,
      "outputs": [
        {
          "output_type": "display_data",
          "data": {
            "text/plain": [
              "<IPython.core.display.HTML object>"
            ],
            "text/html": [
              "\n",
              "     <input type=\"file\" id=\"files-f72852a8-8250-4475-9d1c-01d14b0d71ef\" name=\"files[]\" multiple disabled\n",
              "        style=\"border:none\" />\n",
              "     <output id=\"result-f72852a8-8250-4475-9d1c-01d14b0d71ef\">\n",
              "      Upload widget is only available when the cell has been executed in the\n",
              "      current browser session. Please rerun this cell to enable.\n",
              "      </output>\n",
              "      <script>// Copyright 2017 Google LLC\n",
              "//\n",
              "// Licensed under the Apache License, Version 2.0 (the \"License\");\n",
              "// you may not use this file except in compliance with the License.\n",
              "// You may obtain a copy of the License at\n",
              "//\n",
              "//      http://www.apache.org/licenses/LICENSE-2.0\n",
              "//\n",
              "// Unless required by applicable law or agreed to in writing, software\n",
              "// distributed under the License is distributed on an \"AS IS\" BASIS,\n",
              "// WITHOUT WARRANTIES OR CONDITIONS OF ANY KIND, either express or implied.\n",
              "// See the License for the specific language governing permissions and\n",
              "// limitations under the License.\n",
              "\n",
              "/**\n",
              " * @fileoverview Helpers for google.colab Python module.\n",
              " */\n",
              "(function(scope) {\n",
              "function span(text, styleAttributes = {}) {\n",
              "  const element = document.createElement('span');\n",
              "  element.textContent = text;\n",
              "  for (const key of Object.keys(styleAttributes)) {\n",
              "    element.style[key] = styleAttributes[key];\n",
              "  }\n",
              "  return element;\n",
              "}\n",
              "\n",
              "// Max number of bytes which will be uploaded at a time.\n",
              "const MAX_PAYLOAD_SIZE = 100 * 1024;\n",
              "\n",
              "function _uploadFiles(inputId, outputId) {\n",
              "  const steps = uploadFilesStep(inputId, outputId);\n",
              "  const outputElement = document.getElementById(outputId);\n",
              "  // Cache steps on the outputElement to make it available for the next call\n",
              "  // to uploadFilesContinue from Python.\n",
              "  outputElement.steps = steps;\n",
              "\n",
              "  return _uploadFilesContinue(outputId);\n",
              "}\n",
              "\n",
              "// This is roughly an async generator (not supported in the browser yet),\n",
              "// where there are multiple asynchronous steps and the Python side is going\n",
              "// to poll for completion of each step.\n",
              "// This uses a Promise to block the python side on completion of each step,\n",
              "// then passes the result of the previous step as the input to the next step.\n",
              "function _uploadFilesContinue(outputId) {\n",
              "  const outputElement = document.getElementById(outputId);\n",
              "  const steps = outputElement.steps;\n",
              "\n",
              "  const next = steps.next(outputElement.lastPromiseValue);\n",
              "  return Promise.resolve(next.value.promise).then((value) => {\n",
              "    // Cache the last promise value to make it available to the next\n",
              "    // step of the generator.\n",
              "    outputElement.lastPromiseValue = value;\n",
              "    return next.value.response;\n",
              "  });\n",
              "}\n",
              "\n",
              "/**\n",
              " * Generator function which is called between each async step of the upload\n",
              " * process.\n",
              " * @param {string} inputId Element ID of the input file picker element.\n",
              " * @param {string} outputId Element ID of the output display.\n",
              " * @return {!Iterable<!Object>} Iterable of next steps.\n",
              " */\n",
              "function* uploadFilesStep(inputId, outputId) {\n",
              "  const inputElement = document.getElementById(inputId);\n",
              "  inputElement.disabled = false;\n",
              "\n",
              "  const outputElement = document.getElementById(outputId);\n",
              "  outputElement.innerHTML = '';\n",
              "\n",
              "  const pickedPromise = new Promise((resolve) => {\n",
              "    inputElement.addEventListener('change', (e) => {\n",
              "      resolve(e.target.files);\n",
              "    });\n",
              "  });\n",
              "\n",
              "  const cancel = document.createElement('button');\n",
              "  inputElement.parentElement.appendChild(cancel);\n",
              "  cancel.textContent = 'Cancel upload';\n",
              "  const cancelPromise = new Promise((resolve) => {\n",
              "    cancel.onclick = () => {\n",
              "      resolve(null);\n",
              "    };\n",
              "  });\n",
              "\n",
              "  // Wait for the user to pick the files.\n",
              "  const files = yield {\n",
              "    promise: Promise.race([pickedPromise, cancelPromise]),\n",
              "    response: {\n",
              "      action: 'starting',\n",
              "    }\n",
              "  };\n",
              "\n",
              "  cancel.remove();\n",
              "\n",
              "  // Disable the input element since further picks are not allowed.\n",
              "  inputElement.disabled = true;\n",
              "\n",
              "  if (!files) {\n",
              "    return {\n",
              "      response: {\n",
              "        action: 'complete',\n",
              "      }\n",
              "    };\n",
              "  }\n",
              "\n",
              "  for (const file of files) {\n",
              "    const li = document.createElement('li');\n",
              "    li.append(span(file.name, {fontWeight: 'bold'}));\n",
              "    li.append(span(\n",
              "        `(${file.type || 'n/a'}) - ${file.size} bytes, ` +\n",
              "        `last modified: ${\n",
              "            file.lastModifiedDate ? file.lastModifiedDate.toLocaleDateString() :\n",
              "                                    'n/a'} - `));\n",
              "    const percent = span('0% done');\n",
              "    li.appendChild(percent);\n",
              "\n",
              "    outputElement.appendChild(li);\n",
              "\n",
              "    const fileDataPromise = new Promise((resolve) => {\n",
              "      const reader = new FileReader();\n",
              "      reader.onload = (e) => {\n",
              "        resolve(e.target.result);\n",
              "      };\n",
              "      reader.readAsArrayBuffer(file);\n",
              "    });\n",
              "    // Wait for the data to be ready.\n",
              "    let fileData = yield {\n",
              "      promise: fileDataPromise,\n",
              "      response: {\n",
              "        action: 'continue',\n",
              "      }\n",
              "    };\n",
              "\n",
              "    // Use a chunked sending to avoid message size limits. See b/62115660.\n",
              "    let position = 0;\n",
              "    do {\n",
              "      const length = Math.min(fileData.byteLength - position, MAX_PAYLOAD_SIZE);\n",
              "      const chunk = new Uint8Array(fileData, position, length);\n",
              "      position += length;\n",
              "\n",
              "      const base64 = btoa(String.fromCharCode.apply(null, chunk));\n",
              "      yield {\n",
              "        response: {\n",
              "          action: 'append',\n",
              "          file: file.name,\n",
              "          data: base64,\n",
              "        },\n",
              "      };\n",
              "\n",
              "      let percentDone = fileData.byteLength === 0 ?\n",
              "          100 :\n",
              "          Math.round((position / fileData.byteLength) * 100);\n",
              "      percent.textContent = `${percentDone}% done`;\n",
              "\n",
              "    } while (position < fileData.byteLength);\n",
              "  }\n",
              "\n",
              "  // All done.\n",
              "  yield {\n",
              "    response: {\n",
              "      action: 'complete',\n",
              "    }\n",
              "  };\n",
              "}\n",
              "\n",
              "scope.google = scope.google || {};\n",
              "scope.google.colab = scope.google.colab || {};\n",
              "scope.google.colab._files = {\n",
              "  _uploadFiles,\n",
              "  _uploadFilesContinue,\n",
              "};\n",
              "})(self);\n",
              "</script> "
            ]
          },
          "metadata": {}
        },
        {
          "output_type": "stream",
          "name": "stdout",
          "text": [
            "Saving SalaryData_Test(1)(1).csv to SalaryData_Test(1)(1).csv\n"
          ]
        }
      ]
    },
    {
      "cell_type": "code",
      "source": [
        "data_train=pd.read_csv('SalaryData_Train(1)(1).csv')\n",
        "data_train"
      ],
      "metadata": {
        "colab": {
          "base_uri": "https://localhost:8080/",
          "height": 617
        },
        "id": "R9L6Q4Sr0vEk",
        "outputId": "41e0fe92-43bf-48c9-b08f-0b5401b70bc4"
      },
      "execution_count": 4,
      "outputs": [
        {
          "output_type": "execute_result",
          "data": {
            "text/plain": [
              "       age          workclass    education  educationno        maritalstatus  \\\n",
              "0       39          State-gov    Bachelors           13        Never-married   \n",
              "1       50   Self-emp-not-inc    Bachelors           13   Married-civ-spouse   \n",
              "2       38            Private      HS-grad            9             Divorced   \n",
              "3       53            Private         11th            7   Married-civ-spouse   \n",
              "4       28            Private    Bachelors           13   Married-civ-spouse   \n",
              "...    ...                ...          ...          ...                  ...   \n",
              "30156   27            Private   Assoc-acdm           12   Married-civ-spouse   \n",
              "30157   40            Private      HS-grad            9   Married-civ-spouse   \n",
              "30158   58            Private      HS-grad            9              Widowed   \n",
              "30159   22            Private      HS-grad            9        Never-married   \n",
              "30160   52       Self-emp-inc      HS-grad            9   Married-civ-spouse   \n",
              "\n",
              "               occupation    relationship    race      sex  capitalgain  \\\n",
              "0            Adm-clerical   Not-in-family   White     Male         2174   \n",
              "1         Exec-managerial         Husband   White     Male            0   \n",
              "2       Handlers-cleaners   Not-in-family   White     Male            0   \n",
              "3       Handlers-cleaners         Husband   Black     Male            0   \n",
              "4          Prof-specialty            Wife   Black   Female            0   \n",
              "...                   ...             ...     ...      ...          ...   \n",
              "30156        Tech-support            Wife   White   Female            0   \n",
              "30157   Machine-op-inspct         Husband   White     Male            0   \n",
              "30158        Adm-clerical       Unmarried   White   Female            0   \n",
              "30159        Adm-clerical       Own-child   White     Male            0   \n",
              "30160     Exec-managerial            Wife   White   Female        15024   \n",
              "\n",
              "       capitalloss  hoursperweek          native  Salary  \n",
              "0                0            40   United-States   <=50K  \n",
              "1                0            13   United-States   <=50K  \n",
              "2                0            40   United-States   <=50K  \n",
              "3                0            40   United-States   <=50K  \n",
              "4                0            40            Cuba   <=50K  \n",
              "...            ...           ...             ...     ...  \n",
              "30156            0            38   United-States   <=50K  \n",
              "30157            0            40   United-States    >50K  \n",
              "30158            0            40   United-States   <=50K  \n",
              "30159            0            20   United-States   <=50K  \n",
              "30160            0            40   United-States    >50K  \n",
              "\n",
              "[30161 rows x 14 columns]"
            ],
            "text/html": [
              "\n",
              "  <div id=\"df-aa1d9704-af49-44af-875a-eed9200f693c\" class=\"colab-df-container\">\n",
              "    <div>\n",
              "<style scoped>\n",
              "    .dataframe tbody tr th:only-of-type {\n",
              "        vertical-align: middle;\n",
              "    }\n",
              "\n",
              "    .dataframe tbody tr th {\n",
              "        vertical-align: top;\n",
              "    }\n",
              "\n",
              "    .dataframe thead th {\n",
              "        text-align: right;\n",
              "    }\n",
              "</style>\n",
              "<table border=\"1\" class=\"dataframe\">\n",
              "  <thead>\n",
              "    <tr style=\"text-align: right;\">\n",
              "      <th></th>\n",
              "      <th>age</th>\n",
              "      <th>workclass</th>\n",
              "      <th>education</th>\n",
              "      <th>educationno</th>\n",
              "      <th>maritalstatus</th>\n",
              "      <th>occupation</th>\n",
              "      <th>relationship</th>\n",
              "      <th>race</th>\n",
              "      <th>sex</th>\n",
              "      <th>capitalgain</th>\n",
              "      <th>capitalloss</th>\n",
              "      <th>hoursperweek</th>\n",
              "      <th>native</th>\n",
              "      <th>Salary</th>\n",
              "    </tr>\n",
              "  </thead>\n",
              "  <tbody>\n",
              "    <tr>\n",
              "      <th>0</th>\n",
              "      <td>39</td>\n",
              "      <td>State-gov</td>\n",
              "      <td>Bachelors</td>\n",
              "      <td>13</td>\n",
              "      <td>Never-married</td>\n",
              "      <td>Adm-clerical</td>\n",
              "      <td>Not-in-family</td>\n",
              "      <td>White</td>\n",
              "      <td>Male</td>\n",
              "      <td>2174</td>\n",
              "      <td>0</td>\n",
              "      <td>40</td>\n",
              "      <td>United-States</td>\n",
              "      <td>&lt;=50K</td>\n",
              "    </tr>\n",
              "    <tr>\n",
              "      <th>1</th>\n",
              "      <td>50</td>\n",
              "      <td>Self-emp-not-inc</td>\n",
              "      <td>Bachelors</td>\n",
              "      <td>13</td>\n",
              "      <td>Married-civ-spouse</td>\n",
              "      <td>Exec-managerial</td>\n",
              "      <td>Husband</td>\n",
              "      <td>White</td>\n",
              "      <td>Male</td>\n",
              "      <td>0</td>\n",
              "      <td>0</td>\n",
              "      <td>13</td>\n",
              "      <td>United-States</td>\n",
              "      <td>&lt;=50K</td>\n",
              "    </tr>\n",
              "    <tr>\n",
              "      <th>2</th>\n",
              "      <td>38</td>\n",
              "      <td>Private</td>\n",
              "      <td>HS-grad</td>\n",
              "      <td>9</td>\n",
              "      <td>Divorced</td>\n",
              "      <td>Handlers-cleaners</td>\n",
              "      <td>Not-in-family</td>\n",
              "      <td>White</td>\n",
              "      <td>Male</td>\n",
              "      <td>0</td>\n",
              "      <td>0</td>\n",
              "      <td>40</td>\n",
              "      <td>United-States</td>\n",
              "      <td>&lt;=50K</td>\n",
              "    </tr>\n",
              "    <tr>\n",
              "      <th>3</th>\n",
              "      <td>53</td>\n",
              "      <td>Private</td>\n",
              "      <td>11th</td>\n",
              "      <td>7</td>\n",
              "      <td>Married-civ-spouse</td>\n",
              "      <td>Handlers-cleaners</td>\n",
              "      <td>Husband</td>\n",
              "      <td>Black</td>\n",
              "      <td>Male</td>\n",
              "      <td>0</td>\n",
              "      <td>0</td>\n",
              "      <td>40</td>\n",
              "      <td>United-States</td>\n",
              "      <td>&lt;=50K</td>\n",
              "    </tr>\n",
              "    <tr>\n",
              "      <th>4</th>\n",
              "      <td>28</td>\n",
              "      <td>Private</td>\n",
              "      <td>Bachelors</td>\n",
              "      <td>13</td>\n",
              "      <td>Married-civ-spouse</td>\n",
              "      <td>Prof-specialty</td>\n",
              "      <td>Wife</td>\n",
              "      <td>Black</td>\n",
              "      <td>Female</td>\n",
              "      <td>0</td>\n",
              "      <td>0</td>\n",
              "      <td>40</td>\n",
              "      <td>Cuba</td>\n",
              "      <td>&lt;=50K</td>\n",
              "    </tr>\n",
              "    <tr>\n",
              "      <th>...</th>\n",
              "      <td>...</td>\n",
              "      <td>...</td>\n",
              "      <td>...</td>\n",
              "      <td>...</td>\n",
              "      <td>...</td>\n",
              "      <td>...</td>\n",
              "      <td>...</td>\n",
              "      <td>...</td>\n",
              "      <td>...</td>\n",
              "      <td>...</td>\n",
              "      <td>...</td>\n",
              "      <td>...</td>\n",
              "      <td>...</td>\n",
              "      <td>...</td>\n",
              "    </tr>\n",
              "    <tr>\n",
              "      <th>30156</th>\n",
              "      <td>27</td>\n",
              "      <td>Private</td>\n",
              "      <td>Assoc-acdm</td>\n",
              "      <td>12</td>\n",
              "      <td>Married-civ-spouse</td>\n",
              "      <td>Tech-support</td>\n",
              "      <td>Wife</td>\n",
              "      <td>White</td>\n",
              "      <td>Female</td>\n",
              "      <td>0</td>\n",
              "      <td>0</td>\n",
              "      <td>38</td>\n",
              "      <td>United-States</td>\n",
              "      <td>&lt;=50K</td>\n",
              "    </tr>\n",
              "    <tr>\n",
              "      <th>30157</th>\n",
              "      <td>40</td>\n",
              "      <td>Private</td>\n",
              "      <td>HS-grad</td>\n",
              "      <td>9</td>\n",
              "      <td>Married-civ-spouse</td>\n",
              "      <td>Machine-op-inspct</td>\n",
              "      <td>Husband</td>\n",
              "      <td>White</td>\n",
              "      <td>Male</td>\n",
              "      <td>0</td>\n",
              "      <td>0</td>\n",
              "      <td>40</td>\n",
              "      <td>United-States</td>\n",
              "      <td>&gt;50K</td>\n",
              "    </tr>\n",
              "    <tr>\n",
              "      <th>30158</th>\n",
              "      <td>58</td>\n",
              "      <td>Private</td>\n",
              "      <td>HS-grad</td>\n",
              "      <td>9</td>\n",
              "      <td>Widowed</td>\n",
              "      <td>Adm-clerical</td>\n",
              "      <td>Unmarried</td>\n",
              "      <td>White</td>\n",
              "      <td>Female</td>\n",
              "      <td>0</td>\n",
              "      <td>0</td>\n",
              "      <td>40</td>\n",
              "      <td>United-States</td>\n",
              "      <td>&lt;=50K</td>\n",
              "    </tr>\n",
              "    <tr>\n",
              "      <th>30159</th>\n",
              "      <td>22</td>\n",
              "      <td>Private</td>\n",
              "      <td>HS-grad</td>\n",
              "      <td>9</td>\n",
              "      <td>Never-married</td>\n",
              "      <td>Adm-clerical</td>\n",
              "      <td>Own-child</td>\n",
              "      <td>White</td>\n",
              "      <td>Male</td>\n",
              "      <td>0</td>\n",
              "      <td>0</td>\n",
              "      <td>20</td>\n",
              "      <td>United-States</td>\n",
              "      <td>&lt;=50K</td>\n",
              "    </tr>\n",
              "    <tr>\n",
              "      <th>30160</th>\n",
              "      <td>52</td>\n",
              "      <td>Self-emp-inc</td>\n",
              "      <td>HS-grad</td>\n",
              "      <td>9</td>\n",
              "      <td>Married-civ-spouse</td>\n",
              "      <td>Exec-managerial</td>\n",
              "      <td>Wife</td>\n",
              "      <td>White</td>\n",
              "      <td>Female</td>\n",
              "      <td>15024</td>\n",
              "      <td>0</td>\n",
              "      <td>40</td>\n",
              "      <td>United-States</td>\n",
              "      <td>&gt;50K</td>\n",
              "    </tr>\n",
              "  </tbody>\n",
              "</table>\n",
              "<p>30161 rows × 14 columns</p>\n",
              "</div>\n",
              "    <div class=\"colab-df-buttons\">\n",
              "\n",
              "  <div class=\"colab-df-container\">\n",
              "    <button class=\"colab-df-convert\" onclick=\"convertToInteractive('df-aa1d9704-af49-44af-875a-eed9200f693c')\"\n",
              "            title=\"Convert this dataframe to an interactive table.\"\n",
              "            style=\"display:none;\">\n",
              "\n",
              "  <svg xmlns=\"http://www.w3.org/2000/svg\" height=\"24px\" viewBox=\"0 -960 960 960\">\n",
              "    <path d=\"M120-120v-720h720v720H120Zm60-500h600v-160H180v160Zm220 220h160v-160H400v160Zm0 220h160v-160H400v160ZM180-400h160v-160H180v160Zm440 0h160v-160H620v160ZM180-180h160v-160H180v160Zm440 0h160v-160H620v160Z\"/>\n",
              "  </svg>\n",
              "    </button>\n",
              "\n",
              "  <style>\n",
              "    .colab-df-container {\n",
              "      display:flex;\n",
              "      gap: 12px;\n",
              "    }\n",
              "\n",
              "    .colab-df-convert {\n",
              "      background-color: #E8F0FE;\n",
              "      border: none;\n",
              "      border-radius: 50%;\n",
              "      cursor: pointer;\n",
              "      display: none;\n",
              "      fill: #1967D2;\n",
              "      height: 32px;\n",
              "      padding: 0 0 0 0;\n",
              "      width: 32px;\n",
              "    }\n",
              "\n",
              "    .colab-df-convert:hover {\n",
              "      background-color: #E2EBFA;\n",
              "      box-shadow: 0px 1px 2px rgba(60, 64, 67, 0.3), 0px 1px 3px 1px rgba(60, 64, 67, 0.15);\n",
              "      fill: #174EA6;\n",
              "    }\n",
              "\n",
              "    .colab-df-buttons div {\n",
              "      margin-bottom: 4px;\n",
              "    }\n",
              "\n",
              "    [theme=dark] .colab-df-convert {\n",
              "      background-color: #3B4455;\n",
              "      fill: #D2E3FC;\n",
              "    }\n",
              "\n",
              "    [theme=dark] .colab-df-convert:hover {\n",
              "      background-color: #434B5C;\n",
              "      box-shadow: 0px 1px 3px 1px rgba(0, 0, 0, 0.15);\n",
              "      filter: drop-shadow(0px 1px 2px rgba(0, 0, 0, 0.3));\n",
              "      fill: #FFFFFF;\n",
              "    }\n",
              "  </style>\n",
              "\n",
              "    <script>\n",
              "      const buttonEl =\n",
              "        document.querySelector('#df-aa1d9704-af49-44af-875a-eed9200f693c button.colab-df-convert');\n",
              "      buttonEl.style.display =\n",
              "        google.colab.kernel.accessAllowed ? 'block' : 'none';\n",
              "\n",
              "      async function convertToInteractive(key) {\n",
              "        const element = document.querySelector('#df-aa1d9704-af49-44af-875a-eed9200f693c');\n",
              "        const dataTable =\n",
              "          await google.colab.kernel.invokeFunction('convertToInteractive',\n",
              "                                                    [key], {});\n",
              "        if (!dataTable) return;\n",
              "\n",
              "        const docLinkHtml = 'Like what you see? Visit the ' +\n",
              "          '<a target=\"_blank\" href=https://colab.research.google.com/notebooks/data_table.ipynb>data table notebook</a>'\n",
              "          + ' to learn more about interactive tables.';\n",
              "        element.innerHTML = '';\n",
              "        dataTable['output_type'] = 'display_data';\n",
              "        await google.colab.output.renderOutput(dataTable, element);\n",
              "        const docLink = document.createElement('div');\n",
              "        docLink.innerHTML = docLinkHtml;\n",
              "        element.appendChild(docLink);\n",
              "      }\n",
              "    </script>\n",
              "  </div>\n",
              "\n",
              "\n",
              "<div id=\"df-a6d9098c-2744-42f1-901f-2b5f24af4285\">\n",
              "  <button class=\"colab-df-quickchart\" onclick=\"quickchart('df-a6d9098c-2744-42f1-901f-2b5f24af4285')\"\n",
              "            title=\"Suggest charts.\"\n",
              "            style=\"display:none;\">\n",
              "\n",
              "<svg xmlns=\"http://www.w3.org/2000/svg\" height=\"24px\"viewBox=\"0 0 24 24\"\n",
              "     width=\"24px\">\n",
              "    <g>\n",
              "        <path d=\"M19 3H5c-1.1 0-2 .9-2 2v14c0 1.1.9 2 2 2h14c1.1 0 2-.9 2-2V5c0-1.1-.9-2-2-2zM9 17H7v-7h2v7zm4 0h-2V7h2v10zm4 0h-2v-4h2v4z\"/>\n",
              "    </g>\n",
              "</svg>\n",
              "  </button>\n",
              "\n",
              "<style>\n",
              "  .colab-df-quickchart {\n",
              "      --bg-color: #E8F0FE;\n",
              "      --fill-color: #1967D2;\n",
              "      --hover-bg-color: #E2EBFA;\n",
              "      --hover-fill-color: #174EA6;\n",
              "      --disabled-fill-color: #AAA;\n",
              "      --disabled-bg-color: #DDD;\n",
              "  }\n",
              "\n",
              "  [theme=dark] .colab-df-quickchart {\n",
              "      --bg-color: #3B4455;\n",
              "      --fill-color: #D2E3FC;\n",
              "      --hover-bg-color: #434B5C;\n",
              "      --hover-fill-color: #FFFFFF;\n",
              "      --disabled-bg-color: #3B4455;\n",
              "      --disabled-fill-color: #666;\n",
              "  }\n",
              "\n",
              "  .colab-df-quickchart {\n",
              "    background-color: var(--bg-color);\n",
              "    border: none;\n",
              "    border-radius: 50%;\n",
              "    cursor: pointer;\n",
              "    display: none;\n",
              "    fill: var(--fill-color);\n",
              "    height: 32px;\n",
              "    padding: 0;\n",
              "    width: 32px;\n",
              "  }\n",
              "\n",
              "  .colab-df-quickchart:hover {\n",
              "    background-color: var(--hover-bg-color);\n",
              "    box-shadow: 0 1px 2px rgba(60, 64, 67, 0.3), 0 1px 3px 1px rgba(60, 64, 67, 0.15);\n",
              "    fill: var(--button-hover-fill-color);\n",
              "  }\n",
              "\n",
              "  .colab-df-quickchart-complete:disabled,\n",
              "  .colab-df-quickchart-complete:disabled:hover {\n",
              "    background-color: var(--disabled-bg-color);\n",
              "    fill: var(--disabled-fill-color);\n",
              "    box-shadow: none;\n",
              "  }\n",
              "\n",
              "  .colab-df-spinner {\n",
              "    border: 2px solid var(--fill-color);\n",
              "    border-color: transparent;\n",
              "    border-bottom-color: var(--fill-color);\n",
              "    animation:\n",
              "      spin 1s steps(1) infinite;\n",
              "  }\n",
              "\n",
              "  @keyframes spin {\n",
              "    0% {\n",
              "      border-color: transparent;\n",
              "      border-bottom-color: var(--fill-color);\n",
              "      border-left-color: var(--fill-color);\n",
              "    }\n",
              "    20% {\n",
              "      border-color: transparent;\n",
              "      border-left-color: var(--fill-color);\n",
              "      border-top-color: var(--fill-color);\n",
              "    }\n",
              "    30% {\n",
              "      border-color: transparent;\n",
              "      border-left-color: var(--fill-color);\n",
              "      border-top-color: var(--fill-color);\n",
              "      border-right-color: var(--fill-color);\n",
              "    }\n",
              "    40% {\n",
              "      border-color: transparent;\n",
              "      border-right-color: var(--fill-color);\n",
              "      border-top-color: var(--fill-color);\n",
              "    }\n",
              "    60% {\n",
              "      border-color: transparent;\n",
              "      border-right-color: var(--fill-color);\n",
              "    }\n",
              "    80% {\n",
              "      border-color: transparent;\n",
              "      border-right-color: var(--fill-color);\n",
              "      border-bottom-color: var(--fill-color);\n",
              "    }\n",
              "    90% {\n",
              "      border-color: transparent;\n",
              "      border-bottom-color: var(--fill-color);\n",
              "    }\n",
              "  }\n",
              "</style>\n",
              "\n",
              "  <script>\n",
              "    async function quickchart(key) {\n",
              "      const quickchartButtonEl =\n",
              "        document.querySelector('#' + key + ' button');\n",
              "      quickchartButtonEl.disabled = true;  // To prevent multiple clicks.\n",
              "      quickchartButtonEl.classList.add('colab-df-spinner');\n",
              "      try {\n",
              "        const charts = await google.colab.kernel.invokeFunction(\n",
              "            'suggestCharts', [key], {});\n",
              "      } catch (error) {\n",
              "        console.error('Error during call to suggestCharts:', error);\n",
              "      }\n",
              "      quickchartButtonEl.classList.remove('colab-df-spinner');\n",
              "      quickchartButtonEl.classList.add('colab-df-quickchart-complete');\n",
              "    }\n",
              "    (() => {\n",
              "      let quickchartButtonEl =\n",
              "        document.querySelector('#df-a6d9098c-2744-42f1-901f-2b5f24af4285 button');\n",
              "      quickchartButtonEl.style.display =\n",
              "        google.colab.kernel.accessAllowed ? 'block' : 'none';\n",
              "    })();\n",
              "  </script>\n",
              "</div>\n",
              "    </div>\n",
              "  </div>\n"
            ]
          },
          "metadata": {},
          "execution_count": 4
        }
      ]
    },
    {
      "cell_type": "code",
      "source": [
        "data_test=pd.read_csv('SalaryData_Test(1)(1).csv')\n",
        "data_test"
      ],
      "metadata": {
        "colab": {
          "base_uri": "https://localhost:8080/",
          "height": 635
        },
        "id": "88ukgxXa1Fjm",
        "outputId": "9b65ad3c-cb05-420f-edbb-75d5516dae92"
      },
      "execution_count": 20,
      "outputs": [
        {
          "output_type": "execute_result",
          "data": {
            "text/plain": [
              "       age      workclass      education  educationno        maritalstatus  \\\n",
              "0       25        Private           11th            7        Never-married   \n",
              "1       38        Private        HS-grad            9   Married-civ-spouse   \n",
              "2       28      Local-gov     Assoc-acdm           12   Married-civ-spouse   \n",
              "3       44        Private   Some-college           10   Married-civ-spouse   \n",
              "4       34        Private           10th            6        Never-married   \n",
              "...    ...            ...            ...          ...                  ...   \n",
              "15055   33        Private      Bachelors           13        Never-married   \n",
              "15056   39        Private      Bachelors           13             Divorced   \n",
              "15057   38        Private      Bachelors           13   Married-civ-spouse   \n",
              "15058   44        Private      Bachelors           13             Divorced   \n",
              "15059   35   Self-emp-inc      Bachelors           13   Married-civ-spouse   \n",
              "\n",
              "               occupation    relationship                 race      sex  \\\n",
              "0       Machine-op-inspct       Own-child                Black     Male   \n",
              "1         Farming-fishing         Husband                White     Male   \n",
              "2         Protective-serv         Husband                White     Male   \n",
              "3       Machine-op-inspct         Husband                Black     Male   \n",
              "4           Other-service   Not-in-family                White     Male   \n",
              "...                   ...             ...                  ...      ...   \n",
              "15055      Prof-specialty       Own-child                White     Male   \n",
              "15056      Prof-specialty   Not-in-family                White   Female   \n",
              "15057      Prof-specialty         Husband                White     Male   \n",
              "15058        Adm-clerical       Own-child   Asian-Pac-Islander     Male   \n",
              "15059     Exec-managerial         Husband                White     Male   \n",
              "\n",
              "       capitalgain  capitalloss  hoursperweek          native  Salary  \n",
              "0                0            0            40   United-States   <=50K  \n",
              "1                0            0            50   United-States   <=50K  \n",
              "2                0            0            40   United-States    >50K  \n",
              "3             7688            0            40   United-States    >50K  \n",
              "4                0            0            30   United-States   <=50K  \n",
              "...            ...          ...           ...             ...     ...  \n",
              "15055            0            0            40   United-States   <=50K  \n",
              "15056            0            0            36   United-States   <=50K  \n",
              "15057            0            0            50   United-States   <=50K  \n",
              "15058         5455            0            40   United-States   <=50K  \n",
              "15059            0            0            60   United-States    >50K  \n",
              "\n",
              "[15060 rows x 14 columns]"
            ],
            "text/html": [
              "\n",
              "  <div id=\"df-d684f8ca-be19-4e6e-8d74-33200536810b\" class=\"colab-df-container\">\n",
              "    <div>\n",
              "<style scoped>\n",
              "    .dataframe tbody tr th:only-of-type {\n",
              "        vertical-align: middle;\n",
              "    }\n",
              "\n",
              "    .dataframe tbody tr th {\n",
              "        vertical-align: top;\n",
              "    }\n",
              "\n",
              "    .dataframe thead th {\n",
              "        text-align: right;\n",
              "    }\n",
              "</style>\n",
              "<table border=\"1\" class=\"dataframe\">\n",
              "  <thead>\n",
              "    <tr style=\"text-align: right;\">\n",
              "      <th></th>\n",
              "      <th>age</th>\n",
              "      <th>workclass</th>\n",
              "      <th>education</th>\n",
              "      <th>educationno</th>\n",
              "      <th>maritalstatus</th>\n",
              "      <th>occupation</th>\n",
              "      <th>relationship</th>\n",
              "      <th>race</th>\n",
              "      <th>sex</th>\n",
              "      <th>capitalgain</th>\n",
              "      <th>capitalloss</th>\n",
              "      <th>hoursperweek</th>\n",
              "      <th>native</th>\n",
              "      <th>Salary</th>\n",
              "    </tr>\n",
              "  </thead>\n",
              "  <tbody>\n",
              "    <tr>\n",
              "      <th>0</th>\n",
              "      <td>25</td>\n",
              "      <td>Private</td>\n",
              "      <td>11th</td>\n",
              "      <td>7</td>\n",
              "      <td>Never-married</td>\n",
              "      <td>Machine-op-inspct</td>\n",
              "      <td>Own-child</td>\n",
              "      <td>Black</td>\n",
              "      <td>Male</td>\n",
              "      <td>0</td>\n",
              "      <td>0</td>\n",
              "      <td>40</td>\n",
              "      <td>United-States</td>\n",
              "      <td>&lt;=50K</td>\n",
              "    </tr>\n",
              "    <tr>\n",
              "      <th>1</th>\n",
              "      <td>38</td>\n",
              "      <td>Private</td>\n",
              "      <td>HS-grad</td>\n",
              "      <td>9</td>\n",
              "      <td>Married-civ-spouse</td>\n",
              "      <td>Farming-fishing</td>\n",
              "      <td>Husband</td>\n",
              "      <td>White</td>\n",
              "      <td>Male</td>\n",
              "      <td>0</td>\n",
              "      <td>0</td>\n",
              "      <td>50</td>\n",
              "      <td>United-States</td>\n",
              "      <td>&lt;=50K</td>\n",
              "    </tr>\n",
              "    <tr>\n",
              "      <th>2</th>\n",
              "      <td>28</td>\n",
              "      <td>Local-gov</td>\n",
              "      <td>Assoc-acdm</td>\n",
              "      <td>12</td>\n",
              "      <td>Married-civ-spouse</td>\n",
              "      <td>Protective-serv</td>\n",
              "      <td>Husband</td>\n",
              "      <td>White</td>\n",
              "      <td>Male</td>\n",
              "      <td>0</td>\n",
              "      <td>0</td>\n",
              "      <td>40</td>\n",
              "      <td>United-States</td>\n",
              "      <td>&gt;50K</td>\n",
              "    </tr>\n",
              "    <tr>\n",
              "      <th>3</th>\n",
              "      <td>44</td>\n",
              "      <td>Private</td>\n",
              "      <td>Some-college</td>\n",
              "      <td>10</td>\n",
              "      <td>Married-civ-spouse</td>\n",
              "      <td>Machine-op-inspct</td>\n",
              "      <td>Husband</td>\n",
              "      <td>Black</td>\n",
              "      <td>Male</td>\n",
              "      <td>7688</td>\n",
              "      <td>0</td>\n",
              "      <td>40</td>\n",
              "      <td>United-States</td>\n",
              "      <td>&gt;50K</td>\n",
              "    </tr>\n",
              "    <tr>\n",
              "      <th>4</th>\n",
              "      <td>34</td>\n",
              "      <td>Private</td>\n",
              "      <td>10th</td>\n",
              "      <td>6</td>\n",
              "      <td>Never-married</td>\n",
              "      <td>Other-service</td>\n",
              "      <td>Not-in-family</td>\n",
              "      <td>White</td>\n",
              "      <td>Male</td>\n",
              "      <td>0</td>\n",
              "      <td>0</td>\n",
              "      <td>30</td>\n",
              "      <td>United-States</td>\n",
              "      <td>&lt;=50K</td>\n",
              "    </tr>\n",
              "    <tr>\n",
              "      <th>...</th>\n",
              "      <td>...</td>\n",
              "      <td>...</td>\n",
              "      <td>...</td>\n",
              "      <td>...</td>\n",
              "      <td>...</td>\n",
              "      <td>...</td>\n",
              "      <td>...</td>\n",
              "      <td>...</td>\n",
              "      <td>...</td>\n",
              "      <td>...</td>\n",
              "      <td>...</td>\n",
              "      <td>...</td>\n",
              "      <td>...</td>\n",
              "      <td>...</td>\n",
              "    </tr>\n",
              "    <tr>\n",
              "      <th>15055</th>\n",
              "      <td>33</td>\n",
              "      <td>Private</td>\n",
              "      <td>Bachelors</td>\n",
              "      <td>13</td>\n",
              "      <td>Never-married</td>\n",
              "      <td>Prof-specialty</td>\n",
              "      <td>Own-child</td>\n",
              "      <td>White</td>\n",
              "      <td>Male</td>\n",
              "      <td>0</td>\n",
              "      <td>0</td>\n",
              "      <td>40</td>\n",
              "      <td>United-States</td>\n",
              "      <td>&lt;=50K</td>\n",
              "    </tr>\n",
              "    <tr>\n",
              "      <th>15056</th>\n",
              "      <td>39</td>\n",
              "      <td>Private</td>\n",
              "      <td>Bachelors</td>\n",
              "      <td>13</td>\n",
              "      <td>Divorced</td>\n",
              "      <td>Prof-specialty</td>\n",
              "      <td>Not-in-family</td>\n",
              "      <td>White</td>\n",
              "      <td>Female</td>\n",
              "      <td>0</td>\n",
              "      <td>0</td>\n",
              "      <td>36</td>\n",
              "      <td>United-States</td>\n",
              "      <td>&lt;=50K</td>\n",
              "    </tr>\n",
              "    <tr>\n",
              "      <th>15057</th>\n",
              "      <td>38</td>\n",
              "      <td>Private</td>\n",
              "      <td>Bachelors</td>\n",
              "      <td>13</td>\n",
              "      <td>Married-civ-spouse</td>\n",
              "      <td>Prof-specialty</td>\n",
              "      <td>Husband</td>\n",
              "      <td>White</td>\n",
              "      <td>Male</td>\n",
              "      <td>0</td>\n",
              "      <td>0</td>\n",
              "      <td>50</td>\n",
              "      <td>United-States</td>\n",
              "      <td>&lt;=50K</td>\n",
              "    </tr>\n",
              "    <tr>\n",
              "      <th>15058</th>\n",
              "      <td>44</td>\n",
              "      <td>Private</td>\n",
              "      <td>Bachelors</td>\n",
              "      <td>13</td>\n",
              "      <td>Divorced</td>\n",
              "      <td>Adm-clerical</td>\n",
              "      <td>Own-child</td>\n",
              "      <td>Asian-Pac-Islander</td>\n",
              "      <td>Male</td>\n",
              "      <td>5455</td>\n",
              "      <td>0</td>\n",
              "      <td>40</td>\n",
              "      <td>United-States</td>\n",
              "      <td>&lt;=50K</td>\n",
              "    </tr>\n",
              "    <tr>\n",
              "      <th>15059</th>\n",
              "      <td>35</td>\n",
              "      <td>Self-emp-inc</td>\n",
              "      <td>Bachelors</td>\n",
              "      <td>13</td>\n",
              "      <td>Married-civ-spouse</td>\n",
              "      <td>Exec-managerial</td>\n",
              "      <td>Husband</td>\n",
              "      <td>White</td>\n",
              "      <td>Male</td>\n",
              "      <td>0</td>\n",
              "      <td>0</td>\n",
              "      <td>60</td>\n",
              "      <td>United-States</td>\n",
              "      <td>&gt;50K</td>\n",
              "    </tr>\n",
              "  </tbody>\n",
              "</table>\n",
              "<p>15060 rows × 14 columns</p>\n",
              "</div>\n",
              "    <div class=\"colab-df-buttons\">\n",
              "\n",
              "  <div class=\"colab-df-container\">\n",
              "    <button class=\"colab-df-convert\" onclick=\"convertToInteractive('df-d684f8ca-be19-4e6e-8d74-33200536810b')\"\n",
              "            title=\"Convert this dataframe to an interactive table.\"\n",
              "            style=\"display:none;\">\n",
              "\n",
              "  <svg xmlns=\"http://www.w3.org/2000/svg\" height=\"24px\" viewBox=\"0 -960 960 960\">\n",
              "    <path d=\"M120-120v-720h720v720H120Zm60-500h600v-160H180v160Zm220 220h160v-160H400v160Zm0 220h160v-160H400v160ZM180-400h160v-160H180v160Zm440 0h160v-160H620v160ZM180-180h160v-160H180v160Zm440 0h160v-160H620v160Z\"/>\n",
              "  </svg>\n",
              "    </button>\n",
              "\n",
              "  <style>\n",
              "    .colab-df-container {\n",
              "      display:flex;\n",
              "      gap: 12px;\n",
              "    }\n",
              "\n",
              "    .colab-df-convert {\n",
              "      background-color: #E8F0FE;\n",
              "      border: none;\n",
              "      border-radius: 50%;\n",
              "      cursor: pointer;\n",
              "      display: none;\n",
              "      fill: #1967D2;\n",
              "      height: 32px;\n",
              "      padding: 0 0 0 0;\n",
              "      width: 32px;\n",
              "    }\n",
              "\n",
              "    .colab-df-convert:hover {\n",
              "      background-color: #E2EBFA;\n",
              "      box-shadow: 0px 1px 2px rgba(60, 64, 67, 0.3), 0px 1px 3px 1px rgba(60, 64, 67, 0.15);\n",
              "      fill: #174EA6;\n",
              "    }\n",
              "\n",
              "    .colab-df-buttons div {\n",
              "      margin-bottom: 4px;\n",
              "    }\n",
              "\n",
              "    [theme=dark] .colab-df-convert {\n",
              "      background-color: #3B4455;\n",
              "      fill: #D2E3FC;\n",
              "    }\n",
              "\n",
              "    [theme=dark] .colab-df-convert:hover {\n",
              "      background-color: #434B5C;\n",
              "      box-shadow: 0px 1px 3px 1px rgba(0, 0, 0, 0.15);\n",
              "      filter: drop-shadow(0px 1px 2px rgba(0, 0, 0, 0.3));\n",
              "      fill: #FFFFFF;\n",
              "    }\n",
              "  </style>\n",
              "\n",
              "    <script>\n",
              "      const buttonEl =\n",
              "        document.querySelector('#df-d684f8ca-be19-4e6e-8d74-33200536810b button.colab-df-convert');\n",
              "      buttonEl.style.display =\n",
              "        google.colab.kernel.accessAllowed ? 'block' : 'none';\n",
              "\n",
              "      async function convertToInteractive(key) {\n",
              "        const element = document.querySelector('#df-d684f8ca-be19-4e6e-8d74-33200536810b');\n",
              "        const dataTable =\n",
              "          await google.colab.kernel.invokeFunction('convertToInteractive',\n",
              "                                                    [key], {});\n",
              "        if (!dataTable) return;\n",
              "\n",
              "        const docLinkHtml = 'Like what you see? Visit the ' +\n",
              "          '<a target=\"_blank\" href=https://colab.research.google.com/notebooks/data_table.ipynb>data table notebook</a>'\n",
              "          + ' to learn more about interactive tables.';\n",
              "        element.innerHTML = '';\n",
              "        dataTable['output_type'] = 'display_data';\n",
              "        await google.colab.output.renderOutput(dataTable, element);\n",
              "        const docLink = document.createElement('div');\n",
              "        docLink.innerHTML = docLinkHtml;\n",
              "        element.appendChild(docLink);\n",
              "      }\n",
              "    </script>\n",
              "  </div>\n",
              "\n",
              "\n",
              "<div id=\"df-60a90d3a-4cd7-4a78-bef3-eed16ec32f16\">\n",
              "  <button class=\"colab-df-quickchart\" onclick=\"quickchart('df-60a90d3a-4cd7-4a78-bef3-eed16ec32f16')\"\n",
              "            title=\"Suggest charts.\"\n",
              "            style=\"display:none;\">\n",
              "\n",
              "<svg xmlns=\"http://www.w3.org/2000/svg\" height=\"24px\"viewBox=\"0 0 24 24\"\n",
              "     width=\"24px\">\n",
              "    <g>\n",
              "        <path d=\"M19 3H5c-1.1 0-2 .9-2 2v14c0 1.1.9 2 2 2h14c1.1 0 2-.9 2-2V5c0-1.1-.9-2-2-2zM9 17H7v-7h2v7zm4 0h-2V7h2v10zm4 0h-2v-4h2v4z\"/>\n",
              "    </g>\n",
              "</svg>\n",
              "  </button>\n",
              "\n",
              "<style>\n",
              "  .colab-df-quickchart {\n",
              "      --bg-color: #E8F0FE;\n",
              "      --fill-color: #1967D2;\n",
              "      --hover-bg-color: #E2EBFA;\n",
              "      --hover-fill-color: #174EA6;\n",
              "      --disabled-fill-color: #AAA;\n",
              "      --disabled-bg-color: #DDD;\n",
              "  }\n",
              "\n",
              "  [theme=dark] .colab-df-quickchart {\n",
              "      --bg-color: #3B4455;\n",
              "      --fill-color: #D2E3FC;\n",
              "      --hover-bg-color: #434B5C;\n",
              "      --hover-fill-color: #FFFFFF;\n",
              "      --disabled-bg-color: #3B4455;\n",
              "      --disabled-fill-color: #666;\n",
              "  }\n",
              "\n",
              "  .colab-df-quickchart {\n",
              "    background-color: var(--bg-color);\n",
              "    border: none;\n",
              "    border-radius: 50%;\n",
              "    cursor: pointer;\n",
              "    display: none;\n",
              "    fill: var(--fill-color);\n",
              "    height: 32px;\n",
              "    padding: 0;\n",
              "    width: 32px;\n",
              "  }\n",
              "\n",
              "  .colab-df-quickchart:hover {\n",
              "    background-color: var(--hover-bg-color);\n",
              "    box-shadow: 0 1px 2px rgba(60, 64, 67, 0.3), 0 1px 3px 1px rgba(60, 64, 67, 0.15);\n",
              "    fill: var(--button-hover-fill-color);\n",
              "  }\n",
              "\n",
              "  .colab-df-quickchart-complete:disabled,\n",
              "  .colab-df-quickchart-complete:disabled:hover {\n",
              "    background-color: var(--disabled-bg-color);\n",
              "    fill: var(--disabled-fill-color);\n",
              "    box-shadow: none;\n",
              "  }\n",
              "\n",
              "  .colab-df-spinner {\n",
              "    border: 2px solid var(--fill-color);\n",
              "    border-color: transparent;\n",
              "    border-bottom-color: var(--fill-color);\n",
              "    animation:\n",
              "      spin 1s steps(1) infinite;\n",
              "  }\n",
              "\n",
              "  @keyframes spin {\n",
              "    0% {\n",
              "      border-color: transparent;\n",
              "      border-bottom-color: var(--fill-color);\n",
              "      border-left-color: var(--fill-color);\n",
              "    }\n",
              "    20% {\n",
              "      border-color: transparent;\n",
              "      border-left-color: var(--fill-color);\n",
              "      border-top-color: var(--fill-color);\n",
              "    }\n",
              "    30% {\n",
              "      border-color: transparent;\n",
              "      border-left-color: var(--fill-color);\n",
              "      border-top-color: var(--fill-color);\n",
              "      border-right-color: var(--fill-color);\n",
              "    }\n",
              "    40% {\n",
              "      border-color: transparent;\n",
              "      border-right-color: var(--fill-color);\n",
              "      border-top-color: var(--fill-color);\n",
              "    }\n",
              "    60% {\n",
              "      border-color: transparent;\n",
              "      border-right-color: var(--fill-color);\n",
              "    }\n",
              "    80% {\n",
              "      border-color: transparent;\n",
              "      border-right-color: var(--fill-color);\n",
              "      border-bottom-color: var(--fill-color);\n",
              "    }\n",
              "    90% {\n",
              "      border-color: transparent;\n",
              "      border-bottom-color: var(--fill-color);\n",
              "    }\n",
              "  }\n",
              "</style>\n",
              "\n",
              "  <script>\n",
              "    async function quickchart(key) {\n",
              "      const quickchartButtonEl =\n",
              "        document.querySelector('#' + key + ' button');\n",
              "      quickchartButtonEl.disabled = true;  // To prevent multiple clicks.\n",
              "      quickchartButtonEl.classList.add('colab-df-spinner');\n",
              "      try {\n",
              "        const charts = await google.colab.kernel.invokeFunction(\n",
              "            'suggestCharts', [key], {});\n",
              "      } catch (error) {\n",
              "        console.error('Error during call to suggestCharts:', error);\n",
              "      }\n",
              "      quickchartButtonEl.classList.remove('colab-df-spinner');\n",
              "      quickchartButtonEl.classList.add('colab-df-quickchart-complete');\n",
              "    }\n",
              "    (() => {\n",
              "      let quickchartButtonEl =\n",
              "        document.querySelector('#df-60a90d3a-4cd7-4a78-bef3-eed16ec32f16 button');\n",
              "      quickchartButtonEl.style.display =\n",
              "        google.colab.kernel.accessAllowed ? 'block' : 'none';\n",
              "    })();\n",
              "  </script>\n",
              "</div>\n",
              "    </div>\n",
              "  </div>\n"
            ]
          },
          "metadata": {},
          "execution_count": 20
        }
      ]
    },
    {
      "cell_type": "code",
      "source": [
        "data_train.columns"
      ],
      "metadata": {
        "colab": {
          "base_uri": "https://localhost:8080/"
        },
        "id": "eZzRbEaf1MXI",
        "outputId": "ba795642-4421-4549-c594-6310681031c2"
      },
      "execution_count": 21,
      "outputs": [
        {
          "output_type": "execute_result",
          "data": {
            "text/plain": [
              "Index(['age', 'workclass', 'education', 'educationno', 'maritalstatus',\n",
              "       'occupation', 'relationship', 'race', 'sex', 'capitalgain',\n",
              "       'capitalloss', 'hoursperweek', 'native', 'Salary'],\n",
              "      dtype='object')"
            ]
          },
          "metadata": {},
          "execution_count": 21
        }
      ]
    },
    {
      "cell_type": "code",
      "source": [
        "data_train.nunique()"
      ],
      "metadata": {
        "colab": {
          "base_uri": "https://localhost:8080/"
        },
        "id": "kY2dE-ZY1OFY",
        "outputId": "b893f5ab-0956-4f02-b650-a0689ee78681"
      },
      "execution_count": 22,
      "outputs": [
        {
          "output_type": "execute_result",
          "data": {
            "text/plain": [
              "age               73\n",
              "workclass          7\n",
              "education         16\n",
              "educationno       16\n",
              "maritalstatus      7\n",
              "occupation        14\n",
              "relationship       6\n",
              "race               5\n",
              "sex                2\n",
              "capitalgain      110\n",
              "capitalloss       79\n",
              "hoursperweek      89\n",
              "native            40\n",
              "Salary             2\n",
              "dtype: int64"
            ]
          },
          "metadata": {},
          "execution_count": 22
        }
      ]
    },
    {
      "cell_type": "code",
      "source": [
        "columns=['workclass', 'education','maritalstatus', 'occupation', 'relationship', 'race', 'sex','Salary']\n",
        "for i in columns:\n",
        "  print(i,\"-\",'\\t')\n",
        "  print(data_train[i].value_counts())"
      ],
      "metadata": {
        "colab": {
          "base_uri": "https://localhost:8080/"
        },
        "id": "xdnIQyi41Pco",
        "outputId": "1be24442-837a-4697-cdeb-524484c13dff"
      },
      "execution_count": 23,
      "outputs": [
        {
          "output_type": "stream",
          "name": "stdout",
          "text": [
            "workclass - \t\n",
            "2    11021\n",
            "4     1297\n",
            "1     1033\n",
            "5      667\n",
            "3      572\n",
            "0      463\n",
            "6        7\n",
            "Name: workclass, dtype: int64\n",
            "education - \t\n",
            "11    4943\n",
            "15    3221\n",
            "9     2526\n",
            "12     887\n",
            "8      652\n",
            "1      571\n",
            "7      499\n",
            "0      403\n",
            "5      266\n",
            "14     243\n",
            "6      221\n",
            "2      200\n",
            "10     169\n",
            "4      161\n",
            "3       71\n",
            "13      27\n",
            "Name: education, dtype: int64\n",
            "maritalstatus - \t\n",
            "2    6990\n",
            "4    4872\n",
            "0    2083\n",
            "5     472\n",
            "6     450\n",
            "3     182\n",
            "1      11\n",
            "Name: maritalstatus, dtype: int64\n",
            "occupation - \t\n",
            "3     1992\n",
            "2     1990\n",
            "9     1970\n",
            "11    1824\n",
            "0     1819\n",
            "7     1596\n",
            "6     1004\n",
            "13     744\n",
            "5      696\n",
            "12     508\n",
            "4      491\n",
            "10     332\n",
            "8       89\n",
            "1        5\n",
            "Name: occupation, dtype: int64\n",
            "relationship - \t\n",
            "0    6203\n",
            "1    3976\n",
            "3    2160\n",
            "4    1576\n",
            "5     685\n",
            "2     460\n",
            "Name: relationship, dtype: int64\n",
            "race - \t\n",
            "4    12970\n",
            "2     1411\n",
            "1      408\n",
            "0      149\n",
            "3      122\n",
            "Name: race, dtype: int64\n",
            "sex - \t\n",
            "1    10147\n",
            "0     4913\n",
            "Name: sex, dtype: int64\n",
            "Salary - \t\n",
            "0    11360\n",
            "1     3700\n",
            "Name: Salary, dtype: int64\n"
          ]
        }
      ]
    },
    {
      "cell_type": "markdown",
      "source": [
        "##**VISUALIZATION**"
      ],
      "metadata": {
        "id": "6ExFAYEK1UJh"
      }
    },
    {
      "cell_type": "code",
      "source": [
        "sns.countplot(x=data_train['Salary'])"
      ],
      "metadata": {
        "colab": {
          "base_uri": "https://localhost:8080/",
          "height": 390
        },
        "id": "PZj6O6Ph1WCE",
        "outputId": "ad2a7a9a-e67b-4c77-e180-71fc38d3cd8f"
      },
      "execution_count": 24,
      "outputs": [
        {
          "output_type": "execute_result",
          "data": {
            "text/plain": [
              "<Axes: xlabel='Salary', ylabel='count'>"
            ]
          },
          "metadata": {},
          "execution_count": 24
        },
        {
          "output_type": "display_data",
          "data": {
            "text/plain": [
              "<Figure size 1500x800 with 1 Axes>"
            ],
            "image/png": "[encoded data removed]"
          },
          "metadata": {}
        }
      ]
    },
    {
      "cell_type": "code",
      "source": [
        "le=LabelEncoder()\n",
        "data_train['Salary']=le.fit_transform(data_train['Salary'])"
      ],
      "metadata": {
        "id": "ryin5I3e1Sbe"
      },
      "execution_count": 25,
      "outputs": []
    },
    {
      "cell_type": "code",
      "source": [
        "columns=['workclass', 'education','maritalstatus', 'occupation', 'relationship', 'race', 'sex','Salary']\n",
        "sns.set({'figure.figsize':(15,8)})\n",
        "for i in columns:\n",
        "  plt.figure()\n",
        "  print(i)\n",
        "  print(sns.countplot(x=i,data=data_train))"
      ],
      "metadata": {
        "colab": {
          "base_uri": "https://localhost:8080/",
          "height": 1000
        },
        "id": "tqCtsk_41a-p",
        "outputId": "2d869d4a-3d3f-4c2d-e904-ef8a7e72d5d3"
      },
      "execution_count": 26,
      "outputs": [
        {
          "output_type": "stream",
          "name": "stdout",
          "text": [
            "workclass\n",
            "Axes(0.125,0.11;0.775x0.77)\n",
            "education\n",
            "Axes(0.125,0.11;0.775x0.77)\n",
            "maritalstatus\n",
            "Axes(0.125,0.11;0.775x0.77)\n",
            "occupation\n",
            "Axes(0.125,0.11;0.775x0.77)\n",
            "relationship\n",
            "Axes(0.125,0.11;0.775x0.77)\n",
            "race\n",
            "Axes(0.125,0.11;0.775x0.77)\n",
            "sex\n",
            "Axes(0.125,0.11;0.775x0.77)\n",
            "Salary\n",
            "Axes(0.125,0.11;0.775x0.77)\n"
          ]
        },
        {
          "output_type": "display_data",
          "data": {
            "text/plain": [
              "<Figure size 1500x800 with 1 Axes>"
            ],
            "image/png": "[encoded data removed]"
          },
          "metadata": {}
        },
        {
          "output_type": "display_data",
          "data": {
            "text/plain": [
              "<Figure size 1500x800 with 1 Axes>"
            ],
            "image/png": "[encoded data removed]"
          },
          "metadata": {}
        },
        {
          "output_type": "display_data",
          "data": {
            "text/plain": [
              "<Figure size 1500x800 with 1 Axes>"
            ],
            "image/png": "[encoded data removed]"
          },
          "metadata": {}
        },
        {
          "output_type": "display_data",
          "data": {
            "text/plain": [
              "<Figure size 1500x800 with 1 Axes>"
            ],
            "image/png": "[encoded data removed]"
          },
          "metadata": {}
        },
        {
          "output_type": "display_data",
          "data": {
            "text/plain": [
              "<Figure size 1500x800 with 1 Axes>"
            ],
            "image/png": "[encoded data removed]"
          },
          "metadata": {}
        },
        {
          "output_type": "display_data",
          "data": {
            "text/plain": [
              "<Figure size 1500x800 with 1 Axes>"
            ],
            "image/png": "[encoded data removed]"
          },
          "metadata": {}
        },
        {
          "output_type": "display_data",
          "data": {
            "text/plain": [
              "<Figure size 1500x800 with 1 Axes>"
            ],
            "image/png": "[encoded data removed]"
          },
          "metadata": {}
        },
        {
          "output_type": "display_data",
          "data": {
            "text/plain": [
              "<Figure size 1500x800 with 1 Axes>"
            ],
            "image/png": "[encoded data removed]"
          },
          "metadata": {}
        }
      ]
    },
    {
      "cell_type": "code",
      "source": [
        "fig=px.pie(data_train,values='Salary',names='sex',hover_data=['Salary','sex'],labels={'Salary','sex'})\n",
        "fig.show()"
      ],
      "metadata": {
        "colab": {
          "base_uri": "https://localhost:8080/",
          "height": 542
        },
        "id": "NfK1LEEK1cmh",
        "outputId": "713301bf-1c55-4332-cb69-2bdafae2841f"
      },
      "execution_count": 27,
      "outputs": [
        {
          "output_type": "display_data",
          "data": {
            "text/html": [
              "<html>\n",
              "<head><meta charset=\"utf-8\" /></head>\n",
              "<body>\n",
              "    <div>            <script src=\"https://cdnjs.cloudflare.com/ajax/libs/mathjax/2.7.5/MathJax.js?config=TeX-AMS-MML_SVG\"></script><script type=\"text/javascript\">if (window.MathJax && window.MathJax.Hub && window.MathJax.Hub.Config) {window.MathJax.Hub.Config({SVG: {font: \"STIX-Web\"}});}</script>                <script type=\"text/javascript\">window.PlotlyConfig = {MathJaxConfig: 'local'};</script>\n",
              "        <script charset=\"utf-8\" src=\"https://cdn.plot.ly/plotly-2.24.1.min.js\"></script>                <div id=\"275fcc24-0f38-4291-bef1-ce8f01d1588c\" class=\"plotly-graph-div\" style=\"height:525px; width:100%;\"></div>            <script type=\"text/javascript\">                                    window.PLOTLYENV=window.PLOTLYENV || {};                                    if (document.getElementById(\"275fcc24-0f38-4291-bef1-ce8f01d1588c\")) {                    Plotly.newPlot(                        \"275fcc24-0f38-4291-bef1-ce8f01d1588c\",                        [{\"customdata\":[[0,1],[0,1],[1,1],[1,1],[0,1],[1,1],[0,0],[0,1],[1,1],[0,1],[0,0],[1,1],[1,1],[0,1],[0,0],[0,0],[1,1],[0,0],[0,1],[0,1],[1,1],[0,1],[0,1],[0,1],[0,1],[1,1],[0,0],[0,1],[0,1],[0,0],[1,1],[0,1],[0,1],[0,1],[1,1],[1,1],[0,1],[0,1],[0,1],[1,0],[0,1],[0,1],[0,0],[0,0],[0,1],[0,1],[0,0],[1,1],[0,1],[0,0],[0,1],[1,1],[1,1],[0,1],[0,0],[0,1],[0,0],[0,0],[0,0],[1,1],[0,1],[0,1],[0,1],[1,1],[0,1],[0,1],[0,0],[0,1],[0,1],[0,1],[0,1],[0,0],[0,1],[0,1],[0,1],[0,1],[0,0],[0,0],[1,1],[0,1],[0,0],[0,1],[1,0],[0,1],[0,1],[0,1],[0,0],[0,1],[1,1],[0,0],[0,0],[0,1],[0,0],[0,0],[0,0],[0,1],[0,1],[0,1],[0,0],[0,0],[0,1],[1,1],[0,1],[0,1],[0,1],[0,0],[0,0],[1,0],[0,0],[0,0],[0,1],[0,0],[0,0],[0,0],[1,0],[0,1],[1,1],[1,1],[0,1],[0,0],[1,1],[0,1],[0,0],[1,1],[0,1],[0,0],[0,1],[0,1],[0,0],[1,1],[1,1],[0,0],[0,0],[0,0],[1,1],[1,1],[0,1],[0,1],[0,0],[0,1],[0,1],[1,1],[0,0],[0,1],[0,1],[0,0],[0,1],[0,1],[0,1],[0,1],[0,1],[1,1],[1,1],[1,1],[0,1],[0,1],[0,1],[1,1],[0,1],[0,0],[0,1],[0,0],[1,1],[0,1],[0,1],[1,1],[1,1],[0,1],[1,1],[0,0],[0,0],[0,1],[0,1],[0,0],[1,1],[1,1],[0,0],[0,0],[0,0],[0,1],[1,0],[0,0],[1,1],[1,1],[0,1],[0,1],[0,0],[1,1],[0,1],[0,1],[0,1],[1,0],[1,1],[0,1],[0,0],[0,0],[0,1],[0,0],[0,1],[0,1],[0,1],[0,1],[0,0],[0,1],[0,0],[0,1],[1,1],[1,1],[0,1],[1,1],[0,1],[0,1],[0,1],[0,0],[1,1],[0,1],[0,0],[0,1],[0,0],[0,0],[0,1],[0,0],[0,1],[0,0],[0,1],[0,0],[0,1],[0,0],[1,1],[0,1],[0,1],[0,1],[1,1],[0,1],[0,1],[0,1],[0,0],[0,1],[0,1],[0,0],[0,1],[0,0],[0,0],[0,0],[1,1],[0,1],[0,0],[0,1],[1,1],[1,0],[0,1],[0,0],[0,1],[0,1],[1,1],[0,1],[1,1],[1,1],[0,0],[0,0],[0,1],[0,0],[0,1],[1,1],[0,1],[0,1],[1,1],[0,1],[0,1],[0,0],[0,1],[0,1],[1,1],[0,1],[1,1],[0,1],[1,1],[0,1],[0,0],[0,0],[0,1],[0,0],[0,1],[1,1],[0,1],[1,1],[0,1],[0,1],[1,0],[0,0],[1,1],[0,0],[1,1],[1,1],[0,1],[0,1],[0,1],[0,1],[0,1],[0,1],[0,0],[0,1],[1,1],[0,1],[1,1],[0,0],[1,1],[0,0],[0,0],[0,0],[0,1],[0,0],[1,1],[0,1],[0,1],[1,1],[1,1],[1,0],[1,0],[1,1],[0,0],[0,1],[0,1],[0,0],[1,0],[1,1],[1,1],[0,1],[1,1],[0,1],[0,0],[0,1],[0,1],[0,1],[0,0],[1,1],[1,1],[0,1],[1,1],[0,0],[0,0],[0,1],[0,1],[0,1],[0,1],[0,1],[1,1],[0,0],[0,0],[0,1],[1,1],[0,0],[1,0],[0,0],[1,1],[0,1],[0,0],[0,0],[0,0],[1,1],[1,0],[0,1],[0,0],[0,0],[0,1],[1,1],[0,1],[0,1],[0,0],[0,0],[0,0],[0,1],[0,1],[0,0],[0,1],[0,0],[1,0],[0,0],[1,0],[0,1],[0,1],[1,1],[0,1],[0,1],[1,1],[0,1],[0,0],[0,1],[0,1],[0,0],[1,1],[0,0],[0,0],[0,0],[0,1],[0,1],[1,0],[0,0],[0,1],[1,1],[0,1],[1,1],[0,1],[0,1],[0,0],[0,1],[0,0],[1,1],[0,1],[0,1],[0,1],[0,1],[0,1],[0,1],[1,1],[0,1],[0,0],[0,1],[0,1],[1,1],[0,0],[0,1],[0,0],[0,1],[0,1],[0,1],[0,1],[0,1],[1,1],[0,1],[0,1],[0,1],[0,1],[1,1],[0,1],[0,0],[0,1],[0,1],[0,0],[0,0],[0,0],[0,1],[0,1],[1,1],[0,0],[0,1],[0,1],[0,1],[0,1],[0,1],[0,1],[0,1],[0,1],[0,1],[0,1],[0,1],[0,1],[0,1],[0,1],[0,0],[1,1],[0,1],[0,1],[0,0],[0,1],[0,0],[1,1],[0,0],[1,1],[0,1],[0,0],[0,1],[0,0],[0,1],[0,0],[0,1],[0,1],[0,0],[1,1],[0,1],[0,1],[0,1],[0,0],[0,1],[0,1],[0,0],[1,1],[0,1],[0,0],[0,0],[0,1],[0,1],[0,0],[0,1],[1,1],[1,1],[0,1],[0,1],[1,1],[1,0],[0,0],[1,1],[0,1],[0,1],[0,1],[0,1],[1,1],[0,1],[0,1],[0,1],[1,1],[0,1],[1,1],[0,1],[1,1],[0,1],[0,0],[0,0],[0,0],[1,1],[0,1],[0,1],[1,1],[0,0],[0,1],[0,0],[0,1],[0,0],[0,1],[0,0],[1,1],[1,0],[0,1],[0,1],[1,1],[1,1],[1,1],[1,0],[1,1],[0,0],[1,1],[0,1],[0,1],[0,1],[0,0],[0,1],[0,1],[1,1],[0,0],[0,0],[1,1],[0,0],[0,0],[0,1],[0,1],[0,1],[1,0],[0,1],[0,1],[0,1],[0,0],[0,0],[0,1],[0,1],[0,1],[0,1],[1,1],[0,1],[0,1],[0,1],[0,1],[0,1],[0,1],[1,1],[0,1],[0,0],[0,1],[0,1],[0,1],[1,1],[1,1],[0,1],[0,1],[0,1],[0,0],[0,1],[0,0],[0,1],[1,1],[0,1],[1,1],[0,1],[1,0],[1,1],[0,1],[0,0],[0,0],[0,0],[0,1],[0,0],[1,0],[0,1],[1,1],[0,0],[1,1],[0,1],[0,1],[1,0],[0,1],[0,1],[0,0],[0,1],[0,0],[0,1],[0,1],[0,0],[0,0],[0,0],[1,1],[0,0],[0,0],[0,1],[0,0],[0,0],[1,1],[0,1],[0,1],[0,1],[0,1],[0,1],[0,1],[1,1],[0,0],[0,1],[1,1],[0,0],[1,1],[0,1],[0,0],[0,0],[0,1],[1,1],[1,1],[0,1],[0,1],[1,1],[0,0],[0,0],[0,0],[0,1],[1,1],[0,1],[0,1],[1,1],[1,1],[0,1],[1,1],[0,1],[1,1],[1,1],[1,1],[0,1],[0,1],[0,0],[0,1],[0,0],[0,1],[1,1],[0,0],[0,1],[0,1],[0,1],[1,1],[0,1],[0,1],[0,1],[1,1],[1,1],[0,1],[0,0],[0,0],[0,1],[0,1],[0,1],[0,1],[0,0],[0,1],[1,0],[1,0],[0,1],[1,0],[0,1],[0,1],[0,0],[1,0],[1,1],[0,1],[0,0],[0,1],[0,1],[0,1],[1,0],[1,0],[0,1],[0,0],[0,0],[0,0],[1,1],[0,0],[0,0],[0,1],[0,0],[0,1],[0,1],[1,1],[0,1],[0,0],[0,1],[0,0],[0,1],[0,1],[0,1],[1,1],[0,1],[1,1],[1,0],[0,1],[0,0],[0,0],[0,1],[0,1],[0,1],[1,1],[0,0],[0,1],[0,0],[1,1],[0,1],[0,0],[1,1],[0,1],[0,1],[0,1],[0,1],[1,1],[0,0],[1,1],[0,1],[0,1],[0,1],[1,1],[0,1],[1,1],[0,0],[0,1],[0,0],[0,0],[0,0],[0,1],[0,1],[0,1],[0,0],[0,0],[0,0],[1,1],[1,1],[0,0],[0,1],[0,1],[1,0],[0,1],[0,1],[0,1],[0,1],[0,1],[0,1],[0,1],[0,1],[0,1],[0,0],[0,0],[1,1],[0,1],[0,1],[0,1],[0,1],[1,1],[0,1],[0,1],[0,1],[0,1],[1,1],[0,1],[1,1],[0,1],[0,0],[0,1],[0,0],[0,1],[0,1],[0,1],[0,1],[0,1],[0,1],[0,1],[0,0],[0,1],[1,1],[0,1],[1,1],[0,0],[0,1],[1,1],[1,1],[0,0],[1,1],[0,0],[1,1],[0,1],[0,1],[1,1],[0,1],[0,1],[1,1],[0,0],[0,1],[0,0],[1,1],[0,1],[0,1],[1,1],[0,1],[1,1],[1,1],[1,1],[0,0],[0,1],[0,1],[0,1],[1,1],[0,1],[1,1],[0,1],[0,1],[0,0],[0,1],[1,1],[0,1],[1,1],[1,1],[0,1],[0,1],[1,1],[0,1],[0,1],[0,1],[0,1],[0,1],[0,1],[0,1],[0,0],[0,1],[0,1],[0,1],[0,1],[0,0],[1,1],[0,0],[0,1],[0,1],[1,1],[0,0],[0,1],[0,1],[1,1],[0,1],[0,1],[0,1],[0,1],[0,1],[0,0],[0,0],[0,1],[0,1],[0,0],[0,1],[1,1],[1,0],[0,1],[0,1],[0,1],[0,1],[1,1],[0,1],[0,0],[1,1],[0,0],[0,0],[0,1],[1,1],[0,1],[0,1],[0,1],[1,1],[0,0],[1,1],[1,1],[1,1],[1,1],[0,1],[1,1],[1,1],[0,1],[1,1],[0,0],[0,0],[0,1],[0,0],[0,1],[1,1],[0,1],[1,0],[0,0],[0,0],[0,1],[0,1],[0,1],[1,0],[0,1],[0,1],[0,1],[0,0],[0,1],[0,1],[1,1],[0,1],[0,1],[1,1],[0,1],[0,1],[0,1],[0,0],[0,0],[0,1],[0,1],[0,1],[1,1],[0,0],[0,0],[0,0],[0,0],[1,1],[0,1],[0,1],[0,0],[0,1],[1,1],[0,0],[0,0],[1,1],[1,1],[0,0],[0,0],[1,1],[0,1],[0,1],[0,0],[1,0],[1,1],[1,1],[0,1],[0,1],[1,1],[0,1],[1,1],[0,1],[0,1],[0,1],[0,1],[0,0],[0,1],[0,0],[0,1],[1,0],[0,1],[1,1],[0,0],[0,1],[0,1],[0,0],[1,1],[1,1],[0,0],[0,1],[1,1],[0,0],[0,1],[0,1],[1,1],[0,0],[0,1],[0,0],[1,1],[0,1],[0,0],[1,1],[1,1],[0,1],[0,1],[0,1],[0,0],[0,1],[0,1],[1,1],[0,1],[0,1],[0,0],[0,1],[1,1],[0,1],[0,0],[1,1],[0,0],[0,1],[0,0],[0,1],[1,1],[1,1],[1,1],[1,1],[0,0],[0,1],[0,1],[0,0],[1,1],[1,1],[0,1],[1,1],[0,1],[0,1],[1,1],[0,1],[0,0],[0,0],[1,1],[1,1],[0,0],[0,0],[0,1],[0,1],[0,1],[0,1],[0,0],[1,1],[1,1],[0,0],[0,1],[0,0],[0,0],[0,1],[0,1],[0,0],[0,0],[1,1],[0,1],[1,0],[1,1],[0,1],[1,1],[0,1],[0,1],[0,0],[0,1],[0,1],[0,0],[0,0],[0,0],[0,1],[1,1],[0,1],[0,0],[0,1],[0,0],[0,0],[0,0],[0,0],[0,1],[0,0],[1,0],[1,1],[0,0],[1,1],[0,0],[0,0],[1,1],[0,1],[0,1],[1,1],[0,0],[0,1],[0,1],[0,1],[0,1],[0,1],[0,1],[1,1],[0,0],[0,0],[1,1],[0,1],[1,1],[1,1],[0,0],[0,0],[0,1],[0,1],[1,1],[0,0],[0,1],[1,1],[0,0],[0,1],[0,1],[1,1],[0,0],[0,1],[1,1],[1,1],[0,1],[0,0],[0,1],[1,1],[1,1],[0,1],[1,1],[0,0],[0,1],[0,1],[0,1],[0,1],[0,0],[1,1],[1,1],[1,1],[0,1],[1,0],[0,0],[0,0],[0,1],[0,1],[0,0],[0,1],[0,1],[1,1],[0,0],[0,0],[0,1],[1,0],[0,1],[0,1],[0,1],[0,1],[1,1],[0,1],[1,1],[0,0],[0,1],[1,0],[0,0],[1,1],[0,1],[1,1],[0,1],[0,0],[1,1],[0,1],[0,1],[0,1],[1,1],[0,0],[0,1],[0,1],[1,1],[0,0],[0,0],[0,0],[0,1],[0,0],[0,1],[1,1],[1,1],[0,0],[0,1],[0,0],[1,0],[0,0],[1,1],[0,1],[0,0],[0,0],[0,1],[0,0],[0,0],[0,0],[0,0],[0,1],[0,1],[0,0],[0,0],[0,0],[0,1],[0,1],[0,1],[1,1],[0,1],[0,1],[0,0],[0,1],[0,1],[1,1],[0,1],[0,0],[1,1],[0,0],[0,0],[1,1],[0,1],[0,1],[0,1],[1,1],[1,1],[0,1],[0,1],[0,0],[1,1],[0,1],[0,1],[1,0],[0,1],[0,1],[1,1],[0,0],[1,1],[1,1],[0,1],[0,1],[0,1],[0,1],[0,1],[0,1],[0,1],[1,1],[0,1],[0,1],[0,1],[0,0],[1,0],[1,1],[0,1],[1,1],[0,1],[1,1],[0,0],[0,1],[0,1],[0,1],[0,1],[0,1],[0,0],[0,0],[1,1],[1,1],[1,1],[1,1],[0,1],[0,1],[0,1],[1,1],[0,0],[0,1],[1,0],[0,1],[1,1],[0,1],[0,1],[0,1],[0,1],[0,0],[0,0],[0,0],[0,0],[1,1],[1,0],[0,1],[1,1],[0,1],[0,1],[0,1],[0,1],[0,0],[1,0],[0,1],[0,0],[1,1],[1,1],[0,1],[0,0],[0,0],[0,1],[0,1],[0,1],[0,0],[0,0],[0,1],[0,0],[1,0],[0,0],[1,1],[1,1],[0,1],[0,0],[0,1],[0,1],[0,0],[0,1],[0,0],[1,0],[0,1],[0,1],[0,1],[1,0],[1,1],[0,1],[0,0],[0,1],[1,0],[1,1],[1,1],[1,0],[0,1],[0,1],[0,0],[0,1],[0,0],[1,0],[0,1],[0,1],[1,1],[1,1],[0,0],[0,0],[0,0],[1,1],[0,1],[0,1],[0,1],[0,0],[0,1],[0,1],[0,1],[0,1],[0,0],[0,1],[0,0],[1,1],[1,1],[0,1],[0,1],[0,0],[1,1],[0,1],[0,1],[1,1],[0,1],[1,0],[0,1],[0,1],[0,1],[0,0],[0,1],[0,1],[0,0],[1,1],[1,1],[0,1],[1,0],[0,0],[0,0],[0,1],[0,1],[1,1],[0,1],[1,1],[0,1],[1,1],[0,0],[0,1],[0,1],[0,1],[1,1],[0,1],[0,1],[0,1],[0,1],[0,0],[0,1],[0,1],[0,1],[0,0],[0,1],[1,1],[0,0],[0,0],[0,1],[0,1],[0,1],[0,1],[0,0],[0,0],[1,1],[0,0],[1,1],[0,0],[0,0],[0,0],[0,0],[0,1],[0,0],[0,0],[0,1],[0,0],[0,0],[0,0],[0,0],[0,1],[0,0],[0,1],[0,0],[0,1],[1,1],[1,1],[1,1],[0,1],[0,1],[0,0],[1,1],[0,0],[1,1],[1,1],[0,1],[0,1],[0,1],[0,1],[0,1],[0,0],[0,0],[0,1],[0,0],[1,1],[0,0],[0,1],[0,1],[0,0],[0,0],[0,1],[0,0],[0,0],[0,0],[0,0],[0,0],[0,1],[0,0],[1,1],[0,1],[1,1],[0,0],[0,1],[0,1],[0,0],[0,0],[1,1],[0,1],[0,1],[0,0],[0,0],[0,1],[0,1],[0,1],[0,1],[0,1],[1,1],[0,1],[0,0],[0,1],[0,0],[0,1],[1,1],[0,1],[1,1],[0,1],[0,1],[0,1],[0,1],[1,1],[0,0],[1,1],[0,1],[0,0],[0,1],[0,0],[0,0],[0,1],[0,1],[0,0],[0,1],[0,1],[0,0],[0,1],[0,0],[0,1],[0,0],[0,1],[0,1],[0,1],[0,1],[0,0],[1,1],[1,1],[1,1],[0,1],[0,1],[0,0],[0,0],[0,1],[0,0],[0,1],[0,0],[0,1],[1,1],[0,1],[0,1],[0,0],[1,1],[0,1],[1,1],[0,1],[1,1],[1,1],[0,1],[0,1],[1,1],[1,1],[0,1],[0,0],[0,1],[0,0],[0,1],[0,0],[0,0],[0,1],[0,0],[0,1],[1,1],[0,0],[0,0],[0,1],[0,0],[0,0],[0,1],[1,1],[0,1],[0,0],[0,0],[0,1],[1,1],[1,1],[0,1],[1,1],[1,1],[0,0],[0,0],[0,0],[1,1],[0,1],[0,0],[1,1],[0,1],[0,0],[1,1],[1,1],[0,1],[0,1],[0,1],[0,1],[0,0],[0,1],[0,1],[1,1],[0,1],[0,1],[1,1],[0,1],[0,1],[0,0],[0,1],[0,0],[0,0],[0,1],[1,1],[0,1],[0,1],[0,0],[0,1],[0,1],[0,0],[1,1],[0,1],[0,1],[0,1],[0,0],[0,1],[0,1],[0,1],[0,1],[1,1],[1,1],[0,0],[0,1],[0,1],[0,1],[0,0],[1,1],[0,1],[0,0],[0,0],[1,1],[0,1],[0,0],[0,0],[0,0],[0,0],[0,1],[0,1],[0,0],[0,1],[0,1],[0,0],[0,1],[1,1],[0,0],[0,1],[0,1],[0,0],[0,1],[0,1],[0,1],[1,0],[0,0],[0,0],[1,1],[0,0],[0,0],[0,0],[1,0],[0,1],[0,0],[0,1],[1,1],[0,1],[0,1],[0,1],[0,0],[1,0],[0,0],[0,0],[0,0],[0,0],[1,1],[0,1],[0,0],[1,1],[0,0],[0,1],[0,1],[1,1],[1,0],[0,0],[0,0],[0,1],[1,1],[0,1],[1,0],[0,1],[0,1],[0,0],[1,1],[0,0],[1,1],[0,1],[1,1],[0,1],[0,0],[0,0],[0,0],[0,0],[0,1],[0,1],[0,1],[0,1],[0,0],[0,1],[0,1],[0,1],[1,1],[0,0],[0,0],[0,0],[1,1],[0,0],[0,0],[0,0],[0,0],[0,0],[1,1],[1,1],[0,1],[0,1],[0,1],[0,0],[0,1],[0,1],[1,1],[0,1],[1,1],[0,1],[0,0],[0,1],[0,0],[0,1],[1,1],[0,0],[1,0],[0,0],[0,0],[1,1],[0,1],[0,1],[0,1],[1,0],[0,1],[1,1],[0,1],[1,1],[0,0],[0,1],[1,1],[0,0],[0,1],[1,1],[0,0],[0,1],[0,1],[0,0],[1,0],[1,1],[0,0],[0,0],[0,1],[1,1],[0,1],[0,1],[0,0],[1,1],[0,1],[0,0],[1,1],[0,1],[0,1],[0,1],[1,0],[1,0],[1,1],[0,0],[0,0],[0,0],[1,1],[0,0],[0,1],[0,1],[0,0],[1,1],[1,1],[0,0],[0,0],[0,0],[1,1],[0,1],[0,1],[0,1],[0,1],[0,1],[0,0],[0,0],[0,0],[1,1],[0,1],[0,1],[0,1],[0,1],[0,0],[0,0],[1,0],[0,1],[0,0],[1,1],[0,1],[1,1],[0,1],[0,1],[0,0],[1,1],[0,0],[1,1],[0,1],[1,1],[0,0],[0,0],[0,1],[0,1],[0,1],[0,1],[0,1],[0,1],[0,1],[0,1],[0,1],[0,1],[0,0],[0,1],[0,1],[0,1],[0,1],[0,1],[0,1],[0,0],[0,0],[0,0],[1,0],[0,1],[0,1],[0,0],[1,1],[1,1],[0,0],[0,0],[0,1],[0,0],[0,1],[1,1],[1,1],[0,0],[0,1],[0,1],[0,0],[0,1],[1,1],[0,1],[0,1],[0,0],[0,0],[0,1],[0,1],[0,0],[1,0],[0,1],[0,1],[0,0],[0,1],[0,1],[0,1],[1,1],[0,1],[0,0],[1,0],[0,1],[1,1],[1,1],[0,1],[1,1],[0,1],[1,1],[0,0],[0,1],[0,1],[0,1],[0,0],[0,1],[0,0],[0,1],[0,1],[0,0],[0,1],[1,0],[0,0],[0,0],[0,1],[0,0],[0,0],[0,0],[0,0],[1,1],[0,0],[0,0],[0,1],[0,0],[0,1],[1,1],[1,0],[0,1],[0,1],[1,0],[1,1],[0,0],[1,0],[0,1],[0,1],[1,1],[0,1],[1,1],[0,0],[0,0],[0,1],[0,0],[0,0],[0,1],[1,0],[0,1],[1,1],[0,1],[0,1],[0,1],[0,0],[0,1],[0,0],[1,1],[0,1],[0,1],[0,0],[0,0],[1,1],[0,1],[0,0],[0,0],[0,0],[0,0],[1,1],[0,0],[0,1],[0,1],[0,0],[0,0],[0,0],[1,1],[0,1],[0,0],[0,1],[0,1],[1,1],[0,1],[0,1],[0,0],[0,1],[0,1],[0,1],[0,1],[1,1],[0,0],[1,1],[0,0],[0,0],[0,0],[1,1],[0,0],[1,1],[1,1],[0,0],[1,1],[0,0],[0,1],[0,0],[0,1],[0,1],[0,1],[0,0],[0,1],[0,1],[0,1],[0,1],[1,1],[1,1],[1,1],[0,0],[1,1],[1,1],[0,0],[0,1],[0,1],[0,0],[0,1],[0,1],[0,1],[0,1],[1,1],[0,1],[1,1],[0,1],[0,1],[1,1],[0,0],[0,1],[1,1],[0,1],[0,1],[0,0],[0,1],[0,1],[0,1],[0,0],[1,1],[0,1],[1,1],[1,1],[1,1],[0,1],[0,0],[0,0],[0,1],[0,0],[0,1],[0,1],[0,1],[0,0],[0,1],[0,1],[0,0],[0,1],[1,1],[0,1],[1,1],[0,0],[1,1],[0,1],[1,1],[0,1],[0,0],[1,1],[0,1],[0,1],[0,0],[0,1],[1,1],[1,1],[0,0],[1,1],[0,1],[0,1],[0,1],[0,1],[1,1],[0,1],[0,1],[1,0],[0,1],[1,1],[1,0],[0,1],[0,1],[0,1],[0,0],[1,1],[0,0],[0,1],[0,1],[0,1],[0,0],[0,1],[0,0],[1,1],[0,0],[0,1],[0,1],[0,1],[1,1],[1,1],[0,1],[0,1],[1,1],[0,1],[0,1],[0,1],[1,1],[1,1],[0,1],[0,0],[1,1],[0,1],[1,1],[0,0],[0,0],[0,1],[1,1],[1,1],[0,0],[0,0],[0,1],[1,1],[1,1],[0,0],[1,1],[1,1],[0,0],[0,0],[1,1],[1,1],[0,1],[0,0],[0,1],[0,1],[0,1],[1,1],[1,1],[0,1],[0,1],[0,1],[1,1],[0,1],[0,0],[0,0],[0,0],[0,1],[1,1],[0,0],[0,0],[1,1],[0,1],[0,0],[1,1],[0,0],[0,1],[0,0],[1,1],[1,1],[1,1],[0,0],[0,1],[1,1],[0,1],[1,1],[0,1],[0,1],[0,1],[1,0],[1,1],[0,0],[0,1],[0,0],[0,1],[0,1],[0,0],[0,1],[0,1],[1,1],[0,1],[0,1],[0,1],[1,1],[0,0],[1,1],[0,0],[1,1],[0,1],[0,1],[0,1],[0,0],[0,0],[1,1],[0,0],[1,1],[0,1],[0,1],[0,1],[1,1],[1,0],[0,0],[0,0],[0,1],[0,1],[0,1],[0,0],[0,0],[0,1],[0,1],[0,0],[0,1],[0,1],[0,1],[0,1],[0,1],[0,1],[1,1],[0,1],[0,1],[0,1],[0,0],[0,1],[1,0],[0,1],[0,0],[0,1],[0,1],[1,1],[1,1],[0,1],[0,1],[0,1],[0,0],[1,1],[0,1],[1,1],[0,1],[0,0],[0,1],[0,1],[0,0],[0,1],[0,1],[0,0],[0,0],[0,0],[1,1],[1,1],[1,1],[0,0],[1,0],[0,1],[1,0],[0,1],[0,0],[0,0],[0,0],[0,1],[0,1],[0,0],[1,1],[1,1],[0,0],[1,1],[0,1],[0,0],[0,1],[0,1],[0,1],[0,1],[0,1],[0,1],[0,0],[0,0],[0,1],[1,1],[0,0],[0,0],[0,0],[1,1],[0,1],[1,1],[0,0],[0,0],[0,0],[0,1],[0,1],[1,0],[0,1],[0,1],[0,1],[0,1],[1,0],[1,1],[0,1],[1,1],[0,1],[0,1],[0,1],[0,0],[1,1],[0,1],[0,1],[1,1],[0,1],[0,1],[0,1],[0,0],[0,1],[0,1],[1,1],[0,0],[0,0],[0,1],[0,1],[0,0],[0,0],[0,1],[0,0],[0,1],[0,1],[0,0],[0,0],[0,0],[1,1],[0,1],[0,1],[0,0],[0,0],[0,1],[0,1],[1,1],[0,0],[0,1],[0,0],[0,1],[0,0],[0,1],[1,1],[1,1],[0,0],[0,1],[0,1],[1,1],[1,1],[0,0],[0,1],[1,1],[0,0],[0,1],[0,0],[0,1],[0,1],[0,1],[1,1],[0,0],[0,1],[0,0],[0,0],[1,1],[0,0],[1,0],[0,1],[1,1],[0,1],[0,1],[0,1],[0,1],[0,0],[0,1],[0,0],[1,1],[0,1],[1,1],[0,1],[0,1],[0,1],[0,1],[0,1],[0,1],[0,1],[0,1],[1,1],[0,0],[1,1],[0,0],[0,1],[0,1],[1,1],[0,0],[1,1],[1,1],[0,1],[0,0],[0,0],[0,0],[0,0],[0,1],[1,1],[0,0],[1,1],[0,1],[0,0],[0,1],[1,1],[0,1],[0,1],[0,0],[0,0],[0,1],[0,0],[1,1],[0,1],[0,0],[0,1],[0,0],[0,0],[0,0],[0,1],[0,1],[0,1],[0,1],[1,1],[1,1],[1,0],[1,0],[0,0],[0,0],[0,1],[1,1],[1,1],[0,1],[1,0],[0,1],[0,1],[0,1],[0,0],[1,1],[0,1],[0,1],[0,0],[1,1],[1,1],[1,1],[0,1],[0,1],[0,1],[0,1],[0,1],[0,1],[0,0],[1,1],[0,1],[0,1],[0,0],[0,1],[0,0],[0,1],[0,1],[1,1],[0,1],[0,1],[1,1],[0,1],[0,0],[0,1],[1,1],[1,1],[0,1],[0,1],[1,1],[1,0],[0,1],[1,1],[1,1],[0,0],[0,1],[0,0],[0,1],[0,1],[0,1],[0,1],[0,1],[0,0],[0,0],[1,0],[0,1],[1,1],[0,1],[0,0],[0,0],[1,1],[0,0],[0,0],[0,1],[1,0],[0,1],[0,1],[0,0],[0,1],[0,1],[0,1],[0,0],[1,1],[0,1],[0,0],[1,1],[0,0],[0,0],[0,1],[0,1],[1,1],[0,1],[0,1],[0,1],[1,1],[0,1],[0,0],[1,1],[0,0],[0,0],[0,0],[0,0],[1,1],[0,1],[0,1],[1,1],[0,0],[0,0],[0,1],[1,1],[0,1],[1,1],[0,1],[0,0],[0,0],[1,0],[0,1],[0,0],[0,0],[0,0],[0,1],[0,0],[1,1],[1,1],[0,0],[0,0],[1,0],[0,1],[0,0],[0,0],[1,1],[0,0],[0,1],[0,1],[1,0],[0,1],[0,0],[1,1],[1,1],[0,0],[1,0],[0,1],[0,1],[0,1],[0,0],[0,1],[1,1],[0,0],[0,0],[0,1],[0,1],[0,1],[1,1],[0,1],[0,0],[0,1],[1,1],[0,1],[0,1],[0,1],[0,0],[0,0],[0,0],[1,1],[0,1],[0,1],[1,1],[0,1],[0,0],[0,1],[0,1],[0,0],[0,1],[0,0],[1,1],[1,1],[0,0],[0,0],[1,1],[0,0],[0,0],[1,1],[0,1],[0,1],[1,1],[0,1],[0,1],[0,1],[1,1],[0,0],[0,1],[1,1],[1,1],[0,1],[0,1],[0,0],[0,1],[0,1],[0,1],[1,1],[0,0],[0,0],[0,1],[0,1],[0,1],[0,0],[1,1],[0,1],[0,1],[0,1],[0,1],[0,0],[0,1],[0,1],[0,1],[0,1],[1,1],[0,1],[0,0],[0,1],[0,1],[0,1],[0,0],[0,1],[0,0],[1,1],[0,1],[0,1],[0,1],[0,1],[0,1],[0,0],[0,1],[0,0],[0,0],[1,1],[1,0],[0,1],[0,1],[0,1],[0,0],[1,1],[0,1],[1,1],[0,0],[1,1],[0,1],[0,0],[0,1],[0,1],[0,1],[0,0],[0,1],[1,1],[1,1],[0,0],[1,0],[0,1],[1,1],[0,0],[0,0],[0,1],[0,0],[0,1],[0,1],[1,0],[1,1],[0,1],[1,0],[1,0],[1,1],[0,1],[0,0],[0,1],[0,1],[1,1],[0,1],[1,1],[0,0],[1,1],[0,1],[0,0],[0,1],[0,0],[1,1],[0,0],[1,1],[0,1],[0,0],[0,0],[0,0],[1,1],[1,0],[0,0],[0,1],[0,1],[0,0],[0,1],[0,0],[0,1],[0,1],[0,1],[0,1],[0,1],[0,0],[1,1],[1,1],[1,1],[0,1],[1,1],[0,0],[0,1],[0,0],[1,1],[0,0],[1,1],[0,1],[0,0],[0,1],[0,1],[0,0],[0,1],[1,0],[0,0],[0,1],[0,1],[1,1],[1,1],[0,0],[0,1],[0,1],[0,0],[1,1],[0,1],[0,1],[1,1],[1,1],[0,0],[1,0],[0,1],[0,0],[0,1],[0,1],[0,1],[1,0],[1,1],[0,0],[1,1],[0,1],[0,0],[0,1],[0,1],[1,1],[0,1],[0,1],[0,1],[0,0],[0,1],[0,1],[0,1],[1,1],[0,0],[0,1],[0,0],[0,0],[0,1],[0,1],[0,1],[0,1],[0,0],[0,0],[0,1],[0,1],[0,0],[0,0],[1,1],[0,1],[0,1],[1,1],[0,0],[0,0],[0,1],[0,0],[1,1],[0,0],[0,1],[0,1],[0,1],[1,1],[1,1],[0,1],[0,1],[0,1],[0,1],[0,1],[1,1],[0,0],[0,0],[0,0],[0,0],[1,1],[0,0],[1,1],[0,1],[0,1],[0,1],[0,0],[0,1],[0,0],[0,1],[1,1],[0,1],[0,0],[0,1],[1,1],[1,1],[0,1],[0,0],[0,1],[0,0],[0,1],[0,0],[0,0],[0,1],[0,0],[0,0],[0,0],[0,0],[0,1],[0,1],[0,1],[0,1],[0,0],[0,0],[1,0],[0,1],[0,1],[0,1],[0,0],[0,1],[0,1],[0,1],[0,0],[0,1],[0,1],[0,1],[0,0],[1,1],[0,0],[1,1],[1,1],[0,1],[0,0],[0,1],[0,1],[0,1],[0,1],[0,1],[1,1],[1,1],[0,1],[0,0],[0,0],[1,1],[1,1],[1,1],[0,0],[0,1],[0,1],[0,0],[0,0],[0,0],[0,1],[0,1],[0,0],[0,0],[0,0],[0,1],[1,0],[0,1],[0,0],[1,1],[0,1],[0,1],[0,1],[0,0],[0,0],[0,0],[1,1],[0,1],[0,0],[0,0],[0,1],[1,1],[0,1],[0,0],[0,1],[1,1],[0,1],[0,0],[1,1],[0,1],[0,0],[0,0],[1,1],[1,1],[0,1],[1,1],[1,1],[0,1],[0,1],[0,1],[0,1],[0,1],[0,1],[0,1],[0,0],[0,0],[1,1],[0,1],[0,1],[1,1],[0,1],[1,0],[0,0],[0,0],[0,1],[0,1],[0,1],[0,0],[0,1],[0,0],[1,1],[0,1],[1,1],[0,0],[1,1],[0,0],[0,1],[1,1],[0,1],[0,0],[0,1],[0,1],[0,0],[0,0],[0,1],[0,1],[0,1],[1,1],[0,1],[0,1],[0,0],[0,1],[0,0],[0,1],[0,1],[0,1],[0,1],[0,0],[0,0],[0,1],[0,1],[0,1],[0,1],[0,1],[0,1],[0,1],[0,1],[0,1],[0,0],[0,1],[0,1],[0,1],[0,1],[0,1],[1,0],[1,0],[0,1],[0,1],[0,1],[0,1],[0,1],[1,1],[1,1],[0,1],[0,0],[0,0],[0,1],[1,1],[1,1],[0,0],[0,1],[0,1],[0,1],[0,1],[0,1],[0,0],[0,1],[0,1],[0,1],[0,1],[0,1],[0,0],[0,0],[1,1],[0,1],[1,1],[0,0],[1,0],[0,1],[0,1],[0,1],[0,1],[0,1],[0,1],[0,1],[0,0],[0,0],[1,1],[0,1],[0,1],[0,0],[0,1],[0,0],[1,0],[1,1],[0,0],[0,0],[0,1],[1,1],[0,0],[1,0],[1,1],[1,1],[0,1],[0,0],[0,1],[0,1],[0,1],[1,1],[0,1],[0,1],[0,1],[0,0],[0,1],[0,0],[0,0],[0,0],[0,1],[0,0],[0,0],[1,1],[0,1],[0,0],[1,1],[0,1],[1,1],[1,1],[0,1],[0,1],[0,1],[0,1],[0,1],[0,1],[0,1],[1,0],[0,1],[1,1],[0,1],[0,0],[0,1],[0,1],[1,1],[0,1],[0,0],[0,0],[1,1],[0,0],[0,1],[0,1],[0,1],[1,1],[1,1],[1,1],[1,0],[0,0],[0,1],[0,0],[0,1],[0,0],[0,1],[1,1],[0,1],[0,1],[0,1],[0,1],[1,1],[0,1],[1,1],[0,1],[0,1],[0,1],[0,1],[0,1],[0,1],[0,1],[0,1],[0,0],[1,1],[1,1],[1,1],[0,1],[0,1],[1,0],[0,0],[0,1],[0,0],[0,0],[0,1],[0,0],[1,1],[1,1],[1,1],[1,1],[1,0],[1,1],[0,1],[0,0],[0,1],[0,1],[0,0],[0,0],[0,1],[1,1],[0,0],[0,0],[1,0],[1,1],[0,0],[0,1],[0,0],[0,0],[0,1],[0,1],[0,1],[0,0],[0,0],[0,1],[0,0],[0,1],[0,1],[0,1],[0,1],[0,1],[0,0],[0,1],[0,1],[1,1],[0,1],[0,0],[0,1],[0,1],[0,1],[1,1],[0,1],[0,1],[0,1],[0,1],[0,0],[0,1],[0,1],[0,1],[0,0],[0,0],[1,1],[0,1],[0,0],[1,1],[0,1],[0,0],[1,0],[0,0],[0,1],[1,1],[0,1],[1,1],[0,1],[0,1],[1,1],[0,0],[0,0],[0,1],[1,1],[1,1],[0,0],[1,1],[0,1],[0,1],[0,0],[0,1],[1,1],[0,1],[0,1],[0,0],[0,1],[0,0],[0,0],[0,1],[0,0],[0,0],[0,1],[1,1],[0,0],[1,0],[0,1],[1,1],[0,1],[0,1],[1,1],[0,1],[0,1],[0,1],[0,1],[0,1],[0,0],[0,1],[0,1],[0,0],[1,1],[0,1],[0,1],[0,1],[1,1],[0,1],[0,1],[0,0],[0,0],[1,1],[0,1],[0,1],[0,1],[1,1],[0,0],[0,1],[0,1],[0,1],[0,0],[0,0],[0,0],[0,1],[1,1],[0,1],[0,1],[1,1],[1,1],[1,1],[0,0],[0,0],[0,1],[0,0],[1,1],[0,0],[0,1],[0,0],[1,1],[0,0],[1,1],[0,1],[0,1],[0,1],[1,0],[0,1],[0,0],[0,1],[0,1],[0,1],[0,1],[0,1],[0,0],[0,0],[0,1],[0,1],[0,1],[1,1],[1,1],[1,0],[0,1],[0,0],[0,0],[1,1],[1,1],[0,1],[1,0],[1,0],[0,1],[0,1],[0,0],[1,1],[0,1],[0,1],[0,1],[0,0],[0,1],[0,1],[0,1],[0,0],[0,1],[1,1],[0,0],[0,0],[1,1],[0,1],[1,1],[0,1],[0,1],[0,1],[0,1],[0,1],[0,1],[0,1],[0,1],[0,0],[1,1],[0,1],[0,0],[0,1],[0,1],[1,1],[1,0],[0,1],[1,1],[1,0],[0,1],[1,0],[0,0],[1,1],[0,1],[0,0],[0,0],[0,1],[0,1],[0,1],[0,0],[1,1],[0,1],[1,1],[0,1],[0,0],[0,0],[0,1],[1,0],[0,0],[0,1],[0,0],[0,0],[0,1],[1,1],[0,0],[0,1],[0,1],[0,1],[0,1],[0,0],[0,1],[1,0],[0,0],[0,1],[0,1],[1,1],[0,0],[0,1],[0,1],[1,1],[0,0],[0,1],[1,1],[0,1],[0,1],[0,1],[0,1],[0,1],[0,1],[1,0],[0,0],[0,0],[0,0],[0,1],[0,0],[0,0],[0,0],[0,0],[0,1],[0,0],[0,1],[0,1],[0,0],[1,1],[0,0],[0,0],[0,1],[0,1],[0,1],[1,1],[1,1],[0,1],[0,0],[1,0],[1,1],[0,0],[0,1],[0,0],[0,0],[0,0],[0,0],[0,0],[0,1],[0,0],[0,1],[1,1],[0,0],[0,1],[1,0],[0,0],[0,1],[0,1],[0,1],[1,1],[1,1],[0,1],[0,1],[0,1],[1,1],[0,1],[0,0],[0,1],[0,0],[0,0],[0,1],[0,1],[0,1],[1,1],[0,1],[0,0],[1,1],[0,0],[1,1],[1,1],[0,1],[0,1],[0,1],[1,0],[0,0],[0,0],[0,1],[0,1],[0,0],[0,1],[0,0],[1,1],[0,0],[0,1],[0,0],[0,1],[0,0],[1,1],[0,1],[0,1],[1,1],[1,1],[0,1],[1,1],[1,1],[0,1],[0,0],[0,1],[1,1],[0,1],[0,1],[0,1],[0,1],[0,1],[0,0],[0,0],[0,1],[0,0],[0,0],[0,0],[1,1],[1,1],[0,0],[0,0],[1,1],[0,1],[0,0],[0,1],[0,0],[0,0],[0,1],[0,1],[0,1],[0,1],[0,1],[0,0],[1,1],[1,1],[0,0],[0,1],[0,0],[0,0],[0,1],[1,1],[0,1],[1,1],[0,1],[1,1],[0,1],[0,1],[0,1],[0,1],[0,0],[0,1],[1,1],[0,1],[0,0],[0,1],[1,1],[0,0],[0,1],[0,0],[0,0],[0,1],[0,0],[0,1],[0,1],[0,0],[0,1],[0,1],[0,0],[0,1],[0,0],[1,1],[0,1],[0,0],[0,1],[0,1],[1,1],[0,1],[0,1],[1,1],[0,1],[0,0],[0,0],[0,1],[0,0],[1,1],[0,1],[0,0],[1,1],[0,0],[1,1],[0,1],[0,1],[0,0],[0,1],[1,1],[0,1],[0,0],[0,0],[0,0],[0,1],[0,0],[1,0],[0,0],[0,1],[0,1],[1,1],[1,1],[0,1],[0,1],[0,0],[1,1],[0,1],[0,1],[0,0],[1,1],[0,0],[0,0],[1,1],[0,1],[0,1],[0,0],[0,1],[0,1],[0,1],[0,1],[0,1],[0,1],[0,1],[0,0],[0,0],[0,1],[1,1],[0,1],[0,0],[0,1],[0,1],[0,1],[1,1],[1,1],[0,1],[0,0],[0,1],[0,0],[0,1],[0,0],[0,1],[0,0],[0,1],[0,0],[0,0],[0,0],[1,1],[1,1],[0,1],[0,1],[1,1],[0,1],[1,1],[0,1],[0,1],[1,1],[1,0],[1,1],[0,1],[1,1],[0,1],[0,1],[0,1],[1,1],[0,1],[0,1],[1,1],[0,1],[0,0],[1,1],[0,1],[0,0],[0,1],[0,1],[0,1],[1,0],[0,1],[0,0],[0,1],[0,1],[0,0],[0,1],[0,0],[0,1],[0,0],[1,1],[1,1],[1,1],[1,1],[1,1],[0,1],[1,1],[0,1],[0,1],[0,1],[0,1],[0,1],[1,1],[0,1],[0,1],[0,1],[0,1],[0,1],[1,1],[0,1],[1,0],[1,1],[0,0],[1,1],[0,0],[1,1],[0,0],[0,1],[0,0],[1,0],[0,1],[0,0],[1,1],[1,1],[0,1],[0,1],[0,1],[1,1],[0,0],[0,1],[0,1],[0,0],[0,0],[1,1],[0,1],[0,1],[0,0],[1,1],[1,1],[0,0],[1,1],[0,1],[0,0],[1,0],[1,1],[0,1],[0,1],[0,0],[0,1],[1,1],[1,1],[1,1],[0,1],[0,1],[0,0],[1,1],[0,1],[0,1],[0,0],[0,1],[0,1],[1,1],[0,0],[0,1],[0,1],[1,1],[0,0],[0,1],[1,0],[0,1],[0,1],[1,1],[0,0],[0,1],[0,1],[1,1],[0,0],[0,1],[0,1],[1,1],[0,1],[0,1],[1,1],[1,1],[0,1],[0,1],[0,1],[0,1],[1,1],[1,1],[0,0],[0,1],[0,1],[0,0],[0,0],[0,1],[0,1],[0,1],[0,1],[0,1],[0,1],[1,1],[0,1],[0,0],[0,1],[1,1],[1,1],[0,1],[1,1],[0,1],[1,1],[0,1],[1,0],[0,0],[0,1],[0,1],[0,0],[0,0],[0,1],[0,1],[1,1],[0,0],[0,0],[0,0],[0,0],[0,1],[0,0],[0,1],[0,0],[0,1],[1,1],[0,1],[0,1],[0,1],[0,1],[0,1],[0,1],[0,0],[1,1],[0,1],[0,0],[0,1],[1,1],[0,0],[1,1],[0,1],[0,1],[0,0],[1,1],[0,1],[1,1],[1,0],[0,0],[0,0],[0,0],[0,1],[0,1],[0,0],[0,1],[0,1],[0,1],[0,1],[1,1],[0,1],[0,0],[0,1],[1,1],[0,0],[0,0],[0,1],[1,1],[1,1],[1,1],[0,0],[1,1],[0,0],[0,0],[1,1],[0,1],[0,1],[0,1],[0,1],[0,0],[0,1],[1,1],[0,0],[0,0],[0,1],[0,1],[0,1],[0,1],[0,1],[0,0],[0,1],[1,1],[0,0],[0,1],[0,1],[0,0],[0,1],[0,0],[1,1],[0,1],[0,0],[0,0],[0,1],[0,0],[0,1],[0,1],[0,1],[1,0],[1,1],[0,0],[0,0],[1,1],[0,0],[0,1],[1,1],[0,1],[1,1],[1,1],[0,0],[0,1],[0,1],[0,0],[0,1],[0,1],[1,1],[0,0],[0,0],[0,0],[0,1],[0,1],[0,0],[0,1],[0,1],[1,1],[0,0],[0,1],[0,1],[0,1],[0,1],[1,1],[0,0],[0,1],[0,0],[0,0],[0,0],[0,0],[0,0],[0,1],[0,0],[0,1],[0,1],[0,1],[0,1],[0,1],[0,1],[1,1],[0,0],[0,1],[0,1],[1,0],[0,0],[0,1],[0,1],[0,0],[0,1],[0,0],[1,1],[0,0],[0,1],[0,0],[1,1],[0,1],[1,1],[1,1],[1,1],[0,1],[0,1],[0,1],[0,0],[1,1],[0,0],[1,1],[0,1],[0,1],[0,0],[0,1],[1,1],[0,0],[0,1],[0,0],[0,0],[0,1],[0,0],[1,1],[1,0],[0,0],[0,0],[0,1],[0,1],[0,0],[0,1],[0,1],[0,1],[0,1],[0,1],[1,1],[0,1],[1,1],[1,0],[0,1],[1,1],[0,0],[1,1],[0,1],[0,1],[0,1],[0,1],[0,1],[0,0],[0,0],[1,0],[1,0],[0,0],[0,1],[0,1],[0,0],[0,0],[0,0],[1,1],[0,1],[1,1],[0,1],[1,1],[1,1],[0,0],[0,0],[0,1],[0,1],[0,0],[0,1],[0,1],[0,1],[0,1],[0,0],[0,1],[0,0],[0,0],[1,0],[0,1],[1,1],[0,0],[0,1],[0,0],[0,1],[0,1],[0,0],[0,0],[0,0],[0,1],[0,1],[1,1],[0,0],[0,0],[0,1],[0,1],[1,1],[0,0],[1,1],[1,1],[0,1],[1,1],[0,0],[1,1],[1,0],[0,1],[0,0],[1,0],[0,0],[0,1],[0,0],[0,0],[1,0],[0,0],[0,0],[0,1],[0,0],[0,1],[0,0],[0,0],[0,1],[0,1],[0,1],[0,1],[0,0],[1,0],[0,0],[0,1],[1,1],[0,0],[0,1],[0,1],[0,0],[0,1],[0,0],[0,1],[1,1],[0,1],[0,1],[0,1],[0,1],[1,1],[0,0],[1,1],[0,1],[0,1],[1,1],[0,1],[0,1],[0,0],[0,1],[0,0],[0,1],[0,1],[0,0],[1,1],[0,1],[1,1],[1,1],[0,0],[0,0],[0,0],[0,0],[0,0],[0,0],[0,1],[0,1],[0,1],[0,0],[0,0],[0,1],[0,1],[0,1],[0,1],[0,1],[0,1],[0,0],[0,1],[1,0],[1,1],[0,1],[1,1],[1,1],[0,0],[0,1],[0,1],[0,1],[0,1],[0,1],[0,0],[0,0],[0,0],[0,0],[1,1],[0,1],[1,1],[0,0],[1,1],[0,1],[0,1],[0,1],[0,0],[0,0],[0,1],[0,1],[1,0],[0,1],[0,1],[0,1],[0,1],[1,0],[0,1],[1,1],[0,0],[0,1],[0,0],[0,1],[0,0],[1,1],[0,1],[0,1],[0,0],[0,0],[0,0],[0,1],[0,1],[1,1],[0,1],[0,1],[0,0],[1,1],[0,0],[0,0],[0,1],[0,1],[0,0],[1,1],[0,1],[0,0],[0,0],[0,1],[0,1],[0,0],[1,1],[0,1],[0,0],[0,0],[0,0],[0,1],[0,1],[0,1],[1,1],[0,1],[0,0],[1,1],[0,1],[0,0],[0,1],[0,1],[0,1],[0,1],[0,1],[0,0],[1,0],[0,0],[0,0],[0,0],[1,1],[0,0],[1,1],[0,1],[0,1],[0,0],[0,0],[0,0],[1,1],[0,1],[0,0],[0,0],[0,0],[1,1],[0,0],[0,0],[0,1],[0,0],[0,0],[1,1],[0,0],[0,0],[0,0],[0,0],[0,0],[1,1],[0,0],[1,1],[0,1],[0,0],[1,1],[0,0],[1,1],[1,1],[0,1],[0,1],[0,0],[0,0],[0,0],[0,1],[1,1],[0,1],[1,1],[0,0],[1,1],[0,1],[0,0],[0,1],[0,1],[0,1],[0,0],[0,1],[0,1],[1,1],[0,0],[0,0],[0,0],[0,1],[0,1],[0,0],[1,1],[0,1],[0,1],[1,1],[0,1],[0,1],[0,1],[1,1],[0,0],[0,1],[0,1],[0,0],[0,0],[0,1],[1,1],[0,0],[0,0],[0,0],[0,1],[0,0],[0,1],[1,1],[0,1],[1,0],[0,0],[1,1],[0,0],[0,1],[1,1],[0,0],[0,1],[1,0],[0,1],[0,0],[0,1],[0,0],[0,1],[0,1],[0,1],[1,1],[1,1],[1,0],[0,1],[0,1],[1,1],[0,1],[0,1],[0,1],[1,1],[0,0],[0,0],[0,1],[0,1],[0,0],[0,0],[0,0],[0,0],[0,1],[0,1],[0,1],[0,1],[0,1],[0,1],[0,1],[0,0],[1,0],[1,0],[0,1],[0,1],[1,1],[0,1],[0,1],[0,0],[0,1],[0,1],[0,1],[0,1],[0,0],[0,1],[0,1],[1,1],[1,1],[0,1],[1,1],[0,1],[0,0],[1,1],[0,1],[0,0],[0,0],[0,1],[0,1],[0,1],[0,1],[0,1],[1,1],[0,1],[0,0],[0,0],[0,0],[0,1],[0,1],[0,0],[0,0],[1,0],[0,1],[0,1],[0,1],[0,1],[0,0],[0,0],[0,0],[0,0],[0,0],[0,1],[0,1],[0,0],[0,0],[0,1],[0,0],[0,1],[0,1],[0,0],[0,0],[1,1],[0,0],[0,1],[0,0],[0,0],[0,1],[1,1],[1,1],[0,1],[0,1],[1,1],[0,1],[0,0],[1,1],[1,1],[1,1],[0,1],[0,1],[1,1],[0,0],[0,0],[1,1],[0,1],[0,0],[0,0],[0,0],[0,0],[0,1],[0,0],[0,0],[0,0],[0,1],[0,0],[1,1],[1,1],[0,1],[0,0],[0,1],[1,1],[0,0],[0,0],[0,1],[0,0],[0,1],[1,0],[0,1],[0,0],[0,0],[0,0],[0,1],[0,1],[0,0],[0,0],[0,1],[0,0],[0,1],[1,0],[0,1],[0,1],[0,0],[1,1],[1,1],[0,0],[0,1],[0,0],[1,0],[1,1],[0,1],[1,1],[1,1],[0,1],[0,1],[1,1],[1,0],[0,1],[0,0],[0,0],[0,1],[1,1],[1,1],[0,0],[1,0],[0,1],[0,1],[0,1],[1,1],[0,0],[0,0],[1,1],[0,0],[1,1],[1,1],[0,0],[1,1],[1,0],[0,1],[0,1],[0,0],[0,1],[0,0],[0,1],[0,1],[1,1],[0,1],[1,1],[1,1],[0,0],[0,1],[0,0],[0,1],[0,0],[1,1],[1,1],[1,1],[0,1],[0,0],[0,0],[0,0],[1,0],[1,1],[1,0],[0,1],[0,0],[0,1],[0,1],[0,1],[0,0],[1,1],[0,1],[0,0],[0,1],[0,0],[0,1],[0,0],[0,0],[0,1],[1,0],[1,1],[0,1],[1,1],[0,1],[0,1],[0,0],[1,1],[1,1],[0,0],[0,0],[0,0],[1,1],[0,1],[0,0],[1,1],[1,1],[0,1],[0,0],[0,0],[1,1],[1,0],[1,1],[0,1],[0,1],[1,1],[0,1],[1,0],[0,1],[1,1],[0,1],[0,1],[1,1],[0,0],[0,0],[0,1],[0,1],[0,0],[0,1],[0,1],[0,1],[0,1],[0,1],[0,0],[0,1],[0,1],[0,1],[0,1],[0,1],[1,0],[0,1],[0,0],[0,1],[0,0],[0,1],[1,1],[1,1],[0,0],[0,0],[0,1],[0,1],[0,0],[0,1],[1,1],[0,1],[1,0],[0,1],[0,1],[1,1],[0,1],[0,0],[1,1],[1,1],[0,0],[1,0],[1,0],[0,0],[0,1],[0,1],[1,1],[0,0],[1,1],[0,1],[0,1],[0,1],[1,1],[0,1],[0,1],[1,1],[0,1],[0,1],[0,0],[0,0],[0,1],[0,0],[1,1],[0,0],[1,1],[1,1],[0,0],[0,0],[0,1],[0,1],[0,1],[0,1],[0,1],[0,1],[0,1],[1,1],[0,1],[0,0],[0,1],[1,1],[1,1],[0,1],[0,1],[1,0],[0,0],[0,1],[0,1],[0,0],[1,0],[0,0],[0,1],[0,1],[0,0],[1,1],[1,1],[0,1],[1,1],[0,0],[0,1],[0,0],[0,1],[0,1],[0,0],[1,1],[0,1],[0,1],[0,1],[0,1],[0,0],[0,1],[0,1],[1,1],[0,1],[0,1],[1,1],[1,1],[1,1],[1,1],[0,0],[0,1],[0,0],[0,1],[1,1],[0,1],[0,1],[0,1],[1,1],[1,1],[0,1],[0,0],[0,1],[0,1],[0,1],[0,1],[0,1],[0,0],[0,0],[0,0],[0,0],[0,1],[0,1],[0,0],[0,1],[0,1],[0,1],[1,1],[0,1],[0,1],[0,1],[1,0],[0,0],[0,1],[0,0],[0,0],[1,1],[0,1],[0,1],[0,1],[0,1],[0,1],[0,1],[0,0],[0,0],[1,1],[0,1],[0,0],[1,1],[0,1],[1,1],[0,1],[1,1],[1,1],[1,1],[0,1],[0,1],[0,1],[1,1],[0,1],[0,0],[1,1],[0,1],[0,0],[1,1],[0,1],[0,0],[1,1],[0,0],[1,1],[0,1],[1,1],[0,0],[0,1],[0,0],[0,1],[0,1],[0,1],[0,1],[1,1],[0,1],[0,1],[1,0],[0,0],[0,1],[0,0],[1,1],[0,1],[0,1],[1,1],[0,0],[0,1],[1,1],[1,1],[0,1],[1,0],[0,1],[0,0],[1,1],[0,0],[0,0],[1,1],[0,0],[1,1],[0,1],[0,0],[0,0],[1,1],[1,1],[1,1],[0,0],[0,1],[0,0],[1,1],[0,0],[0,1],[1,1],[0,0],[0,1],[0,1],[0,1],[0,1],[0,1],[0,1],[0,0],[1,1],[0,1],[1,1],[1,1],[1,1],[0,0],[0,1],[1,1],[0,1],[0,0],[0,1],[1,1],[0,1],[1,1],[0,1],[1,1],[0,1],[0,1],[1,1],[0,1],[0,1],[0,1],[1,1],[1,1],[0,0],[1,1],[0,1],[0,1],[0,0],[0,1],[0,1],[1,1],[1,1],[1,0],[0,1],[0,0],[0,0],[0,0],[1,0],[1,1],[1,1],[1,1],[1,1],[0,0],[0,0],[1,1],[0,1],[0,1],[0,1],[0,0],[0,1],[0,0],[0,1],[0,1],[0,0],[1,0],[0,0],[0,1],[0,1],[0,1],[0,0],[1,1],[0,1],[0,0],[0,0],[0,0],[0,1],[0,0],[1,1],[0,0],[0,1],[0,1],[0,0],[0,0],[0,0],[0,0],[0,1],[0,1],[0,0],[0,1],[1,1],[0,1],[0,0],[0,0],[1,1],[0,1],[0,1],[0,1],[1,1],[1,1],[0,0],[1,1],[1,1],[0,1],[0,1],[1,1],[0,0],[0,0],[1,1],[0,1],[0,0],[1,1],[0,1],[0,0],[0,1],[0,0],[0,1],[0,0],[0,0],[0,1],[0,0],[0,1],[0,0],[0,0],[0,0],[1,1],[0,1],[0,0],[0,1],[0,0],[0,1],[0,0],[0,0],[0,0],[0,1],[0,0],[0,0],[1,1],[0,0],[1,1],[0,1],[0,0],[0,1],[1,1],[0,1],[1,1],[1,1],[1,0],[0,0],[0,1],[0,1],[0,1],[1,1],[1,1],[0,1],[1,0],[0,1],[0,1],[0,1],[0,0],[0,1],[0,1],[0,1],[0,1],[0,1],[0,0],[0,1],[0,0],[1,1],[0,1],[0,0],[0,0],[0,0],[0,0],[0,1],[0,1],[0,1],[0,1],[0,1],[1,0],[0,0],[0,1],[0,0],[0,1],[0,1],[0,0],[0,1],[0,1],[0,1],[0,0],[0,0],[0,0],[1,1],[0,0],[1,0],[1,1],[1,1],[0,1],[0,1],[1,1],[1,1],[0,1],[1,1],[1,1],[0,1],[0,0],[0,0],[1,1],[1,1],[1,1],[0,0],[0,1],[0,0],[1,1],[0,1],[0,0],[0,0],[0,1],[0,1],[1,1],[0,1],[1,1],[0,1],[0,1],[0,0],[0,1],[0,1],[0,1],[1,1],[0,0],[0,1],[0,1],[0,1],[0,1],[0,1],[1,0],[0,1],[0,1],[0,0],[1,1],[0,1],[1,1],[1,1],[1,0],[0,1],[1,1],[0,1],[1,0],[0,1],[0,0],[0,1],[0,1],[0,0],[1,1],[0,0],[0,1],[0,1],[0,1],[0,1],[0,1],[1,1],[1,1],[0,1],[0,1],[0,1],[1,1],[0,1],[0,1],[0,1],[1,1],[0,1],[0,1],[1,1],[0,0],[0,1],[0,0],[1,1],[0,0],[0,1],[0,1],[1,1],[0,1],[1,1],[0,0],[0,0],[0,1],[1,1],[0,1],[1,1],[0,1],[0,1],[0,0],[1,1],[0,1],[1,1],[0,1],[1,1],[1,0],[0,1],[0,0],[1,1],[0,1],[0,1],[0,1],[0,1],[1,0],[0,1],[0,0],[0,1],[0,0],[0,1],[1,0],[0,0],[0,1],[0,0],[0,0],[0,1],[0,0],[1,1],[0,0],[0,1],[1,1],[0,1],[0,0],[0,1],[0,0],[0,1],[0,0],[0,0],[1,1],[1,1],[0,1],[0,0],[0,1],[0,1],[0,0],[0,0],[0,1],[0,0],[0,0],[0,1],[0,1],[0,0],[0,0],[0,1],[0,0],[0,1],[1,1],[0,1],[1,1],[0,1],[0,1],[0,1],[1,0],[0,1],[0,0],[0,1],[1,1],[0,1],[0,0],[0,1],[0,0],[0,1],[0,0],[0,1],[0,1],[1,1],[0,0],[1,0],[0,0],[1,1],[0,1],[0,1],[0,1],[0,1],[1,1],[0,0],[0,1],[0,1],[0,1],[1,1],[0,0],[0,1],[0,1],[1,1],[0,0],[0,1],[0,0],[0,1],[0,0],[0,1],[0,0],[1,1],[1,1],[1,1],[0,1],[0,0],[0,0],[0,0],[0,0],[0,1],[1,1],[0,0],[0,0],[0,1],[1,1],[0,0],[0,0],[0,1],[0,0],[0,0],[0,1],[1,0],[0,1],[0,0],[1,1],[0,1],[0,0],[0,1],[0,1],[0,1],[0,1],[0,1],[1,1],[0,0],[0,0],[1,1],[0,0],[0,1],[0,0],[0,1],[0,1],[1,0],[0,1],[1,1],[0,0],[0,0],[0,0],[0,0],[0,1],[0,0],[1,1],[1,1],[0,1],[0,0],[0,0],[0,0],[0,1],[0,1],[0,1],[0,1],[1,0],[0,1],[0,1],[1,1],[0,0],[0,0],[0,0],[0,0],[0,0],[1,1],[0,1],[0,1],[0,1],[1,1],[0,1],[1,1],[0,0],[0,1],[1,1],[0,1],[0,0],[0,1],[0,0],[1,1],[0,0],[0,1],[1,1],[0,0],[0,1],[0,1],[0,1],[0,0],[0,0],[0,0],[1,1],[0,1],[1,0],[0,1],[0,1],[0,1],[0,1],[0,1],[0,1],[0,1],[0,0],[0,1],[0,0],[1,1],[0,0],[1,1],[0,1],[0,1],[0,0],[0,0],[0,0],[1,1],[1,1],[1,1],[0,1],[0,1],[0,0],[0,1],[1,1],[0,0],[1,1],[0,1],[0,1],[0,1],[0,1],[0,1],[0,1],[0,1],[1,1],[0,1],[0,0],[0,0],[0,0],[0,1],[0,0],[0,0],[1,1],[1,1],[0,1],[0,0],[0,1],[0,0],[1,1],[0,0],[1,1],[1,1],[1,1],[1,1],[1,0],[1,1],[0,0],[0,1],[0,0],[1,1],[0,0],[0,1],[1,1],[0,1],[0,1],[0,0],[1,1],[0,1],[0,1],[1,0],[1,0],[0,0],[0,1],[0,0],[0,1],[0,0],[0,1],[0,0],[0,1],[1,1],[1,1],[1,0],[0,1],[0,0],[0,1],[0,0],[1,1],[0,1],[0,1],[0,0],[0,0],[0,1],[0,1],[0,0],[1,1],[0,0],[0,1],[1,1],[0,0],[1,1],[0,1],[1,1],[1,1],[0,0],[0,1],[0,1],[0,1],[0,0],[1,1],[0,0],[0,1],[0,1],[0,0],[1,1],[1,1],[0,0],[0,0],[1,0],[0,1],[0,1],[0,0],[1,1],[1,1],[0,1],[0,1],[0,0],[0,0],[0,1],[1,0],[1,0],[0,0],[0,0],[1,1],[0,1],[0,0],[1,1],[0,0],[0,1],[0,1],[0,0],[0,0],[0,1],[0,1],[0,0],[0,0],[0,1],[0,1],[0,0],[1,1],[0,1],[1,1],[0,0],[0,0],[0,1],[0,1],[0,0],[0,1],[0,0],[0,0],[0,1],[0,1],[1,1],[0,0],[0,0],[0,1],[0,1],[1,1],[0,1],[0,0],[0,1],[0,0],[0,1],[0,0],[0,1],[0,0],[1,1],[1,1],[0,0],[0,0],[0,0],[1,1],[0,1],[0,1],[0,1],[0,1],[1,1],[0,1],[0,1],[0,1],[0,1],[1,1],[0,1],[1,1],[1,1],[0,1],[0,0],[0,1],[0,1],[0,1],[0,1],[0,1],[0,1],[0,1],[0,0],[0,1],[0,1],[0,0],[1,1],[0,1],[0,0],[1,1],[1,1],[0,1],[1,1],[0,1],[0,0],[0,1],[0,1],[1,1],[0,1],[0,1],[0,1],[0,1],[0,1],[0,1],[0,0],[0,1],[0,1],[0,1],[0,1],[0,0],[0,0],[0,1],[0,1],[0,0],[0,1],[0,1],[1,0],[0,0],[0,1],[0,1],[0,1],[0,0],[0,1],[1,1],[0,1],[0,1],[0,0],[1,1],[1,1],[1,1],[0,0],[0,1],[0,0],[0,1],[1,1],[0,0],[0,0],[0,0],[1,1],[0,1],[0,1],[0,1],[0,0],[1,0],[0,0],[0,1],[0,1],[0,0],[1,1],[1,1],[0,1],[1,1],[0,0],[0,0],[0,1],[0,1],[0,1],[0,1],[0,1],[1,0],[1,1],[0,0],[1,1],[1,0],[0,0],[0,0],[0,1],[0,0],[1,1],[1,0],[1,1],[0,1],[1,1],[0,0],[0,0],[0,0],[0,1],[0,1],[0,1],[0,1],[0,0],[0,1],[1,1],[0,0],[0,1],[0,1],[1,1],[0,0],[0,1],[0,0],[0,1],[0,1],[0,1],[0,1],[0,0],[0,1],[0,0],[0,0],[1,1],[1,1],[1,1],[0,1],[0,1],[0,1],[1,1],[0,1],[1,1],[0,1],[0,1],[0,0],[1,1],[0,1],[1,1],[1,1],[0,1],[0,0],[0,1],[0,0],[0,0],[0,0],[1,1],[0,1],[0,1],[0,1],[0,1],[0,0],[0,0],[0,1],[0,0],[0,1],[0,0],[0,0],[0,1],[0,1],[1,1],[1,1],[0,0],[1,1],[1,1],[0,0],[0,0],[0,0],[0,0],[0,1],[1,0],[1,1],[1,1],[0,1],[0,0],[0,1],[1,1],[0,1],[1,1],[0,1],[1,1],[1,1],[0,0],[0,1],[0,0],[0,1],[1,1],[0,0],[0,1],[0,0],[0,0],[0,0],[1,1],[0,1],[0,1],[1,1],[1,0],[1,1],[0,1],[1,0],[0,0],[0,1],[0,0],[0,0],[1,0],[0,1],[0,0],[0,1],[1,1],[0,1],[0,0],[0,1],[1,1],[0,0],[1,1],[0,1],[0,1],[0,0],[0,0],[0,1],[0,1],[0,1],[0,1],[0,1],[1,1],[0,1],[1,0],[0,1],[0,0],[0,1],[0,0],[0,0],[0,1],[1,1],[0,0],[1,1],[1,1],[0,1],[0,0],[0,0],[0,0],[0,1],[0,1],[0,1],[0,1],[1,0],[0,1],[0,0],[1,1],[0,1],[0,1],[0,1],[0,0],[0,1],[1,1],[0,0],[0,1],[0,0],[0,1],[0,1],[0,1],[0,1],[0,0],[1,1],[1,1],[0,0],[1,1],[0,0],[1,0],[1,1],[1,1],[1,1],[0,0],[0,0],[0,1],[0,0],[0,1],[0,1],[0,0],[0,1],[0,1],[0,0],[0,1],[0,1],[0,1],[0,1],[0,0],[0,0],[0,1],[0,0],[0,1],[0,1],[0,0],[0,0],[0,1],[0,1],[0,1],[0,0],[0,1],[1,1],[0,1],[0,1],[0,0],[0,0],[0,1],[0,0],[0,1],[1,1],[0,1],[0,1],[0,1],[0,1],[0,1],[0,1],[1,0],[1,1],[0,1],[0,0],[0,0],[0,1],[0,1],[0,1],[0,1],[0,0],[1,1],[0,1],[0,1],[0,0],[0,1],[0,1],[0,1],[1,1],[1,0],[0,0],[0,1],[0,0],[0,0],[1,1],[0,1],[0,0],[0,1],[1,1],[0,1],[1,1],[0,1],[1,1],[1,1],[1,1],[0,1],[0,1],[0,0],[1,0],[0,1],[1,1],[0,1],[1,1],[1,1],[0,1],[0,0],[1,1],[0,1],[1,1],[0,1],[0,1],[0,1],[1,0],[1,1],[1,1],[1,1],[0,1],[0,1],[0,1],[1,1],[0,1],[1,1],[0,1],[0,1],[0,1],[1,1],[0,1],[0,1],[0,0],[0,1],[0,1],[0,1],[0,1],[0,1],[0,1],[0,1],[0,1],[0,0],[0,1],[0,1],[0,1],[0,1],[0,0],[0,1],[1,1],[0,1],[0,0],[0,1],[0,0],[0,1],[0,0],[1,1],[0,0],[1,1],[0,1],[0,1],[0,1],[1,1],[0,0],[0,1],[1,1],[0,0],[0,1],[0,1],[0,1],[0,0],[0,0],[0,1],[1,1],[0,1],[0,1],[0,1],[0,1],[0,1],[0,0],[0,1],[0,0],[0,1],[0,1],[0,1],[0,0],[1,1],[1,0],[0,0],[0,0],[0,0],[0,1],[0,1],[0,0],[0,0],[0,1],[1,0],[0,1],[0,1],[0,1],[0,1],[0,1],[0,0],[0,0],[1,1],[0,1],[0,0],[1,1],[0,1],[0,0],[0,0],[0,1],[0,1],[0,1],[0,0],[1,1],[0,1],[0,0],[0,1],[0,1],[0,0],[0,0],[0,1],[1,0],[1,1],[0,0],[1,1],[0,1],[1,1],[1,1],[0,1],[1,1],[0,0],[0,0],[0,0],[1,1],[0,1],[0,0],[1,1],[1,1],[1,1],[0,0],[0,1],[1,0],[0,1],[0,1],[0,1],[0,0],[0,1],[0,1],[0,1],[0,0],[1,1],[0,0],[0,0],[0,1],[0,0],[0,1],[0,0],[0,1],[0,0],[1,1],[0,0],[1,1],[0,0],[0,0],[0,1],[1,1],[0,1],[1,0],[0,0],[0,1],[0,1],[1,1],[1,1],[0,1],[0,1],[0,1],[0,1],[0,1],[1,1],[0,0],[0,1],[0,0],[0,1],[0,1],[1,1],[0,1],[1,0],[0,0],[0,1],[1,1],[0,0],[0,1],[1,0],[0,1],[1,1],[0,0],[1,0],[1,1],[1,1],[0,1],[1,1],[0,0],[0,0],[0,1],[0,1],[0,1],[0,1],[0,1],[0,1],[0,1],[0,1],[0,0],[0,1],[0,1],[0,1],[0,0],[0,0],[0,0],[1,1],[1,1],[0,0],[0,1],[0,0],[0,0],[0,1],[0,1],[1,1],[0,1],[0,1],[0,1],[0,0],[0,0],[0,1],[1,1],[0,1],[1,1],[0,1],[0,1],[1,0],[1,1],[1,0],[1,1],[0,1],[1,1],[0,0],[0,1],[0,1],[0,1],[0,1],[0,1],[0,1],[0,0],[1,1],[0,1],[1,1],[1,0],[0,0],[0,0],[0,0],[0,0],[0,1],[0,0],[1,1],[0,1],[1,1],[0,1],[0,1],[0,1],[0,1],[0,0],[0,1],[1,1],[0,1],[0,0],[0,0],[1,1],[0,0],[0,0],[0,0],[0,1],[1,1],[1,0],[1,1],[0,1],[0,1],[0,1],[0,1],[1,1],[0,0],[1,1],[0,1],[0,0],[0,0],[0,1],[0,1],[0,1],[0,0],[1,1],[0,1],[1,1],[0,0],[0,1],[1,1],[0,0],[0,0],[0,1],[1,1],[1,1],[0,1],[1,1],[0,0],[0,1],[0,1],[0,0],[0,1],[0,1],[0,1],[0,1],[0,1],[0,1],[1,1],[0,1],[1,1],[0,0],[0,0],[0,1],[0,1],[0,1],[0,1],[1,1],[1,1],[0,1],[0,1],[0,0],[0,0],[0,1],[1,1],[0,1],[0,1],[1,1],[1,1],[0,0],[0,1],[0,1],[0,1],[0,1],[0,0],[0,1],[1,1],[0,0],[0,1],[0,1],[0,1],[0,1],[0,1],[0,0],[0,1],[1,1],[0,0],[0,0],[0,1],[0,0],[0,0],[0,1],[0,0],[1,1],[0,0],[0,1],[0,1],[0,1],[0,1],[0,1],[0,1],[0,0],[0,1],[0,1],[1,0],[0,0],[0,1],[0,1],[0,1],[0,1],[0,1],[0,1],[0,1],[1,1],[0,0],[0,0],[0,1],[0,1],[1,0],[0,1],[0,1],[0,0],[0,0],[0,1],[0,0],[0,0],[0,0],[0,0],[1,1],[0,1],[0,1],[1,0],[1,1],[0,1],[0,0],[0,1],[0,1],[0,0],[0,1],[0,1],[0,0],[0,1],[0,0],[1,1],[1,1],[0,1],[1,1],[0,1],[0,1],[1,1],[0,0],[0,0],[0,0],[0,1],[0,0],[1,1],[0,1],[0,0],[0,0],[0,0],[1,1],[0,1],[1,1],[1,1],[1,1],[0,1],[0,0],[0,0],[0,1],[0,1],[0,0],[0,1],[1,1],[0,0],[0,1],[0,1],[0,0],[1,1],[0,1],[1,0],[0,0],[0,1],[0,0],[0,1],[0,1],[1,1],[0,0],[0,1],[1,1],[0,1],[0,0],[0,1],[0,1],[0,0],[0,0],[0,1],[0,0],[1,0],[0,1],[1,1],[0,1],[0,1],[1,1],[0,1],[0,1],[0,0],[0,1],[0,1],[0,0],[0,0],[0,0],[0,1],[0,1],[0,0],[1,0],[0,1],[0,1],[0,1],[0,0],[1,0],[0,0],[0,0],[1,1],[0,0],[0,1],[1,1],[0,0],[0,0],[1,1],[0,1],[0,1],[0,1],[0,0],[1,1],[0,1],[0,1],[0,0],[0,0],[0,0],[1,1],[0,0],[0,0],[1,0],[0,1],[0,1],[0,0],[0,1],[0,0],[1,0],[0,1],[0,0],[0,0],[0,1],[0,1],[0,1],[0,1],[0,1],[1,1],[0,1],[1,1],[0,1],[1,1],[0,1],[0,1],[0,1],[1,1],[0,0],[1,1],[0,1],[0,1],[0,1],[1,1],[1,1],[0,1],[0,0],[0,1],[0,1],[0,1],[0,1],[0,1],[1,1],[1,1],[0,0],[0,0],[0,1],[0,1],[0,1],[0,0],[0,1],[1,1],[0,0],[0,1],[1,1],[0,1],[0,1],[0,1],[0,1],[0,1],[1,1],[0,0],[0,0],[1,1],[0,1],[0,1],[0,0],[0,1],[0,0],[1,1],[1,1],[0,0],[0,1],[0,1],[0,1],[0,1],[0,1],[0,1],[1,1],[1,1],[0,1],[1,1],[0,1],[0,1],[0,1],[0,1],[1,1],[1,1],[0,0],[1,1],[0,1],[0,1],[0,1],[0,1],[0,0],[1,1],[0,0],[0,0],[0,0],[0,0],[1,1],[0,0],[0,1],[1,1],[0,1],[0,0],[0,1],[0,0],[0,0],[0,1],[0,1],[0,1],[1,1],[0,0],[0,0],[0,0],[0,1],[1,1],[0,1],[0,0],[1,1],[0,1],[1,1],[0,1],[0,1],[0,1],[0,1],[0,1],[0,1],[0,1],[0,0],[0,1],[0,1],[0,1],[0,1],[1,0],[1,0],[0,1],[0,1],[1,0],[0,1],[1,1],[0,0],[0,1],[0,0],[0,0],[1,1],[0,1],[0,0],[0,1],[0,1],[1,1],[0,0],[0,1],[0,0],[0,1],[0,0],[0,0],[1,1],[0,1],[0,0],[0,0],[0,0],[0,0],[0,0],[0,0],[0,0],[0,1],[0,1],[0,0],[0,0],[1,1],[1,1],[0,1],[1,1],[0,1],[0,0],[0,0],[0,1],[0,1],[0,1],[1,0],[1,1],[0,0],[0,0],[0,0],[0,1],[1,1],[0,0],[0,1],[0,0],[0,1],[0,1],[0,1],[0,1],[1,1],[1,1],[0,0],[1,0],[1,1],[0,0],[0,1],[0,1],[0,1],[1,1],[0,1],[0,1],[0,1],[0,0],[0,1],[0,0],[1,1],[0,1],[0,1],[0,1],[0,0],[0,1],[0,0],[1,0],[0,1],[0,0],[0,1],[0,0],[1,1],[1,1],[1,1],[0,1],[0,1],[0,0],[0,0],[0,0],[1,1],[0,1],[0,1],[1,1],[0,0],[0,0],[0,1],[1,1],[0,1],[0,1],[0,1],[0,1],[0,1],[0,0],[0,0],[0,0],[0,1],[0,0],[0,1],[1,0],[0,0],[1,1],[0,1],[0,0],[0,0],[0,1],[0,0],[0,0],[0,1],[0,1],[0,0],[1,1],[0,0],[1,1],[0,1],[1,1],[0,1],[0,0],[0,0],[0,0],[0,0],[1,1],[0,1],[0,1],[0,1],[1,1],[1,1],[0,1],[0,1],[0,1],[0,0],[0,1],[0,0],[0,1],[0,1],[0,1],[1,0],[0,0],[1,1],[0,0],[0,1],[0,1],[0,1],[0,1],[0,0],[0,1],[0,1],[0,0],[0,1],[0,1],[0,0],[0,1],[0,0],[0,1],[0,1],[0,1],[0,1],[0,0],[0,0],[0,0],[0,1],[1,1],[0,1],[0,0],[0,1],[0,1],[0,1],[1,1],[1,1],[0,0],[0,1],[0,1],[0,1],[0,1],[1,1],[0,1],[0,0],[1,1],[0,1],[0,1],[0,1],[0,1],[1,1],[0,0],[0,1],[0,1],[0,1],[0,0],[0,0],[0,1],[0,1],[0,0],[0,1],[1,1],[0,0],[0,1],[0,0],[0,1],[0,0],[0,1],[0,0],[1,1],[0,1],[0,0],[1,0],[0,1],[0,1],[0,1],[1,1],[0,1],[0,1],[0,1],[0,1],[0,1],[0,0],[0,1],[0,1],[0,0],[1,0],[0,1],[0,1],[0,1],[0,0],[0,1],[1,0],[0,1],[0,0],[0,1],[0,1],[0,1],[0,0],[0,1],[0,1],[0,1],[0,1],[0,1],[0,1],[0,0],[0,1],[1,1],[0,1],[1,1],[0,1],[0,1],[1,1],[0,0],[1,1],[0,1],[0,1],[0,0],[0,1],[0,1],[0,0],[0,1],[1,1],[0,1],[1,1],[0,0],[0,1],[0,1],[0,0],[1,1],[1,1],[0,1],[1,1],[1,1],[0,1],[0,1],[0,0],[0,0],[0,1],[0,0],[0,1],[0,1],[1,1],[0,1],[0,0],[1,1],[0,0],[0,1],[0,1],[0,1],[0,1],[0,1],[1,0],[0,1],[0,1],[0,0],[1,1],[1,1],[0,1],[1,0],[0,1],[1,1],[0,0],[0,1],[1,1],[1,1],[0,1],[0,1],[0,1],[0,1],[0,1],[1,1],[0,1],[1,1],[0,1],[1,1],[0,1],[0,1],[0,1],[0,1],[0,0],[0,0],[1,0],[0,0],[0,0],[0,0],[0,1],[0,1],[0,1],[1,1],[0,1],[1,1],[1,1],[1,1],[0,0],[1,1],[0,1],[0,1],[0,1],[1,1],[0,1],[0,0],[0,1],[1,1],[0,1],[0,1],[0,0],[0,0],[0,1],[0,1],[1,1],[0,0],[1,1],[0,1],[0,1],[0,1],[0,0],[0,0],[0,1],[0,1],[1,1],[0,1],[1,1],[0,0],[0,1],[0,0],[0,0],[1,1],[0,1],[1,1],[0,1],[0,1],[0,1],[0,1],[1,1],[1,1],[0,0],[1,1],[0,0],[0,1],[0,1],[0,1],[0,1],[1,1],[0,1],[0,1],[0,1],[0,1],[0,0],[0,1],[0,0],[0,1],[0,1],[1,1],[0,1],[0,1],[0,1],[1,1],[0,1],[1,1],[0,1],[0,1],[0,1],[1,1],[0,0],[0,0],[0,1],[0,1],[0,1],[0,0],[0,1],[1,1],[1,1],[0,1],[1,1],[0,1],[0,1],[0,0],[0,1],[0,0],[1,1],[0,1],[0,0],[0,0],[0,1],[1,1],[0,1],[0,1],[0,1],[0,1],[0,0],[1,0],[0,1],[0,1],[1,1],[1,1],[0,1],[0,1],[0,0],[0,0],[1,1],[0,1],[0,0],[0,1],[0,0],[0,1],[0,1],[0,0],[0,1],[0,1],[0,1],[1,1],[1,0],[1,1],[0,0],[0,1],[0,1],[1,1],[0,1],[1,1],[0,0],[0,1],[0,0],[0,1],[1,1],[0,0],[0,1],[0,0],[1,0],[1,1],[0,1],[0,1],[0,1],[1,1],[0,1],[0,0],[0,0],[0,1],[0,1],[0,0],[0,0],[1,1],[0,1],[1,0],[0,1],[0,1],[0,0],[1,1],[1,1],[1,1],[1,1],[0,0],[0,1],[0,0],[0,0],[0,1],[0,1],[0,0],[1,1],[0,0],[0,1],[1,1],[1,1],[0,1],[0,0],[0,1],[0,1],[0,0],[0,1],[0,1],[0,0],[0,1],[0,0],[1,1],[0,1],[0,1],[0,1],[1,1],[0,0],[0,1],[0,1],[0,0],[0,0],[0,1],[0,0],[0,1],[0,1],[0,0],[1,1],[0,1],[0,0],[1,1],[0,1],[0,0],[1,1],[0,0],[1,1],[0,1],[1,0],[1,1],[0,1],[0,1],[1,1],[0,1],[0,0],[0,0],[0,1],[1,1],[1,0],[0,0],[0,0],[0,0],[0,1],[0,1],[1,1],[0,0],[0,1],[0,1],[0,1],[0,1],[0,1],[0,1],[1,1],[1,1],[0,1],[1,1],[0,0],[1,1],[0,1],[0,1],[0,1],[1,0],[1,1],[0,0],[0,1],[0,1],[1,0],[1,1],[0,1],[1,1],[0,1],[0,1],[0,1],[0,1],[1,1],[0,0],[0,1],[0,1],[0,1],[0,1],[0,0],[0,1],[0,0],[0,1],[0,1],[1,1],[0,1],[0,0],[0,1],[0,0],[0,0],[0,1],[0,0],[0,1],[0,0],[0,1],[0,1],[1,1],[0,1],[0,1],[0,1],[0,1],[1,1],[0,0],[0,1],[0,1],[0,0],[0,1],[0,0],[0,1],[0,0],[0,0],[0,1],[0,1],[0,0],[0,1],[0,1],[0,1],[1,1],[1,1],[0,0],[0,1],[0,1],[0,1],[0,0],[0,1],[1,1],[0,1],[1,1],[0,0],[0,1],[0,1],[0,1],[0,1],[0,1],[0,0],[0,1],[1,1],[0,1],[0,1],[0,1],[1,0],[1,1],[0,1],[0,1],[0,0],[0,0],[0,1],[0,0],[0,1],[0,1],[0,0],[1,1],[0,0],[0,1],[0,1],[0,1],[1,0],[1,1],[0,0],[0,1],[0,1],[1,0],[0,1],[0,1],[0,1],[0,0],[0,0],[0,1],[1,1],[1,1],[0,0],[0,0],[0,1],[0,1],[1,1],[0,1],[0,1],[0,1],[0,1],[0,1],[0,0],[0,1],[0,1],[0,1],[0,1],[0,1],[0,0],[0,1],[0,1],[0,1],[0,0],[0,1],[0,0],[0,0],[0,1],[0,0],[1,1],[0,0],[0,1],[0,0],[0,0],[1,1],[0,0],[0,0],[0,1],[0,0],[0,1],[1,1],[1,1],[1,1],[0,1],[0,0],[1,1],[0,1],[0,1],[1,0],[0,1],[0,0],[0,1],[0,0],[0,1],[0,0],[0,1],[1,1],[0,1],[1,0],[0,0],[0,0],[0,1],[0,1],[0,0],[0,1],[1,0],[0,1],[0,1],[0,1],[0,1],[1,1],[1,1],[1,1],[0,1],[0,1],[0,0],[0,0],[0,1],[0,1],[0,0],[0,1],[1,1],[0,0],[0,1],[0,1],[0,0],[1,0],[0,1],[1,1],[0,0],[0,1],[1,1],[0,0],[0,1],[0,1],[1,1],[1,1],[0,0],[0,0],[1,1],[0,1],[0,1],[0,1],[0,0],[0,1],[0,0],[0,0],[1,1],[0,1],[0,0],[0,1],[0,1],[1,1],[0,1],[1,1],[0,1],[0,0],[0,0],[0,1],[0,1],[1,1],[0,1],[0,1],[1,1],[0,1],[0,1],[0,0],[1,1],[0,0],[0,1],[1,1],[0,0],[0,1],[1,1],[0,0],[0,1],[0,1],[0,1],[0,0],[1,1],[0,1],[0,1],[0,1],[1,1],[1,1],[0,0],[0,1],[0,1],[0,1],[0,0],[0,1],[0,0],[0,1],[0,0],[0,0],[0,0],[0,1],[0,0],[0,1],[1,1],[0,0],[0,1],[0,1],[0,0],[0,1],[0,1],[0,1],[0,1],[0,1],[0,1],[0,1],[0,0],[1,1],[0,1],[0,1],[1,1],[0,0],[1,1],[1,1],[0,0],[1,1],[1,1],[0,1],[0,1],[0,1],[0,0],[0,1],[1,1],[1,1],[0,1],[0,1],[0,1],[0,1],[0,0],[0,0],[1,1],[0,0],[0,1],[0,1],[1,0],[1,1],[0,1],[0,1],[0,1],[0,1],[0,0],[1,1],[0,1],[1,1],[0,0],[0,1],[0,1],[0,0],[0,0],[0,1],[1,1],[1,1],[0,1],[0,0],[0,0],[0,1],[0,0],[1,1],[0,1],[0,0],[0,1],[1,1],[0,1],[0,0],[0,0],[1,1],[0,0],[1,0],[0,0],[1,1],[0,0],[0,1],[1,1],[0,0],[0,1],[0,1],[0,1],[1,1],[0,1],[0,0],[1,1],[0,0],[0,0],[0,0],[0,0],[1,0],[1,1],[0,1],[0,0],[0,1],[1,1],[1,1],[0,1],[0,1],[0,1],[0,1],[0,0],[1,1],[0,1],[0,1],[0,1],[1,0],[1,1],[0,1],[0,1],[0,1],[0,0],[0,0],[0,1],[0,1],[0,0],[0,0],[0,1],[0,0],[0,1],[1,1],[1,1],[1,1],[1,1],[1,1],[1,1],[0,0],[1,1],[0,1],[1,1],[0,1],[1,1],[0,0],[1,0],[0,1],[0,1],[0,0],[0,0],[0,0],[0,0],[0,0],[0,0],[0,1],[1,1],[0,1],[1,1],[0,0],[0,1],[0,0],[0,1],[1,1],[0,0],[0,1],[0,0],[0,1],[1,0],[0,0],[0,1],[0,1],[0,1],[0,0],[0,1],[0,1],[0,0],[0,1],[0,0],[0,0],[0,0],[0,1],[1,0],[0,1],[0,1],[0,1],[0,1],[0,1],[0,0],[0,0],[0,0],[0,0],[0,1],[1,1],[0,0],[0,0],[0,1],[0,1],[0,1],[0,1],[0,1],[0,0],[1,1],[0,1],[0,1],[0,0],[0,0],[1,1],[0,1],[1,0],[1,1],[0,1],[0,1],[0,1],[0,1],[0,0],[0,1],[0,0],[0,1],[1,0],[1,1],[0,1],[0,1],[0,1],[0,1],[0,1],[0,0],[1,1],[1,1],[1,1],[0,1],[0,1],[0,1],[0,1],[1,1],[0,0],[1,0],[0,0],[0,1],[0,1],[0,0],[0,1],[0,0],[1,1],[0,1],[0,1],[1,0],[0,1],[0,1],[0,1],[0,1],[0,0],[0,1],[1,1],[0,1],[0,1],[0,0],[0,0],[0,0],[0,1],[0,1],[0,1],[0,0],[0,0],[0,1],[0,1],[0,1],[1,1],[0,0],[0,1],[1,0],[1,1],[0,1],[0,0],[0,1],[0,1],[0,1],[1,1],[0,1],[0,1],[0,1],[0,1],[0,1],[0,0],[0,0],[1,1],[0,0],[1,1],[0,0],[1,1],[0,1],[0,1],[0,1],[0,1],[0,1],[0,0],[0,1],[1,1],[0,0],[0,1],[0,1],[0,1],[1,1],[1,1],[0,1],[0,1],[1,1],[0,0],[0,0],[1,1],[0,1],[0,1],[0,0],[1,1],[0,1],[0,1],[0,1],[1,1],[0,0],[0,1],[1,1],[0,0],[0,0],[0,0],[1,1],[1,0],[0,0],[0,1],[0,1],[0,1],[0,0],[1,0],[0,1],[1,1],[0,0],[0,1],[0,1],[0,1],[0,1],[1,1],[1,0],[0,1],[1,1],[0,0],[0,1],[0,0],[0,1],[0,0],[0,0],[0,1],[1,1],[0,1],[0,1],[0,1],[0,1],[0,0],[0,1],[0,1],[0,1],[0,0],[0,1],[1,0],[1,1],[0,1],[1,1],[0,1],[1,1],[0,0],[0,1],[0,1],[0,1],[0,1],[0,1],[0,0],[0,1],[0,0],[1,1],[1,1],[1,1],[0,1],[0,0],[0,1],[1,1],[1,1],[0,0],[1,1],[0,1],[1,1],[0,1],[0,1],[1,1],[0,1],[0,1],[0,1],[0,0],[1,1],[0,1],[0,1],[0,1],[1,1],[0,1],[0,0],[0,1],[0,0],[0,0],[0,1],[0,1],[1,1],[1,1],[0,0],[1,1],[0,1],[0,0],[1,1],[0,1],[1,1],[0,1],[1,1],[0,0],[0,0],[0,1],[0,0],[0,0],[0,1],[0,0],[0,0],[0,1],[0,1],[0,0],[0,1],[0,0],[1,0],[0,0],[0,1],[0,0],[0,1],[0,1],[1,1],[1,1],[0,1],[0,0],[0,1],[0,0],[0,1],[0,1],[0,0],[1,1],[0,1],[1,1],[0,1],[1,1],[1,1],[0,1],[0,0],[0,1],[0,1],[0,0],[0,1],[0,1],[1,1],[0,1],[0,0],[0,1],[1,0],[0,1],[0,1],[0,1],[0,1],[1,1],[0,1],[0,1],[1,1],[1,1],[0,1],[1,1],[0,1],[0,1],[1,1],[0,0],[1,1],[0,0],[0,1],[0,0],[0,1],[0,0],[0,1],[1,1],[1,1],[0,0],[0,1],[1,1],[0,0],[0,0],[0,0],[0,1],[1,1],[0,1],[0,1],[0,0],[1,0],[0,0],[1,1],[0,1],[0,0],[0,1],[0,1],[0,0],[0,0],[0,1],[0,0],[0,0],[0,0],[0,0],[0,1],[0,0],[0,1],[0,1],[0,1],[1,0],[0,1],[0,1],[1,1],[0,0],[0,0],[0,1],[0,1],[1,1],[1,0],[0,1],[0,1],[0,1],[0,1],[0,0],[0,0],[0,1],[0,1],[0,0],[1,1],[0,0],[1,1],[0,1],[1,1],[1,1],[0,1],[0,0],[1,1],[0,1],[0,1],[1,1],[0,1],[1,1],[0,1],[1,1],[1,1],[1,1],[0,1],[0,1],[1,0],[1,1],[0,0],[0,1],[1,1],[0,0],[0,1],[1,1],[0,0],[0,1],[0,0],[0,0],[0,0],[1,1],[0,0],[0,1],[0,0],[0,1],[0,1],[0,1],[0,1],[0,1],[0,1],[0,0],[0,0],[0,0],[0,0],[0,1],[0,1],[0,0],[1,1],[1,1],[0,1],[0,1],[0,1],[0,1],[0,0],[0,1],[0,0],[0,1],[0,1],[0,1],[0,1],[1,1],[0,0],[0,1],[0,1],[0,0],[0,0],[0,1],[0,1],[0,1],[1,1],[1,1],[0,1],[0,1],[0,1],[0,1],[0,1],[0,1],[0,0],[0,1],[0,1],[0,1],[1,1],[0,1],[0,0],[0,0],[0,1],[1,0],[0,0],[1,0],[0,0],[0,0],[0,0],[1,1],[1,1],[0,1],[0,1],[1,1],[1,0],[0,0],[1,1],[1,0],[1,1],[0,1],[0,1],[0,1],[0,0],[1,1],[1,0],[0,1],[1,0],[0,1],[1,0],[0,1],[0,1],[0,0],[0,1],[0,1],[0,0],[0,1],[0,1],[0,1],[0,0],[0,1],[1,1],[1,1],[0,1],[1,0],[0,0],[0,0],[1,1],[0,0],[0,0],[0,1],[1,1],[0,1],[0,1],[0,1],[0,0],[0,1],[0,1],[0,1],[1,1],[0,1],[1,1],[1,1],[0,0],[0,1],[0,1],[0,1],[0,0],[0,0],[0,0],[1,1],[0,0],[1,1],[1,1],[1,1],[0,0],[0,1],[0,0],[0,1],[0,0],[0,1],[1,1],[1,1],[0,0],[0,1],[1,1],[1,1],[0,1],[1,1],[0,0],[0,0],[0,1],[0,1],[0,0],[0,1],[0,1],[0,1],[1,0],[0,1],[0,1],[0,1],[0,0],[1,0],[0,0],[0,1],[1,1],[1,1],[1,1],[0,1],[0,1],[0,1],[0,0],[1,1],[0,1],[0,0],[1,1],[1,1],[0,1],[0,1],[1,1],[0,1],[0,1],[0,1],[0,1],[0,1],[0,0],[0,0],[0,0],[0,1],[0,0],[0,1],[0,0],[0,1],[1,1],[0,1],[0,1],[0,1],[1,1],[0,0],[1,1],[0,0],[0,1],[0,1],[0,0],[0,0],[1,1],[0,1],[0,0],[0,1],[0,1],[0,1],[0,1],[0,1],[1,0],[0,0],[1,1],[0,1],[1,1],[0,0],[0,1],[0,0],[0,0],[0,1],[0,1],[1,1],[0,0],[0,1],[0,1],[0,0],[1,1],[0,1],[1,1],[1,1],[1,0],[0,0],[1,1],[0,1],[1,1],[0,1],[0,1],[0,1],[0,1],[1,1],[0,1],[0,1],[0,1],[0,0],[1,1],[0,1],[0,1],[0,1],[0,1],[1,0],[1,1],[1,1],[0,1],[0,0],[0,0],[0,1],[0,0],[0,0],[0,0],[0,1],[0,1],[0,0],[0,0],[1,1],[1,1],[0,1],[1,1],[0,1],[0,0],[0,1],[0,1],[0,1],[0,0],[1,1],[0,0],[0,0],[1,0],[0,1],[0,0],[0,1],[0,0],[0,1],[0,1],[0,0],[0,0],[0,0],[1,1],[0,1],[0,1],[0,1],[0,1],[0,1],[0,0],[0,1],[0,1],[1,1],[0,1],[0,1],[0,0],[1,1],[0,1],[1,1],[0,1],[1,1],[0,1],[1,1],[0,0],[0,1],[0,1],[0,1],[0,1],[1,1],[0,1],[0,1],[0,1],[0,1],[0,0],[0,0],[0,1],[1,0],[0,0],[1,1],[0,1],[0,0],[1,0],[1,1],[0,0],[0,1],[0,0],[0,1],[1,0],[0,1],[0,1],[0,1],[0,1],[1,1],[1,0],[1,1],[0,1],[0,1],[0,0],[1,1],[0,1],[0,0],[1,1],[0,1],[0,1],[0,0],[0,1],[0,1],[0,0],[0,1],[0,0],[0,0],[1,1],[0,1],[1,1],[0,1],[1,1],[0,1],[0,0],[0,0],[1,1],[1,1],[0,1],[1,1],[0,1],[0,0],[0,1],[0,1],[0,0],[0,1],[0,0],[0,1],[0,1],[0,1],[0,1],[0,1],[0,0],[1,0],[0,1],[1,1],[1,0],[1,1],[1,1],[0,0],[0,1],[0,1],[1,1],[0,0],[0,1],[0,1],[0,0],[0,1],[1,1],[0,1],[1,1],[1,1],[1,1],[0,0],[0,0],[1,0],[1,1],[0,1],[0,1],[0,0],[0,1],[0,1],[0,0],[0,1],[0,1],[0,0],[0,1],[0,1],[0,0],[0,0],[0,1],[0,1],[0,1],[0,0],[0,1],[0,1],[1,1],[0,0],[0,1],[0,1],[0,0],[1,1],[0,0],[0,0],[0,0],[1,1],[0,1],[0,1],[1,1],[0,0],[1,1],[0,1],[1,1],[0,0],[0,1],[1,1],[0,0],[0,0],[1,1],[0,1],[0,0],[1,1],[0,1],[0,0],[0,1],[0,1],[0,0],[0,1],[0,0],[1,1],[0,1],[0,1],[0,1],[0,1],[0,1],[0,0],[1,1],[1,1],[1,0],[0,1],[1,1],[0,0],[0,1],[1,1],[0,1],[1,1],[0,1],[0,1],[1,0],[0,1],[0,0],[0,1],[0,1],[1,1],[0,0],[0,0],[0,1],[0,1],[0,1],[0,1],[0,0],[0,1],[0,1],[0,0],[0,1],[0,0],[0,0],[0,0],[0,0],[0,0],[0,1],[0,1],[0,1],[0,1],[0,0],[0,0],[0,0],[1,1],[0,1],[1,1],[0,0],[0,1],[0,1],[0,1],[0,0],[0,1],[0,0],[0,1],[0,1],[0,1],[0,1],[1,1],[0,1],[0,1],[1,1],[0,1],[0,0],[1,0],[1,1],[1,1],[1,1],[0,0],[0,0],[0,0],[0,0],[0,1],[1,0],[0,0],[0,1],[0,1],[0,1],[0,0],[1,1],[0,0],[1,1],[0,0],[0,1],[1,1],[1,1],[0,1],[1,1],[0,1],[0,0],[0,0],[0,0],[0,1],[0,1],[0,1],[1,1],[0,1],[1,1],[0,1],[0,1],[0,1],[0,1],[1,1],[0,0],[0,1],[0,0],[0,0],[0,0],[0,0],[0,1],[0,1],[0,1],[0,1],[0,1],[0,0],[0,1],[1,1],[0,1],[0,0],[0,1],[1,0],[0,1],[0,1],[0,1],[0,0],[0,1],[0,1],[0,0],[0,0],[1,1],[0,1],[0,0],[1,1],[1,1],[0,1],[0,1],[0,1],[0,1],[0,1],[0,1],[0,1],[0,0],[0,1],[0,0],[0,1],[1,1],[1,1],[1,0],[0,0],[1,1],[0,1],[0,0],[1,0],[1,1],[0,1],[0,0],[0,1],[0,1],[0,1],[1,1],[0,1],[1,0],[0,0],[0,1],[1,0],[1,1],[0,1],[1,1],[0,1],[1,1],[0,1],[0,1],[1,1],[0,0],[1,0],[0,1],[0,1],[0,0],[0,0],[0,0],[0,0],[0,0],[1,1],[0,0],[0,1],[1,0],[0,1],[0,0],[0,1],[1,1],[0,1],[0,0],[0,1],[0,1],[0,1],[0,1],[0,0],[0,1],[1,1],[0,1],[0,1],[1,1],[1,1],[0,1],[1,1],[0,0],[0,1],[0,1],[0,1],[0,0],[1,1],[1,1],[0,1],[0,1],[0,1],[0,1],[0,0],[0,1],[0,1],[1,1],[0,0],[0,0],[0,1],[0,1],[0,0],[0,1],[0,0],[0,0],[0,1],[0,0],[1,1],[1,1],[0,0],[0,0],[0,0],[0,0],[0,1],[0,1],[0,0],[0,1],[0,1],[0,1],[0,1],[0,1],[0,0],[0,0],[1,0],[1,1],[0,1],[0,1],[0,0],[0,0],[0,1],[0,1],[0,1],[0,1],[1,1],[0,0],[0,0],[0,0],[0,0],[1,1],[0,1],[0,0],[0,0],[1,1],[1,1],[0,1],[0,1],[0,1],[0,1],[0,0],[1,1],[0,1],[0,1],[0,0],[0,1],[1,1],[1,1],[0,0],[1,1],[1,1],[0,0],[0,1],[0,0],[0,0],[1,1],[0,0],[1,1],[0,1],[0,1],[0,1],[1,0],[0,1],[1,1],[0,1],[0,1],[1,1],[0,1],[0,1],[0,0],[0,0],[0,1],[0,1],[0,1],[0,0],[0,1],[0,1],[0,1],[0,0],[0,0],[1,0],[0,1],[0,0],[0,1],[1,1],[0,0],[0,1],[1,1],[0,0],[0,0],[0,0],[1,1],[0,1],[0,0],[0,1],[0,0],[0,1],[1,1],[0,1],[0,0],[1,1],[1,1],[0,1],[0,1],[0,0],[1,1],[0,1],[0,0],[1,1],[1,1],[1,1],[0,1],[1,1],[1,1],[0,1],[0,1],[0,0],[0,0],[1,1],[0,0],[0,1],[0,0],[1,1],[0,1],[0,0],[1,1],[0,0],[0,1],[0,0],[0,1],[0,1],[1,1],[0,1],[0,0],[1,1],[0,1],[0,0],[0,1],[0,0],[1,1],[0,1],[1,1],[0,1],[0,1],[1,1],[0,1],[0,1],[1,1],[0,1],[0,1],[0,1],[1,0],[0,1],[1,1],[1,0],[0,1],[0,1],[0,1],[0,0],[0,0],[0,0],[1,1],[0,1],[1,1],[0,1],[0,0],[1,1],[0,1],[0,1],[1,1],[1,1],[0,1],[1,1],[0,0],[0,1],[1,1],[1,0],[0,0],[0,0],[1,1],[0,0],[0,0],[0,0],[0,0],[1,1],[1,1],[1,1],[0,1],[0,1],[1,1],[1,1],[0,1],[0,1],[0,1],[0,0],[0,1],[0,0],[0,1],[0,1],[0,1],[0,1],[0,0],[1,0],[1,1],[0,0],[0,0],[0,1],[0,1],[1,1],[0,0],[0,1],[0,1],[0,1],[0,1],[0,0],[0,0],[1,1],[1,0],[1,1],[0,1],[1,1],[1,1],[0,0],[0,1],[0,0],[0,0],[0,1],[0,0],[0,1],[0,1],[0,0],[0,1],[0,1],[0,1],[0,0],[0,0],[1,1],[0,1],[1,1],[0,1],[1,1],[0,0],[1,1],[1,1],[1,1],[0,0],[0,1],[0,1],[0,1],[0,0],[0,1],[0,0],[0,1],[0,1],[0,1],[0,0],[0,0],[0,1],[1,1],[0,1],[1,1],[0,0],[1,0],[0,1],[1,1],[0,1],[1,1],[0,0],[1,1],[1,1],[0,0],[0,0],[0,1],[0,1],[0,1],[0,1],[0,1],[0,0],[1,1],[0,0],[0,0],[0,1],[0,1],[0,1],[0,1],[0,1],[0,0],[0,0],[0,0],[1,1],[0,1],[0,1],[0,1],[0,0],[1,1],[0,0],[0,1],[0,0],[1,1],[1,1],[0,1],[1,1],[1,1],[0,0],[0,0],[1,1],[1,1],[0,0],[0,0],[1,1],[1,0],[1,1],[0,0],[0,1],[0,1],[0,1],[1,1],[0,1],[0,1],[0,1],[0,0],[0,1],[0,1],[1,1],[0,0],[0,0],[0,1],[0,1],[0,1],[0,1],[0,0],[0,1],[0,1],[0,1],[0,1],[1,1],[0,0],[0,1],[0,1],[0,1],[0,1],[0,1],[1,1],[1,1],[0,1],[0,0],[0,1],[0,1],[1,1],[0,0],[0,0],[1,1],[0,0],[0,1],[0,0],[0,1],[1,0],[0,1],[0,0],[0,1],[0,1],[0,1],[0,1],[0,0],[0,1],[0,0],[0,1],[0,0],[1,1],[0,1],[0,0],[0,1],[1,1],[0,0],[1,1],[0,1],[0,0],[1,1],[0,0],[1,0],[1,1],[0,0],[0,1],[1,1],[0,1],[0,1],[0,1],[0,1],[0,1],[0,0],[0,1],[1,1],[0,1],[1,1],[0,0],[0,0],[0,0],[0,1],[1,1],[0,1],[0,0],[0,1],[0,1],[1,1],[0,1],[0,1],[1,1],[0,1],[0,0],[0,0],[0,0],[0,0],[1,1],[0,1],[1,0],[0,0],[0,1],[0,1],[0,1],[0,0],[0,0],[0,0],[0,0],[1,0],[1,1],[0,0],[0,1],[0,1],[0,0],[0,1],[1,1],[0,1],[0,1],[0,1],[0,1],[0,0],[0,1],[0,0],[0,1],[1,0],[0,1],[0,1],[0,1],[1,1],[0,1],[0,1],[0,0],[0,0],[0,1],[0,1],[0,0],[1,1],[1,1],[1,1],[0,0],[0,1],[1,1],[0,1],[1,1],[0,1],[0,1],[0,1],[1,1],[1,1],[0,1],[1,0],[1,0],[1,1],[0,1],[0,0],[0,1],[0,0],[0,0],[0,1],[0,1],[0,1],[0,0],[0,0],[0,0],[0,1],[0,0],[0,1],[1,1],[1,1],[1,0],[0,1],[0,0],[1,1],[0,0],[0,0],[1,1],[0,1],[0,1],[0,1],[0,1],[0,0],[0,0],[0,0],[0,1],[1,1],[0,1],[1,1],[0,1],[0,1],[0,1],[0,1],[0,0],[1,1],[0,0],[1,0],[0,1],[0,1],[0,1],[0,0],[0,1],[0,1],[1,1],[1,1],[0,1],[0,1],[1,0],[0,0],[0,0],[0,1],[0,0],[1,1],[0,1],[0,0],[0,1],[1,1],[0,0],[0,1],[0,0],[1,1],[0,1],[1,1],[0,1],[1,1],[0,1],[1,1],[0,0],[1,0],[0,0],[1,0],[0,1],[0,0],[0,0],[0,1],[0,0],[0,1],[0,1],[0,1],[0,1],[0,1],[1,1],[0,1],[1,1],[1,1],[0,1],[0,1],[1,1],[0,1],[1,1],[1,0],[0,1],[0,1],[0,1],[1,1],[0,1],[0,1],[0,1],[1,0],[0,1],[0,1],[1,1],[0,0],[0,1],[1,0],[1,1],[1,1],[0,1],[1,1],[1,1],[1,1],[0,0],[0,1],[0,0],[1,1],[0,0],[1,1],[0,1],[0,1],[0,1],[0,0],[1,0],[0,1],[0,1],[0,1],[0,0],[0,1],[0,1],[1,1],[1,1],[0,0],[0,0],[1,1],[0,1],[0,1],[0,0],[0,1],[1,1],[1,1],[0,1],[0,0],[0,1],[0,1],[0,0],[0,1],[0,1],[0,0],[0,1],[0,1],[0,0],[0,0],[0,1],[1,1],[0,1],[0,1],[0,1],[0,0],[0,1],[1,1],[0,1],[0,1],[0,0],[0,1],[0,1],[0,0],[1,1],[0,1],[0,1],[0,0],[1,1],[1,1],[0,0],[0,1],[1,1],[0,1],[0,1],[0,1],[0,1],[0,1],[0,1],[0,0],[1,1],[0,1],[0,0],[0,1],[0,1],[1,0],[1,0],[0,1],[0,0],[1,1],[0,0],[0,1],[0,1],[0,1],[0,1],[0,1],[0,1],[0,1],[0,0],[0,1],[0,0],[0,0],[0,1],[0,0],[1,1],[1,1],[0,0],[1,1],[0,1],[0,1],[0,1],[1,1],[0,1],[0,0],[0,1],[1,1],[0,1],[1,1],[0,1],[0,1],[0,1],[1,1],[0,1],[0,0],[0,1],[0,1],[0,0],[0,1],[0,1],[0,0],[0,0],[1,0],[0,1],[0,0],[1,1],[0,0],[0,0],[0,1],[0,0],[1,1],[0,0],[0,1],[1,1],[0,0],[0,1],[0,1],[0,1],[0,0],[0,1],[1,1],[0,1],[0,1],[0,1],[1,1],[0,1],[0,1],[0,1],[1,1],[0,0],[1,1],[0,0],[0,1],[1,1],[0,1],[0,0],[0,1],[0,1],[0,1],[0,1],[1,1],[0,0],[0,1],[0,0],[0,0],[0,1],[1,1],[0,0],[0,1],[0,1],[1,1],[0,1],[1,1],[1,1],[0,1],[0,0],[0,0],[0,1],[0,1],[1,1],[0,0],[0,0],[1,1],[0,1],[0,1],[1,1],[1,1],[0,1],[1,0],[1,1],[0,1],[0,1],[0,1],[0,1],[1,1],[1,0],[0,1],[0,1],[0,1],[1,1],[0,0],[0,1],[0,0],[1,1],[0,1],[0,0],[0,0],[0,0],[1,1],[0,1],[0,1],[1,0],[0,1],[0,0],[0,1],[0,0],[0,0],[1,1],[0,1],[0,1],[1,1],[0,1],[0,0],[0,0],[0,1],[0,1],[0,1],[0,0],[0,1],[0,0],[0,1],[1,0],[0,1],[0,1],[0,0],[0,1],[0,1],[0,0],[1,1],[1,1],[0,0],[0,1],[0,0],[1,1],[0,0],[1,0],[0,0],[1,1],[0,0],[1,1],[0,0],[0,1],[0,0],[0,1],[0,0],[0,0],[1,1],[0,1],[0,1],[0,1],[0,1],[0,1],[0,1],[0,1],[0,1],[0,1],[0,1],[0,1],[0,1],[0,1],[0,0],[0,1],[1,1],[0,1],[0,1],[0,0],[0,1],[0,1],[0,0],[0,1],[0,1],[0,1],[0,0],[0,1],[0,0],[0,1],[0,1],[0,1],[0,0],[0,1],[1,1],[0,1],[1,1],[1,1],[0,1],[0,1],[0,1],[0,0],[0,1],[0,0],[1,1],[1,1],[0,1],[0,0],[0,0],[0,1],[0,1],[0,0],[0,0],[1,1],[0,0],[0,1],[0,0],[0,1],[1,0],[1,1],[0,0],[0,1],[0,1],[1,1],[1,1],[0,0],[0,1],[0,1],[1,1],[0,0],[0,1],[0,1],[1,1],[1,1],[0,0],[0,0],[0,0],[0,1],[0,1],[0,0],[0,1],[0,0],[0,0],[1,1],[0,1],[0,0],[0,0],[0,1],[0,1],[0,1],[0,1],[0,0],[1,1],[0,1],[0,1],[0,1],[0,0],[0,0],[0,1],[0,0],[0,1],[0,0],[0,1],[0,1],[0,1],[0,1],[0,1],[0,1],[0,1],[0,0],[0,0],[0,0],[0,0],[1,1],[0,0],[0,0],[0,1],[0,1],[0,1],[0,0],[1,1],[0,1],[0,1],[0,1],[0,1],[0,1],[1,1],[0,0],[0,1],[1,1],[0,1],[0,1],[1,1],[0,1],[0,1],[0,0],[0,0],[1,0],[1,1],[0,0],[0,1],[0,1],[1,1],[0,0],[0,1],[1,1],[0,1],[0,1],[0,0],[0,1],[0,1],[0,1],[0,1],[1,1],[0,1],[0,1],[0,1],[1,1],[1,1],[0,0],[1,1],[0,0],[1,1],[0,1],[0,0],[0,1],[1,1],[0,1],[1,0],[0,0],[0,1],[1,1],[1,1],[0,0],[1,1],[0,1],[0,0],[0,0],[0,0],[0,0],[0,1],[0,1],[0,1],[0,1],[0,1],[1,1],[0,0],[1,1],[0,0],[0,1],[0,1],[1,1],[1,1],[0,1],[0,1],[0,1],[0,1],[0,1],[0,1],[0,0],[0,0],[1,0],[1,1],[1,1],[0,0],[0,1],[1,1],[0,0],[0,0],[0,1],[1,0],[0,1],[0,0],[0,0],[0,1],[0,1],[0,1],[0,1],[0,0],[0,1],[1,1],[0,0],[0,0],[0,1],[0,1],[0,0],[0,0],[0,1],[0,1],[1,1],[0,1],[1,0],[0,1],[0,1],[1,1],[0,1],[0,1],[1,1],[0,1],[0,1],[0,1],[0,1],[1,1],[0,0],[0,0],[0,0],[0,1],[0,1],[0,1],[0,1],[0,1],[0,1],[1,1],[0,0],[0,1],[0,1],[0,1],[0,1],[0,1],[1,1],[0,1],[1,1],[0,1],[0,1],[0,0],[0,1],[0,1],[0,1],[0,0],[0,1],[0,1],[1,1],[0,0],[1,1],[1,1],[0,1],[0,1],[0,0],[1,0],[1,1],[0,0],[0,1],[0,0],[1,1],[0,1],[1,1],[0,1],[0,0],[1,1],[0,1],[0,1],[0,0],[0,1],[0,0],[1,1],[0,1],[0,0],[0,0],[0,1],[0,1],[1,1],[1,1],[0,1],[0,1],[1,1],[1,0],[0,0],[0,1],[1,1],[1,1],[1,1],[0,1],[0,1],[0,0],[1,1],[1,1],[0,1],[1,1],[0,1],[0,1],[1,1],[0,1],[1,0],[1,1],[0,0],[0,0],[0,1],[1,1],[1,1],[0,1],[0,1],[0,0],[1,1],[0,1],[0,1],[0,1],[0,0],[1,1],[1,1],[1,1],[0,0],[0,1],[1,1],[0,1],[1,1],[0,0],[0,0],[1,1],[0,1],[1,1],[0,0],[0,1],[1,1],[1,1],[1,1],[0,0],[0,0],[0,1],[0,0],[0,1],[0,0],[0,1],[1,0],[0,1],[0,1],[0,0],[0,0],[0,1],[0,0],[0,1],[1,0],[0,1],[1,1],[1,1],[1,1],[0,0],[1,1],[0,0],[0,0],[1,1],[0,0],[0,1],[1,1],[0,1],[0,1],[0,0],[0,1],[0,0],[0,0],[0,0],[0,0],[0,0],[0,1],[0,1],[1,0],[1,1],[0,0],[1,1],[0,0],[0,0],[0,1],[1,1],[0,0],[0,0],[1,1],[1,1],[0,0],[1,1],[0,1],[1,1],[1,1],[0,0],[0,0],[0,1],[1,1],[0,0],[0,1],[0,1],[0,0],[0,0],[0,1],[1,1],[0,0],[1,0],[0,1],[0,1],[0,0],[0,0],[0,0],[0,0],[1,1],[0,0],[0,0],[0,0],[1,0],[0,1],[0,1],[0,1],[1,1],[0,1],[0,0],[1,0],[0,1],[0,1],[0,1],[0,0],[1,1],[0,1],[1,1],[0,1],[0,1],[0,1],[1,1],[0,1],[0,1],[0,0],[0,0],[1,1],[0,0],[0,1],[0,1],[0,1],[1,1],[0,0],[0,1],[0,1],[1,1],[0,1],[0,1],[0,1],[0,1],[0,1],[0,1],[0,1],[0,0],[0,0],[0,0],[0,0],[0,1],[1,1],[1,1],[0,1],[0,0],[0,1],[0,1],[1,0],[1,1],[0,1],[0,1],[1,1],[0,0],[1,1],[0,1],[0,1],[0,1],[0,0],[0,0],[0,1],[0,0],[0,0],[0,1],[0,1],[0,0],[0,0],[0,0],[1,1],[1,1],[1,0],[0,0],[1,1],[0,1],[1,0],[0,0],[0,0],[0,1],[0,1],[1,1],[0,0],[1,1],[0,1],[1,1],[0,1],[0,1],[0,0],[0,0],[0,0],[0,1],[0,0],[1,1],[0,1],[0,0],[0,0],[0,1],[0,1],[0,0],[0,1],[0,1],[0,1],[0,1],[0,1],[0,1],[0,0],[0,1],[0,1],[0,0],[1,1],[0,1],[0,0],[0,0],[0,1],[0,0],[1,1],[0,0],[0,0],[0,0],[0,0],[0,0],[0,1],[0,0],[1,1],[0,0],[0,1],[1,1],[0,0],[1,1],[1,1],[0,0],[1,1],[0,1],[1,1],[0,1],[1,1],[1,1],[0,1],[0,0],[0,0],[0,0],[0,1],[1,1],[0,1],[0,0],[0,1],[0,1],[0,0],[0,1],[0,1],[0,0],[0,0],[0,0],[0,1],[0,1],[0,0],[1,1],[0,1],[0,1],[0,0],[0,0],[1,1],[0,1],[0,0],[1,1],[0,0],[0,1],[0,0],[1,1],[0,0],[0,1],[0,1],[1,1],[0,1],[0,1],[1,1],[0,1],[0,1],[0,1],[0,0],[0,1],[0,1],[0,1],[0,1],[1,1],[1,1],[0,1],[0,1],[1,1],[0,0],[0,1],[0,0],[0,1],[0,1],[1,1],[0,1],[0,1],[0,1],[0,1],[0,0],[0,1],[0,1],[0,1],[1,1],[0,1],[0,1],[0,1],[0,1],[0,1],[1,1],[0,0],[0,0],[0,0],[0,0],[0,0],[1,0],[0,0],[0,1],[0,1],[0,1],[1,1],[0,1],[0,1],[0,1],[0,1],[1,1],[1,1],[0,1],[1,1],[1,1],[0,1],[0,1],[0,0],[0,0],[0,1],[0,0],[0,1],[1,1],[1,1],[1,1],[0,1],[1,1],[0,1],[1,0],[0,1],[0,1],[0,0],[0,0],[0,1],[1,1],[0,1],[1,1],[0,1],[1,0],[0,0],[1,1],[1,1],[1,1],[0,1],[0,0],[0,1],[0,1],[0,1],[1,0],[1,0],[0,1],[0,1],[1,1],[1,1],[0,1],[0,1],[1,1],[0,1],[0,1],[0,1],[1,1],[0,0],[0,1],[0,1],[0,1],[0,1],[0,1],[0,1],[0,1],[0,1],[0,1],[0,1],[0,1],[0,1],[1,0],[1,1],[1,0],[0,0],[0,1],[1,1],[0,1],[0,1],[0,0],[1,0],[0,0],[1,1],[1,1],[0,0],[0,1],[0,1],[0,1],[1,1],[0,0],[0,0],[0,0],[0,0],[0,0],[0,1],[1,0],[0,1],[1,1],[1,0],[0,1],[1,1],[0,1],[0,1],[0,1],[0,1],[0,0],[1,1],[1,1],[0,1],[0,1],[0,1],[0,1],[0,0],[0,1],[0,0],[0,1],[0,0],[1,0],[0,0],[0,0],[0,1],[0,0],[0,1],[0,1],[0,0],[0,0],[0,1],[0,1],[0,0],[0,1],[0,1],[0,0],[0,0],[0,0],[1,1],[0,0],[0,1],[0,1],[0,1],[0,0],[0,1],[0,0],[0,0],[0,0],[1,1],[0,0],[0,1],[0,1],[1,1],[0,1],[1,1],[0,0],[0,0],[0,0],[0,0],[0,1],[0,1],[0,1],[0,1],[1,1],[0,1],[0,1],[0,1],[0,1],[0,0],[0,1],[0,1],[0,1],[0,1],[0,1],[0,1],[0,1],[0,1],[0,1],[0,1],[0,1],[0,1],[0,1],[1,0],[1,1],[0,1],[0,1],[0,0],[0,1],[0,1],[0,1],[0,1],[1,0],[1,1],[0,0],[0,0],[0,0],[0,1],[0,1],[0,1],[1,1],[1,0],[0,1],[0,1],[0,0],[0,1],[0,1],[0,1],[0,0],[0,1],[0,1],[0,0],[0,1],[0,1],[1,1],[0,1],[0,0],[0,1],[1,0],[0,1],[0,1],[0,0],[1,1],[1,1],[0,1],[0,1],[0,1],[1,1],[0,1],[0,0],[0,1],[0,1],[0,1],[1,1],[1,1],[0,0],[0,1],[0,0],[0,0],[0,1],[0,0],[0,0],[0,0],[0,1],[1,1],[1,1],[0,0],[1,1],[1,0],[0,0],[1,1],[0,1],[0,1],[1,1],[0,1],[0,1],[1,1],[0,0],[0,0],[0,0],[0,0],[0,0],[1,1],[0,1],[1,1],[0,1],[1,1],[1,1],[0,0],[0,1],[0,1],[0,1],[0,0],[0,1],[0,1],[1,1],[0,1],[0,1],[1,1],[0,0],[0,0],[0,1],[0,1],[1,1],[0,1],[0,0],[0,1],[0,1],[0,1],[1,1],[0,1],[0,0],[0,1],[1,1],[0,1],[0,1],[1,1],[0,0],[0,1],[0,1],[1,1],[0,1],[0,1],[0,1],[0,1],[1,1],[0,1],[0,0],[0,1],[0,1],[0,1],[0,1],[0,0],[0,0],[0,1],[0,0],[1,1],[0,1],[0,1],[0,0],[0,1],[0,1],[0,1],[0,1],[0,1],[0,1],[1,1],[0,1],[0,1],[0,0],[0,0],[0,0],[0,0],[1,1],[0,1],[0,1],[0,0],[0,1],[0,0],[0,1],[1,1],[0,1],[0,1],[0,0],[1,1],[0,0],[0,1],[0,1],[1,1],[0,1],[0,0],[1,1],[1,1],[0,1],[1,1],[1,1],[0,1],[0,0],[0,0],[0,0],[1,1],[0,0],[0,0],[0,0],[0,1],[0,1],[0,1],[1,1],[0,1],[0,0],[0,0],[0,1],[1,1],[0,1],[0,1],[0,1],[0,1],[0,1],[0,1],[0,1],[0,1],[0,1],[0,1],[0,1],[1,0],[0,0],[1,1],[0,1],[0,1],[0,1],[0,0],[1,1],[0,0],[1,1],[0,1],[0,0],[0,1],[1,0],[0,1],[1,1],[1,1],[0,0],[0,1],[0,1],[1,1],[1,1],[0,1],[1,1],[0,0],[0,1],[1,1],[0,0],[0,0],[0,0],[0,0],[0,0],[0,1],[1,1],[0,0],[0,1],[0,1],[0,1],[0,1],[1,1],[0,0],[0,1],[0,0],[0,0],[0,1],[1,1],[0,1],[1,1],[0,0],[0,1],[1,1],[0,0],[0,1],[0,1],[0,0],[0,0],[1,1],[0,0],[0,0],[1,1],[0,0],[1,1],[0,1],[0,0],[1,1],[0,1],[1,1],[0,1],[0,1],[0,1],[0,0],[0,1],[0,1],[1,1],[0,0],[1,1],[0,1],[1,1],[1,1],[0,1],[0,1],[0,1],[0,1],[1,1],[0,0],[0,1],[0,1],[0,1],[1,1],[0,0],[0,1],[0,1],[0,0],[0,1],[0,1],[0,1],[0,1],[0,1],[0,1],[0,1],[1,1],[1,1],[0,1],[0,0],[0,1],[0,1],[0,1],[0,1],[0,1],[0,0],[0,1],[0,0],[0,0],[0,1],[0,1],[0,0],[0,1],[0,0],[0,1],[1,1],[0,1],[0,0],[0,1],[0,0],[1,1],[1,1],[1,1],[0,0],[0,0],[0,0],[0,1],[0,0],[0,1],[0,1],[0,1],[0,0],[0,0],[0,1],[0,0],[0,1],[0,0],[0,0],[0,1],[0,0],[0,1],[1,0],[0,1],[0,1],[0,1],[1,1],[0,1],[0,1],[0,1],[0,0],[0,1],[0,1],[0,0],[1,1],[0,0],[0,1],[0,1],[0,0],[0,1],[0,1],[0,0],[0,1],[0,1],[1,1],[0,0],[0,0],[0,1],[0,0],[0,0],[1,1],[0,1],[0,0],[0,1],[1,1],[0,0],[0,1],[0,1],[0,1],[1,1],[0,1],[0,0],[0,1],[0,1],[0,0],[1,1],[0,0],[1,1],[0,1],[0,1],[0,1],[0,0],[0,1],[1,1],[0,1],[0,1],[0,1],[0,1],[0,1],[0,0],[0,1],[0,1],[0,1],[0,1],[0,1],[0,1],[0,0],[1,1],[0,1],[1,1],[0,1],[0,1],[0,0],[1,1],[0,1],[0,0],[0,0],[0,1],[1,0],[0,1],[1,1],[0,0],[0,1],[0,0],[0,1],[1,1],[0,0],[0,0],[0,1],[0,1],[0,0],[1,1],[0,0],[0,1],[0,0],[0,1],[0,1],[0,0],[1,1],[1,0],[1,0],[0,0],[0,1],[0,1],[1,1],[1,1],[1,1],[1,1],[0,1],[0,1],[0,0],[0,1],[0,0],[0,0],[0,0],[0,0],[0,0],[0,1],[0,1],[0,0],[0,0],[1,1],[0,0],[0,0],[0,1],[1,1],[1,1],[0,1],[0,1],[0,1],[0,0],[1,1],[0,0],[0,0],[0,1],[1,1],[1,1],[1,1],[0,1],[0,1],[0,1],[1,1],[1,0],[1,1],[0,1],[0,1],[0,1],[0,1],[0,0],[0,1],[1,1],[1,0],[0,1],[1,1],[0,1],[0,1],[0,0],[0,0],[0,0],[1,0],[0,0],[0,1],[0,1],[0,1],[0,1],[0,1],[0,1],[1,0],[1,1],[0,1],[0,1],[0,1],[0,1],[0,1],[0,0],[1,1],[0,0],[0,0],[1,1],[0,0],[0,1],[0,0],[1,1],[0,0],[0,1],[0,1],[0,1],[0,0],[0,0],[0,0],[0,1],[0,0],[0,1],[1,1],[0,1],[1,1],[0,0],[0,1],[0,1],[0,1],[0,1],[1,1],[0,1],[0,1],[1,1],[0,1],[1,1],[0,1],[0,0],[0,1],[1,1],[0,1],[1,1],[1,1],[0,1],[1,1],[0,0],[0,1],[0,0],[0,0],[0,0],[0,1],[1,1],[0,0],[0,0],[0,0],[0,1],[0,1],[1,1],[0,1],[0,0],[0,1],[0,1],[0,0],[0,1],[1,1],[0,1],[0,1],[0,1],[0,1],[0,0],[0,0],[0,0],[0,0],[0,1],[0,0],[0,1],[1,1],[0,1],[0,0],[0,0],[0,0],[0,1],[0,1],[0,1],[0,1],[0,1],[0,1],[0,1],[1,1],[0,1],[0,0],[0,1],[0,1],[0,0],[0,1],[0,1],[0,1],[0,0],[1,1],[0,0],[1,1],[0,1],[0,0],[0,1],[1,1],[0,1],[0,0],[0,0],[0,1],[0,1],[0,1],[0,1],[0,1],[1,1],[0,1],[0,1],[0,1],[0,1],[1,1],[0,1],[0,1],[0,1],[0,1],[0,1],[0,1],[0,1],[0,1],[0,1],[1,0],[0,1],[0,1],[0,1],[0,1],[0,1],[1,1],[0,0],[0,1],[0,1],[0,1],[1,1],[0,1],[0,1],[0,1],[1,1],[0,0],[1,1],[0,1],[0,1],[1,1],[0,1],[0,0],[0,0],[0,1],[0,1],[0,0],[0,1],[1,1],[1,1],[0,1],[1,1],[0,0],[0,1],[1,1],[1,1],[0,1],[0,0],[1,1],[0,1],[0,0],[1,1],[0,1],[0,1],[0,1],[0,1],[0,1],[0,1],[0,0],[1,1],[0,1],[0,0],[0,1],[0,1],[0,1],[0,1],[1,0],[0,1],[1,1],[0,1],[1,1],[0,0],[0,0],[1,0],[1,1],[0,1],[0,1],[0,1],[0,1],[0,1],[0,0],[0,1],[0,1],[0,1],[1,1],[0,0],[1,1],[1,1],[0,0],[0,0],[0,1],[0,1],[1,0],[0,1],[1,1],[0,1],[1,1],[0,0],[0,1],[0,1],[1,1],[1,1],[0,1],[1,1],[0,1],[0,1],[0,1],[0,1],[0,0],[0,0],[0,0],[0,0],[0,1],[0,1],[1,1],[0,1],[1,1],[0,1],[1,1],[0,1],[1,1],[0,1],[1,1],[0,1],[0,1],[0,1],[0,0],[0,1],[0,1],[0,0],[0,1],[0,0],[0,0],[0,1],[1,1],[0,1],[0,0],[0,0],[0,1],[0,1],[0,0],[0,0],[1,1],[0,1],[0,0],[0,1],[0,0],[0,1],[0,0],[1,1],[0,0],[0,0],[0,1],[0,0],[0,0],[1,1],[1,1],[1,1],[0,1],[0,1],[0,1],[0,0],[0,0],[0,0],[0,1],[0,0],[0,0],[1,1],[0,1],[0,1],[0,0],[0,1],[1,1],[0,0],[1,1],[0,1],[1,1],[0,0],[0,1],[0,0],[1,1],[0,0],[0,1],[1,0],[0,0],[0,1],[0,1],[0,0],[0,0],[0,1],[0,0],[0,1],[0,1],[1,1],[0,1],[0,1],[0,1],[1,1],[0,0],[0,1],[0,1],[0,1],[0,1],[0,1],[0,1],[0,0],[0,1],[0,0],[1,1],[0,1],[0,0],[1,0],[0,1],[0,1],[1,1],[0,0],[0,0],[0,1],[0,0],[0,0],[0,1],[0,1],[0,1],[0,1],[0,0],[0,0],[0,1],[0,1],[0,0],[0,0],[1,1],[0,0],[0,1],[1,1],[0,1],[1,1],[0,1],[0,0],[1,0],[1,1],[0,0],[0,1],[0,1],[0,1],[0,1],[0,0],[1,1],[0,0],[0,0],[0,1],[0,0],[0,0],[0,0],[0,1],[1,1],[0,1],[1,0],[0,0],[0,1],[0,0],[0,1],[0,1],[1,1],[0,1],[1,1],[0,1],[0,1],[1,1],[0,0],[1,1],[0,0],[0,0],[0,1],[0,1],[0,1],[0,1],[0,1],[0,1],[0,0],[0,1],[0,1],[0,0],[0,0],[1,1],[0,0],[0,1],[1,1],[0,1],[0,0],[0,1],[1,1],[0,1],[0,0],[0,0],[0,1],[0,1],[0,0],[0,1],[0,0],[0,0],[0,0],[1,1],[1,1],[0,1],[1,1],[0,1],[0,1],[1,1],[0,1],[0,1],[0,0],[0,1],[0,0],[0,1],[0,1],[1,0],[0,0],[0,0],[1,1],[0,0],[0,1],[0,0],[0,0],[0,1],[0,1],[1,1],[0,0],[0,0],[0,1],[0,0],[0,1],[1,1],[0,0],[1,1],[0,1],[0,1],[0,1],[0,1],[1,1],[1,1],[0,1],[1,1],[0,0],[0,1],[0,0],[1,1],[1,0],[0,0],[1,1],[0,1],[0,0],[0,0],[0,1],[0,0],[1,1],[0,1],[0,0],[1,1],[0,0],[1,0],[1,0],[0,1],[0,1],[0,1],[1,0],[0,1],[0,1],[0,1],[1,1],[0,1],[0,1],[0,1],[1,1],[1,0],[0,0],[1,0],[0,1],[0,1],[1,0],[0,1],[1,1],[0,1],[0,1],[0,0],[0,0],[0,1],[1,1],[0,1],[0,1],[0,1],[0,0],[0,0],[1,1],[0,0],[1,1],[0,0],[0,1],[0,1],[0,0],[0,1],[0,1],[0,1],[0,1],[0,1],[0,1],[0,1],[0,1],[0,1],[0,1],[0,0],[0,1],[1,1],[0,1],[0,0],[1,1],[0,1],[1,1],[0,1],[0,0],[0,1],[0,1],[0,0],[0,1],[0,1],[0,1],[0,1],[0,1],[1,1],[0,1],[1,1],[0,1],[0,0],[0,1],[1,0],[0,1],[1,1],[0,1],[0,1],[1,1],[1,1],[0,0],[1,1],[1,0],[0,1],[1,1],[0,1],[0,1],[0,1],[0,1],[1,1],[0,1],[1,1],[0,1],[1,0],[0,0],[0,1],[0,0],[0,0],[0,0],[0,1],[0,1],[0,0],[1,1],[0,1],[0,0],[1,1],[0,1],[0,0],[0,1],[0,1],[0,1],[0,1],[1,1],[0,1],[0,1],[0,1],[1,1],[0,1],[0,1],[0,1],[0,1],[1,1],[1,1],[0,1],[0,1],[0,0],[0,1],[0,1],[1,1],[0,1],[0,1],[1,1],[0,1],[1,1],[1,1],[0,1],[1,1],[0,1],[0,1],[0,1],[0,1],[0,1],[0,0],[0,1],[1,1],[1,1],[0,0],[0,0],[0,1],[0,0],[0,0],[0,0],[1,1],[0,0],[0,0],[0,1],[0,1],[0,1],[0,0],[0,0],[0,1],[1,1],[0,1],[0,1],[0,1],[0,1],[0,0],[0,0],[0,1],[1,0],[0,1],[0,0],[0,1],[0,0],[1,0],[0,1],[0,0],[0,1],[0,0],[0,1],[0,1],[1,0],[0,1],[1,1],[0,1],[0,0],[0,0],[0,0],[1,1],[0,0],[0,1],[0,1],[0,0],[0,1],[0,1],[0,0],[0,0],[1,1],[0,1],[0,0],[0,1],[0,0],[1,1],[0,1],[1,1],[0,1],[0,0],[0,1],[0,1],[0,0],[0,0],[0,1],[0,0],[0,1],[1,0],[0,1],[0,1],[0,1],[0,1],[0,1],[0,0],[0,0],[0,0],[0,0],[0,1],[0,1],[1,1],[0,1],[0,1],[0,1],[0,1],[0,0],[0,0],[0,0],[1,1],[0,1],[1,0],[1,1],[0,1],[0,0],[0,1],[1,1],[1,1],[0,1],[0,0],[0,0],[0,0],[0,0],[0,0],[0,1],[0,0],[0,1],[0,1],[0,0],[0,1],[1,1],[1,1],[0,1],[0,0],[0,1],[1,1],[0,1],[0,1],[1,1],[0,1],[0,1],[0,0],[1,1],[0,0],[0,0],[0,1],[1,1],[1,0],[0,0],[0,1],[1,1],[0,0],[0,0],[0,1],[0,1],[0,0],[1,0],[0,1],[0,1],[1,1],[0,0],[0,1],[1,1],[0,0],[0,1],[1,1],[1,1],[0,0],[1,1],[1,1],[1,0],[0,1],[0,1],[1,1],[0,1],[0,1],[1,1],[0,1],[0,1],[0,1],[0,1],[1,1],[0,1],[0,1],[0,1],[0,1],[0,0],[0,1],[1,1],[0,1],[0,1],[0,1],[1,1],[1,1],[1,1],[0,1],[0,1],[0,1],[0,1],[1,1],[0,1],[1,1],[1,1],[0,1],[0,0],[1,1],[0,1],[0,1],[0,0],[0,1],[0,0],[0,1],[0,1],[0,0],[1,1],[0,1],[0,1],[0,1],[1,1],[0,0],[0,1],[0,1],[0,0],[1,1],[0,1],[1,0],[0,1],[0,1],[0,1],[1,1],[0,1],[0,0],[1,0],[1,1],[0,0],[0,1],[0,0],[0,0],[1,1],[1,1],[1,1],[0,1],[0,1],[1,1],[1,1],[1,1],[0,1],[0,0],[0,1],[0,1],[0,1],[0,0],[1,1],[0,1],[0,0],[0,1],[1,1],[1,1],[0,1],[0,0],[0,1],[0,1],[0,0],[0,0],[0,1],[0,1],[0,1],[0,1],[0,1],[0,1],[0,0],[0,0],[1,1],[1,1],[0,1],[0,1],[0,1],[0,1],[1,1],[0,0],[1,1],[0,1],[0,1],[0,1],[0,1],[0,1],[0,0],[0,1],[0,1],[0,1],[0,1],[0,1],[0,0],[0,1],[0,0],[0,0],[0,0],[0,1],[0,0],[0,1],[0,1],[1,1],[0,0],[0,0],[0,1],[1,1],[0,1],[1,1],[0,1],[0,1],[0,1],[0,0],[0,0],[0,1],[1,1],[1,1],[0,1],[0,1],[1,1],[1,1],[1,1],[0,1],[0,0],[0,1],[0,1],[1,1],[0,1],[0,1],[1,1],[1,1],[0,0],[0,0],[1,0],[0,1],[0,0],[0,1],[1,1],[0,1],[0,1],[0,0],[0,0],[0,1],[0,0],[0,1],[0,1],[0,1],[0,0],[1,1],[0,1],[0,1],[0,1],[0,0],[0,0],[0,0],[0,0],[0,1],[0,1],[0,1],[0,1],[0,0],[0,0],[1,1],[1,1],[0,0],[1,0],[0,1],[0,1],[0,1],[0,1],[0,1],[0,1],[0,1],[0,0],[0,1],[0,0],[0,1],[0,1],[1,1],[1,1],[0,1],[0,0],[1,1],[0,1],[0,1],[0,0],[0,1],[1,1],[0,0],[0,1],[1,1],[0,1],[0,0],[1,0],[0,1],[1,0],[0,0],[1,1],[0,0],[0,0],[0,1],[0,1],[0,1],[0,1],[1,1],[0,1],[1,1],[0,0],[0,1],[0,1],[0,0],[1,0],[1,1],[1,1],[0,1],[1,1],[0,1],[0,0],[0,1],[0,0],[1,1],[1,1],[1,1],[0,1],[0,0],[1,0],[1,0],[0,0],[1,1],[0,0],[0,1],[0,1],[0,0],[0,0],[0,0],[0,1],[1,1],[0,1],[0,1],[1,1],[0,1],[0,0],[0,0],[0,1],[0,0],[1,1],[0,0],[0,1],[0,1],[0,0],[1,0],[0,1],[1,0],[1,1],[0,0],[1,1],[0,1],[1,1],[0,0],[0,0],[0,0],[0,0],[0,1],[0,0],[0,0],[0,1],[1,1],[0,1],[0,1],[0,1],[0,0],[0,1],[0,1],[1,1],[0,0],[0,1],[1,1],[0,1],[0,0],[0,1],[0,0],[0,1],[0,1],[0,0],[1,1],[0,0],[0,0],[0,1],[0,1],[0,1],[0,0],[1,1],[1,1],[0,1],[1,1],[0,1],[0,1],[0,0],[0,0],[0,0],[0,1],[0,0],[0,1],[1,0],[0,1],[1,1],[0,1],[1,1],[0,0],[0,1],[1,0],[0,1],[0,0],[0,0],[0,1],[0,0],[0,0],[1,1],[1,1],[1,0],[0,0],[0,0],[0,1],[0,0],[0,1],[1,1],[1,1],[0,0],[0,1],[0,0],[0,1],[0,1],[0,0],[0,1],[0,1],[0,0],[0,0],[0,1],[1,1],[0,0],[0,0],[0,0],[0,0],[0,0],[0,1],[1,1],[0,1],[1,1],[0,1],[1,1],[0,0],[0,0],[0,0],[1,1],[0,1],[1,0],[0,1],[0,0],[0,0],[0,0],[1,1],[0,1],[0,1],[0,1],[0,0],[0,1],[0,1],[0,0],[0,0],[0,0],[0,1],[0,1],[0,1],[1,1],[0,1],[0,1],[0,1],[1,1],[0,0],[1,1],[0,0],[1,1],[0,0],[0,0],[0,0],[0,0],[0,1],[1,1],[0,1],[1,1],[0,1],[0,0],[0,0],[0,0],[1,1],[0,0],[0,1],[0,1],[0,1],[0,1],[1,1],[1,1],[0,1],[0,1],[0,1],[1,0],[0,1],[1,1],[0,0],[0,1],[0,1],[0,0],[0,0],[0,1],[1,1],[0,1],[0,1],[0,1],[1,1],[0,1],[0,1],[1,1],[0,0],[0,0],[1,1],[0,1],[0,0],[0,1],[0,1],[0,1],[0,0],[0,0],[0,1],[0,1],[0,1],[0,0],[1,1],[1,0],[0,1],[0,1],[0,1],[0,1],[1,1],[1,0],[0,0],[1,1],[0,0],[0,1],[0,0],[1,0],[0,0],[0,0],[0,0],[0,0],[1,0],[0,0],[0,1],[1,1],[1,1],[1,1],[0,1],[1,1],[0,1],[0,0],[1,1],[0,0],[0,0],[0,0],[0,1],[1,1],[0,0],[0,1],[0,0],[0,1],[1,1],[0,1],[0,1],[0,0],[0,1],[0,1],[0,0],[0,1],[0,0],[0,1],[0,1],[0,1],[1,1],[1,1],[0,0],[0,1],[0,1],[0,1],[0,1],[0,1],[0,0],[0,0],[0,0],[0,1],[0,0],[0,1],[0,1],[0,1],[1,1],[0,1],[0,0],[0,0],[0,1],[1,1],[1,1],[0,0],[0,1],[1,1],[0,1],[1,1],[0,1],[0,1],[0,1],[1,1],[0,1],[0,0],[1,1],[0,0],[0,0],[0,1],[1,1],[0,0],[0,1],[0,1],[1,0],[0,1],[0,0],[0,0],[0,0],[0,1],[0,0],[1,1],[0,0],[1,0],[0,0],[0,1],[0,1],[0,0],[1,1],[0,1],[1,1],[1,1],[1,1],[1,1],[0,1],[0,1],[0,0],[0,1],[0,1],[0,0],[0,0],[0,0],[0,1],[0,0],[0,1],[0,0],[1,1],[0,0],[0,0],[1,1],[0,0],[0,1],[0,0],[1,1],[0,0],[0,1],[1,1],[1,1],[0,1],[0,0],[0,1],[0,1],[0,1],[1,1],[0,1],[0,0],[0,1],[0,1],[0,0],[0,0],[0,1],[1,1],[1,0],[1,1],[0,1],[0,1],[0,1],[0,1],[0,0],[1,0],[1,1],[0,0],[0,0],[0,1],[0,1],[0,0],[0,1],[0,1],[0,1],[0,0],[0,1],[1,1],[0,1],[0,1],[0,1],[0,1],[1,0],[0,1],[0,1],[0,1],[1,1],[1,1],[0,1],[1,1],[0,1],[0,0],[0,0],[0,0],[0,0],[1,1],[0,1],[0,1],[1,1],[0,1],[0,0],[0,1],[1,1],[0,1],[0,1],[0,1],[0,0],[0,1],[0,1],[0,0],[0,0],[1,1],[1,1],[0,1],[1,1],[0,1],[0,1],[1,0],[0,1],[1,1],[1,1],[0,0],[0,0],[0,1],[0,0],[0,1],[1,1],[1,1],[0,0],[1,1],[0,1],[0,0],[0,0],[1,1],[0,1],[0,0],[0,0],[0,1],[1,1],[1,1],[0,1],[0,1],[1,1],[0,0],[0,1],[0,1],[1,1],[0,1],[0,0],[1,1],[1,1],[1,1],[0,1],[1,1],[0,0],[0,0],[0,1],[0,1],[0,1],[0,0],[1,1],[0,0],[1,1],[0,1],[1,1],[0,1],[1,1],[0,1],[0,1],[0,1],[0,1],[0,1],[0,1],[0,0],[0,1],[0,0],[0,1],[0,0],[0,0],[1,1],[0,1],[1,1],[1,0],[1,1],[0,1],[0,1],[0,1],[0,0],[0,1],[0,1],[0,1],[0,1],[1,1],[1,1],[0,0],[0,0],[0,1],[0,1],[1,1],[1,1],[1,1],[0,1],[0,1],[1,1],[0,1],[1,1],[0,0],[1,1],[0,1],[0,0],[0,1],[1,1],[0,1],[0,1],[0,1],[1,1],[0,0],[0,1],[0,0],[0,1],[0,0],[0,1],[1,1],[0,1],[0,1],[0,0],[0,1],[0,0],[0,0],[0,1],[1,1],[0,1],[0,1],[1,1],[1,1],[0,1],[0,0],[0,1],[0,0],[0,0],[0,0],[0,1],[0,0],[0,1],[1,1],[0,1],[0,0],[0,1],[0,1],[1,1],[1,1],[0,1],[1,0],[1,1],[1,0],[0,0],[0,0],[0,1],[0,1],[0,1],[0,0],[0,0],[0,1],[0,0],[0,1],[0,0],[0,1],[0,0],[0,1],[1,1],[0,0],[0,1],[0,1],[0,1],[0,1],[0,1],[0,1],[1,0],[0,0],[0,1],[0,0],[1,0],[0,0],[1,1],[0,1],[0,1],[0,1],[0,1],[1,1],[0,0],[1,1],[1,1],[0,0],[1,0],[0,1],[0,0],[1,1],[1,1],[1,0],[1,0],[0,1],[1,1],[1,0],[0,1],[0,0],[1,1],[1,1],[1,1],[0,1],[1,0],[1,1],[0,1],[0,0],[0,0],[0,0],[0,1],[0,0],[0,1],[0,1],[0,1],[0,1],[0,1],[0,1],[1,1],[0,0],[1,0],[0,1],[1,1],[1,1],[0,1],[0,1],[0,1],[1,1],[0,1],[0,0],[0,1],[1,1],[1,1],[0,0],[0,0],[0,0],[0,1],[0,1],[0,1],[0,1],[0,0],[0,0],[1,0],[0,1],[0,1],[0,1],[0,1],[0,0],[0,0],[1,1],[1,1],[1,1],[0,0],[1,1],[1,1],[0,0],[0,0],[0,0],[0,0],[0,0],[0,1],[0,0],[0,1],[1,1],[1,1],[0,1],[0,1],[0,0],[0,1],[0,1],[0,1],[1,1],[0,1],[1,1],[0,1],[0,0],[0,0],[0,0],[0,0],[0,0],[0,1],[0,1],[0,0],[0,0],[0,1],[0,1],[1,1],[1,0],[0,1],[0,1],[0,1],[0,0],[0,1],[0,1],[0,0],[0,0],[0,1],[0,1],[0,0],[1,1],[0,0],[0,1],[0,1],[0,0],[1,1],[0,0],[0,1],[0,1],[1,1],[0,0],[1,0],[0,1],[0,0],[0,0],[0,0],[0,1],[0,0],[0,1],[0,1],[0,0],[0,0],[1,1],[0,1],[0,1],[0,1],[0,1],[1,0],[1,0],[0,1],[0,1],[1,1],[0,1],[0,1],[0,0],[0,0],[1,1],[0,1],[1,1],[0,1],[0,0],[1,1],[0,0],[1,1],[1,1],[0,0],[0,1],[0,0],[1,0],[0,0],[0,1],[0,1],[0,1],[0,0],[1,1],[1,1],[1,1],[0,1],[0,0],[0,1],[1,1],[1,1],[1,1],[0,1],[0,1],[0,0],[0,1],[0,1],[0,0],[0,1],[1,1],[0,1],[1,1],[0,1],[1,1],[0,0],[1,1],[0,0],[1,1],[1,1],[1,1],[0,1],[1,1],[1,1],[1,0],[0,1],[0,0],[0,0],[1,1],[0,1],[0,1],[0,1],[0,0],[0,1],[1,1],[0,0],[1,1],[0,1],[0,1],[0,1],[0,1],[0,1],[0,1],[0,1],[0,0],[0,1],[0,0],[0,0],[0,0],[0,0],[1,1],[1,1],[1,1],[0,1],[0,1],[0,1],[0,1],[0,1],[0,1],[1,1],[0,1],[1,1],[0,1],[0,1],[1,1],[0,0],[0,1],[0,1],[1,1],[0,0],[0,1],[0,0],[1,1],[0,1],[0,1],[1,1],[0,0],[0,1],[0,0],[0,1],[0,1],[1,1],[0,1],[0,1],[0,0],[1,0],[0,1],[0,1],[0,1],[0,0],[0,1],[0,0],[0,1],[0,0],[0,0],[1,1],[0,1],[0,0],[0,1],[1,1],[0,1],[1,0],[0,1],[1,1],[0,1],[0,1],[1,1],[0,1],[0,1],[1,1],[0,1],[0,1],[0,1],[1,1],[0,0],[0,0],[0,1],[0,1],[0,1],[1,1],[0,1],[0,0],[1,1],[0,1],[1,0],[0,1],[0,1],[0,1],[0,1],[0,1],[0,1],[0,1],[1,0],[1,1],[0,0],[1,1],[0,1],[1,1],[0,1],[0,0],[1,1],[0,1],[0,1],[0,0],[0,1],[1,0],[0,1],[1,1],[0,0],[1,1],[0,1],[0,1],[1,1],[1,1],[0,0],[0,0],[0,1],[0,1],[0,1],[1,1],[0,0],[1,1],[0,1],[0,1],[0,0],[1,1],[0,1],[1,1],[0,0],[1,1],[0,1],[1,1],[0,0],[0,0],[0,1],[1,1],[0,0],[1,1],[1,1],[0,1],[0,1],[0,1],[0,0],[1,1],[0,0],[0,1],[0,1],[0,1],[0,0],[0,1],[0,0],[0,1],[1,1],[0,0],[0,0],[1,1],[0,1],[0,1],[1,1],[0,1],[0,1],[0,1],[0,0],[0,0],[0,0],[1,0],[0,1],[0,0],[0,1],[1,1],[0,0],[0,0],[1,1],[0,1],[0,1],[1,1],[0,1],[0,1],[0,0],[1,1],[0,0],[1,1],[0,1],[0,0],[0,0],[0,0],[0,0],[0,0],[0,1],[0,0],[0,1],[0,0],[0,1],[1,0],[0,0],[0,0],[0,1],[0,1],[1,1],[0,1],[1,1],[0,0],[0,1],[1,1],[1,0],[0,1],[0,0],[0,1],[0,1],[1,1],[0,0],[0,1],[0,1],[0,1],[0,1],[0,0],[1,1],[0,1],[1,1],[1,1],[0,0],[1,1],[0,1],[0,1],[0,1],[1,1],[0,1],[0,1],[0,0],[0,1],[1,1],[1,1],[0,1],[0,0],[0,0],[0,0],[0,0],[1,1],[0,1],[0,1],[1,1],[1,0],[0,1],[0,1],[0,1],[0,1],[0,1],[0,1],[1,1],[0,1],[1,1],[0,0],[0,0],[0,1],[1,1],[0,1],[0,1],[0,0],[1,1],[1,1],[0,1],[0,1],[0,0],[1,1],[0,1],[0,0],[1,1],[1,1],[0,0],[0,0],[1,0],[0,1],[1,0],[0,0],[0,0],[0,0],[1,1],[0,1],[0,1],[0,1],[1,1],[0,1],[0,1],[0,0],[1,1],[1,1],[1,1],[0,1],[0,1],[1,1],[0,0],[0,0],[0,1],[0,0],[0,0],[0,0],[0,1],[0,1],[1,1],[1,1],[0,1],[0,1],[0,1],[0,0],[0,0],[0,1],[0,0],[1,0],[0,0],[0,0],[0,1],[0,0],[0,1],[0,0],[0,0],[0,1],[1,1],[0,1],[0,0],[0,0],[0,1],[0,0],[1,0],[0,0],[0,1],[0,0],[0,0],[0,0],[0,0],[0,1],[1,0],[1,1],[0,0],[0,1],[1,1],[0,0],[1,1],[0,1],[0,1],[0,1],[0,1],[1,1],[0,1],[0,1],[1,1],[0,0],[1,0],[0,0],[0,1],[0,1],[0,1],[1,1],[1,1],[1,1],[1,1],[0,1],[0,0],[1,1],[0,0],[0,0],[0,1],[1,1],[0,1],[0,1],[0,1],[0,0],[0,1],[0,1],[0,1],[0,0],[0,0],[1,1],[1,0],[0,1],[1,1],[0,0],[1,1],[1,1],[0,1],[0,1],[0,1],[0,1],[0,1],[0,0],[0,0],[0,1],[0,1],[0,1],[0,1],[0,1],[0,0],[1,1],[1,1],[0,0],[0,1],[0,1],[1,0],[0,1],[0,1],[0,1],[0,1],[0,1],[0,0],[1,1],[0,1],[0,1],[0,0],[1,1],[0,1],[0,1],[1,1],[0,1],[1,1],[0,1],[0,1],[0,1],[0,1],[0,0],[0,0],[1,1],[1,1],[0,0],[1,1],[0,0],[0,0],[0,0],[1,1],[0,1],[1,1],[1,0],[0,1],[0,1],[0,1],[0,1],[1,1],[0,1],[0,1],[0,0],[1,1],[0,1],[0,1],[0,1],[1,1],[0,1],[0,0],[1,1],[0,0],[0,1],[0,0],[1,1],[1,1],[1,1],[0,1],[1,1],[0,1],[0,1],[1,1],[0,1],[1,1],[0,0],[0,1],[0,1],[0,0],[1,1],[0,1],[0,1],[0,1],[0,1],[0,1],[1,1],[0,1],[1,1],[0,1],[0,1],[0,0],[0,0],[0,0],[0,1],[0,0],[0,1],[0,1],[1,1],[0,0],[0,0],[1,0],[1,1],[0,0],[1,1],[1,1],[0,1],[0,1],[1,1],[1,1],[1,1],[1,1],[0,1],[1,1],[0,1],[1,1],[1,1],[0,1],[0,0],[1,1],[0,1],[1,0],[0,1],[0,1],[1,1],[0,0],[1,1],[0,0],[0,0],[0,0],[0,0],[0,0],[0,1],[0,0],[0,0],[0,1],[0,1],[0,0],[0,0],[0,1],[0,1],[1,1],[1,1],[0,0],[0,1],[1,1],[0,1],[1,1],[0,1],[0,1],[1,1],[1,1],[1,1],[0,1],[0,0],[1,1],[1,1],[0,1],[1,1],[0,0],[0,0],[0,0],[0,1],[0,0],[0,1],[0,0],[1,1],[0,0],[1,1],[0,0],[0,1],[0,1],[1,1],[1,1],[0,1],[0,1],[0,0],[0,0],[0,1],[0,1],[0,1],[0,1],[0,1],[0,0],[1,1],[0,1],[0,1],[1,1],[0,1],[0,0],[1,0],[1,1],[0,1],[0,0],[0,0],[0,0],[0,1],[0,0],[1,1],[0,0],[0,1],[0,1],[0,1],[0,1],[0,1],[0,1],[0,1],[0,0],[0,1],[0,1],[1,1],[0,0],[0,0],[1,0],[0,1],[0,0],[0,1],[0,1],[0,1],[0,1],[1,1],[0,1],[0,1],[0,0],[0,1],[0,0],[0,1],[1,1],[0,0],[1,1],[0,0],[0,0],[0,0],[0,0],[1,1],[0,1],[0,0],[0,0],[1,1],[0,1],[1,1],[0,0],[0,1],[0,1],[0,0],[0,1],[0,1],[0,1],[0,1],[1,1],[1,1],[0,1],[0,1],[0,0],[0,1],[0,1],[0,0],[0,0],[1,1],[1,1],[0,1],[0,1],[1,0],[0,1],[1,1],[0,1],[1,1],[0,1],[1,1],[0,0],[0,0],[0,0],[1,1],[0,1],[0,1],[1,1],[0,0],[1,1],[1,1],[0,1],[0,0],[0,0],[0,1],[0,0],[0,1],[0,0],[0,0],[0,1],[0,1],[0,1],[0,0],[0,1],[0,0],[0,1],[1,1],[1,1],[0,0],[0,0],[0,1],[0,1],[0,0],[0,1],[1,1],[1,1],[0,1],[1,1],[0,0],[1,1],[0,1],[0,0],[0,1],[0,0],[0,0],[0,1],[0,1],[0,1],[0,0],[0,1],[0,1],[1,1],[0,1],[0,1],[0,0],[0,0],[1,1],[0,0],[0,1],[0,1],[0,0],[1,1],[1,1],[0,1],[0,1],[0,1],[0,0],[1,1],[1,1],[1,1],[0,1],[0,0],[0,1],[1,1],[0,1],[0,0],[0,0],[1,0],[0,1],[0,0],[0,1],[0,0],[1,1],[0,0],[0,0],[0,0],[0,0],[0,0],[0,1],[0,1],[1,1],[1,0],[0,0],[0,1],[0,0],[0,1],[0,1],[1,1],[1,1],[1,1],[1,1],[1,1],[0,0],[0,0],[0,1],[0,1],[0,0],[0,1],[0,1],[1,1],[0,1],[0,0],[0,0],[0,0],[0,1],[1,1],[0,1],[0,1],[1,0],[0,1],[0,0],[0,1],[0,1],[1,1],[0,1],[0,1],[0,1],[1,1],[1,1],[0,1],[1,1],[0,1],[0,1],[1,1],[1,1],[0,1],[0,1],[0,0],[0,0],[0,1],[0,1],[0,1],[0,0],[1,0],[0,1],[0,1],[0,1],[1,1],[0,1],[1,1],[0,0],[0,1],[0,1],[0,0],[1,1],[0,1],[1,1],[0,1],[1,1],[0,1],[0,1],[0,1],[0,1],[0,0],[0,0],[0,1],[0,0],[0,1],[0,0],[0,1],[0,0],[0,0],[0,0],[0,1],[1,1],[0,0],[0,0],[0,1],[0,1],[1,0],[0,0],[0,0],[0,0],[1,1],[0,1],[1,0],[0,0],[1,1],[1,1],[0,0],[0,1],[0,0],[0,1],[0,1],[0,1],[1,1],[0,1],[0,0],[0,1],[0,0],[0,1],[0,1],[0,1],[0,0],[0,1],[0,1],[0,1],[0,0],[1,1],[0,1],[0,1],[0,1],[0,1],[0,1],[0,1],[0,0],[1,1],[1,1],[0,0],[0,1],[0,1],[0,1],[0,1],[0,1],[0,1],[0,0],[0,1],[1,1],[0,1],[0,1],[0,1],[1,0],[0,0],[0,0],[0,1],[0,1],[0,1],[1,1],[0,1],[0,1],[0,0],[0,1],[0,1],[1,1],[0,0],[0,1],[0,0],[0,1],[1,1],[1,1],[0,1],[0,1],[0,0],[1,0],[1,1],[0,1],[1,1],[1,1],[0,1],[1,1],[0,0],[0,0],[1,0],[0,1],[0,1],[1,1],[0,0],[0,0],[0,1],[0,0],[0,0],[0,1],[1,1],[0,1],[1,1],[0,1],[0,0],[0,1],[1,1],[0,1],[0,0],[0,0],[0,1],[0,0],[0,0],[0,1],[0,1],[0,0],[1,1],[1,1],[1,0],[0,1],[0,1],[0,0],[0,1],[0,1],[0,0],[0,0],[0,0],[0,1],[0,1],[0,1],[0,0],[1,1],[0,0],[0,0],[0,1],[0,1],[0,1],[1,1],[1,1],[1,1],[1,1],[0,0],[1,0],[1,1],[0,1],[0,1],[0,1],[0,0],[1,1],[0,0],[1,1],[0,0],[0,1],[0,0],[0,0],[0,0],[1,1],[1,1],[0,1],[0,1],[0,0],[0,1],[1,1],[0,1],[0,1],[0,1],[0,1],[0,0],[1,0],[1,1],[0,1],[0,1],[0,0],[0,1],[0,1],[1,0],[1,0],[0,1],[0,1],[0,0],[0,1],[0,1],[1,1],[0,1],[0,0],[0,1],[1,1],[0,1],[0,0],[0,0],[1,1],[0,1],[0,0],[0,0],[0,1],[0,1],[0,1],[0,1],[0,1],[1,1],[0,1],[1,1],[0,1],[0,0],[1,1],[0,1],[1,1],[0,0],[0,0],[0,1],[1,1],[0,1],[1,0],[1,1],[0,1],[1,1],[1,1],[0,1],[0,1],[1,1],[0,1],[0,1],[0,0],[0,1],[0,1],[0,1],[0,0],[0,0],[0,1],[1,1],[0,0],[1,1],[1,1],[0,1],[0,1],[0,1],[0,1],[0,1],[0,0],[0,1],[0,0],[1,1],[0,1],[0,0],[1,1],[0,1],[0,1],[1,1],[0,1],[0,0],[0,1],[0,0],[0,0],[0,0],[0,0],[0,1],[0,0],[1,1],[0,1],[0,0],[0,0],[1,0],[0,0],[0,0],[0,0],[0,0],[0,0],[0,0],[1,1],[0,1],[0,0],[0,0],[1,1],[1,0],[1,0],[0,0],[1,1],[0,0],[0,1],[0,1],[1,1],[0,0],[0,1],[0,0],[0,1],[0,1],[0,1],[1,1],[1,1],[0,1],[0,1],[0,1],[1,0],[0,1],[0,0],[0,0],[1,1],[0,0],[0,0],[0,1],[1,1],[0,0],[1,1],[0,0],[0,0],[1,1],[0,1],[0,0],[1,1],[0,1],[0,0],[1,1],[0,1],[0,1],[0,0],[0,1],[0,0],[0,1],[0,1],[0,0],[1,1],[0,1],[0,0],[0,0],[0,1],[0,1],[0,1],[0,1],[1,1],[1,1],[0,1],[1,0],[0,0],[0,0],[0,1],[0,1],[0,1],[0,1],[1,1],[0,0],[0,1],[0,1],[0,1],[0,0],[0,0],[0,1],[0,1],[0,1],[0,1],[0,1],[0,1],[0,0],[0,1],[0,1],[1,1],[0,1],[0,1],[0,1],[1,1],[1,1],[0,1],[0,1],[0,1],[0,1],[0,1],[0,0],[0,1],[1,1],[0,1],[0,1],[1,0],[0,1],[0,0],[0,1],[0,1],[1,1],[0,0],[0,1],[0,0],[0,1],[0,1],[0,1],[0,0],[0,1],[0,0],[0,1],[1,1],[0,0],[0,1],[0,1],[0,0],[0,0],[0,1],[0,1],[0,0],[0,1],[0,0],[0,1],[1,1],[0,0],[0,0],[0,1],[0,1],[0,1],[0,1],[0,1],[0,1],[0,1],[0,0],[0,1],[0,1],[0,1],[0,1],[0,1],[0,1],[0,1],[1,1],[0,1],[1,1],[0,1],[0,1],[0,0],[0,0],[1,1],[1,1],[0,0],[0,0],[0,1],[0,1],[0,0],[0,1],[0,0],[0,0],[1,1],[1,1],[0,1],[0,0],[1,1],[0,1],[0,0],[0,1],[0,0],[1,1],[1,1],[0,1],[0,1],[0,1],[0,0],[0,1],[0,0],[0,0],[1,1],[0,1],[0,1],[1,1],[0,0],[0,0],[0,0],[0,0],[0,0],[0,0],[0,0],[0,0],[1,1],[1,0],[0,1],[0,1],[0,0],[0,1],[0,1],[1,1],[0,0],[1,0],[1,1],[0,1],[1,1],[0,1],[0,1],[1,1],[1,1],[0,0],[1,1],[1,1],[0,1],[1,0],[1,1],[0,0],[0,0],[0,0],[0,1],[0,1],[0,1],[1,1],[0,1],[0,0],[0,1],[1,1],[0,1],[0,1],[1,0],[0,1],[1,1],[0,0],[0,1],[1,1],[0,1],[1,1],[0,0],[1,1],[0,0],[1,1],[0,1],[0,0],[1,1],[0,1],[0,0],[0,0],[0,1],[0,0],[1,1],[1,1],[0,1],[0,1],[0,0],[0,1],[0,1],[0,0],[0,1],[0,1],[0,1],[0,1],[0,1],[1,1],[0,1],[0,0],[0,0],[1,0],[1,0],[0,0],[0,1],[1,1],[0,1],[0,1],[0,0],[0,1],[1,0],[1,1],[0,1],[0,1],[0,1],[0,0],[0,0],[1,0],[0,1],[1,1],[0,0],[1,1],[0,1],[0,1],[0,0],[1,1],[0,0],[0,0],[1,1],[1,1],[0,1],[0,1],[0,1],[0,0],[0,1],[0,0],[0,0],[0,1],[0,0],[1,1],[0,0],[1,1],[0,1],[1,1],[0,0],[0,1],[1,1],[0,1],[0,1],[0,1],[0,0],[0,0],[0,1],[0,1],[0,1],[0,1],[0,0],[1,1],[1,1],[0,0],[0,0],[0,1],[0,1],[0,1],[1,1],[0,1],[0,0],[1,1],[0,0],[0,0],[1,1],[0,1],[0,1],[1,1],[0,0],[0,0],[0,1],[0,0],[0,0],[0,1],[0,0],[1,1],[0,1],[0,1],[1,1],[0,1],[0,0],[0,0],[0,1],[0,1],[0,1],[0,1],[0,0],[0,1],[1,1],[0,1],[1,1],[0,1],[0,1],[0,0],[0,1],[0,1],[0,0],[0,0],[0,0],[1,1],[1,1],[0,0],[0,1],[0,0],[0,0],[0,1],[0,1],[0,1],[0,1],[1,1],[0,0],[0,0],[0,0],[1,1],[0,1],[0,1],[0,1],[0,1],[1,1],[1,1],[0,1],[0,1],[0,0],[0,1],[0,1],[1,1],[0,1],[0,1],[0,0],[0,1],[0,1],[0,1],[1,1],[0,1],[0,1],[0,0],[0,1],[0,0],[0,0],[0,0],[0,1],[1,0],[0,0],[0,1],[0,1],[0,0],[0,1],[0,0],[0,1],[0,1],[0,1],[0,0],[0,1],[0,0],[0,1],[0,1],[0,1],[0,1],[0,0],[0,1],[0,0],[0,1],[0,1],[0,1],[1,1],[0,0],[0,0],[1,1],[1,0],[0,1],[0,0],[0,0],[0,1],[0,0],[0,0],[0,1],[0,1],[0,0],[1,1],[0,1],[0,0],[0,1],[0,1],[1,1],[0,1],[0,0],[0,1],[0,1],[0,0],[1,1],[0,1],[0,0],[0,1],[0,1],[0,1],[1,1],[1,1],[0,0],[0,1],[0,0],[1,1],[0,1],[0,0],[0,1],[0,1],[1,1],[1,1],[0,0],[1,0],[0,1],[0,1],[0,0],[1,0],[0,0],[0,1],[0,0],[0,1],[0,1],[0,1],[0,0],[1,1],[0,1],[1,1],[0,0],[0,1],[0,1],[0,1],[1,1],[0,0],[0,1],[0,1],[0,0],[1,1],[0,1],[0,1],[0,1],[0,1],[0,0],[0,1],[0,1],[0,1],[1,1],[0,0],[0,1],[0,0],[0,1],[0,1],[0,1],[0,1],[0,1],[0,0],[0,0],[0,1],[1,1],[0,1],[0,1],[1,1],[1,1],[0,1],[0,0],[1,0],[0,1],[1,1],[0,0],[0,0],[0,1],[0,0],[0,0],[1,1],[1,1],[0,1],[0,1],[0,1],[0,0],[1,1],[0,1],[0,1],[0,1],[0,1],[0,1],[0,1],[1,1],[0,1],[0,1],[1,1],[0,0],[0,1],[1,1],[0,1],[0,1],[0,0],[1,1],[0,1],[0,1],[0,1],[0,0],[0,0],[0,0],[1,1],[0,1],[1,1],[0,1],[0,1],[0,0],[1,1],[0,0],[0,0],[0,1],[1,1],[0,1],[0,1],[1,1],[0,1],[0,1],[0,1],[0,1],[0,1],[0,0],[0,0],[0,1],[1,1],[0,1],[0,1],[1,1],[0,0],[0,1],[0,1],[0,1],[0,1],[0,0],[0,0],[0,0],[1,1],[1,1],[0,1],[0,0],[0,1],[1,0],[1,1],[1,1],[0,0],[1,1],[0,1],[1,1],[0,1],[0,1],[0,1],[0,0],[1,1],[0,0],[0,1],[0,0],[0,0],[0,1],[0,1],[0,0],[0,0],[0,0],[0,1],[1,1],[0,1],[0,0],[0,1],[1,0],[0,0],[0,0],[0,0],[0,0],[0,0],[0,1],[0,1],[0,1],[0,1],[1,1],[0,1],[0,0],[1,1],[0,0],[0,0],[0,0],[1,1],[0,1],[0,1],[1,1],[0,1],[0,1],[0,0],[0,1],[0,0],[0,1],[0,1],[1,0],[0,1],[0,1],[0,1],[0,0],[0,1],[0,1],[0,1],[0,1],[0,1],[1,1],[0,1],[0,1],[0,0],[1,1],[1,1],[0,0],[0,1],[0,1],[0,1],[0,1],[0,1],[0,0],[0,0],[0,1],[1,0],[0,1],[1,1],[0,0],[0,0],[0,1],[0,1],[0,1],[0,0],[0,0],[0,0],[0,1],[1,1],[0,1],[0,1],[0,1],[0,0],[1,1],[1,1],[1,0],[1,0],[0,0],[0,0],[0,1],[0,0],[0,0],[0,1],[0,1],[1,1],[0,0],[0,1],[0,1],[0,0],[0,0],[0,0],[0,1],[0,0],[1,1],[0,1],[0,1],[0,1],[0,0],[1,1],[1,1],[0,0],[1,1],[1,1],[0,0],[1,0],[0,1],[1,1],[1,0],[0,0],[0,1],[0,1],[0,0],[1,1],[1,1],[0,1],[0,0],[0,0],[1,1],[0,0],[0,1],[0,1],[1,1],[1,1],[0,1],[0,1],[0,1],[0,1],[0,0],[0,1],[0,0],[0,0],[0,1],[0,0],[1,1],[0,1],[0,0],[0,1],[0,1],[0,1],[0,1],[1,1],[0,1],[0,1],[0,1],[1,1],[0,0],[0,1],[0,1],[0,1],[0,0],[0,1],[0,0],[0,0],[0,1],[1,0],[0,1],[0,1],[1,1],[0,1],[0,1],[1,1],[0,0],[0,1],[0,0],[0,0],[0,0],[0,1],[1,1],[0,0],[0,1],[0,1],[0,1],[0,1],[0,1],[0,1],[0,0],[0,1],[0,0],[0,1],[0,0],[0,1],[0,1],[1,1],[0,0],[0,0],[0,0],[0,1],[1,0],[0,0],[0,0],[0,1],[1,1],[0,1],[1,0],[1,1],[0,1],[1,1],[0,0],[0,1],[0,0],[0,1],[0,1],[0,1],[0,1],[1,0],[0,1],[1,1],[0,0],[0,0],[1,1],[0,0],[1,1],[1,1],[1,1],[0,1],[0,0],[0,0],[0,1],[0,0],[0,1],[1,1],[0,1],[0,1],[0,1],[0,1],[0,1],[1,1],[0,1],[0,0],[0,1],[1,1],[0,1],[0,1],[0,1],[0,1],[0,1],[1,1],[0,0],[0,0],[0,1],[1,1],[1,1],[1,1],[0,0],[0,1],[0,0],[0,1],[1,1],[0,0],[0,1],[0,0],[0,1],[0,1],[0,0],[0,1],[1,1],[0,1],[0,0],[0,1],[0,0],[0,0],[0,1],[0,1],[0,1],[0,1],[0,1],[0,1],[1,1],[1,1],[0,0],[0,1],[0,1],[1,1],[0,1],[0,1],[0,0],[0,1],[0,1],[0,0],[0,1],[1,1],[1,1],[0,1],[0,1],[1,0],[0,1],[1,1],[1,0],[0,1],[0,1],[1,1],[0,1],[0,1],[0,0],[0,0],[0,1],[1,1],[0,0],[0,0],[0,0],[1,1],[0,1],[1,1],[0,1],[0,0],[0,0],[0,1],[0,0],[1,0],[0,0],[0,0],[1,1],[0,0],[0,0],[0,0],[1,1],[1,1],[0,1],[0,1],[0,0],[0,1],[0,1],[0,0],[1,0],[1,1],[0,0],[0,1],[0,0],[1,1],[1,1],[0,0],[1,0],[0,1],[0,1],[1,1],[0,0],[0,1],[0,1],[0,1],[0,0],[1,1],[1,1],[0,0],[0,0],[0,1],[0,0],[0,0],[0,0],[0,0],[0,0],[1,1],[0,0],[0,0],[0,0],[0,1],[0,0],[1,1],[1,1],[0,0],[0,1],[0,1],[0,1],[0,0],[0,1],[0,1],[0,1],[0,1],[0,1],[0,1],[0,1],[0,1],[0,0],[1,1],[0,0],[0,1],[0,0],[0,1],[0,1],[0,0],[0,1],[1,1],[1,1],[0,0],[0,1],[0,1],[0,1],[0,1],[0,1],[0,0],[0,1],[0,1],[0,0],[0,1],[0,1],[1,1],[1,1],[0,1],[0,1],[0,1],[0,1],[0,1],[0,0],[1,1],[0,1],[1,1],[0,1],[0,0],[0,1],[0,0],[0,0],[0,0],[0,1],[0,0],[1,1],[0,0],[1,0],[0,0],[0,0],[1,1],[0,1],[0,0],[0,0],[0,1],[0,0],[1,1],[0,1],[0,0],[1,1],[0,1],[0,0],[1,1],[1,1],[0,1],[0,0],[0,0],[0,1],[0,0],[0,1],[0,1],[1,1],[0,0],[0,1],[0,1],[0,1],[0,0],[1,1],[0,1],[0,1],[1,1],[0,1],[0,0],[0,0],[0,1],[0,1],[1,1],[0,1],[0,1],[0,1],[0,0],[0,1],[1,1],[0,0],[1,1],[0,1],[0,0],[0,0],[0,0],[0,1],[1,1],[0,1],[0,1],[1,1],[1,1],[0,1],[0,1],[0,0],[0,0],[0,1],[1,1],[1,1],[0,1],[0,0],[0,1],[0,1],[0,1],[0,0],[0,1],[0,1],[0,1],[0,0],[1,1],[0,0],[0,1],[0,0],[0,0],[0,1],[0,1],[1,1],[0,1],[1,1],[0,0],[0,1],[0,1],[0,1],[1,1],[0,0],[0,1],[1,1],[0,1],[0,1],[0,1],[0,0],[0,0],[0,0],[0,0],[0,1],[0,1],[0,0],[1,1],[0,0],[0,0],[1,1],[0,1],[0,0],[0,1],[0,0],[1,1],[1,1],[0,1],[0,1],[0,1],[1,1],[1,1],[0,0],[1,1],[1,1],[0,1],[0,1],[1,1],[1,1],[0,1],[0,0],[1,1],[0,0],[0,1],[1,1],[0,1],[0,0],[1,1],[1,1],[0,1],[0,1],[0,0],[1,1],[1,1],[0,0],[0,0],[0,0],[0,0],[0,1],[0,0],[0,0],[1,1],[0,1],[1,1],[0,1],[1,1],[0,0],[0,1],[0,1],[0,0],[0,0],[1,1],[0,0],[0,1],[0,1],[0,1],[0,1],[1,0],[0,1],[1,1],[0,0],[0,1],[0,0],[1,1],[0,0],[0,1],[0,0],[0,1],[0,0],[0,1],[0,1],[0,0],[0,1],[0,1],[0,1],[0,0],[1,1],[0,1],[0,0],[0,1],[0,1],[0,1],[1,1],[0,0],[0,1],[0,0],[0,1],[0,0],[0,0],[0,1],[0,1],[0,1],[0,0],[0,1],[0,1],[1,1],[0,1],[1,1],[1,0],[1,1],[1,1],[0,1],[0,0],[1,1],[1,1],[0,1],[0,1],[1,1],[0,0],[0,1],[0,1],[0,0],[0,1],[0,0],[0,0],[0,0],[1,1],[1,1],[0,0],[0,1],[0,1],[1,1],[1,0],[1,1],[0,1],[0,0],[1,1],[1,1],[0,1],[0,0],[0,0],[0,1],[0,1],[0,1],[0,1],[0,0],[1,1],[0,1],[0,1],[0,1],[0,1],[0,0],[0,1],[0,1],[0,1],[0,0],[0,0],[1,1],[0,1],[0,0],[1,0],[0,0],[0,0],[0,0],[0,1],[0,0],[1,1],[0,0],[0,1],[1,1],[0,1],[0,1],[0,1],[0,0],[0,0],[1,1],[1,0],[0,1],[0,1],[1,1],[0,1],[0,1],[1,0],[0,1],[0,1],[0,0],[0,1],[0,1],[1,1],[0,0],[1,1],[0,1],[0,1],[0,1],[1,1],[1,1],[0,1],[0,1],[0,1],[0,1],[1,1],[1,1],[0,0],[1,1],[1,1],[0,1],[0,0],[0,1],[0,0],[0,0],[1,1],[0,1],[0,1],[0,1],[0,0],[0,0],[0,1],[0,1],[0,1],[0,1],[0,1],[0,0],[0,1],[0,1],[0,0],[0,1],[0,1],[1,1]],\"domain\":{\"x\":[0.0,1.0],\"y\":[0.0,1.0]},\"hovertemplate\":\"sex=%{customdata[1]}\\u003cbr\\u003eSalary=%{customdata[0]}\\u003cextra\\u003e\\u003c\\u002fextra\\u003e\",\"labels\":[1,1,1,1,1,1,0,1,1,1,0,1,1,1,0,0,1,0,1,1,1,1,1,1,1,1,0,1,1,0,1,1,1,1,1,1,1,1,1,0,1,1,0,0,1,1,0,1,1,0,1,1,1,1,0,1,0,0,0,1,1,1,1,1,1,1,0,1,1,1,1,0,1,1,1,1,0,0,1,1,0,1,0,1,1,1,0,1,1,0,0,1,0,0,0,1,1,1,0,0,1,1,1,1,1,0,0,0,0,0,1,0,0,0,0,1,1,1,1,0,1,1,0,1,1,0,1,1,0,1,1,0,0,0,1,1,1,1,0,1,1,1,0,1,1,0,1,1,1,1,1,1,1,1,1,1,1,1,1,0,1,0,1,1,1,1,1,1,1,0,0,1,1,0,1,1,0,0,0,1,0,0,1,1,1,1,0,1,1,1,1,0,1,1,0,0,1,0,1,1,1,1,0,1,0,1,1,1,1,1,1,1,1,0,1,1,0,1,0,0,1,0,1,0,1,0,1,0,1,1,1,1,1,1,1,1,0,1,1,0,1,0,0,0,1,1,0,1,1,0,1,0,1,1,1,1,1,1,0,0,1,0,1,1,1,1,1,1,1,0,1,1,1,1,1,1,1,1,0,0,1,0,1,1,1,1,1,1,0,0,1,0,1,1,1,1,1,1,1,1,0,1,1,1,1,0,1,0,0,0,1,0,1,1,1,1,1,0,0,1,0,1,1,0,0,1,1,1,1,1,0,1,1,1,0,1,1,1,1,0,0,1,1,1,1,1,1,0,0,1,1,0,0,0,1,1,0,0,0,1,0,1,0,0,1,1,1,1,0,0,0,1,1,0,1,0,0,0,0,1,1,1,1,1,1,1,0,1,1,0,1,0,0,0,1,1,0,0,1,1,1,1,1,1,0,1,0,1,1,1,1,1,1,1,1,1,0,1,1,1,0,1,0,1,1,1,1,1,1,1,1,1,1,1,1,0,1,1,0,0,0,1,1,1,0,1,1,1,1,1,1,1,1,1,1,1,1,1,1,0,1,1,1,0,1,0,1,0,1,1,0,1,0,1,0,1,1,0,1,1,1,1,0,1,1,0,1,1,0,0,1,1,0,1,1,1,1,1,1,0,0,1,1,1,1,1,1,1,1,1,1,1,1,1,1,1,0,0,0,1,1,1,1,0,1,0,1,0,1,0,1,0,1,1,1,1,1,0,1,0,1,1,1,1,0,1,1,1,0,0,1,0,0,1,1,1,0,1,1,1,0,0,1,1,1,1,1,1,1,1,1,1,1,1,1,0,1,1,1,1,1,1,1,1,0,1,0,1,1,1,1,1,0,1,1,0,0,0,1,0,0,1,1,0,1,1,1,0,1,1,0,1,0,1,1,0,0,0,1,0,0,1,0,0,1,1,1,1,1,1,1,1,0,1,1,0,1,1,0,0,1,1,1,1,1,1,0,0,0,1,1,1,1,1,1,1,1,1,1,1,1,1,1,0,1,0,1,1,0,1,1,1,1,1,1,1,1,1,1,0,0,1,1,1,1,0,1,0,0,1,0,1,1,0,0,1,1,0,1,1,1,0,0,1,0,0,0,1,0,0,1,0,1,1,1,1,0,1,0,1,1,1,1,1,1,0,1,0,0,1,1,1,1,0,1,0,1,1,0,1,1,1,1,1,1,0,1,1,1,1,1,1,1,0,1,0,0,0,1,1,1,0,0,0,1,1,0,1,1,0,1,1,1,1,1,1,1,1,1,0,0,1,1,1,1,1,1,1,1,1,1,1,1,1,1,0,1,0,1,1,1,1,1,1,1,0,1,1,1,1,0,1,1,1,0,1,0,1,1,1,1,1,1,1,0,1,0,1,1,1,1,1,1,1,1,0,1,1,1,1,1,1,1,1,0,1,1,1,1,1,1,1,1,1,1,1,1,1,1,1,0,1,1,1,1,0,1,0,1,1,1,0,1,1,1,1,1,1,1,1,0,0,1,1,0,1,1,0,1,1,1,1,1,1,0,1,0,0,1,1,1,1,1,1,0,1,1,1,1,1,1,1,1,1,0,0,1,0,1,1,1,0,0,0,1,1,1,0,1,1,1,0,1,1,1,1,1,1,1,1,1,0,0,1,1,1,1,0,0,0,0,1,1,1,0,1,1,0,0,1,1,0,0,1,1,1,0,0,1,1,1,1,1,1,1,1,1,1,1,0,1,0,1,0,1,1,0,1,1,0,1,1,0,1,1,0,1,1,1,0,1,0,1,1,0,1,1,1,1,1,0,1,1,1,1,1,0,1,1,1,0,1,0,1,0,1,1,1,1,1,0,1,1,0,1,1,1,1,1,1,1,1,0,0,1,1,0,0,1,1,1,1,0,1,1,0,1,0,0,1,1,0,0,1,1,0,1,1,1,1,1,0,1,1,0,0,0,1,1,1,0,1,0,0,0,0,1,0,0,1,0,1,0,0,1,1,1,1,0,1,1,1,1,1,1,1,0,0,1,1,1,1,0,0,1,1,1,0,1,1,0,1,1,1,0,1,1,1,1,0,1,1,1,1,1,0,1,1,1,1,0,1,1,1,1,0,0,0,1,1,0,1,1,1,0,0,1,0,1,1,1,1,1,1,1,0,1,0,0,1,1,1,1,0,1,1,1,1,1,0,1,1,1,0,0,0,1,0,1,1,1,0,1,0,0,0,1,1,0,0,1,0,0,0,0,1,1,0,0,0,1,1,1,1,1,1,0,1,1,1,1,0,1,0,0,1,1,1,1,1,1,1,1,0,1,1,1,0,1,1,1,0,1,1,1,1,1,1,1,1,1,1,1,1,1,0,0,1,1,1,1,1,0,1,1,1,1,1,0,0,1,1,1,1,1,1,1,1,0,1,0,1,1,1,1,1,1,0,0,0,0,1,0,1,1,1,1,1,1,0,0,1,0,1,1,1,0,0,1,1,1,0,0,1,0,0,0,1,1,1,0,1,1,0,1,0,0,1,1,1,0,1,1,0,1,0,1,1,0,1,1,0,1,0,0,1,1,1,1,0,0,0,1,1,1,1,0,1,1,1,1,0,1,0,1,1,1,1,0,1,1,1,1,1,0,1,1,1,0,1,1,0,1,1,1,0,0,0,1,1,1,1,1,1,1,0,1,1,1,1,1,1,1,1,0,1,1,1,0,1,1,0,0,1,1,1,1,0,0,1,0,1,0,0,0,0,1,0,0,1,0,0,0,0,1,0,1,0,1,1,1,1,1,1,0,1,0,1,1,1,1,1,1,1,0,0,1,0,1,0,1,1,0,0,1,0,0,0,0,0,1,0,1,1,1,0,1,1,0,0,1,1,1,0,0,1,1,1,1,1,1,1,0,1,0,1,1,1,1,1,1,1,1,1,0,1,1,0,1,0,0,1,1,0,1,1,0,1,0,1,0,1,1,1,1,0,1,1,1,1,1,0,0,1,0,1,0,1,1,1,1,0,1,1,1,1,1,1,1,1,1,1,1,0,1,0,1,0,0,1,0,1,1,0,0,1,0,0,1,1,1,0,0,1,1,1,1,1,1,0,0,0,1,1,0,1,1,0,1,1,1,1,1,1,0,1,1,1,1,1,1,1,1,0,1,0,0,1,1,1,1,0,1,1,0,1,1,1,1,0,1,1,1,1,1,1,0,1,1,1,0,1,1,0,0,1,1,0,0,0,0,1,1,0,1,1,0,1,1,0,1,1,0,1,1,1,0,0,0,1,0,0,0,0,1,0,1,1,1,1,1,0,0,0,0,0,0,1,1,0,1,0,1,1,1,0,0,0,1,1,1,0,1,1,0,1,0,1,1,1,1,0,0,0,0,1,1,1,1,0,1,1,1,1,0,0,0,1,0,0,0,0,0,1,1,1,1,1,0,1,1,1,1,1,1,0,1,0,1,1,0,0,0,0,1,1,1,1,0,1,1,1,1,0,1,1,0,1,1,0,1,1,0,0,1,0,0,1,1,1,1,0,1,1,0,1,1,1,1,0,0,1,0,0,0,1,0,1,1,0,1,1,0,0,0,1,1,1,1,1,1,0,0,0,1,1,1,1,1,0,0,0,1,0,1,1,1,1,1,0,1,0,1,1,1,0,0,1,1,1,1,1,1,1,1,1,1,0,1,1,1,1,1,1,0,0,0,0,1,1,0,1,1,0,0,1,0,1,1,1,0,1,1,0,1,1,1,1,0,0,1,1,0,0,1,1,0,1,1,1,1,1,0,0,1,1,1,1,1,1,1,0,1,1,1,0,1,0,1,1,0,1,0,0,0,1,0,0,0,0,1,0,0,1,0,1,1,0,1,1,0,1,0,0,1,1,1,1,1,0,0,1,0,0,1,0,1,1,1,1,1,0,1,0,1,1,1,0,0,1,1,0,0,0,0,1,0,1,1,0,0,0,1,1,0,1,1,1,1,1,0,1,1,1,1,1,0,1,0,0,0,1,0,1,1,0,1,0,1,0,1,1,1,0,1,1,1,1,1,1,1,0,1,1,0,1,1,0,1,1,1,1,1,1,1,1,1,1,0,1,1,1,1,0,1,1,1,0,1,1,1,1,1,1,0,0,1,0,1,1,1,0,1,1,0,1,1,1,1,0,1,1,1,1,0,1,1,1,0,1,1,1,0,1,1,1,1,1,1,1,1,0,1,1,0,1,1,1,0,1,0,1,1,1,0,1,0,1,0,1,1,1,1,1,1,1,1,1,1,1,1,1,1,0,1,1,1,0,0,1,1,1,0,0,1,1,1,0,1,1,0,0,1,1,1,0,1,1,1,1,1,1,1,1,1,1,0,0,0,1,1,0,0,1,1,0,1,0,1,0,1,1,1,0,1,1,1,1,1,1,1,0,1,0,1,0,1,1,0,1,1,1,1,1,1,1,0,1,0,1,1,1,1,0,0,1,0,1,1,1,1,1,0,0,0,1,1,1,0,0,1,1,0,1,1,1,1,1,1,1,1,1,1,0,1,0,1,0,1,1,1,1,1,1,1,0,1,1,1,1,0,1,1,0,1,1,0,0,0,1,1,1,0,0,1,0,1,0,0,0,1,1,0,1,1,0,1,1,0,1,1,1,1,1,1,0,0,1,1,0,0,0,1,1,1,0,0,0,1,1,0,1,1,1,1,0,1,1,1,1,1,1,0,1,1,1,1,1,1,1,0,1,1,1,0,0,1,1,0,0,1,0,1,1,0,0,0,1,1,1,0,0,1,1,1,0,1,0,1,0,1,1,1,0,1,1,1,1,0,1,1,0,1,0,1,1,1,1,0,1,0,0,1,0,0,1,1,1,1,1,1,0,1,0,1,1,1,1,1,1,1,1,1,1,1,1,0,1,0,1,1,1,0,1,1,1,0,0,0,0,1,1,0,1,1,0,1,1,1,1,0,0,1,0,1,1,0,1,0,0,0,1,1,1,1,1,1,0,0,0,0,1,1,1,1,0,1,1,1,0,1,1,1,0,1,1,1,1,1,1,1,1,1,0,1,1,1,0,1,0,1,1,1,1,1,1,1,0,1,1,1,1,1,1,0,1,1,1,0,1,0,1,1,1,1,1,0,0,0,1,1,1,0,0,1,0,0,1,0,1,1,0,1,1,1,0,1,1,0,1,0,0,1,1,1,1,1,1,1,1,0,1,0,0,0,0,1,1,1,1,0,0,1,1,1,1,1,0,0,0,1,0,0,0,1,0,1,1,0,0,0,1,0,0,1,0,1,1,0,1,0,1,1,0,0,1,1,1,0,1,1,0,0,1,1,1,1,1,0,1,1,1,1,1,0,0,0,1,1,1,1,1,0,1,1,0,1,0,1,1,0,0,1,0,0,1,1,1,1,1,1,1,1,0,1,1,1,1,1,0,1,1,1,1,0,0,1,1,1,0,1,1,1,1,1,0,1,1,1,1,1,1,0,1,1,1,0,1,0,1,1,1,1,1,1,0,1,0,0,1,0,1,1,1,0,1,1,1,0,1,1,0,1,1,1,0,1,1,1,0,0,1,1,0,0,1,0,1,1,0,1,1,0,0,1,1,0,1,1,1,1,1,0,1,1,0,1,0,1,0,1,1,0,0,0,1,0,0,1,1,0,1,0,1,1,1,1,1,0,1,1,1,1,1,0,1,0,1,0,1,1,0,1,1,0,1,0,0,1,1,1,1,0,1,1,0,1,1,1,1,1,0,0,1,0,1,1,1,0,1,0,1,1,0,1,1,1,1,1,1,0,1,1,1,1,0,1,0,0,1,1,1,1,0,0,1,1,0,0,1,1,1,1,0,0,1,0,1,0,1,1,1,1,1,1,1,1,1,1,1,0,0,0,0,1,0,1,1,1,1,0,1,0,1,1,1,0,1,1,1,1,0,1,0,1,0,0,1,0,0,0,0,1,1,1,1,0,0,0,1,1,1,0,1,1,1,0,1,1,1,0,1,0,1,1,1,0,1,1,1,1,1,1,1,1,0,0,1,1,1,0,1,1,0,0,0,1,1,0,0,0,1,0,1,0,1,1,1,1,0,0,0,1,1,0,0,1,1,1,0,1,1,1,0,1,1,0,0,1,1,1,1,1,1,1,1,1,1,1,1,0,0,1,1,1,1,1,0,0,0,1,1,1,0,1,0,1,1,1,0,1,0,1,1,1,0,1,1,0,0,1,1,1,1,1,1,0,1,0,1,1,1,1,0,0,1,1,1,1,1,1,1,1,1,0,1,1,1,1,1,0,0,1,1,1,1,1,1,1,1,0,0,1,1,1,0,1,1,1,1,1,0,1,1,1,1,1,0,0,1,1,1,0,0,1,1,1,1,1,1,1,0,0,1,1,1,0,1,0,0,1,0,0,1,1,0,0,1,1,1,0,1,1,1,1,1,1,1,0,1,0,0,0,1,0,0,1,1,0,1,1,1,1,1,1,1,1,1,1,1,0,1,1,1,0,1,1,1,1,0,0,1,0,1,1,1,1,1,1,0,0,1,0,1,0,1,1,1,1,1,1,1,1,1,1,1,1,1,1,1,1,1,0,1,1,1,1,1,0,0,1,0,0,1,0,1,1,1,1,0,1,1,0,1,1,0,0,1,1,0,0,0,1,0,1,0,0,1,1,1,0,0,1,0,1,1,1,1,1,0,1,1,1,1,0,1,1,1,1,1,1,1,1,0,1,1,1,0,0,1,1,0,1,1,0,0,0,1,1,1,1,1,1,1,0,0,1,1,1,0,1,1,1,0,1,1,1,1,0,1,0,0,1,0,0,1,1,0,0,1,1,1,1,1,1,1,1,1,1,0,1,1,0,1,1,1,1,1,1,1,0,0,1,1,1,1,1,0,1,1,1,0,0,0,1,1,1,1,1,1,1,0,0,1,0,1,0,1,0,1,0,1,1,1,1,0,1,0,1,1,1,1,1,0,0,1,1,1,1,1,0,1,0,0,1,1,1,0,0,1,1,0,1,1,1,1,0,1,1,1,0,1,1,0,0,1,1,1,1,1,1,1,1,1,1,1,0,1,1,0,1,1,1,0,1,1,0,1,0,0,1,1,0,0,1,1,1,0,1,1,1,1,0,0,1,0,0,1,0,0,1,1,0,1,1,1,1,0,1,0,0,1,1,1,0,1,1,1,0,1,1,1,1,1,1,1,1,0,0,0,0,1,0,0,0,0,1,0,1,1,0,1,0,0,1,1,1,1,1,1,0,0,1,0,1,0,0,0,0,0,1,0,1,1,0,1,0,0,1,1,1,1,1,1,1,1,1,1,0,1,0,0,1,1,1,1,1,0,1,0,1,1,1,1,1,0,0,0,1,1,0,1,0,1,0,1,0,1,0,1,1,1,1,1,1,1,1,1,0,1,1,1,1,1,1,1,0,0,1,0,0,0,1,1,0,0,1,1,0,1,0,0,1,1,1,1,1,0,1,1,0,1,0,0,1,1,1,1,1,1,1,1,1,1,0,1,1,1,0,1,1,0,1,0,0,1,0,1,1,0,1,1,0,1,0,1,1,0,1,1,1,1,1,1,1,0,0,1,0,1,1,0,1,0,1,1,1,0,1,1,1,0,0,0,1,0,0,0,1,1,1,1,1,1,0,1,1,1,0,1,0,0,1,1,1,0,1,1,1,1,1,1,1,0,0,1,1,1,0,1,1,1,1,1,1,0,1,0,1,0,1,0,1,0,0,0,1,1,1,1,1,1,1,1,1,1,0,1,1,1,1,1,1,1,1,1,1,1,0,1,1,0,1,1,1,0,1,0,1,1,0,1,0,1,0,1,1,1,1,1,1,1,1,1,1,1,1,1,1,1,1,1,1,1,1,0,1,0,1,0,1,0,1,0,0,1,0,1,1,1,1,1,1,0,1,1,0,0,1,1,1,0,1,1,0,1,1,0,0,1,1,1,0,1,1,1,1,1,1,0,1,1,1,0,1,1,1,0,1,1,1,0,1,0,1,1,1,0,1,1,1,0,1,1,1,1,1,1,1,1,1,1,1,1,1,0,1,1,0,0,1,1,1,1,1,1,1,1,0,1,1,1,1,1,1,1,1,0,0,1,1,0,0,1,1,1,0,0,0,0,1,0,1,0,1,1,1,1,1,1,1,1,0,1,1,0,1,1,0,1,1,1,0,1,1,1,0,0,0,0,1,1,0,1,1,1,1,1,1,0,1,1,0,0,1,1,1,1,0,1,0,0,1,1,1,1,1,0,1,1,0,0,1,1,1,1,1,0,1,1,0,1,1,0,1,0,1,1,0,0,1,0,1,1,1,0,1,0,0,1,0,1,1,1,1,1,0,1,1,0,1,1,1,0,0,0,1,1,0,1,1,1,0,1,1,1,1,1,0,1,0,0,0,0,0,1,0,1,1,1,1,1,1,1,0,1,1,0,0,1,1,0,1,0,1,0,1,0,1,1,1,1,1,1,1,1,0,1,0,1,1,1,0,1,1,0,1,0,0,1,0,1,0,0,0,1,1,0,1,1,1,1,1,1,1,1,0,1,1,0,1,1,1,1,1,1,0,0,0,0,0,1,1,0,0,0,1,1,1,1,1,1,0,0,1,1,0,1,1,1,1,0,1,0,0,0,1,1,0,1,0,1,1,0,0,0,1,1,1,0,0,1,1,1,0,1,1,1,1,0,1,0,1,0,0,0,1,0,0,0,0,0,1,0,1,0,0,1,1,1,1,0,0,0,1,1,0,1,1,0,1,0,1,1,1,1,1,1,1,0,1,1,1,1,1,1,0,1,0,1,1,0,1,1,1,1,0,0,0,0,0,0,1,1,1,0,0,1,1,1,1,1,1,0,1,0,1,1,1,1,0,1,1,1,1,1,0,0,0,0,1,1,1,0,1,1,1,1,0,0,1,1,0,1,1,1,1,0,1,1,0,1,0,1,0,1,1,1,0,0,0,1,1,1,1,1,0,1,0,0,1,1,0,1,1,0,0,1,1,0,1,1,0,0,0,1,1,1,1,1,0,1,1,0,1,1,1,1,1,0,0,0,0,0,1,0,1,1,1,0,0,0,1,1,0,0,0,1,0,0,1,0,0,1,0,0,0,0,0,1,0,1,1,0,1,0,1,1,1,1,0,0,0,1,1,1,1,0,1,1,0,1,1,1,0,1,1,1,0,0,0,1,1,0,1,1,1,1,1,1,1,1,0,1,1,0,0,1,1,0,0,0,1,0,1,1,1,0,0,1,0,1,1,0,1,0,1,0,1,0,1,1,1,1,1,0,1,1,1,1,1,1,1,0,0,1,1,0,0,0,0,1,1,1,1,1,1,1,0,0,0,1,1,1,1,1,0,1,1,1,1,0,1,1,1,1,1,1,1,0,1,1,0,0,1,1,1,1,1,1,1,0,0,0,1,1,0,0,0,1,1,1,1,0,0,0,0,0,1,1,0,0,1,0,1,1,0,0,1,0,1,0,0,1,1,1,1,1,1,1,0,1,1,1,1,1,1,0,0,1,1,0,0,0,0,1,0,0,0,1,0,1,1,1,0,1,1,0,0,1,0,1,0,1,0,0,0,1,1,0,0,1,0,1,0,1,1,0,1,1,0,1,0,0,1,1,1,1,1,1,1,0,1,0,0,1,1,1,0,0,1,1,1,1,0,0,1,0,1,1,0,1,0,1,1,0,1,0,1,1,1,1,1,1,0,1,0,1,0,1,1,1,1,0,0,0,0,1,0,1,0,1,1,1,0,1,1,0,1,0,1,0,0,1,0,1,1,1,1,1,0,1,1,0,0,0,1,1,0,1,1,1,0,0,1,0,1,1,1,1,1,0,1,1,1,1,1,0,0,1,1,0,1,1,1,1,1,0,1,1,1,1,1,0,1,0,1,0,1,1,1,0,0,1,1,0,1,1,1,0,1,1,1,1,0,1,1,0,0,0,0,1,1,1,0,1,1,1,1,1,1,1,1,1,1,0,0,1,0,1,0,1,1,0,0,1,1,1,1,1,1,1,1,1,0,1,1,1,1,1,0,0,1,1,0,0,0,1,1,0,1,1,1,1,0,1,0,1,1,0,1,1,1,1,1,0,1,1,1,1,1,1,1,1,1,0,1,0,1,1,1,1,1,1,1,1,0,1,1,1,1,1,0,0,0,0,1,1,0,1,1,1,1,1,1,1,0,0,1,0,0,1,1,1,1,1,1,1,0,0,1,1,0,1,1,1,1,1,1,1,1,1,1,1,1,0,1,1,0,1,1,0,1,0,1,1,1,0,1,0,1,1,1,1,1,1,1,0,0,1,0,1,1,1,1,0,1,1,1,1,0,1,0,1,0,0,1,0,1,1,0,0,1,1,1,0,1,0,1,0,1,1,0,1,1,1,1,1,1,0,1,1,1,1,1,0,1,1,1,0,1,1,1,1,1,1,1,1,1,1,1,1,1,1,0,1,1,1,0,1,1,1,1,0,1,0,0,0,0,1,1,1,1,0,0,1,1,1,1,0,1,0,1,1,0,0,0,1,1,1,0,1,1,0,0,0,1,0,1,0,1,1,0,0,0,0,1,1,0,1,1,1,0,0,1,1,1,1,1,1,0,1,1,1,1,1,0,0,1,1,0,1,1,0,1,0,1,0,0,1,0,1,0,0,0,1,1,0,1,0,1,0,0,0,1,0,0,1,0,1,1,0,1,1,1,1,1,0,0,1,1,1,1,1,1,0,1,1,1,0,1,1,1,1,1,0,1,0,1,1,0,0,0,0,1,1,1,1,1,0,0,1,0,1,1,0,1,1,1,0,0,0,1,0,0,1,1,1,1,1,1,1,1,1,1,0,0,1,1,1,0,1,0,1,1,0,0,1,1,1,1,1,1,1,0,1,1,1,1,0,1,1,1,1,1,0,1,1,0,1,1,1,1,0,1,1,1,0,1,0,1,1,0,1,0,1,1,1,1,1,1,1,1,1,1,1,1,1,1,1,1,1,1,0,1,0,1,0,1,1,1,1,1,0,0,1,1,1,1,1,1,0,1,1,1,1,1,0,1,0,1,1,1,1,1,0,1,0,1,0,1,0,0,1,0,0,1,0,1,0,1,1,1,0,1,0,1,0,0,1,1,1,0,1,1,0,0,1,0,0,1,1,0,0,1,0,1,1,1,1,1,1,1,0,1,0,1,1,1,0,1,0,1,0,1,1,1,0,0,0,1,1,1,1,1,1,0,1,1,1,1,0,1,1,1,0,1,0,1,0,1,0,1,1,1,1,0,0,0,0,1,1,0,0,1,1,0,0,1,0,0,1,0,1,0,1,1,0,1,1,1,1,1,1,0,0,1,0,1,0,1,1,0,1,1,0,0,0,0,1,0,1,1,1,0,0,0,1,1,1,1,0,1,1,1,0,0,0,0,0,1,1,1,1,1,1,1,0,1,1,1,0,1,0,1,0,1,1,0,1,1,1,0,0,0,1,1,0,1,1,1,1,1,1,1,0,1,0,1,0,1,1,1,0,0,0,1,1,1,1,1,0,1,1,0,1,1,1,1,1,1,1,1,1,1,0,0,0,1,0,0,1,1,1,0,1,0,1,0,1,1,1,1,0,1,0,1,0,1,0,1,1,1,1,0,1,1,1,0,0,0,1,0,1,0,1,0,1,1,1,0,1,0,1,0,1,1,1,0,0,1,1,0,1,0,1,1,0,1,1,1,1,0,1,1,1,0,1,0,1,1,0,1,1,0,0,0,1,1,0,1,1,1,1,0,0,1,0,0,0,0,1,1,0,1,0,1,1,0,0,1,1,0,0,1,1,0,1,1,1,0,0,1,1,0,1,0,0,1,1,1,0,0,1,1,1,1,0,1,0,1,0,1,0,1,1,0,0,0,1,1,1,1,1,1,1,1,1,1,1,1,1,1,1,0,1,1,1,1,1,1,1,0,1,1,0,1,1,0,1,1,1,1,1,0,1,1,1,1,1,1,1,1,1,0,1,1,1,1,0,0,1,1,0,1,1,0,0,1,1,1,0,1,1,1,1,0,1,1,1,0,1,0,1,1,0,0,0,1,1,1,1,0,0,0,1,1,0,1,1,1,1,0,0,1,1,1,1,1,0,1,0,1,0,0,0,1,0,1,0,1,1,1,0,0,0,1,1,1,1,0,1,1,0,1,1,1,0,1,0,1,1,1,1,0,1,0,0,1,1,1,1,1,1,1,1,1,1,1,0,1,1,1,1,1,0,1,0,0,0,1,1,1,1,1,0,0,1,0,1,0,0,1,1,1,1,0,1,1,0,0,0,0,1,0,1,1,1,0,1,1,1,1,1,1,1,0,1,0,1,1,0,1,0,0,0,1,1,1,1,0,1,1,0,0,1,0,0,0,1,0,1,1,1,0,1,1,0,1,1,1,0,0,1,1,1,1,1,1,1,0,1,0,1,0,0,1,1,0,1,1,1,0,0,0,1,1,1,1,0,1,0,1,1,1,1,0,1,1,0,1,0,1,1,1,1,0,1,1,0,1,0,0,1,1,1,0,0,1,0,1,1,0,1,1,0,1,1,1,1,0,0,1,0,1,1,0,0,1,1,1,0,1,1,1,1,0,0,1,0,1,1,1,1,1,1,1,1,0,1,1,0,0,1,1,1,1,0,1,1,1,0,1,1,1,1,0,0,1,0,0,1,1,0,1,1,1,1,1,1,1,1,1,1,0,0,1,1,1,1,1,1,0,1,1,1,1,1,1,0,1,1,1,1,1,1,1,1,1,1,1,1,1,1,1,0,1,1,1,1,1,1,1,1,0,1,1,1,1,0,1,1,1,0,1,0,1,0,1,0,1,1,1,1,1,0,1,1,0,1,1,1,0,0,1,1,1,1,1,1,1,0,1,0,1,1,1,0,1,0,0,0,0,1,1,0,0,1,0,1,1,1,1,1,0,0,1,1,0,1,1,0,0,1,1,1,0,1,1,0,1,1,0,0,1,0,1,0,1,1,1,1,1,1,0,0,0,1,1,0,1,1,1,0,1,0,1,1,1,0,1,1,1,0,1,0,0,1,0,1,0,1,0,1,0,1,0,0,1,1,1,0,0,1,1,1,1,1,1,1,1,1,1,0,1,0,1,1,1,1,0,0,1,1,0,1,0,1,1,0,0,1,1,1,1,0,0,1,1,1,1,1,1,1,1,0,1,1,1,0,0,0,1,1,0,1,0,0,1,1,1,1,1,1,0,0,1,1,1,1,1,1,0,1,0,1,1,1,0,1,1,1,1,1,1,0,1,1,1,0,0,0,0,0,1,0,1,1,1,1,1,1,1,0,1,1,1,0,0,1,0,0,0,1,1,0,1,1,1,1,1,1,0,1,1,0,0,1,1,1,0,1,1,1,0,1,1,0,0,1,1,1,1,1,0,1,1,0,1,1,1,1,1,1,1,1,1,0,0,1,1,1,1,1,1,1,1,0,0,1,1,1,1,1,1,0,1,1,1,1,0,1,1,0,1,1,1,1,1,0,1,1,0,0,1,0,0,1,0,1,0,1,1,1,1,1,1,0,1,1,0,0,1,1,1,1,1,1,1,1,0,0,1,1,0,1,1,0,0,1,0,0,0,0,1,1,1,0,1,1,0,1,1,0,1,1,0,1,0,1,1,1,1,1,1,1,0,0,0,1,0,1,1,0,0,0,1,1,1,1,1,1,0,0,1,1,0,1,1,0,1,1,0,1,1,0,0,1,0,1,1,1,0,1,1,1,0,1,1,0,0,1,0,0,1,1,1,1,1,1,1,0,1,1,0,0,0,1,1,0,0,1,1,1,0,0,0,0,1,0,1,1,0,0,1,1,1,1,0,1,1,1,0,0,0,1,0,0,0,1,1,0,1,0,0,1,0,0,1,1,1,1,1,1,1,1,1,1,1,1,1,1,0,1,1,1,1,1,1,1,0,1,1,1,1,1,1,1,0,0,1,1,1,0,1,1,0,1,1,1,1,1,1,1,1,0,0,1,1,1,0,1,0,1,1,0,1,1,1,1,1,1,1,1,1,1,1,1,1,1,1,1,0,1,1,1,1,1,0,1,0,0,0,0,1,0,1,1,1,0,1,0,0,1,1,1,1,0,0,0,1,1,1,0,1,1,1,1,1,1,1,1,1,1,0,1,1,1,1,0,0,1,1,0,1,1,0,1,0,0,1,1,0,1,1,1,0,1,0,1,0,0,1,1,0,0,0,0,0,0,0,1,1,0,0,1,1,1,1,1,0,0,1,1,1,0,1,0,0,0,1,1,0,1,0,1,1,1,1,1,1,0,0,1,0,1,1,1,1,1,1,1,0,1,0,1,1,1,1,0,1,0,0,1,0,1,0,1,1,1,1,1,0,0,0,1,1,1,1,0,0,1,1,1,1,1,1,1,0,0,0,1,0,1,0,0,1,1,0,0,1,0,0,1,1,0,1,0,1,1,1,1,0,0,0,0,1,1,1,1,1,1,1,1,1,0,1,0,1,1,1,0,0,1,0,1,1,1,1,0,1,1,0,1,1,0,1,0,1,1,1,1,0,0,0,1,1,1,0,1,1,1,1,1,0,1,1,1,1,1,1,0,1,1,1,1,1,1,0,1,1,1,0,0,1,1,0,1,1,0,1,0,1,0,1,0,1,1,0,0,1,1,1,1,1,1,1,1,1,0,1,1,0,0,1,1,1,0,1,0,1,0,1,1,1,0,1,1,1,1,1,1,0,1,1,1,1,1,1,1,0,1,1,1,0,1,1,0,1,1,1,1,0,1,1,0,1,1,1,1,1,1,1,0,0,1,0,1,1,1,1,0,1,0,1,1,1,1,1,0,1,1,0,1,1,1,0,1,1,0,1,1,1,1,1,1,1,1,1,1,1,1,1,1,1,1,1,0,0,0,0,0,0,1,1,1,1,1,1,1,1,0,1,1,1,1,1,1,0,1,1,1,1,0,0,1,1,1,0,1,1,1,1,0,0,1,1,1,1,1,0,1,0,0,1,1,1,1,1,1,1,1,1,0,1,0,1,1,1,1,1,1,1,1,1,0,1,0,1,1,1,1,1,1,1,1,1,1,1,1,1,0,0,1,1,1,0,1,1,1,1,1,1,1,0,1,0,1,1,0,0,1,1,1,1,1,1,0,0,1,1,1,1,1,1,0,0,1,1,0,1,0,1,1,0,1,1,1,1,0,1,0,1,1,1,1,1,0,1,0,1,1,0,1,0,0,1,1,1,1,1,1,0,0,1,1,0,0,1,1,0,1,1,0,1,1,1,1,0,1,0,0,1,1,0,1,0,1,1,1,1,0,1,1,0,1,1,0,1,0,1,1,1,1,1,0,1,1,0,0,1,0,1,1,0,1,1,0,1,1,0,1,0,1,1,0,1,1,1,1,1,0,0,1,1,0,0,0,0,1,1,1,0,1,1,1,1,1,1,1,1,1,1,0,1,1,1,1,0,1,0,1,1,0,1,1,1,1,1,1,1,1,0,1,1,1,1,0,1,0,1,1,1,1,0,1,0,0,1,0,1,0,1,1,1,1,1,1,1,1,0,1,1,0,1,0,1,0,0,1,1,0,1,1,1,1,1,0,1,1,1,0,1,1,1,1,0,1,1,1,1,1,0,1,1,1,1,1,0,1,1,1,0,0,1,0,1,1,0,1,0,1,1,1,0,1,0,1,1,0,1,1,1,0,0,1,1,1,0,0,1,1,1,1,1,1,1,1,0,1,1,1,1,1,0,1,1,1,0,1,0,0,1,0,1,0,1,0,0,1,0,0,1,0,1,1,1,1,1,0,1,1,1,0,1,0,1,0,1,0,1,1,1,0,0,0,1,1,0,1,0,1,1,1,1,1,1,1,1,1,0,0,1,1,0,1,1,0,1,1,0,0,1,1,0,1,1,0,1,1,1,1,0,0,1,1,1,1,0,1,0,0,1,1,0,1,1,1,1,1,1,0,0,1,1,1,1,1,1,1,1,0,1,0,1,1,0,1,1,0,1,1,1,0,1,1,1,1,1,1,0,1,1,1,0,1,0,1,0,0,0,1,0,1,1,0,1,1,0,1,1,1,1,1,1,1,0,1,1,1,1,0,1,1,0,1,1,1,1,1,0,1,1,1,1,1,1,1,0,0,1,0,1,1,0,1,1,1,1,1,0,1,1,1,0,1,1,0,0,1,1,1,1,0,0,1,0,1,1,0,1,1,1,0,0,1,0,0,0,1,0,1,1,0,1,1,1,1,1,0,1,0,0,0,0,0,1,1,0,1,1,1,1,1,1,1,0,1,1,1,1,0,1,1,1,1,0,0,1,1,0,0,1,0,1,1,1,1,1,1,1,0,1,1,1,1,1,0,0,1,1,0,0,0,0,0,0,1,1,1,1,0,1,0,1,1,0,1,0,1,0,0,1,1,1,0,1,1,0,1,0,0,0,1,0,1,1,1,1,1,0,0,0,0,1,1,0,0,1,1,1,1,1,0,1,1,1,0,0,1,1,0,1,1,1,1,1,0,1,0,1,0,1,1,1,1,1,1,0,1,1,1,1,1,1,1,1,0,0,0,1,1,0,1,0,1,1,1,0,1,1,1,1,0,1,1,1,1,0,0,0,1,1,1,0,0,1,1,1,1,0,1,0,1,1,0,1,1,1,1,1,1,1,1,1,0,0,1,0,1,0,1,1,1,1,1,1,0,1,1,0,1,1,1,1,1,1,1,1,0,0,1,1,1,0,1,1,1,1,1,0,1,1,0,0,0,1,0,0,1,1,1,0,0,1,1,0,1,1,1,1,1,0,1,1,0,1,0,1,0,0,1,1,1,1,1,1,0,1,1,1,0,1,0,1,1,1,1,1,0,1,1,1,1,1,0,1,0,1,1,1,1,0,1,1,1,0,1,1,1,1,1,1,1,1,1,0,1,1,1,1,1,1,0,1,0,0,1,1,1,1,0,1,1,0,1,1,1,1,1,0,0,1,0,0,1,0,0,1,1,0,1,0,0,0,1,0,1,1,1,1,1,0,1,0,1,1,0,1,1,1,1,1,1,1,0,1,1,0,1,1,1,1,0,1,0,1,1,1,1,1,1,1,1,1,1,1,1,1,1,0,1,0,1,0,1,0,1,1,1,0,1,1,0,0,0,1,1,1,1,0,0,0,1,1,0,1,1,0,0,1,0,0,0,0,1,0,1,1,1,0,1,1,1,0,0,1,1,1,0,1,1,1,1,0,0,1,1,0,1,0,1,1,1,1,1,0,1,1,1,1,1,1,1,1,1,1,1,1,0,1,0,1,1,0,1,1,0,1,0,0,0,1,0,1,0,1,1,1,1,1,1,0,0,0,0,1,1,0,1,1,1,1,1,1,0,1,0,1,1,1,1,1,0,1,1,0,0,1,1,1,1,1,1,1,1,1,1,1,0,1,1,1,1,1,0,0,1,0,0,0,0,0,0,1,1,1,1,1,0,0,1,0,1,1,1,1,0,1,0,1,0,1,0,1,1,0,1,1,0,1,1,1,0,1,1,1,1,0,0,0,1,0,0,1,1,1,1,1,0,1,1,1,1,1,1,1,0,1,1,1,0,0,0,1,0,1,1,1,0,1,0,1,0,1,1,1,0,1,1,1,1,1,0,0,1,1,0,1,1,1,0,1,1,1,0,0,0,1,1,1,1,1,1,1,0,1,1,0,1,1,1,1,1,1,1,1,1,1,0,0,0,1,0,1,0,1,1,1,1,1,1,0,1,0,1,1,0,0,1,1,0,1,1,1,1,1,0,0,1,1,1,0,1,0,0,1,1,1,0,1,1,0,1,1,1,1,0,0,1,1,1,1,1,1,1,1,1,1,1,0,1,1,1,1,1,0,1,1,1,0,0,1,0,0,0,1,1,0,0,1,1,1,1,1,0,1,1,1,0,1,0,0,0,1,0,1,0,1,1,0,0,0,1,1,1,1,1,1,0,1,1,1,1,1,0,1,1,1,1,1,1,1,0,1,1,1,1,1,1,1,1,1,0,0,1,0,0,1,1,0,0,1,0,1,0,1,0,1,1,1,1,1,0,1,1,1,0,1,1,0,1,1,1,0,1,1,0,1,0,0,1,1,1,1,1,1,0,0,1,1,1,1,1,0,1,1,0,1,0,1,1,1,1,1,0,0,1,1,0,1,1,0,1,1,1,0,1,1,0,1,1,1,1,1,1,0,0,0,1,1,1,0,1,1,0,1,1,0,1,1,0,0,1,1,1,0,1,1,1,0,1,1,0,1,0,0,0,1,1,1,1,0,1,1,1,0,1,1,0,0,1,1,0,1,1,0,1,1,0,1,0,1,1,1,1,1,1,0,1,1,0,1,1,0,1,1,1,1,1,1,0,1,0,1,1,1,0,0,1,1,1,1,0,1,1,0,1,0,0,0,0,0,1,1,1,1,0,0,0,1,1,1,0,1,1,1,0,1,0,1,1,1,1,1,1,1,1,1,0,0,1,1,1,0,0,0,0,1,0,0,1,1,1,0,1,0,1,0,1,1,1,1,1,1,0,0,0,1,1,1,1,1,1,1,1,1,1,1,0,1,0,0,0,0,1,1,1,1,1,0,1,1,1,0,1,0,1,1,1,0,1,1,0,0,1,1,0,1,1,1,1,1,1,1,1,1,0,1,0,1,1,1,0,0,1,1,0,0,1,1,0,1,1,1,1,1,0,0,1,0,1,1,1,1,1,1,1,1,0,0,1,1,0,0,0,0,0,1,0,1,0,1,0,1,1,1,0,1,1,1,1,0,1,1,1,1,1,1,1,1,0,1,1,1,0,1,1,1,1,1,1,0,1,1,1,0,0,1,1,0,1,0,0,1,0,1,1,0,0,0,0,1,1,0,1,1,1,1,1,0,0,0,1,1,1,0,0,1,1,1,1,1,0,0,0,0,1,1,0,0,1,1,1,1,1,1,0,1,1,1,0,1,1,1,0,1,1,0,1,0,0,1,0,1,1,1,1,0,1,1,1,1,1,1,1,0,0,1,1,1,0,1,1,1,0,0,0,1,0,1,1,0,1,1,0,0,0,1,1,0,1,0,1,1,1,0,1,1,1,1,0,1,1,0,1,1,1,1,1,1,1,1,0,0,1,0,1,0,1,1,0,1,0,1,0,1,1,1,1,0,1,1,0,1,0,1,1,1,1,1,1,1,1,1,1,1,1,0,1,1,0,1,1,1,0,0,0,1,1,1,1,0,1,1,1,1,1,1,1,0,1,1,0,0,0,1,0,0,0,0,1,1,1,1,1,1,1,1,1,1,0,1,0,1,1,1,1,0,0,1,0,0,1,1,1,0,1,1,1,1,0,0,1,0,1,1,1,1,0,1,0,0,1,0,1,1,0,1,1,1,0,0,1,1,1,1,1,0,1,1,1,0,1,1,1,0,1,0,1,1,1,0,0,1,1,1,1,0,0,1,1,1,1,0,1,1,0,0,1,1,1,1,1,0,1,0,0,1,1,1,1,1,0,0,0,1,1,1,1,0,1,0,1,0,1,1,1,1,1,0,0,1,1,0,0,1,0,1,0,1,1,1,1,1,1,1,0,1,1,1,0,0,1,1,1,1,0,1,1,1,1,1,0,1,1,1,1,1,1,1,1,0,1,1,1,0,0,1,0,1,0,1,0,1,0,1,1,1,1,0,1,0,1,0,1,1,0,1,1,0,1,1,0,1,0,0,1,0,1,1,1,1,1,1,1,0,1,1,1,1,0,0,0,1,1,1,0,1,1,1,1,1,1,1,0,0,0,0,1,1,0,0,1,1,1,0,0,0,0,0,1,0,1,1,0,1,1,1,1,1,1,0,1,0,1,0,1,1,1,1,1,1,0,0,1,1,0,1,1,1,0,1,1,1,1,1,1,1,1,1,1,0,0,1,1,0,1,0,0,1,1,1,0,0,0,1,0,1,1,1,0,1,0,1,0,0,1,1,1,1,1,0,0,0,1,1,1,1,1,1,1,1,0,1,0,0,1,1,1,0,1,1,1,1,1,1,0,0,0,1,0,1,1,0,1,1,0,1,0,1,1,1,1,1,1,1,0,0,0,0,1,0,0,1,0,1,1,1,1,1,1,1,1,1,1,1,1,1,1,0,1,1,1,1,1,1,1,0,1,1,1,0,1,0,1,1,1,1,1,1,0,1,0,1,0,1,1,1,1,0,0,1,1,1,0,1,1,1,1,0,0,1,1,1,0,1,1,1,1,0,1,1,0,1,1,0,1,1,0,0,1,1,1,1,1,0,1,1,1,1,0,1,1,0,1,1,1,0,1,1,0,1,1,1,1,1,1,1,1,0,1,1,0,1,1,0,0,1,0,1,0,1,1,1,1,1,1,1,0,1,0,0,1,0,1,1,0,1,1,1,1,1,1,0,1,1,1,1,1,1,1,1,1,0,1,1,0,1,1,0,0,0,1,0,1,0,0,1,0,1,0,1,1,0,1,1,1,0,1,1,1,1,1,1,1,1,1,1,0,1,0,1,1,1,0,1,1,1,1,1,0,1,0,0,1,1,0,1,1,1,1,1,1,1,0,0,1,1,1,0,0,1,1,1,1,1,1,0,1,1,1,1,1,1,0,1,1,1,1,0,1,0,1,1,0,0,0,1,1,1,0,1,0,1,0,0,1,1,1,1,1,0,0,1,1,1,0,1,0,1,0,1,1,0,1,1,0,1,1,0,1,0,1,0,0,0,1,0,1,0,1,0,1,0,0,1,1,1,1,1,1,1,1,1,1,1,1,1,1,0,1,1,1,1,0,1,1,0,1,1,1,0,1,0,1,1,1,0,1,1,1,1,1,1,1,1,0,1,0,1,1,1,0,0,1,1,0,0,1,0,1,0,1,0,1,0,1,1,1,1,0,1,1,1,0,1,1,1,1,0,0,0,1,1,0,1,0,0,1,1,0,0,1,1,1,1,0,1,1,1,1,0,0,1,0,1,0,1,1,1,1,1,1,1,0,0,0,0,1,0,0,1,1,1,0,1,1,1,1,1,1,1,0,1,1,1,1,1,1,1,0,0,0,1,0,1,1,1,0,1,1,1,1,0,1,1,1,1,1,1,1,1,1,1,0,1,0,1,1,0,1,1,1,0,0,1,1,1,0,1,1,0,0,0,0,1,1,1,1,1,1,0,1,0,1,1,1,1,1,1,1,1,1,1,0,0,0,1,1,0,1,1,0,0,1,0,1,0,0,1,1,1,1,0,1,1,0,0,1,1,0,0,1,1,1,1,0,1,1,1,1,1,1,1,1,1,1,1,0,0,0,1,1,1,1,1,1,1,0,1,1,1,1,1,1,1,1,1,1,0,1,1,1,0,1,1,1,0,1,1,1,1,0,0,1,0,1,0,1,1,1,1,0,1,1,1,0,1,0,1,1,0,0,1,1,1,1,1,1,1,0,0,1,1,1,1,1,1,0,1,1,1,1,1,1,1,1,0,1,0,0,1,1,1,1,1,0,1,1,1,1,0,1,1,1,0,1,1,1,1,0,0,1,1,1,0,1,1,1,1,0,0,1,0,1,0,1,0,1,1,0,0,1,0,1,0,1,1,1,1,0,1,0,0,1,0,1,1,1,1,0,1,0,0,0,0,0,1,1,0,1,0,1,0,0,1,1,0,0,1,1,0,1,1,1,1,0,0,1,1,0,1,1,0,0,1,1,0,0,1,1,0,0,0,0,1,0,0,0,0,1,1,1,1,1,0,0,1,1,1,0,1,1,1,1,1,1,1,1,1,0,0,1,0,1,1,1,1,0,1,1,1,1,1,1,1,1,1,1,0,0,0,0,1,1,1,1,0,1,1,0,1,1,1,1,0,1,1,1,1,0,0,1,0,0,1,1,0,0,0,1,1,0,0,1,1,0,0,0,1,1,1,0,1,1,1,1,1,0,0,0,1,0,1,1,0,0,1,1,0,1,1,1,1,1,1,0,1,1,0,1,1,0,0,1,0,1,0,0,0,0,0,1,0,1,0,1,1,0,1,1,0,1,1,1,1,1,1,1,0,0,0,1,1,1,0,1,1,0,1,1,0,0,0,1,1,0,1,1,1,0,0,1,1,0,1,0,1,0,1,0,1,1,1,1,1,1,1,1,1,0,1,1,1,1,1,1,1,1,1,0,1,0,1,1,1,1,1,1,1,0,1,1,1,1,1,1,1,1,1,1,0,0,0,0,0,0,0,1,1,1,1,1,1,1,1,1,1,1,1,1,1,1,0,0,1,0,1,1,1,1,1,1,1,0,1,1,0,0,1,1,1,1,1,0,0,1,1,1,1,0,1,1,1,0,0,1,1,1,1,1,1,1,1,1,1,1,0,1,1,1,1,1,1,1,1,1,1,1,1,0,1,0,0,1,1,1,1,0,0,0,1,1,0,1,1,1,1,0,0,0,0,0,1,0,1,1,0,1,1,1,1,1,1,0,1,1,1,1,1,1,0,1,0,1,0,0,0,0,1,0,1,1,0,0,1,1,0,1,1,0,0,0,1,0,1,1,1,0,1,0,0,0,1,0,1,1,1,1,1,0,0,0,0,1,1,1,1,1,1,1,1,1,0,1,1,1,1,1,1,1,1,1,1,1,1,1,0,1,1,1,0,1,1,1,1,0,1,0,0,0,1,1,1,1,0,1,1,0,1,1,1,0,1,1,0,1,1,1,1,0,1,0,1,1,0,1,1,1,1,1,1,1,0,1,1,1,1,1,0,1,0,0,1,0,0,0,1,1,1,0,1,0,0,1,1,1,1,1,1,1,0,0,0,0,0,1,1,1,1,1,1,0,1,1,1,0,1,1,1,1,1,1,0,0,1,1,1,1,0,1,1,1,1,1,0,1,1,1,1,1,0,1,1,1,1,1,1,1,1,1,0,1,1,1,1,0,0,1,0,1,1,1,0,1,1,1,1,1,1,1,1,1,0,0,0,0,1,1,1,0,1,0,1,1,1,1,0,1,0,1,1,1,1,0,1,1,1,1,1,1,0,0,0,1,0,0,0,1,1,1,1,1,0,0,1,1,1,1,1,1,1,1,1,1,1,1,1,0,0,1,1,1,1,0,1,0,1,1,0,1,0,1,1,1,0,1,1,1,1,1,1,0,1,1,0,0,0,0,0,1,1,0,1,1,1,1,1,0,1,0,0,1,1,1,1,0,1,1,0,1,1,0,0,1,0,0,1,0,1,1,0,1,1,1,1,1,1,0,1,1,1,0,1,1,1,1,1,1,1,1,1,0,1,1,1,1,0,1,1,0,1,1,1,1,1,1,1,1,1,1,0,1,1,1,1,1,0,1,0,0,1,1,0,1,0,1,1,1,0,1,0,1,1,1,0,0,0,1,0,1,1,1,0,0,1,0,1,0,0,1,0,1,0,1,1,1,1,1,1,1,0,1,1,0,1,0,1,1,0,1,1,0,1,1,1,0,0,1,0,0,1,1,0,1,1,0,1,1,1,1,1,0,1,1,0,1,0,1,1,1,1,0,1,1,1,1,1,1,1,0,1,1,1,1,1,1,0,1,1,1,1,1,0,1,1,0,0,1,0,1,1,0,1,0,1,1,0,0,1,1,0,1,0,1,0,1,1,0,1,0,0,0,1,1,1,1,1,1,1,1,0,1,0,0,0,0,0,1,1,0,0,1,0,0,1,1,1,1,1,1,0,1,0,0,1,1,1,1,1,1,1,1,0,1,1,1,1,1,0,1,1,0,1,1,1,1,0,0,0,0,0,1,1,1,1,1,1,0,1,1,1,1,1,1,0,1,0,0,1,0,1,0,1,0,1,1,1,0,0,0,1,0,1,1,1,1,0,1,1,1,1,1,1,1,1,1,1,1,0,1,1,1,1,1,1,1,0,1,0,0,0,1,1,0,0,0,1,1,1,1,0,1,1,0,1,1,1,1,1,1,0,0,0,0,1,0,1,1,1,0,0,0,1,1,1,1,1,1,1,1,1,0,1,1,0,1,1,1,0,1,0,1,1,0,1,1,1,0,0,1,1,1,1,1,1,1,1,1,1,1,1,1,1,1,1,1,1,1,1,0,1,1,1,1,1,1,0,1,1,1,1,1,1,1,1,0,1,1,1,1,1,0,0,1,1,0,1,1,1,1,1,0,1,1,1,1,0,1,1,0,1,1,1,1,1,1,1,0,1,1,0,1,1,1,1,0,1,1,1,1,0,0,0,1,1,1,1,1,1,0,1,1,1,1,0,1,1,0,0,1,1,0,1,1,1,1,0,1,1,1,1,1,1,1,1,1,1,0,0,0,0,1,1,1,1,1,1,1,1,1,1,1,1,1,1,0,1,1,0,1,0,0,1,1,1,0,0,1,1,0,0,1,1,0,1,0,1,0,1,0,0,1,0,0,1,1,1,1,1,1,0,0,0,1,0,0,1,1,1,0,1,1,0,1,1,1,0,1,0,1,0,1,0,0,1,1,0,0,1,0,1,1,1,1,1,1,1,0,1,1,1,1,1,1,0,1,0,1,1,0,0,1,1,1,0,0,1,0,0,1,1,1,1,0,0,1,1,0,0,1,0,1,1,1,1,1,0,0,1,0,1,1,1,1,0,1,0,0,1,0,0,0,1,1,1,0,0,1,0,1,1,1,1,1,1,1,1,0,1,0,0,1,1,1,1,1,1,0,1,1,0,0,1,0,1,1,1,0,1,1,1,0,0,1,1,0,1,0,0,0,1,1,1,1,1,1,1,1,1,0,1,0,1,1,0,0,0,1,0,1,0,0,1,1,1,0,0,1,0,1,1,0,1,1,1,1,1,1,1,1,1,0,1,0,1,0,0,1,1,0,0,1,0,1,1,0,1,0,0,0,1,1,1,0,1,1,1,1,1,1,1,1,0,0,0,1,1,0,1,1,1,1,0,0,1,1,1,1,1,0,0,1,0,1,0,1,1,0,1,1,1,1,1,1,1,1,1,1,0,1,1,1,0,1,1,1,1,0,1,1,0,1,1,1,1,1,1,1,1,1,0,1,0,1,1,1,1,1,1,0,1,0,1,1,1,1,1,1,1,1,1,1,0,0,1,0,0,0,1,1,0,1,1,0,1,1,0,1,1,1,1,1,1,1,1,1,1,1,1,1,1,1,1,1,0,1,1,1,1,1,1,1,1,1,1,1,1,1,1,1,1,0,1,1,1,0,0,1,0,0,0,1,0,0,1,1,1,0,0,1,1,1,1,1,1,0,0,1,0,1,0,1,0,0,1,0,1,0,1,1,0,1,1,1,0,0,0,1,0,1,1,0,1,1,0,0,1,1,0,1,0,1,1,1,1,0,1,1,0,0,1,0,1,0,1,1,1,1,1,0,0,0,0,1,1,1,1,1,1,1,0,0,0,1,1,0,1,1,0,1,1,1,1,0,0,0,0,0,1,0,1,1,0,1,1,1,1,0,1,1,1,1,1,1,1,0,1,0,0,1,1,0,0,1,1,0,0,1,1,0,0,1,1,1,0,1,1,0,1,1,1,0,1,1,0,1,1,1,1,1,1,1,1,1,1,1,1,1,1,1,0,1,1,1,1,1,1,1,1,1,1,1,1,1,1,1,1,1,0,1,1,1,0,1,0,1,1,0,1,1,1,1,1,0,1,1,0,1,1,0,1,1,1,1,1,0,0,1,0,1,0,0,1,1,1,1,1,1,1,1,1,0,1,1,1,0,1,1,0,1,1,1,1,0,1,1,0,0,1,1,1,1,1,1,0,0,1,1,1,1,1,1,1,0,1,1,1,1,1,1,0,1,1,1,1,1,0,1,0,0,0,1,0,1,1,1,0,0,1,1,1,1,1,1,1,0,0,1,1,1,1,1,1,1,1,1,0,1,1,1,1,1,1,1,0,0,0,1,0,1,1,1,1,0,0,1,0,1,1,1,0,1,1,1,1,0,0,0,0,1,1,1,1,0,0,1,1,0,0,1,1,1,1,1,1,1,0,1,0,1,1,1,1,1,0,1,1,1,0,1,1,0,1,1,1,0,0,1,0,0,1,0,0,1,1,1,1,1,1,1,0,1,1,0,0,1,1,1,1,1,0,1,0,1,1,1,1,0,0,0,0,1,0,1,1,0,0,0,1,1,1,1,1,1,0,0,1,0,1,0,1,1,0,0,1,0,1,0,1,1,1,0,0,0,0,1,0,0,1,1,1,1,1,0,1,1,1,0,1,1,1,0,1,0,1,1,0,1,0,0,1,1,1,0,1,1,1,1,1,1,0,0,0,1,0,1,0,1,1,1,1,0,1,0,1,0,0,1,0,0,1,1,0,0,0,1,0,1,1,1,0,1,0,1,1,0,1,1,0,0,1,1,0,0,0,0,0,1,1,1,1,1,1,0,0,0,1,1,0,1,0,0,0,1,1,1,1,0,1,1,0,0,0,1,1,1,1,1,1,1,1,0,1,0,1,0,0,0,0,1,1,1,1,1,0,0,0,1,0,1,1,1,1,1,1,1,1,1,0,1,1,0,1,1,0,0,1,1,1,1,1,1,1,1,1,0,0,1,1,0,1,1,1,0,0,1,1,1,0,1,0,1,1,1,1,1,0,0,1,0,1,0,0,0,0,0,0,0,0,1,1,1,1,1,1,1,0,1,0,0,0,1,1,0,1,0,1,1,1,1,0,1,1,0,1,0,1,1,1,1,1,0,1,1,1,1,1,0,0,0,1,0,1,1,1,1,1,0,0,1,1,1,0,1,1,1,1,1,1,1,1,1,0,1,0,0,1,1,0,1,1,0,1,0,0,0,1,0,1,0,0,0,1,1,0,1,1,1,1,1,1,1,1,0,1,1,0,0,0,1,0,1,0,1,0,0,1,0,1,0,1,0,1,1,1,1,0,1,1,1,1,1,0,1,1,0,0,1,1,0,1,1,1,1,1,0,0,1,0,0,1,1,0,1,1,1,0,1,1,1,1,1,1,0,1,1,1,1,1,1,1,1,0,0,0,0,1,1,1,1,1,0,1,1,1,1,1,0,1,1,0,0,1,1,1,1,1,1,0,1,1,1,0,0,1,0,1,1,1,0,1,1,0,0,1,1,0,0,1,1,1,1,1,1,0,1,1,1,1,0,1,1,1,1,1,0,0,1,1,1,0,1,0,1,1,1,1,1,1,1,1,1,1,1,0,1,0,1,0,0,1,1,1,0,1,1,1,1,0,1,1,1,1,1,1,0,0,1,1,1,1,1,1,1,1,1,1,0,1,1,0,1,1,1,1,1,1,0,1,0,1,0,1,1,1,1,0,1,0,0,1,1,1,1,1,1,1,0,1,0,0,0,1,0,1,1,1,0,1,1,1,1,1,0,1,0,0,0,1,1,1,0,0,1,0,1,0,1,0,1,1,0,1,1,1,1,1,1,0,0,1,0,0,0,1,1,1,1,1,1,0,1,1,0,0,1,0,1,1,0,0,1,1,0,1,0,1,1,1,1,0,1,1,0,0,0,1,0,1,1,1,1,1,1,1,0,0,1,1,1,1,1,1,1,1,0,1,1,1,0,0,0,1,1,1,1,0,0,0,1,1,1,1,0,0,1,1,1,0,1,1,0,0,0,0,0,1,0,1,1,1,1,1,0,1,1,1,1,1,1,1,0,0,0,0,0,1,1,0,0,1,1,1,0,1,1,1,0,1,1,0,0,1,1,0,1,0,1,1,0,1,0,1,1,1,0,0,1,0,0,0,1,0,1,1,0,0,1,1,1,1,1,0,0,1,1,1,1,1,0,0,1,1,1,1,0,1,0,1,1,0,1,0,0,0,1,1,1,0,1,1,1,1,0,1,1,1,1,1,1,0,1,1,0,1,1,1,1,1,1,0,1,0,1,1,1,1,1,1,0,1,0,0,1,1,1,1,0,1,1,0,1,1,1,1,1,1,1,1,0,1,0,0,0,0,1,1,1,1,1,1,1,1,1,1,1,1,1,1,1,0,1,1,1,0,1,0,1,1,1,1,0,1,0,1,1,1,1,1,0,0,1,1,1,0,1,0,1,0,0,1,1,0,1,1,1,0,1,1,1,1,1,1,1,1,1,1,1,1,0,0,1,1,1,1,1,0,1,1,0,1,1,1,1,1,1,1,0,1,0,1,1,1,1,0,1,1,1,0,1,0,1,1,0,1,1,1,1,1,0,0,1,1,1,1,0,1,1,1,0,1,1,1,0,1,1,1,0,0,1,1,0,1,1,1,1,1,0,1,0,1,1,1,0,1,0,1,1,0,0,1,1,1,1,1,1,1,0,0,0,0,1,0,1,1,0,0,1,1,1,1,1,1,0,1,0,1,1,0,0,0,0,0,1,0,1,0,1,0,0,0,1,1,1,1,1,0,1,1,0,1,0,1,1,1,0,1,1,1,1,0,1,1,1,1,0,1,1,1,1,1,1,1,0,1,1,1,1,0,0,0,0,1,1,1,1,0,1,1,1,1,1,1,1,1,1,0,0,1,1,1,1,0,1,1,1,1,0,1,1,0,1,1,0,0,0,1,0,0,0,0,1,1,1,1,1,1,1,0,1,1,1,1,1,1,0,0,1,0,0,0,1,1,1,1,1,1,1,0,0,1,0,0,0,0,1,0,1,0,0,1,1,1,0,0,1,0,0,0,1,0,0,0,0,1,0,1,0,1,1,0,1,1,1,1,1,1,1,1,1,0,0,0,1,1,1,1,1,1,1,1,0,1,0,0,1,1,1,1,1,0,1,1,1,0,0,1,0,1,1,0,1,1,1,1,1,1,1,0,0,1,1,1,1,1,0,1,1,0,1,1,0,1,1,1,1,1,0,1,1,1,0,1,1,1,1,1,1,1,1,1,1,0,0,1,1,0,1,0,0,0,1,1,1,0,1,1,1,1,1,1,1,0,1,1,1,1,1,1,0,1,0,1,0,1,1,1,1,1,1,1,1,1,1,0,1,1,0,1,1,1,1,1,1,1,1,1,1,1,0,0,0,1,0,1,1,1,0,0,0,1,0,1,1,1,1,1,1,1,1,1,1,1,1,1,1,0,1,1,0,1,1,1,0,1,0,0,0,0,0,1,0,0,1,1,0,0,1,1,1,1,0,1,1,1,1,1,1,1,1,1,1,0,1,1,1,1,0,0,0,1,0,1,0,1,0,1,0,1,1,1,1,1,1,0,0,1,1,1,1,1,0,1,1,1,1,1,0,0,1,1,0,0,0,1,0,1,0,1,1,1,1,1,1,1,0,1,1,1,0,0,0,1,0,1,1,1,1,1,1,1,0,1,0,1,1,0,1,0,0,0,0,1,1,0,0,1,1,1,0,1,1,0,1,1,1,1,1,1,1,1,0,1,1,0,0,1,1,1,1,0,1,1,1,1,1,1,0,0,0,1,1,1,1,0,1,1,1,0,0,1,0,1,0,0,1,1,1,0,1,0,1,1,1,0,0,1,1,0,1,1,1,1,1,0,1,1,0,1,0,0,1,1,1,0,1,1,1,1,1,0,0,1,0,1,1,0,1,1,1,1,1,0,1,1,1,1,0,1,1,1,0,0,0,1,0,1,0,1,0,0,0,0,0,1,1,1,0,0,1,0,1,1,1,1,1,1,1,0,0,1,1,0,1,1,1,1,0,0,0,1,1,1,1,0,1,0,1,1,1,1,1,1,1,1,1,1,1,1,1,1,1,1,0,0,1,1,1,0,0,1,1,1,1,1,1,0,1,1,0,1,1,1,1,1,1,1,1,1,0,0,1,0,1,0,1,0,0,0,1,1,0,0,1,1,0,0,0,0,1,1,0,0,1,1,0,1,0,1,1,1,1,1,0,1,0,1,1,1,0,1,1,1,0,1,1,1,1,1,1,1,0,1,1,0,1,1,1,1,1,1,0,1,1,1,1,1,0,0,0,1,1,1,1,1,1,0,1,1,1,0,1,0,1,1,1,1,1,0,0,1,1,1,1,1,1,0,0,0,1,1,1,0,0,1,0,0,1,1,1,1,1,0,1,1,1,0,0,1,0,0,1,1,0,1,1,0,1,1,0,1,1,0,0,0,1,1,1,0,1,0,0,1,1,1,1,1,1,1,0,0,1,1,1,1,0,1,0,1,0,1,0,0,0,1,1,1,1,0,1,1,1,1,1,1,0,0,1,1,1,0,1,1,0,0,1,1,0,1,1,1,1,0,1,1,1,0,0,1,1,0,0,1,1,1,1,1,1,1,1,1,0,1,1,1,0,0,1,1,1,0,1,1,1,1,1,1,1,1,1,0,1,1,1,0,0,1,1,0,1,1,1,1,1,1,1,0,1,0,1,1,0,1,1,1,1,1,0,1,0,0,0,0,1,0,1,1,0,0,0,0,0,0,0,0,0,1,1,0,0,1,0,0,0,1,0,1,1,1,0,1,0,1,1,1,1,1,1,1,1,0,1,0,0,1,0,0,1,1,0,1,0,0,1,1,0,1,1,0,1,1,1,0,1,0,1,1,0,1,1,0,0,1,1,1,1,1,1,1,0,0,0,1,1,1,1,1,0,1,1,1,0,0,1,1,1,1,1,1,0,1,1,1,1,1,1,1,1,1,1,1,1,1,0,1,1,1,1,0,1,0,1,1,1,0,1,0,1,1,1,0,1,0,1,1,0,1,1,0,0,1,1,0,1,0,1,1,0,0,1,1,1,1,1,1,1,0,1,1,1,1,1,1,1,1,1,1,1,1,0,0,1,1,0,0,1,1,0,1,0,0,1,1,1,0,1,1,0,1,0,1,1,1,1,1,0,1,0,0,1,1,1,1,0,0,0,0,0,0,0,0,1,0,1,1,0,1,1,1,0,0,1,1,1,1,1,1,1,0,1,1,1,0,1,0,0,0,1,1,1,1,1,0,1,1,1,1,0,1,1,0,1,1,1,1,0,1,0,1,1,0,1,1,0,0,1,0,1,1,1,1,0,1,1,0,1,1,1,1,1,1,1,0,0,0,0,0,1,1,1,1,0,1,0,1,1,1,1,0,0,0,1,1,0,1,1,1,0,1,0,0,1,1,1,1,1,0,1,0,0,1,0,1,0,1,1,1,0,1,1,1,1,1,0,0,1,1,1,1,0,1,1,0,0,1,1,1,1,1,0,1,0,0,1,1,1,1,0,0,1,0,0,1,0,1,1,1,1,1,0,0,1,1,1,1,0,1,1,1,1,1,1,0,1,1,0,0,0,1,1,0,1,0,0,1,1,1,1,1,0,0,0,1,1,1,1,1,1,1,1,1,0,1,1,1,1,1,0,1,1,1,1,1,1,0,1,0,0,0,1,0,0,1,1,0,1,0,1,1,1,0,1,0,1,1,1,1,0,1,0,1,1,1,1,0,0,1,0,1,0,0,1,0,0,1,1,0,1,1,0,1,1,1,1,0,1,1,0,1,1,0,1,1,1,1,1,0,1,0,1,1,0,1,1,1,1,0,0,1,1,0,0,0,1,0,1,1,1,0,1,1,1,0,1,1,1,1,0,1,1,0,1,1,1,1,1,0,1,1,1,1,0,1,0,1,1,1,1,1,0,0,1,1,1,1,1,1,1,0,0,1,1,0,0,1,0,0,1,1,1,1,1,0,1,1,1,1,1,1,1,1,1,1,1,0,1,1,1,1,0,1,1,1,1,0,0,0,1,1,1,1,1,0,1,0,0,1,1,1,1,1,1,1,1,1,1,0,0,1,1,1,1,1,0,1,1,1,1,0,0,0,1,1,1,0,1,0,1,1,0,1,1,1,1,1,1,0,1,0,1,0,0,1,1,0,0,0,1,1,1,0,1,0,0,0,0,0,0,1,1,1,1,1,1,0,1,0,0,0,1,1,1,1,1,1,0,1,0,1,1,0,1,1,1,0,1,1,1,1,1,1,1,1,0,1,1,0,1,1,1,1,1,0,0,1,0,1,1,0,0,1,1,1,0,0,0,1,1,1,1,1,0,1,1,0,0,0,0,1,0,0,1,1,1,0,1,1,0,0,0,1,0,1,1,1,1,0,1,1,0,1,1,0,0,1,1,0,0,1,1,0,1,1,1,0,0,1,0,1,1,1,1,1,1,1,1,0,1,0,0,1,0,1,1,0,1,1,1,1,1,1,1,1,1,0,1,1,1,0,1,0,0,1,0,1,1,1,1,1,1,0,1,0,0,0,1,1,0,1,1,1,1,1,1,0,1,0,1,0,1,1,1,0,0,0,1,0,0,0,1,1,1,0,1,1,1,0,1,0,1,1,1,1,0,1,1,0,0,1,0,1,1,1,1,0,0,1,0,1,1,1,1,1,1,1,1,1,0,1,1,1,1,1,1,1,1,0,0,1,1,1,1,0,1,0,1,1,0,1,0,1,1,0,1,1,1,0,1,0,0,1,1,1,1,1,1,1,1,0,1,1,1,1,1,0,1,1,0,1,1,1,1,1,0,1,1,0,1,1,1,1,1,0,0,1,1,0,0,0,1,1,1,1,0,0,1,0,0,0,0,1,0,0,0,1,1,1,1,0,1,1,0,0,1,0,1,0,1,1,0,0,1,1,1,0,1,1,1,0,1,1,0,0,1,0,0,0,0,0,1,0,0,0,1,0,1,1,0,1,1,1,0,1,1,1,1,1,1,1,1,0,1,0,1,0,1,1,0,1,1,1,0,1,1,1,1,1,0,1,1,0,1,1,1,1,1,1,1,1,1,0,1,1,1,1,0,1,0,0,0,1,0,1,0,0,0,0,1,1,0,0,1,0,1,1,0,1,1,0,1,1,1,0,0,1,0,1,1,1,0,1,1,1,0,1,1,1,1,1,0,0,1,1,1,1,1,1,0,1,1,0,1,1,0,0,0,1,1,1,1,1,1,1,1,0,0,1,1,1,1,0,1,1,1,0,1,1,1,0,1,0,1,0,0,1,1,1,1,1,0,1,1,1,1,0,1,1,1,1,1,0,0,0,0,1,1,0,1,0,0,1,1,0,1,0,1,1,1,1,1,1,1,0,1,1,1,1,1,1,1,0,1,0,1,1,1,0,1,1,1,1,0,1,1,0,0,0,0,1,0,0,1,1,1,1,1,0,1,1,0,0,1,0,1,1,1,1,0,1,1,0,1,0,1,0,1,0,1,0,1,1,0,1,1,1,0,1,1,0,1,1,1,1,0,1,0,1,0,0,1,1,1,0,1,1,1,1,1,0,1,1,1,0,1,1,1,1,1,0,1,1,0,1,0,0,0,1,1,0,1,1,1,0,1,1,0,1,1,1,0,0,1,1,1,1,0,1,1,1,1,1,0,1,1,1,0,0,1,1,0,0,0,0,0,1,0,1,0,1,1,1,1,1,0,0,1,0,1,1,1,1,1,0,1,1,0,1,1,1,0,1,1,1,1,1,1,1,1,1,1,1,1,0,1,1,1,0,1,0,0,1,1,1,1,0,0,1,1,1,1,1,0,1,1,0,1,1,1],\"legendgroup\":\"\",\"name\":\"\",\"showlegend\":true,\"values\":[0,0,1,1,0,1,0,0,1,0,0,1,1,0,0,0,1,0,0,0,1,0,0,0,0,1,0,0,0,0,1,0,0,0,1,1,0,0,0,1,0,0,0,0,0,0,0,1,0,0,0,1,1,0,0,0,0,0,0,1,0,0,0,1,0,0,0,0,0,0,0,0,0,0,0,0,0,0,1,0,0,0,1,0,0,0,0,0,1,0,0,0,0,0,0,0,0,0,0,0,0,1,0,0,0,0,0,1,0,0,0,0,0,0,1,0,1,1,0,0,1,0,0,1,0,0,0,0,0,1,1,0,0,0,1,1,0,0,0,0,0,1,0,0,0,0,0,0,0,0,0,1,1,1,0,0,0,1,0,0,0,0,1,0,0,1,1,0,1,0,0,0,0,0,1,1,0,0,0,0,1,0,1,1,0,0,0,1,0,0,0,1,1,0,0,0,0,0,0,0,0,0,0,0,0,0,1,1,0,1,0,0,0,0,1,0,0,0,0,0,0,0,0,0,0,0,0,0,1,0,0,0,1,0,0,0,0,0,0,0,0,0,0,0,1,0,0,0,1,1,0,0,0,0,1,0,1,1,0,0,0,0,0,1,0,0,1,0,0,0,0,0,1,0,1,0,1,0,0,0,0,0,0,1,0,1,0,0,1,0,1,0,1,1,0,0,0,0,0,0,0,0,1,0,1,0,1,0,0,0,0,0,1,0,0,1,1,1,1,1,0,0,0,0,1,1,1,0,1,0,0,0,0,0,0,1,1,0,1,0,0,0,0,0,0,0,1,0,0,0,1,0,1,0,1,0,0,0,0,1,1,0,0,0,0,1,0,0,0,0,0,0,0,0,0,0,1,0,1,0,0,1,0,0,1,0,0,0,0,0,1,0,0,0,0,0,1,0,0,1,0,1,0,0,0,0,0,1,0,0,0,0,0,0,1,0,0,0,0,1,0,0,0,0,0,0,0,0,1,0,0,0,0,1,0,0,0,0,0,0,0,0,0,1,0,0,0,0,0,0,0,0,0,0,0,0,0,0,0,0,1,0,0,0,0,0,1,0,1,0,0,0,0,0,0,0,0,0,1,0,0,0,0,0,0,0,1,0,0,0,0,0,0,0,1,1,0,0,1,1,0,1,0,0,0,0,1,0,0,0,1,0,1,0,1,0,0,0,0,1,0,0,1,0,0,0,0,0,0,0,1,1,0,0,1,1,1,1,1,0,1,0,0,0,0,0,0,1,0,0,1,0,0,0,0,0,1,0,0,0,0,0,0,0,0,0,1,0,0,0,0,0,0,1,0,0,0,0,0,1,1,0,0,0,0,0,0,0,1,0,1,0,1,1,0,0,0,0,0,0,1,0,1,0,1,0,0,1,0,0,0,0,0,0,0,0,0,0,1,0,0,0,0,0,1,0,0,0,0,0,0,1,0,0,1,0,1,0,0,0,0,1,1,0,0,1,0,0,0,0,1,0,0,1,1,0,1,0,1,1,1,0,0,0,0,0,0,1,0,0,0,0,1,0,0,0,1,1,0,0,0,0,0,0,0,0,0,1,1,0,1,0,0,0,1,1,0,0,0,0,0,1,1,0,0,0,0,1,0,0,0,0,0,0,1,0,0,0,0,0,0,0,1,0,1,1,0,0,0,0,0,0,1,0,0,0,1,0,0,1,0,0,0,0,1,0,1,0,0,0,1,0,1,0,0,0,0,0,0,0,0,0,0,0,1,1,0,0,0,1,0,0,0,0,0,0,0,0,0,0,0,1,0,0,0,0,1,0,0,0,0,1,0,1,0,0,0,0,0,0,0,0,0,0,0,0,0,1,0,1,0,0,1,1,0,1,0,1,0,0,1,0,0,1,0,0,0,1,0,0,1,0,1,1,1,0,0,0,0,1,0,1,0,0,0,0,1,0,1,1,0,0,1,0,0,0,0,0,0,0,0,0,0,0,0,0,1,0,0,0,1,0,0,0,1,0,0,0,0,0,0,0,0,0,0,0,1,1,0,0,0,0,1,0,0,1,0,0,0,1,0,0,0,1,0,1,1,1,1,0,1,1,0,1,0,0,0,0,0,1,0,1,0,0,0,0,0,1,0,0,0,0,0,0,1,0,0,1,0,0,0,0,0,0,0,0,1,0,0,0,0,1,0,0,0,0,1,0,0,1,1,0,0,1,0,0,0,1,1,1,0,0,1,0,1,0,0,0,0,0,0,0,0,1,0,1,0,0,0,0,1,1,0,0,1,0,0,0,1,0,0,0,1,0,0,1,1,0,0,0,0,0,0,1,0,0,0,0,1,0,0,1,0,0,0,0,1,1,1,1,0,0,0,0,1,1,0,1,0,0,1,0,0,0,1,1,0,0,0,0,0,0,0,1,1,0,0,0,0,0,0,0,0,1,0,1,1,0,1,0,0,0,0,0,0,0,0,0,1,0,0,0,0,0,0,0,0,0,1,1,0,1,0,0,1,0,0,1,0,0,0,0,0,0,0,1,0,0,1,0,1,1,0,0,0,0,1,0,0,1,0,0,0,1,0,0,1,1,0,0,0,1,1,0,1,0,0,0,0,0,0,1,1,1,0,1,0,0,0,0,0,0,0,1,0,0,0,1,0,0,0,0,1,0,1,0,0,1,0,1,0,1,0,0,1,0,0,0,1,0,0,0,1,0,0,0,0,0,0,1,1,0,0,0,1,0,1,0,0,0,0,0,0,0,0,0,0,0,0,0,0,0,0,1,0,0,0,0,0,1,0,0,1,0,0,1,0,0,0,1,1,0,0,0,1,0,0,1,0,0,1,0,1,1,0,0,0,0,0,0,0,1,0,0,0,0,1,1,0,1,0,1,0,0,0,0,0,0,0,0,1,1,1,1,0,0,0,1,0,0,1,0,1,0,0,0,0,0,0,0,0,1,1,0,1,0,0,0,0,0,1,0,0,1,1,0,0,0,0,0,0,0,0,0,0,1,0,1,1,0,0,0,0,0,0,0,1,0,0,0,1,1,0,0,0,1,1,1,1,0,0,0,0,0,1,0,0,1,1,0,0,0,1,0,0,0,0,0,0,0,0,0,0,0,1,1,0,0,0,1,0,0,1,0,1,0,0,0,0,0,0,0,1,1,0,1,0,0,0,0,1,0,1,0,1,0,0,0,0,1,0,0,0,0,0,0,0,0,0,0,1,0,0,0,0,0,0,0,0,1,0,1,0,0,0,0,0,0,0,0,0,0,0,0,0,0,0,0,0,1,1,1,0,0,0,1,0,1,1,0,0,0,0,0,0,0,0,0,1,0,0,0,0,0,0,0,0,0,0,0,0,0,1,0,1,0,0,0,0,0,1,0,0,0,0,0,0,0,0,0,1,0,0,0,0,0,1,0,1,0,0,0,0,1,0,1,0,0,0,0,0,0,0,0,0,0,0,0,0,0,0,0,0,0,0,0,1,1,1,0,0,0,0,0,0,0,0,0,1,0,0,0,1,0,1,0,1,1,0,0,1,1,0,0,0,0,0,0,0,0,0,0,1,0,0,0,0,0,0,1,0,0,0,0,1,1,0,1,1,0,0,0,1,0,0,1,0,0,1,1,0,0,0,0,0,0,0,1,0,0,1,0,0,0,0,0,0,0,1,0,0,0,0,0,0,1,0,0,0,0,0,0,0,0,1,1,0,0,0,0,0,1,0,0,0,1,0,0,0,0,0,0,0,0,0,0,0,0,1,0,0,0,0,0,0,0,1,0,0,1,0,0,0,1,0,0,0,1,0,0,0,0,1,0,0,0,0,1,0,0,1,0,0,0,1,1,0,0,0,1,0,1,0,0,0,1,0,1,0,1,0,0,0,0,0,0,0,0,0,0,0,0,0,1,0,0,0,1,0,0,0,0,0,1,1,0,0,0,0,0,0,1,0,1,0,0,0,0,0,1,0,1,0,0,1,0,0,0,1,0,1,0,1,0,0,1,0,0,1,0,0,0,0,1,1,0,0,0,1,0,0,0,1,0,0,1,0,0,0,1,1,1,0,0,0,1,0,0,0,0,1,1,0,0,0,1,0,0,0,0,0,0,0,0,1,0,0,0,0,0,0,1,0,0,1,0,1,0,0,0,1,0,1,0,1,0,0,0,0,0,0,0,0,0,0,0,0,0,0,0,0,0,0,0,0,0,0,1,0,0,0,1,1,0,0,0,0,0,1,1,0,0,0,0,0,1,0,0,0,0,0,0,0,1,0,0,0,0,0,0,1,0,0,1,0,1,1,0,1,0,1,0,0,0,0,0,0,0,0,0,0,0,1,0,0,0,0,0,0,0,1,0,0,0,0,0,1,1,0,0,1,1,0,1,0,0,1,0,1,0,0,0,0,0,0,1,0,1,0,0,0,0,0,0,1,0,0,0,0,1,0,0,0,0,0,1,0,0,0,0,0,0,1,0,0,0,0,1,0,0,0,0,0,0,0,1,0,1,0,0,0,1,0,1,1,0,1,0,0,0,0,0,0,0,0,0,0,0,1,1,1,0,1,1,0,0,0,0,0,0,0,0,1,0,1,0,0,1,0,0,1,0,0,0,0,0,0,0,1,0,1,1,1,0,0,0,0,0,0,0,0,0,0,0,0,0,1,0,1,0,1,0,1,0,0,1,0,0,0,0,1,1,0,1,0,0,0,0,1,0,0,1,0,1,1,0,0,0,0,1,0,0,0,0,0,0,0,1,0,0,0,0,1,1,0,0,1,0,0,0,1,1,0,0,1,0,1,0,0,0,1,1,0,0,0,1,1,0,1,1,0,0,1,1,0,0,0,0,0,1,1,0,0,0,1,0,0,0,0,0,1,0,0,1,0,0,1,0,0,0,1,1,1,0,0,1,0,1,0,0,0,1,1,0,0,0,0,0,0,0,0,1,0,0,0,1,0,1,0,1,0,0,0,0,0,1,0,1,0,0,0,1,1,0,0,0,0,0,0,0,0,0,0,0,0,0,0,0,0,1,0,0,0,0,0,1,0,0,0,0,1,1,0,0,0,0,1,0,1,0,0,0,0,0,0,0,0,0,0,1,1,1,0,1,0,1,0,0,0,0,0,0,0,1,1,0,1,0,0,0,0,0,0,0,0,0,0,0,1,0,0,0,1,0,1,0,0,0,0,0,1,0,0,0,0,1,1,0,1,0,0,0,0,1,0,0,1,0,0,0,0,0,0,1,0,0,0,0,0,0,0,0,0,0,0,0,0,1,0,0,0,0,0,0,1,0,0,0,0,0,0,1,1,0,0,0,1,1,0,0,1,0,0,0,0,0,0,1,0,0,0,0,1,0,1,0,1,0,0,0,0,0,0,0,1,0,1,0,0,0,0,0,0,0,0,1,0,1,0,0,0,1,0,1,1,0,0,0,0,0,0,1,0,1,0,0,0,1,0,0,0,0,0,0,1,0,0,0,0,0,0,0,0,0,0,1,1,1,1,0,0,0,1,1,0,1,0,0,0,0,1,0,0,0,1,1,1,0,0,0,0,0,0,0,1,0,0,0,0,0,0,0,1,0,0,1,0,0,0,1,1,0,0,1,1,0,1,1,0,0,0,0,0,0,0,0,0,0,1,0,1,0,0,0,1,0,0,0,1,0,0,0,0,0,0,0,1,0,0,1,0,0,0,0,1,0,0,0,1,0,0,1,0,0,0,0,1,0,0,1,0,0,0,1,0,1,0,0,0,1,0,0,0,0,0,0,1,1,0,0,1,0,0,0,1,0,0,0,1,0,0,1,1,0,1,0,0,0,0,0,1,0,0,0,0,0,1,0,0,0,1,0,0,0,0,0,0,1,0,0,1,0,0,0,0,0,0,0,1,1,0,0,1,0,0,1,0,0,1,0,0,0,1,0,0,1,1,0,0,0,0,0,0,1,0,0,0,0,0,0,1,0,0,0,0,0,0,0,0,0,1,0,0,0,0,0,0,0,0,1,0,0,0,0,0,0,0,0,0,1,1,0,0,0,0,1,0,1,0,1,0,0,0,0,0,0,0,1,1,0,1,0,1,0,0,0,0,0,0,1,1,0,1,1,1,0,0,0,0,1,0,1,0,1,0,0,0,0,1,0,1,0,0,0,0,1,1,0,0,0,0,0,0,0,0,0,0,0,0,1,1,1,0,1,0,0,0,1,0,1,0,0,0,0,0,0,1,0,0,0,1,1,0,0,0,0,1,0,0,1,1,0,1,0,0,0,0,0,1,1,0,1,0,0,0,0,1,0,0,0,0,0,0,0,1,0,0,0,0,0,0,0,0,0,0,0,0,0,0,1,0,0,1,0,0,0,0,1,0,0,0,0,1,1,0,0,0,0,0,1,0,0,0,0,1,0,1,0,0,0,0,0,0,0,1,0,0,0,1,1,0,0,0,0,0,0,0,0,0,0,0,0,0,0,0,0,0,0,1,0,0,0,0,0,0,0,0,0,0,0,0,1,0,1,1,0,0,0,0,0,0,0,1,1,0,0,0,1,1,1,0,0,0,0,0,0,0,0,0,0,0,0,1,0,0,1,0,0,0,0,0,0,1,0,0,0,0,1,0,0,0,1,0,0,1,0,0,0,1,1,0,1,1,0,0,0,0,0,0,0,0,0,1,0,0,1,0,1,0,0,0,0,0,0,0,0,1,0,1,0,1,0,0,1,0,0,0,0,0,0,0,0,0,1,0,0,0,0,0,0,0,0,0,0,0,0,0,0,0,0,0,0,0,0,0,0,0,0,0,0,1,1,0,0,0,0,0,1,1,0,0,0,0,1,1,0,0,0,0,0,0,0,0,0,0,0,0,0,0,1,0,1,0,1,0,0,0,0,0,0,0,0,0,1,0,0,0,0,0,1,1,0,0,0,1,0,1,1,1,0,0,0,0,0,1,0,0,0,0,0,0,0,0,0,0,0,1,0,0,1,0,1,1,0,0,0,0,0,0,0,1,0,1,0,0,0,0,1,0,0,0,1,0,0,0,0,1,1,1,1,0,0,0,0,0,0,1,0,0,0,0,1,0,1,0,0,0,0,0,0,0,0,0,1,1,1,0,0,1,0,0,0,0,0,0,1,1,1,1,1,1,0,0,0,0,0,0,0,1,0,0,1,1,0,0,0,0,0,0,0,0,0,0,0,0,0,0,0,0,0,0,0,1,0,0,0,0,0,1,0,0,0,0,0,0,0,0,0,0,1,0,0,1,0,0,1,0,0,1,0,1,0,0,1,0,0,0,1,1,0,1,0,0,0,0,1,0,0,0,0,0,0,0,0,0,0,1,0,1,0,1,0,0,1,0,0,0,0,0,0,0,0,0,1,0,0,0,1,0,0,0,0,1,0,0,0,1,0,0,0,0,0,0,0,0,1,0,0,1,1,1,0,0,0,0,1,0,0,0,1,0,1,0,0,0,1,0,0,0,0,0,0,0,0,0,0,0,0,1,1,1,0,0,0,1,1,0,1,1,0,0,0,1,0,0,0,0,0,0,0,0,0,1,0,0,1,0,1,0,0,0,0,0,0,0,0,0,1,0,0,0,0,1,1,0,1,1,0,1,0,1,0,0,0,0,0,0,0,1,0,1,0,0,0,0,1,0,0,0,0,0,1,0,0,0,0,0,0,0,1,0,0,0,1,0,0,0,1,0,0,1,0,0,0,0,0,0,1,0,0,0,0,0,0,0,0,0,0,0,0,0,1,0,0,0,0,0,1,1,0,0,1,1,0,0,0,0,0,0,0,0,0,0,1,0,0,1,0,0,0,0,1,1,0,0,0,1,0,0,0,0,0,0,0,0,1,0,0,1,0,1,1,0,0,0,1,0,0,0,0,0,0,0,1,0,0,0,0,0,1,0,0,1,1,0,1,1,0,0,0,1,0,0,0,0,0,0,0,0,0,0,0,1,1,0,0,1,0,0,0,0,0,0,0,0,0,0,0,1,1,0,0,0,0,0,1,0,1,0,1,0,0,0,0,0,0,1,0,0,0,1,0,0,0,0,0,0,0,0,0,0,0,0,0,0,1,0,0,0,0,1,0,0,1,0,0,0,0,0,1,0,0,1,0,1,0,0,0,0,1,0,0,0,0,0,0,1,0,0,0,1,1,0,0,0,1,0,0,0,1,0,0,1,0,0,0,0,0,0,0,0,0,0,0,0,0,1,0,0,0,0,0,1,1,0,0,0,0,0,0,0,0,0,0,0,0,1,1,0,0,1,0,1,0,0,1,1,1,0,1,0,0,0,1,0,0,1,0,0,1,0,0,0,0,0,1,0,0,0,0,0,0,0,0,0,1,1,1,1,1,0,1,0,0,0,0,0,1,0,0,0,0,0,1,0,1,1,0,1,0,1,0,0,0,1,0,0,1,1,0,0,0,1,0,0,0,0,0,1,0,0,0,1,1,0,1,0,0,1,1,0,0,0,0,1,1,1,0,0,0,1,0,0,0,0,0,1,0,0,0,1,0,0,1,0,0,1,0,0,0,1,0,0,0,1,0,0,1,1,0,0,0,0,1,1,0,0,0,0,0,0,0,0,0,0,0,1,0,0,0,1,1,0,1,0,1,0,1,0,0,0,0,0,0,0,1,0,0,0,0,0,0,0,0,0,1,0,0,0,0,0,0,0,1,0,0,0,1,0,1,0,0,0,1,0,1,1,0,0,0,0,0,0,0,0,0,0,1,0,0,0,1,0,0,0,1,1,1,0,1,0,0,1,0,0,0,0,0,0,1,0,0,0,0,0,0,0,0,0,1,0,0,0,0,0,0,1,0,0,0,0,0,0,0,0,1,1,0,0,1,0,0,1,0,1,1,0,0,0,0,0,0,1,0,0,0,0,0,0,0,0,1,0,0,0,0,0,1,0,0,0,0,0,0,0,0,0,0,0,0,0,0,0,1,0,0,0,1,0,0,0,0,0,0,1,0,0,0,1,0,1,1,1,0,0,0,0,1,0,1,0,0,0,0,1,0,0,0,0,0,0,1,1,0,0,0,0,0,0,0,0,0,0,1,0,1,1,0,1,0,1,0,0,0,0,0,0,0,1,1,0,0,0,0,0,0,1,0,1,0,1,1,0,0,0,0,0,0,0,0,0,0,0,0,0,1,0,1,0,0,0,0,0,0,0,0,0,0,1,0,0,0,0,1,0,1,1,0,1,0,1,1,0,0,1,0,0,0,0,1,0,0,0,0,0,0,0,0,0,0,0,0,1,0,0,1,0,0,0,0,0,0,0,1,0,0,0,0,1,0,1,0,0,1,0,0,0,0,0,0,0,0,1,0,1,1,0,0,0,0,0,0,0,0,0,0,0,0,0,0,0,0,0,0,0,1,1,0,1,1,0,0,0,0,0,0,0,0,0,0,1,0,1,0,1,0,0,0,0,0,0,0,1,0,0,0,0,1,0,1,0,0,0,0,0,1,0,0,0,0,0,0,0,1,0,0,0,1,0,0,0,0,0,1,0,0,0,0,0,0,1,0,0,0,0,0,0,0,1,0,0,1,0,0,0,0,0,0,0,0,1,0,0,0,1,0,1,0,0,0,0,0,1,0,0,0,0,1,0,0,0,0,0,1,0,0,0,0,0,1,0,1,0,0,1,0,1,1,0,0,0,0,0,0,1,0,1,0,1,0,0,0,0,0,0,0,0,1,0,0,0,0,0,0,1,0,0,1,0,0,0,1,0,0,0,0,0,0,1,0,0,0,0,0,0,1,0,1,0,1,0,0,1,0,0,1,0,0,0,0,0,0,0,1,1,1,0,0,1,0,0,0,1,0,0,0,0,0,0,0,0,0,0,0,0,0,0,0,0,1,1,0,0,1,0,0,0,0,0,0,0,0,0,0,1,1,0,1,0,0,1,0,0,0,0,0,0,0,0,1,0,0,0,0,0,0,0,0,1,0,0,0,0,0,0,0,0,0,0,0,0,0,0,0,0,0,0,0,1,0,0,0,0,0,1,1,0,0,1,0,0,1,1,1,0,0,1,0,0,1,0,0,0,0,0,0,0,0,0,0,0,1,1,0,0,0,1,0,0,0,0,0,1,0,0,0,0,0,0,0,0,0,0,0,1,0,0,0,1,1,0,0,0,1,1,0,1,1,0,0,1,1,0,0,0,0,1,1,0,1,0,0,0,1,0,0,1,0,1,1,0,1,1,0,0,0,0,0,0,0,1,0,1,1,0,0,0,0,0,1,1,1,0,0,0,0,1,1,1,0,0,0,0,0,0,1,0,0,0,0,0,0,0,0,1,1,0,1,0,0,0,1,1,0,0,0,1,0,0,1,1,0,0,0,1,1,1,0,0,1,0,1,0,1,0,0,1,0,0,0,0,0,0,0,0,0,0,0,0,0,0,0,0,1,0,0,0,0,0,1,1,0,0,0,0,0,0,1,0,1,0,0,1,0,0,1,1,0,1,1,0,0,0,1,0,1,0,0,0,1,0,0,1,0,0,0,0,0,0,1,0,1,1,0,0,0,0,0,0,0,0,0,1,0,0,0,1,1,0,0,1,0,0,0,0,1,0,0,0,0,1,1,0,1,0,0,0,0,0,0,1,0,0,0,0,0,0,0,1,0,0,1,1,1,1,0,0,0,0,1,0,0,0,1,1,0,0,0,0,0,0,0,0,0,0,0,0,0,0,0,0,0,1,0,0,0,1,0,0,0,0,1,0,0,0,0,0,0,0,0,1,0,0,1,0,1,0,1,1,1,0,0,0,1,0,0,1,0,0,1,0,0,1,0,1,0,1,0,0,0,0,0,0,0,1,0,0,1,0,0,0,1,0,0,1,0,0,1,1,0,1,0,0,1,0,0,1,0,1,0,0,0,1,1,1,0,0,0,1,0,0,1,0,0,0,0,0,0,0,0,1,0,1,1,1,0,0,1,0,0,0,1,0,1,0,1,0,0,1,0,0,0,1,1,0,1,0,0,0,0,0,1,1,1,0,0,0,0,1,1,1,1,1,0,0,1,0,0,0,0,0,0,0,0,0,1,0,0,0,0,0,1,0,0,0,0,0,0,1,0,0,0,0,0,0,0,0,0,0,0,1,0,0,0,1,0,0,0,1,1,0,1,1,0,0,1,0,0,1,0,0,1,0,0,0,0,0,0,0,0,0,0,0,0,0,1,0,0,0,0,0,0,0,0,0,0,0,1,0,1,0,0,0,1,0,1,1,1,0,0,0,0,1,1,0,1,0,0,0,0,0,0,0,0,0,0,0,0,1,0,0,0,0,0,0,0,0,0,0,1,0,0,0,0,0,0,0,0,0,0,0,0,1,0,1,1,1,0,0,1,1,0,1,1,0,0,0,1,1,1,0,0,0,1,0,0,0,0,0,1,0,1,0,0,0,0,0,0,1,0,0,0,0,0,0,1,0,0,0,1,0,1,1,1,0,1,0,1,0,0,0,0,0,1,0,0,0,0,0,0,1,1,0,0,0,1,0,0,0,1,0,0,1,0,0,0,1,0,0,0,1,0,1,0,0,0,1,0,1,0,0,0,1,0,1,0,1,1,0,0,1,0,0,0,0,1,0,0,0,0,0,1,0,0,0,0,0,0,1,0,0,1,0,0,0,0,0,0,0,1,1,0,0,0,0,0,0,0,0,0,0,0,0,0,0,0,0,1,0,1,0,0,0,1,0,0,0,1,0,0,0,0,0,0,0,0,1,0,1,0,1,0,0,0,0,1,0,0,0,0,1,0,0,0,1,0,0,0,0,0,0,0,1,1,1,0,0,0,0,0,0,1,0,0,0,1,0,0,0,0,0,0,1,0,0,1,0,0,0,0,0,0,0,1,0,0,1,0,0,0,0,0,1,0,1,0,0,0,0,0,0,1,1,0,0,0,0,0,0,0,0,1,0,0,1,0,0,0,0,0,1,0,0,0,1,0,1,0,0,1,0,0,0,0,1,0,0,1,0,0,0,0,0,0,0,1,0,1,0,0,0,0,0,0,0,0,0,0,1,0,1,0,0,0,0,0,1,1,1,0,0,0,0,1,0,1,0,0,0,0,0,0,0,1,0,0,0,0,0,0,0,1,1,0,0,0,0,1,0,1,1,1,1,1,1,0,0,0,1,0,0,1,0,0,0,1,0,0,1,1,0,0,0,0,0,0,0,0,1,1,1,0,0,0,0,1,0,0,0,0,0,0,0,1,0,0,1,0,1,0,1,1,0,0,0,0,0,1,0,0,0,0,1,1,0,0,1,0,0,0,1,1,0,0,0,0,0,1,1,0,0,1,0,0,1,0,0,0,0,0,0,0,0,0,0,0,0,1,0,1,0,0,0,0,0,0,0,0,0,0,1,0,0,0,0,1,0,0,0,0,0,0,0,0,1,1,0,0,0,1,0,0,0,0,1,0,0,0,0,1,0,1,1,0,0,0,0,0,0,0,0,0,0,0,0,0,1,0,0,1,1,0,1,0,0,0,0,1,0,0,0,0,0,0,0,0,0,0,0,0,0,0,0,0,0,0,1,0,0,0,0,0,0,1,0,0,0,1,1,1,0,0,0,0,1,0,0,0,1,0,0,0,0,1,0,0,0,0,1,1,0,1,0,0,0,0,0,0,0,1,1,0,1,1,0,0,0,0,1,1,1,0,1,0,0,0,0,0,0,0,0,0,1,0,0,0,1,0,0,0,0,0,0,0,0,0,0,0,1,1,1,0,0,0,1,0,1,0,0,0,1,0,1,1,0,0,0,0,0,0,1,0,0,0,0,0,0,0,0,0,0,0,0,0,1,1,0,1,1,0,0,0,0,0,1,1,1,0,0,0,1,0,1,0,1,1,0,0,0,0,1,0,0,0,0,0,1,0,0,1,1,1,0,1,0,0,0,0,1,0,0,0,1,0,0,0,1,0,1,0,0,0,0,0,0,0,0,0,1,0,1,0,0,0,0,0,0,1,0,1,1,0,0,0,0,0,0,0,0,1,0,0,1,0,0,0,0,0,1,0,0,0,0,0,0,0,0,1,1,0,1,0,1,1,1,1,0,0,0,0,0,0,0,0,0,0,0,0,0,0,0,0,0,0,0,0,0,0,0,0,0,0,0,1,0,0,0,0,0,0,0,1,0,0,0,0,0,0,1,1,0,0,0,0,0,0,0,0,1,0,0,0,0,0,0,1,1,0,0,0,0,1,0,0,0,1,0,1,0,1,1,1,0,0,0,1,0,1,0,1,1,0,0,1,0,1,0,0,0,1,1,1,1,0,0,0,1,0,1,0,0,0,1,0,0,0,0,0,0,0,0,0,0,0,0,0,0,0,0,0,0,1,0,0,0,0,0,0,1,0,1,0,0,0,1,0,0,1,0,0,0,0,0,0,0,1,0,0,0,0,0,0,0,0,0,0,0,0,1,1,0,0,0,0,0,0,0,0,1,0,0,0,0,0,0,0,1,0,0,1,0,0,0,0,0,0,0,1,0,0,0,0,0,0,0,1,1,0,1,0,1,1,0,1,0,0,0,1,0,0,1,1,1,0,0,1,0,0,0,0,0,0,0,0,1,0,0,0,0,0,0,0,0,1,0,1,0,0,0,1,0,1,0,0,0,1,1,0,0,0,0,0,1,0,0,0,0,0,1,0,1,0,0,1,0,0,1,0,1,0,1,1,1,0,1,0,0,0,0,0,0,0,0,0,0,0,0,0,0,0,0,0,1,1,0,0,0,0,0,0,1,0,0,0,0,0,0,1,0,1,0,0,1,1,1,1,0,1,0,0,0,0,0,0,0,0,1,0,1,1,0,0,0,0,0,0,1,0,1,0,0,0,0,0,0,1,0,0,0,1,0,0,0,0,1,1,1,0,0,0,0,1,0,1,0,0,0,0,0,0,0,1,0,1,0,0,1,0,0,0,1,1,0,1,0,0,0,0,0,0,0,0,0,0,1,0,1,0,0,0,0,0,0,1,1,0,0,0,0,0,1,0,0,1,1,0,0,0,0,0,0,0,1,0,0,0,0,0,0,0,0,1,0,0,0,0,0,0,0,1,0,0,0,0,0,0,0,0,0,0,1,0,0,0,0,0,0,0,0,1,0,0,0,0,1,0,0,0,0,0,0,0,0,0,1,0,0,1,1,0,0,0,0,0,0,0,0,0,0,1,1,0,1,0,0,1,0,0,0,0,0,1,0,0,0,0,1,0,1,1,1,0,0,0,0,0,0,0,1,0,0,0,0,1,0,1,0,0,0,0,0,1,0,0,1,0,0,0,0,0,0,0,0,1,0,1,0,0,1,0,0,0,0,0,0,0,0,0,0,0,1,0,0,0,0,1,0,0,1,0,0,1,0,0,1,0,0,0,0,1,0,0,0,0,0,1,0,0,1,0,0,0,0,0,1,0,0,0,0,0,0,0,0,1,0,1,0,1,0,0,0,1,0,1,0,0,0,1,1,0,0,0,0,0,0,0,1,1,0,0,0,0,0,0,0,1,0,0,1,0,0,0,0,0,1,0,0,1,0,0,0,0,0,1,1,0,0,0,0,0,0,0,1,1,0,1,0,0,0,0,1,1,0,1,0,0,0,0,0,1,0,0,0,0,1,0,0,1,0,0,0,0,0,0,0,0,1,0,0,0,0,1,0,0,1,0,1,0,0,0,0,0,0,0,0,0,0,0,0,1,1,0,0,1,0,1,0,0,0,0,1,0,0,0,0,1,0,0,0,0,0,0,1,0,0,0,0,0,0,0,0,0,0,0,0,1,1,0,1,0,0,0,0,0,0,1,1,0,0,0,0,1,0,0,0,0,0,0,0,1,1,0,1,1,0,0,0,0,1,0,0,0,0,0,0,1,0,0,0,0,0,0,1,0,0,0,0,1,1,1,0,0,0,0,0,1,0,0,1,0,0,0,1,0,0,0,0,0,0,0,0,0,0,0,1,0,1,0,0,0,0,0,0,0,0,0,1,0,1,0,1,0,0,0,0,0,1,0,0,0,1,1,0,0,0,0,0,0,0,0,0,1,0,1,0,0,0,0,0,0,0,0,0,0,0,0,0,0,0,0,0,0,0,0,0,0,1,0,0,0,0,0,1,1,0,0,0,0,0,1,0,0,1,0,0,0,0,1,0,0,0,0,0,0,0,0,0,0,1,0,0,0,0,0,0,0,1,0,0,1,0,0,0,1,0,0,0,0,0,0,0,0,0,1,0,0,0,0,0,1,0,0,0,0,0,0,0,0,0,0,0,0,0,0,1,0,1,0,0,1,0,1,0,0,0,0,0,0,0,1,0,1,0,0,0,0,1,1,0,1,1,0,0,0,0,0,0,0,0,1,0,0,1,0,0,0,0,0,0,1,0,0,0,1,1,0,1,0,1,0,0,1,1,0,0,0,0,0,1,0,1,0,1,0,0,0,0,0,0,1,0,0,0,0,0,0,1,0,1,1,1,0,1,0,0,0,1,0,0,0,1,0,0,0,0,0,0,1,0,1,0,0,0,0,0,0,0,1,0,1,0,0,0,0,1,0,1,0,0,0,0,1,1,0,1,0,0,0,0,0,1,0,0,0,0,0,0,0,0,0,1,0,0,0,1,0,1,0,0,0,1,0,0,0,0,0,0,0,1,1,0,1,0,0,0,0,0,1,0,0,0,0,1,0,0,0,0,0,1,0,0,1,1,0,0,0,0,1,0,0,0,0,0,0,0,0,0,0,1,1,1,0,0,0,1,0,1,0,0,0,0,1,0,0,0,1,1,0,0,0,1,0,0,0,0,0,0,0,1,0,1,0,0,0,1,1,1,1,0,0,0,0,0,0,0,1,0,0,1,1,0,0,0,0,0,0,0,0,0,0,1,0,0,0,1,0,0,0,0,0,0,0,0,0,0,1,0,0,1,0,0,1,0,1,0,1,1,0,0,1,0,0,0,0,1,1,0,0,0,0,0,1,0,0,0,0,0,0,0,1,1,0,1,0,1,0,0,0,1,1,0,0,0,1,1,0,1,0,0,0,0,1,0,0,0,0,0,0,0,0,0,0,1,0,0,0,0,0,0,0,0,0,0,0,1,0,0,0,0,1,0,0,0,0,0,0,0,0,0,0,0,0,0,0,0,1,1,0,0,0,0,0,0,1,0,1,0,0,0,0,0,0,0,0,1,0,0,0,1,1,0,0,0,0,0,0,0,0,0,1,0,0,0,0,1,1,0,0,0,1,0,0,0,0,0,0,1,1,0,0,0,0,1,0,0,0,0,0,0,0,0,0,0,0,0,0,0,0,0,0,0,0,0,0,1,0,0,0,0,1,0,0,0,0,0,1,1,1,0,0,1,0,0,1,0,0,0,0,0,0,0,1,0,1,0,0,0,0,0,0,1,0,0,0,0,1,1,1,0,0,0,0,0,0,0,0,1,0,0,0,0,1,0,1,0,0,1,0,0,0,1,1,0,0,1,0,0,0,0,0,0,0,1,0,0,0,0,1,0,1,0,0,0,0,0,1,0,0,1,0,0,0,1,0,0,1,0,0,1,0,0,0,0,0,1,0,0,0,1,1,0,0,0,0,0,0,0,0,0,0,0,0,0,0,1,0,0,0,0,0,0,0,0,0,0,0,0,1,0,0,1,0,1,1,0,1,1,0,0,0,0,0,1,1,0,0,0,0,0,0,1,0,0,0,1,1,0,0,0,0,0,1,0,1,0,0,0,0,0,0,1,1,0,0,0,0,0,1,0,0,0,1,0,0,0,1,0,1,0,1,0,0,1,0,0,0,0,1,0,0,1,0,0,0,0,1,1,0,0,0,1,1,0,0,0,0,0,1,0,0,0,1,1,0,0,0,0,0,0,0,0,0,0,0,0,1,1,1,1,1,1,0,1,0,1,0,1,0,1,0,0,0,0,0,0,0,0,0,1,0,1,0,0,0,0,1,0,0,0,0,1,0,0,0,0,0,0,0,0,0,0,0,0,0,1,0,0,0,0,0,0,0,0,0,0,1,0,0,0,0,0,0,0,0,1,0,0,0,0,1,0,1,1,0,0,0,0,0,0,0,0,1,1,0,0,0,0,0,0,1,1,1,0,0,0,0,1,0,1,0,0,0,0,0,0,1,0,0,1,0,0,0,0,0,0,1,0,0,0,0,0,0,0,0,0,0,0,0,0,1,0,0,1,1,0,0,0,0,0,1,0,0,0,0,0,0,0,1,0,1,0,1,0,0,0,0,0,0,0,1,0,0,0,0,1,1,0,0,1,0,0,1,0,0,0,1,0,0,0,1,0,0,1,0,0,0,1,1,0,0,0,0,0,1,0,1,0,0,0,0,0,1,1,0,1,0,0,0,0,0,0,0,1,0,0,0,0,0,0,0,0,0,0,1,1,0,1,0,1,0,0,0,0,0,0,0,0,0,1,1,1,0,0,0,1,1,0,1,0,1,0,0,1,0,0,0,0,1,0,0,0,1,0,0,0,0,0,0,0,1,1,0,1,0,0,1,0,1,0,1,0,0,0,0,0,0,0,0,0,0,0,0,0,1,0,0,0,0,0,1,1,0,0,0,0,0,0,0,1,0,1,0,1,1,0,0,0,0,0,0,0,1,0,0,0,1,0,0,0,0,1,0,0,1,1,0,1,0,0,1,0,1,0,0,0,0,0,0,1,1,0,0,1,0,0,0,0,1,0,0,0,1,0,1,0,0,0,0,0,0,0,0,0,0,0,0,0,0,0,0,1,0,0,1,0,0,0,0,1,1,0,0,0,0,0,0,0,0,0,1,0,1,0,1,1,0,0,1,0,0,1,0,1,0,1,1,1,0,0,1,1,0,0,1,0,0,1,0,0,0,0,0,1,0,0,0,0,0,0,0,0,0,0,0,0,0,0,0,0,1,1,0,0,0,0,0,0,0,0,0,0,0,1,0,0,0,0,0,0,0,0,1,1,0,0,0,0,0,0,0,0,0,0,1,0,0,0,0,1,0,1,0,0,0,1,1,0,0,1,1,0,1,1,1,0,0,0,0,1,1,0,1,0,1,0,0,0,0,0,0,0,0,0,0,0,1,1,0,1,0,0,1,0,0,0,1,0,0,0,0,0,0,0,1,0,1,1,0,0,0,0,0,0,0,1,0,1,1,1,0,0,0,0,0,0,1,1,0,0,1,1,0,1,0,0,0,0,0,0,0,0,1,0,0,0,0,1,0,0,1,1,1,0,0,0,0,1,0,0,1,1,0,0,1,0,0,0,0,0,0,0,0,0,0,0,0,0,1,0,0,0,1,0,1,0,0,0,0,0,1,0,0,0,0,0,0,0,1,0,1,0,1,0,0,0,0,0,0,1,0,0,0,0,1,0,1,1,1,0,1,0,1,0,0,0,0,1,0,0,0,0,1,0,0,0,0,1,1,1,0,0,0,0,0,0,0,0,0,0,0,1,1,0,1,0,0,0,0,0,0,1,0,0,1,0,0,0,0,0,0,0,0,0,1,0,0,0,0,0,0,0,0,1,0,0,0,1,0,1,0,1,0,1,0,0,0,0,0,1,0,0,0,0,0,0,0,1,0,1,0,0,1,1,0,0,0,0,1,0,0,0,0,1,1,1,0,0,0,1,0,0,1,0,0,0,0,0,0,0,0,0,1,0,1,0,1,0,0,0,1,1,0,1,0,0,0,0,0,0,0,0,0,0,0,0,0,1,0,1,1,1,1,0,0,0,1,0,0,0,0,0,1,0,1,1,1,0,0,1,1,0,0,0,0,0,0,0,0,0,0,0,0,0,0,0,0,0,0,0,1,0,0,0,0,1,0,0,0,1,0,0,1,0,1,0,1,0,0,1,0,0,1,0,0,1,0,0,0,0,0,0,0,1,0,0,0,0,0,0,1,1,1,0,1,0,0,1,0,1,0,0,1,0,0,0,0,1,0,0,0,0,0,0,0,0,0,0,0,0,0,0,0,0,0,0,0,0,0,0,0,1,0,1,0,0,0,0,0,0,0,0,0,0,0,1,0,0,1,0,0,1,1,1,1,0,0,0,0,0,1,0,0,0,0,0,1,0,1,0,0,1,1,0,1,0,0,0,0,0,0,0,1,0,1,0,0,0,0,1,0,0,0,0,0,0,0,0,0,0,0,0,0,1,0,0,0,1,0,0,0,0,0,0,0,0,1,0,0,1,1,0,0,0,0,0,0,0,0,0,0,0,1,1,1,0,1,0,0,1,1,0,0,0,0,0,1,0,1,0,0,1,1,0,1,0,1,0,0,1,0,1,0,0,0,0,0,0,0,1,0,0,1,0,0,0,1,0,0,0,0,0,0,0,0,1,0,0,1,1,0,1,0,0,0,0,0,1,1,0,0,0,0,0,0,0,1,0,0,0,0,0,0,0,0,0,0,1,1,0,0,0,0,0,0,0,0,0,0,0,0,0,0,1,1,0,0,0,0,0,0,0,0,1,0,0,0,0,1,0,0,0,1,1,0,0,0,0,0,1,0,0,0,0,1,1,0,1,1,0,0,0,0,1,0,1,0,0,0,1,0,1,0,0,1,0,0,0,0,0,0,0,0,0,0,0,0,0,1,0,0,0,1,0,0,1,0,0,0,1,0,0,0,0,0,1,0,0,1,1,0,0,0,1,0,0,1,1,1,0,1,1,0,0,0,0,1,0,0,0,1,0,0,1,0,0,0,0,0,1,0,0,1,0,0,0,0,1,0,1,0,0,1,0,0,1,0,0,0,1,0,1,1,0,0,0,0,0,0,1,0,1,0,0,1,0,0,1,1,0,1,0,0,1,1,0,0,1,0,0,0,0,1,1,1,0,0,1,1,0,0,0,0,0,0,0,0,0,0,0,1,1,0,0,0,0,1,0,0,0,0,0,0,0,1,1,1,0,1,1,0,0,0,0,0,0,0,0,0,0,0,0,0,0,1,0,1,0,1,0,1,1,1,0,0,0,0,0,0,0,0,0,0,0,0,0,1,0,1,0,1,0,1,0,1,0,1,1,0,0,0,0,0,0,0,0,1,0,0,0,0,0,0,0,0,0,0,1,0,0,0,0,1,0,0,0,1,1,0,1,1,0,0,1,1,0,0,1,1,1,0,0,0,0,1,0,0,0,0,0,0,1,0,0,0,0,0,0,0,0,0,0,0,1,0,0,0,0,0,0,1,1,0,0,0,0,1,0,0,1,0,0,0,0,1,0,0,0,0,0,0,0,0,0,0,0,1,0,0,0,1,0,1,0,0,1,0,1,1,0,0,1,0,0,0,0,0,0,0,1,0,1,0,0,0,0,1,0,0,0,0,1,0,0,1,0,0,0,0,0,1,0,1,0,0,0,0,0,0,0,0,1,1,0,0,0,0,0,1,0,0,0,0,0,0,0,0,1,0,0,0,1,0,0,0,0,0,0,0,1,1,1,0,0,1,0,1,0,0,0,1,1,0,1,1,1,0,0,0,0,0,0,0,0,0,0,0,0,0,0,1,1,1,0,0,1,0,0,1,0,0,0,0,0,0,0,0,1,0,1,0,0,0,0,0,1,0,1,0,0,0,0,0,0,1,1,0,0,1,0,0,0,0,1,0,0,0,1,0,0,0,1,0,1,0,1,0,1,0,1,0,1,0,0,0,0,0,0,0,0,0,0,1,0,1,1,0,0,1,0,1,1,0,0,0,1,0,0,0,1,0,0,1,0,0,1,1,1,0,1,1,1,0,0,0,1,0,1,0,0,0,0,1,0,0,0,0,0,0,1,1,0,0,1,0,0,0,0,1,1,0,0,0,0,0,0,0,0,0,0,0,0,0,1,0,0,0,0,0,1,0,0,0,0,0,0,1,0,0,0,1,1,0,0,1,0,0,0,0,0,0,0,1,0,0,0,0,1,1,0,0,1,0,0,0,0,0,0,0,0,0,0,0,0,0,0,1,1,0,1,0,0,0,1,0,0,0,1,0,1,0,0,0,1,0,0,0,0,0,0,0,0,0,1,0,0,1,0,0,0,0,1,0,0,1,0,0,0,0,0,0,1,0,0,0,1,0,0,0,1,0,1,0,0,1,0,0,0,0,0,0,1,0,0,0,0,0,1,0,0,0,1,0,1,1,0,0,0,0,0,1,0,0,1,0,0,1,1,0,1,1,0,0,0,0,1,1,0,0,0,1,0,0,0,1,0,0,0,0,1,0,0,1,0,0,0,0,0,1,0,0,1,0,0,0,0,0,0,0,0,0,0,1,0,0,0,0,0,0,1,1,0,0,0,1,0,1,0,1,0,1,0,0,0,0,0,0,1,0,0,0,0,0,0,0,0,0,0,0,0,0,0,0,1,0,0,0,0,0,0,0,0,0,0,0,0,0,0,0,0,0,1,0,1,1,0,0,0,0,0,0,1,1,0,0,0,0,0,0,0,1,0,0,0,0,1,1,0,0,0,1,1,0,0,0,1,0,0,0,1,1,0,0,0,0,0,0,0,0,0,1,0,0,0,0,0,0,0,0,1,0,0,0,0,0,0,0,0,0,0,0,0,0,0,0,0,0,0,0,0,1,0,0,0,0,0,0,1,0,0,0,0,0,1,0,0,1,0,0,1,0,0,0,0,1,1,0,0,0,1,0,0,1,0,0,0,0,0,0,0,1,0,0,0,1,1,0,1,0,1,0,0,0,1,0,1,0,0,1,1,0,1,0,0,0,0,0,0,0,0,0,0,1,0,1,0,0,0,1,1,0,0,0,0,0,0,0,0,1,1,1,0,0,1,0,0,0,1,0,0,0,0,0,0,0,0,0,1,0,0,0,0,0,0,0,0,1,0,1,0,0,1,0,0,1,0,0,0,0,1,0,0,0,0,0,0,0,0,0,1,0,0,0,0,0,0,1,0,1,0,0,0,0,0,0,0,0,0,1,0,1,1,0,0,0,1,1,0,0,0,1,0,1,0,0,1,0,0,0,0,0,1,0,0,0,0,0,1,1,0,0,1,1,0,0,1,1,1,0,0,0,1,1,0,1,0,0,1,0,1,1,0,0,0,1,1,0,0,0,1,0,0,0,0,1,1,1,0,0,1,0,1,0,0,1,0,1,0,0,1,1,1,0,0,0,0,0,0,0,1,0,0,0,0,0,0,0,1,0,1,1,1,0,1,0,0,1,0,0,1,0,0,0,0,0,0,0,0,0,0,0,1,1,0,1,0,0,0,1,0,0,1,1,0,1,0,1,1,0,0,0,1,0,0,0,0,0,0,1,0,1,0,0,0,0,0,0,1,0,0,0,1,0,0,0,1,0,0,1,0,0,0,0,1,0,1,0,0,0,1,0,0,0,0,1,0,0,0,0,1,0,0,0,1,0,0,0,0,0,0,0,0,0,0,0,0,1,1,0,0,0,0,1,1,0,0,1,0,1,0,0,0,0,0,0,0,0,0,0,0,0,0,1,1,1,0,1,0,1,0,0,0,0,1,0,1,0,1,0,0,0,0,0,0,0,1,0,0,0,0,0,0,0,0,0,0,0,0,0,0,0,0,1,0,0,0,0,0,1,0,0,0,0,0,0,0,1,0,0,1,0,1,1,0,1,0,1,0,1,1,0,0,0,0,0,1,0,0,0,0,0,0,0,0,0,0,0,0,0,1,0,0,0,0,1,0,0,1,0,0,0,1,0,0,0,1,0,0,1,0,0,0,0,0,0,0,0,1,1,0,0,1,0,0,0,0,0,1,0,0,0,0,0,0,0,0,1,0,0,0,0,0,1,0,0,0,0,0,1,0,0,0,0,1,0,0,0,0,1,1,0,1,1,0,0,0,0,0,0,0,1,1,1,0,1,0,1,0,0,0,0,0,1,0,1,0,1,0,1,1,1,0,0,0,0,0,1,1,0,0,1,1,0,0,1,0,0,0,1,0,0,0,0,0,0,0,0,0,0,0,0,0,1,1,1,0,0,1,0,0,0,1,0,1,1,0,0,0,0,1,0,0,0,0,0,0,1,0,1,1,0,1,0,0,0,0,0,1,1,0,0,0,0,0,0,0,0,0,1,0,0,0,0,0,0,0,0,0,0,0,0,0,0,0,0,1,0,0,0,0,0,0,0,0,0,1,0,0,0,1,0,1,0,0,0,0,0,0,0,0,1,0,0,0,0,0,0,0,0,0,0,0,0,0,0,0,0,0,0,1,1,0,0,0,0,0,0,0,1,1,0,0,0,0,0,0,1,1,0,0,0,0,0,0,0,0,0,0,0,0,1,0,0,0,1,0,0,0,1,1,0,0,0,1,0,0,0,0,0,1,1,0,0,0,0,0,0,0,0,0,1,1,0,1,1,0,1,0,0,1,0,0,1,0,0,0,0,0,1,0,1,0,1,1,0,0,0,0,0,0,0,1,0,0,1,0,0,0,0,1,0,0,0,0,0,1,0,0,0,1,0,0,1,0,0,0,1,0,0,0,0,1,0,0,0,0,0,0,0,0,0,0,1,0,0,0,0,0,0,0,0,0,1,0,0,0,0,0,0,1,0,0,0,0,0,0,1,0,0,0,1,0,0,0,1,0,0,1,1,0,1,1,0,0,0,0,1,0,0,0,0,0,0,1,0,0,0,0,1,0,0,0,0,0,0,0,0,0,0,0,1,0,1,0,0,0,0,1,0,1,0,0,0,1,0,1,1,0,0,0,1,1,0,1,0,0,1,0,0,0,0,0,0,1,0,0,0,0,0,1,0,0,0,0,0,1,0,1,0,0,1,0,0,0,0,0,1,0,0,1,0,1,0,0,1,0,1,0,0,0,0,0,0,1,0,1,0,1,1,0,0,0,0,1,0,0,0,0,1,0,0,0,0,0,0,0,0,0,0,0,1,1,0,0,0,0,0,0,0,0,0,0,0,0,0,0,0,0,0,1,0,0,0,0,1,1,1,0,0,0,0,0,0,0,0,0,0,0,0,0,0,0,0,0,0,1,0,0,0,1,0,0,0,0,0,0,0,1,0,0,0,0,0,0,0,0,0,1,0,0,0,0,0,1,0,0,0,1,0,0,0,0,1,0,0,0,0,0,1,0,1,0,0,0,0,0,1,0,0,0,0,0,0,0,0,0,0,0,0,0,1,0,1,0,0,0,1,0,0,0,0,1,0,1,0,0,0,0,1,0,0,0,0,0,1,0,0,0,0,0,0,1,1,1,0,0,0,1,1,1,1,0,0,0,0,0,0,0,0,0,0,0,0,0,1,0,0,0,1,1,0,0,0,0,1,0,0,0,1,1,1,0,0,0,1,1,1,0,0,0,0,0,0,1,1,0,1,0,0,0,0,0,1,0,0,0,0,0,0,0,1,1,0,0,0,0,0,0,1,0,0,1,0,0,0,1,0,0,0,0,0,0,0,0,0,0,1,0,1,0,0,0,0,0,1,0,0,1,0,1,0,0,0,1,0,1,1,0,1,0,0,0,0,0,0,1,0,0,0,0,0,1,0,0,0,0,0,0,1,0,0,0,0,0,0,0,0,0,0,0,1,0,0,0,0,0,0,0,0,0,0,0,1,0,0,0,0,0,0,0,0,0,1,0,1,0,0,0,1,0,0,0,0,0,0,0,0,1,0,0,0,0,1,0,0,0,0,0,0,0,0,0,1,0,0,0,0,0,1,0,0,0,0,1,0,0,0,1,0,1,0,0,1,0,0,0,0,0,0,0,1,1,0,1,0,0,1,1,0,0,1,0,0,1,0,0,0,0,0,0,0,1,0,0,0,0,0,0,1,0,1,0,1,0,0,1,1,0,0,0,0,0,0,0,0,0,1,0,1,1,0,0,0,0,1,0,1,0,1,0,0,0,1,1,0,1,0,0,0,0,0,0,0,0,0,0,1,0,1,0,1,0,1,0,1,0,0,0,0,0,0,0,0,0,0,0,1,0,0,0,0,0,0,0,1,0,0,0,0,0,0,1,0,0,0,0,0,1,1,1,0,0,0,0,0,0,0,0,0,1,0,0,0,0,1,0,1,0,1,0,0,0,1,0,0,1,0,0,0,0,0,0,0,0,0,1,0,0,0,1,0,0,0,0,0,0,0,0,0,0,1,0,0,1,0,0,1,0,0,0,0,0,0,0,0,0,0,0,0,0,0,0,1,0,0,1,0,1,0,0,1,1,0,0,0,0,0,0,1,0,0,0,0,0,0,0,1,0,1,0,0,0,0,0,1,0,1,0,0,1,0,1,0,0,0,0,0,0,0,0,0,0,0,0,0,1,0,0,1,0,0,0,1,0,0,0,0,0,0,0,0,0,0,1,1,0,1,0,0,1,0,0,0,0,0,0,0,1,0,0,1,0,0,0,0,0,0,1,0,0,0,0,0,1,0,1,0,0,0,0,1,1,0,1,0,0,0,1,1,0,1,0,0,0,0,0,1,0,0,1,0,1,1,0,0,0,1,0,0,0,1,0,0,0,1,1,0,1,0,0,1,0,1,0,0,0,0,0,1,0,0,0,0,0,1,0,1,0,0,0,0,0,0,0,0,0,0,0,0,0,0,0,0,1,0,0,1,0,1,0,0,0,0,0,0,0,0,0,0,1,0,1,0,0,0,1,0,1,0,0,1,1,0,1,1,0,1,0,0,0,0,1,0,1,0,1,0,0,0,0,0,0,0,0,1,0,0,1,0,0,0,0,0,0,1,0,0,0,1,0,0,0,0,1,1,0,0,0,0,0,1,0,0,1,0,1,1,0,1,0,0,0,0,0,0,0,1,1,0,0,0,0,0,0,1,0,0,0,0,0,0,0,0,1,0,0,0,0,0,0,0,1,0,0,0,0,1,0,0,0,0,0,0,1,0,1,0,0,0,0,1,0,0,0,0,0,0,0,0,1,0,0,0,0,1,0,1,0,0,0,0,0,0,0,0,0,1,0,0,0,0,0,0,0,0,0,0,0,1,0,0,0,0,0,0,0,1,0,1,1,0,0,0,1,1,0,0,0,0,0,0,0,0,0,0,0,0,1,1,0,0,0,1,0,0,1,0,0,0,1,0,0,0,1,1,0,0,1,0,0,0,0,0,1,0,0,1,0,0,1,0,0,1,1,0,1,1,1,0,0,1,0,0,1,0,0,0,0,1,0,0,0,0,0,0,1,0,0,0,1,1,1,0,0,0,0,1,0,1,1,0,0,1,0,0,0,0,0,0,0,0,1,0,0,0,1,0,0,0,0,1,0,1,0,0,0,1,0,0,1,1,0,0,0,0,1,1,1,0,0,1,1,1,0,0,0,0,0,0,1,0,0,0,1,1,0,0,0,0,0,0,0,0,0,0,0,0,0,0,1,1,0,0,0,0,1,0,1,0,0,0,0,0,0,0,0,0,0,0,0,0,0,0,0,0,0,0,0,1,0,0,0,1,0,1,0,0,0,0,0,0,1,1,0,0,1,1,1,0,0,0,0,1,0,0,1,1,0,0,1,0,0,0,1,0,0,0,0,0,0,0,0,0,0,1,0,0,0,0,0,0,0,0,0,0,0,0,0,1,1,0,1,0,0,0,0,0,0,0,0,0,0,0,0,1,1,0,0,1,0,0,0,0,1,0,0,1,0,0,1,0,1,0,1,0,0,0,0,0,0,1,0,1,0,0,0,0,1,1,1,0,1,0,0,0,0,1,1,1,0,0,1,1,0,1,0,0,0,0,0,0,0,1,0,0,1,0,0,0,0,0,1,0,0,0,0,1,0,1,1,0,1,0,1,0,0,0,0,0,0,0,0,1,0,0,0,0,0,0,1,0,0,1,0,0,0,0,0,0,0,1,0,0,0,0,0,0,1,1,0,1,0,0,0,0,0,0,0,0,1,0,1,0,1,0,0,1,0,0,0,0,0,0,1,1,1,0,0,0,0,0,1,1,0,0,0,0,0,0,0,0,0,0,0,1,0,0,0,0,0,0,1,0,1,0,1,0,0,0,1,0,1,0,0,0,0,1,0,0,0,0,0,0,0,0,0,0,0,0,1,0,0,0,1,0,1,0,1,0,0,0,0,0,1,0,1,0,0,0,0,1,0,0,0,0,0,1,1,0,0,0,1,0,1,0,0,0,0,0,0,1,0,0,0,1,0,0,1,0,0,1,0,0,0,0,0,0,0,0,0,0,0,1,1,0,0,0,0,1,1,0,1,0,0,0,1,0,0,0,0,1,0,0,1,1,1,0,1,0,0,1,0,0,0,0,1,0,0,0,0,1,0,0,0,0,0,0,0,0,0,0,0,1,1,0,0,0,0,0,0,0,0,0,0,0,0,0,0,1,0,0,0,0,1,1,0,0,1,0,1,0,0,0,1,0,0,1,0,0,0,1,0,0,0,1,0,0,0,0,0,0,1,0,1,0,0,0,0,1,0,1,1,1,1,0,0,0,0,0,0,0,0,0,0,0,0,1,0,0,1,0,0,0,1,0,0,1,1,0,0,0,0,0,1,0,0,0,0,0,0,0,1,1,1,0,0,0,0,0,1,1,0,0,0,0,0,0,0,0,0,0,1,0,0,0,0,1,0,0,0,1,1,0,1,0,0,0,0,0,1,0,0,1,0,0,0,1,0,0,0,0,0,0,0,0,1,1,0,1,0,0,1,0,1,1,0,0,0,0,0,1,1,0,1,0,0,0,1,0,0,0,0,1,1,0,0,1,0,0,0,1,0,0,1,1,1,0,1,0,0,0,0,0,0,1,0,1,0,1,0,1,0,0,0,0,0,0,0,0,0,0,0,0,1,0,1,1,1,0,0,0,0,0,0,0,0,1,1,0,0,0,0,1,1,1,0,0,1,0,1,0,1,0,0,0,1,0,0,0,1,0,0,0,0,0,0,1,0,0,0,0,0,0,0,1,0,0,1,1,0,0,0,0,0,0,0,0,0,1,0,0,0,0,1,1,0,1,1,1,0,0,0,0,0,0,0,0,0,0,0,0,0,0,1,0,0,0,0,0,0,0,1,0,0,0,1,0,1,0,0,0,0,1,0,1,1,0,1,0,0,1,1,1,1,0,1,1,0,0,1,1,1,0,1,1,0,0,0,0,0,0,0,0,0,0,0,0,1,0,1,0,1,1,0,0,0,1,0,0,0,1,1,0,0,0,0,0,0,0,0,0,1,0,0,0,0,0,0,1,1,1,0,1,1,0,0,0,0,0,0,0,0,1,1,0,0,0,0,0,0,1,0,1,0,0,0,0,0,0,0,0,0,0,0,0,1,1,0,0,0,0,0,0,0,0,0,0,0,1,0,0,0,0,1,0,0,0,1,0,1,0,0,0,0,0,0,0,0,0,0,1,0,0,0,0,1,1,0,0,1,0,0,0,0,1,0,1,0,0,1,0,1,1,0,0,0,1,0,0,0,0,0,1,1,1,0,0,0,1,1,1,0,0,0,0,0,0,0,1,0,1,0,1,0,1,0,1,1,1,0,1,1,1,0,0,0,1,0,0,0,0,0,1,0,1,0,0,0,0,0,0,0,0,0,0,0,0,0,1,1,1,0,0,0,0,0,0,1,0,1,0,0,1,0,0,0,1,0,0,0,1,0,0,1,0,0,0,0,0,1,0,0,0,1,0,0,0,0,0,0,0,0,0,1,0,0,0,1,0,1,0,1,0,0,1,0,0,1,0,0,0,1,0,0,0,0,0,1,0,0,1,0,1,0,0,0,0,0,0,0,1,1,0,1,0,1,0,0,1,0,0,0,0,1,0,1,0,1,0,0,1,1,0,0,0,0,0,1,0,1,0,0,0,1,0,1,0,1,0,1,0,0,0,1,0,1,1,0,0,0,0,1,0,0,0,0,0,0,0,0,1,0,0,1,0,0,1,0,0,0,0,0,0,1,0,0,0,1,0,0,1,0,0,1,0,0,0,1,0,1,0,0,0,0,0,0,0,0,0,0,0,1,0,0,0,0,1,0,1,0,0,1,1,0,0,0,0,1,0,0,0,0,0,0,1,0,1,1,0,1,0,0,0,1,0,0,0,0,1,1,0,0,0,0,0,1,0,0,1,1,0,0,0,0,0,0,1,0,1,0,0,0,1,0,0,0,1,1,0,0,0,1,0,0,1,1,0,0,1,0,1,0,0,0,1,0,0,0,1,0,0,0,1,1,1,0,0,1,0,0,0,0,0,0,0,0,1,1,0,0,0,0,0,0,0,1,0,0,0,0,0,0,0,0,1,0,0,0,0,0,1,0,0,0,0,0,0,0,1,1,0,0,1,0,1,0,0,0,0,1,0,0,1,0,1,0,0,0,0,1,1,1,1,0,0,1,0,0,0,1,0,0,0,0,0,0,0,0,0,1,1,0,1,0,1,1,0,0,0,0,0,0,0,0,0,0,0,0,0,1,1,0,0,0,1,0,0,0,0,0,0,1,0,0,0,1,0,0,1,0,1,0,0,0,0,0,0,1,1,0,1,0,0,0,1,0,1,1,0,0,0,0,1,0,0,0,1,0,0,0,1,0,0,1,0,0,0,1,1,1,0,1,0,0,1,0,1,0,0,0,0,1,0,0,0,0,0,1,0,1,0,0,0,0,0,0,0,0,0,1,0,0,1,1,0,1,1,0,0,1,1,1,1,0,1,0,1,1,0,0,1,0,1,0,0,1,0,1,0,0,0,0,0,0,0,0,0,0,0,0,0,0,1,1,0,0,1,0,1,0,0,1,1,1,0,0,1,1,0,1,0,0,0,0,0,0,0,1,0,1,0,0,0,1,1,0,0,0,0,0,0,0,0,0,0,1,0,0,1,0,0,1,1,0,0,0,0,0,0,1,0,0,0,0,0,0,0,0,0,0,0,1,0,0,1,0,0,0,0,0,0,1,0,0,0,0,0,0,1,0,1,0,0,0,0,1,0,0,0,1,0,1,0,0,0,0,0,0,0,0,1,1,0,0,0,0,0,0,0,1,1,0,0,1,0,1,0,1,0,1,0,0,0,1,0,0,1,0,1,1,0,0,0,0,0,0,0,0,0,0,0,0,0,0,0,1,1,0,0,0,0,0,0,1,1,0,1,0,1,0,0,0,0,0,0,0,0,0,0,0,1,0,0,0,0,1,0,0,0,0,1,1,0,0,0,0,1,1,1,0,0,0,1,0,0,0,1,0,0,0,0,1,0,0,0,0,0,0,0,1,1,0,0,0,0,0,1,1,1,1,1,0,0,0,0,0,0,0,1,0,0,0,0,0,1,0,0,1,0,0,0,0,1,0,0,0,1,1,0,1,0,0,1,1,0,0,0,0,0,0,0,0,1,0,0,0,1,0,1,0,0,0,0,1,0,1,0,1,0,0,0,0,0,0,0,0,0,0,0,0,0,0,0,1,0,0,0,0,1,0,0,0,1,0,1,0,1,1,0,0,0,0,0,0,1,0,0,0,0,0,0,0,0,0,0,0,0,1,0,0,0,0,0,0,0,1,1,0,0,0,0,0,0,0,0,0,1,0,0,0,1,0,0,0,0,0,1,0,0,0,0,0,1,0,0,0,0,1,1,0,0,0,1,1,0,1,1,0,1,0,0,1,0,0,1,0,0,0,0,0,0,1,0,1,0,0,0,1,0,0,0,0,0,0,0,0,0,1,1,1,0,0,0,0,0,0,0,0,0,0,0,0,1,0,0,0,0,0,1,1,1,1,0,1,1,0,0,0,0,1,0,1,0,0,0,0,0,1,1,0,0,0,0,1,0,0,0,0,0,1,1,0,0,0,0,0,1,1,0,0,0,0,0,1,0,0,0,1,0,0,0,1,0,0,0,0,0,0,0,0,1,0,1,0,0,1,0,1,0,0,0,1,0,1,1,0,1,1,0,0,1,0,0,0,0,0,0,0,0,0,1,0,1,1,0,0,0,0,0,0,0,0,1,0,0,1,0,0,1,0,0,0,0,0,0,0,0,0,1,0,0,0,1,0,0,0,0,0,0,1,0,0,0,1,1,1,0,1,0,0,0,1,0,0,0,0,0,0,1,1,0,0,0,1,0,0,0,1,0,0,0,1,0,1,0,0,1,0,0,1,0,0,1,0,0,0,0,0,0,0,0,1,0,0,0,0,0,0,0,1,1,0,1,0,0,0,0,0,0,1,0,0,0,0,0,0,0,0,0,0,0,0,0,0,0,1,0,0,0,1,1,0,0,0,0,0,0,0,1,0,0,1,0,0,0,0,1,0,0,0,0,0,0,0,0,0,0,1,0,0,0,0,0,0,0,0,0,0,0,1,0,0,0,0,0,0,0,0,0,0,0,0,0,0,0,0,0,1,0,1,0,0,0,0,1,1,0,0,0,0,0,0,0,0,1,1,0,0,1,0,0,0,0,1,1,0,0,0,0,0,0,0,1,0,0,1,0,0,0,0,0,0,0,0,1,1,0,0,0,0,0,1,0,1,1,0,1,0,0,1,1,0,1,1,0,1,1,0,0,0,0,0,0,1,0,0,0,1,0,0,1,0,1,0,0,1,0,1,0,1,0,1,0,0,1,0,0,0,0,0,1,1,0,0,0,0,0,0,0,0,0,0,0,1,0,0,0,1,1,0,0,1,0,0,0,0,1,1,0,0,0,0,0,1,0,1,0,1,0,0,0,1,0,0,1,1,0,0,0,0,0,0,0,0,0,1,0,1,0,1,0,0,1,0,0,0,0,0,0,0,0,0,0,1,1,0,0,0,0,0,1,0,0,1,0,0,1,0,0,1,0,0,0,0,0,0,0,1,0,0,1,0,0,0,0,0,0,0,0,0,1,0,1,0,0,0,0,0,0,0,0,1,1,0,0,0,0,0,0,0,0,1,0,0,0,1,0,0,0,0,1,1,0,0,0,0,0,1,0,0,0,0,0,0,1,0,0,0,0,0,0,0,0,1,0,0,0,0,0,0,0,0,0,0,0,0,0,0,0,0,0,0,0,0,0,0,1,0,0,1,1,0,0,0,0,0,0,0,0,0,1,0,0,0,0,1,0,0,0,0,0,1,0,0,0,0,0,1,1,0,0,0,1,0,0,0,0,1,1,0,1,0,0,0,1,0,0,0,0,0,0,0,1,0,1,0,0,0,0,1,0,0,0,0,1,0,0,0,0,0,0,0,0,1,0,0,0,0,0,0,0,0,0,0,0,1,0,0,1,1,0,0,1,0,1,0,0,0,0,0,1,1,0,0,0,0,1,0,0,0,0,0,0,1,0,0,1,0,0,1,0,0,0,1,0,0,0,0,0,0,1,0,1,0,0,0,1,0,0,0,1,0,0,1,0,0,0,0,0,0,0,0,1,0,0,1,0,0,0,0,0,0,0,0,1,1,0,0,0,1,1,1,0,1,0,1,0,0,0,0,1,0,0,0,0,0,0,0,0,0,0,1,0,0,0,1,0,0,0,0,0,0,0,0,0,1,0,0,1,0,0,0,1,0,0,1,0,0,0,0,0,0,0,1,0,0,0,0,0,0,0,0,0,1,0,0,0,1,1,0,0,0,0,0,0,0,0,0,1,0,1,0,0,0,0,0,0,0,0,0,1,0,0,0,0,1,1,1,1,0,0,0,0,0,0,0,1,0,0,0,0,0,0,0,0,1,0,0,0,0,1,1,0,1,1,0,1,0,1,1,0,0,0,0,1,1,0,0,0,1,0,0,0,1,1,0,0,0,0,0,0,0,0,0,0,1,0,0,0,0,0,0,1,0,0,0,1,0,0,0,0,0,0,0,0,0,1,0,0,1,0,0,1,0,0,0,0,0,0,1,0,0,0,0,0,0,0,0,0,0,0,0,0,0,1,0,0,0,0,1,0,0,0,1,0,1,1,0,1,0,0,0,0,0,0,0,1,0,1,0,0,1,0,1,1,1,0,0,0,0,0,0,1,0,0,0,0,0,1,0,0,0,1,0,0,0,0,0,1,0,0,0,1,1,1,0,0,0,0,1,0,0,0,0,0,0,0,1,0,0,0,0,0,0,0,0,0,0,0,1,1,0,0,0,1,0,0,0,0,0,0,0,1,1,0,0,1,0,1,1,0,0,1,0,0,0,0,0,1,0,0,0,1,0,1,0,0,0,0,0,1,0,0,1,0,0,0,1,1,0,0,0,0,0,0,1,1,0,0,0,1,1,0,1,0,0,1,0,0,0,0,0,1,1,0,0,0,0,0,0,0,0,1,0,0,0,0,0,1,1,0,0,0,0,0,0,0,0,0,0,0,0,0,0,1,0,0,0,0,0,0,0,1,1,0,0,0,0,0,0,0,0,0,0,0,0,1,1,0,0,0,0,0,0,1,0,1,0,0,0,0,0,0,0,0,1,0,1,0,0,1,0,0,0,0,0,1,0,0,1,0,0,1,1,0,0,0,0,0,0,0,1,0,0,0,0,0,1,0,0,1,0,0,0,0,0,1,0,0,0,0,0,1,0,1,0,0,0,0,0,1,0,0,1,1,0,0,0,0,0,1,1,0,0,0,0,0,0,0,0,0,0,1,0,0,0,0,0,0,1,0,1,0,0,0,0,1,0,0,1,0,0,0,0,0,0,0,0,0,0,1,0,0,1,0,0,0,0,1,1,0,0,0,1,1,0,1,1,0,0,1,1,0,0,1,0,0,1,0,0,1,1,0,0,0,1,1,0,0,0,0,0,0,0,1,0,1,0,1,0,0,0,0,0,1,0,0,0,0,0,1,0,1,0,0,0,1,0,0,0,0,0,0,0,0,0,0,0,0,1,0,0,0,0,0,1,0,0,0,0,0,0,0,0,0,0,0,0,1,0,1,1,1,1,0,0,1,1,0,0,1,0,0,0,0,0,0,0,0,1,1,0,0,0,1,1,1,0,0,1,1,0,0,0,0,0,0,0,0,1,0,0,0,0,0,0,0,0,0,0,1,0,0,1,0,0,0,0,0,1,0,0,1,0,0,0,0,0,1,1,0,0,1,0,0,1,0,0,0,0,0,1,0,1,0,0,0,1,1,0,0,0,0,1,1,0,1,1,0,0,0,0,0,1,0,0,0,0,0,0,0,0,0,0,0,0,0,0,0,0,1],\"type\":\"pie\"}],                        {\"template\":{\"data\":{\"histogram2dcontour\":[{\"type\":\"histogram2dcontour\",\"colorbar\":{\"outlinewidth\":0,\"ticks\":\"\"},\"colorscale\":[[0.0,\"#0d0887\"],[0.1111111111111111,\"#46039f\"],[0.2222222222222222,\"#7201a8\"],[0.3333333333333333,\"#9c179e\"],[0.4444444444444444,\"#bd3786\"],[0.5555555555555556,\"#d8576b\"],[0.6666666666666666,\"#ed7953\"],[0.7777777777777778,\"#fb9f3a\"],[0.8888888888888888,\"#fdca26\"],[1.0,\"#f0f921\"]]}],\"choropleth\":[{\"type\":\"choropleth\",\"colorbar\":{\"outlinewidth\":0,\"ticks\":\"\"}}],\"histogram2d\":[{\"type\":\"histogram2d\",\"colorbar\":{\"outlinewidth\":0,\"ticks\":\"\"},\"colorscale\":[[0.0,\"#0d0887\"],[0.1111111111111111,\"#46039f\"],[0.2222222222222222,\"#7201a8\"],[0.3333333333333333,\"#9c179e\"],[0.4444444444444444,\"#bd3786\"],[0.5555555555555556,\"#d8576b\"],[0.6666666666666666,\"#ed7953\"],[0.7777777777777778,\"#fb9f3a\"],[0.8888888888888888,\"#fdca26\"],[1.0,\"#f0f921\"]]}],\"heatmap\":[{\"type\":\"heatmap\",\"colorbar\":{\"outlinewidth\":0,\"ticks\":\"\"},\"colorscale\":[[0.0,\"#0d0887\"],[0.1111111111111111,\"#46039f\"],[0.2222222222222222,\"#7201a8\"],[0.3333333333333333,\"#9c179e\"],[0.4444444444444444,\"#bd3786\"],[0.5555555555555556,\"#d8576b\"],[0.6666666666666666,\"#ed7953\"],[0.7777777777777778,\"#fb9f3a\"],[0.8888888888888888,\"#fdca26\"],[1.0,\"#f0f921\"]]}],\"heatmapgl\":[{\"type\":\"heatmapgl\",\"colorbar\":{\"outlinewidth\":0,\"ticks\":\"\"},\"colorscale\":[[0.0,\"#0d0887\"],[0.1111111111111111,\"#46039f\"],[0.2222222222222222,\"#7201a8\"],[0.3333333333333333,\"#9c179e\"],[0.4444444444444444,\"#bd3786\"],[0.5555555555555556,\"#d8576b\"],[0.6666666666666666,\"#ed7953\"],[0.7777777777777778,\"#fb9f3a\"],[0.8888888888888888,\"#fdca26\"],[1.0,\"#f0f921\"]]}],\"contourcarpet\":[{\"type\":\"contourcarpet\",\"colorbar\":{\"outlinewidth\":0,\"ticks\":\"\"}}],\"contour\":[{\"type\":\"contour\",\"colorbar\":{\"outlinewidth\":0,\"ticks\":\"\"},\"colorscale\":[[0.0,\"#0d0887\"],[0.1111111111111111,\"#46039f\"],[0.2222222222222222,\"#7201a8\"],[0.3333333333333333,\"#9c179e\"],[0.4444444444444444,\"#bd3786\"],[0.5555555555555556,\"#d8576b\"],[0.6666666666666666,\"#ed7953\"],[0.7777777777777778,\"#fb9f3a\"],[0.8888888888888888,\"#fdca26\"],[1.0,\"#f0f921\"]]}],\"surface\":[{\"type\":\"surface\",\"colorbar\":{\"outlinewidth\":0,\"ticks\":\"\"},\"colorscale\":[[0.0,\"#0d0887\"],[0.1111111111111111,\"#46039f\"],[0.2222222222222222,\"#7201a8\"],[0.3333333333333333,\"#9c179e\"],[0.4444444444444444,\"#bd3786\"],[0.5555555555555556,\"#d8576b\"],[0.6666666666666666,\"#ed7953\"],[0.7777777777777778,\"#fb9f3a\"],[0.8888888888888888,\"#fdca26\"],[1.0,\"#f0f921\"]]}],\"mesh3d\":[{\"type\":\"mesh3d\",\"colorbar\":{\"outlinewidth\":0,\"ticks\":\"\"}}],\"scatter\":[{\"fillpattern\":{\"fillmode\":\"overlay\",\"size\":10,\"solidity\":0.2},\"type\":\"scatter\"}],\"parcoords\":[{\"type\":\"parcoords\",\"line\":{\"colorbar\":{\"outlinewidth\":0,\"ticks\":\"\"}}}],\"scatterpolargl\":[{\"type\":\"scatterpolargl\",\"marker\":{\"colorbar\":{\"outlinewidth\":0,\"ticks\":\"\"}}}],\"bar\":[{\"error_x\":{\"color\":\"#2a3f5f\"},\"error_y\":{\"color\":\"#2a3f5f\"},\"marker\":{\"line\":{\"color\":\"#E5ECF6\",\"width\":0.5},\"pattern\":{\"fillmode\":\"overlay\",\"size\":10,\"solidity\":0.2}},\"type\":\"bar\"}],\"scattergeo\":[{\"type\":\"scattergeo\",\"marker\":{\"colorbar\":{\"outlinewidth\":0,\"ticks\":\"\"}}}],\"scatterpolar\":[{\"type\":\"scatterpolar\",\"marker\":{\"colorbar\":{\"outlinewidth\":0,\"ticks\":\"\"}}}],\"histogram\":[{\"marker\":{\"pattern\":{\"fillmode\":\"overlay\",\"size\":10,\"solidity\":0.2}},\"type\":\"histogram\"}],\"scattergl\":[{\"type\":\"scattergl\",\"marker\":{\"colorbar\":{\"outlinewidth\":0,\"ticks\":\"\"}}}],\"scatter3d\":[{\"type\":\"scatter3d\",\"line\":{\"colorbar\":{\"outlinewidth\":0,\"ticks\":\"\"}},\"marker\":{\"colorbar\":{\"outlinewidth\":0,\"ticks\":\"\"}}}],\"scattermapbox\":[{\"type\":\"scattermapbox\",\"marker\":{\"colorbar\":{\"outlinewidth\":0,\"ticks\":\"\"}}}],\"scatterternary\":[{\"type\":\"scatterternary\",\"marker\":{\"colorbar\":{\"outlinewidth\":0,\"ticks\":\"\"}}}],\"scattercarpet\":[{\"type\":\"scattercarpet\",\"marker\":{\"colorbar\":{\"outlinewidth\":0,\"ticks\":\"\"}}}],\"carpet\":[{\"aaxis\":{\"endlinecolor\":\"#2a3f5f\",\"gridcolor\":\"white\",\"linecolor\":\"white\",\"minorgridcolor\":\"white\",\"startlinecolor\":\"#2a3f5f\"},\"baxis\":{\"endlinecolor\":\"#2a3f5f\",\"gridcolor\":\"white\",\"linecolor\":\"white\",\"minorgridcolor\":\"white\",\"startlinecolor\":\"#2a3f5f\"},\"type\":\"carpet\"}],\"table\":[{\"cells\":{\"fill\":{\"color\":\"#EBF0F8\"},\"line\":{\"color\":\"white\"}},\"header\":{\"fill\":{\"color\":\"#C8D4E3\"},\"line\":{\"color\":\"white\"}},\"type\":\"table\"}],\"barpolar\":[{\"marker\":{\"line\":{\"color\":\"#E5ECF6\",\"width\":0.5},\"pattern\":{\"fillmode\":\"overlay\",\"size\":10,\"solidity\":0.2}},\"type\":\"barpolar\"}],\"pie\":[{\"automargin\":true,\"type\":\"pie\"}]},\"layout\":{\"autotypenumbers\":\"strict\",\"colorway\":[\"#636efa\",\"#EF553B\",\"#00cc96\",\"#ab63fa\",\"#FFA15A\",\"#19d3f3\",\"#FF6692\",\"#B6E880\",\"#FF97FF\",\"#FECB52\"],\"font\":{\"color\":\"#2a3f5f\"},\"hovermode\":\"closest\",\"hoverlabel\":{\"align\":\"left\"},\"paper_bgcolor\":\"white\",\"plot_bgcolor\":\"#E5ECF6\",\"polar\":{\"bgcolor\":\"#E5ECF6\",\"angularaxis\":{\"gridcolor\":\"white\",\"linecolor\":\"white\",\"ticks\":\"\"},\"radialaxis\":{\"gridcolor\":\"white\",\"linecolor\":\"white\",\"ticks\":\"\"}},\"ternary\":{\"bgcolor\":\"#E5ECF6\",\"aaxis\":{\"gridcolor\":\"white\",\"linecolor\":\"white\",\"ticks\":\"\"},\"baxis\":{\"gridcolor\":\"white\",\"linecolor\":\"white\",\"ticks\":\"\"},\"caxis\":{\"gridcolor\":\"white\",\"linecolor\":\"white\",\"ticks\":\"\"}},\"coloraxis\":{\"colorbar\":{\"outlinewidth\":0,\"ticks\":\"\"}},\"colorscale\":{\"sequential\":[[0.0,\"#0d0887\"],[0.1111111111111111,\"#46039f\"],[0.2222222222222222,\"#7201a8\"],[0.3333333333333333,\"#9c179e\"],[0.4444444444444444,\"#bd3786\"],[0.5555555555555556,\"#d8576b\"],[0.6666666666666666,\"#ed7953\"],[0.7777777777777778,\"#fb9f3a\"],[0.8888888888888888,\"#fdca26\"],[1.0,\"#f0f921\"]],\"sequentialminus\":[[0.0,\"#0d0887\"],[0.1111111111111111,\"#46039f\"],[0.2222222222222222,\"#7201a8\"],[0.3333333333333333,\"#9c179e\"],[0.4444444444444444,\"#bd3786\"],[0.5555555555555556,\"#d8576b\"],[0.6666666666666666,\"#ed7953\"],[0.7777777777777778,\"#fb9f3a\"],[0.8888888888888888,\"#fdca26\"],[1.0,\"#f0f921\"]],\"diverging\":[[0,\"#8e0152\"],[0.1,\"#c51b7d\"],[0.2,\"#de77ae\"],[0.3,\"#f1b6da\"],[0.4,\"#fde0ef\"],[0.5,\"#f7f7f7\"],[0.6,\"#e6f5d0\"],[0.7,\"#b8e186\"],[0.8,\"#7fbc41\"],[0.9,\"#4d9221\"],[1,\"#276419\"]]},\"xaxis\":{\"gridcolor\":\"white\",\"linecolor\":\"white\",\"ticks\":\"\",\"title\":{\"standoff\":15},\"zerolinecolor\":\"white\",\"automargin\":true,\"zerolinewidth\":2},\"yaxis\":{\"gridcolor\":\"white\",\"linecolor\":\"white\",\"ticks\":\"\",\"title\":{\"standoff\":15},\"zerolinecolor\":\"white\",\"automargin\":true,\"zerolinewidth\":2},\"scene\":{\"xaxis\":{\"backgroundcolor\":\"#E5ECF6\",\"gridcolor\":\"white\",\"linecolor\":\"white\",\"showbackground\":true,\"ticks\":\"\",\"zerolinecolor\":\"white\",\"gridwidth\":2},\"yaxis\":{\"backgroundcolor\":\"#E5ECF6\",\"gridcolor\":\"white\",\"linecolor\":\"white\",\"showbackground\":true,\"ticks\":\"\",\"zerolinecolor\":\"white\",\"gridwidth\":2},\"zaxis\":{\"backgroundcolor\":\"#E5ECF6\",\"gridcolor\":\"white\",\"linecolor\":\"white\",\"showbackground\":true,\"ticks\":\"\",\"zerolinecolor\":\"white\",\"gridwidth\":2}},\"shapedefaults\":{\"line\":{\"color\":\"#2a3f5f\"}},\"annotationdefaults\":{\"arrowcolor\":\"#2a3f5f\",\"arrowhead\":0,\"arrowwidth\":1},\"geo\":{\"bgcolor\":\"white\",\"landcolor\":\"#E5ECF6\",\"subunitcolor\":\"white\",\"showland\":true,\"showlakes\":true,\"lakecolor\":\"white\"},\"title\":{\"x\":0.05},\"mapbox\":{\"style\":\"light\"}}},\"legend\":{\"tracegroupgap\":0},\"margin\":{\"t\":60}},                        {\"responsive\": true}                    ).then(function(){\n",
              "                            \n",
              "var gd = document.getElementById('275fcc24-0f38-4291-bef1-ce8f01d1588c');\n",
              "var x = new MutationObserver(function (mutations, observer) {{\n",
              "        var display = window.getComputedStyle(gd).display;\n",
              "        if (!display || display === 'none') {{\n",
              "            console.log([gd, 'removed!']);\n",
              "            Plotly.purge(gd);\n",
              "            observer.disconnect();\n",
              "        }}\n",
              "}});\n",
              "\n",
              "// Listen for the removal of the full notebook cells\n",
              "var notebookContainer = gd.closest('#notebook-container');\n",
              "if (notebookContainer) {{\n",
              "    x.observe(notebookContainer, {childList: true});\n",
              "}}\n",
              "\n",
              "// Listen for the clearing of the current output cell\n",
              "var outputEl = gd.closest('.output');\n",
              "if (outputEl) {{\n",
              "    x.observe(outputEl, {childList: true});\n",
              "}}\n",
              "\n",
              "                        })                };                            </script>        </div>\n",
              "</body>\n",
              "</html>"
            ]
          },
          "metadata": {}
        }
      ]
    },
    {
      "cell_type": "markdown",
      "source": [
        "##**From this obsevation we can say that Men is doing more compared to Female with respect to job and also men**"
      ],
      "metadata": {
        "id": "2eaCsHCh1iRk"
      }
    },
    {
      "cell_type": "code",
      "source": [
        "data_train['education'].unique()"
      ],
      "metadata": {
        "colab": {
          "base_uri": "https://localhost:8080/"
        },
        "id": "EV5Kb8821oXi",
        "outputId": "110b3cbd-46ed-4ef2-8469-2e83463cce3b"
      },
      "execution_count": 28,
      "outputs": [
        {
          "output_type": "execute_result",
          "data": {
            "text/plain": [
              "array([ 1, 11,  7, 15,  0, 14,  5,  9, 12,  4,  8,  6, 10,  2,  3, 13])"
            ]
          },
          "metadata": {},
          "execution_count": 28
        }
      ]
    },
    {
      "cell_type": "code",
      "source": [
        "fig=px.histogram(data_train,x='occupation',y='Salary',text_auto=True,color='occupation')\n",
        "fig.show()"
      ],
      "metadata": {
        "colab": {
          "base_uri": "https://localhost:8080/",
          "height": 542
        },
        "id": "uS8klGVU1gLb",
        "outputId": "f92f9d9a-e35d-47d1-f3df-7b005247f7af"
      },
      "execution_count": 29,
      "outputs": [
        {
          "output_type": "display_data",
          "data": {
            "text/html": [
              "<html>\n",
              "<head><meta charset=\"utf-8\" /></head>\n",
              "<body>\n",
              "    <div>            <script src=\"https://cdnjs.cloudflare.com/ajax/libs/mathjax/2.7.5/MathJax.js?config=TeX-AMS-MML_SVG\"></script><script type=\"text/javascript\">if (window.MathJax && window.MathJax.Hub && window.MathJax.Hub.Config) {window.MathJax.Hub.Config({SVG: {font: \"STIX-Web\"}});}</script>                <script type=\"text/javascript\">window.PlotlyConfig = {MathJaxConfig: 'local'};</script>\n",
              "        <script charset=\"utf-8\" src=\"https://cdn.plot.ly/plotly-2.24.1.min.js\"></script>                <div id=\"92d2c1b4-ba28-4c6e-be20-1e32f8cf9882\" class=\"plotly-graph-div\" style=\"height:525px; width:100%;\"></div>            <script type=\"text/javascript\">                                    window.PLOTLYENV=window.PLOTLYENV || {};                                    if (document.getElementById(\"92d2c1b4-ba28-4c6e-be20-1e32f8cf9882\")) {                    Plotly.newPlot(                        \"92d2c1b4-ba28-4c6e-be20-1e32f8cf9882\",                        [{\"alignmentgroup\":\"True\",\"bingroup\":\"x\",\"histfunc\":\"sum\",\"hovertemplate\":\"occupation=%{x}\\u003cbr\\u003esum of Salary=%{y}\\u003cextra\\u003e\\u003c\\u002fextra\\u003e\",\"legendgroup\":\"6\",\"marker\":{\"color\":\"#636efa\",\"pattern\":{\"shape\":\"\"}},\"name\":\"6\",\"offsetgroup\":\"6\",\"orientation\":\"v\",\"showlegend\":true,\"texttemplate\":\"%{value}\",\"x\":[6,6,6,6,6,6,6,6,6,6,6,6,6,6,6,6,6,6,6,6,6,6,6,6,6,6,6,6,6,6,6,6,6,6,6,6,6,6,6,6,6,6,6,6,6,6,6,6,6,6,6,6,6,6,6,6,6,6,6,6,6,6,6,6,6,6,6,6,6,6,6,6,6,6,6,6,6,6,6,6,6,6,6,6,6,6,6,6,6,6,6,6,6,6,6,6,6,6,6,6,6,6,6,6,6,6,6,6,6,6,6,6,6,6,6,6,6,6,6,6,6,6,6,6,6,6,6,6,6,6,6,6,6,6,6,6,6,6,6,6,6,6,6,6,6,6,6,6,6,6,6,6,6,6,6,6,6,6,6,6,6,6,6,6,6,6,6,6,6,6,6,6,6,6,6,6,6,6,6,6,6,6,6,6,6,6,6,6,6,6,6,6,6,6,6,6,6,6,6,6,6,6,6,6,6,6,6,6,6,6,6,6,6,6,6,6,6,6,6,6,6,6,6,6,6,6,6,6,6,6,6,6,6,6,6,6,6,6,6,6,6,6,6,6,6,6,6,6,6,6,6,6,6,6,6,6,6,6,6,6,6,6,6,6,6,6,6,6,6,6,6,6,6,6,6,6,6,6,6,6,6,6,6,6,6,6,6,6,6,6,6,6,6,6,6,6,6,6,6,6,6,6,6,6,6,6,6,6,6,6,6,6,6,6,6,6,6,6,6,6,6,6,6,6,6,6,6,6,6,6,6,6,6,6,6,6,6,6,6,6,6,6,6,6,6,6,6,6,6,6,6,6,6,6,6,6,6,6,6,6,6,6,6,6,6,6,6,6,6,6,6,6,6,6,6,6,6,6,6,6,6,6,6,6,6,6,6,6,6,6,6,6,6,6,6,6,6,6,6,6,6,6,6,6,6,6,6,6,6,6,6,6,6,6,6,6,6,6,6,6,6,6,6,6,6,6,6,6,6,6,6,6,6,6,6,6,6,6,6,6,6,6,6,6,6,6,6,6,6,6,6,6,6,6,6,6,6,6,6,6,6,6,6,6,6,6,6,6,6,6,6,6,6,6,6,6,6,6,6,6,6,6,6,6,6,6,6,6,6,6,6,6,6,6,6,6,6,6,6,6,6,6,6,6,6,6,6,6,6,6,6,6,6,6,6,6,6,6,6,6,6,6,6,6,6,6,6,6,6,6,6,6,6,6,6,6,6,6,6,6,6,6,6,6,6,6,6,6,6,6,6,6,6,6,6,6,6,6,6,6,6,6,6,6,6,6,6,6,6,6,6,6,6,6,6,6,6,6,6,6,6,6,6,6,6,6,6,6,6,6,6,6,6,6,6,6,6,6,6,6,6,6,6,6,6,6,6,6,6,6,6,6,6,6,6,6,6,6,6,6,6,6,6,6,6,6,6,6,6,6,6,6,6,6,6,6,6,6,6,6,6,6,6,6,6,6,6,6,6,6,6,6,6,6,6,6,6,6,6,6,6,6,6,6,6,6,6,6,6,6,6,6,6,6,6,6,6,6,6,6,6,6,6,6,6,6,6,6,6,6,6,6,6,6,6,6,6,6,6,6,6,6,6,6,6,6,6,6,6,6,6,6,6,6,6,6,6,6,6,6,6,6,6,6,6,6,6,6,6,6,6,6,6,6,6,6,6,6,6,6,6,6,6,6,6,6,6,6,6,6,6,6,6,6,6,6,6,6,6,6,6,6,6,6,6,6,6,6,6,6,6,6,6,6,6,6,6,6,6,6,6,6,6,6,6,6,6,6,6,6,6,6,6,6,6,6,6,6,6,6,6,6,6,6,6,6,6,6,6,6,6,6,6,6,6,6,6,6,6,6,6,6,6,6,6,6,6,6,6,6,6,6,6,6,6,6,6,6,6,6,6,6,6,6,6,6,6,6,6,6,6,6,6,6,6,6,6,6,6,6,6,6,6,6,6,6,6,6,6,6,6,6,6,6,6,6,6,6,6,6,6,6,6,6,6,6,6,6,6,6,6,6,6,6,6,6,6,6,6,6,6,6,6,6,6,6,6,6,6,6,6,6,6,6,6,6,6,6,6,6,6,6,6,6,6,6,6,6,6,6,6,6,6,6,6,6,6,6,6,6,6,6,6,6,6,6,6,6,6,6,6,6,6,6,6,6,6,6,6,6,6,6,6,6,6,6,6,6,6,6,6,6,6,6,6,6,6,6,6,6,6,6,6,6,6,6,6,6,6,6,6,6,6,6,6,6,6,6,6,6,6,6,6,6],\"xaxis\":\"x\",\"y\":[0,1,1,1,0,0,0,0,0,0,0,0,0,0,0,0,0,0,0,1,0,0,0,0,0,0,0,0,0,0,0,1,0,0,0,0,0,0,0,0,0,0,0,0,0,0,0,1,0,0,0,0,0,0,0,0,0,0,0,0,0,0,0,0,0,0,0,0,0,1,0,0,1,0,0,0,0,0,0,0,1,0,0,0,0,0,0,0,0,0,0,0,0,0,0,0,0,0,1,0,0,0,0,0,1,0,0,0,0,0,0,0,0,0,0,0,1,0,0,0,1,0,0,0,0,0,0,0,0,0,0,0,0,0,0,0,0,1,0,0,0,0,0,0,0,0,0,0,0,0,0,0,1,0,1,0,0,0,0,0,0,1,0,0,1,0,0,0,0,0,0,0,0,0,0,0,0,0,0,0,1,0,0,0,0,0,0,0,1,1,0,0,1,0,0,0,0,0,0,0,0,0,0,1,0,0,0,0,0,0,0,0,0,0,0,1,0,0,0,0,0,0,0,1,1,0,0,0,0,0,0,0,0,1,0,0,0,0,0,0,0,0,1,0,0,0,0,0,0,0,0,0,0,0,0,0,0,1,0,0,1,0,0,0,0,0,0,1,0,0,0,0,0,0,0,0,0,0,0,1,0,0,0,0,0,0,0,0,0,0,0,0,0,0,1,0,0,1,0,0,0,0,1,0,0,0,0,0,0,0,0,1,1,0,0,0,0,0,0,0,0,0,0,0,0,0,0,0,1,0,0,0,0,0,0,0,0,0,0,0,0,0,0,0,0,0,0,0,1,0,0,0,0,0,0,0,0,0,0,0,0,0,0,0,0,0,0,0,0,0,0,0,0,0,0,0,0,0,1,0,0,0,0,0,0,0,0,0,1,0,0,0,0,1,0,0,0,0,0,0,1,0,0,0,0,0,0,0,0,0,0,0,0,0,0,0,0,0,0,0,0,0,0,0,0,0,0,1,0,0,0,0,1,0,0,1,1,0,1,0,0,0,0,0,1,0,0,1,0,0,0,0,0,0,0,0,0,0,0,1,0,0,0,0,0,0,0,0,0,0,0,0,0,0,0,0,0,0,0,0,0,0,1,0,1,0,0,1,0,1,0,0,0,0,0,0,0,0,1,0,0,0,0,0,1,0,0,1,0,0,1,0,0,0,0,1,0,0,0,0,0,0,0,0,0,0,0,0,0,0,0,0,1,0,0,0,0,0,0,1,0,0,0,0,0,0,0,0,0,0,0,0,0,0,0,1,0,0,0,0,0,0,0,0,0,0,0,0,0,0,0,0,0,0,0,0,0,0,0,1,1,0,1,0,0,0,0,0,0,0,0,0,0,0,1,0,0,0,0,0,0,0,0,0,1,0,0,1,0,1,0,0,0,0,0,0,0,0,0,0,0,0,0,0,0,0,0,0,0,0,0,0,0,0,1,0,0,0,0,0,0,0,0,0,0,0,0,0,0,0,0,0,0,0,0,0,0,1,0,0,0,0,0,0,0,0,0,0,0,0,0,1,1,0,0,0,0,0,0,1,0,0,1,0,0,0,0,0,0,0,0,0,0,0,1,0,0,1,0,0,1,1,1,0,0,0,0,0,0,0,0,0,0,0,0,0,0,0,0,0,0,0,0,0,0,0,0,0,0,0,0,0,0,0,0,0,1,1,0,0,0,0,0,0,0,0,0,0,0,0,0,0,0,0,0,0,0,0,0,0,0,0,0,0,0,0,0,0,0,0,0,1,0,0,0,0,0,0,0,1,0,0,0,0,0,0,0,0,0,0,0,0,1,0,0,0,0,0,0,0,1,0,0,0,0,0,0,1,1,0,0,0,0,0,0,0,0,0,0,0,0,0,0,0,1,0,0,0,0,0,0,0,0,0,0,0,0,0,0,1,0,0,0,0,0,1,1,0,0,0,0,0,0,0,0,1,0,0,0,0,0,1,0,0,0,1,0,0,0,0,0,1,1,0,0,0,0,0,0,0,0,0,1,0,0,0,1,0,0,0,0,0,1,0,0,0,0,1,1,0,0,0,0,1,0,0,0,1,0,0,0,0,0,1,0,1,0,0,0,0,0,1,1,0,0,0,0,0,0,1,0,0,0,0,0,0,0,0,0,1,0,0,0,1,0,1,0,0,1,0,0,0,1,0,0,0,0,0,0,0,1,0,0,0,0,0,0,0,0,0,0,0,0,1,0,0,0,0,0,0,0,0,0,0,0,0,0,1,0,0,0,0,0,1,0,0,0,0,0,0,1,0,0,0],\"yaxis\":\"y\",\"type\":\"histogram\"},{\"alignmentgroup\":\"True\",\"bingroup\":\"x\",\"histfunc\":\"sum\",\"hovertemplate\":\"occupation=%{x}\\u003cbr\\u003esum of Salary=%{y}\\u003cextra\\u003e\\u003c\\u002fextra\\u003e\",\"legendgroup\":\"4\",\"marker\":{\"color\":\"#EF553B\",\"pattern\":{\"shape\":\"\"}},\"name\":\"4\",\"offsetgroup\":\"4\",\"orientation\":\"v\",\"showlegend\":true,\"texttemplate\":\"%{value}\",\"x\":[4,4,4,4,4,4,4,4,4,4,4,4,4,4,4,4,4,4,4,4,4,4,4,4,4,4,4,4,4,4,4,4,4,4,4,4,4,4,4,4,4,4,4,4,4,4,4,4,4,4,4,4,4,4,4,4,4,4,4,4,4,4,4,4,4,4,4,4,4,4,4,4,4,4,4,4,4,4,4,4,4,4,4,4,4,4,4,4,4,4,4,4,4,4,4,4,4,4,4,4,4,4,4,4,4,4,4,4,4,4,4,4,4,4,4,4,4,4,4,4,4,4,4,4,4,4,4,4,4,4,4,4,4,4,4,4,4,4,4,4,4,4,4,4,4,4,4,4,4,4,4,4,4,4,4,4,4,4,4,4,4,4,4,4,4,4,4,4,4,4,4,4,4,4,4,4,4,4,4,4,4,4,4,4,4,4,4,4,4,4,4,4,4,4,4,4,4,4,4,4,4,4,4,4,4,4,4,4,4,4,4,4,4,4,4,4,4,4,4,4,4,4,4,4,4,4,4,4,4,4,4,4,4,4,4,4,4,4,4,4,4,4,4,4,4,4,4,4,4,4,4,4,4,4,4,4,4,4,4,4,4,4,4,4,4,4,4,4,4,4,4,4,4,4,4,4,4,4,4,4,4,4,4,4,4,4,4,4,4,4,4,4,4,4,4,4,4,4,4,4,4,4,4,4,4,4,4,4,4,4,4,4,4,4,4,4,4,4,4,4,4,4,4,4,4,4,4,4,4,4,4,4,4,4,4,4,4,4,4,4,4,4,4,4,4,4,4,4,4,4,4,4,4,4,4,4,4,4,4,4,4,4,4,4,4,4,4,4,4,4,4,4,4,4,4,4,4,4,4,4,4,4,4,4,4,4,4,4,4,4,4,4,4,4,4,4,4,4,4,4,4,4,4,4,4,4,4,4,4,4,4,4,4,4,4,4,4,4,4,4,4,4,4,4,4,4,4,4,4,4,4,4,4,4,4,4,4,4,4,4,4,4,4,4,4,4,4,4,4,4,4,4,4,4,4,4,4,4,4,4,4,4,4,4,4,4,4,4,4,4,4,4,4,4,4,4,4,4,4,4,4,4,4,4,4,4,4,4,4,4,4],\"xaxis\":\"x\",\"y\":[0,0,0,0,0,1,0,1,0,0,0,0,0,0,0,1,0,0,0,0,1,0,0,0,0,0,0,0,0,0,0,0,1,0,0,0,0,0,0,0,0,1,0,0,0,0,0,0,0,0,0,0,0,0,0,0,1,0,0,0,0,0,0,0,0,0,0,0,0,1,0,0,0,0,1,0,0,0,0,0,0,0,0,0,0,0,0,0,0,1,0,0,0,0,0,0,1,0,0,1,1,0,0,0,1,0,0,0,0,0,0,1,0,0,0,0,0,0,0,0,0,1,1,0,0,0,0,0,0,0,0,0,0,0,0,0,0,0,0,0,0,0,0,0,0,0,0,0,0,1,0,1,0,0,0,0,0,0,0,0,0,0,0,1,1,0,0,0,0,1,0,0,0,0,0,0,1,0,0,0,1,0,0,0,0,0,0,0,0,0,0,0,0,0,1,0,1,0,0,0,0,0,0,0,1,0,0,0,0,0,1,0,1,0,0,0,1,0,0,0,0,0,0,0,0,0,0,0,1,0,0,0,0,0,0,0,0,0,0,0,0,0,0,0,0,0,0,0,0,0,0,0,0,0,0,0,0,0,0,0,0,0,0,1,0,0,0,1,0,0,0,0,1,0,0,0,0,0,0,0,0,0,1,0,0,0,0,0,1,0,0,0,0,0,1,0,0,0,0,0,0,0,0,0,0,0,0,0,0,0,0,0,0,0,0,0,0,0,0,1,0,0,1,0,0,0,0,0,0,1,1,0,0,0,0,0,0,0,0,0,0,0,0,0,0,0,0,0,0,0,0,1,0,0,1,0,0,0,0,0,0,0,0,0,0,0,0,0,0,0,0,0,0,0,0,0,0,0,0,0,0,0,0,0,0,0,0,0,0,0,1,0,0,1,0,0,0,0,1,0,0,0,0,0,0,0,0,0,0,0,0,0,0,1,0,0,0,0,0,0,0,1,0,0,0,0,0,0,0,0,1,1,0,0,0,1,0,0,0,0,0,0,0,0,1,0,0,0,1,0,0,1,0,0,0,0,1,0,0,0,1,0,0,0,0,0,0,0,0,0,0,0,1,0,0,0,0,0,0,0,0,0,0,0,0,0,0,0,0,0,0],\"yaxis\":\"y\",\"type\":\"histogram\"},{\"alignmentgroup\":\"True\",\"bingroup\":\"x\",\"histfunc\":\"sum\",\"hovertemplate\":\"occupation=%{x}\\u003cbr\\u003esum of Salary=%{y}\\u003cextra\\u003e\\u003c\\u002fextra\\u003e\",\"legendgroup\":\"10\",\"marker\":{\"color\":\"#00cc96\",\"pattern\":{\"shape\":\"\"}},\"name\":\"10\",\"offsetgroup\":\"10\",\"orientation\":\"v\",\"showlegend\":true,\"texttemplate\":\"%{value}\",\"x\":[10,10,10,10,10,10,10,10,10,10,10,10,10,10,10,10,10,10,10,10,10,10,10,10,10,10,10,10,10,10,10,10,10,10,10,10,10,10,10,10,10,10,10,10,10,10,10,10,10,10,10,10,10,10,10,10,10,10,10,10,10,10,10,10,10,10,10,10,10,10,10,10,10,10,10,10,10,10,10,10,10,10,10,10,10,10,10,10,10,10,10,10,10,10,10,10,10,10,10,10,10,10,10,10,10,10,10,10,10,10,10,10,10,10,10,10,10,10,10,10,10,10,10,10,10,10,10,10,10,10,10,10,10,10,10,10,10,10,10,10,10,10,10,10,10,10,10,10,10,10,10,10,10,10,10,10,10,10,10,10,10,10,10,10,10,10,10,10,10,10,10,10,10,10,10,10,10,10,10,10,10,10,10,10,10,10,10,10,10,10,10,10,10,10,10,10,10,10,10,10,10,10,10,10,10,10,10,10,10,10,10,10,10,10,10,10,10,10,10,10,10,10,10,10,10,10,10,10,10,10,10,10,10,10,10,10,10,10,10,10,10,10,10,10,10,10,10,10,10,10,10,10,10,10,10,10,10,10,10,10,10,10,10,10,10,10,10,10,10,10,10,10,10,10,10,10,10,10,10,10,10,10,10,10,10,10,10,10,10,10,10,10,10,10,10,10,10,10,10,10,10,10,10,10,10,10,10,10,10,10,10,10,10,10,10,10,10,10,10,10,10,10,10,10,10,10,10,10,10,10,10,10],\"xaxis\":\"x\",\"y\":[1,0,0,0,1,0,1,0,0,0,0,0,0,0,1,1,1,0,0,0,0,0,0,0,0,1,1,1,1,1,0,1,0,1,0,1,0,0,0,0,1,0,0,0,0,0,0,1,0,0,0,1,0,0,0,1,1,0,0,0,1,1,0,0,1,0,0,1,0,1,0,0,0,1,1,0,1,1,0,0,0,1,0,0,0,0,0,1,0,0,1,0,0,0,0,0,0,0,0,0,0,0,1,0,1,0,1,0,0,0,1,1,0,0,0,0,0,1,0,0,1,1,0,0,0,0,0,1,1,0,1,0,0,1,0,0,1,0,0,0,0,0,0,0,0,1,0,0,0,0,0,0,0,0,1,0,0,1,0,0,1,1,1,0,1,0,0,0,1,0,0,0,0,0,0,0,0,1,0,1,0,0,0,0,1,0,0,0,0,1,0,0,1,0,0,0,0,0,0,0,0,0,1,0,0,0,0,1,1,0,1,0,1,0,0,0,0,0,0,0,1,0,0,0,1,0,0,0,0,0,1,1,1,1,1,1,1,0,0,0,0,0,0,0,0,0,0,0,0,0,0,0,1,0,0,0,0,0,0,1,1,0,0,0,1,1,0,0,0,0,0,0,0,0,0,0,0,1,0,0,0,0,0,0,1,0,1,1,0,0,0,0,1,1,0,0,0,1,1,1,0,0,0,0,1,1,1,0,0,0,0,1,1,1,0,0,1,0,0,0,0,1,0,1,1,0,1,0,1,0,0,0],\"yaxis\":\"y\",\"type\":\"histogram\"},{\"alignmentgroup\":\"True\",\"bingroup\":\"x\",\"histfunc\":\"sum\",\"hovertemplate\":\"occupation=%{x}\\u003cbr\\u003esum of Salary=%{y}\\u003cextra\\u003e\\u003c\\u002fextra\\u003e\",\"legendgroup\":\"7\",\"marker\":{\"color\":\"#ab63fa\",\"pattern\":{\"shape\":\"\"}},\"name\":\"7\",\"offsetgroup\":\"7\",\"orientation\":\"v\",\"showlegend\":true,\"texttemplate\":\"%{value}\",\"x\":[7,7,7,7,7,7,7,7,7,7,7,7,7,7,7,7,7,7,7,7,7,7,7,7,7,7,7,7,7,7,7,7,7,7,7,7,7,7,7,7,7,7,7,7,7,7,7,7,7,7,7,7,7,7,7,7,7,7,7,7,7,7,7,7,7,7,7,7,7,7,7,7,7,7,7,7,7,7,7,7,7,7,7,7,7,7,7,7,7,7,7,7,7,7,7,7,7,7,7,7,7,7,7,7,7,7,7,7,7,7,7,7,7,7,7,7,7,7,7,7,7,7,7,7,7,7,7,7,7,7,7,7,7,7,7,7,7,7,7,7,7,7,7,7,7,7,7,7,7,7,7,7,7,7,7,7,7,7,7,7,7,7,7,7,7,7,7,7,7,7,7,7,7,7,7,7,7,7,7,7,7,7,7,7,7,7,7,7,7,7,7,7,7,7,7,7,7,7,7,7,7,7,7,7,7,7,7,7,7,7,7,7,7,7,7,7,7,7,7,7,7,7,7,7,7,7,7,7,7,7,7,7,7,7,7,7,7,7,7,7,7,7,7,7,7,7,7,7,7,7,7,7,7,7,7,7,7,7,7,7,7,7,7,7,7,7,7,7,7,7,7,7,7,7,7,7,7,7,7,7,7,7,7,7,7,7,7,7,7,7,7,7,7,7,7,7,7,7,7,7,7,7,7,7,7,7,7,7,7,7,7,7,7,7,7,7,7,7,7,7,7,7,7,7,7,7,7,7,7,7,7,7,7,7,7,7,7,7,7,7,7,7,7,7,7,7,7,7,7,7,7,7,7,7,7,7,7,7,7,7,7,7,7,7,7,7,7,7,7,7,7,7,7,7,7,7,7,7,7,7,7,7,7,7,7,7,7,7,7,7,7,7,7,7,7,7,7,7,7,7,7,7,7,7,7,7,7,7,7,7,7,7,7,7,7,7,7,7,7,7,7,7,7,7,7,7,7,7,7,7,7,7,7,7,7,7,7,7,7,7,7,7,7,7,7,7,7,7,7,7,7,7,7,7,7,7,7,7,7,7,7,7,7,7,7,7,7,7,7,7,7,7,7,7,7,7,7,7,7,7,7,7,7,7,7,7,7,7,7,7,7,7,7,7,7,7,7,7,7,7,7,7,7,7,7,7,7,7,7,7,7,7,7,7,7,7,7,7,7,7,7,7,7,7,7,7,7,7,7,7,7,7,7,7,7,7,7,7,7,7,7,7,7,7,7,7,7,7,7,7,7,7,7,7,7,7,7,7,7,7,7,7,7,7,7,7,7,7,7,7,7,7,7,7,7,7,7,7,7,7,7,7,7,7,7,7,7,7,7,7,7,7,7,7,7,7,7,7,7,7,7,7,7,7,7,7,7,7,7,7,7,7,7,7,7,7,7,7,7,7,7,7,7,7,7,7,7,7,7,7,7,7,7,7,7,7,7,7,7,7,7,7,7,7,7,7,7,7,7,7,7,7,7,7,7,7,7,7,7,7,7,7,7,7,7,7,7,7,7,7,7,7,7,7,7,7,7,7,7,7,7,7,7,7,7,7,7,7,7,7,7,7,7,7,7,7,7,7,7,7,7,7,7,7,7,7,7,7,7,7,7,7,7,7,7,7,7,7,7,7,7,7,7,7,7,7,7,7,7,7,7,7,7,7,7,7,7,7,7,7,7,7,7,7,7,7,7,7,7,7,7,7,7,7,7,7,7,7,7,7,7,7,7,7,7,7,7,7,7,7,7,7,7,7,7,7,7,7,7,7,7,7,7,7,7,7,7,7,7,7,7,7,7,7,7,7,7,7,7,7,7,7,7,7,7,7,7,7,7,7,7,7,7,7,7,7,7,7,7,7,7,7,7,7,7,7,7,7,7,7,7,7,7,7,7,7,7,7,7,7,7,7,7,7,7,7,7,7,7,7,7,7,7,7,7,7,7,7,7,7,7,7,7,7,7,7,7,7,7,7,7,7,7,7,7,7,7,7,7,7,7,7,7,7,7,7,7,7,7,7,7,7,7,7,7,7,7,7,7,7,7,7,7,7,7,7,7,7,7,7,7,7,7,7,7,7,7,7,7,7,7,7,7,7,7,7,7,7,7,7,7,7,7,7,7,7,7,7,7,7,7,7,7,7,7,7,7,7,7,7,7,7,7,7,7,7,7,7,7,7,7,7,7,7,7,7,7,7,7,7,7,7,7,7,7,7,7,7,7,7,7,7,7,7,7,7,7,7,7,7,7,7,7,7,7,7,7,7,7,7,7,7,7,7,7,7,7,7,7,7,7,7,7,7,7,7,7,7,7,7,7,7,7,7,7,7,7,7,7,7,7,7,7,7,7,7,7,7,7,7,7,7,7,7,7,7,7,7,7,7,7,7,7,7,7,7,7,7,7,7,7,7,7,7,7,7,7,7,7,7,7,7,7,7,7,7,7,7,7,7,7,7,7,7,7,7,7,7,7,7,7,7,7,7,7,7,7,7,7,7,7,7,7,7,7,7,7,7,7,7,7,7,7,7,7,7,7,7,7,7,7,7,7,7,7,7,7,7,7,7,7,7,7,7,7,7,7,7,7,7,7,7,7,7,7,7,7,7,7,7,7,7,7,7,7,7,7,7,7,7,7,7,7,7,7,7,7,7,7,7,7,7,7,7,7,7,7,7,7,7,7,7,7,7,7,7,7,7,7,7,7,7,7,7,7,7,7,7,7,7,7,7,7,7,7,7,7,7,7,7,7,7,7,7,7,7,7,7,7,7,7,7,7,7,7,7,7,7,7,7,7,7,7,7,7,7,7,7,7,7,7,7,7,7,7,7,7,7,7,7,7,7,7,7,7,7,7,7,7,7,7,7,7,7,7,7,7,7,7,7,7,7,7,7,7,7,7,7,7,7,7,7,7,7,7,7,7,7,7,7,7,7,7,7,7,7,7,7,7,7,7,7,7,7,7,7,7,7,7,7,7,7,7,7,7,7,7,7,7,7,7,7,7,7,7,7,7,7,7,7,7,7,7,7,7,7,7,7,7,7,7,7,7,7,7,7,7,7,7,7,7,7,7,7,7,7,7,7,7,7,7,7,7,7,7,7,7,7,7,7,7,7,7,7,7,7,7,7,7,7,7,7,7,7,7,7,7,7,7,7,7,7,7,7,7,7,7,7,7,7,7,7,7,7,7,7,7,7,7,7,7,7,7,7,7,7,7,7,7,7,7,7,7,7,7,7,7,7,7,7,7,7,7,7,7,7,7,7,7,7,7,7,7,7,7,7,7,7,7,7,7,7,7,7,7,7,7,7,7,7,7,7,7,7,7,7,7,7,7,7,7,7,7,7,7,7,7,7,7,7,7,7,7,7,7,7,7,7,7,7,7,7,7,7,7,7,7,7,7,7,7,7,7,7,7,7,7,7,7,7,7,7,7,7,7,7,7,7,7,7,7,7,7,7,7,7,7,7,7,7,7,7,7,7,7,7,7,7,7,7,7,7,7,7,7,7,7,7,7,7,7,7,7,7,7,7,7,7,7,7,7,7,7,7,7,7,7,7,7,7,7,7,7,7,7,7,7,7,7,7,7,7,7,7,7,7,7,7,7,7,7,7,7,7,7,7],\"xaxis\":\"x\",\"y\":[0,0,0,0,0,0,0,0,1,0,0,0,0,0,0,0,0,0,0,0,0,0,0,0,0,0,0,0,0,0,0,0,1,0,0,0,0,0,1,0,0,0,0,0,0,0,0,0,0,0,0,0,0,0,0,0,0,0,0,0,0,0,0,0,1,0,0,0,0,0,0,0,0,0,0,0,0,0,0,0,0,0,0,0,0,0,0,0,0,0,0,0,0,0,1,0,0,0,0,0,1,0,0,0,0,0,0,0,0,0,0,0,0,0,1,0,0,0,0,0,0,0,0,0,0,0,0,0,0,0,0,0,0,0,0,0,0,0,0,0,0,0,0,0,0,0,0,0,0,0,0,1,0,0,0,0,0,0,0,0,0,0,0,0,0,0,0,0,0,0,0,0,0,0,0,0,0,0,0,0,0,0,0,0,0,0,0,0,0,0,0,0,0,1,1,0,0,0,0,0,0,0,0,0,1,0,0,0,0,1,0,0,0,0,0,0,0,0,0,0,0,0,0,0,0,0,0,0,0,0,0,0,0,0,0,0,0,1,1,0,0,0,0,0,0,0,0,0,0,0,0,0,0,0,0,0,0,0,0,0,0,0,0,0,0,0,0,0,0,0,0,0,0,0,0,0,0,0,0,0,0,0,0,0,0,0,0,0,0,0,0,0,0,0,0,0,0,0,0,1,1,0,0,0,0,0,0,0,0,0,0,0,0,0,0,0,0,0,0,0,0,0,0,0,0,0,0,0,0,0,0,0,0,0,0,0,0,0,0,0,0,0,0,0,0,0,0,0,0,0,0,0,0,0,0,0,0,0,0,0,1,0,0,0,0,0,0,0,0,0,0,0,0,0,0,0,0,0,0,0,0,0,0,0,0,1,0,0,0,0,0,0,0,0,0,0,0,0,0,0,0,0,0,0,0,0,0,0,0,0,0,0,0,0,0,0,0,0,0,0,0,0,0,0,0,0,0,0,0,0,0,0,0,0,0,0,0,0,1,0,0,0,0,0,0,0,0,0,0,0,0,0,0,0,0,0,0,0,0,0,0,0,0,0,0,0,0,0,0,0,0,0,0,0,0,0,0,0,0,0,0,0,0,0,0,0,0,0,0,0,0,0,0,0,0,0,0,0,0,0,0,0,0,0,0,0,0,0,0,0,1,0,0,0,0,0,0,0,0,0,0,0,0,0,0,0,0,0,0,0,0,0,0,0,0,0,0,0,0,0,0,0,0,0,0,0,0,0,0,0,0,0,0,0,0,0,0,0,0,0,0,0,0,1,1,0,0,0,0,0,0,0,0,0,0,0,0,1,0,0,0,0,0,0,0,0,0,0,0,0,0,0,1,0,0,0,0,0,0,0,0,0,0,0,0,0,0,0,0,1,0,0,0,0,0,0,0,0,0,0,0,0,0,0,0,0,0,0,0,0,0,0,0,0,0,0,0,0,0,0,0,0,0,0,0,0,0,0,0,0,1,0,0,0,0,0,0,0,0,0,0,0,0,0,0,0,0,0,0,0,0,0,0,0,0,0,0,0,0,0,0,0,0,0,0,0,0,0,0,0,0,0,0,0,0,0,0,0,0,0,0,0,0,0,0,0,0,0,0,0,1,0,0,0,0,0,0,0,0,0,0,0,0,0,0,0,0,0,0,0,0,1,0,0,0,0,0,0,0,0,0,0,0,0,0,0,0,0,0,0,0,0,0,0,0,0,0,0,0,0,0,0,0,0,0,0,0,0,0,0,0,0,0,1,0,0,1,0,0,0,0,0,0,0,0,0,0,0,0,0,0,0,0,0,0,0,0,0,0,0,0,0,0,0,0,0,0,0,0,0,0,0,0,0,0,0,0,0,0,0,0,0,0,0,0,0,0,0,0,0,0,0,0,0,0,0,0,0,0,0,0,0,0,1,0,0,0,0,0,0,0,0,0,0,0,0,0,0,0,0,0,0,0,0,0,1,0,0,0,0,0,0,0,0,0,0,0,0,0,0,0,0,0,0,0,0,0,0,0,0,0,0,0,0,0,0,0,0,0,0,0,0,0,0,0,0,0,0,0,0,0,0,0,0,0,0,0,0,0,0,0,0,0,0,0,0,0,0,0,0,0,0,0,0,0,0,0,0,0,0,0,0,0,0,1,0,0,0,0,0,0,0,0,1,0,0,0,0,0,0,0,0,0,0,0,0,0,1,0,0,0,0,0,0,0,0,0,0,0,0,0,1,0,0,0,0,0,0,0,0,0,0,0,0,0,0,0,0,0,0,0,0,0,0,0,0,0,0,0,0,0,0,0,0,0,0,0,0,0,0,0,0,0,0,0,0,0,0,0,0,0,0,0,0,0,0,0,0,0,0,0,0,0,0,0,0,0,0,0,0,1,0,0,0,0,0,0,0,0,0,0,0,0,0,0,0,0,0,1,0,0,0,0,0,0,0,0,0,0,0,0,0,0,0,0,0,0,0,0,0,0,0,1,0,0,0,0,0,0,0,0,0,0,0,1,0,0,0,0,0,0,0,0,0,0,0,0,0,0,0,0,0,0,0,0,0,0,0,0,0,0,0,0,0,0,0,0,0,0,0,0,0,0,0,0,0,0,0,0,0,0,0,0,0,0,0,0,0,0,0,0,0,0,0,0,0,0,0,0,1,0,0,0,0,0,0,0,0,0,0,0,0,0,0,0,0,0,0,0,0,0,0,0,0,0,0,0,0,0,0,0,0,0,0,0,0,0,0,0,0,0,0,0,0,0,0,0,0,1,0,0,0,0,0,0,0,0,1,0,0,0,0,0,0,1,1,0,0,0,0,0,0,0,0,0,0,1,0,0,0,0,1,0,0,0,0,1,0,0,0,0,0,1,0,0,0,0,0,0,0,0,0,0,0,0,0,0,0,0,0,0,0,0,0,0,0,0,0,0,0,0,0,0,0,0,0,0,0,0,0,0,0,0,0,0,0,0,0,0,0,0,0,0,0,0,0,0,0,0,0,0,1,0,0,0,0,0,0,0,0,0,0,0,0,0,0,0,0,0,0,0,0,0,0,0,0,0,0,0,0,0,0,0,0,0,0,0,0,0,0,0,1,0,0,0,0,0,0,0,0,1,0,0,0,0,0,0,0,0,0,0,0,0,0,0,0,0,0,0,0,0,0,0,0,0,0,0,1,0,0,0,0,0,0,0,1,0,0,0,0,0,0,0,0,0,0,0,1,0,0,0,0,0,1,0,0,0,0,0,0,0,0,0,0,0,0,0,0,0,0,0,0,0,0,0,0,0,0,0,0,0,0,0,0,0,1,0,0,0,0,0,1,0,0,0,0,0,0,0,0,0,0,0,0,0,0,0,0,0,0,0,0,0,0,0,0,0,0,0,0,0,0,0,0,0,0,0,0,0,0,0,0,0,0,0,0,0,0,0,0,0,0,0,0,0,1,0,0,0,0,0,0,0,0,0,0,0,0,0,0,0,0,0,0,0,1,0,0,1,0,0,0,0,0,0,1,0,0,0,0,1,0,0,0,0,0,0,0,0,0,0,0,0,0,0,0,0,0,0,0,0,0,0,0,0,0,0,0,1,0,0,0,0,0,0,0,0,0,0,0,0,0,0,0,0,0],\"yaxis\":\"y\",\"type\":\"histogram\"},{\"alignmentgroup\":\"True\",\"bingroup\":\"x\",\"histfunc\":\"sum\",\"hovertemplate\":\"occupation=%{x}\\u003cbr\\u003esum of Salary=%{y}\\u003cextra\\u003e\\u003c\\u002fextra\\u003e\",\"legendgroup\":\"9\",\"marker\":{\"color\":\"#FFA15A\",\"pattern\":{\"shape\":\"\"}},\"name\":\"9\",\"offsetgroup\":\"9\",\"orientation\":\"v\",\"showlegend\":true,\"texttemplate\":\"%{value}\",\"x\":[9,9,9,9,9,9,9,9,9,9,9,9,9,9,9,9,9,9,9,9,9,9,9,9,9,9,9,9,9,9,9,9,9,9,9,9,9,9,9,9,9,9,9,9,9,9,9,9,9,9,9,9,9,9,9,9,9,9,9,9,9,9,9,9,9,9,9,9,9,9,9,9,9,9,9,9,9,9,9,9,9,9,9,9,9,9,9,9,9,9,9,9,9,9,9,9,9,9,9,9,9,9,9,9,9,9,9,9,9,9,9,9,9,9,9,9,9,9,9,9,9,9,9,9,9,9,9,9,9,9,9,9,9,9,9,9,9,9,9,9,9,9,9,9,9,9,9,9,9,9,9,9,9,9,9,9,9,9,9,9,9,9,9,9,9,9,9,9,9,9,9,9,9,9,9,9,9,9,9,9,9,9,9,9,9,9,9,9,9,9,9,9,9,9,9,9,9,9,9,9,9,9,9,9,9,9,9,9,9,9,9,9,9,9,9,9,9,9,9,9,9,9,9,9,9,9,9,9,9,9,9,9,9,9,9,9,9,9,9,9,9,9,9,9,9,9,9,9,9,9,9,9,9,9,9,9,9,9,9,9,9,9,9,9,9,9,9,9,9,9,9,9,9,9,9,9,9,9,9,9,9,9,9,9,9,9,9,9,9,9,9,9,9,9,9,9,9,9,9,9,9,9,9,9,9,9,9,9,9,9,9,9,9,9,9,9,9,9,9,9,9,9,9,9,9,9,9,9,9,9,9,9,9,9,9,9,9,9,9,9,9,9,9,9,9,9,9,9,9,9,9,9,9,9,9,9,9,9,9,9,9,9,9,9,9,9,9,9,9,9,9,9,9,9,9,9,9,9,9,9,9,9,9,9,9,9,9,9,9,9,9,9,9,9,9,9,9,9,9,9,9,9,9,9,9,9,9,9,9,9,9,9,9,9,9,9,9,9,9,9,9,9,9,9,9,9,9,9,9,9,9,9,9,9,9,9,9,9,9,9,9,9,9,9,9,9,9,9,9,9,9,9,9,9,9,9,9,9,9,9,9,9,9,9,9,9,9,9,9,9,9,9,9,9,9,9,9,9,9,9,9,9,9,9,9,9,9,9,9,9,9,9,9,9,9,9,9,9,9,9,9,9,9,9,9,9,9,9,9,9,9,9,9,9,9,9,9,9,9,9,9,9,9,9,9,9,9,9,9,9,9,9,9,9,9,9,9,9,9,9,9,9,9,9,9,9,9,9,9,9,9,9,9,9,9,9,9,9,9,9,9,9,9,9,9,9,9,9,9,9,9,9,9,9,9,9,9,9,9,9,9,9,9,9,9,9,9,9,9,9,9,9,9,9,9,9,9,9,9,9,9,9,9,9,9,9,9,9,9,9,9,9,9,9,9,9,9,9,9,9,9,9,9,9,9,9,9,9,9,9,9,9,9,9,9,9,9,9,9,9,9,9,9,9,9,9,9,9,9,9,9,9,9,9,9,9,9,9,9,9,9,9,9,9,9,9,9,9,9,9,9,9,9,9,9,9,9,9,9,9,9,9,9,9,9,9,9,9,9,9,9,9,9,9,9,9,9,9,9,9,9,9,9,9,9,9,9,9,9,9,9,9,9,9,9,9,9,9,9,9,9,9,9,9,9,9,9,9,9,9,9,9,9,9,9,9,9,9,9,9,9,9,9,9,9,9,9,9,9,9,9,9,9,9,9,9,9,9,9,9,9,9,9,9,9,9,9,9,9,9,9,9,9,9,9,9,9,9,9,9,9,9,9,9,9,9,9,9,9,9,9,9,9,9,9,9,9,9,9,9,9,9,9,9,9,9,9,9,9,9,9,9,9,9,9,9,9,9,9,9,9,9,9,9,9,9,9,9,9,9,9,9,9,9,9,9,9,9,9,9,9,9,9,9,9,9,9,9,9,9,9,9,9,9,9,9,9,9,9,9,9,9,9,9,9,9,9,9,9,9,9,9,9,9,9,9,9,9,9,9,9,9,9,9,9,9,9,9,9,9,9,9,9,9,9,9,9,9,9,9,9,9,9,9,9,9,9,9,9,9,9,9,9,9,9,9,9,9,9,9,9,9,9,9,9,9,9,9,9,9,9,9,9,9,9,9,9,9,9,9,9,9,9,9,9,9,9,9,9,9,9,9,9,9,9,9,9,9,9,9,9,9,9,9,9,9,9,9,9,9,9,9,9,9,9,9,9,9,9,9,9,9,9,9,9,9,9,9,9,9,9,9,9,9,9,9,9,9,9,9,9,9,9,9,9,9,9,9,9,9,9,9,9,9,9,9,9,9,9,9,9,9,9,9,9,9,9,9,9,9,9,9,9,9,9,9,9,9,9,9,9,9,9,9,9,9,9,9,9,9,9,9,9,9,9,9,9,9,9,9,9,9,9,9,9,9,9,9,9,9,9,9,9,9,9,9,9,9,9,9,9,9,9,9,9,9,9,9,9,9,9,9,9,9,9,9,9,9,9,9,9,9,9,9,9,9,9,9,9,9,9,9,9,9,9,9,9,9,9,9,9,9,9,9,9,9,9,9,9,9,9,9,9,9,9,9,9,9,9,9,9,9,9,9,9,9,9,9,9,9,9,9,9,9,9,9,9,9,9,9,9,9,9,9,9,9,9,9,9,9,9,9,9,9,9,9,9,9,9,9,9,9,9,9,9,9,9,9,9,9,9,9,9,9,9,9,9,9,9,9,9,9,9,9,9,9,9,9,9,9,9,9,9,9,9,9,9,9,9,9,9,9,9,9,9,9,9,9,9,9,9,9,9,9,9,9,9,9,9,9,9,9,9,9,9,9,9,9,9,9,9,9,9,9,9,9,9,9,9,9,9,9,9,9,9,9,9,9,9,9,9,9,9,9,9,9,9,9,9,9,9,9,9,9,9,9,9,9,9,9,9,9,9,9,9,9,9,9,9,9,9,9,9,9,9,9,9,9,9,9,9,9,9,9,9,9,9,9,9,9,9,9,9,9,9,9,9,9,9,9,9,9,9,9,9,9,9,9,9,9,9,9,9,9,9,9,9,9,9,9,9,9,9,9,9,9,9,9,9,9,9,9,9,9,9,9,9,9,9,9,9,9,9,9,9,9,9,9,9,9,9,9,9,9,9,9,9,9,9,9,9,9,9,9,9,9,9,9,9,9,9,9,9,9,9,9,9,9,9,9,9,9,9,9,9,9,9,9,9,9,9,9,9,9,9,9,9,9,9,9,9,9,9,9,9,9,9,9,9,9,9,9,9,9,9,9,9,9,9,9,9,9,9,9,9,9,9,9,9,9,9,9,9,9,9,9,9,9,9,9,9,9,9,9,9,9,9,9,9,9,9,9,9,9,9,9,9,9,9,9,9,9,9,9,9,9,9,9,9,9,9,9,9,9,9,9,9,9,9,9,9,9,9,9,9,9,9,9,9,9,9,9,9,9,9,9,9,9,9,9,9,9,9,9,9,9,9,9,9,9,9,9,9,9,9,9,9,9,9,9,9,9,9,9,9,9,9,9,9,9,9,9,9,9,9,9,9,9,9,9,9,9,9,9,9,9,9,9,9,9,9,9,9,9,9,9,9,9,9,9,9,9,9,9,9,9,9,9,9,9,9,9,9,9,9,9,9,9,9,9,9,9,9,9,9,9,9,9,9,9,9,9,9,9,9,9,9,9,9,9,9,9,9,9,9,9,9,9,9,9,9,9,9,9,9,9,9,9,9,9,9,9,9,9,9,9,9,9,9,9,9,9,9,9,9,9,9,9,9,9,9,9,9,9,9,9,9,9,9,9,9,9,9,9,9,9,9,9,9,9,9,9,9,9,9,9,9,9,9,9,9,9,9,9,9,9,9,9,9,9,9,9,9,9,9,9,9,9,9,9,9,9,9,9,9,9,9,9,9,9,9,9,9,9,9,9,9,9,9,9,9,9,9,9,9,9,9,9,9,9,9,9,9,9,9,9,9,9,9,9,9,9,9,9,9,9,9,9,9,9,9,9,9,9,9,9,9,9,9,9,9,9,9,9,9,9,9,9,9,9,9,9,9,9,9,9,9,9,9,9,9,9,9,9,9,9,9,9,9,9,9,9,9,9,9,9,9,9,9,9,9,9,9,9,9,9,9,9,9,9,9,9,9,9,9,9,9,9,9,9,9,9,9,9,9,9,9,9,9,9,9,9,9,9,9,9,9,9,9,9,9,9,9,9,9,9,9,9,9,9,9,9,9,9,9,9,9,9,9,9,9,9,9,9,9,9,9,9,9,9,9,9,9,9,9,9,9,9,9,9,9,9,9,9,9,9,9,9,9,9,9,9,9,9,9,9,9,9,9,9,9,9,9,9,9,9,9,9,9,9,9,9,9,9,9,9,9,9,9,9,9,9,9,9,9,9,9,9,9,9,9,9,9,9,9,9,9,9,9,9,9,9,9,9,9,9,9,9,9,9],\"xaxis\":\"x\",\"y\":[1,0,0,0,1,1,1,1,0,1,0,1,1,0,0,0,1,1,0,1,0,1,0,1,1,1,0,1,0,0,0,0,0,1,1,1,1,1,0,0,1,0,1,0,1,0,1,0,1,1,1,0,0,0,0,0,1,0,1,0,1,0,1,1,1,1,0,0,1,1,1,1,0,0,1,1,0,0,1,0,0,0,1,1,1,0,0,0,0,1,1,0,0,0,0,1,1,1,0,0,1,0,0,1,1,1,1,0,0,1,0,0,0,1,1,0,0,1,1,1,0,0,0,1,0,0,0,0,1,1,0,0,1,1,1,1,0,0,1,1,1,0,1,1,1,0,1,0,0,1,0,0,0,0,1,0,0,0,0,0,0,0,1,0,1,1,1,0,0,0,1,0,0,1,0,0,0,0,0,0,1,1,1,0,0,0,0,0,1,0,1,1,0,0,1,1,1,0,0,0,0,0,1,1,0,1,0,1,1,0,0,1,0,1,1,0,0,0,0,1,1,0,1,1,0,0,1,0,0,1,0,0,1,1,1,0,0,0,0,0,1,1,1,1,1,0,0,0,1,1,1,1,0,1,0,0,0,1,0,1,0,1,1,0,1,0,1,1,0,1,0,0,1,1,1,0,1,1,1,1,0,0,1,1,0,0,1,0,0,1,0,1,0,1,1,1,1,1,1,0,0,1,1,0,0,1,1,0,0,1,0,0,1,0,0,1,0,0,0,0,0,1,1,1,0,0,1,0,0,1,0,0,1,1,1,1,0,0,0,1,0,1,1,0,0,1,1,1,0,1,0,1,1,0,1,1,0,1,1,0,0,0,0,0,0,0,0,0,1,1,0,0,0,1,1,0,0,1,0,0,0,1,0,1,0,0,1,1,1,0,0,0,1,1,1,1,0,0,0,0,0,0,0,0,1,0,0,1,1,0,0,1,0,0,1,0,0,0,1,0,0,0,1,1,1,0,0,1,0,0,1,0,1,0,1,0,1,0,0,0,0,0,0,0,1,1,1,1,1,0,1,0,0,0,1,0,0,1,0,1,0,1,1,1,0,1,0,0,1,0,1,0,0,0,0,1,0,1,0,1,0,1,0,1,0,0,1,0,0,1,0,0,1,1,0,1,1,0,0,0,1,0,1,0,1,0,0,1,1,0,1,0,1,0,1,1,1,0,0,0,1,1,1,0,0,0,1,0,0,0,1,0,1,0,0,1,0,1,1,1,0,0,1,1,1,0,0,1,0,0,0,0,1,0,0,0,1,0,1,1,0,1,0,0,1,0,0,0,0,1,0,1,0,0,0,0,0,1,0,0,1,0,1,1,0,1,1,1,0,1,1,1,0,0,0,0,0,0,1,1,0,0,0,1,0,0,1,1,0,1,0,0,1,1,1,1,0,1,1,1,1,0,1,1,1,0,0,0,1,0,0,1,1,0,1,0,1,1,1,1,0,0,0,0,0,1,1,0,1,0,0,1,1,0,0,0,0,0,1,0,0,0,1,1,0,0,0,0,0,0,1,1,1,0,0,0,1,1,1,0,1,1,0,0,1,1,0,1,0,1,0,0,1,0,0,1,0,1,1,0,1,1,0,1,0,0,1,0,1,0,0,0,0,0,0,1,1,0,0,0,1,1,1,0,1,1,1,0,1,0,0,0,0,0,0,0,0,1,1,0,0,0,1,1,0,0,1,1,0,0,0,1,0,1,1,0,0,0,0,1,0,0,1,1,1,0,1,0,0,1,0,1,1,0,1,0,0,0,1,0,1,1,0,1,1,0,0,0,0,0,0,0,0,1,1,0,0,1,1,0,1,0,1,0,0,0,1,0,1,1,1,1,0,0,0,0,0,0,0,1,0,0,1,1,1,0,0,0,1,0,0,0,0,1,0,0,0,1,0,0,1,1,1,0,0,0,1,1,0,0,0,0,1,0,0,0,0,0,1,1,0,1,0,1,0,1,1,0,1,1,0,1,1,0,1,0,0,0,1,1,0,0,1,1,0,0,0,1,0,0,0,0,0,0,0,0,0,0,0,0,1,0,1,1,1,0,0,0,0,1,0,0,1,0,1,0,1,0,0,1,0,0,0,0,1,1,1,0,1,1,1,1,0,0,1,0,1,1,0,1,0,0,0,1,1,1,1,0,0,0,1,0,1,0,0,1,0,1,0,0,0,0,1,0,1,0,0,0,1,0,1,0,0,0,1,1,0,0,1,1,1,0,0,0,0,1,0,0,0,1,1,0,1,0,1,1,0,1,1,0,0,0,1,0,0,0,1,0,1,0,1,1,0,0,0,0,1,1,1,1,0,0,0,0,0,1,0,0,1,1,1,0,1,0,0,0,0,0,1,0,0,0,1,1,0,1,0,1,1,1,0,1,0,0,0,0,0,1,1,0,1,0,0,0,0,0,0,1,1,1,1,1,1,0,1,0,1,1,0,1,0,1,0,1,0,1,0,1,1,0,1,1,0,1,0,0,0,0,0,0,0,1,1,0,1,0,0,1,1,0,1,0,0,0,0,0,0,0,0,0,0,1,1,0,1,1,0,0,0,0,0,0,1,1,0,0,0,0,0,1,0,1,1,1,1,0,1,1,0,1,0,1,1,1,1,0,0,0,1,1,0,0,0,1,1,1,1,0,0,1,1,0,1,1,1,0,1,1,1,0,1,0,0,0,0,0,0,0,1,0,1,0,1,1,0,1,1,1,1,1,0,0,0,1,0,0,1,0,1,1,0,1,0,1,1,1,1,1,1,1,0,1,0,0,1,0,1,1,0,1,1,0,1,1,1,0,0,1,0,1,1,0,0,1,0,0,1,0,1,0,1,0,0,0,0,1,0,0,0,1,0,0,0,1,1,0,1,1,1,0,0,0,1,0,1,0,1,0,1,0,1,1,1,0,1,1,0,0,1,0,1,0,0,0,1,0,1,1,1,0,1,1,0,1,1,0,1,0,0,0,0,1,1,0,1,1,1,0,0,0,0,0,0,1,1,1,0,1,1,0,0,1,0,1,0,0,0,0,1,1,1,1,1,0,0,0,0,0,0,1,0,0,0,0,0,1,0,1,0,0,1,0,0,0,0,0,1,1,0,1,1,0,0,1,0,0,0,1,0,0,1,0,1,1,0,0,0,0,0,1,0,0,0,0,0,0,1,0,1,0,1,0,1,0,0,1,0,1,0,0,0,0,0,1,0,1,0,0,0,1,0,1,0,1,1,1,1,0,0,0,0,1,1,1,0,0,1,0,1,0,1,1,0,0,1,0,1,0,0,1,1,0,0,1,0,1,1,1,0,0,0,0,0,0,1,1,0,0,1,1,1,1,1,0,0,0,0,0,1,0,0,1,0,0,0,0,1,0,1,0,0,0,0,1,1,0,1,1,1,0,0,0,1,1,1,0,1,1,1,0,1,1,0,0,0,0,0,0,1,1,1,1,1,1,0,1,0,0,1,1,0,0,1,1,0,1,0,0,1,0,0,0,0,1,0,1,0,0,1,0,0,1,1,0,0,1,0,1,0,1,0,1,1,0,1,1,1,1,1,0,1,0,0,0,1,0,0,0,0,1,0,0,1,0,0,1,0,0,0,0,1,0,0,0,0,1,0,1,0,0,0,1,1,0,0,1,0,0,1,1,0,1,1,1,1,1,0,0,0,0,1,1,1,1,1,1,1,1,1,0,0,1,1,1,1,0,0,0,0,0,0,1,1,1,1,1,0,1,0,1,0,1,1,1,1,1,0,1,1,1,1,0,1,1,0,0,1,1,0,1,0,0,0,0,1,1,0,0,1,1,1,0,1,1,1,1,1,1,0,1,1,0,1,0,1,1,0,1,1,1,1,0,0,0,0,1,1,0,1,1,1,1,1,0,0,1,0,0,0,1,1,1,0,1,0,1,0,1,1,1,0,1,0,1,0,0,0,0,1,1,0,0,1,1,0,0,0,0,1,1,0,0,0,1,0,0,0,1,0,1,0,1,1,0,0,1,1,1,0,0,1,0,0,1,0,1,1,0,1,0,1,1,0,1,0,0,0,1,0,1,1,1,0,0,1,0,1,1,1,0,0,0,0,0,1,0,1,1,1,1,0,1,0,0,1,0,1,0,1,1,0,0,0,1,0,0,0,0,0,0,1,0,1,0,0,1,0,0,1,0,1,1,0,0,0,1,0,0,0,0,0,0,1,0,1,1,0,0,1,0,0,0,1,0,1,1,1,1,1,1,1,1,1,1,0,1,1,1,0,0,1,0,0,1,1,0,1,0,1,0,0,0,0,0,1,1,0,1,1,0,0,0,1,1,0,0,0,0,1,1,0,1,0,0,0,0,1,0,0,1,0,1,1,0,1,0,1,1,1,1,1,0,1,0,0,0,1,0,0,0,1,0,1,0,0,1,0,0,1,0,1,0,1,0,0,0,0,0,1,0,0,1,1,1,1,1,0,0,0,0],\"yaxis\":\"y\",\"type\":\"histogram\"},{\"alignmentgroup\":\"True\",\"bingroup\":\"x\",\"histfunc\":\"sum\",\"hovertemplate\":\"occupation=%{x}\\u003cbr\\u003esum of Salary=%{y}\\u003cextra\\u003e\\u003c\\u002fextra\\u003e\",\"legendgroup\":\"2\",\"marker\":{\"color\":\"#19d3f3\",\"pattern\":{\"shape\":\"\"}},\"name\":\"2\",\"offsetgroup\":\"2\",\"orientation\":\"v\",\"showlegend\":true,\"texttemplate\":\"%{value}\",\"x\":[2,2,2,2,2,2,2,2,2,2,2,2,2,2,2,2,2,2,2,2,2,2,2,2,2,2,2,2,2,2,2,2,2,2,2,2,2,2,2,2,2,2,2,2,2,2,2,2,2,2,2,2,2,2,2,2,2,2,2,2,2,2,2,2,2,2,2,2,2,2,2,2,2,2,2,2,2,2,2,2,2,2,2,2,2,2,2,2,2,2,2,2,2,2,2,2,2,2,2,2,2,2,2,2,2,2,2,2,2,2,2,2,2,2,2,2,2,2,2,2,2,2,2,2,2,2,2,2,2,2,2,2,2,2,2,2,2,2,2,2,2,2,2,2,2,2,2,2,2,2,2,2,2,2,2,2,2,2,2,2,2,2,2,2,2,2,2,2,2,2,2,2,2,2,2,2,2,2,2,2,2,2,2,2,2,2,2,2,2,2,2,2,2,2,2,2,2,2,2,2,2,2,2,2,2,2,2,2,2,2,2,2,2,2,2,2,2,2,2,2,2,2,2,2,2,2,2,2,2,2,2,2,2,2,2,2,2,2,2,2,2,2,2,2,2,2,2,2,2,2,2,2,2,2,2,2,2,2,2,2,2,2,2,2,2,2,2,2,2,2,2,2,2,2,2,2,2,2,2,2,2,2,2,2,2,2,2,2,2,2,2,2,2,2,2,2,2,2,2,2,2,2,2,2,2,2,2,2,2,2,2,2,2,2,2,2,2,2,2,2,2,2,2,2,2,2,2,2,2,2,2,2,2,2,2,2,2,2,2,2,2,2,2,2,2,2,2,2,2,2,2,2,2,2,2,2,2,2,2,2,2,2,2,2,2,2,2,2,2,2,2,2,2,2,2,2,2,2,2,2,2,2,2,2,2,2,2,2,2,2,2,2,2,2,2,2,2,2,2,2,2,2,2,2,2,2,2,2,2,2,2,2,2,2,2,2,2,2,2,2,2,2,2,2,2,2,2,2,2,2,2,2,2,2,2,2,2,2,2,2,2,2,2,2,2,2,2,2,2,2,2,2,2,2,2,2,2,2,2,2,2,2,2,2,2,2,2,2,2,2,2,2,2,2,2,2,2,2,2,2,2,2,2,2,2,2,2,2,2,2,2,2,2,2,2,2,2,2,2,2,2,2,2,2,2,2,2,2,2,2,2,2,2,2,2,2,2,2,2,2,2,2,2,2,2,2,2,2,2,2,2,2,2,2,2,2,2,2,2,2,2,2,2,2,2,2,2,2,2,2,2,2,2,2,2,2,2,2,2,2,2,2,2,2,2,2,2,2,2,2,2,2,2,2,2,2,2,2,2,2,2,2,2,2,2,2,2,2,2,2,2,2,2,2,2,2,2,2,2,2,2,2,2,2,2,2,2,2,2,2,2,2,2,2,2,2,2,2,2,2,2,2,2,2,2,2,2,2,2,2,2,2,2,2,2,2,2,2,2,2,2,2,2,2,2,2,2,2,2,2,2,2,2,2,2,2,2,2,2,2,2,2,2,2,2,2,2,2,2,2,2,2,2,2,2,2,2,2,2,2,2,2,2,2,2,2,2,2,2,2,2,2,2,2,2,2,2,2,2,2,2,2,2,2,2,2,2,2,2,2,2,2,2,2,2,2,2,2,2,2,2,2,2,2,2,2,2,2,2,2,2,2,2,2,2,2,2,2,2,2,2,2,2,2,2,2,2,2,2,2,2,2,2,2,2,2,2,2,2,2,2,2,2,2,2,2,2,2,2,2,2,2,2,2,2,2,2,2,2,2,2,2,2,2,2,2,2,2,2,2,2,2,2,2,2,2,2,2,2,2,2,2,2,2,2,2,2,2,2,2,2,2,2,2,2,2,2,2,2,2,2,2,2,2,2,2,2,2,2,2,2,2,2,2,2,2,2,2,2,2,2,2,2,2,2,2,2,2,2,2,2,2,2,2,2,2,2,2,2,2,2,2,2,2,2,2,2,2,2,2,2,2,2,2,2,2,2,2,2,2,2,2,2,2,2,2,2,2,2,2,2,2,2,2,2,2,2,2,2,2,2,2,2,2,2,2,2,2,2,2,2,2,2,2,2,2,2,2,2,2,2,2,2,2,2,2,2,2,2,2,2,2,2,2,2,2,2,2,2,2,2,2,2,2,2,2,2,2,2,2,2,2,2,2,2,2,2,2,2,2,2,2,2,2,2,2,2,2,2,2,2,2,2,2,2,2,2,2,2,2,2,2,2,2,2,2,2,2,2,2,2,2,2,2,2,2,2,2,2,2,2,2,2,2,2,2,2,2,2,2,2,2,2,2,2,2,2,2,2,2,2,2,2,2,2,2,2,2,2,2,2,2,2,2,2,2,2,2,2,2,2,2,2,2,2,2,2,2,2,2,2,2,2,2,2,2,2,2,2,2,2,2,2,2,2,2,2,2,2,2,2,2,2,2,2,2,2,2,2,2,2,2,2,2,2,2,2,2,2,2,2,2,2,2,2,2,2,2,2,2,2,2,2,2,2,2,2,2,2,2,2,2,2,2,2,2,2,2,2,2,2,2,2,2,2,2,2,2,2,2,2,2,2,2,2,2,2,2,2,2,2,2,2,2,2,2,2,2,2,2,2,2,2,2,2,2,2,2,2,2,2,2,2,2,2,2,2,2,2,2,2,2,2,2,2,2,2,2,2,2,2,2,2,2,2,2,2,2,2,2,2,2,2,2,2,2,2,2,2,2,2,2,2,2,2,2,2,2,2,2,2,2,2,2,2,2,2,2,2,2,2,2,2,2,2,2,2,2,2,2,2,2,2,2,2,2,2,2,2,2,2,2,2,2,2,2,2,2,2,2,2,2,2,2,2,2,2,2,2,2,2,2,2,2,2,2,2,2,2,2,2,2,2,2,2,2,2,2,2,2,2,2,2,2,2,2,2,2,2,2,2,2,2,2,2,2,2,2,2,2,2,2,2,2,2,2,2,2,2,2,2,2,2,2,2,2,2,2,2,2,2,2,2,2,2,2,2,2,2,2,2,2,2,2,2,2,2,2,2,2,2,2,2,2,2,2,2,2,2,2,2,2,2,2,2,2,2,2,2,2,2,2,2,2,2,2,2,2,2,2,2,2,2,2,2,2,2,2,2,2,2,2,2,2,2,2,2,2,2,2,2,2,2,2,2,2,2,2,2,2,2,2,2,2,2,2,2,2,2,2,2,2,2,2,2,2,2,2,2,2,2,2,2,2,2,2,2,2,2,2,2,2,2,2,2,2,2,2,2,2,2,2,2,2,2,2,2,2,2,2,2,2,2,2,2,2,2,2,2,2,2,2,2,2,2,2,2,2,2,2,2,2,2,2,2,2,2,2,2,2,2,2,2,2,2,2,2,2,2,2,2,2,2,2,2,2,2,2,2,2,2,2,2,2,2,2,2,2,2,2,2,2,2,2,2,2,2,2,2,2,2,2,2,2,2,2,2,2,2,2,2,2,2,2,2,2,2,2,2,2,2,2,2,2,2,2,2,2,2,2,2,2,2,2,2,2,2,2,2,2,2,2,2,2,2,2,2,2,2,2,2,2,2,2,2,2,2,2,2,2,2,2,2,2,2,2,2,2,2,2,2,2,2,2,2,2,2,2,2,2,2,2,2,2,2,2,2,2,2,2,2,2,2,2,2,2,2,2,2,2,2,2,2,2,2,2,2,2,2,2,2,2,2,2,2,2,2,2,2,2,2,2,2,2,2,2,2,2,2,2,2,2,2,2,2,2,2,2,2,2,2,2,2,2,2,2,2,2,2,2,2,2,2,2,2,2,2,2,2,2,2,2,2,2,2,2,2,2,2,2,2,2,2,2,2,2,2,2,2,2,2,2,2,2,2,2,2,2,2,2,2,2,2,2,2,2,2,2,2,2,2,2,2,2,2,2,2,2,2,2,2,2,2,2,2,2,2,2,2,2,2,2,2,2,2,2,2,2,2,2,2,2,2,2,2,2,2,2,2,2,2,2,2,2,2,2,2,2,2,2,2,2,2,2,2,2,2,2,2,2,2,2,2,2,2,2,2,2,2,2,2,2,2,2,2,2,2,2,2,2,2,2,2,2,2,2,2,2,2,2,2,2,2,2,2,2,2,2,2,2,2,2,2,2,2,2,2,2,2,2,2,2,2,2,2,2,2,2,2,2,2,2,2,2,2,2,2,2,2,2,2,2,2,2,2,2,2,2,2,2,2,2,2,2,2,2,2,2,2,2,2,2,2,2,2,2,2,2,2,2,2,2,2,2,2,2,2,2,2,2,2,2,2,2,2,2,2,2,2,2,2,2,2,2,2,2,2,2,2,2,2,2,2,2,2,2,2,2,2,2,2,2,2,2,2,2,2,2,2,2,2,2,2,2,2,2,2,2,2,2,2,2,2,2,2,2,2,2,2,2,2,2,2,2,2,2,2,2,2,2,2,2,2,2,2,2,2,2,2,2,2,2,2,2,2,2,2,2,2,2,2,2,2,2,2,2,2,2,2,2],\"xaxis\":\"x\",\"y\":[0,1,0,0,0,0,1,0,0,0,0,1,0,0,0,0,0,0,0,0,0,0,0,0,0,0,0,1,1,1,1,0,1,0,1,0,0,0,1,0,0,0,0,0,0,1,0,0,0,0,0,1,0,0,0,1,0,1,0,0,0,0,0,1,0,0,0,0,0,0,0,0,0,0,1,1,1,0,0,0,1,0,0,1,0,0,1,0,1,1,1,0,0,0,0,1,0,0,1,0,0,1,1,0,0,0,0,0,0,0,1,0,0,0,1,0,0,1,0,0,0,1,0,1,0,0,0,1,0,1,0,0,0,1,1,1,0,1,0,1,0,1,0,0,1,1,1,0,1,0,0,1,1,0,0,0,0,0,0,1,0,0,0,0,0,0,0,0,0,0,0,0,0,0,0,0,0,0,0,1,1,0,0,0,0,0,0,0,0,0,0,0,0,1,1,0,1,1,1,0,1,0,0,0,0,0,0,0,0,1,1,1,0,0,0,0,0,1,1,0,0,0,0,0,0,0,0,0,0,0,0,0,0,0,0,1,1,0,0,1,0,0,0,0,0,0,0,0,0,0,0,0,1,0,0,1,0,0,0,1,1,0,1,1,0,1,0,0,0,0,1,0,0,1,0,0,1,0,0,1,0,0,0,0,0,0,0,0,1,0,0,0,0,0,0,0,0,1,0,0,0,0,0,0,1,1,0,0,0,1,1,0,0,0,1,0,0,0,0,0,0,1,1,1,0,1,1,0,1,1,0,0,0,0,0,1,1,0,1,0,0,1,0,1,0,0,0,0,0,1,0,1,0,0,0,1,0,1,0,1,0,0,1,0,1,0,0,0,0,0,0,0,0,0,0,1,0,0,1,1,0,0,0,0,1,0,0,0,0,0,0,0,0,0,0,0,1,1,0,0,1,1,0,0,1,0,0,0,0,0,0,1,0,0,1,0,0,1,0,0,0,0,1,0,1,0,1,0,0,0,0,1,0,0,0,0,0,1,0,0,0,0,0,0,0,0,0,1,0,0,1,0,0,1,0,0,0,0,0,0,0,0,1,1,0,0,0,0,1,0,0,0,0,1,0,0,1,0,0,0,0,0,1,0,0,0,0,1,0,1,0,1,0,1,0,0,0,0,1,1,0,0,0,0,0,0,0,1,0,0,0,0,0,0,0,0,0,0,0,1,1,1,1,0,0,1,0,1,0,0,0,0,0,1,0,0,0,1,0,0,0,0,0,0,0,0,0,1,0,0,0,0,1,0,0,1,0,0,1,0,0,0,0,1,0,0,0,1,1,0,0,0,0,0,1,0,0,0,1,1,0,0,0,1,1,0,0,0,1,0,0,0,0,0,1,0,0,0,1,0,0,0,1,0,1,0,0,0,0,0,1,0,0,0,0,0,0,0,0,0,0,1,0,1,1,0,1,1,1,0,0,1,0,0,1,0,0,0,1,0,1,0,1,1,1,1,1,0,0,0,0,0,0,0,0,0,0,0,0,1,0,0,0,0,0,0,0,0,0,0,0,1,0,0,0,0,1,0,0,0,1,0,0,0,0,0,0,0,1,0,0,1,0,0,0,0,0,0,0,0,1,0,1,0,0,0,0,0,0,0,0,1,0,0,0,0,0,0,0,1,0,0,0,0,0,0,0,0,0,0,0,0,0,0,0,0,0,1,0,0,1,0,0,1,0,0,0,0,0,0,0,0,0,0,0,0,0,0,1,1,1,0,0,1,0,0,1,0,1,0,0,0,0,0,0,0,1,0,1,0,0,1,0,0,0,0,0,0,0,0,0,1,0,0,0,0,1,0,1,1,0,0,0,0,0,0,1,0,0,0,0,0,0,0,0,0,0,0,0,0,0,0,0,0,0,0,0,1,0,0,0,1,0,0,0,1,0,0,0,0,0,0,0,1,0,1,0,0,0,0,0,0,0,0,0,0,0,0,0,0,0,0,0,0,0,0,0,1,1,0,0,0,0,1,0,0,0,0,1,0,0,0,0,1,1,0,0,0,1,0,0,0,0,0,1,0,0,0,0,0,0,1,0,0,1,0,0,0,0,0,0,0,0,0,0,0,0,0,0,0,0,0,0,0,0,0,0,0,0,0,0,0,0,0,0,0,0,0,0,0,1,0,0,0,0,0,1,0,1,1,0,0,0,0,0,0,0,0,0,0,1,0,1,1,1,0,0,0,1,0,0,0,0,0,0,0,0,0,0,0,1,1,0,0,0,0,0,0,0,0,0,0,0,0,1,0,0,0,0,1,0,0,1,0,1,0,1,0,1,0,0,0,0,1,0,1,0,0,0,1,1,0,0,1,0,1,0,0,0,0,0,1,0,1,0,0,0,1,0,0,0,1,1,0,0,0,0,0,0,0,0,1,0,1,0,0,0,0,0,0,0,0,0,0,0,0,0,1,1,0,0,1,0,0,0,0,0,0,1,0,0,0,0,0,0,0,0,1,0,0,0,0,0,0,0,0,0,1,0,1,0,0,1,1,0,0,0,0,1,0,1,0,0,0,0,0,0,0,0,0,0,0,0,0,0,1,0,0,0,0,0,1,0,0,0,0,0,0,0,0,0,0,0,0,1,1,1,0,0,0,1,1,1,0,0,0,1,0,0,0,0,0,0,0,0,0,0,0,1,1,0,0,0,0,0,0,1,0,0,1,1,0,1,0,0,1,0,0,0,0,1,0,1,0,0,0,1,0,0,0,0,0,0,1,1,0,0,0,0,0,0,0,1,0,0,1,0,0,0,1,0,0,0,0,0,0,1,1,0,0,0,0,1,0,0,0,0,0,0,0,1,0,1,1,0,1,0,0,0,1,0,0,0,1,0,1,0,1,1,1,0,1,0,0,0,1,0,0,0,0,1,0,0,0,0,0,0,0,0,1,0,0,0,0,0,0,0,0,0,0,0,0,0,1,0,0,0,0,0,0,0,1,1,0,1,0,0,0,1,0,0,1,0,0,0,0,0,0,0,1,0,0,1,1,0,1,0,0,0,1,0,0,1,1,0,1,0,0,0,0,0,0,0,0,0,1,0,0,0,0,0,0,0,0,0,0,1,0,1,0,1,1,0,1,0,0,0,0,0,0,0,0,0,1,0,0,1,1,0,0,0,1,0,1,0,0,0,0,0,0,0,0,1,1,0,0,1,0,1,0,0,1,0,1,0,1,0,0,0,1,0,0,0,1,0,0,0,0,0,1,0,0,1,0,0,0,0,0,0,0,0,1,0,0,0,1,0,0,0,0,0,0,1,0,0,0,0,0,0,0,0,0,0,0,1,0,0,0,1,0,0,0,1,0,1,0,0,0,0,0,1,0,0,0,0,0,0,0,0,0,0,0,0,0,0,1,1,1,0,1,0,0,0,0,0,0,1,0,0,0,0,0,0,0,0,1,0,0,1,0,0,0,0,0,0,0,1,0,0,0,0,0,0,0,0,1,0,0,0,0,0,0,0,0,0,0,0,0,0,0,0,1,0,0,0,0,0,0,0,1,1,1,0,0,0,0,1,1,0,0,0,0,0,1,0,0,0,0,0,0,1,0,0,0,1,0,0,0,0,0,1,0,0,0,0,1,0,0,0,0,0,0,0,0,0,1,1,0,0,0,0,0,0,0,1,0,0,0,0,1,0,0,0,0,0,1,0,0,1,1,0,0,0,0,0,0,0,1,0,1,0,1,0,0,0,0,0,0,0,1,0,0,0,1,1,0,0,0,0,0,1,0,1,1,0,0,0,0,0,0,0,0,0,0,0,1,0,1,0,0,0,0,1,0,0,0,0,0,0,0,0,0,0,1,0,1,0,0,0,1,0,0,0,0,0,0,1,0,0,0,0,1,0,0,0,0,1,0,0,0,1,0,0,0,0,0,1,0,0,1,0,0,0,0,0,0,0,0,0,0,0,1,0,0,0,1,1,0,0,0,0,1,0,0,0,0,0,0,0,1,0,0,0,0,0,0,1,0,1,1,0,0,0,0,0,0,1,0,1,1,0,0,0,0,0,0,0,0,0,0,0,0,0,0,0,0,0,0,0,0,0,1,0,0,0,1,0,0,1,0,0,0,0,0,1,0,1,0,0,1,0,0,0,0,0,0,0,0,0,0,0,0,0,1,1,0,0,0,1,1,0,0,1,0,0,0,1,0,0,0,0,0,1,0,0,1,0,0,1,1,0,1,0,0,1,0,0,0,0,0,0,0,0,0,0,0,0,0,0,0,1,0,0,0,0,1,1,0,0,0,0,0,0,1,0,0,0,0,1,0,0,0,0,0,0,0,0,0,0,0,0,0,1,0,0,1,1,0,0,0,0,0,1,0,0,0,0,0,0,1,0,0,0,0,0,0,0,0,0,0,1,0,0,1,1,1,1,0,0,0,0,0,1,0,0,0,1,0,0,0,1,0,0,0,0,0,0,1,0,0,0,0,1,1,1,0,0,1,0,0,1,0,1,0,0,0,0,0,0,0,0,1,0,1,0,0,0,0,0,0],\"yaxis\":\"y\",\"type\":\"histogram\"},{\"alignmentgroup\":\"True\",\"bingroup\":\"x\",\"histfunc\":\"sum\",\"hovertemplate\":\"occupation=%{x}\\u003cbr\\u003esum of Salary=%{y}\\u003cextra\\u003e\\u003c\\u002fextra\\u003e\",\"legendgroup\":\"0\",\"marker\":{\"color\":\"#FF6692\",\"pattern\":{\"shape\":\"\"}},\"name\":\"0\",\"offsetgroup\":\"0\",\"orientation\":\"v\",\"showlegend\":true,\"texttemplate\":\"%{value}\",\"x\":[0,0,0,0,0,0,0,0,0,0,0,0,0,0,0,0,0,0,0,0,0,0,0,0,0,0,0,0,0,0,0,0,0,0,0,0,0,0,0,0,0,0,0,0,0,0,0,0,0,0,0,0,0,0,0,0,0,0,0,0,0,0,0,0,0,0,0,0,0,0,0,0,0,0,0,0,0,0,0,0,0,0,0,0,0,0,0,0,0,0,0,0,0,0,0,0,0,0,0,0,0,0,0,0,0,0,0,0,0,0,0,0,0,0,0,0,0,0,0,0,0,0,0,0,0,0,0,0,0,0,0,0,0,0,0,0,0,0,0,0,0,0,0,0,0,0,0,0,0,0,0,0,0,0,0,0,0,0,0,0,0,0,0,0,0,0,0,0,0,0,0,0,0,0,0,0,0,0,0,0,0,0,0,0,0,0,0,0,0,0,0,0,0,0,0,0,0,0,0,0,0,0,0,0,0,0,0,0,0,0,0,0,0,0,0,0,0,0,0,0,0,0,0,0,0,0,0,0,0,0,0,0,0,0,0,0,0,0,0,0,0,0,0,0,0,0,0,0,0,0,0,0,0,0,0,0,0,0,0,0,0,0,0,0,0,0,0,0,0,0,0,0,0,0,0,0,0,0,0,0,0,0,0,0,0,0,0,0,0,0,0,0,0,0,0,0,0,0,0,0,0,0,0,0,0,0,0,0,0,0,0,0,0,0,0,0,0,0,0,0,0,0,0,0,0,0,0,0,0,0,0,0,0,0,0,0,0,0,0,0,0,0,0,0,0,0,0,0,0,0,0,0,0,0,0,0,0,0,0,0,0,0,0,0,0,0,0,0,0,0,0,0,0,0,0,0,0,0,0,0,0,0,0,0,0,0,0,0,0,0,0,0,0,0,0,0,0,0,0,0,0,0,0,0,0,0,0,0,0,0,0,0,0,0,0,0,0,0,0,0,0,0,0,0,0,0,0,0,0,0,0,0,0,0,0,0,0,0,0,0,0,0,0,0,0,0,0,0,0,0,0,0,0,0,0,0,0,0,0,0,0,0,0,0,0,0,0,0,0,0,0,0,0,0,0,0,0,0,0,0,0,0,0,0,0,0,0,0,0,0,0,0,0,0,0,0,0,0,0,0,0,0,0,0,0,0,0,0,0,0,0,0,0,0,0,0,0,0,0,0,0,0,0,0,0,0,0,0,0,0,0,0,0,0,0,0,0,0,0,0,0,0,0,0,0,0,0,0,0,0,0,0,0,0,0,0,0,0,0,0,0,0,0,0,0,0,0,0,0,0,0,0,0,0,0,0,0,0,0,0,0,0,0,0,0,0,0,0,0,0,0,0,0,0,0,0,0,0,0,0,0,0,0,0,0,0,0,0,0,0,0,0,0,0,0,0,0,0,0,0,0,0,0,0,0,0,0,0,0,0,0,0,0,0,0,0,0,0,0,0,0,0,0,0,0,0,0,0,0,0,0,0,0,0,0,0,0,0,0,0,0,0,0,0,0,0,0,0,0,0,0,0,0,0,0,0,0,0,0,0,0,0,0,0,0,0,0,0,0,0,0,0,0,0,0,0,0,0,0,0,0,0,0,0,0,0,0,0,0,0,0,0,0,0,0,0,0,0,0,0,0,0,0,0,0,0,0,0,0,0,0,0,0,0,0,0,0,0,0,0,0,0,0,0,0,0,0,0,0,0,0,0,0,0,0,0,0,0,0,0,0,0,0,0,0,0,0,0,0,0,0,0,0,0,0,0,0,0,0,0,0,0,0,0,0,0,0,0,0,0,0,0,0,0,0,0,0,0,0,0,0,0,0,0,0,0,0,0,0,0,0,0,0,0,0,0,0,0,0,0,0,0,0,0,0,0,0,0,0,0,0,0,0,0,0,0,0,0,0,0,0,0,0,0,0,0,0,0,0,0,0,0,0,0,0,0,0,0,0,0,0,0,0,0,0,0,0,0,0,0,0,0,0,0,0,0,0,0,0,0,0,0,0,0,0,0,0,0,0,0,0,0,0,0,0,0,0,0,0,0,0,0,0,0,0,0,0,0,0,0,0,0,0,0,0,0,0,0,0,0,0,0,0,0,0,0,0,0,0,0,0,0,0,0,0,0,0,0,0,0,0,0,0,0,0,0,0,0,0,0,0,0,0,0,0,0,0,0,0,0,0,0,0,0,0,0,0,0,0,0,0,0,0,0,0,0,0,0,0,0,0,0,0,0,0,0,0,0,0,0,0,0,0,0,0,0,0,0,0,0,0,0,0,0,0,0,0,0,0,0,0,0,0,0,0,0,0,0,0,0,0,0,0,0,0,0,0,0,0,0,0,0,0,0,0,0,0,0,0,0,0,0,0,0,0,0,0,0,0,0,0,0,0,0,0,0,0,0,0,0,0,0,0,0,0,0,0,0,0,0,0,0,0,0,0,0,0,0,0,0,0,0,0,0,0,0,0,0,0,0,0,0,0,0,0,0,0,0,0,0,0,0,0,0,0,0,0,0,0,0,0,0,0,0,0,0,0,0,0,0,0,0,0,0,0,0,0,0,0,0,0,0,0,0,0,0,0,0,0,0,0,0,0,0,0,0,0,0,0,0,0,0,0,0,0,0,0,0,0,0,0,0,0,0,0,0,0,0,0,0,0,0,0,0,0,0,0,0,0,0,0,0,0,0,0,0,0,0,0,0,0,0,0,0,0,0,0,0,0,0,0,0,0,0,0,0,0,0,0,0,0,0,0,0,0,0,0,0,0,0,0,0,0,0,0,0,0,0,0,0,0,0,0,0,0,0,0,0,0,0,0,0,0,0,0,0,0,0,0,0,0,0,0,0,0,0,0,0,0,0,0,0,0,0,0,0,0,0,0,0,0,0,0,0,0,0,0,0,0,0,0,0,0,0,0,0,0,0,0,0,0,0,0,0,0,0,0,0,0,0,0,0,0,0,0,0,0,0,0,0,0,0,0,0,0,0,0,0,0,0,0,0,0,0,0,0,0,0,0,0,0,0,0,0,0,0,0,0,0,0,0,0,0,0,0,0,0,0,0,0,0,0,0,0,0,0,0,0,0,0,0,0,0,0,0,0,0,0,0,0,0,0,0,0,0,0,0,0,0,0,0,0,0,0,0,0,0,0,0,0,0,0,0,0,0,0,0,0,0,0,0,0,0,0,0,0,0,0,0,0,0,0,0,0,0,0,0,0,0,0,0,0,0,0,0,0,0,0,0,0,0,0,0,0,0,0,0,0,0,0,0,0,0,0,0,0,0,0,0,0,0,0,0,0,0,0,0,0,0,0,0,0,0,0,0,0,0,0,0,0,0,0,0,0,0,0,0,0,0,0,0,0,0,0,0,0,0,0,0,0,0,0,0,0,0,0,0,0,0,0,0,0,0,0,0,0,0,0,0,0,0,0,0,0,0,0,0,0,0,0,0,0,0,0,0,0,0,0,0,0,0,0,0,0,0,0,0,0,0,0,0,0,0,0,0,0,0,0,0,0,0,0,0,0,0,0,0,0,0,0,0,0,0,0,0,0,0,0,0,0,0,0,0,0,0,0,0,0,0,0,0,0,0,0,0,0,0,0,0,0,0,0,0,0,0,0,0,0,0,0,0,0,0,0,0,0,0,0,0,0,0,0,0,0,0,0,0,0,0,0,0,0,0,0,0,0,0,0,0,0,0,0,0,0,0,0,0,0,0,0,0,0,0,0,0,0,0,0,0,0,0,0,0,0,0,0,0,0,0,0,0,0,0,0,0,0,0,0,0,0,0,0,0,0,0,0,0,0,0,0,0,0,0,0,0,0,0,0,0,0,0,0,0,0,0,0,0,0,0,0,0,0,0,0,0,0,0,0,0,0,0,0,0,0,0,0,0,0,0,0,0,0,0,0,0,0,0,0,0,0,0,0,0,0,0,0,0,0,0,0,0,0,0,0,0,0,0,0,0,0,0,0,0,0,0,0,0,0,0,0,0,0,0,0,0,0,0,0,0,0,0,0,0,0,0,0,0,0,0,0,0,0,0,0,0,0,0,0,0,0,0,0,0,0,0,0,0,0,0,0,0,0,0,0,0,0,0,0,0,0,0,0,0,0,0,0,0,0,0],\"xaxis\":\"x\",\"y\":[0,0,0,0,0,0,0,0,0,0,0,0,0,0,0,1,0,0,0,0,0,0,0,0,0,0,0,0,0,0,0,0,0,0,0,0,1,0,0,1,0,1,0,0,0,0,0,0,0,0,0,0,0,0,0,1,0,0,0,0,1,0,0,0,0,0,0,0,0,0,1,0,0,0,0,0,0,0,1,0,1,0,0,0,0,0,0,0,0,0,1,0,0,0,0,0,0,1,1,0,1,0,0,0,0,1,0,0,1,0,0,1,0,0,1,0,0,0,0,0,1,0,0,0,0,0,1,0,1,0,1,0,0,0,0,0,0,0,0,0,0,1,1,0,0,0,0,0,0,1,1,0,0,0,0,0,0,0,0,0,0,0,0,0,0,0,0,0,0,0,0,0,0,1,0,0,0,0,0,0,0,0,0,0,0,0,0,0,0,0,0,1,0,0,0,0,0,0,0,0,1,0,0,1,0,0,1,0,1,0,1,0,1,0,0,0,0,0,0,1,0,0,0,0,0,1,0,0,0,0,0,0,0,0,0,1,0,1,0,1,0,0,0,0,0,0,0,0,0,0,0,0,0,0,0,0,0,0,0,1,0,0,0,0,1,0,0,0,0,0,0,0,0,0,0,0,0,0,0,0,0,0,0,0,0,0,0,0,0,0,0,0,0,0,0,0,0,0,0,0,0,0,0,0,0,1,0,0,0,0,0,0,0,0,0,0,0,0,0,0,0,1,0,1,1,0,0,0,0,0,0,0,0,1,0,0,0,0,0,0,0,0,0,0,0,0,0,0,0,0,0,0,0,0,0,0,0,0,1,0,0,0,0,0,0,0,0,0,0,0,0,0,0,0,0,0,0,0,1,0,0,0,0,0,0,0,0,0,0,1,0,0,1,0,0,0,1,0,0,0,0,0,0,0,0,0,0,0,0,0,0,0,0,0,0,0,1,0,0,0,0,0,0,0,0,0,1,1,0,0,0,1,0,0,0,1,0,0,0,0,0,0,0,0,0,0,0,0,0,0,0,0,0,0,0,0,0,0,0,0,0,0,0,0,1,0,1,1,0,0,0,0,0,0,0,1,0,0,0,0,0,0,0,0,1,0,0,0,0,0,0,0,0,0,0,0,0,0,0,0,1,0,0,0,1,0,0,0,1,1,0,0,0,0,0,0,0,1,0,0,0,1,0,0,0,1,0,0,0,0,0,0,0,0,0,1,0,0,0,1,1,0,0,0,0,0,0,0,1,0,0,0,0,0,0,0,0,0,0,0,0,0,0,0,0,0,0,1,0,0,0,0,0,0,0,0,0,0,0,1,0,0,0,0,0,0,0,0,1,1,0,0,0,0,0,0,0,0,0,0,0,0,0,1,0,0,1,0,1,0,1,0,0,0,0,0,0,0,0,0,0,1,0,0,0,0,0,0,0,0,0,1,0,0,0,0,0,0,1,0,0,0,0,0,1,0,0,0,0,0,0,0,0,1,0,0,0,0,1,1,0,0,0,0,0,0,0,0,0,0,1,1,0,0,0,0,0,0,1,0,0,0,0,0,1,1,0,0,0,0,0,1,1,0,0,1,0,0,1,0,0,0,1,0,0,0,0,0,1,0,0,0,1,0,1,0,0,0,0,1,1,0,0,0,0,0,0,0,1,1,0,1,0,1,0,0,0,0,0,1,0,0,1,0,1,0,0,0,0,0,1,0,1,0,0,0,0,0,0,0,0,0,0,0,0,0,0,0,0,0,1,0,0,0,0,0,1,0,1,0,0,0,0,0,0,1,0,0,0,1,1,0,0,0,0,0,0,0,0,0,0,0,0,0,1,0,0,0,0,0,0,0,0,1,0,0,0,0,0,0,0,0,0,0,0,0,0,1,0,0,1,1,0,0,1,1,0,0,0,1,0,1,0,1,1,0,0,0,0,0,0,0,0,0,1,0,0,0,0,1,0,0,0,0,0,0,1,0,0,0,0,1,0,0,0,0,0,0,0,1,0,0,0,0,0,0,0,0,0,0,1,0,0,0,1,0,0,0,0,0,0,0,0,0,1,0,0,0,0,0,0,0,0,0,0,0,0,0,0,0,0,1,0,1,0,1,0,0,0,0,1,0,1,0,0,0,0,0,0,0,0,0,0,0,1,1,0,0,0,0,0,0,0,0,0,0,0,0,0,0,0,0,0,0,0,0,0,0,0,0,0,0,1,0,0,0,0,0,0,0,1,0,0,0,0,0,0,0,0,0,0,0,0,0,0,0,0,0,0,1,1,1,0,0,0,0,0,0,0,0,0,0,1,0,0,0,0,0,1,0,0,1,0,0,1,0,0,0,1,0,0,0,0,0,0,1,0,0,0,0,0,0,0,0,0,0,1,0,0,1,0,1,0,0,0,0,0,0,0,1,1,0,0,1,0,0,0,0,0,0,0,0,0,0,0,0,0,0,0,0,0,1,0,0,0,1,0,0,0,0,0,0,0,0,0,0,0,0,0,0,0,1,0,0,0,0,0,0,0,0,0,0,0,0,1,0,0,1,0,0,0,0,0,0,1,0,0,1,0,0,0,0,0,0,1,0,0,0,0,0,0,0,0,0,0,0,0,0,0,0,1,0,0,1,0,0,1,0,1,0,0,0,0,0,0,0,1,0,1,0,0,0,1,0,0,0,0,0,1,0,0,0,0,0,0,0,0,1,1,0,0,0,0,0,0,0,0,0,0,0,0,0,0,0,0,1,0,0,0,0,0,0,0,0,1,0,0,0,0,0,0,0,0,1,0,0,0,0,0,0,0,0,1,0,0,0,1,1,0,1,0,0,0,0,0,0,0,0,0,0,0,0,0,0,0,0,0,0,0,1,0,0,0,0,0,0,0,0,0,1,0,0,1,0,0,0,0,0,0,0,0,0,1,0,0,1,0,0,0,0,0,1,0,0,0,0,0,0,1,1,0,0,0,0,1,0,0,0,1,0,1,0,0,0,0,0,0,0,0,0,1,0,0,0,0,0,0,0,0,0,0,0,0,0,0,0,0,0,0,0,0,0,0,0,0,0,0,0,0,0,1,0,0,0,0,0,0,0,1,0,0,0,0,0,0,0,0,0,0,0,1,0,0,0,0,0,0,0,0,0,0,0,0,0,0,0,0,0,0,1,0,0,0,0,0,1,0,0,0,0,0,0,0,0,0,1,0,0,0,0,0,1,0,0,1,1,0,1,0,1,1,0,0,0,0,0,0,0,0,0,0,0,1,0,0,0,0,0,0,0,1,0,0,1,0,0,0,0,0,0,0,0,0,1,1,1,0,0,0,0,0,0,0,0,0,0,1,0,0,0,0,0,1,0,0,0,0,0,1,0,0,0,0,0,1,0,1,1,1,1,0,0,0,0,0,1,0,0,0,0,0,0,0,0,0,0,0,1,0,0,0,0,0,0,0,0,1,0,1,1,0,0,1,0,0,0,0,0,0,0,0,1,1,0,0,0,0,0,0,0,0,0,0,0,0,0,0,1,0,0,0,0,0,0,0,0,1,0,0,0,0,0,0,1,0,0,0,0,0,0,0,0,0,0,0,0,0,1,0,0,0,0,0,1,0,1,0,0,0,0,0,0,0,0,0,0,0,0,0,0,0,0,0,0,0,0,0,1,0,0,0,0,0,0,0,0,0,0,0,0,0,0,0,0,1,0,0,0,0,0,0,0,0,0,0,0,0,0,0,1,0,0,0,0,1,0,0,0,0,0,0,0,1,0,0,0,0,0,0,0,0,0,0,0,0,0,0,0,0,0,0,0,0,0,0,0,0,0,0,0,0,0,0,0,0,1,0,0,0,0,0,0,1,0,0,1,0,0,0,0,0,0,0,0,0,0,0,0,0,0,0,0,0,1,0,0,0,0,0,0,1,0,1,0,0,0,0,0,0,0,0,0,0,0,0,0,0,0,0,0,0,0,1,1,1,0,0,0,0,1,0,0,0,0,1,0,0,0,0,0,0,0,0,0,1,0,0,0,1,0,0,0,0,0,0,0,1,0,0,0,0,0,0,0,0,0,0,1,0,0,0,0,0,0,0,0,0,1,0,0,0,0,0,0,0,0,0,0,0,1,0,0,0,0,0,0,0,0,0],\"yaxis\":\"y\",\"type\":\"histogram\"},{\"alignmentgroup\":\"True\",\"bingroup\":\"x\",\"histfunc\":\"sum\",\"hovertemplate\":\"occupation=%{x}\\u003cbr\\u003esum of Salary=%{y}\\u003cextra\\u003e\\u003c\\u002fextra\\u003e\",\"legendgroup\":\"3\",\"marker\":{\"color\":\"#B6E880\",\"pattern\":{\"shape\":\"\"}},\"name\":\"3\",\"offsetgroup\":\"3\",\"orientation\":\"v\",\"showlegend\":true,\"texttemplate\":\"%{value}\",\"x\":[3,3,3,3,3,3,3,3,3,3,3,3,3,3,3,3,3,3,3,3,3,3,3,3,3,3,3,3,3,3,3,3,3,3,3,3,3,3,3,3,3,3,3,3,3,3,3,3,3,3,3,3,3,3,3,3,3,3,3,3,3,3,3,3,3,3,3,3,3,3,3,3,3,3,3,3,3,3,3,3,3,3,3,3,3,3,3,3,3,3,3,3,3,3,3,3,3,3,3,3,3,3,3,3,3,3,3,3,3,3,3,3,3,3,3,3,3,3,3,3,3,3,3,3,3,3,3,3,3,3,3,3,3,3,3,3,3,3,3,3,3,3,3,3,3,3,3,3,3,3,3,3,3,3,3,3,3,3,3,3,3,3,3,3,3,3,3,3,3,3,3,3,3,3,3,3,3,3,3,3,3,3,3,3,3,3,3,3,3,3,3,3,3,3,3,3,3,3,3,3,3,3,3,3,3,3,3,3,3,3,3,3,3,3,3,3,3,3,3,3,3,3,3,3,3,3,3,3,3,3,3,3,3,3,3,3,3,3,3,3,3,3,3,3,3,3,3,3,3,3,3,3,3,3,3,3,3,3,3,3,3,3,3,3,3,3,3,3,3,3,3,3,3,3,3,3,3,3,3,3,3,3,3,3,3,3,3,3,3,3,3,3,3,3,3,3,3,3,3,3,3,3,3,3,3,3,3,3,3,3,3,3,3,3,3,3,3,3,3,3,3,3,3,3,3,3,3,3,3,3,3,3,3,3,3,3,3,3,3,3,3,3,3,3,3,3,3,3,3,3,3,3,3,3,3,3,3,3,3,3,3,3,3,3,3,3,3,3,3,3,3,3,3,3,3,3,3,3,3,3,3,3,3,3,3,3,3,3,3,3,3,3,3,3,3,3,3,3,3,3,3,3,3,3,3,3,3,3,3,3,3,3,3,3,3,3,3,3,3,3,3,3,3,3,3,3,3,3,3,3,3,3,3,3,3,3,3,3,3,3,3,3,3,3,3,3,3,3,3,3,3,3,3,3,3,3,3,3,3,3,3,3,3,3,3,3,3,3,3,3,3,3,3,3,3,3,3,3,3,3,3,3,3,3,3,3,3,3,3,3,3,3,3,3,3,3,3,3,3,3,3,3,3,3,3,3,3,3,3,3,3,3,3,3,3,3,3,3,3,3,3,3,3,3,3,3,3,3,3,3,3,3,3,3,3,3,3,3,3,3,3,3,3,3,3,3,3,3,3,3,3,3,3,3,3,3,3,3,3,3,3,3,3,3,3,3,3,3,3,3,3,3,3,3,3,3,3,3,3,3,3,3,3,3,3,3,3,3,3,3,3,3,3,3,3,3,3,3,3,3,3,3,3,3,3,3,3,3,3,3,3,3,3,3,3,3,3,3,3,3,3,3,3,3,3,3,3,3,3,3,3,3,3,3,3,3,3,3,3,3,3,3,3,3,3,3,3,3,3,3,3,3,3,3,3,3,3,3,3,3,3,3,3,3,3,3,3,3,3,3,3,3,3,3,3,3,3,3,3,3,3,3,3,3,3,3,3,3,3,3,3,3,3,3,3,3,3,3,3,3,3,3,3,3,3,3,3,3,3,3,3,3,3,3,3,3,3,3,3,3,3,3,3,3,3,3,3,3,3,3,3,3,3,3,3,3,3,3,3,3,3,3,3,3,3,3,3,3,3,3,3,3,3,3,3,3,3,3,3,3,3,3,3,3,3,3,3,3,3,3,3,3,3,3,3,3,3,3,3,3,3,3,3,3,3,3,3,3,3,3,3,3,3,3,3,3,3,3,3,3,3,3,3,3,3,3,3,3,3,3,3,3,3,3,3,3,3,3,3,3,3,3,3,3,3,3,3,3,3,3,3,3,3,3,3,3,3,3,3,3,3,3,3,3,3,3,3,3,3,3,3,3,3,3,3,3,3,3,3,3,3,3,3,3,3,3,3,3,3,3,3,3,3,3,3,3,3,3,3,3,3,3,3,3,3,3,3,3,3,3,3,3,3,3,3,3,3,3,3,3,3,3,3,3,3,3,3,3,3,3,3,3,3,3,3,3,3,3,3,3,3,3,3,3,3,3,3,3,3,3,3,3,3,3,3,3,3,3,3,3,3,3,3,3,3,3,3,3,3,3,3,3,3,3,3,3,3,3,3,3,3,3,3,3,3,3,3,3,3,3,3,3,3,3,3,3,3,3,3,3,3,3,3,3,3,3,3,3,3,3,3,3,3,3,3,3,3,3,3,3,3,3,3,3,3,3,3,3,3,3,3,3,3,3,3,3,3,3,3,3,3,3,3,3,3,3,3,3,3,3,3,3,3,3,3,3,3,3,3,3,3,3,3,3,3,3,3,3,3,3,3,3,3,3,3,3,3,3,3,3,3,3,3,3,3,3,3,3,3,3,3,3,3,3,3,3,3,3,3,3,3,3,3,3,3,3,3,3,3,3,3,3,3,3,3,3,3,3,3,3,3,3,3,3,3,3,3,3,3,3,3,3,3,3,3,3,3,3,3,3,3,3,3,3,3,3,3,3,3,3,3,3,3,3,3,3,3,3,3,3,3,3,3,3,3,3,3,3,3,3,3,3,3,3,3,3,3,3,3,3,3,3,3,3,3,3,3,3,3,3,3,3,3,3,3,3,3,3,3,3,3,3,3,3,3,3,3,3,3,3,3,3,3,3,3,3,3,3,3,3,3,3,3,3,3,3,3,3,3,3,3,3,3,3,3,3,3,3,3,3,3,3,3,3,3,3,3,3,3,3,3,3,3,3,3,3,3,3,3,3,3,3,3,3,3,3,3,3,3,3,3,3,3,3,3,3,3,3,3,3,3,3,3,3,3,3,3,3,3,3,3,3,3,3,3,3,3,3,3,3,3,3,3,3,3,3,3,3,3,3,3,3,3,3,3,3,3,3,3,3,3,3,3,3,3,3,3,3,3,3,3,3,3,3,3,3,3,3,3,3,3,3,3,3,3,3,3,3,3,3,3,3,3,3,3,3,3,3,3,3,3,3,3,3,3,3,3,3,3,3,3,3,3,3,3,3,3,3,3,3,3,3,3,3,3,3,3,3,3,3,3,3,3,3,3,3,3,3,3,3,3,3,3,3,3,3,3,3,3,3,3,3,3,3,3,3,3,3,3,3,3,3,3,3,3,3,3,3,3,3,3,3,3,3,3,3,3,3,3,3,3,3,3,3,3,3,3,3,3,3,3,3,3,3,3,3,3,3,3,3,3,3,3,3,3,3,3,3,3,3,3,3,3,3,3,3,3,3,3,3,3,3,3,3,3,3,3,3,3,3,3,3,3,3,3,3,3,3,3,3,3,3,3,3,3,3,3,3,3,3,3,3,3,3,3,3,3,3,3,3,3,3,3,3,3,3,3,3,3,3,3,3,3,3,3,3,3,3,3,3,3,3,3,3,3,3,3,3,3,3,3,3,3,3,3,3,3,3,3,3,3,3,3,3,3,3,3,3,3,3,3,3,3,3,3,3,3,3,3,3,3,3,3,3,3,3,3,3,3,3,3,3,3,3,3,3,3,3,3,3,3,3,3,3,3,3,3,3,3,3,3,3,3,3,3,3,3,3,3,3,3,3,3,3,3,3,3,3,3,3,3,3,3,3,3,3,3,3,3,3,3,3,3,3,3,3,3,3,3,3,3,3,3,3,3,3,3,3,3,3,3,3,3,3,3,3,3,3,3,3,3,3,3,3,3,3,3,3,3,3,3,3,3,3,3,3,3,3,3,3,3,3,3,3,3,3,3,3,3,3,3,3,3,3,3,3,3,3,3,3,3,3,3,3,3,3,3,3,3,3,3,3,3,3,3,3,3,3,3,3,3,3,3,3,3,3,3,3,3,3,3,3,3,3,3,3,3,3,3,3,3,3,3,3,3,3,3,3,3,3,3,3,3,3,3,3,3,3,3,3,3,3,3,3,3,3,3,3,3,3,3,3,3,3,3,3,3,3,3,3,3,3,3,3,3,3,3,3,3,3,3,3,3,3,3,3,3,3,3,3,3,3,3,3,3,3,3,3,3,3,3,3,3,3,3,3,3,3,3,3,3,3,3,3,3,3,3,3,3,3,3,3,3,3,3,3,3,3,3,3,3,3,3,3,3,3,3,3,3,3,3,3,3,3,3,3,3,3,3,3,3,3,3,3,3,3,3,3,3,3,3,3,3,3,3,3,3,3,3,3,3,3,3,3,3,3,3,3,3,3,3,3,3,3,3,3,3,3,3,3,3,3,3,3,3,3,3,3,3,3,3,3,3,3,3,3,3,3,3,3,3,3,3,3,3,3,3,3,3,3,3,3,3,3,3,3,3,3,3,3,3,3,3,3,3,3,3,3,3,3,3,3,3,3,3,3,3,3,3,3,3,3,3,3,3,3,3,3,3,3,3,3,3,3,3,3,3,3,3,3,3,3,3,3,3,3,3,3,3,3,3,3,3,3,3,3,3,3,3,3,3,3],\"xaxis\":\"x\",\"y\":[1,1,0,0,0,1,1,0,0,1,0,0,0,1,1,1,0,0,1,0,1,1,0,0,1,0,1,0,1,0,0,0,0,0,0,0,0,0,1,0,0,1,0,1,1,1,0,1,0,1,1,0,1,0,1,1,1,1,0,0,0,0,0,0,1,0,0,0,1,1,0,0,0,1,0,0,0,0,0,0,1,1,1,1,0,0,0,1,0,0,1,1,1,1,1,1,1,1,0,0,1,0,1,1,0,0,1,1,0,0,1,0,1,0,0,1,1,0,0,1,0,1,0,0,1,0,0,0,0,0,1,1,0,1,0,0,0,0,1,1,1,0,0,0,0,0,0,1,1,1,1,0,1,0,0,0,1,1,0,0,1,0,0,0,0,1,0,1,0,0,1,1,0,0,0,1,1,1,0,1,0,1,0,0,1,0,1,1,0,0,1,1,0,0,1,1,0,1,1,0,1,1,1,1,1,0,1,1,1,1,1,0,1,0,1,0,1,0,0,0,0,0,1,1,0,1,0,0,0,1,0,0,1,0,1,1,0,0,0,1,0,1,0,0,0,1,1,0,1,0,1,0,0,1,0,0,1,1,0,1,0,1,0,0,0,1,0,0,0,1,0,1,1,0,0,0,0,0,1,1,1,0,1,1,0,1,0,0,0,1,0,1,0,1,0,0,0,1,1,0,0,1,0,1,0,1,0,1,1,0,1,1,1,1,0,1,0,1,1,0,0,0,0,1,0,0,0,0,0,1,1,0,0,1,0,1,0,1,1,0,0,1,0,0,1,0,1,0,0,1,0,1,1,1,0,1,0,1,0,0,0,1,0,0,0,1,1,0,0,0,0,0,1,1,1,1,0,0,1,0,1,0,0,1,0,1,1,0,1,0,1,1,1,0,0,0,1,1,1,0,1,1,1,1,1,0,1,0,0,0,1,0,1,1,1,0,0,1,1,0,0,0,0,1,0,1,0,0,1,1,1,1,1,1,0,0,0,0,1,0,0,0,1,0,0,0,1,1,0,0,0,1,1,0,0,0,1,1,1,0,1,0,0,1,1,0,0,1,1,0,0,1,0,1,0,1,0,0,0,0,0,1,1,0,1,0,0,0,0,0,1,0,0,0,1,0,0,1,1,1,0,0,0,0,0,1,0,0,1,1,1,1,0,0,1,1,1,1,0,0,1,1,0,1,1,0,1,1,0,1,0,1,0,1,1,1,0,0,1,0,0,0,0,1,0,1,1,1,0,0,0,0,0,0,0,0,0,1,0,0,1,0,1,1,0,0,0,0,1,0,0,1,0,0,0,0,1,1,0,0,0,1,1,0,1,1,0,0,1,0,0,1,0,1,0,0,0,0,1,1,1,1,1,1,1,0,0,0,1,1,1,0,1,1,0,1,1,0,0,1,0,0,1,0,1,1,1,0,1,1,0,0,0,0,0,0,1,0,1,1,1,1,0,0,1,0,1,1,0,1,1,0,1,0,1,0,1,1,1,1,1,1,0,0,0,1,0,1,1,1,1,0,1,0,1,0,1,1,0,0,1,1,0,1,1,1,1,0,0,0,0,0,0,1,1,1,0,1,0,0,0,1,1,1,0,0,1,0,1,1,0,0,1,0,1,1,0,0,1,1,1,1,0,1,0,0,0,0,1,0,0,1,1,1,1,0,0,1,1,0,0,1,0,0,1,1,1,1,1,1,0,0,1,1,1,0,1,0,1,1,0,0,0,0,1,1,1,1,1,1,1,1,0,0,0,0,0,0,0,0,0,0,1,1,1,1,0,1,1,0,0,1,0,1,1,1,0,1,0,0,0,1,1,0,0,0,1,1,1,0,1,1,0,1,1,0,0,1,1,0,0,1,1,0,0,1,1,0,1,0,0,0,1,0,0,1,0,0,0,0,0,0,0,1,1,1,0,1,0,0,0,0,0,0,0,1,0,0,1,0,1,1,0,0,0,0,0,1,0,0,1,0,0,1,0,0,0,1,1,0,0,0,1,0,0,0,1,0,1,1,0,1,0,1,0,0,0,1,0,0,0,1,0,0,1,0,1,1,1,1,1,0,1,1,0,1,1,0,1,1,1,0,1,0,0,0,1,1,0,1,0,1,0,0,0,0,0,0,1,0,0,0,0,1,1,1,0,0,0,0,0,1,0,1,0,0,1,0,0,0,0,1,0,1,0,0,1,0,1,0,0,0,0,0,0,0,1,1,1,1,0,0,0,0,0,0,0,1,0,0,1,0,0,1,0,1,1,0,1,0,0,0,1,0,0,1,1,1,1,1,0,0,0,0,0,1,0,0,1,1,0,0,0,1,1,0,0,0,1,1,0,0,0,1,0,0,0,1,0,0,1,1,0,0,1,0,0,1,0,0,0,1,1,1,1,1,1,1,0,0,1,0,0,1,0,1,1,1,1,1,0,0,1,1,0,0,1,1,1,1,0,0,1,1,0,1,1,1,1,1,1,0,1,0,0,1,0,1,1,0,0,0,1,1,1,0,0,1,1,1,0,0,1,0,1,0,1,1,1,0,0,0,0,1,0,1,1,0,0,0,1,0,1,0,1,0,0,1,1,0,0,1,0,1,0,0,1,0,0,0,1,1,1,1,0,0,0,0,1,1,0,0,0,1,1,0,1,1,0,0,1,0,1,0,0,1,0,0,0,1,1,0,1,1,1,0,0,0,0,1,1,1,0,1,1,1,1,0,1,1,1,0,1,0,0,1,1,0,0,1,0,0,0,1,1,0,1,0,0,0,1,1,1,1,1,0,0,1,1,1,1,1,1,1,1,0,1,0,1,0,1,1,0,0,0,0,0,1,1,1,0,1,0,1,1,1,1,1,0,1,1,0,0,1,1,1,0,1,0,0,1,0,0,0,1,0,1,0,0,0,1,0,0,0,0,0,0,1,0,0,1,1,1,1,1,0,1,0,1,1,1,0,1,0,1,1,0,0,1,1,0,0,1,0,1,1,0,1,0,1,0,1,1,0,0,1,1,1,0,1,1,1,1,0,0,1,0,1,0,0,1,1,0,0,1,0,0,0,0,0,1,0,1,0,1,0,1,1,1,0,0,0,1,1,1,0,0,0,1,0,1,0,1,0,1,1,0,0,0,0,0,0,0,0,0,1,0,1,1,0,0,0,1,1,0,1,1,0,1,0,0,0,1,0,0,1,0,0,0,0,1,1,1,1,1,1,1,1,0,1,1,0,0,1,1,0,1,0,1,0,0,0,1,1,1,0,0,0,1,0,0,1,0,0,0,1,0,1,0,1,1,1,1,1,0,1,0,1,0,0,0,1,0,1,1,0,0,0,0,0,1,0,1,1,1,0,0,0,1,1,0,1,1,1,1,0,0,0,1,0,0,1,0,1,0,1,0,0,1,0,0,0,1,1,1,0,1,1,1,0,1,0,1,1,0,1,1,0,0,0,0,0,1,1,1,0,1,1,1,0,0,0,0,0,0,0,0,1,1,0,1,1,1,0,0,1,0,1,0,1,1,0,0,1,0,0,0,0,0,0,1,0,0,1,0,0,1,0,1,1,1,0,0,1,0,1,0,0,0,1,0,1,0,0,1,1,1,0,1,1,0,0,0,0,0,0,1,1,0,1,1,0,1,0,1,1,1,0,0,0,1,0,0,1,0,1,1,0,0,1,1,1,0,1,1,1,0,1,1,1,0,0,0,1,1,1,0,0,0,0,0,0,0,0,1,0,0,0,0,1,1,0,1,0,1,1,1,0,0,1,1,1,0,1,1,0,0,0,1,0,0,1,1,0,1,1,0,1,0,1,1,1,1,0,0,0,1,1,1,0,1,0,0,1,0,0,1,0,1,1,0,1,1,0,0,1,0,1,0,0,0,0,1,0,0,1,0,1,1,1,0,0,0,1,1,0,1,0,0,1,0,1,1,1,0,1,1,1,1,1,0,1,1,1,1,1,1,0,0,0,0,0,1,1,0,1,0,0,1,0,0,1,0,1,0,1,0,0,1,1,0,0,1,1,1,1,0,0,1,1,0,0,1,0,0,0,0,0,1,0,1,0,0,0,0,1,1,1,1,0,1,0,0,1,1,1,1,1,0,0,1,0,1,1,1,0,1,0,1,0,0,0,1,1,0,1,0,1,1,0,0,1,0,0,1,0,1,0,0,0,1,0,1,0,1,0,1,1,1,0,1,1,0,1,0,0,0,0,1,1,1,0,1,0,1,0,0,1,0,1,1,0,0,0,0,0,0,1,0,0,0,0,0,0,0,0,1,1,0,1,1,1,0,0,0,0,0,0,0,0,1,0,1,1,0,1,1,0,0,0,1,1,0,0,1,0,0,1,1,0,1,1,0,0,1,0,0,0,0,1,0,1,1,0,0,1,0,1,0,1,0,0,0,0,0,1,0,0,1,0,0,1,1,0,0,0,0,1,0,1,1,1,0,1,1,0,0,0,0,0,0,0,0,0,0,1,1,1,0,0,1,0,0,1,1,0,1,0,1,1,0,1],\"yaxis\":\"y\",\"type\":\"histogram\"},{\"alignmentgroup\":\"True\",\"bingroup\":\"x\",\"histfunc\":\"sum\",\"hovertemplate\":\"occupation=%{x}\\u003cbr\\u003esum of Salary=%{y}\\u003cextra\\u003e\\u003c\\u002fextra\\u003e\",\"legendgroup\":\"12\",\"marker\":{\"color\":\"#FF97FF\",\"pattern\":{\"shape\":\"\"}},\"name\":\"12\",\"offsetgroup\":\"12\",\"orientation\":\"v\",\"showlegend\":true,\"texttemplate\":\"%{value}\",\"x\":[12,12,12,12,12,12,12,12,12,12,12,12,12,12,12,12,12,12,12,12,12,12,12,12,12,12,12,12,12,12,12,12,12,12,12,12,12,12,12,12,12,12,12,12,12,12,12,12,12,12,12,12,12,12,12,12,12,12,12,12,12,12,12,12,12,12,12,12,12,12,12,12,12,12,12,12,12,12,12,12,12,12,12,12,12,12,12,12,12,12,12,12,12,12,12,12,12,12,12,12,12,12,12,12,12,12,12,12,12,12,12,12,12,12,12,12,12,12,12,12,12,12,12,12,12,12,12,12,12,12,12,12,12,12,12,12,12,12,12,12,12,12,12,12,12,12,12,12,12,12,12,12,12,12,12,12,12,12,12,12,12,12,12,12,12,12,12,12,12,12,12,12,12,12,12,12,12,12,12,12,12,12,12,12,12,12,12,12,12,12,12,12,12,12,12,12,12,12,12,12,12,12,12,12,12,12,12,12,12,12,12,12,12,12,12,12,12,12,12,12,12,12,12,12,12,12,12,12,12,12,12,12,12,12,12,12,12,12,12,12,12,12,12,12,12,12,12,12,12,12,12,12,12,12,12,12,12,12,12,12,12,12,12,12,12,12,12,12,12,12,12,12,12,12,12,12,12,12,12,12,12,12,12,12,12,12,12,12,12,12,12,12,12,12,12,12,12,12,12,12,12,12,12,12,12,12,12,12,12,12,12,12,12,12,12,12,12,12,12,12,12,12,12,12,12,12,12,12,12,12,12,12,12,12,12,12,12,12,12,12,12,12,12,12,12,12,12,12,12,12,12,12,12,12,12,12,12,12,12,12,12,12,12,12,12,12,12,12,12,12,12,12,12,12,12,12,12,12,12,12,12,12,12,12,12,12,12,12,12,12,12,12,12,12,12,12,12,12,12,12,12,12,12,12,12,12,12,12,12,12,12,12,12,12,12,12,12,12,12,12,12,12,12,12,12,12,12,12,12,12,12,12,12,12,12,12,12,12,12,12,12,12,12,12,12,12,12,12,12,12,12,12,12,12,12,12,12,12,12,12,12,12,12,12,12,12,12,12,12,12,12,12,12,12,12,12,12,12,12,12,12,12,12,12,12,12,12,12,12,12,12,12,12,12,12,12,12,12,12,12,12,12,12,12,12,12,12,12],\"xaxis\":\"x\",\"y\":[1,0,0,0,1,0,0,0,0,0,1,0,0,0,0,0,0,0,0,0,1,0,0,1,0,0,0,0,1,1,0,0,1,0,0,0,1,0,0,0,0,0,0,1,0,0,0,0,0,0,0,0,1,1,0,0,0,0,0,0,1,0,0,0,0,0,0,1,1,1,0,0,0,0,0,0,0,0,1,0,1,1,0,0,0,0,1,0,0,0,1,0,0,0,0,0,0,0,1,0,0,0,0,0,0,0,0,0,0,0,0,0,1,0,0,0,1,0,1,0,0,0,1,0,0,0,0,0,1,0,1,0,0,0,0,0,0,0,1,0,0,0,0,0,0,0,1,0,0,0,0,0,1,0,1,0,0,1,0,0,0,0,0,0,0,1,1,0,0,1,1,0,0,0,1,0,0,0,1,0,0,0,0,0,0,0,1,1,0,0,0,1,0,1,0,1,1,1,1,1,0,0,1,0,0,1,1,1,0,1,1,0,0,1,0,0,0,0,1,0,0,0,0,1,1,0,0,0,0,0,1,1,0,1,0,1,0,0,1,0,0,0,0,0,0,1,1,0,1,1,0,1,0,1,0,0,1,0,1,0,0,0,0,0,1,0,0,0,0,0,0,0,0,0,0,0,0,0,1,0,0,0,1,0,0,0,1,0,0,0,0,1,0,0,1,0,0,1,1,1,0,0,1,0,1,0,0,0,0,0,0,1,1,0,0,1,0,1,0,1,0,0,0,1,0,0,1,0,0,1,1,0,0,0,1,0,1,0,0,0,0,0,0,0,0,0,1,0,0,0,1,0,0,0,0,1,1,0,0,0,0,0,1,0,0,0,1,1,0,0,0,1,1,0,0,1,0,0,0,0,1,1,0,1,0,0,1,1,0,0,1,0,0,0,0,0,1,1,0,0,0,0,0,0,0,0,1,0,1,1,0,0,0,0,1,1,0,0,0,1,0,0,0,0,0,1,1,0,0,0,0,0,0,0,0,0,0,0,0,1,0,0,0,0,0,0,0,0,0,1,0,0,0,0,0,1,0,0,0,0,1,1,0,0,1,0,0,0,0,0,0,0,0,0,0,0,0,0,0,1,0,0,0,0,0,1,0,0,0,0,0,0,1,0,1,0,0,1,0,0,0,0,1,1,0,1,0,0],\"yaxis\":\"y\",\"type\":\"histogram\"},{\"alignmentgroup\":\"True\",\"bingroup\":\"x\",\"histfunc\":\"sum\",\"hovertemplate\":\"occupation=%{x}\\u003cbr\\u003esum of Salary=%{y}\\u003cextra\\u003e\\u003c\\u002fextra\\u003e\",\"legendgroup\":\"11\",\"marker\":{\"color\":\"#FECB52\",\"pattern\":{\"shape\":\"\"}},\"name\":\"11\",\"offsetgroup\":\"11\",\"orientation\":\"v\",\"showlegend\":true,\"texttemplate\":\"%{value}\",\"x\":[11,11,11,11,11,11,11,11,11,11,11,11,11,11,11,11,11,11,11,11,11,11,11,11,11,11,11,11,11,11,11,11,11,11,11,11,11,11,11,11,11,11,11,11,11,11,11,11,11,11,11,11,11,11,11,11,11,11,11,11,11,11,11,11,11,11,11,11,11,11,11,11,11,11,11,11,11,11,11,11,11,11,11,11,11,11,11,11,11,11,11,11,11,11,11,11,11,11,11,11,11,11,11,11,11,11,11,11,11,11,11,11,11,11,11,11,11,11,11,11,11,11,11,11,11,11,11,11,11,11,11,11,11,11,11,11,11,11,11,11,11,11,11,11,11,11,11,11,11,11,11,11,11,11,11,11,11,11,11,11,11,11,11,11,11,11,11,11,11,11,11,11,11,11,11,11,11,11,11,11,11,11,11,11,11,11,11,11,11,11,11,11,11,11,11,11,11,11,11,11,11,11,11,11,11,11,11,11,11,11,11,11,11,11,11,11,11,11,11,11,11,11,11,11,11,11,11,11,11,11,11,11,11,11,11,11,11,11,11,11,11,11,11,11,11,11,11,11,11,11,11,11,11,11,11,11,11,11,11,11,11,11,11,11,11,11,11,11,11,11,11,11,11,11,11,11,11,11,11,11,11,11,11,11,11,11,11,11,11,11,11,11,11,11,11,11,11,11,11,11,11,11,11,11,11,11,11,11,11,11,11,11,11,11,11,11,11,11,11,11,11,11,11,11,11,11,11,11,11,11,11,11,11,11,11,11,11,11,11,11,11,11,11,11,11,11,11,11,11,11,11,11,11,11,11,11,11,11,11,11,11,11,11,11,11,11,11,11,11,11,11,11,11,11,11,11,11,11,11,11,11,11,11,11,11,11,11,11,11,11,11,11,11,11,11,11,11,11,11,11,11,11,11,11,11,11,11,11,11,11,11,11,11,11,11,11,11,11,11,11,11,11,11,11,11,11,11,11,11,11,11,11,11,11,11,11,11,11,11,11,11,11,11,11,11,11,11,11,11,11,11,11,11,11,11,11,11,11,11,11,11,11,11,11,11,11,11,11,11,11,11,11,11,11,11,11,11,11,11,11,11,11,11,11,11,11,11,11,11,11,11,11,11,11,11,11,11,11,11,11,11,11,11,11,11,11,11,11,11,11,11,11,11,11,11,11,11,11,11,11,11,11,11,11,11,11,11,11,11,11,11,11,11,11,11,11,11,11,11,11,11,11,11,11,11,11,11,11,11,11,11,11,11,11,11,11,11,11,11,11,11,11,11,11,11,11,11,11,11,11,11,11,11,11,11,11,11,11,11,11,11,11,11,11,11,11,11,11,11,11,11,11,11,11,11,11,11,11,11,11,11,11,11,11,11,11,11,11,11,11,11,11,11,11,11,11,11,11,11,11,11,11,11,11,11,11,11,11,11,11,11,11,11,11,11,11,11,11,11,11,11,11,11,11,11,11,11,11,11,11,11,11,11,11,11,11,11,11,11,11,11,11,11,11,11,11,11,11,11,11,11,11,11,11,11,11,11,11,11,11,11,11,11,11,11,11,11,11,11,11,11,11,11,11,11,11,11,11,11,11,11,11,11,11,11,11,11,11,11,11,11,11,11,11,11,11,11,11,11,11,11,11,11,11,11,11,11,11,11,11,11,11,11,11,11,11,11,11,11,11,11,11,11,11,11,11,11,11,11,11,11,11,11,11,11,11,11,11,11,11,11,11,11,11,11,11,11,11,11,11,11,11,11,11,11,11,11,11,11,11,11,11,11,11,11,11,11,11,11,11,11,11,11,11,11,11,11,11,11,11,11,11,11,11,11,11,11,11,11,11,11,11,11,11,11,11,11,11,11,11,11,11,11,11,11,11,11,11,11,11,11,11,11,11,11,11,11,11,11,11,11,11,11,11,11,11,11,11,11,11,11,11,11,11,11,11,11,11,11,11,11,11,11,11,11,11,11,11,11,11,11,11,11,11,11,11,11,11,11,11,11,11,11,11,11,11,11,11,11,11,11,11,11,11,11,11,11,11,11,11,11,11,11,11,11,11,11,11,11,11,11,11,11,11,11,11,11,11,11,11,11,11,11,11,11,11,11,11,11,11,11,11,11,11,11,11,11,11,11,11,11,11,11,11,11,11,11,11,11,11,11,11,11,11,11,11,11,11,11,11,11,11,11,11,11,11,11,11,11,11,11,11,11,11,11,11,11,11,11,11,11,11,11,11,11,11,11,11,11,11,11,11,11,11,11,11,11,11,11,11,11,11,11,11,11,11,11,11,11,11,11,11,11,11,11,11,11,11,11,11,11,11,11,11,11,11,11,11,11,11,11,11,11,11,11,11,11,11,11,11,11,11,11,11,11,11,11,11,11,11,11,11,11,11,11,11,11,11,11,11,11,11,11,11,11,11,11,11,11,11,11,11,11,11,11,11,11,11,11,11,11,11,11,11,11,11,11,11,11,11,11,11,11,11,11,11,11,11,11,11,11,11,11,11,11,11,11,11,11,11,11,11,11,11,11,11,11,11,11,11,11,11,11,11,11,11,11,11,11,11,11,11,11,11,11,11,11,11,11,11,11,11,11,11,11,11,11,11,11,11,11,11,11,11,11,11,11,11,11,11,11,11,11,11,11,11,11,11,11,11,11,11,11,11,11,11,11,11,11,11,11,11,11,11,11,11,11,11,11,11,11,11,11,11,11,11,11,11,11,11,11,11,11,11,11,11,11,11,11,11,11,11,11,11,11,11,11,11,11,11,11,11,11,11,11,11,11,11,11,11,11,11,11,11,11,11,11,11,11,11,11,11,11,11,11,11,11,11,11,11,11,11,11,11,11,11,11,11,11,11,11,11,11,11,11,11,11,11,11,11,11,11,11,11,11,11,11,11,11,11,11,11,11,11,11,11,11,11,11,11,11,11,11,11,11,11,11,11,11,11,11,11,11,11,11,11,11,11,11,11,11,11,11,11,11,11,11,11,11,11,11,11,11,11,11,11,11,11,11,11,11,11,11,11,11,11,11,11,11,11,11,11,11,11,11,11,11,11,11,11,11,11,11,11,11,11,11,11,11,11,11,11,11,11,11,11,11,11,11,11,11,11,11,11,11,11,11,11,11,11,11,11,11,11,11,11,11,11,11,11,11,11,11,11,11,11,11,11,11,11,11,11,11,11,11,11,11,11,11,11,11,11,11,11,11,11,11,11,11,11,11,11,11,11,11,11,11,11,11,11,11,11,11,11,11,11,11,11,11,11,11,11,11,11,11,11,11,11,11,11,11,11,11,11,11,11,11,11,11,11,11,11,11,11,11,11,11,11,11,11,11,11,11,11,11,11,11,11,11,11,11,11,11,11,11,11,11,11,11,11,11,11,11,11,11,11,11,11,11,11,11,11,11,11,11,11,11,11,11,11,11,11,11,11,11,11,11,11,11,11,11,11,11,11,11,11,11,11,11,11,11,11,11,11,11,11,11,11,11,11,11,11,11,11,11,11,11,11,11,11,11,11,11,11,11,11,11,11,11,11,11,11,11,11,11,11,11,11,11,11,11,11,11,11,11,11,11,11,11,11,11,11,11,11,11,11,11,11,11,11,11,11,11,11,11,11,11,11,11,11,11,11,11,11,11,11,11,11,11,11,11,11,11,11,11,11,11,11,11,11,11,11,11,11,11,11,11,11,11,11,11,11,11,11,11,11,11,11,11,11,11,11,11,11,11,11,11,11,11,11,11,11,11,11,11,11,11,11,11,11,11,11,11,11,11,11,11,11,11,11,11,11,11,11,11,11,11,11,11,11,11,11,11,11,11,11,11,11,11,11,11,11,11,11,11,11,11,11,11,11,11,11,11,11,11,11,11,11,11,11,11,11,11,11,11,11,11,11,11,11,11,11,11,11,11,11,11,11,11,11,11,11,11,11,11,11,11,11,11,11,11,11,11,11,11,11,11,11,11,11,11,11,11,11,11,11,11,11,11,11,11,11,11,11,11,11,11,11,11,11,11,11,11,11,11,11,11,11,11,11,11,11,11,11,11,11,11,11,11,11,11,11,11,11,11,11,11,11,11,11,11,11,11,11,11,11,11,11,11,11,11,11,11,11,11,11,11,11,11,11,11,11,11,11],\"xaxis\":\"x\",\"y\":[0,1,0,0,0,1,1,0,1,1,0,0,0,0,1,0,0,1,0,1,0,0,0,0,0,0,0,0,0,0,0,0,1,0,0,0,0,0,0,0,0,0,0,0,0,0,0,1,0,0,0,0,1,1,0,0,0,0,0,0,0,0,0,0,0,0,0,0,0,0,0,0,0,0,1,0,0,0,0,0,1,1,1,1,0,0,0,0,1,0,0,1,1,0,0,0,0,0,0,0,0,0,0,0,1,0,1,1,1,0,0,0,0,0,0,0,0,0,0,1,1,0,0,0,0,0,0,0,0,0,0,0,1,0,1,1,0,1,1,0,0,0,0,1,0,0,0,0,0,0,0,0,1,0,1,0,0,0,0,0,0,0,0,0,0,0,0,1,0,0,0,0,0,0,0,0,0,0,0,0,0,0,0,1,0,0,0,1,1,0,0,0,1,0,0,0,0,0,0,0,0,0,0,0,0,0,1,0,0,0,0,0,0,0,0,0,0,0,0,1,0,0,0,1,0,0,0,0,0,1,0,1,1,1,1,1,0,0,0,0,0,0,0,0,1,0,1,0,0,1,0,0,0,0,1,0,0,1,0,0,1,0,0,0,0,0,1,0,1,1,1,0,0,1,0,0,0,1,1,0,0,1,0,1,0,0,0,0,1,0,1,0,0,0,0,0,0,0,0,1,0,0,0,1,0,0,0,1,0,0,1,0,0,0,1,0,1,0,0,0,1,1,0,0,0,0,0,0,0,0,0,0,0,1,0,0,0,0,0,0,0,0,0,0,0,0,0,1,1,0,1,0,0,0,0,0,1,0,0,0,0,1,1,1,1,0,0,1,0,0,0,0,1,0,0,0,1,0,0,1,0,0,0,0,0,1,0,1,0,1,1,0,0,1,0,0,0,0,1,0,0,0,1,0,0,0,1,0,0,0,0,0,1,0,0,1,0,0,0,0,0,0,1,0,1,0,0,0,1,1,0,1,0,0,0,0,0,0,0,0,1,1,1,1,1,0,1,0,0,0,0,1,1,0,0,0,0,1,0,1,0,0,0,0,1,1,0,1,0,0,0,0,0,0,0,0,0,1,1,0,0,0,0,0,1,0,0,0,1,1,0,0,0,1,0,1,1,0,0,0,0,0,1,0,0,0,0,1,0,0,0,0,1,0,0,0,1,1,0,1,0,0,1,0,0,0,0,0,0,0,0,0,0,0,0,0,0,0,1,1,1,0,0,0,0,0,0,0,1,0,0,0,0,1,0,0,0,0,0,0,0,0,0,1,1,0,0,1,0,1,1,1,1,1,1,1,1,0,1,0,0,0,0,1,1,1,0,1,1,0,0,1,0,1,0,1,0,1,0,0,0,0,0,0,0,0,0,1,0,0,1,1,0,0,0,0,0,0,0,1,1,1,0,0,1,1,0,1,0,1,1,0,0,0,0,1,0,0,0,0,0,0,0,0,0,1,1,1,1,0,0,0,1,0,0,0,0,1,0,1,0,0,0,0,0,1,0,0,0,0,0,1,1,0,0,0,0,0,1,0,0,0,0,0,0,1,1,1,0,0,0,1,0,0,1,1,1,0,0,0,0,0,1,0,0,0,0,0,0,0,0,0,0,0,0,0,1,0,0,0,1,0,0,0,0,0,0,1,0,0,0,0,1,0,1,0,0,0,0,0,0,0,0,0,0,0,0,1,1,1,0,0,0,0,0,1,0,0,0,1,0,0,1,1,0,0,1,0,1,1,0,0,0,0,0,0,0,0,1,0,0,1,0,0,1,0,0,0,0,0,1,0,0,0,0,0,0,0,0,0,0,0,0,0,1,0,0,0,0,0,1,0,1,1,1,1,0,0,0,0,0,0,1,0,1,1,1,0,1,0,1,0,1,0,1,0,0,0,0,1,1,0,0,0,0,1,0,1,0,0,0,1,0,0,0,1,0,0,0,1,0,0,0,0,0,0,0,1,0,0,0,0,1,0,1,1,0,0,0,1,0,0,0,1,0,0,1,0,1,0,0,0,0,1,0,0,1,0,0,1,1,1,0,0,0,0,0,0,0,0,0,1,0,0,0,0,1,0,0,0,0,0,0,1,1,0,0,1,0,1,1,0,1,0,0,0,0,0,0,0,1,1,0,0,0,0,0,0,0,0,0,0,0,1,1,1,0,0,1,0,0,0,0,0,1,0,0,1,0,1,1,0,0,0,0,0,0,1,0,1,0,0,1,1,0,0,1,0,0,0,0,0,0,0,0,0,1,1,0,0,0,0,0,0,0,1,0,0,1,0,1,1,1,0,0,0,1,0,0,1,0,1,0,0,0,0,1,0,0,0,0,0,0,0,1,0,0,0,0,0,0,0,1,0,1,0,1,1,0,0,0,0,1,0,1,0,0,0,0,0,0,0,1,1,0,0,0,0,0,1,0,1,1,1,0,0,1,1,0,0,1,0,0,0,0,0,0,1,0,0,0,1,0,0,0,0,1,0,0,0,0,0,0,0,0,1,1,0,0,0,0,0,0,0,0,0,1,0,0,0,0,0,0,0,0,0,0,0,0,0,0,0,0,1,0,0,0,1,0,0,0,0,0,0,0,0,0,1,0,1,1,0,0,0,0,0,1,0,1,0,0,0,1,0,0,0,0,1,0,0,0,0,0,1,0,1,0,0,0,0,1,1,0,0,0,0,0,0,0,0,0,0,0,1,0,0,1,0,1,0,0,0,0,0,0,0,1,0,0,0,0,0,0,0,0,1,0,0,1,1,0,1,0,1,0,0,0,0,0,0,1,0,0,0,0,1,0,0,0,0,0,0,1,0,0,1,0,0,1,0,0,0,0,0,0,1,0,0,0,0,0,0,0,0,0,0,1,1,1,0,1,0,1,0,0,0,0,0,0,0,0,0,0,1,0,0,0,0,0,0,0,0,0,1,1,0,0,1,0,1,0,1,0,0,1,0,0,0,0,0,0,1,0,0,0,1,0,1,0,0,0,0,1,0,0,1,0,0,0,0,0,0,0,0,1,1,0,0,0,0,0,0,0,0,1,0,1,0,0,1,0,1,1,1,0,0,1,0,0,0,0,1,0,0,1,0,0,0,0,1,1,0,0,1,0,1,0,0,1,1,1,0,1,0,1,0,0,1,1,0,0,0,1,0,0,0,0,1,0,0,0,0,0,1,0,0,0,0,0,0,0,1,0,0,0,1,1,0,0,0,0,0,1,0,1,0,0,0,0,0,0,0,1,1,1,0,0,0,0,0,1,0,0,1,1,0,0,0,0,1,0,0,0,1,1,0,0,0,0,0,1,1,0,0,1,1,1,0,0,1,0,1,0,0,1,0,1,1,0,0,0,0,1,1,1,1,0,1,0,0,0,0,0,0,0,0,0,0,0,0,1,1,0,0,1,1,1,1,0,0,1,0,0,1,1,0,1,1,0,0,0,0,0,1,0,0,1,1,0,0,1,0,0,0,0,0,0,0,1,0,1,1,1,1,0,1,0,0,0,0,0,0,0,0,1,1,0,0,0,0,0,0,0,0,1,0,1,1,1,0,1,1,1,0,0,0,0,1,1,1,1,0,0,0,1,0,0,0,0,0,0,1,0,0,1,1,0,0,0,0,0,0,0,0,0,0,0,1,0,0,1,0,0,0,1,0,0,0,0,0,0,0,1,1,0,1,0,0,0,0,0,0,1,0,0,0,0,0,1,0,1,0,0,0,0,1,1,1,0,1,0,0,0,0,0,0,1,0,0,0,0,0,1,1,0,0,0,0,0,0,0,1,1,1,0,0,0,0,0,1,0,0,0,0,0,0,1,0,0,0,0,0,0,0,1,0,0,0,0,0,1,1,0,0,0,1,0,0,0,0,1,0,0,0,1,0,1,1,0,0,0,0,1,0,0,1,0,0,1,0,0,0,0,0,0,0,0,0,0,0,0,0,0,1,0,0,1,0,0,1,0,1,0,0,1,0,0,1,0,0,0,0,1,0,0,1,0,0,0,0,0,1,0,0,1,0,0,0,0,0,1,0,0,0,0,1,0,0,1,0,0,0,0,0,1,0,1,0,0,0,0,1,0,0,0,0,1,0,0,0,0,1,0,0,0,0,0,1,0,1,1,0,0,0],\"yaxis\":\"y\",\"type\":\"histogram\"},{\"alignmentgroup\":\"True\",\"bingroup\":\"x\",\"histfunc\":\"sum\",\"hovertemplate\":\"occupation=%{x}\\u003cbr\\u003esum of Salary=%{y}\\u003cextra\\u003e\\u003c\\u002fextra\\u003e\",\"legendgroup\":\"8\",\"marker\":{\"color\":\"#636efa\",\"pattern\":{\"shape\":\"\"}},\"name\":\"8\",\"offsetgroup\":\"8\",\"orientation\":\"v\",\"showlegend\":true,\"texttemplate\":\"%{value}\",\"x\":[8,8,8,8,8,8,8,8,8,8,8,8,8,8,8,8,8,8,8,8,8,8,8,8,8,8,8,8,8,8,8,8,8,8,8,8,8,8,8,8,8,8,8,8,8,8,8,8,8,8,8,8,8,8,8,8,8,8,8,8,8,8,8,8,8,8,8,8,8,8,8,8,8,8,8,8,8,8,8,8,8,8,8,8,8,8,8,8,8],\"xaxis\":\"x\",\"y\":[0,0,0,0,0,0,0,0,0,0,0,0,0,0,0,0,0,1,0,0,0,0,0,0,0,0,0,0,0,0,0,0,0,0,0,0,0,0,0,0,0,0,0,0,0,0,0,0,0,0,1,0,0,0,0,0,0,0,0,0,0,0,0,0,0,0,0,0,0,0,0,0,0,0,0,0,0,0,0,0,0,0,0,0,0,0,0,0,0],\"yaxis\":\"y\",\"type\":\"histogram\"},{\"alignmentgroup\":\"True\",\"bingroup\":\"x\",\"histfunc\":\"sum\",\"hovertemplate\":\"occupation=%{x}\\u003cbr\\u003esum of Salary=%{y}\\u003cextra\\u003e\\u003c\\u002fextra\\u003e\",\"legendgroup\":\"13\",\"marker\":{\"color\":\"#EF553B\",\"pattern\":{\"shape\":\"\"}},\"name\":\"13\",\"offsetgroup\":\"13\",\"orientation\":\"v\",\"showlegend\":true,\"texttemplate\":\"%{value}\",\"x\":[13,13,13,13,13,13,13,13,13,13,13,13,13,13,13,13,13,13,13,13,13,13,13,13,13,13,13,13,13,13,13,13,13,13,13,13,13,13,13,13,13,13,13,13,13,13,13,13,13,13,13,13,13,13,13,13,13,13,13,13,13,13,13,13,13,13,13,13,13,13,13,13,13,13,13,13,13,13,13,13,13,13,13,13,13,13,13,13,13,13,13,13,13,13,13,13,13,13,13,13,13,13,13,13,13,13,13,13,13,13,13,13,13,13,13,13,13,13,13,13,13,13,13,13,13,13,13,13,13,13,13,13,13,13,13,13,13,13,13,13,13,13,13,13,13,13,13,13,13,13,13,13,13,13,13,13,13,13,13,13,13,13,13,13,13,13,13,13,13,13,13,13,13,13,13,13,13,13,13,13,13,13,13,13,13,13,13,13,13,13,13,13,13,13,13,13,13,13,13,13,13,13,13,13,13,13,13,13,13,13,13,13,13,13,13,13,13,13,13,13,13,13,13,13,13,13,13,13,13,13,13,13,13,13,13,13,13,13,13,13,13,13,13,13,13,13,13,13,13,13,13,13,13,13,13,13,13,13,13,13,13,13,13,13,13,13,13,13,13,13,13,13,13,13,13,13,13,13,13,13,13,13,13,13,13,13,13,13,13,13,13,13,13,13,13,13,13,13,13,13,13,13,13,13,13,13,13,13,13,13,13,13,13,13,13,13,13,13,13,13,13,13,13,13,13,13,13,13,13,13,13,13,13,13,13,13,13,13,13,13,13,13,13,13,13,13,13,13,13,13,13,13,13,13,13,13,13,13,13,13,13,13,13,13,13,13,13,13,13,13,13,13,13,13,13,13,13,13,13,13,13,13,13,13,13,13,13,13,13,13,13,13,13,13,13,13,13,13,13,13,13,13,13,13,13,13,13,13,13,13,13,13,13,13,13,13,13,13,13,13,13,13,13,13,13,13,13,13,13,13,13,13,13,13,13,13,13,13,13,13,13,13,13,13,13,13,13,13,13,13,13,13,13,13,13,13,13,13,13,13,13,13,13,13,13,13,13,13,13,13,13,13,13,13,13,13,13,13,13,13,13,13,13,13,13,13,13,13,13,13,13,13,13,13,13,13,13,13,13,13,13,13,13,13,13,13,13,13,13,13,13,13,13,13,13,13,13,13,13,13,13,13,13,13,13,13,13,13,13,13,13,13,13,13,13,13,13,13,13,13,13,13,13,13,13,13,13,13,13,13,13,13,13,13,13,13,13,13,13,13,13,13,13,13,13,13,13,13,13,13,13,13,13,13,13,13,13,13,13,13,13,13,13,13,13,13,13,13,13,13,13,13,13,13,13,13,13,13,13,13,13,13,13,13,13,13,13,13,13,13,13,13,13,13,13,13,13,13,13,13,13,13,13,13,13,13,13,13,13,13,13,13,13,13,13,13,13,13,13,13,13,13,13,13,13,13,13,13,13,13,13,13,13,13,13,13,13,13,13,13,13,13,13,13,13,13,13,13,13,13,13,13,13,13,13,13,13,13,13,13,13,13,13,13,13,13,13,13,13,13,13,13,13,13,13,13,13,13,13,13,13,13,13,13,13,13,13,13,13,13,13,13,13,13,13,13,13,13,13,13,13,13,13,13,13,13,13,13,13,13,13,13,13,13,13,13,13,13,13,13,13,13,13,13],\"xaxis\":\"x\",\"y\":[0,0,0,1,0,0,0,0,1,0,0,1,1,0,1,1,1,0,0,0,1,0,0,0,1,0,1,0,1,0,0,1,0,0,1,0,0,0,0,0,0,1,0,1,0,0,0,0,0,1,0,1,0,0,0,0,1,0,0,1,0,0,0,0,0,0,0,0,0,0,0,0,0,0,0,0,0,0,0,0,1,0,1,0,0,0,0,0,1,0,0,0,0,0,0,0,0,1,0,0,0,0,0,0,0,1,0,0,0,0,0,0,0,0,0,0,1,0,0,0,1,0,0,0,0,1,0,0,0,0,0,0,0,0,0,1,1,0,0,0,0,0,0,0,0,0,0,0,0,0,0,0,1,0,0,1,0,0,0,0,1,0,1,0,0,0,1,1,0,0,0,1,0,1,0,0,0,0,1,0,0,1,0,0,0,0,0,0,0,1,0,0,0,0,0,0,0,0,0,0,0,0,0,0,0,0,1,1,0,0,0,1,0,0,0,0,0,0,0,1,0,0,1,0,0,0,0,0,1,1,0,0,0,0,0,0,0,0,0,0,0,0,0,1,0,0,0,0,0,1,0,0,1,0,0,0,1,0,0,0,0,0,1,0,0,0,0,0,0,0,0,0,0,0,0,0,1,0,0,0,0,0,1,0,0,1,0,0,1,1,0,1,1,0,1,0,0,0,0,0,0,1,0,0,1,0,0,0,0,1,0,0,0,0,0,0,0,0,0,0,0,0,1,0,1,0,0,0,0,1,0,0,1,1,0,0,0,0,0,0,1,0,1,0,1,0,0,0,0,1,1,0,0,1,0,1,0,0,0,0,0,1,0,1,0,1,1,0,0,0,0,0,0,0,0,0,0,0,0,0,0,1,0,0,1,1,0,1,0,0,0,0,0,0,0,0,0,0,1,1,0,0,0,1,0,0,0,1,0,0,0,0,1,0,1,1,1,0,0,0,0,1,0,1,0,0,0,1,0,0,0,0,0,0,0,0,0,1,0,0,0,0,0,1,0,0,0,0,0,1,0,0,0,0,0,0,0,0,1,0,0,1,0,0,1,0,1,1,1,0,1,0,0,0,0,0,1,0,0,0,0,0,0,0,0,0,0,0,0,0,0,0,0,1,0,0,0,0,1,0,1,0,1,0,0,1,1,0,0,0,0,0,1,0,0,0,0,0,0,0,0,1,0,0,0,0,0,1,0,0,0,0,0,1,1,1,0,0,0,0,1,0,0,0,0,0,0,1,0,0,0,1,0,1,0,0,0,0,0,0,0,0,0,1,0,1,0,0,1,0,0,0,1,0,0,0,1,0,0,0,0,0,1,1,0,0,0,0,0,0,0,0,0,0,0,1,0,0,1,0,0,0,1,0,0,0,0,0,0,1,0,0,1,0,1,0,0,0,0,0,0,1,0,0,1,0,0,0,1,1,0,0,0,1,0,0,0,0,0,0,0,1,0,0,0,0,1,0,0,0,0,1,0,0,0,1,1,0,1,0,0,0,0,0,0,0,0,0,1,0,0,0,0,0,0,0,0,0,0,0,0,0,0,0,0,0,0,0,0,0,0,1,0,1,0,0,0,0,0,1,0,0,1,0,0,0,0,0,0,0,1,0,0,0,0,0,0,0,0,1,1,0,0,0,0,0,0,0,1,0,0,1,0,0,1,0,0,1,0,1,0,1,0,0],\"yaxis\":\"y\",\"type\":\"histogram\"},{\"alignmentgroup\":\"True\",\"bingroup\":\"x\",\"histfunc\":\"sum\",\"hovertemplate\":\"occupation=%{x}\\u003cbr\\u003esum of Salary=%{y}\\u003cextra\\u003e\\u003c\\u002fextra\\u003e\",\"legendgroup\":\"5\",\"marker\":{\"color\":\"#00cc96\",\"pattern\":{\"shape\":\"\"}},\"name\":\"5\",\"offsetgroup\":\"5\",\"orientation\":\"v\",\"showlegend\":true,\"texttemplate\":\"%{value}\",\"x\":[5,5,5,5,5,5,5,5,5,5,5,5,5,5,5,5,5,5,5,5,5,5,5,5,5,5,5,5,5,5,5,5,5,5,5,5,5,5,5,5,5,5,5,5,5,5,5,5,5,5,5,5,5,5,5,5,5,5,5,5,5,5,5,5,5,5,5,5,5,5,5,5,5,5,5,5,5,5,5,5,5,5,5,5,5,5,5,5,5,5,5,5,5,5,5,5,5,5,5,5,5,5,5,5,5,5,5,5,5,5,5,5,5,5,5,5,5,5,5,5,5,5,5,5,5,5,5,5,5,5,5,5,5,5,5,5,5,5,5,5,5,5,5,5,5,5,5,5,5,5,5,5,5,5,5,5,5,5,5,5,5,5,5,5,5,5,5,5,5,5,5,5,5,5,5,5,5,5,5,5,5,5,5,5,5,5,5,5,5,5,5,5,5,5,5,5,5,5,5,5,5,5,5,5,5,5,5,5,5,5,5,5,5,5,5,5,5,5,5,5,5,5,5,5,5,5,5,5,5,5,5,5,5,5,5,5,5,5,5,5,5,5,5,5,5,5,5,5,5,5,5,5,5,5,5,5,5,5,5,5,5,5,5,5,5,5,5,5,5,5,5,5,5,5,5,5,5,5,5,5,5,5,5,5,5,5,5,5,5,5,5,5,5,5,5,5,5,5,5,5,5,5,5,5,5,5,5,5,5,5,5,5,5,5,5,5,5,5,5,5,5,5,5,5,5,5,5,5,5,5,5,5,5,5,5,5,5,5,5,5,5,5,5,5,5,5,5,5,5,5,5,5,5,5,5,5,5,5,5,5,5,5,5,5,5,5,5,5,5,5,5,5,5,5,5,5,5,5,5,5,5,5,5,5,5,5,5,5,5,5,5,5,5,5,5,5,5,5,5,5,5,5,5,5,5,5,5,5,5,5,5,5,5,5,5,5,5,5,5,5,5,5,5,5,5,5,5,5,5,5,5,5,5,5,5,5,5,5,5,5,5,5,5,5,5,5,5,5,5,5,5,5,5,5,5,5,5,5,5,5,5,5,5,5,5,5,5,5,5,5,5,5,5,5,5,5,5,5,5,5,5,5,5,5,5,5,5,5,5,5,5,5,5,5,5,5,5,5,5,5,5,5,5,5,5,5,5,5,5,5,5,5,5,5,5,5,5,5,5,5,5,5,5,5,5,5,5,5,5,5,5,5,5,5,5,5,5,5,5,5,5,5,5,5,5,5,5,5,5,5,5,5,5,5,5,5,5,5,5,5,5,5,5,5,5,5,5,5,5,5,5,5,5,5,5,5,5,5,5,5,5,5,5,5,5,5,5,5,5,5,5,5,5,5,5,5,5,5,5,5,5,5,5,5,5,5,5,5,5,5,5,5,5,5,5,5,5,5,5,5,5,5,5,5,5,5,5,5,5,5,5,5,5,5,5,5,5,5,5,5,5,5,5,5,5,5,5,5,5,5,5,5,5,5,5,5,5,5,5,5,5,5,5,5,5,5,5,5,5,5,5,5,5,5,5,5,5,5,5,5,5,5,5,5,5,5,5,5,5,5,5,5,5,5,5,5],\"xaxis\":\"x\",\"y\":[0,0,0,0,0,0,0,0,0,0,0,1,0,1,0,1,0,0,0,0,0,0,0,0,0,0,0,0,0,0,0,1,0,0,0,0,0,0,0,0,1,0,0,0,0,0,0,0,0,0,0,0,1,0,0,0,0,1,0,0,0,0,0,0,0,0,0,0,0,0,0,0,0,0,0,0,0,0,0,0,0,0,0,1,0,0,1,0,0,0,0,0,0,0,0,0,0,0,0,0,0,0,0,0,0,0,0,0,0,0,0,0,0,0,0,0,1,0,1,0,0,1,0,0,0,0,1,0,0,0,0,0,0,0,0,0,0,0,0,0,0,0,0,0,1,0,0,0,0,0,0,0,0,0,0,0,0,1,0,0,0,0,0,0,0,0,0,1,0,0,0,0,0,0,0,0,1,0,0,0,0,0,1,0,0,0,0,0,0,1,0,0,0,0,0,0,0,1,0,0,0,0,0,0,0,0,0,0,0,0,0,0,0,0,0,0,0,1,0,0,0,0,0,1,0,0,0,0,1,0,0,0,0,0,0,0,0,0,0,0,0,0,0,0,0,0,0,0,0,0,0,0,0,0,0,0,0,0,1,0,0,0,0,0,0,0,0,0,0,0,1,0,0,0,0,0,0,0,0,0,0,0,0,0,0,0,0,0,0,0,0,0,0,0,0,0,0,0,0,0,0,0,0,0,0,0,0,0,0,0,0,0,1,0,0,0,0,0,0,0,1,0,0,0,0,0,0,0,0,1,0,0,0,0,0,0,0,0,0,0,0,0,1,0,0,1,0,0,0,0,0,0,0,0,0,0,0,0,0,0,0,0,0,0,0,0,0,0,0,1,0,0,0,1,0,0,0,0,0,0,0,0,0,0,1,0,0,1,0,0,0,0,0,0,0,0,0,0,0,0,0,0,0,1,0,0,0,0,0,0,0,0,0,0,0,0,0,0,0,0,0,0,0,0,0,0,0,0,0,0,0,0,0,0,0,0,0,0,0,0,1,0,0,0,0,0,0,0,0,0,0,0,0,0,0,0,0,0,0,0,0,0,0,0,0,0,0,0,1,0,0,0,0,0,0,1,0,0,0,0,0,0,0,0,0,0,0,0,0,0,0,0,1,0,0,0,0,0,0,0,0,0,0,1,0,0,0,0,0,0,0,0,0,0,0,0,0,0,0,0,0,0,0,0,0,0,0,0,0,0,0,0,0,0,0,0,0,0,0,0,0,0,0,0,0,0,0,0,0,0,0,0,0,0,0,0,0,0,0,0,0,1,0,0,0,0,0,0,0,0,1,0,0,0,0,0,0,0,0,0,0,0,0,0,0,1,0,1,0,0,0,0,0,0,0,0,1,0,0,0,0,0,0,0,0,0,0,0,0,0,0,0,0,0,0,0,0,0,0,0,0,0,0,0,0,0,0,0,0,0,0,0,0,0,0,0,1,0,1,0,0,0,0,0,0,0,0,0,1,0,0,0,0,0,0,0,0,0,0,0,0,0,0,0,0,0,1,0,0,0,0,0,0,0,1,0,0,0,1,0,0,0,0,0,1,0,0,0,0,0,0,0,0,0,0,0],\"yaxis\":\"y\",\"type\":\"histogram\"},{\"alignmentgroup\":\"True\",\"bingroup\":\"x\",\"histfunc\":\"sum\",\"hovertemplate\":\"occupation=%{x}\\u003cbr\\u003esum of Salary=%{y}\\u003cextra\\u003e\\u003c\\u002fextra\\u003e\",\"legendgroup\":\"1\",\"marker\":{\"color\":\"#ab63fa\",\"pattern\":{\"shape\":\"\"}},\"name\":\"1\",\"offsetgroup\":\"1\",\"orientation\":\"v\",\"showlegend\":true,\"texttemplate\":\"%{value}\",\"x\":[1,1,1,1,1],\"xaxis\":\"x\",\"y\":[0,1,1,1,0],\"yaxis\":\"y\",\"type\":\"histogram\"}],                        {\"template\":{\"data\":{\"histogram2dcontour\":[{\"type\":\"histogram2dcontour\",\"colorbar\":{\"outlinewidth\":0,\"ticks\":\"\"},\"colorscale\":[[0.0,\"#0d0887\"],[0.1111111111111111,\"#46039f\"],[0.2222222222222222,\"#7201a8\"],[0.3333333333333333,\"#9c179e\"],[0.4444444444444444,\"#bd3786\"],[0.5555555555555556,\"#d8576b\"],[0.6666666666666666,\"#ed7953\"],[0.7777777777777778,\"#fb9f3a\"],[0.8888888888888888,\"#fdca26\"],[1.0,\"#f0f921\"]]}],\"choropleth\":[{\"type\":\"choropleth\",\"colorbar\":{\"outlinewidth\":0,\"ticks\":\"\"}}],\"histogram2d\":[{\"type\":\"histogram2d\",\"colorbar\":{\"outlinewidth\":0,\"ticks\":\"\"},\"colorscale\":[[0.0,\"#0d0887\"],[0.1111111111111111,\"#46039f\"],[0.2222222222222222,\"#7201a8\"],[0.3333333333333333,\"#9c179e\"],[0.4444444444444444,\"#bd3786\"],[0.5555555555555556,\"#d8576b\"],[0.6666666666666666,\"#ed7953\"],[0.7777777777777778,\"#fb9f3a\"],[0.8888888888888888,\"#fdca26\"],[1.0,\"#f0f921\"]]}],\"heatmap\":[{\"type\":\"heatmap\",\"colorbar\":{\"outlinewidth\":0,\"ticks\":\"\"},\"colorscale\":[[0.0,\"#0d0887\"],[0.1111111111111111,\"#46039f\"],[0.2222222222222222,\"#7201a8\"],[0.3333333333333333,\"#9c179e\"],[0.4444444444444444,\"#bd3786\"],[0.5555555555555556,\"#d8576b\"],[0.6666666666666666,\"#ed7953\"],[0.7777777777777778,\"#fb9f3a\"],[0.8888888888888888,\"#fdca26\"],[1.0,\"#f0f921\"]]}],\"heatmapgl\":[{\"type\":\"heatmapgl\",\"colorbar\":{\"outlinewidth\":0,\"ticks\":\"\"},\"colorscale\":[[0.0,\"#0d0887\"],[0.1111111111111111,\"#46039f\"],[0.2222222222222222,\"#7201a8\"],[0.3333333333333333,\"#9c179e\"],[0.4444444444444444,\"#bd3786\"],[0.5555555555555556,\"#d8576b\"],[0.6666666666666666,\"#ed7953\"],[0.7777777777777778,\"#fb9f3a\"],[0.8888888888888888,\"#fdca26\"],[1.0,\"#f0f921\"]]}],\"contourcarpet\":[{\"type\":\"contourcarpet\",\"colorbar\":{\"outlinewidth\":0,\"ticks\":\"\"}}],\"contour\":[{\"type\":\"contour\",\"colorbar\":{\"outlinewidth\":0,\"ticks\":\"\"},\"colorscale\":[[0.0,\"#0d0887\"],[0.1111111111111111,\"#46039f\"],[0.2222222222222222,\"#7201a8\"],[0.3333333333333333,\"#9c179e\"],[0.4444444444444444,\"#bd3786\"],[0.5555555555555556,\"#d8576b\"],[0.6666666666666666,\"#ed7953\"],[0.7777777777777778,\"#fb9f3a\"],[0.8888888888888888,\"#fdca26\"],[1.0,\"#f0f921\"]]}],\"surface\":[{\"type\":\"surface\",\"colorbar\":{\"outlinewidth\":0,\"ticks\":\"\"},\"colorscale\":[[0.0,\"#0d0887\"],[0.1111111111111111,\"#46039f\"],[0.2222222222222222,\"#7201a8\"],[0.3333333333333333,\"#9c179e\"],[0.4444444444444444,\"#bd3786\"],[0.5555555555555556,\"#d8576b\"],[0.6666666666666666,\"#ed7953\"],[0.7777777777777778,\"#fb9f3a\"],[0.8888888888888888,\"#fdca26\"],[1.0,\"#f0f921\"]]}],\"mesh3d\":[{\"type\":\"mesh3d\",\"colorbar\":{\"outlinewidth\":0,\"ticks\":\"\"}}],\"scatter\":[{\"fillpattern\":{\"fillmode\":\"overlay\",\"size\":10,\"solidity\":0.2},\"type\":\"scatter\"}],\"parcoords\":[{\"type\":\"parcoords\",\"line\":{\"colorbar\":{\"outlinewidth\":0,\"ticks\":\"\"}}}],\"scatterpolargl\":[{\"type\":\"scatterpolargl\",\"marker\":{\"colorbar\":{\"outlinewidth\":0,\"ticks\":\"\"}}}],\"bar\":[{\"error_x\":{\"color\":\"#2a3f5f\"},\"error_y\":{\"color\":\"#2a3f5f\"},\"marker\":{\"line\":{\"color\":\"#E5ECF6\",\"width\":0.5},\"pattern\":{\"fillmode\":\"overlay\",\"size\":10,\"solidity\":0.2}},\"type\":\"bar\"}],\"scattergeo\":[{\"type\":\"scattergeo\",\"marker\":{\"colorbar\":{\"outlinewidth\":0,\"ticks\":\"\"}}}],\"scatterpolar\":[{\"type\":\"scatterpolar\",\"marker\":{\"colorbar\":{\"outlinewidth\":0,\"ticks\":\"\"}}}],\"histogram\":[{\"marker\":{\"pattern\":{\"fillmode\":\"overlay\",\"size\":10,\"solidity\":0.2}},\"type\":\"histogram\"}],\"scattergl\":[{\"type\":\"scattergl\",\"marker\":{\"colorbar\":{\"outlinewidth\":0,\"ticks\":\"\"}}}],\"scatter3d\":[{\"type\":\"scatter3d\",\"line\":{\"colorbar\":{\"outlinewidth\":0,\"ticks\":\"\"}},\"marker\":{\"colorbar\":{\"outlinewidth\":0,\"ticks\":\"\"}}}],\"scattermapbox\":[{\"type\":\"scattermapbox\",\"marker\":{\"colorbar\":{\"outlinewidth\":0,\"ticks\":\"\"}}}],\"scatterternary\":[{\"type\":\"scatterternary\",\"marker\":{\"colorbar\":{\"outlinewidth\":0,\"ticks\":\"\"}}}],\"scattercarpet\":[{\"type\":\"scattercarpet\",\"marker\":{\"colorbar\":{\"outlinewidth\":0,\"ticks\":\"\"}}}],\"carpet\":[{\"aaxis\":{\"endlinecolor\":\"#2a3f5f\",\"gridcolor\":\"white\",\"linecolor\":\"white\",\"minorgridcolor\":\"white\",\"startlinecolor\":\"#2a3f5f\"},\"baxis\":{\"endlinecolor\":\"#2a3f5f\",\"gridcolor\":\"white\",\"linecolor\":\"white\",\"minorgridcolor\":\"white\",\"startlinecolor\":\"#2a3f5f\"},\"type\":\"carpet\"}],\"table\":[{\"cells\":{\"fill\":{\"color\":\"#EBF0F8\"},\"line\":{\"color\":\"white\"}},\"header\":{\"fill\":{\"color\":\"#C8D4E3\"},\"line\":{\"color\":\"white\"}},\"type\":\"table\"}],\"barpolar\":[{\"marker\":{\"line\":{\"color\":\"#E5ECF6\",\"width\":0.5},\"pattern\":{\"fillmode\":\"overlay\",\"size\":10,\"solidity\":0.2}},\"type\":\"barpolar\"}],\"pie\":[{\"automargin\":true,\"type\":\"pie\"}]},\"layout\":{\"autotypenumbers\":\"strict\",\"colorway\":[\"#636efa\",\"#EF553B\",\"#00cc96\",\"#ab63fa\",\"#FFA15A\",\"#19d3f3\",\"#FF6692\",\"#B6E880\",\"#FF97FF\",\"#FECB52\"],\"font\":{\"color\":\"#2a3f5f\"},\"hovermode\":\"closest\",\"hoverlabel\":{\"align\":\"left\"},\"paper_bgcolor\":\"white\",\"plot_bgcolor\":\"#E5ECF6\",\"polar\":{\"bgcolor\":\"#E5ECF6\",\"angularaxis\":{\"gridcolor\":\"white\",\"linecolor\":\"white\",\"ticks\":\"\"},\"radialaxis\":{\"gridcolor\":\"white\",\"linecolor\":\"white\",\"ticks\":\"\"}},\"ternary\":{\"bgcolor\":\"#E5ECF6\",\"aaxis\":{\"gridcolor\":\"white\",\"linecolor\":\"white\",\"ticks\":\"\"},\"baxis\":{\"gridcolor\":\"white\",\"linecolor\":\"white\",\"ticks\":\"\"},\"caxis\":{\"gridcolor\":\"white\",\"linecolor\":\"white\",\"ticks\":\"\"}},\"coloraxis\":{\"colorbar\":{\"outlinewidth\":0,\"ticks\":\"\"}},\"colorscale\":{\"sequential\":[[0.0,\"#0d0887\"],[0.1111111111111111,\"#46039f\"],[0.2222222222222222,\"#7201a8\"],[0.3333333333333333,\"#9c179e\"],[0.4444444444444444,\"#bd3786\"],[0.5555555555555556,\"#d8576b\"],[0.6666666666666666,\"#ed7953\"],[0.7777777777777778,\"#fb9f3a\"],[0.8888888888888888,\"#fdca26\"],[1.0,\"#f0f921\"]],\"sequentialminus\":[[0.0,\"#0d0887\"],[0.1111111111111111,\"#46039f\"],[0.2222222222222222,\"#7201a8\"],[0.3333333333333333,\"#9c179e\"],[0.4444444444444444,\"#bd3786\"],[0.5555555555555556,\"#d8576b\"],[0.6666666666666666,\"#ed7953\"],[0.7777777777777778,\"#fb9f3a\"],[0.8888888888888888,\"#fdca26\"],[1.0,\"#f0f921\"]],\"diverging\":[[0,\"#8e0152\"],[0.1,\"#c51b7d\"],[0.2,\"#de77ae\"],[0.3,\"#f1b6da\"],[0.4,\"#fde0ef\"],[0.5,\"#f7f7f7\"],[0.6,\"#e6f5d0\"],[0.7,\"#b8e186\"],[0.8,\"#7fbc41\"],[0.9,\"#4d9221\"],[1,\"#276419\"]]},\"xaxis\":{\"gridcolor\":\"white\",\"linecolor\":\"white\",\"ticks\":\"\",\"title\":{\"standoff\":15},\"zerolinecolor\":\"white\",\"automargin\":true,\"zerolinewidth\":2},\"yaxis\":{\"gridcolor\":\"white\",\"linecolor\":\"white\",\"ticks\":\"\",\"title\":{\"standoff\":15},\"zerolinecolor\":\"white\",\"automargin\":true,\"zerolinewidth\":2},\"scene\":{\"xaxis\":{\"backgroundcolor\":\"#E5ECF6\",\"gridcolor\":\"white\",\"linecolor\":\"white\",\"showbackground\":true,\"ticks\":\"\",\"zerolinecolor\":\"white\",\"gridwidth\":2},\"yaxis\":{\"backgroundcolor\":\"#E5ECF6\",\"gridcolor\":\"white\",\"linecolor\":\"white\",\"showbackground\":true,\"ticks\":\"\",\"zerolinecolor\":\"white\",\"gridwidth\":2},\"zaxis\":{\"backgroundcolor\":\"#E5ECF6\",\"gridcolor\":\"white\",\"linecolor\":\"white\",\"showbackground\":true,\"ticks\":\"\",\"zerolinecolor\":\"white\",\"gridwidth\":2}},\"shapedefaults\":{\"line\":{\"color\":\"#2a3f5f\"}},\"annotationdefaults\":{\"arrowcolor\":\"#2a3f5f\",\"arrowhead\":0,\"arrowwidth\":1},\"geo\":{\"bgcolor\":\"white\",\"landcolor\":\"#E5ECF6\",\"subunitcolor\":\"white\",\"showland\":true,\"showlakes\":true,\"lakecolor\":\"white\"},\"title\":{\"x\":0.05},\"mapbox\":{\"style\":\"light\"}}},\"xaxis\":{\"anchor\":\"y\",\"domain\":[0.0,1.0],\"title\":{\"text\":\"occupation\"},\"categoryorder\":\"array\",\"categoryarray\":[6,4,10,7,9,2,0,3,12,11,8,13,5,1]},\"yaxis\":{\"anchor\":\"x\",\"domain\":[0.0,1.0],\"title\":{\"text\":\"sum of Salary\"}},\"legend\":{\"title\":{\"text\":\"occupation\"},\"tracegroupgap\":0},\"margin\":{\"t\":60},\"barmode\":\"relative\"},                        {\"responsive\": true}                    ).then(function(){\n",
              "                            \n",
              "var gd = document.getElementById('92d2c1b4-ba28-4c6e-be20-1e32f8cf9882');\n",
              "var x = new MutationObserver(function (mutations, observer) {{\n",
              "        var display = window.getComputedStyle(gd).display;\n",
              "        if (!display || display === 'none') {{\n",
              "            console.log([gd, 'removed!']);\n",
              "            Plotly.purge(gd);\n",
              "            observer.disconnect();\n",
              "        }}\n",
              "}});\n",
              "\n",
              "// Listen for the removal of the full notebook cells\n",
              "var notebookContainer = gd.closest('#notebook-container');\n",
              "if (notebookContainer) {{\n",
              "    x.observe(notebookContainer, {childList: true});\n",
              "}}\n",
              "\n",
              "// Listen for the clearing of the current output cell\n",
              "var outputEl = gd.closest('.output');\n",
              "if (outputEl) {{\n",
              "    x.observe(outputEl, {childList: true});\n",
              "}}\n",
              "\n",
              "                        })                };                            </script>        </div>\n",
              "</body>\n",
              "</html>"
            ]
          },
          "metadata": {}
        }
      ]
    },
    {
      "cell_type": "markdown",
      "source": [
        "**With respect to Occupation exec-managerial is having the salary >=50K**"
      ],
      "metadata": {
        "id": "8Et2a4VP1ujT"
      }
    },
    {
      "cell_type": "code",
      "source": [
        "fig=px.histogram(data_train,x='workclass',y='Salary')\n",
        "fig.show()"
      ],
      "metadata": {
        "colab": {
          "base_uri": "https://localhost:8080/",
          "height": 542
        },
        "id": "Bid62yru1x6h",
        "outputId": "9cd129eb-ed77-4048-b115-a7f0f9247e2f"
      },
      "execution_count": 30,
      "outputs": [
        {
          "output_type": "display_data",
          "data": {
            "text/html": [
              "<html>\n",
              "<head><meta charset=\"utf-8\" /></head>\n",
              "<body>\n",
              "    <div>            <script src=\"https://cdnjs.cloudflare.com/ajax/libs/mathjax/2.7.5/MathJax.js?config=TeX-AMS-MML_SVG\"></script><script type=\"text/javascript\">if (window.MathJax && window.MathJax.Hub && window.MathJax.Hub.Config) {window.MathJax.Hub.Config({SVG: {font: \"STIX-Web\"}});}</script>                <script type=\"text/javascript\">window.PlotlyConfig = {MathJaxConfig: 'local'};</script>\n",
              "        <script charset=\"utf-8\" src=\"https://cdn.plot.ly/plotly-2.24.1.min.js\"></script>                <div id=\"d31a24cf-0d96-41a5-a332-1309a750e7e1\" class=\"plotly-graph-div\" style=\"height:525px; width:100%;\"></div>            <script type=\"text/javascript\">                                    window.PLOTLYENV=window.PLOTLYENV || {};                                    if (document.getElementById(\"d31a24cf-0d96-41a5-a332-1309a750e7e1\")) {                    Plotly.newPlot(                        \"d31a24cf-0d96-41a5-a332-1309a750e7e1\",                        [{\"alignmentgroup\":\"True\",\"bingroup\":\"x\",\"histfunc\":\"sum\",\"hovertemplate\":\"workclass=%{x}\\u003cbr\\u003esum of Salary=%{y}\\u003cextra\\u003e\\u003c\\u002fextra\\u003e\",\"legendgroup\":\"\",\"marker\":{\"color\":\"#636efa\",\"pattern\":{\"shape\":\"\"}},\"name\":\"\",\"offsetgroup\":\"\",\"orientation\":\"v\",\"showlegend\":false,\"x\":[2,2,1,2,2,4,2,2,2,0,2,2,2,5,2,2,2,2,2,2,4,2,2,2,4,5,4,4,1,2,1,2,2,2,2,3,2,2,5,2,2,2,2,3,2,2,2,2,2,2,2,1,3,2,2,2,2,2,1,3,2,2,2,2,2,2,2,2,2,3,2,2,3,2,2,4,2,0,2,0,2,0,2,0,2,2,2,2,2,2,2,2,4,1,2,1,2,2,2,2,2,2,2,2,2,2,2,2,1,2,2,2,2,2,0,2,4,2,2,2,3,2,2,2,2,2,2,2,2,2,3,2,4,2,2,2,2,2,2,2,2,5,2,1,2,2,3,2,2,2,2,5,2,4,2,2,1,2,2,2,2,1,2,2,2,3,2,2,3,2,2,2,2,2,2,2,2,2,2,2,3,2,2,1,3,2,1,2,3,2,1,2,2,2,2,0,2,2,2,0,2,2,2,2,2,2,3,1,2,2,1,2,2,2,2,4,2,2,2,2,2,1,4,2,4,0,2,2,2,5,2,2,2,2,2,0,2,5,4,2,1,2,2,2,2,2,2,2,2,2,5,2,2,2,3,2,0,2,2,2,2,2,2,2,0,2,2,2,2,2,2,2,2,2,4,2,2,2,1,2,2,2,2,3,4,1,2,4,2,2,2,2,2,2,2,3,2,2,2,2,1,2,4,2,2,2,2,2,2,2,3,2,2,2,2,2,2,2,2,2,2,2,2,1,2,2,2,2,4,0,2,2,2,2,1,2,3,2,4,4,2,2,2,2,4,4,2,2,2,2,4,2,4,2,2,2,2,2,4,2,2,2,1,2,2,2,2,2,2,2,2,2,2,2,2,2,2,2,2,2,0,2,2,5,3,3,2,2,2,2,2,2,2,2,3,2,2,2,4,2,4,2,2,2,2,4,2,2,2,2,2,2,5,4,0,2,5,2,1,2,2,2,5,2,2,4,5,5,0,2,2,2,2,0,2,4,2,2,2,2,2,2,2,2,2,2,2,2,2,2,2,2,2,2,5,2,2,2,2,5,4,2,1,2,4,2,2,0,4,2,2,2,2,2,2,2,5,2,1,4,2,1,2,2,3,2,2,2,1,2,2,3,2,2,2,2,2,2,2,2,2,2,2,2,2,2,4,2,2,3,2,2,5,4,2,2,2,2,2,5,2,2,2,4,4,2,2,4,4,2,2,2,4,2,2,2,2,4,2,2,2,2,2,1,2,2,2,2,1,3,2,2,2,3,3,2,2,2,2,5,2,2,1,2,1,2,2,2,2,2,2,2,2,2,2,2,2,2,2,2,3,4,2,4,2,2,2,2,5,2,0,2,0,5,2,2,2,1,2,2,4,2,1,2,0,2,2,2,2,2,2,2,2,2,3,2,2,0,1,2,2,2,2,2,1,4,4,2,2,2,0,4,2,1,2,2,2,2,2,2,2,1,2,2,2,5,4,2,2,2,5,3,2,2,3,2,3,4,2,4,2,2,2,4,4,2,3,3,2,2,2,2,5,2,4,2,1,2,1,1,2,2,2,4,2,2,4,5,5,0,0,1,2,2,5,3,1,2,2,2,0,5,2,2,2,2,2,5,2,2,2,2,2,5,2,2,2,2,2,2,2,2,2,2,2,1,2,5,2,2,4,1,5,5,2,2,1,2,2,1,2,2,2,2,2,5,4,2,2,1,2,4,2,5,2,1,1,2,2,2,2,2,2,2,2,2,5,2,2,0,2,2,2,2,4,2,2,5,2,2,5,2,4,2,2,2,3,2,4,2,5,2,2,1,2,5,4,2,1,2,2,0,2,0,2,4,2,2,2,2,2,2,2,5,2,2,1,2,5,2,2,0,2,2,2,2,1,2,2,2,4,2,2,2,2,2,2,2,2,3,4,4,2,2,2,2,2,2,2,2,1,2,2,1,2,2,2,2,4,4,2,3,2,2,4,2,4,4,2,2,2,2,3,2,2,2,4,2,0,2,2,2,1,2,2,1,2,4,2,2,2,2,2,2,2,2,2,2,2,2,4,2,2,5,1,4,2,4,4,1,2,2,2,1,0,2,2,5,4,3,1,2,2,1,2,2,2,2,4,2,2,4,1,2,1,2,2,0,2,2,2,4,2,4,0,2,0,2,2,2,2,2,2,4,2,2,2,2,1,5,3,5,2,2,0,2,5,2,2,2,2,2,5,2,5,2,2,2,2,2,2,5,2,2,2,2,2,2,2,2,2,5,2,2,2,2,2,2,2,2,2,4,3,2,5,2,4,2,2,2,2,2,2,3,2,2,5,2,4,2,2,2,2,2,2,2,4,2,2,4,2,0,2,2,2,2,1,2,2,2,5,2,2,1,2,2,2,2,4,4,2,2,2,2,2,5,2,2,2,2,4,2,2,2,2,2,2,5,3,5,2,2,2,4,2,2,1,2,2,2,4,2,1,2,2,2,2,0,2,2,2,2,2,2,2,5,2,4,2,2,2,2,0,4,5,1,2,2,2,2,2,2,2,2,2,2,1,3,2,4,1,2,2,2,2,1,2,2,2,2,2,2,4,2,2,2,2,2,1,2,2,2,2,4,2,2,2,2,2,3,0,5,2,2,5,2,1,3,2,2,2,4,2,2,2,2,2,2,2,2,2,2,4,2,4,2,2,4,2,5,2,0,2,2,2,0,4,2,2,5,2,2,2,2,2,2,2,2,2,2,2,5,5,2,2,5,2,2,2,1,2,2,2,2,2,2,2,2,2,2,1,2,2,2,2,2,2,5,2,2,2,2,3,2,4,2,2,2,5,2,2,2,2,2,2,2,2,2,2,4,2,3,2,2,2,1,2,2,1,1,2,2,1,2,2,4,1,2,2,2,1,2,4,2,2,2,2,2,2,2,1,2,3,2,1,2,5,2,2,0,3,2,2,2,2,4,2,2,2,4,2,2,2,2,5,2,2,2,3,1,2,2,2,2,5,2,5,2,2,4,3,5,1,2,2,2,0,1,2,2,2,2,2,2,2,3,2,1,0,2,2,2,2,2,2,4,4,2,2,2,2,2,2,1,2,2,5,2,2,1,2,5,2,2,3,2,1,4,2,2,4,1,2,1,2,2,4,2,2,2,2,2,0,2,4,2,2,2,2,2,2,1,1,2,2,2,2,4,2,4,2,2,2,4,2,2,2,2,2,2,2,2,4,2,2,4,2,2,2,2,2,2,2,5,2,5,2,2,2,2,2,2,2,2,2,1,2,2,2,5,2,3,2,1,1,2,2,2,1,0,2,2,2,2,2,2,2,2,0,2,2,2,2,4,4,2,2,5,1,2,1,2,2,2,2,2,2,2,2,2,2,2,2,2,2,2,2,2,2,2,2,2,2,2,2,2,3,4,1,2,2,2,4,5,2,5,2,2,1,2,5,2,2,1,2,2,2,1,2,2,0,2,3,2,2,2,4,2,5,4,2,2,2,0,2,2,2,4,2,2,5,4,2,2,0,2,5,4,2,2,2,2,2,4,2,5,2,2,2,0,2,2,2,2,2,2,2,2,2,2,2,2,2,4,2,1,2,5,4,2,1,3,1,2,0,2,2,2,3,5,2,2,4,2,2,2,2,2,2,2,2,2,2,2,4,5,2,2,1,1,2,2,2,3,1,1,2,2,2,2,2,2,2,2,2,3,2,0,2,5,2,2,2,0,2,5,2,2,2,2,2,2,2,1,2,2,2,2,0,3,2,2,2,2,2,5,0,1,2,2,2,1,2,2,2,5,2,4,2,2,2,2,2,2,2,3,5,4,2,2,2,2,2,2,2,5,0,2,2,2,2,2,2,2,2,2,1,2,2,5,2,2,2,1,4,2,0,3,2,1,2,2,2,2,2,5,2,3,2,2,2,2,2,2,2,2,2,2,2,4,2,2,2,2,2,2,2,2,2,0,2,1,2,2,2,4,2,2,2,4,2,2,4,0,4,2,2,2,3,2,2,2,2,4,2,2,2,2,2,2,2,2,2,2,2,2,2,4,2,0,1,2,2,2,2,2,2,0,2,2,4,1,1,2,2,2,2,2,3,4,2,2,2,2,2,2,2,2,2,1,2,5,2,2,1,3,1,3,2,1,2,2,2,1,2,5,1,3,2,2,4,2,2,2,3,2,2,2,2,2,1,5,2,2,2,2,5,1,2,2,2,2,2,2,2,4,2,2,2,5,2,2,1,2,2,4,2,2,2,2,2,2,4,2,2,2,2,0,2,2,2,2,2,2,4,2,0,2,2,2,2,2,4,2,2,2,2,2,5,2,2,2,2,2,1,2,2,2,2,2,1,2,2,0,2,4,2,5,2,2,3,2,2,2,4,2,4,0,2,2,2,2,2,2,1,2,2,2,4,2,2,2,2,2,2,2,2,2,2,2,2,2,2,2,2,2,2,2,2,2,2,2,0,1,2,2,3,0,2,2,2,2,2,2,4,2,2,3,2,2,2,2,2,2,1,2,2,2,2,2,2,2,5,2,2,5,2,4,3,2,0,2,2,3,2,2,0,1,2,2,1,4,2,0,2,2,4,2,2,2,2,2,1,0,4,5,2,2,3,4,2,2,2,2,2,2,2,2,2,2,2,0,2,2,2,5,2,2,2,2,2,1,3,5,2,2,2,2,2,2,2,2,5,2,2,5,2,2,2,2,4,4,2,4,2,3,2,2,2,2,2,3,2,2,1,2,2,1,2,2,2,2,2,2,2,2,1,3,2,2,2,2,2,2,2,2,2,2,2,2,2,2,2,0,4,3,3,2,5,3,2,2,2,2,4,2,2,1,1,2,2,2,2,2,2,2,2,2,2,4,3,5,2,2,0,2,2,2,2,2,2,2,2,2,2,2,2,2,2,4,2,2,2,2,2,2,2,2,2,0,2,2,4,2,2,2,2,2,2,4,1,2,2,2,2,2,4,2,2,2,2,4,2,2,2,2,2,2,2,2,2,5,2,2,2,2,5,4,2,2,2,2,4,2,4,2,2,2,2,2,2,2,1,2,2,2,0,2,2,2,2,2,2,2,2,2,2,2,0,3,1,2,2,2,2,2,2,1,4,2,3,2,2,3,4,0,1,2,2,2,2,2,4,1,5,2,2,2,2,3,2,2,4,2,1,2,2,2,0,2,5,5,2,3,2,2,4,2,2,2,2,2,2,2,4,2,2,2,2,2,1,1,2,2,1,2,2,2,2,2,3,2,2,2,2,4,2,2,2,2,2,2,4,2,2,2,3,5,5,2,2,2,2,2,2,2,0,2,2,2,2,2,2,0,2,2,4,5,5,2,2,1,2,2,4,2,1,2,2,3,2,1,5,4,2,2,2,4,2,2,2,5,3,0,2,2,2,3,5,2,2,1,2,4,5,0,2,2,2,2,4,2,2,2,2,5,4,2,2,2,0,4,2,2,0,4,2,2,2,1,2,4,4,2,2,2,0,3,2,2,2,2,2,2,4,2,2,2,2,2,2,2,0,1,4,2,1,2,4,2,2,2,2,2,2,4,4,2,2,2,2,2,4,1,1,2,2,2,2,2,3,2,2,2,2,4,2,3,2,2,2,2,2,2,2,1,2,5,2,2,1,2,2,2,2,2,2,4,1,2,4,5,2,2,4,2,2,2,2,5,2,2,2,2,2,1,4,2,3,2,2,2,2,2,2,2,4,2,4,5,4,2,3,5,2,1,5,2,2,1,2,5,2,2,3,2,2,2,2,2,2,2,2,2,2,2,2,5,2,2,2,2,2,4,2,2,2,2,4,3,2,2,4,2,2,5,2,3,2,2,2,2,2,2,2,2,2,2,3,2,2,2,2,5,0,2,4,2,2,3,2,1,2,2,0,2,2,2,2,2,2,2,2,2,2,2,2,2,3,2,4,2,2,0,2,2,2,5,4,2,2,2,2,2,2,2,2,2,2,2,2,2,2,4,2,2,2,2,1,2,2,4,2,2,2,2,2,5,2,2,2,2,2,5,2,2,2,2,2,0,2,2,2,2,2,2,2,2,2,2,2,2,2,2,2,2,2,2,2,1,2,2,4,1,2,2,4,4,2,2,2,2,5,2,2,5,2,2,2,4,4,2,4,2,2,3,2,0,2,2,2,4,5,2,2,2,2,2,2,2,0,2,2,2,2,4,2,5,4,2,4,2,6,2,2,2,2,1,2,2,2,2,2,3,2,2,2,2,4,2,2,5,0,2,1,2,2,2,2,2,2,2,2,3,2,2,2,2,2,2,5,2,2,2,2,2,2,2,0,2,2,2,2,5,2,5,2,2,1,2,4,1,4,2,2,2,4,2,1,2,2,2,2,2,2,2,2,2,2,4,2,2,1,2,1,2,2,0,2,2,2,2,2,2,2,2,2,2,2,0,2,1,2,2,2,2,2,4,2,2,2,5,2,2,3,2,2,2,1,2,3,2,2,2,2,2,2,2,5,2,2,2,2,2,2,2,2,2,2,2,2,2,5,0,2,2,2,4,3,2,2,2,2,2,2,2,2,2,1,2,2,2,2,2,5,1,3,4,1,2,2,2,2,4,2,2,2,5,3,2,2,2,2,2,2,2,2,2,0,2,2,2,2,2,2,2,2,2,5,4,5,2,1,4,2,5,6,2,2,2,2,2,1,2,2,2,2,2,2,1,3,2,2,2,2,2,1,2,2,2,2,2,2,2,2,1,1,2,2,2,2,2,2,1,2,2,2,2,2,1,4,2,2,2,2,2,2,2,2,4,2,5,2,0,3,5,2,2,2,2,2,2,2,2,2,2,2,2,2,5,2,2,2,2,5,2,2,2,2,3,2,2,1,0,2,2,2,2,2,2,2,2,2,2,2,2,2,2,2,2,2,2,2,2,2,2,2,3,3,2,2,4,2,2,3,2,2,2,2,2,2,2,2,2,4,2,2,0,2,2,4,2,2,2,2,5,2,2,1,2,2,2,3,2,2,2,2,2,4,2,2,2,2,2,3,2,2,5,2,2,2,2,2,2,2,2,1,2,2,2,2,3,3,2,2,2,2,2,2,2,5,2,2,1,2,2,2,3,2,2,2,2,2,4,2,2,2,2,2,2,2,4,1,2,2,2,2,4,2,2,2,2,4,1,2,1,0,2,2,2,1,2,2,2,2,2,3,4,4,2,2,2,2,2,2,2,1,2,2,2,4,1,2,2,2,3,2,1,2,2,2,2,2,4,2,2,5,4,4,3,2,4,2,2,0,2,2,2,2,2,2,4,2,2,2,2,2,2,2,2,2,2,1,2,2,2,2,2,2,2,1,2,4,0,4,4,2,2,2,2,2,2,4,2,2,1,2,2,2,2,2,2,4,2,2,4,3,2,3,4,2,2,2,2,3,2,2,2,2,2,4,2,2,4,2,2,1,4,2,2,2,3,1,1,2,2,2,2,2,1,2,2,2,2,2,2,2,1,2,2,2,5,2,2,2,2,2,2,4,2,2,2,0,2,2,2,2,2,2,2,5,4,2,2,2,1,2,0,2,2,2,2,2,2,2,2,1,4,2,2,4,2,2,2,2,2,2,2,1,2,1,2,2,2,2,4,2,1,2,2,4,2,2,4,2,5,2,2,5,2,2,2,2,2,2,2,1,2,2,1,2,2,2,2,2,5,2,2,2,4,1,4,2,2,2,0,2,1,2,2,2,1,2,2,2,2,2,2,2,2,2,2,5,2,2,2,4,3,2,2,2,2,3,2,0,2,2,2,2,2,2,2,5,2,2,1,2,2,2,4,2,4,4,2,2,2,2,1,1,0,2,2,2,2,2,5,2,2,2,2,5,2,4,4,2,2,2,2,4,5,2,2,2,1,2,2,5,2,2,5,5,2,2,2,2,2,1,2,1,2,5,1,2,4,2,2,2,2,2,2,2,2,2,3,2,2,2,2,2,2,2,2,2,2,2,2,2,2,2,2,2,0,2,2,3,2,2,2,2,2,2,1,2,2,2,2,2,0,2,2,2,2,2,2,2,4,2,1,2,2,2,2,2,4,1,4,2,2,2,2,2,2,2,3,2,2,2,4,2,4,2,2,0,2,2,2,4,2,2,1,4,2,2,2,5,2,2,2,4,4,2,2,2,2,2,3,2,2,1,1,2,2,2,1,2,2,2,2,2,4,2,2,2,2,2,3,2,2,2,4,2,2,2,4,2,2,0,2,2,2,2,3,1,2,2,2,1,2,5,2,1,4,2,2,2,2,5,2,2,5,2,2,2,3,2,2,2,4,2,3,2,2,2,2,3,2,2,2,2,2,2,0,2,2,2,4,0,2,2,1,2,2,2,2,2,2,2,4,2,0,2,5,2,0,2,2,2,2,4,2,2,2,2,2,4,2,2,2,5,5,2,2,5,2,2,2,2,2,2,2,2,2,4,2,2,2,2,3,3,2,2,2,2,2,3,2,2,2,2,2,2,2,2,2,2,2,2,4,2,2,2,2,5,2,2,2,2,2,1,2,2,2,2,2,4,2,2,5,3,2,3,2,4,2,2,2,5,4,2,2,2,2,4,2,2,2,2,2,2,1,3,3,2,4,0,4,1,1,1,4,2,2,2,3,4,1,2,2,2,2,2,2,2,2,2,3,2,2,2,2,2,2,2,2,2,0,2,3,2,2,2,2,2,2,4,2,2,1,2,2,1,2,2,2,2,2,2,2,3,2,5,2,2,3,2,2,3,0,2,2,5,2,2,2,2,2,2,2,2,4,2,2,2,2,2,2,2,2,2,2,2,2,2,2,2,2,2,2,2,5,2,2,1,2,2,4,2,2,2,3,2,4,5,2,2,0,1,2,2,2,2,2,2,2,2,2,2,0,2,2,0,5,2,2,4,2,2,2,2,2,2,2,2,2,0,2,2,5,4,2,2,4,4,2,2,2,2,4,4,2,2,4,2,2,2,5,4,2,2,2,2,2,2,2,1,4,2,2,2,3,2,2,2,2,2,2,2,2,2,2,1,1,2,2,2,2,2,2,2,2,2,2,2,3,4,0,1,2,2,4,0,1,2,2,2,2,2,2,2,3,2,2,1,2,2,0,4,1,2,2,1,2,2,2,4,2,2,2,2,2,1,2,2,2,5,2,2,2,2,2,2,2,1,2,2,4,2,1,3,2,2,4,2,0,2,2,2,2,4,2,2,2,2,2,2,2,2,2,2,1,2,2,2,1,2,4,1,2,2,2,2,1,2,5,2,4,2,2,5,5,4,2,5,2,4,2,5,4,3,2,2,2,2,2,2,5,2,5,4,0,2,2,2,4,4,3,2,4,2,2,4,0,2,1,1,2,2,2,2,4,2,2,2,2,2,2,2,2,5,2,5,2,2,4,2,5,2,5,5,2,2,2,3,2,4,2,2,2,1,1,2,2,1,2,2,2,2,5,2,2,2,2,2,2,2,3,2,2,2,2,2,2,2,2,2,2,2,4,1,2,2,2,4,2,2,5,2,2,4,2,4,4,1,2,2,4,2,2,1,2,2,5,2,2,2,2,2,2,5,1,1,5,2,2,2,2,2,2,2,4,2,2,4,2,2,5,2,2,2,2,2,2,5,5,2,5,2,2,2,2,2,5,2,2,3,2,2,2,2,2,2,2,2,4,2,2,2,2,2,2,2,2,2,2,2,5,4,2,1,1,1,2,2,2,1,1,2,0,2,2,2,0,2,2,0,2,2,2,2,2,2,2,3,2,2,2,2,2,1,2,2,2,2,0,2,1,2,2,2,0,2,2,2,2,2,5,2,2,2,2,2,1,1,2,1,2,2,5,4,2,2,2,1,2,2,4,4,2,2,2,0,2,2,3,2,2,0,3,2,4,2,4,1,2,2,2,2,0,1,4,2,2,2,2,4,2,2,2,2,4,2,4,2,2,2,1,2,2,2,5,2,2,2,2,2,2,2,2,2,2,2,2,4,2,2,2,2,4,2,2,2,2,2,2,4,2,2,2,2,2,2,2,0,2,2,2,2,2,1,3,3,2,2,2,2,2,5,1,2,2,2,2,2,4,2,2,5,4,2,2,2,2,4,2,2,2,2,2,2,2,3,2,2,2,1,2,2,2,2,2,2,2,2,2,5,2,4,2,2,2,3,2,3,5,4,2,1,2,2,2,2,2,2,3,2,2,2,2,3,2,2,2,2,2,2,2,2,2,2,2,2,2,4,4,2,2,2,2,2,2,2,1,2,2,2,2,2,2,1,2,1,2,2,4,2,2,2,2,1,2,2,2,1,2,2,2,1,2,2,2,2,3,3,2,2,2,2,2,2,4,2,2,2,2,0,5,2,2,2,5,2,4,2,2,2,2,2,2,2,2,1,2,2,2,2,2,2,2,2,2,2,2,2,2,4,2,2,0,2,3,2,2,1,2,1,2,2,2,2,2,2,2,3,0,2,2,0,2,5,3,2,2,2,2,2,2,2,2,2,3,5,4,4,2,2,1,2,4,2,2,1,4,2,2,2,3,2,2,2,5,5,2,2,4,2,5,2,2,2,2,2,2,4,4,2,2,2,2,2,2,2,2,2,2,2,2,2,2,2,2,2,2,2,1,2,2,2,2,2,2,2,4,5,2,2,2,2,2,2,3,4,2,4,2,2,2,5,0,2,4,4,4,2,2,2,4,2,2,2,1,0,2,4,2,2,2,2,2,2,2,4,2,2,2,2,5,2,4,2,2,1,2,2,2,2,2,2,5,2,2,2,2,5,2,2,2,3,2,2,2,2,2,2,1,2,3,1,2,4,2,4,2,2,2,2,1,2,5,2,2,2,2,2,2,2,2,0,2,2,2,2,2,2,2,5,5,2,5,2,2,2,5,4,2,4,1,2,2,2,1,2,2,2,2,2,2,2,2,2,2,3,2,2,3,3,2,2,2,0,2,2,2,4,3,2,2,2,4,2,2,2,2,2,5,2,1,2,2,2,1,2,2,0,2,2,2,2,2,2,3,2,2,2,4,2,4,0,2,1,2,4,2,2,5,2,2,2,2,2,2,2,2,5,2,2,2,2,2,2,2,2,2,2,2,2,1,2,2,4,2,3,2,3,0,1,2,2,2,1,2,2,2,3,2,5,5,4,2,2,3,2,2,2,2,2,2,4,2,0,2,2,2,2,5,2,2,4,2,2,2,2,2,2,4,2,5,1,2,2,2,2,2,5,2,2,2,2,5,2,2,2,2,2,2,2,2,2,2,2,1,2,2,2,2,0,2,2,3,3,2,2,5,2,2,2,2,4,1,2,2,2,1,2,2,2,2,2,2,4,2,2,2,2,2,1,3,4,2,4,2,2,2,4,2,2,2,2,2,1,2,2,2,2,0,2,1,2,4,2,4,2,2,2,2,2,2,2,2,2,2,3,2,2,2,2,4,2,2,2,2,2,2,2,2,2,2,2,1,2,2,2,2,5,3,3,2,1,2,2,2,4,1,2,1,2,2,2,1,2,2,2,2,3,2,4,2,2,5,2,2,2,2,2,2,2,1,4,5,2,2,2,2,4,2,2,2,5,3,2,2,2,4,2,0,2,2,2,2,2,2,2,4,2,2,2,2,4,2,2,2,2,4,2,2,2,1,4,4,2,2,2,2,2,2,2,0,2,0,2,2,2,2,1,2,2,2,4,2,2,2,4,2,2,2,2,2,2,1,2,2,2,0,2,5,2,2,2,1,2,2,2,2,1,2,2,4,1,2,4,3,3,1,2,2,2,2,2,2,2,2,2,2,2,1,2,2,2,2,2,2,2,2,2,2,2,2,2,2,2,2,0,2,2,2,4,1,4,2,2,2,2,2,2,2,2,2,4,2,2,2,4,2,2,2,2,1,2,1,0,2,5,2,2,2,2,2,2,0,1,2,2,3,2,2,3,2,2,2,1,1,4,2,2,2,2,2,3,2,2,4,2,2,2,2,2,2,4,2,1,2,1,2,2,2,2,4,2,1,4,3,2,4,2,2,4,2,2,2,2,2,2,2,2,2,5,2,2,3,2,2,2,2,2,3,0,2,2,2,2,2,2,2,1,1,2,2,5,2,2,1,2,3,2,2,5,2,2,3,2,2,2,5,1,2,4,5,2,2,4,2,2,2,2,2,1,2,2,2,2,2,2,2,2,2,2,2,2,2,1,2,2,2,2,5,2,1,4,2,2,2,2,2,2,2,2,2,2,2,2,2,4,5,4,4,5,2,2,0,2,2,2,2,2,2,2,1,5,2,2,2,2,2,2,2,2,2,1,2,2,5,2,3,2,2,3,2,2,2,2,5,2,2,2,2,2,2,2,2,0,2,2,4,4,2,2,2,2,2,4,2,2,2,2,2,2,5,5,2,5,2,4,1,2,2,5,2,1,2,2,2,2,2,2,2,3,4,0,2,2,4,2,2,2,2,2,2,2,2,2,2,2,2,0,2,2,2,1,2,0,2,3,2,2,2,2,2,2,2,2,2,2,1,2,1,2,2,2,2,2,2,2,2,2,1,2,4,2,2,4,1,2,1,2,2,2,2,2,4,3,2,2,4,2,4,3,2,4,2,1,2,2,2,2,0,2,2,2,2,4,1,2,3,2,2,2,2,2,2,2,2,2,2,2,0,3,2,2,2,2,2,0,4,3,5,2,1,2,2,2,2,4,1,2,2,2,2,1,3,4,1,5,2,2,2,2,1,2,2,2,2,4,2,2,2,2,4,0,2,2,2,1,2,2,5,2,2,2,1,2,2,3,2,4,2,2,1,2,2,2,2,2,2,2,2,2,4,2,5,2,2,2,2,2,2,2,3,2,2,2,1,1,2,4,2,2,2,2,4,2,4,3,2,1,2,5,2,2,2,3,2,2,2,3,1,2,5,1,2,2,4,2,4,4,4,4,2,2,2,1,0,4,2,2,1,2,2,2,0,2,2,2,3,2,4,2,2,2,0,2,2,2,2,2,2,2,3,2,2,2,2,2,2,2,2,2,2,2,2,5,4,2,0,2,2,2,2,2,0,2,2,2,2,2,4,2,4,2,2,2,2,4,5,2,2,2,2,2,4,2,2,2,4,2,1,2,2,2,2,2,2,2,1,2,2,1,2,2,2,4,2,2,3,2,2,2,4,2,4,2,3,4,1,2,2,2,1,2,2,1,2,2,0,2,2,2,4,5,2,2,2,2,2,2,2,3,2,2,1,2,2,5,2,2,2,1,4,2,2,2,2,2,2,2,2,3,2,2,2,2,2,2,2,0,2,2,2,2,2,2,5,0,5,2,2,2,2,2,2,2,3,0,2,4,2,2,2,2,2,2,2,4,2,2,2,1,5,2,5,3,2,0,2,2,2,2,2,2,2,2,2,4,2,2,0,2,2,2,5,2,5,4,1,1,2,2,2,2,4,1,2,2,2,2,2,1,0,2,5,1,2,2,2,2,4,2,2,4,2,2,3,2,2,2,2,4,2,2,2,2,2,5,2,2,2,2,2,1,2,2,6,2,1,4,2,2,2,2,2,2,2,4,2,2,2,1,5,4,2,4,2,2,2,2,2,4,1,2,5,2,2,1,2,2,0,2,2,2,4,2,1,2,2,2,3,4,4,0,2,2,2,5,2,2,2,4,2,1,4,2,2,2,2,2,2,2,5,2,2,2,2,5,2,2,2,2,1,2,2,2,2,2,2,2,1,2,2,2,2,2,1,2,2,2,2,2,2,2,2,2,2,2,1,2,5,2,2,2,0,4,2,2,2,1,2,2,2,4,2,2,1,2,2,2,2,2,2,2,3,2,2,2,1,2,2,2,2,2,2,2,2,2,2,2,2,2,2,2,2,2,2,2,2,2,2,2,3,2,2,0,2,2,2,1,2,2,5,5,2,4,0,2,2,3,0,4,4,1,2,2,2,0,2,2,2,1,2,5,2,2,2,3,2,2,2,3,4,3,2,2,2,4,2,2,2,2,2,2,2,2,3,2,2,2,5,2,2,3,2,1,2,2,2,2,2,2,2,5,2,2,2,3,2,2,2,3,0,3,2,2,2,2,4,2,2,2,2,2,2,2,2,2,2,2,2,2,2,2,2,2,2,2,1,2,2,2,4,2,2,2,2,2,2,3,1,2,2,2,2,2,2,2,2,2,0,3,2,2,2,5,2,2,2,2,2,2,2,2,2,2,2,2,0,1,1,2,2,2,2,2,2,2,2,2,2,2,2,2,2,2,2,2,1,5,2,4,2,2,2,2,2,4,2,2,2,2,2,2,2,2,1,5,2,5,2,2,3,2,2,2,2,2,4,2,1,2,2,2,4,2,1,2,3,2,2,2,2,2,2,3,2,4,4,2,2,1,2,2,2,2,3,2,2,2,2,2,2,0,2,2,2,2,2,1,2,2,4,2,1,4,2,2,2,5,2,2,2,2,0,2,0,2,2,2,4,2,2,4,2,2,2,2,5,2,2,2,2,2,2,2,0,2,2,2,2,2,2,2,2,2,1,1,2,2,1,2,2,2,4,4,5,2,2,2,3,2,2,1,4,4,2,2,2,2,2,2,4,2,2,5,2,4,2,2,1,2,1,2,4,2,2,1,2,4,2,3,5,2,2,2,2,2,2,2,2,2,2,2,2,5,2,1,2,4,2,4,2,2,4,2,4,1,2,2,2,2,2,2,2,2,1,2,2,1,1,2,3,2,2,2,2,2,4,2,2,1,3,1,2,0,2,2,2,3,2,2,2,2,2,2,4,2,2,2,2,1,3,2,2,2,2,1,5,1,2,2,2,2,2,2,2,2,2,2,2,1,2,2,2,2,2,2,2,2,0,2,2,2,2,0,2,5,0,2,2,2,2,2,2,2,2,2,4,2,4,2,2,2,2,2,2,2,4,2,2,1,2,2,2,2,2,2,2,2,2,2,4,4,5,2,0,2,2,2,2,2,2,2,2,2,2,4,2,2,2,2,2,2,2,2,1,2,2,2,0,2,2,1,2,2,4,2,2,4,2,2,2,2,2,2,2,2,0,2,2,2,4,2,2,1,2,2,2,2,2,2,1,2,2,2,4,2,2,2,1,2,1,2,2,5,2,4,0,4,4,2,2,4,2,3,2,1,2,2,2,2,4,4,3,5,2,2,4,4,2,2,2,2,2,4,2,3,5,2,2,2,2,2,2,2,2,2,2,2,2,4,5,2,2,2,2,4,2,2,2,4,2,2,2,4,2,2,2,2,5,4,2,4,4,2,2,4,2,5,2,2,2,2,2,4,2,4,2,2,2,4,4,2,2,2,2,4,2,2,2,3,1,2,2,2,2,2,3,2,2,2,2,2,0,2,0,2,2,2,2,4,2,2,2,2,2,2,2,2,1,2,2,2,2,2,2,2,2,2,2,2,2,2,2,4,2,3,2,2,2,2,2,2,2,2,2,4,2,2,2,1,3,2,1,2,2,2,2,3,2,2,2,2,2,2,2,3,2,2,2,2,3,2,4,2,2,4,2,4,2,2,5,2,2,2,2,2,2,2,2,4,2,1,2,4,2,2,2,2,2,3,2,2,4,4,2,2,4,2,5,2,2,1,2,5,2,2,4,2,2,1,4,2,2,2,2,2,2,2,4,5,2,2,2,4,2,1,2,5,2,2,4,2,2,2,2,3,2,2,2,2,1,4,2,2,0,2,2,2,2,2,5,2,2,2,2,1,2,2,2,2,2,2,1,3,2,2,2,2,2,0,5,1,1,2,2,4,2,4,2,2,2,0,4,4,2,2,4,2,2,2,4,2,2,2,2,2,2,2,2,4,2,2,1,2,2,2,2,2,2,2,3,5,3,4,2,4,2,4,2,2,2,2,2,2,3,2,2,2,5,2,2,3,2,5,5,1,2,3,2,2,2,2,2,4,2,2,0,2,2,2,3,2,2,2,3,4,1,2,4,2,2,2,2,2,2,1,1,2,2,2,2,2,5,5,0,2,2,3,2,2,2,2,2,1,2,2,3,2,2,5,2,2,2,2,1,2,2,2,2,3,2,5,2,2,2,2,2,2,2,2,2,2,2,2,1,2,2,2,4,2,3,2,2,2,2,2,2,2,1,2,2,2,2,1,2,2,2,2,2,2,4,2,2,2,2,2,1,2,4,4,5,2,2,2,2,2,2,4,1,2,2,4,2,5,2,2,2,2,2,2,1,4,1,2,2,2,1,2,2,1,2,2,2,2,0,2,2,2,2,1,2,2,0,2,2,0,2,2,4,3,2,2,2,2,2,2,2,2,2,2,1,2,2,5,2,1,2,2,5,2,2,4,2,2,0,2,4,2,2,2,2,2,3,1,2,2,3,2,2,2,2,1,2,2,2,2,2,2,1,2,1,4,2,2,2,2,0,2,2,2,1,2,2,5,2,4,2,4,2,2,2,2,2,4,2,4,2,1,4,2,2,2,2,2,2,2,2,2,2,2,2,2,4,1,2,2,1,2,2,4,2,5,2,2,2,2,2,2,2,2,2,2,2,2,4,2,2,2,2,2,2,1,2,1,2,2,5,2,2,2,2,2,2,5,2,2,2,2,4,2,2,2,2,2,2,5,4,2,4,2,2,2,2,2,0,2,2,2,2,2,3,0,2,2,2,1,2,1,4,4,2,2,2,2,2,2,2,2,4,5,2,2,2,2,2,2,2,2,2,4,2,2,2,2,2,1,2,2,2,4,2,2,2,2,2,0,2,2,2,2,2,2,2,2,2,2,2,2,2,2,0,2,2,2,2,2,2,2,3,4,1,2,2,2,2,2,2,2,2,2,5,0,2,1,2,2,2,2,2,2,2,2,2,3,2,2,2,4,4,2,2,5,2,2,1,2,2,2,2,4,3,2,5,4,4,2,2,2,2,2,4,2,2,1,1,2,5,2,1,2,2,2,2,3,2,1,2,2,2,5,2,2,2,2,2,2,2,4,0,2,2,2,2,2,1,2,2,2,2,1,1,1,2,2,2,2,2,2,4,2,2,5,2,2,2,2,2,4,4,0,2,2,0,2,2,2,1,2,2,2,1,2,2,2,2,2,2,2,2,2,2,2,2,2,2,1,2,4,4,2,4,3,2,2,1,2,2,2,2,2,2,2,1,4,4,2,2,2,1,2,1,2,5,2,2,2,2,2,2,2,2,2,2,2,1,3,2,1,2,2,2,2,2,5,2,4,2,2,0,3,2,2,4,4,2,2,0,3,3,2,2,2,2,2,2,2,1,2,2,2,2,3,2,2,1,2,2,2,2,2,1,2,0,0,2,2,2,2,2,2,2,2,2,2,2,2,2,2,2,2,4,2,2,2,4,4,2,2,4,3,2,5,4,4,0,2,5,2,2,2,2,2,2,2,2,2,2,2,2,2,0,2,5,4,2,2,4,2,2,2,2,4,2,2,2,2,2,2,2,2,2,2,2,2,2,2,2,2,4,2,2,5,0,2,2,2,2,1,2,2,2,2,2,2,2,2,4,0,4,2,2,2,2,2,2,2,2,2,2,2,0,2,2,4,2,2,4,2,2,2,4,2,2,2,4,2,3,2,4,2,1,2,2,2,2,2,1,2,2,2,2,2,5,2,2,4,2,2,1,2,1,2,2,0,1,1,2,2,3,2,2,1,2,2,2,2,2,2,0,3,4,2,2,2,5,4,2,2,2,5,1,2,2,2,0,2,2,2,2,4,5,2,5,1,2,2,2,2,2,3,2,2,2,2,2,2,2,2,0,2,2,2,4,1,2,2,2,5,2,2,2,2,2,2,4,2,2,2,4,2,2,2,4,2,2,5,2,3,5,3,1,3,2,1,2,3,2,2,3,2,2,2,2,2,3,2,4,2,5,2,2,1,2,2,2,4,2,2,2,2,1,2,2,2,2,2,4,2,2,2,2,4,2,2,2,2,2,2,2,2,3,2,2,2,2,2,3,2,3,2,2,2,2,5,0,1,1,2,2,2,2,2,4,2,2,2,2,2,2,2,2,2,2,2,3,2,1,1,3,2,2,1,2,2,2,2,2,2,2,1,2,2,2,3,2,2,2,0,2,2,1,1,1,2,2,2,2,2,2,2,0,2,2,5,2,3,2,2,2,2,2,3,2,1,2,2,1,2,2,4,2,4,2,3,2,2,2,2,1,4,2,4,4,1,2,3,2,2,2,3,2,4,4,2,2,1,2,2,2,2,2,2,1,2,2,5,0,2,2,2,4,2,4,2,2,5,2,2,5,4,0,2,2,5,2,2,2,5,2,4,2,2,2,4,2,2,2,2,3,2,2,1,2,2,2,2,2,2,2,4,2,2,1,2,0,2,2,2,2,1,2,2,3,2,1,2,2,2,2,2,2,2,2,2,4,2,2,4,4,1,2,3,2,5,0,4,5,4,2,2,2,2,4,2,5,2,2,2,5,2,2,3,5,2,2,4,2,2,2,2,2,2,2,2,2,2,2,2,2,2,1,4,2,2,2,1,2,2,3,2,2,4,4,2,2,4,2,2,2,2,5,0,2,4,2,2,2,0,2,2,2,0,2,2,3,2,0,2,2,2,2,2,2,2,2,2,2,2,5,2,2,2,2,2,2,1,2,2,2,2,2,2,5,2,2,2,6,2,2,2,2,2,2,2,1,5,2,2,2,2,4,2,2,1,3,2,2,2,2,2,2,2,2,2,1,1,2,2,1,2,2,2,2,5,2,3,2,5,4,4,2,5,2,1,2,2,0,2,2,2,2,1,2,2,2,2,4,4,2,2,2,2,2,2,2,4,2,1,4,2,2,2,2,4,2,2,2,2,2,2,2,2,2,2,4,2,2,2,4,2,2,2,2,2,2,2,2,1,2,2,2,2,2,0,2,4,2,2,2,4,2,3,2,2,2,3,2,2,2,1,2,2,2,2,2,2,1,1,4,2,5,2,2,2,2,2,2,4,1,2,4,2,0,2,2,2,2,2,2,2,3,2,2,5,2,2,2,2,2,2,2,2,2,2,2,4,0,2,2,2,2,2,2,1,2,2,2,2,0,2,2,1,2,4,0,2,5,2,2,2,1,5,2,2,2,4,2,4,5,2,2,2,2,5,2,2,2,4,2,2,4,2,2,2,2,0,1,2,2,2,2,2,4,1,2,2,4,2,4,0,2,3,2,2,2,2,2,3,2,2,5,1,2,2,2,4,2,2,2,2,2,4,2,2,2,2,2,5,2,2,3,2,2,2,0,2,5,4,2,4,2,2,0,2,2,2,2,2,2,2,1,2,2,2,2,2,2,2,2,2,2,2,3,2,2,4,1,2,2,4,2,5,4,2,2,2,2,1,2,0,2,5,2,2,2,2,2,4,1,2,5,2,2,2,4,2,2,2,4,2,0,1,2,2,2,4,2,4,2,1,5,3,0,1,2,5,2,2,2,2,2,2,2,2,2,0,2,2,2,1,2,2,2,2,2,2,5,2,2,2,2,5,4,2,2,2,0,2,1,2,1,3,2,2,2,2,2,2,1,2,2,2,2,2,2,2,1,2,4,1,2,2,2,5,2,1,5,5,2,2,2,2,2,5,2,2,2,5,2,2,2,2,2,2,2,2,2,2,4,2,2,4,2,1,1,2,4,2,2,2,2,2,2,2,2,4,2,2,2,3,2,1,4,2,2,2,2,2,2,2,0,2,2,5,2,2,5,2,2,2,4,2,2,2,2,2,2,2,0,4,2,0,2,2,2,2,2,4,2,2,2,4,2,4,2,2,2,2,0,0,2,2,2,3,2,2,2,2,5,2,2,2,4,2,2,2,2,4,2,2,2,2,2,2,2,2,3,5,2,1,2,2,1,2,2,2,2,2,2,2,4,2,4,2,2,2,2,2,4,2,2,2,4,2,2,3,2,2,2,2,2,2,2,1,2,2,2,2,2,2,2,1,2,2,2,2,0,2,2,2,2,2,2,2,2,2,2,2,2,1,2,2,4,2,2,2,2,2,1,2,3,2,3,2,2,2,2,2,2,2,2,3,2,2,1,2,4,2,2,2,2,5,2,2,2,5,2,2,5,4,2,4,4,2,2,5,2,1,2,2,2,2,2,2,2,2,2,1,2,2,1,2,2,2,5,4,2,2,2,4,2,2,2,2,2,0,2,2,2,2,2,2,2,2,2,4,2,2,2,2,2,2,1,2,2,3,2,2,2,2,3,1,2,5,2,2,2,4,2,2,2,2,2,2,2,2,2,2,2,1,4,3,2,2,2,1,2,3,2,2,2,2,2,2,2,3,2,2,3,2,2,2,5,4,2,1,5,2,0,2,2,0,2,4,2,3,2,2,2,4,5,1,2,5,4,2,4,2,2,2,2,2,2,2,1,1,2,2,0,0,2,2,4,2,2,2,2,2,4,2,2,4,2,2,2,4,2,2,2,2,2,3,2,1,4,0,2,2,2,2,2,2,2,2,2,2,2,2,2,2,2,2,2,2,2,2,2,2,2,2,2,1,2,2,2,2,2,2,2,3,2,2,2,2,2,2,2,2,2,2,1,3,2,2,2,2,2,2,5,4,2,1,2,2,4,2,2,4,2,2,2,1,2,2,2,4,2,5,2,0,2,2,2,2,2,2,2,2,5,0,2,2,2,2,1,0,2,1,2,2,2,2,2,3,2,4,4,2,2,4,2,5,2,2,4,2,2,2,3,3,2,2,4,2,2,2,2,2,2,2,2,2,2,2,2,2,0,2,2,1,2,5,4,2,1,1,2,1,2,5,2,2,2,2,2,2,2,2,2,2,0,2,2,4,2,5,2,2,2,4,2,2,2,2,2,2,4,2,4,1,2,2,1,2,3,2,2,2,2,2,2,2,2,2,3,2,2,5,2,5,2,2,2,2,2,2,3,4,2,2,2,4,4,2,2,2,5,2,2,2,4,2,2,2,5,2,2,1,2,2,2,2,2,2,2,2,2,2,2,0,2,0,4,2,2,2,2,2,1,2,2,2,5,4,4,2,2,4,2,2,4,2,2,2,2,2,2,2,2,1,2,2,2,2,2,2,2,5,2,0,2,2,2,2,2,4,2,2,2,2,2,2,2,2,2,2,1,2,1,2,2,2,2,4,2,2,2,2,3,2,2,2,4,2,1,2,2,2,2,4,2,2,2,4,1,2,2,2,2,2,3,2,2,2,2,2,2,1,3,2,2,5,4,2,2,2,2,5,2,3,4,2,2,1,5,3,2,2,2,2,2,4,2,2,3,2,2,2,2,2,2,2,2,5,2,2,2,2,2,2,2,2,2,2,0,2,1,2,2,2,4,2,2,2,2,2,4,2,1,2,2,2,2,2,2,1,2,3,2,4,1,2,2,2,2,2,2,2,2,2,0,2,2,2,2,4,2,2,2,4,2,2,2,2,5,0,1,2,2,2,2,2,2,2,2,2,2,2,2,2,2,2,2,4,5,2,1,0,2,2,2,2,2,4,2,2,2,2,2,4,2,2,5,2,4,2,2,0,2,2,2,2,2,2,4,2,4,2,2,2,2,2,2,2,2,2,1,2,5,2,5,2,2,4,3,2,5,2,2,2,4,2,2,4,2,2,2,2,2,2,2,2,2,2,2,2,5,2,2,3,2,2,2,2,2,2,4,1,4,2,2,2,2,2,4,2,2,2,2,2,2,2,2,2,4,2,2,2,2,0,0,3,2,5,3,1,2,2,2,2,3,0,2,3,2,0,4,2,0,2,2,2,2,2,2,2,2,2,2,2,2,2,2,2,3,2,2,2,2,2,5,2,2,2,2,2,1,2,2,2,2,4,1,2,1,2,1,2,3,2,2,2,2,2,2,2,1,2,2,4,2,3,0,3,2,2,2,2,2,4,2,1,2,2,2,2,2,4,4,2,4,2,2,2,5,5,2,2,4,4,2,2,1,1,2,5,2,1,2,1,0,2,2,2,2,2,2,2,4,2,2,2,2,4,2,5,2,2,2,2,2,4,4,2,2,4,2,2,2,2,2,2,2,2,2,2,4,2,2,2,2,1,2,2,4,1,2,2,2,1,2,2,2,3,3,2,2,2,4,1,2,2,2,2,2,2,2,2,4,2,2,2,2,2,2,2,2,1,2,2,0,4,2,1,2,0,1,2,2,2,1,2,4,2,2,2,2,3,2,4,2,5,2,4,2,2,2,2,2,2,2,2,1,2,2,2,0,2,2,2,0,2,0,2,2,1,0,2,2,2,2,2,2,2,2,0,2,2,2,2,4,2,2,2,6,2,5,2,2,4,2,1,2,2,2,2,2,2,2,3,2,2,2,2,2,2,2,1,2,2,2,4,2,3,2,2,2,2,2,2,4,2,2,2,2,2,4,2,1,1,2,4,4,4,2,2,1,2,1,2,0,2,2,2,2,2,2,1,2,2,2,4,2,2,2,2,2,2,1,2,2,2,5,2,2,2,1,2,2,4,1,2,2,0,2,2,2,2,2,2,2,2,2,4,5,2,2,2,2,2,2,2,1,2,2,2,2,2,3,1,4,2,2,4,4,2,4,1,2,2,4,2,2,2,2,2,2,2,2,5,2,2,2,2,2,2,3,2,1,2,2,3,4,2,2,2,2,2,2,2,4,2,5,2,4,2,2,2,2,2,2,5,2,1,2,2,2,2,5,2,2,2,2,5,2,2,2,2,2,1,5,2,1,2,4,2,2,2,2,1,2,1,2,2,2,2,2,2,4,2,2,2,2,2,2,2,4,2,1,2,2,2,2,2,2,2,2,0,1,2,4,2,1,2,2,2,4,4,2,2,2,2,2,2,2,1,2,3,2,2,2,2,2,2,2,1,2,2,4,2,5,2,2,1,2,2,2,2,0,2,2,2,2,3,3,2,2,4,2,4,2,2,2,1,0,2,2,1,0,2,1,2,2,1,2,5,2,2,2,2,2,2,2,2,2,2,2,1,2,2,2,3,2,2,2,5,2,3,2,1,2,2,2,2,2,2,2,2,2,2,4,4,2,2,2,2,3,2,2,2,2,4,2,4,2,4,2,2,2,2,3,2,4,2,2,2,1,2,2,2,2,2,2,2,2,2,2,2,2,4,2,2,2,3,2,2,2,2,0,2,2,2,4,4,0,0,2,2,2,2,2,2,2,2,2,2,2,2,2,2,2,2,2,2,2,5,2,2,2,2,2,2,2,1,1,2,2,2,2,2,2,2,2,2,2,2,2,2,0,2,2,2,2,2,1,2,2,5,2,2,4,2,1,2,2,2,2,2,2,2,2,0,5,3,4,2,2,2,5,2,2,2,2,2,3,2,2,2,2,4,2,2,1,2,2,2,2,4,2,2,4,2,2,2,2,4,2,2,2,2,5,2,2,2,5,2,2,2,1,2,2,4,2,4,2,1,2,2,2,2,2,2,5,3,2,2,1,3,1,5,2,1,2,1,5,2,2,5,1,2,2,1,3,2,2,2,2,2,2,2,2,2,2,2,2,2,2,2,2,2,2,2,2,2,2,1,2,2,2,2,2,2,2,2,2,5,2,2,2,2,5,1,2,2,3,2,2,1,2,2,2,2,2,2,2,2,2,2,1,2,2,2,2,2,2,2,3,2,1,2,2,2,2,2,2,2,3,2,4,2,2,2,4,4,2,2,2,4,5,2,2,2,2,0,1,2,2,4,2,2,4,2,2,2,2,2,2,2,2,2,4,2,0,2,2,2,2,2,2,4,2,2,4,2,4,2,1,5,0,4,4,3,2,2,2,5,2,2,2,2,0,2,2,3,2,4,1,2,2,2,2,2,2,2,5,2,2,1,2,2,2,2,2,2,2,2,2,2,2,2,2,4,5,2,2,2,2,2,2,2,2,2,2,2,2,2,2,5,2,2,2,1,2,2,2,2,2,2,2,5,3,2,2,2,2,1,4,2,1,2,2,2,2,2,2,2,1,2,2,2,5,2,2,2,2,2,2,2,2,3,3,2,2,2,2,2,4,2,2,2,5,4,2,2,2,2,2,2,1,0,2,2,1,5,2,5,2,2,2,3,2,2,2,2,2,2,2,2,2,2,4,2,2,2,0,2,2,2,1,2,2,2,2,4,4,2,2,2,2,2,2,2,2,2,0,2,2,5,2,2,4,4,2,2,2,2,2,2,1,2,2,2,2,2,1,2,4,2,1,2,2,2,1,2,2,4,2,2,2,2,2,2,2,2,2,1,2,5,2,2,2,2,2,2,2,2,2,2,2,5,2,2,2,3,4,2,2,1,2,1,2,2,1,2,2,1,2,2,2,2,2,2,4,0,2,2,2,2,1,2,3,2,3,2,2,2,2,2,5,2,2,2,2,2,2,4,2,2,3,2,3,2,2,2,2,2,2,2,2,2,3,4,2,2,2,2,1,2,2,2,2,2,2,2,2,2,2,2,4,2,2,0,2,2,2,2,2,5,2,3,2,4,5,4,2,2,2,2,2,5,4,2,2,2,3,2,2,2,4,2,1,2,4,2,2,2,4,2,2,2,2,2,5,0,2,2,2,2,2,4,2,2,2,4,2,2,2,2,2,4,2,4,2,0,2,4,2,2,2,1,2,2,2,2,2,2,2,2,2,2,2,0,2,2,2,2,2,2,2,2,2,2,2,4,2,2,4,2,2,2,2,2,1,2,2,4,1,2,2,2,3,3,5,3,2,2,3,2,4,2,2,2,0,4,5,3,0,2,2,2,4,2,2,2,2,4,2,2,2,4,2,2,2,2,1,3,4,2,4,2,1,2,2,4,2,2,2,2,2,2,1,2,2,2,2,1,2,0,2,2,2,1,2,2,2,2,2,2,2,2,2,2,4,2,2,2,2,3,2,2,2,2,4,0,3,4,2,2,2,4,4,2,2,1,2,2,2,2,2,2,2,2,3,2,1,2,2,2,2,2,3,2,2,5,2,2,2,2,2,2,2,2,2,4,5,2,3,2,2,2,2,1,2,2,2,2,2,4,5,2,2,2,0,1,2,5,2,2,2,2,3,4,2,2,2,2,2,2,2,2,2,2,2,0,2,2,0,4,2,1,2,2,2,3,2,2,2,2,2,2,4,2,2,2,2,4,2,2,2,2,2,2,2,2,2,2,2,2,2,2,2,1,2,4,2,2,1,2,2,2,2,4,2,4,2,3,2,2,2,2,2,2,4,2,2,2,2,2,2,2,2,2,4,2,2,1,2,2,2,4,5,2,2,1,4,2,2,2,1,2,2,2,1,3,2,2,5,5,2,2,2,4,4,2,2,2,2,2,2,2,2,1,4,2,2,2,2,2,2,1,5,2,2,5,2,2,2,2,2,2,2,1,2,2,0,2,2,4,4,2,2,2,1,2,2,2,2,1,2,3,2,2,4,2,2,2,2,5,5,2,2,1,2,2,3,4,1,2,2,2,2,3,2,2,2,1,2,0,2,2,2,4,2,2,2,2,2,2,1,2,2,1,2,2,1,2,4,4,4,2,2,2,2,2,2,2,4,2,2,2,4,2,5,2,2,2,4,2,2,4,2,4,2,2,1,2,2,2,2,4,2,2,2,4,2,2,2,2,2,2,4,2,2,5,2,1,2,2,2,2,4,2,2,2,0,2,2,2,2,2,4,4,4,2,2,2,2,2,1,2,5,2,5,2,2,2,4,2,4,0,2,0,2,2,2,2,2,4,2,2,2,2,2,2,2,2,2,2,2,4,1,3,2,1,2,2,2,3,2,1,2,2,0,2,4,0,2,3,2,2,2,5,2,2,2,2,2,2,2,1,2,4,2,1,2,2,2,4,2,2,4,4,2,2,1,2,2,2,2,2,2,2,2,2,2,2,4,2,2,5,2,2,1,2,1,4,1,1,2,1,2,2,2,2,2,2,2,2,5,2,2,2,2,0,2,2,2,2,2,2,1,2,2,4,4,2,2,3,4,2,2,2,2,2,2,2,2,2,2,2,3,2,2,2,2,2,2,2,2,2,2,2,2,4,2,2,2,2,2,2,4,2,2,2,2,2,2,2,2,4,2,2,2,2,2,2,2,4,0,2,2,3,2,2,2,4,2,2,2,2,0,2,2,1,2,2,3,4,2,2,2,2,2,4,1,4,2,2,1,2,4,2,2,2,4,2,2,2,2,2,2,2,2,2,3,2,2,2,1,2,2,2,2,3,2,1,1,1,2,2,2,2,2,2,2,2,2,2,4,2,1,2,4,4,0,2,2,2,3,2,2,2,2,3,2,2,2,2,2,2,2,5,2,0,2,2,2,2,2,2,2,2,1,2,2,2,2,0,2,2,0,4,2,0,2,4,2,2,2,4,2,2,2,0,2,2,2,2,4,2,5,2,2,2,2,2,2,1,2,5,2,1,2,2,2,1,2,4,1,5,2,2,2,1,2,2,2,2,2,4,2,2,2,2,2,2,2,0,2,2,3,2,2,2,2,2,2,4,2,2,2,2,1,1,2,2,2,0,2,2,2,5,2,1,2,2,2,0,2,2,2,2,2,2,2,2,4,2,2,2,2,2,2,1,2,5,2,2,4,1,2,2,1,2,2,2,2,2,5,2,2,0,2,2,4,2,4,2,4,3,2,2,5,2,4,2,2,2,2,2,2,2,2,2,2,2,2,2,5,4,0,2,2,2,2,2,2,2,2,0,3,2,2,2,2,2,2,2,2,2,4,2,2,2,2,2,2,2,2,2,2,2,2,2,2,2,2,2,2,1,2,4,2,2,2,2,2,3,2,2,2,2,1,2,2,1,2,2,2,2,2,2,2,2,2,2,2,2,2,2,2,1,5,2,2,2,2,2,2,2,2,2,2,2,2,5,0,2,2,2,4,2,2,1,2,2,4,2,2,2,2,5,2,2,2,2,1,2,2,2,2,2,5,5,2,2,2,5,3,2,5,2,2,2,4,2,2,0,4,5,2,2,2,2,1,4,2,3,4,2,2,2,2,2,1,2,2,2,2,2,2,2,2,2,2,2,4,4,1,2,2,2,2,2,4,3,2,1,2,2,2,5,2,2,2,2,2,2,2,2,2,2,2,2,2,2,2,5,2,5,5,2,4,2,2,2,2,2,2,2,2,2,2,5,0,2,2,2,2,2,2,1,2,2,2,5,2,2,2,2,2,2,2,5,2,2,2,1,2,2,2,2,2,4,0,2,2,4,2,1,2,1,2,2,2,2,2,2,2,4,2,4,4,2,2,1,2,2,2,3,4,2,2,2,2,2,2,2,2,2,2,2,2,4,2,2,2,2,2,2,2,2,2,2,2,2,2,2,2,4,4,5,2,2,2,2,2,2,4,2,2,3,2,2,2,2,2,1,2,2,4,2,2,2,2,2,2,2,2,2,2,2,2,1,2,2,4,2,2,4,1,2,2,2,2,0,3,2,2,3,2,1,4,2,5,5,2,4,1,2,2,2,2,2,2,2,2,2,2,2,2,0,2,2,2,5,2,1,2,2,4,4,2,2,3,4,1,4,0,2,0,4,5,1,5,2,1,2,3,2,4,2,4,2,5,2,2,2,5,2,3,2,2,4,2,2,5,2,2,2,2,2,2,2,2,2,2,2,2,2,3,1,2,4,2,2,2,2,2,2,0,2,3,2,2,4,2,2,2,1,3,2,1,2,2,2,5,2,2,2,2,2,2,2,2,2,0,1,2,2,2,2,4,1,2,4,2,2,4,2,2,2,5,2,2,2,2,2,2,1,3,4,1,2,2,2,2,2,2,4,2,2,2,1,2,2,2,2,2,2,2,4,2,2,0,2,2,2,2,2,2,2,0,1,2,2,2,2,2,2,2,2,2,3,1,2,2,2,1,2,2,2,0,1,2,2,2,2,2,2,0,3,2,2,4,2,2,2,2,2,4,1,2,2,2,4,2,1,2,2,2,2,2,2,2,2,4,2,2,2,4,4,2,2,5,2,2,2,2,2,3,2,2,2,2,2,2,1,2,2,2,4,4,5,2,0,2,4,2,4,2,1,2,2,1,2,2,0,3,2,0,2,2,2,2,2,2,2,2,2,2,2,1,0,2,2,2,2,2,2,2,2,2,2,2,2,2,2,2,2,2,1,2,2,4,2,3,2,4,2,2,2,5,3,2,2,2,1,2,0,2,2,4,0,2,2,2,1,2,2,2,2,2,2,2,2,4,4,2,2,2,2,2,2,2,0,2,0,2,2,2,2,2,2,2,2,5,2,0,2,4,1,2,2,1,2,2,2,2,2,0,2,2,2,1,2,2,2,2,5,2,2,2,2,2,2,2,3,2,2,2,2,2,1,4,2,2,4,1,2,2,2,2,4,2,2,2,2,2,2,2,2,0,2,2,2,1,5,3,2,2,2,2,0,2,2,5,2,2,4,2,1,2,2,2,2,2,2,3,2,2,2,2,0,2,4,2,5,4,1,2,2,2,2,1,2,2,2,2,2,2,4,2,4,2,2,2,2,2,2,2,1,2,2,2,2,2,2,2,2,2,2,2,1,2,2,1,3,5,2,1,2,3,4,2,2,5,1,2,2,3,2,2,1,2,2,4,2,2,2,2,2,2,2,2,2,2,2,2,5,2,2,5,2,1,2,2,2,2,2,2,2,2,2,2,5,2,2,2,2,2,3,2,5,1,2,2,2,2,2,2,2,2,2,2,4,2,2,2,2,2,1,2,2,2,2,2,4,4,1,2,4,4,2,2,1,2,2,2,3,1,5,2,2,2,2,4,2,4,4,2,2,2,4,2,1,2,2,2,2,2,4,2,2,2,2,2,2,2,2,2,2,2,2,2,2,2,2,2,5,1,2,4,2,2,1,2,2,2,2,2,3,2,2,2,1,2,0,2,2,4,2,2,2,2,2,2,2,4,5,2,2,2,2,2,4,2,2,2,1,1,2,5,2,2,3,2,2,2,2,2,5,2,2,0,5,5,2,2,2,4,2,3,2,2,2,2,2,2,4,2,2,2,4,2,2,2,1,2,6,4,1,2,1,2,2,2,1,4,2,2,1,3,0,2,2,2,2,2,2,0,2,4,2,4,2,2,2,2,2,2,2,2,2,2,5,2,2,2,2,2,2,2,2,2,2,4,2,4,2,2,2,2,2,5,2,1,2,4,5,2,2,4,2,2,2,4,0,4,2,2,2,2,5,4,5,2,4,2,2,2,2,2,2,2,2,2,4,2,2,2,1,2,2,2,2,3,2,2,2,2,2,2,2,2,4,2,2,2,1,2,1,2,5,2,2,2,2,2,2,2,2,4,2,4,2,5,2,2,2,2,2,2,2,1,2,2,2,2,0,2,2,1,2,2,2,2,0,2,2,2,2,2,2,2,2,2,2,2,2,2,4,2,2,2,2,2,2,0,2,2,2,6,2,2,2,2,2,1,2,2,2,4,2,5,2,2,5,2,2,5,3,5,2,2,2,2,2,2,2,4,3,2,2,2,2,5,2,4,2,3,1,2,2,2,2,2,2,4,2,0,2,2,2,3,2,0,1,2,2,1,2,2,2,2,4,2,2,2,4,2,2,1,4,2,2,2,1,2,2,0,4,2,2,2,2,2,2,2,2,1,2,2,2,2,2,2,2,2,2,2,2,2,2,2,2,3,2,2,2,1,4,2,2,2,2,2,2,3,3,2,2,2,2,2,2,2,2,2,2,2,2,2,1,2,4,1,2,2,3,3,2,2,2,2,5,2,2,2,2,2,4,2,2,2,1,5,2,2,2,2,2,2,2,5,2,2,2,2,2,4,0,0,2,2,1,2,2,2,3,2,2,5,1,2,5,1,2,5,2,2,2,2,1,1,2,2,2,2,2,2,2,2,2,2,2,2,2,5,2,2,2,2,2,2,2,2,2,2,2,2,2,2,2,4,0,2,1,4,5,4,2,2,2,2,2,2,2,2,2,2,2,2,4,2,2,2,2,2,2,2,2,2,4,2,4,2,2,2,2,2,2,2,2,2,2,2,4,2,3,2,2,2,2,1,2,4,2,1,2,2,2,2,2,2,2,1,2,1,2,2,2,4,4,2,2,2,0,1,4,2,2,2,2,2,4,2,2,2,2,2,2,4,4,2,2,2,0,0,2,2,2,5,2,2,2,2,2,2,2,2,5,2,2,4,2,3,2,2,1,3,2,2,2,2,2,2,2,2,2,2,2,2,3,1,5,2,5,2,2,2,2,2,2,2,2,2,2,0,3,2,2,1,0,2,2,2,2,2,2,2,2,2,5,2,2,2,2,4,3,2,4,4,3,5,2,0,2,2,2,1,4,2,4,2,0,2,1,2,2,1,0,2,2,2,2,2,2,3,3,2,2,2,5,1,2,2,2,2,2,2,2,2,2,2,2,2,2,2,2,2,2,2,2,4,2,2,1,4,2,0,2,2,2,2,2,2,2,4,3,2,2,2,4,2,2,2,2,2,2,2,5,2,3,2,2,2,2,2,4,2,2,2,2,2,2,2,2,2,2,4,2,2,2,0,2,2,2,2,4,3,0,2,2,2,2,2,2,2,2,2,2,3,2,2,4,1,3,2,1,5,3,1,2,5,2,4,2,1,2,2,1,2,2,0,0,2,2,2,2,2,2,4,2,1,4,2,2,2,0,2,4,0,2,2,2,2,2,2,5,2,2,2,5,2,2,0,2,2,1,2,2,2,2,2,2,2,2,2,2,4,2,2,4,2,2,2,2,2,2,2,5,4,2,5,2,2,2,2,2,2,4,2,1,2,2,1,2,0,3,1,4,4,2,2,2,2,2,2,5,2,2,4,2,2,2,2,2,1,2,2,2,2,2,3,2,2,2,0,4,1,2,2,5,2,2,2,1,4,5,2,2,2,2,2,2,2,2,2,4,0,2,2,2,2,2,2,4,2,3,2,2,2,2,4,2,2,0,2,5,2,2,1,5,1,2,2,4,2,2,2,2,2,4,1,2,2,2,4,2,2,2,2,2,0,4,1,2,2,2,2,5,2,2,2,2,2,2,2,4,2,2,0,2,2,2,3,1,2,2,2,2,1,2,2,4,2,3,2,5,0,2,2,2,2,2,3,4,1,2,2,2,2,2,2,2,2,2,1,2,2,5,2,5,2,2,2,2,1,2,2,2,1,0,1,1,2,2,2,2,4,2,5,2,2,2,2,2,2,2,2,2,2,0,2,3,0,2,1,4,2,4,2,2,2,2,2,2,1,2,0,2,2,2,2,3,4,4,2,1,4,4,2,2,2,0,2,2,2,2,1,1,2,5,2,2,5,1,2,2,2,1,3,2,2,2,2,2,2,4,2,2,5,2,2,2,2,2,2,2,2,1,2,2,2,2,2,2,4,2,3,2,2,2,2,0,2,2,2,2,2,2,2,2,2,3,4,4,2,2,4,2,2,1,2,2,2,1,3,1,2,2,3,2,4,2,2,2,2,0,2,4,2,1,2,2,5,4,2,3,2,2,2,2,2,2,5,2,2,5,2,4,2,2,2,4,2,2,2,2,2,2,2,2,2,2,0,2,2,2,1,2,2,2,2,2,1,4,2,2,5,5,2,2,2,2,2,2,2,2,1,2,2,5,2,2,2,4,2,2,2,2,2,2,2,4,2,2,5,2,2,3,2,2,2,2,2,2,1,2,2,2,2,2,2,2,2,2,4,2,2,2,2,2,1,0,2,0,2,2,2,2,1,4,2,4,2,2,2,2,2,2,0,2,2,2,2,2,2,2,2,2,2,4,2,3,1,2,1,4,2,2,2,4,2,2,2,2,3,2,2,5,2,4,2,5,3,4,4,2,2,2,1,2,2,1,2,2,2,0,2,1,2,2,4,2,0,2,2,2,2,2,5,4,2,2,2,2,2,2,2,5,2,2,2,2,3,2,3,1,2,3,1,2,2,2,2,0,2,2,2,2,5,4,3,2,2,2,2,2,2,2,2,2,2,2,2,2,3,1,2,2,5,2,2,2,2,2,2,2,1,2,2,2,2,2,2,2,2,4,2,2,2,2,2,2,2,2,2,4,2,2,2,2,5,2,0,2,2,2,4,1,2,2,3,2,2,2,2,2,2,2,4,2,4,2,4,2,1,2,2,2,2,4,2,2,2,1,2,2,2,1,2,2,2,2,3,2,4,2,2,2,2,2,2,2,2,2,2,3,2,5,2,2,2,2,2,2,2,0,1,2,4,4,4,2,2,2,2,2,2,2,2,3,2,2,2,3,2,2,1,2,2,2,5,2,1,1,2,4,4,2,2,2,4,2,2,2,2,1,2,2,2,2,2,3,5,2,3,2,4,2,2,2,2,2,3,4,2,5,1,0,4,2,2,1,2,2,2,1,2,5,4,0,0,2,2,4,2,2,2,4,2,1,5,5,2,2,2,2,1,4,2,2,1,3,2,2,2,2,2,2,2,2,1,2,2,1,2,2,2,2,1,2,2,2,2,0,4,3,2,3,2,2,2,2,0,2,2,2,2,5,2,2,2,2,4,2,2,4,2,2,2,2,2,2,2,4,2,2,0,2,3,2,2,2,2,2,2,5,2,2,4,2,2,4,2,3,2,2,2,0,4,2,2,2,4,2,2,3,3,2,2,3,2,2,2,2,1,2,2,0,2,2,2,3,2,4,2,2,2,2,4,1,2,2,5,2,2,2,2,2,2,3,2,2,2,0,1,2,2,2,2,0,2,2,2,2,2,2,2,2,2,2,2,1,2,2,0,2,2,2,2,2,2,2,2,2,2,2,2,1,4,2,2,2,2,2,2,2,2,1,2,2,2,4,2,2,2,2,5,5,2,2,2,2,2,2,0,2,2,2,4,4,2,2,2,4,2,2,2,0,2,1,2,2,2,2,2,2,4,2,2,2,1,2,2,1,2,2,2,2,2,0,2,2,2,2,2,2,2,2,3,2,5,2,2,3,2,2,1,2,2,2,2,2,4,2,2,2,2,2,2,1,2,2,2,2,2,2,5,2,3,2,4,2,2,1,2,2,2,2,2,2,2,1,2,4,3,2,2,2,2,2,2,2,2,2,2,2,2,2,3,1,2,2,2,2,2,2,2,2,2,5,2,2,2,1,5,2,2,2,2,3,2,2,2,4,2,2,1,2,2,2,1,2,2,2,2,2,2,2,2,2,3,2,5,2,2,2,2,2,2,2,2,1,2,2,2,2,2,2,2,2,2,2,2,2,2,0,5,2,1,2,2,5,2,4,2,2,2,2,2,5,1,2,2,2,2,0,2,2,2,0,2,2,2,2,2,2,2,2,2,2,2,2,1,2,2,2,2,4,0,2,2,2,4,2,2,2,2,2,2,3,2,2,2,2,2,2,2,2,2,2,2,2,5,1,2,2,2,4,2,5,1,2,2,2,2,2,1,3,2,2,2,2,4,2,2,5,2,0,2,2,2,2,1,2,2,2,2,2,2,2,2,2,2,2,0,2,2,2,2,2,2,2,0,4,2,2,4,2,2,2,2,1,2,2,2,4,4,2,1,2,2,2,4,2,3,2,2,2,2,2,4,2,2,2,4,2,2,2,2,1,2,2,5,2,2,2,2,2,2,2,4,2,1,2,4,1,2,2,2,4,2,3,4,2,3,2,3,3,2,2,2,2,2,2,2,2,0,2,2,2,2,2,2,2,2,0,2,2,2,5,2,2,2,4,2,2,2,5,1,2,2,2,2,2,2,1,1,5,2,2,4,2,2,5,2,2,2,2,1,2,2,2,2,2,2,4,2,2,2,1,2,2,5,3,2,2,5,0,2,2,2,1,2,1,2,2,2,1,2,2,2,2,2,2,3,2,2,2,3,2,2,2,2,2,2,2,2,2,2,1,1,2,2,2,2,2,2,2,2,5,2,2,2,2,2,2,2,2,2,2,2,4,2,4,2,4,4,2,1,2,2,5,2,2,2,1,2,2,2,2,2,2,3,2,4,2,2,2,4,2,4,2,1,2,2,0,2,1,2,2,2,2,2,2,2,0,2,2,4,2,2,2,2,3,2,2,2,1,2,3,2,2,2,2,2,2,4,2,2,2,2,2,2,2,2,1,2,2,2,2,3],\"xaxis\":\"x\",\"y\":[0,0,1,1,0,1,0,0,1,0,0,1,1,0,0,0,1,0,0,0,1,0,0,0,0,1,0,0,0,0,1,0,0,0,1,1,0,0,0,1,0,0,0,0,0,0,0,1,0,0,0,1,1,0,0,0,0,0,0,1,0,0,0,1,0,0,0,0,0,0,0,0,0,0,0,0,0,0,1,0,0,0,1,0,0,0,0,0,1,0,0,0,0,0,0,0,0,0,0,0,0,1,0,0,0,0,0,1,0,0,0,0,0,0,1,0,1,1,0,0,1,0,0,1,0,0,0,0,0,1,1,0,0,0,1,1,0,0,0,0,0,1,0,0,0,0,0,0,0,0,0,1,1,1,0,0,0,1,0,0,0,0,1,0,0,1,1,0,1,0,0,0,0,0,1,1,0,0,0,0,1,0,1,1,0,0,0,1,0,0,0,1,1,0,0,0,0,0,0,0,0,0,0,0,0,0,1,1,0,1,0,0,0,0,1,0,0,0,0,0,0,0,0,0,0,0,0,0,1,0,0,0,1,0,0,0,0,0,0,0,0,0,0,0,1,0,0,0,1,1,0,0,0,0,1,0,1,1,0,0,0,0,0,1,0,0,1,0,0,0,0,0,1,0,1,0,1,0,0,0,0,0,0,1,0,1,0,0,1,0,1,0,1,1,0,0,0,0,0,0,0,0,1,0,1,0,1,0,0,0,0,0,1,0,0,1,1,1,1,1,0,0,0,0,1,1,1,0,1,0,0,0,0,0,0,1,1,0,1,0,0,0,0,0,0,0,1,0,0,0,1,0,1,0,1,0,0,0,0,1,1,0,0,0,0,1,0,0,0,0,0,0,0,0,0,0,1,0,1,0,0,1,0,0,1,0,0,0,0,0,1,0,0,0,0,0,1,0,0,1,0,1,0,0,0,0,0,1,0,0,0,0,0,0,1,0,0,0,0,1,0,0,0,0,0,0,0,0,1,0,0,0,0,1,0,0,0,0,0,0,0,0,0,1,0,0,0,0,0,0,0,0,0,0,0,0,0,0,0,0,1,0,0,0,0,0,1,0,1,0,0,0,0,0,0,0,0,0,1,0,0,0,0,0,0,0,1,0,0,0,0,0,0,0,1,1,0,0,1,1,0,1,0,0,0,0,1,0,0,0,1,0,1,0,1,0,0,0,0,1,0,0,1,0,0,0,0,0,0,0,1,1,0,0,1,1,1,1,1,0,1,0,0,0,0,0,0,1,0,0,1,0,0,0,0,0,1,0,0,0,0,0,0,0,0,0,1,0,0,0,0,0,0,1,0,0,0,0,0,1,1,0,0,0,0,0,0,0,1,0,1,0,1,1,0,0,0,0,0,0,1,0,1,0,1,0,0,1,0,0,0,0,0,0,0,0,0,0,1,0,0,0,0,0,1,0,0,0,0,0,0,1,0,0,1,0,1,0,0,0,0,1,1,0,0,1,0,0,0,0,1,0,0,1,1,0,1,0,1,1,1,0,0,0,0,0,0,1,0,0,0,0,1,0,0,0,1,1,0,0,0,0,0,0,0,0,0,1,1,0,1,0,0,0,1,1,0,0,0,0,0,1,1,0,0,0,0,1,0,0,0,0,0,0,1,0,0,0,0,0,0,0,1,0,1,1,0,0,0,0,0,0,1,0,0,0,1,0,0,1,0,0,0,0,1,0,1,0,0,0,1,0,1,0,0,0,0,0,0,0,0,0,0,0,1,1,0,0,0,1,0,0,0,0,0,0,0,0,0,0,0,1,0,0,0,0,1,0,0,0,0,1,0,1,0,0,0,0,0,0,0,0,0,0,0,0,0,1,0,1,0,0,1,1,0,1,0,1,0,0,1,0,0,1,0,0,0,1,0,0,1,0,1,1,1,0,0,0,0,1,0,1,0,0,0,0,1,0,1,1,0,0,1,0,0,0,0,0,0,0,0,0,0,0,0,0,1,0,0,0,1,0,0,0,1,0,0,0,0,0,0,0,0,0,0,0,1,1,0,0,0,0,1,0,0,1,0,0,0,1,0,0,0,1,0,1,1,1,1,0,1,1,0,1,0,0,0,0,0,1,0,1,0,0,0,0,0,1,0,0,0,0,0,0,1,0,0,1,0,0,0,0,0,0,0,0,1,0,0,0,0,1,0,0,0,0,1,0,0,1,1,0,0,1,0,0,0,1,1,1,0,0,1,0,1,0,0,0,0,0,0,0,0,1,0,1,0,0,0,0,1,1,0,0,1,0,0,0,1,0,0,0,1,0,0,1,1,0,0,0,0,0,0,1,0,0,0,0,1,0,0,1,0,0,0,0,1,1,1,1,0,0,0,0,1,1,0,1,0,0,1,0,0,0,1,1,0,0,0,0,0,0,0,1,1,0,0,0,0,0,0,0,0,1,0,1,1,0,1,0,0,0,0,0,0,0,0,0,1,0,0,0,0,0,0,0,0,0,1,1,0,1,0,0,1,0,0,1,0,0,0,0,0,0,0,1,0,0,1,0,1,1,0,0,0,0,1,0,0,1,0,0,0,1,0,0,1,1,0,0,0,1,1,0,1,0,0,0,0,0,0,1,1,1,0,1,0,0,0,0,0,0,0,1,0,0,0,1,0,0,0,0,1,0,1,0,0,1,0,1,0,1,0,0,1,0,0,0,1,0,0,0,1,0,0,0,0,0,0,1,1,0,0,0,1,0,1,0,0,0,0,0,0,0,0,0,0,0,0,0,0,0,0,1,0,0,0,0,0,1,0,0,1,0,0,1,0,0,0,1,1,0,0,0,1,0,0,1,0,0,1,0,1,1,0,0,0,0,0,0,0,1,0,0,0,0,1,1,0,1,0,1,0,0,0,0,0,0,0,0,1,1,1,1,0,0,0,1,0,0,1,0,1,0,0,0,0,0,0,0,0,1,1,0,1,0,0,0,0,0,1,0,0,1,1,0,0,0,0,0,0,0,0,0,0,1,0,1,1,0,0,0,0,0,0,0,1,0,0,0,1,1,0,0,0,1,1,1,1,0,0,0,0,0,1,0,0,1,1,0,0,0,1,0,0,0,0,0,0,0,0,0,0,0,1,1,0,0,0,1,0,0,1,0,1,0,0,0,0,0,0,0,1,1,0,1,0,0,0,0,1,0,1,0,1,0,0,0,0,1,0,0,0,0,0,0,0,0,0,0,1,0,0,0,0,0,0,0,0,1,0,1,0,0,0,0,0,0,0,0,0,0,0,0,0,0,0,0,0,1,1,1,0,0,0,1,0,1,1,0,0,0,0,0,0,0,0,0,1,0,0,0,0,0,0,0,0,0,0,0,0,0,1,0,1,0,0,0,0,0,1,0,0,0,0,0,0,0,0,0,1,0,0,0,0,0,1,0,1,0,0,0,0,1,0,1,0,0,0,0,0,0,0,0,0,0,0,0,0,0,0,0,0,0,0,0,1,1,1,0,0,0,0,0,0,0,0,0,1,0,0,0,1,0,1,0,1,1,0,0,1,1,0,0,0,0,0,0,0,0,0,0,1,0,0,0,0,0,0,1,0,0,0,0,1,1,0,1,1,0,0,0,1,0,0,1,0,0,1,1,0,0,0,0,0,0,0,1,0,0,1,0,0,0,0,0,0,0,1,0,0,0,0,0,0,1,0,0,0,0,0,0,0,0,1,1,0,0,0,0,0,1,0,0,0,1,0,0,0,0,0,0,0,0,0,0,0,0,1,0,0,0,0,0,0,0,1,0,0,1,0,0,0,1,0,0,0,1,0,0,0,0,1,0,0,0,0,1,0,0,1,0,0,0,1,1,0,0,0,1,0,1,0,0,0,1,0,1,0,1,0,0,0,0,0,0,0,0,0,0,0,0,0,1,0,0,0,1,0,0,0,0,0,1,1,0,0,0,0,0,0,1,0,1,0,0,0,0,0,1,0,1,0,0,1,0,0,0,1,0,1,0,1,0,0,1,0,0,1,0,0,0,0,1,1,0,0,0,1,0,0,0,1,0,0,1,0,0,0,1,1,1,0,0,0,1,0,0,0,0,1,1,0,0,0,1,0,0,0,0,0,0,0,0,1,0,0,0,0,0,0,1,0,0,1,0,1,0,0,0,1,0,1,0,1,0,0,0,0,0,0,0,0,0,0,0,0,0,0,0,0,0,0,0,0,0,0,1,0,0,0,1,1,0,0,0,0,0,1,1,0,0,0,0,0,1,0,0,0,0,0,0,0,1,0,0,0,0,0,0,1,0,0,1,0,1,1,0,1,0,1,0,0,0,0,0,0,0,0,0,0,0,1,0,0,0,0,0,0,0,1,0,0,0,0,0,1,1,0,0,1,1,0,1,0,0,1,0,1,0,0,0,0,0,0,1,0,1,0,0,0,0,0,0,1,0,0,0,0,1,0,0,0,0,0,1,0,0,0,0,0,0,1,0,0,0,0,1,0,0,0,0,0,0,0,1,0,1,0,0,0,1,0,1,1,0,1,0,0,0,0,0,0,0,0,0,0,0,1,1,1,0,1,1,0,0,0,0,0,0,0,0,1,0,1,0,0,1,0,0,1,0,0,0,0,0,0,0,1,0,1,1,1,0,0,0,0,0,0,0,0,0,0,0,0,0,1,0,1,0,1,0,1,0,0,1,0,0,0,0,1,1,0,1,0,0,0,0,1,0,0,1,0,1,1,0,0,0,0,1,0,0,0,0,0,0,0,1,0,0,0,0,1,1,0,0,1,0,0,0,1,1,0,0,1,0,1,0,0,0,1,1,0,0,0,1,1,0,1,1,0,0,1,1,0,0,0,0,0,1,1,0,0,0,1,0,0,0,0,0,1,0,0,1,0,0,1,0,0,0,1,1,1,0,0,1,0,1,0,0,0,1,1,0,0,0,0,0,0,0,0,1,0,0,0,1,0,1,0,1,0,0,0,0,0,1,0,1,0,0,0,1,1,0,0,0,0,0,0,0,0,0,0,0,0,0,0,0,0,1,0,0,0,0,0,1,0,0,0,0,1,1,0,0,0,0,1,0,1,0,0,0,0,0,0,0,0,0,0,1,1,1,0,1,0,1,0,0,0,0,0,0,0,1,1,0,1,0,0,0,0,0,0,0,0,0,0,0,1,0,0,0,1,0,1,0,0,0,0,0,1,0,0,0,0,1,1,0,1,0,0,0,0,1,0,0,1,0,0,0,0,0,0,1,0,0,0,0,0,0,0,0,0,0,0,0,0,1,0,0,0,0,0,0,1,0,0,0,0,0,0,1,1,0,0,0,1,1,0,0,1,0,0,0,0,0,0,1,0,0,0,0,1,0,1,0,1,0,0,0,0,0,0,0,1,0,1,0,0,0,0,0,0,0,0,1,0,1,0,0,0,1,0,1,1,0,0,0,0,0,0,1,0,1,0,0,0,1,0,0,0,0,0,0,1,0,0,0,0,0,0,0,0,0,0,1,1,1,1,0,0,0,1,1,0,1,0,0,0,0,1,0,0,0,1,1,1,0,0,0,0,0,0,0,1,0,0,0,0,0,0,0,1,0,0,1,0,0,0,1,1,0,0,1,1,0,1,1,0,0,0,0,0,0,0,0,0,0,1,0,1,0,0,0,1,0,0,0,1,0,0,0,0,0,0,0,1,0,0,1,0,0,0,0,1,0,0,0,1,0,0,1,0,0,0,0,1,0,0,1,0,0,0,1,0,1,0,0,0,1,0,0,0,0,0,0,1,1,0,0,1,0,0,0,1,0,0,0,1,0,0,1,1,0,1,0,0,0,0,0,1,0,0,0,0,0,1,0,0,0,1,0,0,0,0,0,0,1,0,0,1,0,0,0,0,0,0,0,1,1,0,0,1,0,0,1,0,0,1,0,0,0,1,0,0,1,1,0,0,0,0,0,0,1,0,0,0,0,0,0,1,0,0,0,0,0,0,0,0,0,1,0,0,0,0,0,0,0,0,1,0,0,0,0,0,0,0,0,0,1,1,0,0,0,0,1,0,1,0,1,0,0,0,0,0,0,0,1,1,0,1,0,1,0,0,0,0,0,0,1,1,0,1,1,1,0,0,0,0,1,0,1,0,1,0,0,0,0,1,0,1,0,0,0,0,1,1,0,0,0,0,0,0,0,0,0,0,0,0,1,1,1,0,1,0,0,0,1,0,1,0,0,0,0,0,0,1,0,0,0,1,1,0,0,0,0,1,0,0,1,1,0,1,0,0,0,0,0,1,1,0,1,0,0,0,0,1,0,0,0,0,0,0,0,1,0,0,0,0,0,0,0,0,0,0,0,0,0,0,1,0,0,1,0,0,0,0,1,0,0,0,0,1,1,0,0,0,0,0,1,0,0,0,0,1,0,1,0,0,0,0,0,0,0,1,0,0,0,1,1,0,0,0,0,0,0,0,0,0,0,0,0,0,0,0,0,0,0,1,0,0,0,0,0,0,0,0,0,0,0,0,1,0,1,1,0,0,0,0,0,0,0,1,1,0,0,0,1,1,1,0,0,0,0,0,0,0,0,0,0,0,0,1,0,0,1,0,0,0,0,0,0,1,0,0,0,0,1,0,0,0,1,0,0,1,0,0,0,1,1,0,1,1,0,0,0,0,0,0,0,0,0,1,0,0,1,0,1,0,0,0,0,0,0,0,0,1,0,1,0,1,0,0,1,0,0,0,0,0,0,0,0,0,1,0,0,0,0,0,0,0,0,0,0,0,0,0,0,0,0,0,0,0,0,0,0,0,0,0,0,1,1,0,0,0,0,0,1,1,0,0,0,0,1,1,0,0,0,0,0,0,0,0,0,0,0,0,0,0,1,0,1,0,1,0,0,0,0,0,0,0,0,0,1,0,0,0,0,0,1,1,0,0,0,1,0,1,1,1,0,0,0,0,0,1,0,0,0,0,0,0,0,0,0,0,0,1,0,0,1,0,1,1,0,0,0,0,0,0,0,1,0,1,0,0,0,0,1,0,0,0,1,0,0,0,0,1,1,1,1,0,0,0,0,0,0,1,0,0,0,0,1,0,1,0,0,0,0,0,0,0,0,0,1,1,1,0,0,1,0,0,0,0,0,0,1,1,1,1,1,1,0,0,0,0,0,0,0,1,0,0,1,1,0,0,0,0,0,0,0,0,0,0,0,0,0,0,0,0,0,0,0,1,0,0,0,0,0,1,0,0,0,0,0,0,0,0,0,0,1,0,0,1,0,0,1,0,0,1,0,1,0,0,1,0,0,0,1,1,0,1,0,0,0,0,1,0,0,0,0,0,0,0,0,0,0,1,0,1,0,1,0,0,1,0,0,0,0,0,0,0,0,0,1,0,0,0,1,0,0,0,0,1,0,0,0,1,0,0,0,0,0,0,0,0,1,0,0,1,1,1,0,0,0,0,1,0,0,0,1,0,1,0,0,0,1,0,0,0,0,0,0,0,0,0,0,0,0,1,1,1,0,0,0,1,1,0,1,1,0,0,0,1,0,0,0,0,0,0,0,0,0,1,0,0,1,0,1,0,0,0,0,0,0,0,0,0,1,0,0,0,0,1,1,0,1,1,0,1,0,1,0,0,0,0,0,0,0,1,0,1,0,0,0,0,1,0,0,0,0,0,1,0,0,0,0,0,0,0,1,0,0,0,1,0,0,0,1,0,0,1,0,0,0,0,0,0,1,0,0,0,0,0,0,0,0,0,0,0,0,0,1,0,0,0,0,0,1,1,0,0,1,1,0,0,0,0,0,0,0,0,0,0,1,0,0,1,0,0,0,0,1,1,0,0,0,1,0,0,0,0,0,0,0,0,1,0,0,1,0,1,1,0,0,0,1,0,0,0,0,0,0,0,1,0,0,0,0,0,1,0,0,1,1,0,1,1,0,0,0,1,0,0,0,0,0,0,0,0,0,0,0,1,1,0,0,1,0,0,0,0,0,0,0,0,0,0,0,1,1,0,0,0,0,0,1,0,1,0,1,0,0,0,0,0,0,1,0,0,0,1,0,0,0,0,0,0,0,0,0,0,0,0,0,0,1,0,0,0,0,1,0,0,1,0,0,0,0,0,1,0,0,1,0,1,0,0,0,0,1,0,0,0,0,0,0,1,0,0,0,1,1,0,0,0,1,0,0,0,1,0,0,1,0,0,0,0,0,0,0,0,0,0,0,0,0,1,0,0,0,0,0,1,1,0,0,0,0,0,0,0,0,0,0,0,0,1,1,0,0,1,0,1,0,0,1,1,1,0,1,0,0,0,1,0,0,1,0,0,1,0,0,0,0,0,1,0,0,0,0,0,0,0,0,0,1,1,1,1,1,0,1,0,0,0,0,0,1,0,0,0,0,0,1,0,1,1,0,1,0,1,0,0,0,1,0,0,1,1,0,0,0,1,0,0,0,0,0,1,0,0,0,1,1,0,1,0,0,1,1,0,0,0,0,1,1,1,0,0,0,1,0,0,0,0,0,1,0,0,0,1,0,0,1,0,0,1,0,0,0,1,0,0,0,1,0,0,1,1,0,0,0,0,1,1,0,0,0,0,0,0,0,0,0,0,0,1,0,0,0,1,1,0,1,0,1,0,1,0,0,0,0,0,0,0,1,0,0,0,0,0,0,0,0,0,1,0,0,0,0,0,0,0,1,0,0,0,1,0,1,0,0,0,1,0,1,1,0,0,0,0,0,0,0,0,0,0,1,0,0,0,1,0,0,0,1,1,1,0,1,0,0,1,0,0,0,0,0,0,1,0,0,0,0,0,0,0,0,0,1,0,0,0,0,0,0,1,0,0,0,0,0,0,0,0,1,1,0,0,1,0,0,1,0,1,1,0,0,0,0,0,0,1,0,0,0,0,0,0,0,0,1,0,0,0,0,0,1,0,0,0,0,0,0,0,0,0,0,0,0,0,0,0,1,0,0,0,1,0,0,0,0,0,0,1,0,0,0,1,0,1,1,1,0,0,0,0,1,0,1,0,0,0,0,1,0,0,0,0,0,0,1,1,0,0,0,0,0,0,0,0,0,0,1,0,1,1,0,1,0,1,0,0,0,0,0,0,0,1,1,0,0,0,0,0,0,1,0,1,0,1,1,0,0,0,0,0,0,0,0,0,0,0,0,0,1,0,1,0,0,0,0,0,0,0,0,0,0,1,0,0,0,0,1,0,1,1,0,1,0,1,1,0,0,1,0,0,0,0,1,0,0,0,0,0,0,0,0,0,0,0,0,1,0,0,1,0,0,0,0,0,0,0,1,0,0,0,0,1,0,1,0,0,1,0,0,0,0,0,0,0,0,1,0,1,1,0,0,0,0,0,0,0,0,0,0,0,0,0,0,0,0,0,0,0,1,1,0,1,1,0,0,0,0,0,0,0,0,0,0,1,0,1,0,1,0,0,0,0,0,0,0,1,0,0,0,0,1,0,1,0,0,0,0,0,1,0,0,0,0,0,0,0,1,0,0,0,1,0,0,0,0,0,1,0,0,0,0,0,0,1,0,0,0,0,0,0,0,1,0,0,1,0,0,0,0,0,0,0,0,1,0,0,0,1,0,1,0,0,0,0,0,1,0,0,0,0,1,0,0,0,0,0,1,0,0,0,0,0,1,0,1,0,0,1,0,1,1,0,0,0,0,0,0,1,0,1,0,1,0,0,0,0,0,0,0,0,1,0,0,0,0,0,0,1,0,0,1,0,0,0,1,0,0,0,0,0,0,1,0,0,0,0,0,0,1,0,1,0,1,0,0,1,0,0,1,0,0,0,0,0,0,0,1,1,1,0,0,1,0,0,0,1,0,0,0,0,0,0,0,0,0,0,0,0,0,0,0,0,1,1,0,0,1,0,0,0,0,0,0,0,0,0,0,1,1,0,1,0,0,1,0,0,0,0,0,0,0,0,1,0,0,0,0,0,0,0,0,1,0,0,0,0,0,0,0,0,0,0,0,0,0,0,0,0,0,0,0,1,0,0,0,0,0,1,1,0,0,1,0,0,1,1,1,0,0,1,0,0,1,0,0,0,0,0,0,0,0,0,0,0,1,1,0,0,0,1,0,0,0,0,0,1,0,0,0,0,0,0,0,0,0,0,0,1,0,0,0,1,1,0,0,0,1,1,0,1,1,0,0,1,1,0,0,0,0,1,1,0,1,0,0,0,1,0,0,1,0,1,1,0,1,1,0,0,0,0,0,0,0,1,0,1,1,0,0,0,0,0,1,1,1,0,0,0,0,1,1,1,0,0,0,0,0,0,1,0,0,0,0,0,0,0,0,1,1,0,1,0,0,0,1,1,0,0,0,1,0,0,1,1,0,0,0,1,1,1,0,0,1,0,1,0,1,0,0,1,0,0,0,0,0,0,0,0,0,0,0,0,0,0,0,0,1,0,0,0,0,0,1,1,0,0,0,0,0,0,1,0,1,0,0,1,0,0,1,1,0,1,1,0,0,0,1,0,1,0,0,0,1,0,0,1,0,0,0,0,0,0,1,0,1,1,0,0,0,0,0,0,0,0,0,1,0,0,0,1,1,0,0,1,0,0,0,0,1,0,0,0,0,1,1,0,1,0,0,0,0,0,0,1,0,0,0,0,0,0,0,1,0,0,1,1,1,1,0,0,0,0,1,0,0,0,1,1,0,0,0,0,0,0,0,0,0,0,0,0,0,0,0,0,0,1,0,0,0,1,0,0,0,0,1,0,0,0,0,0,0,0,0,1,0,0,1,0,1,0,1,1,1,0,0,0,1,0,0,1,0,0,1,0,0,1,0,1,0,1,0,0,0,0,0,0,0,1,0,0,1,0,0,0,1,0,0,1,0,0,1,1,0,1,0,0,1,0,0,1,0,1,0,0,0,1,1,1,0,0,0,1,0,0,1,0,0,0,0,0,0,0,0,1,0,1,1,1,0,0,1,0,0,0,1,0,1,0,1,0,0,1,0,0,0,1,1,0,1,0,0,0,0,0,1,1,1,0,0,0,0,1,1,1,1,1,0,0,1,0,0,0,0,0,0,0,0,0,1,0,0,0,0,0,1,0,0,0,0,0,0,1,0,0,0,0,0,0,0,0,0,0,0,1,0,0,0,1,0,0,0,1,1,0,1,1,0,0,1,0,0,1,0,0,1,0,0,0,0,0,0,0,0,0,0,0,0,0,1,0,0,0,0,0,0,0,0,0,0,0,1,0,1,0,0,0,1,0,1,1,1,0,0,0,0,1,1,0,1,0,0,0,0,0,0,0,0,0,0,0,0,1,0,0,0,0,0,0,0,0,0,0,1,0,0,0,0,0,0,0,0,0,0,0,0,1,0,1,1,1,0,0,1,1,0,1,1,0,0,0,1,1,1,0,0,0,1,0,0,0,0,0,1,0,1,0,0,0,0,0,0,1,0,0,0,0,0,0,1,0,0,0,1,0,1,1,1,0,1,0,1,0,0,0,0,0,1,0,0,0,0,0,0,1,1,0,0,0,1,0,0,0,1,0,0,1,0,0,0,1,0,0,0,1,0,1,0,0,0,1,0,1,0,0,0,1,0,1,0,1,1,0,0,1,0,0,0,0,1,0,0,0,0,0,1,0,0,0,0,0,0,1,0,0,1,0,0,0,0,0,0,0,1,1,0,0,0,0,0,0,0,0,0,0,0,0,0,0,0,0,1,0,1,0,0,0,1,0,0,0,1,0,0,0,0,0,0,0,0,1,0,1,0,1,0,0,0,0,1,0,0,0,0,1,0,0,0,1,0,0,0,0,0,0,0,1,1,1,0,0,0,0,0,0,1,0,0,0,1,0,0,0,0,0,0,1,0,0,1,0,0,0,0,0,0,0,1,0,0,1,0,0,0,0,0,1,0,1,0,0,0,0,0,0,1,1,0,0,0,0,0,0,0,0,1,0,0,1,0,0,0,0,0,1,0,0,0,1,0,1,0,0,1,0,0,0,0,1,0,0,1,0,0,0,0,0,0,0,1,0,1,0,0,0,0,0,0,0,0,0,0,1,0,1,0,0,0,0,0,1,1,1,0,0,0,0,1,0,1,0,0,0,0,0,0,0,1,0,0,0,0,0,0,0,1,1,0,0,0,0,1,0,1,1,1,1,1,1,0,0,0,1,0,0,1,0,0,0,1,0,0,1,1,0,0,0,0,0,0,0,0,1,1,1,0,0,0,0,1,0,0,0,0,0,0,0,1,0,0,1,0,1,0,1,1,0,0,0,0,0,1,0,0,0,0,1,1,0,0,1,0,0,0,1,1,0,0,0,0,0,1,1,0,0,1,0,0,1,0,0,0,0,0,0,0,0,0,0,0,0,1,0,1,0,0,0,0,0,0,0,0,0,0,1,0,0,0,0,1,0,0,0,0,0,0,0,0,1,1,0,0,0,1,0,0,0,0,1,0,0,0,0,1,0,1,1,0,0,0,0,0,0,0,0,0,0,0,0,0,1,0,0,1,1,0,1,0,0,0,0,1,0,0,0,0,0,0,0,0,0,0,0,0,0,0,0,0,0,0,1,0,0,0,0,0,0,1,0,0,0,1,1,1,0,0,0,0,1,0,0,0,1,0,0,0,0,1,0,0,0,0,1,1,0,1,0,0,0,0,0,0,0,1,1,0,1,1,0,0,0,0,1,1,1,0,1,0,0,0,0,0,0,0,0,0,1,0,0,0,1,0,0,0,0,0,0,0,0,0,0,0,1,1,1,0,0,0,1,0,1,0,0,0,1,0,1,1,0,0,0,0,0,0,1,0,0,0,0,0,0,0,0,0,0,0,0,0,1,1,0,1,1,0,0,0,0,0,1,1,1,0,0,0,1,0,1,0,1,1,0,0,0,0,1,0,0,0,0,0,1,0,0,1,1,1,0,1,0,0,0,0,1,0,0,0,1,0,0,0,1,0,1,0,0,0,0,0,0,0,0,0,1,0,1,0,0,0,0,0,0,1,0,1,1,0,0,0,0,0,0,0,0,1,0,0,1,0,0,0,0,0,1,0,0,0,0,0,0,0,0,1,1,0,1,0,1,1,1,1,0,0,0,0,0,0,0,0,0,0,0,0,0,0,0,0,0,0,0,0,0,0,0,0,0,0,0,1,0,0,0,0,0,0,0,1,0,0,0,0,0,0,1,1,0,0,0,0,0,0,0,0,1,0,0,0,0,0,0,1,1,0,0,0,0,1,0,0,0,1,0,1,0,1,1,1,0,0,0,1,0,1,0,1,1,0,0,1,0,1,0,0,0,1,1,1,1,0,0,0,1,0,1,0,0,0,1,0,0,0,0,0,0,0,0,0,0,0,0,0,0,0,0,0,0,1,0,0,0,0,0,0,1,0,1,0,0,0,1,0,0,1,0,0,0,0,0,0,0,1,0,0,0,0,0,0,0,0,0,0,0,0,1,1,0,0,0,0,0,0,0,0,1,0,0,0,0,0,0,0,1,0,0,1,0,0,0,0,0,0,0,1,0,0,0,0,0,0,0,1,1,0,1,0,1,1,0,1,0,0,0,1,0,0,1,1,1,0,0,1,0,0,0,0,0,0,0,0,1,0,0,0,0,0,0,0,0,1,0,1,0,0,0,1,0,1,0,0,0,1,1,0,0,0,0,0,1,0,0,0,0,0,1,0,1,0,0,1,0,0,1,0,1,0,1,1,1,0,1,0,0,0,0,0,0,0,0,0,0,0,0,0,0,0,0,0,1,1,0,0,0,0,0,0,1,0,0,0,0,0,0,1,0,1,0,0,1,1,1,1,0,1,0,0,0,0,0,0,0,0,1,0,1,1,0,0,0,0,0,0,1,0,1,0,0,0,0,0,0,1,0,0,0,1,0,0,0,0,1,1,1,0,0,0,0,1,0,1,0,0,0,0,0,0,0,1,0,1,0,0,1,0,0,0,1,1,0,1,0,0,0,0,0,0,0,0,0,0,1,0,1,0,0,0,0,0,0,1,1,0,0,0,0,0,1,0,0,1,1,0,0,0,0,0,0,0,1,0,0,0,0,0,0,0,0,1,0,0,0,0,0,0,0,1,0,0,0,0,0,0,0,0,0,0,1,0,0,0,0,0,0,0,0,1,0,0,0,0,1,0,0,0,0,0,0,0,0,0,1,0,0,1,1,0,0,0,0,0,0,0,0,0,0,1,1,0,1,0,0,1,0,0,0,0,0,1,0,0,0,0,1,0,1,1,1,0,0,0,0,0,0,0,1,0,0,0,0,1,0,1,0,0,0,0,0,1,0,0,1,0,0,0,0,0,0,0,0,1,0,1,0,0,1,0,0,0,0,0,0,0,0,0,0,0,1,0,0,0,0,1,0,0,1,0,0,1,0,0,1,0,0,0,0,1,0,0,0,0,0,1,0,0,1,0,0,0,0,0,1,0,0,0,0,0,0,0,0,1,0,1,0,1,0,0,0,1,0,1,0,0,0,1,1,0,0,0,0,0,0,0,1,1,0,0,0,0,0,0,0,1,0,0,1,0,0,0,0,0,1,0,0,1,0,0,0,0,0,1,1,0,0,0,0,0,0,0,1,1,0,1,0,0,0,0,1,1,0,1,0,0,0,0,0,1,0,0,0,0,1,0,0,1,0,0,0,0,0,0,0,0,1,0,0,0,0,1,0,0,1,0,1,0,0,0,0,0,0,0,0,0,0,0,0,1,1,0,0,1,0,1,0,0,0,0,1,0,0,0,0,1,0,0,0,0,0,0,1,0,0,0,0,0,0,0,0,0,0,0,0,1,1,0,1,0,0,0,0,0,0,1,1,0,0,0,0,1,0,0,0,0,0,0,0,1,1,0,1,1,0,0,0,0,1,0,0,0,0,0,0,1,0,0,0,0,0,0,1,0,0,0,0,1,1,1,0,0,0,0,0,1,0,0,1,0,0,0,1,0,0,0,0,0,0,0,0,0,0,0,1,0,1,0,0,0,0,0,0,0,0,0,1,0,1,0,1,0,0,0,0,0,1,0,0,0,1,1,0,0,0,0,0,0,0,0,0,1,0,1,0,0,0,0,0,0,0,0,0,0,0,0,0,0,0,0,0,0,0,0,0,0,1,0,0,0,0,0,1,1,0,0,0,0,0,1,0,0,1,0,0,0,0,1,0,0,0,0,0,0,0,0,0,0,1,0,0,0,0,0,0,0,1,0,0,1,0,0,0,1,0,0,0,0,0,0,0,0,0,1,0,0,0,0,0,1,0,0,0,0,0,0,0,0,0,0,0,0,0,0,1,0,1,0,0,1,0,1,0,0,0,0,0,0,0,1,0,1,0,0,0,0,1,1,0,1,1,0,0,0,0,0,0,0,0,1,0,0,1,0,0,0,0,0,0,1,0,0,0,1,1,0,1,0,1,0,0,1,1,0,0,0,0,0,1,0,1,0,1,0,0,0,0,0,0,1,0,0,0,0,0,0,1,0,1,1,1,0,1,0,0,0,1,0,0,0,1,0,0,0,0,0,0,1,0,1,0,0,0,0,0,0,0,1,0,1,0,0,0,0,1,0,1,0,0,0,0,1,1,0,1,0,0,0,0,0,1,0,0,0,0,0,0,0,0,0,1,0,0,0,1,0,1,0,0,0,1,0,0,0,0,0,0,0,1,1,0,1,0,0,0,0,0,1,0,0,0,0,1,0,0,0,0,0,1,0,0,1,1,0,0,0,0,1,0,0,0,0,0,0,0,0,0,0,1,1,1,0,0,0,1,0,1,0,0,0,0,1,0,0,0,1,1,0,0,0,1,0,0,0,0,0,0,0,1,0,1,0,0,0,1,1,1,1,0,0,0,0,0,0,0,1,0,0,1,1,0,0,0,0,0,0,0,0,0,0,1,0,0,0,1,0,0,0,0,0,0,0,0,0,0,1,0,0,1,0,0,1,0,1,0,1,1,0,0,1,0,0,0,0,1,1,0,0,0,0,0,1,0,0,0,0,0,0,0,1,1,0,1,0,1,0,0,0,1,1,0,0,0,1,1,0,1,0,0,0,0,1,0,0,0,0,0,0,0,0,0,0,1,0,0,0,0,0,0,0,0,0,0,0,1,0,0,0,0,1,0,0,0,0,0,0,0,0,0,0,0,0,0,0,0,1,1,0,0,0,0,0,0,1,0,1,0,0,0,0,0,0,0,0,1,0,0,0,1,1,0,0,0,0,0,0,0,0,0,1,0,0,0,0,1,1,0,0,0,1,0,0,0,0,0,0,1,1,0,0,0,0,1,0,0,0,0,0,0,0,0,0,0,0,0,0,0,0,0,0,0,0,0,0,1,0,0,0,0,1,0,0,0,0,0,1,1,1,0,0,1,0,0,1,0,0,0,0,0,0,0,1,0,1,0,0,0,0,0,0,1,0,0,0,0,1,1,1,0,0,0,0,0,0,0,0,1,0,0,0,0,1,0,1,0,0,1,0,0,0,1,1,0,0,1,0,0,0,0,0,0,0,1,0,0,0,0,1,0,1,0,0,0,0,0,1,0,0,1,0,0,0,1,0,0,1,0,0,1,0,0,0,0,0,1,0,0,0,1,1,0,0,0,0,0,0,0,0,0,0,0,0,0,0,1,0,0,0,0,0,0,0,0,0,0,0,0,1,0,0,1,0,1,1,0,1,1,0,0,0,0,0,1,1,0,0,0,0,0,0,1,0,0,0,1,1,0,0,0,0,0,1,0,1,0,0,0,0,0,0,1,1,0,0,0,0,0,1,0,0,0,1,0,0,0,1,0,1,0,1,0,0,1,0,0,0,0,1,0,0,1,0,0,0,0,1,1,0,0,0,1,1,0,0,0,0,0,1,0,0,0,1,1,0,0,0,0,0,0,0,0,0,0,0,0,1,1,1,1,1,1,0,1,0,1,0,1,0,1,0,0,0,0,0,0,0,0,0,1,0,1,0,0,0,0,1,0,0,0,0,1,0,0,0,0,0,0,0,0,0,0,0,0,0,1,0,0,0,0,0,0,0,0,0,0,1,0,0,0,0,0,0,0,0,1,0,0,0,0,1,0,1,1,0,0,0,0,0,0,0,0,1,1,0,0,0,0,0,0,1,1,1,0,0,0,0,1,0,1,0,0,0,0,0,0,1,0,0,1,0,0,0,0,0,0,1,0,0,0,0,0,0,0,0,0,0,0,0,0,1,0,0,1,1,0,0,0,0,0,1,0,0,0,0,0,0,0,1,0,1,0,1,0,0,0,0,0,0,0,1,0,0,0,0,1,1,0,0,1,0,0,1,0,0,0,1,0,0,0,1,0,0,1,0,0,0,1,1,0,0,0,0,0,1,0,1,0,0,0,0,0,1,1,0,1,0,0,0,0,0,0,0,1,0,0,0,0,0,0,0,0,0,0,1,1,0,1,0,1,0,0,0,0,0,0,0,0,0,1,1,1,0,0,0,1,1,0,1,0,1,0,0,1,0,0,0,0,1,0,0,0,1,0,0,0,0,0,0,0,1,1,0,1,0,0,1,0,1,0,1,0,0,0,0,0,0,0,0,0,0,0,0,0,1,0,0,0,0,0,1,1,0,0,0,0,0,0,0,1,0,1,0,1,1,0,0,0,0,0,0,0,1,0,0,0,1,0,0,0,0,1,0,0,1,1,0,1,0,0,1,0,1,0,0,0,0,0,0,1,1,0,0,1,0,0,0,0,1,0,0,0,1,0,1,0,0,0,0,0,0,0,0,0,0,0,0,0,0,0,0,1,0,0,1,0,0,0,0,1,1,0,0,0,0,0,0,0,0,0,1,0,1,0,1,1,0,0,1,0,0,1,0,1,0,1,1,1,0,0,1,1,0,0,1,0,0,1,0,0,0,0,0,1,0,0,0,0,0,0,0,0,0,0,0,0,0,0,0,0,1,1,0,0,0,0,0,0,0,0,0,0,0,1,0,0,0,0,0,0,0,0,1,1,0,0,0,0,0,0,0,0,0,0,1,0,0,0,0,1,0,1,0,0,0,1,1,0,0,1,1,0,1,1,1,0,0,0,0,1,1,0,1,0,1,0,0,0,0,0,0,0,0,0,0,0,1,1,0,1,0,0,1,0,0,0,1,0,0,0,0,0,0,0,1,0,1,1,0,0,0,0,0,0,0,1,0,1,1,1,0,0,0,0,0,0,1,1,0,0,1,1,0,1,0,0,0,0,0,0,0,0,1,0,0,0,0,1,0,0,1,1,1,0,0,0,0,1,0,0,1,1,0,0,1,0,0,0,0,0,0,0,0,0,0,0,0,0,1,0,0,0,1,0,1,0,0,0,0,0,1,0,0,0,0,0,0,0,1,0,1,0,1,0,0,0,0,0,0,1,0,0,0,0,1,0,1,1,1,0,1,0,1,0,0,0,0,1,0,0,0,0,1,0,0,0,0,1,1,1,0,0,0,0,0,0,0,0,0,0,0,1,1,0,1,0,0,0,0,0,0,1,0,0,1,0,0,0,0,0,0,0,0,0,1,0,0,0,0,0,0,0,0,1,0,0,0,1,0,1,0,1,0,1,0,0,0,0,0,1,0,0,0,0,0,0,0,1,0,1,0,0,1,1,0,0,0,0,1,0,0,0,0,1,1,1,0,0,0,1,0,0,1,0,0,0,0,0,0,0,0,0,1,0,1,0,1,0,0,0,1,1,0,1,0,0,0,0,0,0,0,0,0,0,0,0,0,1,0,1,1,1,1,0,0,0,1,0,0,0,0,0,1,0,1,1,1,0,0,1,1,0,0,0,0,0,0,0,0,0,0,0,0,0,0,0,0,0,0,0,1,0,0,0,0,1,0,0,0,1,0,0,1,0,1,0,1,0,0,1,0,0,1,0,0,1,0,0,0,0,0,0,0,1,0,0,0,0,0,0,1,1,1,0,1,0,0,1,0,1,0,0,1,0,0,0,0,1,0,0,0,0,0,0,0,0,0,0,0,0,0,0,0,0,0,0,0,0,0,0,0,1,0,1,0,0,0,0,0,0,0,0,0,0,0,1,0,0,1,0,0,1,1,1,1,0,0,0,0,0,1,0,0,0,0,0,1,0,1,0,0,1,1,0,1,0,0,0,0,0,0,0,1,0,1,0,0,0,0,1,0,0,0,0,0,0,0,0,0,0,0,0,0,1,0,0,0,1,0,0,0,0,0,0,0,0,1,0,0,1,1,0,0,0,0,0,0,0,0,0,0,0,1,1,1,0,1,0,0,1,1,0,0,0,0,0,1,0,1,0,0,1,1,0,1,0,1,0,0,1,0,1,0,0,0,0,0,0,0,1,0,0,1,0,0,0,1,0,0,0,0,0,0,0,0,1,0,0,1,1,0,1,0,0,0,0,0,1,1,0,0,0,0,0,0,0,1,0,0,0,0,0,0,0,0,0,0,1,1,0,0,0,0,0,0,0,0,0,0,0,0,0,0,1,1,0,0,0,0,0,0,0,0,1,0,0,0,0,1,0,0,0,1,1,0,0,0,0,0,1,0,0,0,0,1,1,0,1,1,0,0,0,0,1,0,1,0,0,0,1,0,1,0,0,1,0,0,0,0,0,0,0,0,0,0,0,0,0,1,0,0,0,1,0,0,1,0,0,0,1,0,0,0,0,0,1,0,0,1,1,0,0,0,1,0,0,1,1,1,0,1,1,0,0,0,0,1,0,0,0,1,0,0,1,0,0,0,0,0,1,0,0,1,0,0,0,0,1,0,1,0,0,1,0,0,1,0,0,0,1,0,1,1,0,0,0,0,0,0,1,0,1,0,0,1,0,0,1,1,0,1,0,0,1,1,0,0,1,0,0,0,0,1,1,1,0,0,1,1,0,0,0,0,0,0,0,0,0,0,0,1,1,0,0,0,0,1,0,0,0,0,0,0,0,1,1,1,0,1,1,0,0,0,0,0,0,0,0,0,0,0,0,0,0,1,0,1,0,1,0,1,1,1,0,0,0,0,0,0,0,0,0,0,0,0,0,1,0,1,0,1,0,1,0,1,0,1,1,0,0,0,0,0,0,0,0,1,0,0,0,0,0,0,0,0,0,0,1,0,0,0,0,1,0,0,0,1,1,0,1,1,0,0,1,1,0,0,1,1,1,0,0,0,0,1,0,0,0,0,0,0,1,0,0,0,0,0,0,0,0,0,0,0,1,0,0,0,0,0,0,1,1,0,0,0,0,1,0,0,1,0,0,0,0,1,0,0,0,0,0,0,0,0,0,0,0,1,0,0,0,1,0,1,0,0,1,0,1,1,0,0,1,0,0,0,0,0,0,0,1,0,1,0,0,0,0,1,0,0,0,0,1,0,0,1,0,0,0,0,0,1,0,1,0,0,0,0,0,0,0,0,1,1,0,0,0,0,0,1,0,0,0,0,0,0,0,0,1,0,0,0,1,0,0,0,0,0,0,0,1,1,1,0,0,1,0,1,0,0,0,1,1,0,1,1,1,0,0,0,0,0,0,0,0,0,0,0,0,0,0,1,1,1,0,0,1,0,0,1,0,0,0,0,0,0,0,0,1,0,1,0,0,0,0,0,1,0,1,0,0,0,0,0,0,1,1,0,0,1,0,0,0,0,1,0,0,0,1,0,0,0,1,0,1,0,1,0,1,0,1,0,1,0,0,0,0,0,0,0,0,0,0,1,0,1,1,0,0,1,0,1,1,0,0,0,1,0,0,0,1,0,0,1,0,0,1,1,1,0,1,1,1,0,0,0,1,0,1,0,0,0,0,1,0,0,0,0,0,0,1,1,0,0,1,0,0,0,0,1,1,0,0,0,0,0,0,0,0,0,0,0,0,0,1,0,0,0,0,0,1,0,0,0,0,0,0,1,0,0,0,1,1,0,0,1,0,0,0,0,0,0,0,1,0,0,0,0,1,1,0,0,1,0,0,0,0,0,0,0,0,0,0,0,0,0,0,1,1,0,1,0,0,0,1,0,0,0,1,0,1,0,0,0,1,0,0,0,0,0,0,0,0,0,1,0,0,1,0,0,0,0,1,0,0,1,0,0,0,0,0,0,1,0,0,0,1,0,0,0,1,0,1,0,0,1,0,0,0,0,0,0,1,0,0,0,0,0,1,0,0,0,1,0,1,1,0,0,0,0,0,1,0,0,1,0,0,1,1,0,1,1,0,0,0,0,1,1,0,0,0,1,0,0,0,1,0,0,0,0,1,0,0,1,0,0,0,0,0,1,0,0,1,0,0,0,0,0,0,0,0,0,0,1,0,0,0,0,0,0,1,1,0,0,0,1,0,1,0,1,0,1,0,0,0,0,0,0,1,0,0,0,0,0,0,0,0,0,0,0,0,0,0,0,1,0,0,0,0,0,0,0,0,0,0,0,0,0,0,0,0,0,1,0,1,1,0,0,0,0,0,0,1,1,0,0,0,0,0,0,0,1,0,0,0,0,1,1,0,0,0,1,1,0,0,0,1,0,0,0,1,1,0,0,0,0,0,0,0,0,0,1,0,0,0,0,0,0,0,0,1,0,0,0,0,0,0,0,0,0,0,0,0,0,0,0,0,0,0,0,0,1,0,0,0,0,0,0,1,0,0,0,0,0,1,0,0,1,0,0,1,0,0,0,0,1,1,0,0,0,1,0,0,1,0,0,0,0,0,0,0,1,0,0,0,1,1,0,1,0,1,0,0,0,1,0,1,0,0,1,1,0,1,0,0,0,0,0,0,0,0,0,0,1,0,1,0,0,0,1,1,0,0,0,0,0,0,0,0,1,1,1,0,0,1,0,0,0,1,0,0,0,0,0,0,0,0,0,1,0,0,0,0,0,0,0,0,1,0,1,0,0,1,0,0,1,0,0,0,0,1,0,0,0,0,0,0,0,0,0,1,0,0,0,0,0,0,1,0,1,0,0,0,0,0,0,0,0,0,1,0,1,1,0,0,0,1,1,0,0,0,1,0,1,0,0,1,0,0,0,0,0,1,0,0,0,0,0,1,1,0,0,1,1,0,0,1,1,1,0,0,0,1,1,0,1,0,0,1,0,1,1,0,0,0,1,1,0,0,0,1,0,0,0,0,1,1,1,0,0,1,0,1,0,0,1,0,1,0,0,1,1,1,0,0,0,0,0,0,0,1,0,0,0,0,0,0,0,1,0,1,1,1,0,1,0,0,1,0,0,1,0,0,0,0,0,0,0,0,0,0,0,1,1,0,1,0,0,0,1,0,0,1,1,0,1,0,1,1,0,0,0,1,0,0,0,0,0,0,1,0,1,0,0,0,0,0,0,1,0,0,0,1,0,0,0,1,0,0,1,0,0,0,0,1,0,1,0,0,0,1,0,0,0,0,1,0,0,0,0,1,0,0,0,1,0,0,0,0,0,0,0,0,0,0,0,0,1,1,0,0,0,0,1,1,0,0,1,0,1,0,0,0,0,0,0,0,0,0,0,0,0,0,1,1,1,0,1,0,1,0,0,0,0,1,0,1,0,1,0,0,0,0,0,0,0,1,0,0,0,0,0,0,0,0,0,0,0,0,0,0,0,0,1,0,0,0,0,0,1,0,0,0,0,0,0,0,1,0,0,1,0,1,1,0,1,0,1,0,1,1,0,0,0,0,0,1,0,0,0,0,0,0,0,0,0,0,0,0,0,1,0,0,0,0,1,0,0,1,0,0,0,1,0,0,0,1,0,0,1,0,0,0,0,0,0,0,0,1,1,0,0,1,0,0,0,0,0,1,0,0,0,0,0,0,0,0,1,0,0,0,0,0,1,0,0,0,0,0,1,0,0,0,0,1,0,0,0,0,1,1,0,1,1,0,0,0,0,0,0,0,1,1,1,0,1,0,1,0,0,0,0,0,1,0,1,0,1,0,1,1,1,0,0,0,0,0,1,1,0,0,1,1,0,0,1,0,0,0,1,0,0,0,0,0,0,0,0,0,0,0,0,0,1,1,1,0,0,1,0,0,0,1,0,1,1,0,0,0,0,1,0,0,0,0,0,0,1,0,1,1,0,1,0,0,0,0,0,1,1,0,0,0,0,0,0,0,0,0,1,0,0,0,0,0,0,0,0,0,0,0,0,0,0,0,0,1,0,0,0,0,0,0,0,0,0,1,0,0,0,1,0,1,0,0,0,0,0,0,0,0,1,0,0,0,0,0,0,0,0,0,0,0,0,0,0,0,0,0,0,1,1,0,0,0,0,0,0,0,1,1,0,0,0,0,0,0,1,1,0,0,0,0,0,0,0,0,0,0,0,0,1,0,0,0,1,0,0,0,1,1,0,0,0,1,0,0,0,0,0,1,1,0,0,0,0,0,0,0,0,0,1,1,0,1,1,0,1,0,0,1,0,0,1,0,0,0,0,0,1,0,1,0,1,1,0,0,0,0,0,0,0,1,0,0,1,0,0,0,0,1,0,0,0,0,0,1,0,0,0,1,0,0,1,0,0,0,1,0,0,0,0,1,0,0,0,0,0,0,0,0,0,0,1,0,0,0,0,0,0,0,0,0,1,0,0,0,0,0,0,1,0,0,0,0,0,0,1,0,0,0,1,0,0,0,1,0,0,1,1,0,1,1,0,0,0,0,1,0,0,0,0,0,0,1,0,0,0,0,1,0,0,0,0,0,0,0,0,0,0,0,1,0,1,0,0,0,0,1,0,1,0,0,0,1,0,1,1,0,0,0,1,1,0,1,0,0,1,0,0,0,0,0,0,1,0,0,0,0,0,1,0,0,0,0,0,1,0,1,0,0,1,0,0,0,0,0,1,0,0,1,0,1,0,0,1,0,1,0,0,0,0,0,0,1,0,1,0,1,1,0,0,0,0,1,0,0,0,0,1,0,0,0,0,0,0,0,0,0,0,0,1,1,0,0,0,0,0,0,0,0,0,0,0,0,0,0,0,0,0,1,0,0,0,0,1,1,1,0,0,0,0,0,0,0,0,0,0,0,0,0,0,0,0,0,0,1,0,0,0,1,0,0,0,0,0,0,0,1,0,0,0,0,0,0,0,0,0,1,0,0,0,0,0,1,0,0,0,1,0,0,0,0,1,0,0,0,0,0,1,0,1,0,0,0,0,0,1,0,0,0,0,0,0,0,0,0,0,0,0,0,1,0,1,0,0,0,1,0,0,0,0,1,0,1,0,0,0,0,1,0,0,0,0,0,1,0,0,0,0,0,0,1,1,1,0,0,0,1,1,1,1,0,0,0,0,0,0,0,0,0,0,0,0,0,1,0,0,0,1,1,0,0,0,0,1,0,0,0,1,1,1,0,0,0,1,1,1,0,0,0,0,0,0,1,1,0,1,0,0,0,0,0,1,0,0,0,0,0,0,0,1,1,0,0,0,0,0,0,1,0,0,1,0,0,0,1,0,0,0,0,0,0,0,0,0,0,1,0,1,0,0,0,0,0,1,0,0,1,0,1,0,0,0,1,0,1,1,0,1,0,0,0,0,0,0,1,0,0,0,0,0,1,0,0,0,0,0,0,1,0,0,0,0,0,0,0,0,0,0,0,1,0,0,0,0,0,0,0,0,0,0,0,1,0,0,0,0,0,0,0,0,0,1,0,1,0,0,0,1,0,0,0,0,0,0,0,0,1,0,0,0,0,1,0,0,0,0,0,0,0,0,0,1,0,0,0,0,0,1,0,0,0,0,1,0,0,0,1,0,1,0,0,1,0,0,0,0,0,0,0,1,1,0,1,0,0,1,1,0,0,1,0,0,1,0,0,0,0,0,0,0,1,0,0,0,0,0,0,1,0,1,0,1,0,0,1,1,0,0,0,0,0,0,0,0,0,1,0,1,1,0,0,0,0,1,0,1,0,1,0,0,0,1,1,0,1,0,0,0,0,0,0,0,0,0,0,1,0,1,0,1,0,1,0,1,0,0,0,0,0,0,0,0,0,0,0,1,0,0,0,0,0,0,0,1,0,0,0,0,0,0,1,0,0,0,0,0,1,1,1,0,0,0,0,0,0,0,0,0,1,0,0,0,0,1,0,1,0,1,0,0,0,1,0,0,1,0,0,0,0,0,0,0,0,0,1,0,0,0,1,0,0,0,0,0,0,0,0,0,0,1,0,0,1,0,0,1,0,0,0,0,0,0,0,0,0,0,0,0,0,0,0,1,0,0,1,0,1,0,0,1,1,0,0,0,0,0,0,1,0,0,0,0,0,0,0,1,0,1,0,0,0,0,0,1,0,1,0,0,1,0,1,0,0,0,0,0,0,0,0,0,0,0,0,0,1,0,0,1,0,0,0,1,0,0,0,0,0,0,0,0,0,0,1,1,0,1,0,0,1,0,0,0,0,0,0,0,1,0,0,1,0,0,0,0,0,0,1,0,0,0,0,0,1,0,1,0,0,0,0,1,1,0,1,0,0,0,1,1,0,1,0,0,0,0,0,1,0,0,1,0,1,1,0,0,0,1,0,0,0,1,0,0,0,1,1,0,1,0,0,1,0,1,0,0,0,0,0,1,0,0,0,0,0,1,0,1,0,0,0,0,0,0,0,0,0,0,0,0,0,0,0,0,1,0,0,1,0,1,0,0,0,0,0,0,0,0,0,0,1,0,1,0,0,0,1,0,1,0,0,1,1,0,1,1,0,1,0,0,0,0,1,0,1,0,1,0,0,0,0,0,0,0,0,1,0,0,1,0,0,0,0,0,0,1,0,0,0,1,0,0,0,0,1,1,0,0,0,0,0,1,0,0,1,0,1,1,0,1,0,0,0,0,0,0,0,1,1,0,0,0,0,0,0,1,0,0,0,0,0,0,0,0,1,0,0,0,0,0,0,0,1,0,0,0,0,1,0,0,0,0,0,0,1,0,1,0,0,0,0,1,0,0,0,0,0,0,0,0,1,0,0,0,0,1,0,1,0,0,0,0,0,0,0,0,0,1,0,0,0,0,0,0,0,0,0,0,0,1,0,0,0,0,0,0,0,1,0,1,1,0,0,0,1,1,0,0,0,0,0,0,0,0,0,0,0,0,1,1,0,0,0,1,0,0,1,0,0,0,1,0,0,0,1,1,0,0,1,0,0,0,0,0,1,0,0,1,0,0,1,0,0,1,1,0,1,1,1,0,0,1,0,0,1,0,0,0,0,1,0,0,0,0,0,0,1,0,0,0,1,1,1,0,0,0,0,1,0,1,1,0,0,1,0,0,0,0,0,0,0,0,1,0,0,0,1,0,0,0,0,1,0,1,0,0,0,1,0,0,1,1,0,0,0,0,1,1,1,0,0,1,1,1,0,0,0,0,0,0,1,0,0,0,1,1,0,0,0,0,0,0,0,0,0,0,0,0,0,0,1,1,0,0,0,0,1,0,1,0,0,0,0,0,0,0,0,0,0,0,0,0,0,0,0,0,0,0,0,1,0,0,0,1,0,1,0,0,0,0,0,0,1,1,0,0,1,1,1,0,0,0,0,1,0,0,1,1,0,0,1,0,0,0,1,0,0,0,0,0,0,0,0,0,0,1,0,0,0,0,0,0,0,0,0,0,0,0,0,1,1,0,1,0,0,0,0,0,0,0,0,0,0,0,0,1,1,0,0,1,0,0,0,0,1,0,0,1,0,0,1,0,1,0,1,0,0,0,0,0,0,1,0,1,0,0,0,0,1,1,1,0,1,0,0,0,0,1,1,1,0,0,1,1,0,1,0,0,0,0,0,0,0,1,0,0,1,0,0,0,0,0,1,0,0,0,0,1,0,1,1,0,1,0,1,0,0,0,0,0,0,0,0,1,0,0,0,0,0,0,1,0,0,1,0,0,0,0,0,0,0,1,0,0,0,0,0,0,1,1,0,1,0,0,0,0,0,0,0,0,1,0,1,0,1,0,0,1,0,0,0,0,0,0,1,1,1,0,0,0,0,0,1,1,0,0,0,0,0,0,0,0,0,0,0,1,0,0,0,0,0,0,1,0,1,0,1,0,0,0,1,0,1,0,0,0,0,1,0,0,0,0,0,0,0,0,0,0,0,0,1,0,0,0,1,0,1,0,1,0,0,0,0,0,1,0,1,0,0,0,0,1,0,0,0,0,0,1,1,0,0,0,1,0,1,0,0,0,0,0,0,1,0,0,0,1,0,0,1,0,0,1,0,0,0,0,0,0,0,0,0,0,0,1,1,0,0,0,0,1,1,0,1,0,0,0,1,0,0,0,0,1,0,0,1,1,1,0,1,0,0,1,0,0,0,0,1,0,0,0,0,1,0,0,0,0,0,0,0,0,0,0,0,1,1,0,0,0,0,0,0,0,0,0,0,0,0,0,0,1,0,0,0,0,1,1,0,0,1,0,1,0,0,0,1,0,0,1,0,0,0,1,0,0,0,1,0,0,0,0,0,0,1,0,1,0,0,0,0,1,0,1,1,1,1,0,0,0,0,0,0,0,0,0,0,0,0,1,0,0,1,0,0,0,1,0,0,1,1,0,0,0,0,0,1,0,0,0,0,0,0,0,1,1,1,0,0,0,0,0,1,1,0,0,0,0,0,0,0,0,0,0,1,0,0,0,0,1,0,0,0,1,1,0,1,0,0,0,0,0,1,0,0,1,0,0,0,1,0,0,0,0,0,0,0,0,1,1,0,1,0,0,1,0,1,1,0,0,0,0,0,1,1,0,1,0,0,0,1,0,0,0,0,1,1,0,0,1,0,0,0,1,0,0,1,1,1,0,1,0,0,0,0,0,0,1,0,1,0,1,0,1,0,0,0,0,0,0,0,0,0,0,0,0,1,0,1,1,1,0,0,0,0,0,0,0,0,1,1,0,0,0,0,1,1,1,0,0,1,0,1,0,1,0,0,0,1,0,0,0,1,0,0,0,0,0,0,1,0,0,0,0,0,0,0,1,0,0,1,1,0,0,0,0,0,0,0,0,0,1,0,0,0,0,1,1,0,1,1,1,0,0,0,0,0,0,0,0,0,0,0,0,0,0,1,0,0,0,0,0,0,0,1,0,0,0,1,0,1,0,0,0,0,1,0,1,1,0,1,0,0,1,1,1,1,0,1,1,0,0,1,1,1,0,1,1,0,0,0,0,0,0,0,0,0,0,0,0,1,0,1,0,1,1,0,0,0,1,0,0,0,1,1,0,0,0,0,0,0,0,0,0,1,0,0,0,0,0,0,1,1,1,0,1,1,0,0,0,0,0,0,0,0,1,1,0,0,0,0,0,0,1,0,1,0,0,0,0,0,0,0,0,0,0,0,0,1,1,0,0,0,0,0,0,0,0,0,0,0,1,0,0,0,0,1,0,0,0,1,0,1,0,0,0,0,0,0,0,0,0,0,1,0,0,0,0,1,1,0,0,1,0,0,0,0,1,0,1,0,0,1,0,1,1,0,0,0,1,0,0,0,0,0,1,1,1,0,0,0,1,1,1,0,0,0,0,0,0,0,1,0,1,0,1,0,1,0,1,1,1,0,1,1,1,0,0,0,1,0,0,0,0,0,1,0,1,0,0,0,0,0,0,0,0,0,0,0,0,0,1,1,1,0,0,0,0,0,0,1,0,1,0,0,1,0,0,0,1,0,0,0,1,0,0,1,0,0,0,0,0,1,0,0,0,1,0,0,0,0,0,0,0,0,0,1,0,0,0,1,0,1,0,1,0,0,1,0,0,1,0,0,0,1,0,0,0,0,0,1,0,0,1,0,1,0,0,0,0,0,0,0,1,1,0,1,0,1,0,0,1,0,0,0,0,1,0,1,0,1,0,0,1,1,0,0,0,0,0,1,0,1,0,0,0,1,0,1,0,1,0,1,0,0,0,1,0,1,1,0,0,0,0,1,0,0,0,0,0,0,0,0,1,0,0,1,0,0,1,0,0,0,0,0,0,1,0,0,0,1,0,0,1,0,0,1,0,0,0,1,0,1,0,0,0,0,0,0,0,0,0,0,0,1,0,0,0,0,1,0,1,0,0,1,1,0,0,0,0,1,0,0,0,0,0,0,1,0,1,1,0,1,0,0,0,1,0,0,0,0,1,1,0,0,0,0,0,1,0,0,1,1,0,0,0,0,0,0,1,0,1,0,0,0,1,0,0,0,1,1,0,0,0,1,0,0,1,1,0,0,1,0,1,0,0,0,1,0,0,0,1,0,0,0,1,1,1,0,0,1,0,0,0,0,0,0,0,0,1,1,0,0,0,0,0,0,0,1,0,0,0,0,0,0,0,0,1,0,0,0,0,0,1,0,0,0,0,0,0,0,1,1,0,0,1,0,1,0,0,0,0,1,0,0,1,0,1,0,0,0,0,1,1,1,1,0,0,1,0,0,0,1,0,0,0,0,0,0,0,0,0,1,1,0,1,0,1,1,0,0,0,0,0,0,0,0,0,0,0,0,0,1,1,0,0,0,1,0,0,0,0,0,0,1,0,0,0,1,0,0,1,0,1,0,0,0,0,0,0,1,1,0,1,0,0,0,1,0,1,1,0,0,0,0,1,0,0,0,1,0,0,0,1,0,0,1,0,0,0,1,1,1,0,1,0,0,1,0,1,0,0,0,0,1,0,0,0,0,0,1,0,1,0,0,0,0,0,0,0,0,0,1,0,0,1,1,0,1,1,0,0,1,1,1,1,0,1,0,1,1,0,0,1,0,1,0,0,1,0,1,0,0,0,0,0,0,0,0,0,0,0,0,0,0,1,1,0,0,1,0,1,0,0,1,1,1,0,0,1,1,0,1,0,0,0,0,0,0,0,1,0,1,0,0,0,1,1,0,0,0,0,0,0,0,0,0,0,1,0,0,1,0,0,1,1,0,0,0,0,0,0,1,0,0,0,0,0,0,0,0,0,0,0,1,0,0,1,0,0,0,0,0,0,1,0,0,0,0,0,0,1,0,1,0,0,0,0,1,0,0,0,1,0,1,0,0,0,0,0,0,0,0,1,1,0,0,0,0,0,0,0,1,1,0,0,1,0,1,0,1,0,1,0,0,0,1,0,0,1,0,1,1,0,0,0,0,0,0,0,0,0,0,0,0,0,0,0,1,1,0,0,0,0,0,0,1,1,0,1,0,1,0,0,0,0,0,0,0,0,0,0,0,1,0,0,0,0,1,0,0,0,0,1,1,0,0,0,0,1,1,1,0,0,0,1,0,0,0,1,0,0,0,0,1,0,0,0,0,0,0,0,1,1,0,0,0,0,0,1,1,1,1,1,0,0,0,0,0,0,0,1,0,0,0,0,0,1,0,0,1,0,0,0,0,1,0,0,0,1,1,0,1,0,0,1,1,0,0,0,0,0,0,0,0,1,0,0,0,1,0,1,0,0,0,0,1,0,1,0,1,0,0,0,0,0,0,0,0,0,0,0,0,0,0,0,1,0,0,0,0,1,0,0,0,1,0,1,0,1,1,0,0,0,0,0,0,1,0,0,0,0,0,0,0,0,0,0,0,0,1,0,0,0,0,0,0,0,1,1,0,0,0,0,0,0,0,0,0,1,0,0,0,1,0,0,0,0,0,1,0,0,0,0,0,1,0,0,0,0,1,1,0,0,0,1,1,0,1,1,0,1,0,0,1,0,0,1,0,0,0,0,0,0,1,0,1,0,0,0,1,0,0,0,0,0,0,0,0,0,1,1,1,0,0,0,0,0,0,0,0,0,0,0,0,1,0,0,0,0,0,1,1,1,1,0,1,1,0,0,0,0,1,0,1,0,0,0,0,0,1,1,0,0,0,0,1,0,0,0,0,0,1,1,0,0,0,0,0,1,1,0,0,0,0,0,1,0,0,0,1,0,0,0,1,0,0,0,0,0,0,0,0,1,0,1,0,0,1,0,1,0,0,0,1,0,1,1,0,1,1,0,0,1,0,0,0,0,0,0,0,0,0,1,0,1,1,0,0,0,0,0,0,0,0,1,0,0,1,0,0,1,0,0,0,0,0,0,0,0,0,1,0,0,0,1,0,0,0,0,0,0,1,0,0,0,1,1,1,0,1,0,0,0,1,0,0,0,0,0,0,1,1,0,0,0,1,0,0,0,1,0,0,0,1,0,1,0,0,1,0,0,1,0,0,1,0,0,0,0,0,0,0,0,1,0,0,0,0,0,0,0,1,1,0,1,0,0,0,0,0,0,1,0,0,0,0,0,0,0,0,0,0,0,0,0,0,0,1,0,0,0,1,1,0,0,0,0,0,0,0,1,0,0,1,0,0,0,0,1,0,0,0,0,0,0,0,0,0,0,1,0,0,0,0,0,0,0,0,0,0,0,1,0,0,0,0,0,0,0,0,0,0,0,0,0,0,0,0,0,1,0,1,0,0,0,0,1,1,0,0,0,0,0,0,0,0,1,1,0,0,1,0,0,0,0,1,1,0,0,0,0,0,0,0,1,0,0,1,0,0,0,0,0,0,0,0,1,1,0,0,0,0,0,1,0,1,1,0,1,0,0,1,1,0,1,1,0,1,1,0,0,0,0,0,0,1,0,0,0,1,0,0,1,0,1,0,0,1,0,1,0,1,0,1,0,0,1,0,0,0,0,0,1,1,0,0,0,0,0,0,0,0,0,0,0,1,0,0,0,1,1,0,0,1,0,0,0,0,1,1,0,0,0,0,0,1,0,1,0,1,0,0,0,1,0,0,1,1,0,0,0,0,0,0,0,0,0,1,0,1,0,1,0,0,1,0,0,0,0,0,0,0,0,0,0,1,1,0,0,0,0,0,1,0,0,1,0,0,1,0,0,1,0,0,0,0,0,0,0,1,0,0,1,0,0,0,0,0,0,0,0,0,1,0,1,0,0,0,0,0,0,0,0,1,1,0,0,0,0,0,0,0,0,1,0,0,0,1,0,0,0,0,1,1,0,0,0,0,0,1,0,0,0,0,0,0,1,0,0,0,0,0,0,0,0,1,0,0,0,0,0,0,0,0,0,0,0,0,0,0,0,0,0,0,0,0,0,0,1,0,0,1,1,0,0,0,0,0,0,0,0,0,1,0,0,0,0,1,0,0,0,0,0,1,0,0,0,0,0,1,1,0,0,0,1,0,0,0,0,1,1,0,1,0,0,0,1,0,0,0,0,0,0,0,1,0,1,0,0,0,0,1,0,0,0,0,1,0,0,0,0,0,0,0,0,1,0,0,0,0,0,0,0,0,0,0,0,1,0,0,1,1,0,0,1,0,1,0,0,0,0,0,1,1,0,0,0,0,1,0,0,0,0,0,0,1,0,0,1,0,0,1,0,0,0,1,0,0,0,0,0,0,1,0,1,0,0,0,1,0,0,0,1,0,0,1,0,0,0,0,0,0,0,0,1,0,0,1,0,0,0,0,0,0,0,0,1,1,0,0,0,1,1,1,0,1,0,1,0,0,0,0,1,0,0,0,0,0,0,0,0,0,0,1,0,0,0,1,0,0,0,0,0,0,0,0,0,1,0,0,1,0,0,0,1,0,0,1,0,0,0,0,0,0,0,1,0,0,0,0,0,0,0,0,0,1,0,0,0,1,1,0,0,0,0,0,0,0,0,0,1,0,1,0,0,0,0,0,0,0,0,0,1,0,0,0,0,1,1,1,1,0,0,0,0,0,0,0,1,0,0,0,0,0,0,0,0,1,0,0,0,0,1,1,0,1,1,0,1,0,1,1,0,0,0,0,1,1,0,0,0,1,0,0,0,1,1,0,0,0,0,0,0,0,0,0,0,1,0,0,0,0,0,0,1,0,0,0,1,0,0,0,0,0,0,0,0,0,1,0,0,1,0,0,1,0,0,0,0,0,0,1,0,0,0,0,0,0,0,0,0,0,0,0,0,0,1,0,0,0,0,1,0,0,0,1,0,1,1,0,1,0,0,0,0,0,0,0,1,0,1,0,0,1,0,1,1,1,0,0,0,0,0,0,1,0,0,0,0,0,1,0,0,0,1,0,0,0,0,0,1,0,0,0,1,1,1,0,0,0,0,1,0,0,0,0,0,0,0,1,0,0,0,0,0,0,0,0,0,0,0,1,1,0,0,0,1,0,0,0,0,0,0,0,1,1,0,0,1,0,1,1,0,0,1,0,0,0,0,0,1,0,0,0,1,0,1,0,0,0,0,0,1,0,0,1,0,0,0,1,1,0,0,0,0,0,0,1,1,0,0,0,1,1,0,1,0,0,1,0,0,0,0,0,1,1,0,0,0,0,0,0,0,0,1,0,0,0,0,0,1,1,0,0,0,0,0,0,0,0,0,0,0,0,0,0,1,0,0,0,0,0,0,0,1,1,0,0,0,0,0,0,0,0,0,0,0,0,1,1,0,0,0,0,0,0,1,0,1,0,0,0,0,0,0,0,0,1,0,1,0,0,1,0,0,0,0,0,1,0,0,1,0,0,1,1,0,0,0,0,0,0,0,1,0,0,0,0,0,1,0,0,1,0,0,0,0,0,1,0,0,0,0,0,1,0,1,0,0,0,0,0,1,0,0,1,1,0,0,0,0,0,1,1,0,0,0,0,0,0,0,0,0,0,1,0,0,0,0,0,0,1,0,1,0,0,0,0,1,0,0,1,0,0,0,0,0,0,0,0,0,0,1,0,0,1,0,0,0,0,1,1,0,0,0,1,1,0,1,1,0,0,1,1,0,0,1,0,0,1,0,0,1,1,0,0,0,1,1,0,0,0,0,0,0,0,1,0,1,0,1,0,0,0,0,0,1,0,0,0,0,0,1,0,1,0,0,0,1,0,0,0,0,0,0,0,0,0,0,0,0,1,0,0,0,0,0,1,0,0,0,0,0,0,0,0,0,0,0,0,1,0,1,1,1,1,0,0,1,1,0,0,1,0,0,0,0,0,0,0,0,1,1,0,0,0,1,1,1,0,0,1,1,0,0,0,0,0,0,0,0,1,0,0,0,0,0,0,0,0,0,0,1,0,0,1,0,0,0,0,0,1,0,0,1,0,0,0,0,0,1,1,0,0,1,0,0,1,0,0,0,0,0,1,0,1,0,0,0,1,1,0,0,0,0,1,1,0,1,1,0,0,0,0,0,1,0,0,0,0,0,0,0,0,0,0,0,0,0,0,0,0,1],\"yaxis\":\"y\",\"type\":\"histogram\"}],                        {\"template\":{\"data\":{\"histogram2dcontour\":[{\"type\":\"histogram2dcontour\",\"colorbar\":{\"outlinewidth\":0,\"ticks\":\"\"},\"colorscale\":[[0.0,\"#0d0887\"],[0.1111111111111111,\"#46039f\"],[0.2222222222222222,\"#7201a8\"],[0.3333333333333333,\"#9c179e\"],[0.4444444444444444,\"#bd3786\"],[0.5555555555555556,\"#d8576b\"],[0.6666666666666666,\"#ed7953\"],[0.7777777777777778,\"#fb9f3a\"],[0.8888888888888888,\"#fdca26\"],[1.0,\"#f0f921\"]]}],\"choropleth\":[{\"type\":\"choropleth\",\"colorbar\":{\"outlinewidth\":0,\"ticks\":\"\"}}],\"histogram2d\":[{\"type\":\"histogram2d\",\"colorbar\":{\"outlinewidth\":0,\"ticks\":\"\"},\"colorscale\":[[0.0,\"#0d0887\"],[0.1111111111111111,\"#46039f\"],[0.2222222222222222,\"#7201a8\"],[0.3333333333333333,\"#9c179e\"],[0.4444444444444444,\"#bd3786\"],[0.5555555555555556,\"#d8576b\"],[0.6666666666666666,\"#ed7953\"],[0.7777777777777778,\"#fb9f3a\"],[0.8888888888888888,\"#fdca26\"],[1.0,\"#f0f921\"]]}],\"heatmap\":[{\"type\":\"heatmap\",\"colorbar\":{\"outlinewidth\":0,\"ticks\":\"\"},\"colorscale\":[[0.0,\"#0d0887\"],[0.1111111111111111,\"#46039f\"],[0.2222222222222222,\"#7201a8\"],[0.3333333333333333,\"#9c179e\"],[0.4444444444444444,\"#bd3786\"],[0.5555555555555556,\"#d8576b\"],[0.6666666666666666,\"#ed7953\"],[0.7777777777777778,\"#fb9f3a\"],[0.8888888888888888,\"#fdca26\"],[1.0,\"#f0f921\"]]}],\"heatmapgl\":[{\"type\":\"heatmapgl\",\"colorbar\":{\"outlinewidth\":0,\"ticks\":\"\"},\"colorscale\":[[0.0,\"#0d0887\"],[0.1111111111111111,\"#46039f\"],[0.2222222222222222,\"#7201a8\"],[0.3333333333333333,\"#9c179e\"],[0.4444444444444444,\"#bd3786\"],[0.5555555555555556,\"#d8576b\"],[0.6666666666666666,\"#ed7953\"],[0.7777777777777778,\"#fb9f3a\"],[0.8888888888888888,\"#fdca26\"],[1.0,\"#f0f921\"]]}],\"contourcarpet\":[{\"type\":\"contourcarpet\",\"colorbar\":{\"outlinewidth\":0,\"ticks\":\"\"}}],\"contour\":[{\"type\":\"contour\",\"colorbar\":{\"outlinewidth\":0,\"ticks\":\"\"},\"colorscale\":[[0.0,\"#0d0887\"],[0.1111111111111111,\"#46039f\"],[0.2222222222222222,\"#7201a8\"],[0.3333333333333333,\"#9c179e\"],[0.4444444444444444,\"#bd3786\"],[0.5555555555555556,\"#d8576b\"],[0.6666666666666666,\"#ed7953\"],[0.7777777777777778,\"#fb9f3a\"],[0.8888888888888888,\"#fdca26\"],[1.0,\"#f0f921\"]]}],\"surface\":[{\"type\":\"surface\",\"colorbar\":{\"outlinewidth\":0,\"ticks\":\"\"},\"colorscale\":[[0.0,\"#0d0887\"],[0.1111111111111111,\"#46039f\"],[0.2222222222222222,\"#7201a8\"],[0.3333333333333333,\"#9c179e\"],[0.4444444444444444,\"#bd3786\"],[0.5555555555555556,\"#d8576b\"],[0.6666666666666666,\"#ed7953\"],[0.7777777777777778,\"#fb9f3a\"],[0.8888888888888888,\"#fdca26\"],[1.0,\"#f0f921\"]]}],\"mesh3d\":[{\"type\":\"mesh3d\",\"colorbar\":{\"outlinewidth\":0,\"ticks\":\"\"}}],\"scatter\":[{\"fillpattern\":{\"fillmode\":\"overlay\",\"size\":10,\"solidity\":0.2},\"type\":\"scatter\"}],\"parcoords\":[{\"type\":\"parcoords\",\"line\":{\"colorbar\":{\"outlinewidth\":0,\"ticks\":\"\"}}}],\"scatterpolargl\":[{\"type\":\"scatterpolargl\",\"marker\":{\"colorbar\":{\"outlinewidth\":0,\"ticks\":\"\"}}}],\"bar\":[{\"error_x\":{\"color\":\"#2a3f5f\"},\"error_y\":{\"color\":\"#2a3f5f\"},\"marker\":{\"line\":{\"color\":\"#E5ECF6\",\"width\":0.5},\"pattern\":{\"fillmode\":\"overlay\",\"size\":10,\"solidity\":0.2}},\"type\":\"bar\"}],\"scattergeo\":[{\"type\":\"scattergeo\",\"marker\":{\"colorbar\":{\"outlinewidth\":0,\"ticks\":\"\"}}}],\"scatterpolar\":[{\"type\":\"scatterpolar\",\"marker\":{\"colorbar\":{\"outlinewidth\":0,\"ticks\":\"\"}}}],\"histogram\":[{\"marker\":{\"pattern\":{\"fillmode\":\"overlay\",\"size\":10,\"solidity\":0.2}},\"type\":\"histogram\"}],\"scattergl\":[{\"type\":\"scattergl\",\"marker\":{\"colorbar\":{\"outlinewidth\":0,\"ticks\":\"\"}}}],\"scatter3d\":[{\"type\":\"scatter3d\",\"line\":{\"colorbar\":{\"outlinewidth\":0,\"ticks\":\"\"}},\"marker\":{\"colorbar\":{\"outlinewidth\":0,\"ticks\":\"\"}}}],\"scattermapbox\":[{\"type\":\"scattermapbox\",\"marker\":{\"colorbar\":{\"outlinewidth\":0,\"ticks\":\"\"}}}],\"scatterternary\":[{\"type\":\"scatterternary\",\"marker\":{\"colorbar\":{\"outlinewidth\":0,\"ticks\":\"\"}}}],\"scattercarpet\":[{\"type\":\"scattercarpet\",\"marker\":{\"colorbar\":{\"outlinewidth\":0,\"ticks\":\"\"}}}],\"carpet\":[{\"aaxis\":{\"endlinecolor\":\"#2a3f5f\",\"gridcolor\":\"white\",\"linecolor\":\"white\",\"minorgridcolor\":\"white\",\"startlinecolor\":\"#2a3f5f\"},\"baxis\":{\"endlinecolor\":\"#2a3f5f\",\"gridcolor\":\"white\",\"linecolor\":\"white\",\"minorgridcolor\":\"white\",\"startlinecolor\":\"#2a3f5f\"},\"type\":\"carpet\"}],\"table\":[{\"cells\":{\"fill\":{\"color\":\"#EBF0F8\"},\"line\":{\"color\":\"white\"}},\"header\":{\"fill\":{\"color\":\"#C8D4E3\"},\"line\":{\"color\":\"white\"}},\"type\":\"table\"}],\"barpolar\":[{\"marker\":{\"line\":{\"color\":\"#E5ECF6\",\"width\":0.5},\"pattern\":{\"fillmode\":\"overlay\",\"size\":10,\"solidity\":0.2}},\"type\":\"barpolar\"}],\"pie\":[{\"automargin\":true,\"type\":\"pie\"}]},\"layout\":{\"autotypenumbers\":\"strict\",\"colorway\":[\"#636efa\",\"#EF553B\",\"#00cc96\",\"#ab63fa\",\"#FFA15A\",\"#19d3f3\",\"#FF6692\",\"#B6E880\",\"#FF97FF\",\"#FECB52\"],\"font\":{\"color\":\"#2a3f5f\"},\"hovermode\":\"closest\",\"hoverlabel\":{\"align\":\"left\"},\"paper_bgcolor\":\"white\",\"plot_bgcolor\":\"#E5ECF6\",\"polar\":{\"bgcolor\":\"#E5ECF6\",\"angularaxis\":{\"gridcolor\":\"white\",\"linecolor\":\"white\",\"ticks\":\"\"},\"radialaxis\":{\"gridcolor\":\"white\",\"linecolor\":\"white\",\"ticks\":\"\"}},\"ternary\":{\"bgcolor\":\"#E5ECF6\",\"aaxis\":{\"gridcolor\":\"white\",\"linecolor\":\"white\",\"ticks\":\"\"},\"baxis\":{\"gridcolor\":\"white\",\"linecolor\":\"white\",\"ticks\":\"\"},\"caxis\":{\"gridcolor\":\"white\",\"linecolor\":\"white\",\"ticks\":\"\"}},\"coloraxis\":{\"colorbar\":{\"outlinewidth\":0,\"ticks\":\"\"}},\"colorscale\":{\"sequential\":[[0.0,\"#0d0887\"],[0.1111111111111111,\"#46039f\"],[0.2222222222222222,\"#7201a8\"],[0.3333333333333333,\"#9c179e\"],[0.4444444444444444,\"#bd3786\"],[0.5555555555555556,\"#d8576b\"],[0.6666666666666666,\"#ed7953\"],[0.7777777777777778,\"#fb9f3a\"],[0.8888888888888888,\"#fdca26\"],[1.0,\"#f0f921\"]],\"sequentialminus\":[[0.0,\"#0d0887\"],[0.1111111111111111,\"#46039f\"],[0.2222222222222222,\"#7201a8\"],[0.3333333333333333,\"#9c179e\"],[0.4444444444444444,\"#bd3786\"],[0.5555555555555556,\"#d8576b\"],[0.6666666666666666,\"#ed7953\"],[0.7777777777777778,\"#fb9f3a\"],[0.8888888888888888,\"#fdca26\"],[1.0,\"#f0f921\"]],\"diverging\":[[0,\"#8e0152\"],[0.1,\"#c51b7d\"],[0.2,\"#de77ae\"],[0.3,\"#f1b6da\"],[0.4,\"#fde0ef\"],[0.5,\"#f7f7f7\"],[0.6,\"#e6f5d0\"],[0.7,\"#b8e186\"],[0.8,\"#7fbc41\"],[0.9,\"#4d9221\"],[1,\"#276419\"]]},\"xaxis\":{\"gridcolor\":\"white\",\"linecolor\":\"white\",\"ticks\":\"\",\"title\":{\"standoff\":15},\"zerolinecolor\":\"white\",\"automargin\":true,\"zerolinewidth\":2},\"yaxis\":{\"gridcolor\":\"white\",\"linecolor\":\"white\",\"ticks\":\"\",\"title\":{\"standoff\":15},\"zerolinecolor\":\"white\",\"automargin\":true,\"zerolinewidth\":2},\"scene\":{\"xaxis\":{\"backgroundcolor\":\"#E5ECF6\",\"gridcolor\":\"white\",\"linecolor\":\"white\",\"showbackground\":true,\"ticks\":\"\",\"zerolinecolor\":\"white\",\"gridwidth\":2},\"yaxis\":{\"backgroundcolor\":\"#E5ECF6\",\"gridcolor\":\"white\",\"linecolor\":\"white\",\"showbackground\":true,\"ticks\":\"\",\"zerolinecolor\":\"white\",\"gridwidth\":2},\"zaxis\":{\"backgroundcolor\":\"#E5ECF6\",\"gridcolor\":\"white\",\"linecolor\":\"white\",\"showbackground\":true,\"ticks\":\"\",\"zerolinecolor\":\"white\",\"gridwidth\":2}},\"shapedefaults\":{\"line\":{\"color\":\"#2a3f5f\"}},\"annotationdefaults\":{\"arrowcolor\":\"#2a3f5f\",\"arrowhead\":0,\"arrowwidth\":1},\"geo\":{\"bgcolor\":\"white\",\"landcolor\":\"#E5ECF6\",\"subunitcolor\":\"white\",\"showland\":true,\"showlakes\":true,\"lakecolor\":\"white\"},\"title\":{\"x\":0.05},\"mapbox\":{\"style\":\"light\"}}},\"xaxis\":{\"anchor\":\"y\",\"domain\":[0.0,1.0],\"title\":{\"text\":\"workclass\"}},\"yaxis\":{\"anchor\":\"x\",\"domain\":[0.0,1.0],\"title\":{\"text\":\"sum of Salary\"}},\"legend\":{\"tracegroupgap\":0},\"margin\":{\"t\":60},\"barmode\":\"relative\"},                        {\"responsive\": true}                    ).then(function(){\n",
              "                            \n",
              "var gd = document.getElementById('d31a24cf-0d96-41a5-a332-1309a750e7e1');\n",
              "var x = new MutationObserver(function (mutations, observer) {{\n",
              "        var display = window.getComputedStyle(gd).display;\n",
              "        if (!display || display === 'none') {{\n",
              "            console.log([gd, 'removed!']);\n",
              "            Plotly.purge(gd);\n",
              "            observer.disconnect();\n",
              "        }}\n",
              "}});\n",
              "\n",
              "// Listen for the removal of the full notebook cells\n",
              "var notebookContainer = gd.closest('#notebook-container');\n",
              "if (notebookContainer) {{\n",
              "    x.observe(notebookContainer, {childList: true});\n",
              "}}\n",
              "\n",
              "// Listen for the clearing of the current output cell\n",
              "var outputEl = gd.closest('.output');\n",
              "if (outputEl) {{\n",
              "    x.observe(outputEl, {childList: true});\n",
              "}}\n",
              "\n",
              "                        })                };                            </script>        </div>\n",
              "</body>\n",
              "</html>"
            ]
          },
          "metadata": {}
        }
      ]
    },
    {
      "cell_type": "code",
      "source": [
        "sns.distplot(data_train['capitalgain'])"
      ],
      "metadata": {
        "colab": {
          "base_uri": "https://localhost:8080/",
          "height": 619
        },
        "id": "1SiAW6rr1sPO",
        "outputId": "570703f9-7d03-42da-f95d-a332acfe2344"
      },
      "execution_count": 31,
      "outputs": [
        {
          "output_type": "stream",
          "name": "stderr",
          "text": [
            "<ipython-input-31-3bc8ed069cd9>:1: UserWarning:\n",
            "\n",
            "\n",
            "\n",
            "`distplot` is a deprecated function and will be removed in seaborn v0.14.0.\n",
            "\n",
            "Please adapt your code to use either `displot` (a figure-level function with\n",
            "similar flexibility) or `histplot` (an axes-level function for histograms).\n",
            "\n",
            "For a guide to updating your code to use the new functions, please see\n",
            "https://gist.github.com/mwaskom/de44147ed2974457ad6372750bbe5751\n",
            "\n",
            "\n"
          ]
        },
        {
          "output_type": "execute_result",
          "data": {
            "text/plain": [
              "<Axes: xlabel='capitalgain', ylabel='Density'>"
            ]
          },
          "metadata": {},
          "execution_count": 31
        },
        {
          "output_type": "display_data",
          "data": {
            "text/plain": [
              "<Figure size 1500x800 with 1 Axes>"
            ],
            "image/png": "[encoded data removed]"
          },
          "metadata": {}
        }
      ]
    },
    {
      "cell_type": "code",
      "source": [
        "sns.distplot(data_train['capitalloss'])"
      ],
      "metadata": {
        "colab": {
          "base_uri": "https://localhost:8080/",
          "height": 622
        },
        "id": "BKJUByDz13XO",
        "outputId": "787389cb-dd69-45f5-ddb3-55f3a4e53094"
      },
      "execution_count": 32,
      "outputs": [
        {
          "output_type": "stream",
          "name": "stderr",
          "text": [
            "<ipython-input-32-da0f5d4692c5>:1: UserWarning:\n",
            "\n",
            "\n",
            "\n",
            "`distplot` is a deprecated function and will be removed in seaborn v0.14.0.\n",
            "\n",
            "Please adapt your code to use either `displot` (a figure-level function with\n",
            "similar flexibility) or `histplot` (an axes-level function for histograms).\n",
            "\n",
            "For a guide to updating your code to use the new functions, please see\n",
            "https://gist.github.com/mwaskom/de44147ed2974457ad6372750bbe5751\n",
            "\n",
            "\n"
          ]
        },
        {
          "output_type": "execute_result",
          "data": {
            "text/plain": [
              "<Axes: xlabel='capitalloss', ylabel='Density'>"
            ]
          },
          "metadata": {},
          "execution_count": 32
        },
        {
          "output_type": "display_data",
          "data": {
            "text/plain": [
              "<Figure size 1500x800 with 1 Axes>"
            ],
            "image/png": "[encoded data removed]"
          },
          "metadata": {}
        }
      ]
    },
    {
      "cell_type": "markdown",
      "source": [
        "**Private Sector is having the salary >=50K**"
      ],
      "metadata": {
        "id": "i0jGrmcY19pH"
      }
    },
    {
      "cell_type": "markdown",
      "source": [
        "##**feature engineering**"
      ],
      "metadata": {
        "id": "PEBdHdu22BPH"
      }
    },
    {
      "cell_type": "code",
      "source": [
        "columns=['age', 'workclass', 'education', 'educationno', 'maritalstatus',\n",
        "       'occupation', 'relationship', 'race', 'sex', 'capitalgain',\n",
        "       'capitalloss', 'hoursperweek', 'native']\n",
        "for i in columns:\n",
        "  data_train[i]=le.fit_transform(data_train[i])\n",
        "\n",
        "data_train"
      ],
      "metadata": {
        "colab": {
          "base_uri": "https://localhost:8080/",
          "height": 444
        },
        "id": "d6fdy7HE2Ept",
        "outputId": "438fa054-f482-4f91-c410-a29fef1a9673"
      },
      "execution_count": 33,
      "outputs": [
        {
          "output_type": "execute_result",
          "data": {
            "text/plain": [
              "       age  workclass  education  educationno  maritalstatus  occupation  \\\n",
              "0        8          2          1            6              4           6   \n",
              "1       21          2         11            8              2           4   \n",
              "2       11          1          7           11              2          10   \n",
              "3       27          2         15            9              2           6   \n",
              "4       17          2          0            5              4           7   \n",
              "...    ...        ...        ...          ...            ...         ...   \n",
              "15055   16          2          9           12              4           9   \n",
              "15056   22          2          9           12              0           9   \n",
              "15057   21          2          9           12              2           9   \n",
              "15058   27          2          9           12              0           0   \n",
              "15059   18          3          9           12              2           3   \n",
              "\n",
              "       relationship  race  sex  capitalgain  capitalloss  hoursperweek  \\\n",
              "0                 3     2    1            0            0            39   \n",
              "1                 0     4    1            0            0            49   \n",
              "2                 0     4    1            0            0            39   \n",
              "3                 0     2    1           87            0            39   \n",
              "4                 1     4    1            0            0            29   \n",
              "...             ...   ...  ...          ...          ...           ...   \n",
              "15055             3     4    1            0            0            39   \n",
              "15056             1     4    0            0            0            35   \n",
              "15057             0     4    1            0            0            49   \n",
              "15058             3     1    1           73            0            39   \n",
              "15059             0     4    1            0            0            59   \n",
              "\n",
              "       native  Salary  \n",
              "0          37       0  \n",
              "1          37       0  \n",
              "2          37       1  \n",
              "3          37       1  \n",
              "4          37       0  \n",
              "...       ...     ...  \n",
              "15055      37       0  \n",
              "15056      37       0  \n",
              "15057      37       0  \n",
              "15058      37       0  \n",
              "15059      37       1  \n",
              "\n",
              "[15060 rows x 14 columns]"
            ],
            "text/html": [
              "\n",
              "  <div id=\"df-a7126747-d4ff-4399-998d-807d2599f426\" class=\"colab-df-container\">\n",
              "    <div>\n",
              "<style scoped>\n",
              "    .dataframe tbody tr th:only-of-type {\n",
              "        vertical-align: middle;\n",
              "    }\n",
              "\n",
              "    .dataframe tbody tr th {\n",
              "        vertical-align: top;\n",
              "    }\n",
              "\n",
              "    .dataframe thead th {\n",
              "        text-align: right;\n",
              "    }\n",
              "</style>\n",
              "<table border=\"1\" class=\"dataframe\">\n",
              "  <thead>\n",
              "    <tr style=\"text-align: right;\">\n",
              "      <th></th>\n",
              "      <th>age</th>\n",
              "      <th>workclass</th>\n",
              "      <th>education</th>\n",
              "      <th>educationno</th>\n",
              "      <th>maritalstatus</th>\n",
              "      <th>occupation</th>\n",
              "      <th>relationship</th>\n",
              "      <th>race</th>\n",
              "      <th>sex</th>\n",
              "      <th>capitalgain</th>\n",
              "      <th>capitalloss</th>\n",
              "      <th>hoursperweek</th>\n",
              "      <th>native</th>\n",
              "      <th>Salary</th>\n",
              "    </tr>\n",
              "  </thead>\n",
              "  <tbody>\n",
              "    <tr>\n",
              "      <th>0</th>\n",
              "      <td>8</td>\n",
              "      <td>2</td>\n",
              "      <td>1</td>\n",
              "      <td>6</td>\n",
              "      <td>4</td>\n",
              "      <td>6</td>\n",
              "      <td>3</td>\n",
              "      <td>2</td>\n",
              "      <td>1</td>\n",
              "      <td>0</td>\n",
              "      <td>0</td>\n",
              "      <td>39</td>\n",
              "      <td>37</td>\n",
              "      <td>0</td>\n",
              "    </tr>\n",
              "    <tr>\n",
              "      <th>1</th>\n",
              "      <td>21</td>\n",
              "      <td>2</td>\n",
              "      <td>11</td>\n",
              "      <td>8</td>\n",
              "      <td>2</td>\n",
              "      <td>4</td>\n",
              "      <td>0</td>\n",
              "      <td>4</td>\n",
              "      <td>1</td>\n",
              "      <td>0</td>\n",
              "      <td>0</td>\n",
              "      <td>49</td>\n",
              "      <td>37</td>\n",
              "      <td>0</td>\n",
              "    </tr>\n",
              "    <tr>\n",
              "      <th>2</th>\n",
              "      <td>11</td>\n",
              "      <td>1</td>\n",
              "      <td>7</td>\n",
              "      <td>11</td>\n",
              "      <td>2</td>\n",
              "      <td>10</td>\n",
              "      <td>0</td>\n",
              "      <td>4</td>\n",
              "      <td>1</td>\n",
              "      <td>0</td>\n",
              "      <td>0</td>\n",
              "      <td>39</td>\n",
              "      <td>37</td>\n",
              "      <td>1</td>\n",
              "    </tr>\n",
              "    <tr>\n",
              "      <th>3</th>\n",
              "      <td>27</td>\n",
              "      <td>2</td>\n",
              "      <td>15</td>\n",
              "      <td>9</td>\n",
              "      <td>2</td>\n",
              "      <td>6</td>\n",
              "      <td>0</td>\n",
              "      <td>2</td>\n",
              "      <td>1</td>\n",
              "      <td>87</td>\n",
              "      <td>0</td>\n",
              "      <td>39</td>\n",
              "      <td>37</td>\n",
              "      <td>1</td>\n",
              "    </tr>\n",
              "    <tr>\n",
              "      <th>4</th>\n",
              "      <td>17</td>\n",
              "      <td>2</td>\n",
              "      <td>0</td>\n",
              "      <td>5</td>\n",
              "      <td>4</td>\n",
              "      <td>7</td>\n",
              "      <td>1</td>\n",
              "      <td>4</td>\n",
              "      <td>1</td>\n",
              "      <td>0</td>\n",
              "      <td>0</td>\n",
              "      <td>29</td>\n",
              "      <td>37</td>\n",
              "      <td>0</td>\n",
              "    </tr>\n",
              "    <tr>\n",
              "      <th>...</th>\n",
              "      <td>...</td>\n",
              "      <td>...</td>\n",
              "      <td>...</td>\n",
              "      <td>...</td>\n",
              "      <td>...</td>\n",
              "      <td>...</td>\n",
              "      <td>...</td>\n",
              "      <td>...</td>\n",
              "      <td>...</td>\n",
              "      <td>...</td>\n",
              "      <td>...</td>\n",
              "      <td>...</td>\n",
              "      <td>...</td>\n",
              "      <td>...</td>\n",
              "    </tr>\n",
              "    <tr>\n",
              "      <th>15055</th>\n",
              "      <td>16</td>\n",
              "      <td>2</td>\n",
              "      <td>9</td>\n",
              "      <td>12</td>\n",
              "      <td>4</td>\n",
              "      <td>9</td>\n",
              "      <td>3</td>\n",
              "      <td>4</td>\n",
              "      <td>1</td>\n",
              "      <td>0</td>\n",
              "      <td>0</td>\n",
              "      <td>39</td>\n",
              "      <td>37</td>\n",
              "      <td>0</td>\n",
              "    </tr>\n",
              "    <tr>\n",
              "      <th>15056</th>\n",
              "      <td>22</td>\n",
              "      <td>2</td>\n",
              "      <td>9</td>\n",
              "      <td>12</td>\n",
              "      <td>0</td>\n",
              "      <td>9</td>\n",
              "      <td>1</td>\n",
              "      <td>4</td>\n",
              "      <td>0</td>\n",
              "      <td>0</td>\n",
              "      <td>0</td>\n",
              "      <td>35</td>\n",
              "      <td>37</td>\n",
              "      <td>0</td>\n",
              "    </tr>\n",
              "    <tr>\n",
              "      <th>15057</th>\n",
              "      <td>21</td>\n",
              "      <td>2</td>\n",
              "      <td>9</td>\n",
              "      <td>12</td>\n",
              "      <td>2</td>\n",
              "      <td>9</td>\n",
              "      <td>0</td>\n",
              "      <td>4</td>\n",
              "      <td>1</td>\n",
              "      <td>0</td>\n",
              "      <td>0</td>\n",
              "      <td>49</td>\n",
              "      <td>37</td>\n",
              "      <td>0</td>\n",
              "    </tr>\n",
              "    <tr>\n",
              "      <th>15058</th>\n",
              "      <td>27</td>\n",
              "      <td>2</td>\n",
              "      <td>9</td>\n",
              "      <td>12</td>\n",
              "      <td>0</td>\n",
              "      <td>0</td>\n",
              "      <td>3</td>\n",
              "      <td>1</td>\n",
              "      <td>1</td>\n",
              "      <td>73</td>\n",
              "      <td>0</td>\n",
              "      <td>39</td>\n",
              "      <td>37</td>\n",
              "      <td>0</td>\n",
              "    </tr>\n",
              "    <tr>\n",
              "      <th>15059</th>\n",
              "      <td>18</td>\n",
              "      <td>3</td>\n",
              "      <td>9</td>\n",
              "      <td>12</td>\n",
              "      <td>2</td>\n",
              "      <td>3</td>\n",
              "      <td>0</td>\n",
              "      <td>4</td>\n",
              "      <td>1</td>\n",
              "      <td>0</td>\n",
              "      <td>0</td>\n",
              "      <td>59</td>\n",
              "      <td>37</td>\n",
              "      <td>1</td>\n",
              "    </tr>\n",
              "  </tbody>\n",
              "</table>\n",
              "<p>15060 rows × 14 columns</p>\n",
              "</div>\n",
              "    <div class=\"colab-df-buttons\">\n",
              "\n",
              "  <div class=\"colab-df-container\">\n",
              "    <button class=\"colab-df-convert\" onclick=\"convertToInteractive('df-a7126747-d4ff-4399-998d-807d2599f426')\"\n",
              "            title=\"Convert this dataframe to an interactive table.\"\n",
              "            style=\"display:none;\">\n",
              "\n",
              "  <svg xmlns=\"http://www.w3.org/2000/svg\" height=\"24px\" viewBox=\"0 -960 960 960\">\n",
              "    <path d=\"M120-120v-720h720v720H120Zm60-500h600v-160H180v160Zm220 220h160v-160H400v160Zm0 220h160v-160H400v160ZM180-400h160v-160H180v160Zm440 0h160v-160H620v160ZM180-180h160v-160H180v160Zm440 0h160v-160H620v160Z\"/>\n",
              "  </svg>\n",
              "    </button>\n",
              "\n",
              "  <style>\n",
              "    .colab-df-container {\n",
              "      display:flex;\n",
              "      gap: 12px;\n",
              "    }\n",
              "\n",
              "    .colab-df-convert {\n",
              "      background-color: #E8F0FE;\n",
              "      border: none;\n",
              "      border-radius: 50%;\n",
              "      cursor: pointer;\n",
              "      display: none;\n",
              "      fill: #1967D2;\n",
              "      height: 32px;\n",
              "      padding: 0 0 0 0;\n",
              "      width: 32px;\n",
              "    }\n",
              "\n",
              "    .colab-df-convert:hover {\n",
              "      background-color: #E2EBFA;\n",
              "      box-shadow: 0px 1px 2px rgba(60, 64, 67, 0.3), 0px 1px 3px 1px rgba(60, 64, 67, 0.15);\n",
              "      fill: #174EA6;\n",
              "    }\n",
              "\n",
              "    .colab-df-buttons div {\n",
              "      margin-bottom: 4px;\n",
              "    }\n",
              "\n",
              "    [theme=dark] .colab-df-convert {\n",
              "      background-color: #3B4455;\n",
              "      fill: #D2E3FC;\n",
              "    }\n",
              "\n",
              "    [theme=dark] .colab-df-convert:hover {\n",
              "      background-color: #434B5C;\n",
              "      box-shadow: 0px 1px 3px 1px rgba(0, 0, 0, 0.15);\n",
              "      filter: drop-shadow(0px 1px 2px rgba(0, 0, 0, 0.3));\n",
              "      fill: #FFFFFF;\n",
              "    }\n",
              "  </style>\n",
              "\n",
              "    <script>\n",
              "      const buttonEl =\n",
              "        document.querySelector('#df-a7126747-d4ff-4399-998d-807d2599f426 button.colab-df-convert');\n",
              "      buttonEl.style.display =\n",
              "        google.colab.kernel.accessAllowed ? 'block' : 'none';\n",
              "\n",
              "      async function convertToInteractive(key) {\n",
              "        const element = document.querySelector('#df-a7126747-d4ff-4399-998d-807d2599f426');\n",
              "        const dataTable =\n",
              "          await google.colab.kernel.invokeFunction('convertToInteractive',\n",
              "                                                    [key], {});\n",
              "        if (!dataTable) return;\n",
              "\n",
              "        const docLinkHtml = 'Like what you see? Visit the ' +\n",
              "          '<a target=\"_blank\" href=https://colab.research.google.com/notebooks/data_table.ipynb>data table notebook</a>'\n",
              "          + ' to learn more about interactive tables.';\n",
              "        element.innerHTML = '';\n",
              "        dataTable['output_type'] = 'display_data';\n",
              "        await google.colab.output.renderOutput(dataTable, element);\n",
              "        const docLink = document.createElement('div');\n",
              "        docLink.innerHTML = docLinkHtml;\n",
              "        element.appendChild(docLink);\n",
              "      }\n",
              "    </script>\n",
              "  </div>\n",
              "\n",
              "\n",
              "<div id=\"df-2dd28204-995d-46ac-ac37-d071dd4d6007\">\n",
              "  <button class=\"colab-df-quickchart\" onclick=\"quickchart('df-2dd28204-995d-46ac-ac37-d071dd4d6007')\"\n",
              "            title=\"Suggest charts.\"\n",
              "            style=\"display:none;\">\n",
              "\n",
              "<svg xmlns=\"http://www.w3.org/2000/svg\" height=\"24px\"viewBox=\"0 0 24 24\"\n",
              "     width=\"24px\">\n",
              "    <g>\n",
              "        <path d=\"M19 3H5c-1.1 0-2 .9-2 2v14c0 1.1.9 2 2 2h14c1.1 0 2-.9 2-2V5c0-1.1-.9-2-2-2zM9 17H7v-7h2v7zm4 0h-2V7h2v10zm4 0h-2v-4h2v4z\"/>\n",
              "    </g>\n",
              "</svg>\n",
              "  </button>\n",
              "\n",
              "<style>\n",
              "  .colab-df-quickchart {\n",
              "      --bg-color: #E8F0FE;\n",
              "      --fill-color: #1967D2;\n",
              "      --hover-bg-color: #E2EBFA;\n",
              "      --hover-fill-color: #174EA6;\n",
              "      --disabled-fill-color: #AAA;\n",
              "      --disabled-bg-color: #DDD;\n",
              "  }\n",
              "\n",
              "  [theme=dark] .colab-df-quickchart {\n",
              "      --bg-color: #3B4455;\n",
              "      --fill-color: #D2E3FC;\n",
              "      --hover-bg-color: #434B5C;\n",
              "      --hover-fill-color: #FFFFFF;\n",
              "      --disabled-bg-color: #3B4455;\n",
              "      --disabled-fill-color: #666;\n",
              "  }\n",
              "\n",
              "  .colab-df-quickchart {\n",
              "    background-color: var(--bg-color);\n",
              "    border: none;\n",
              "    border-radius: 50%;\n",
              "    cursor: pointer;\n",
              "    display: none;\n",
              "    fill: var(--fill-color);\n",
              "    height: 32px;\n",
              "    padding: 0;\n",
              "    width: 32px;\n",
              "  }\n",
              "\n",
              "  .colab-df-quickchart:hover {\n",
              "    background-color: var(--hover-bg-color);\n",
              "    box-shadow: 0 1px 2px rgba(60, 64, 67, 0.3), 0 1px 3px 1px rgba(60, 64, 67, 0.15);\n",
              "    fill: var(--button-hover-fill-color);\n",
              "  }\n",
              "\n",
              "  .colab-df-quickchart-complete:disabled,\n",
              "  .colab-df-quickchart-complete:disabled:hover {\n",
              "    background-color: var(--disabled-bg-color);\n",
              "    fill: var(--disabled-fill-color);\n",
              "    box-shadow: none;\n",
              "  }\n",
              "\n",
              "  .colab-df-spinner {\n",
              "    border: 2px solid var(--fill-color);\n",
              "    border-color: transparent;\n",
              "    border-bottom-color: var(--fill-color);\n",
              "    animation:\n",
              "      spin 1s steps(1) infinite;\n",
              "  }\n",
              "\n",
              "  @keyframes spin {\n",
              "    0% {\n",
              "      border-color: transparent;\n",
              "      border-bottom-color: var(--fill-color);\n",
              "      border-left-color: var(--fill-color);\n",
              "    }\n",
              "    20% {\n",
              "      border-color: transparent;\n",
              "      border-left-color: var(--fill-color);\n",
              "      border-top-color: var(--fill-color);\n",
              "    }\n",
              "    30% {\n",
              "      border-color: transparent;\n",
              "      border-left-color: var(--fill-color);\n",
              "      border-top-color: var(--fill-color);\n",
              "      border-right-color: var(--fill-color);\n",
              "    }\n",
              "    40% {\n",
              "      border-color: transparent;\n",
              "      border-right-color: var(--fill-color);\n",
              "      border-top-color: var(--fill-color);\n",
              "    }\n",
              "    60% {\n",
              "      border-color: transparent;\n",
              "      border-right-color: var(--fill-color);\n",
              "    }\n",
              "    80% {\n",
              "      border-color: transparent;\n",
              "      border-right-color: var(--fill-color);\n",
              "      border-bottom-color: var(--fill-color);\n",
              "    }\n",
              "    90% {\n",
              "      border-color: transparent;\n",
              "      border-bottom-color: var(--fill-color);\n",
              "    }\n",
              "  }\n",
              "</style>\n",
              "\n",
              "  <script>\n",
              "    async function quickchart(key) {\n",
              "      const quickchartButtonEl =\n",
              "        document.querySelector('#' + key + ' button');\n",
              "      quickchartButtonEl.disabled = true;  // To prevent multiple clicks.\n",
              "      quickchartButtonEl.classList.add('colab-df-spinner');\n",
              "      try {\n",
              "        const charts = await google.colab.kernel.invokeFunction(\n",
              "            'suggestCharts', [key], {});\n",
              "      } catch (error) {\n",
              "        console.error('Error during call to suggestCharts:', error);\n",
              "      }\n",
              "      quickchartButtonEl.classList.remove('colab-df-spinner');\n",
              "      quickchartButtonEl.classList.add('colab-df-quickchart-complete');\n",
              "    }\n",
              "    (() => {\n",
              "      let quickchartButtonEl =\n",
              "        document.querySelector('#df-2dd28204-995d-46ac-ac37-d071dd4d6007 button');\n",
              "      quickchartButtonEl.style.display =\n",
              "        google.colab.kernel.accessAllowed ? 'block' : 'none';\n",
              "    })();\n",
              "  </script>\n",
              "</div>\n",
              "    </div>\n",
              "  </div>\n"
            ]
          },
          "metadata": {},
          "execution_count": 33
        }
      ]
    },
    {
      "cell_type": "code",
      "source": [
        "le=LabelEncoder()\n",
        "\n",
        "columns=['age', 'workclass', 'education', 'educationno', 'maritalstatus',\n",
        "       'occupation', 'relationship', 'race', 'sex', 'capitalgain',\n",
        "       'capitalloss', 'hoursperweek', 'native','Salary']\n",
        "for i in columns:\n",
        "  data_test[i]=le.fit_transform(data_test[i])\n",
        "\n",
        "data_test"
      ],
      "metadata": {
        "colab": {
          "base_uri": "https://localhost:8080/",
          "height": 444
        },
        "id": "9I4Yvv792APQ",
        "outputId": "e23627a8-ba2b-49e6-dcf2-766b27aa3755"
      },
      "execution_count": 34,
      "outputs": [
        {
          "output_type": "execute_result",
          "data": {
            "text/plain": [
              "       age  workclass  education  educationno  maritalstatus  occupation  \\\n",
              "0        8          2          1            6              4           6   \n",
              "1       21          2         11            8              2           4   \n",
              "2       11          1          7           11              2          10   \n",
              "3       27          2         15            9              2           6   \n",
              "4       17          2          0            5              4           7   \n",
              "...    ...        ...        ...          ...            ...         ...   \n",
              "15055   16          2          9           12              4           9   \n",
              "15056   22          2          9           12              0           9   \n",
              "15057   21          2          9           12              2           9   \n",
              "15058   27          2          9           12              0           0   \n",
              "15059   18          3          9           12              2           3   \n",
              "\n",
              "       relationship  race  sex  capitalgain  capitalloss  hoursperweek  \\\n",
              "0                 3     2    1            0            0            39   \n",
              "1                 0     4    1            0            0            49   \n",
              "2                 0     4    1            0            0            39   \n",
              "3                 0     2    1           87            0            39   \n",
              "4                 1     4    1            0            0            29   \n",
              "...             ...   ...  ...          ...          ...           ...   \n",
              "15055             3     4    1            0            0            39   \n",
              "15056             1     4    0            0            0            35   \n",
              "15057             0     4    1            0            0            49   \n",
              "15058             3     1    1           73            0            39   \n",
              "15059             0     4    1            0            0            59   \n",
              "\n",
              "       native  Salary  \n",
              "0          37       0  \n",
              "1          37       0  \n",
              "2          37       1  \n",
              "3          37       1  \n",
              "4          37       0  \n",
              "...       ...     ...  \n",
              "15055      37       0  \n",
              "15056      37       0  \n",
              "15057      37       0  \n",
              "15058      37       0  \n",
              "15059      37       1  \n",
              "\n",
              "[15060 rows x 14 columns]"
            ],
            "text/html": [
              "\n",
              "  <div id=\"df-aec1a713-3e5f-41a7-bf6c-49fe96b848a4\" class=\"colab-df-container\">\n",
              "    <div>\n",
              "<style scoped>\n",
              "    .dataframe tbody tr th:only-of-type {\n",
              "        vertical-align: middle;\n",
              "    }\n",
              "\n",
              "    .dataframe tbody tr th {\n",
              "        vertical-align: top;\n",
              "    }\n",
              "\n",
              "    .dataframe thead th {\n",
              "        text-align: right;\n",
              "    }\n",
              "</style>\n",
              "<table border=\"1\" class=\"dataframe\">\n",
              "  <thead>\n",
              "    <tr style=\"text-align: right;\">\n",
              "      <th></th>\n",
              "      <th>age</th>\n",
              "      <th>workclass</th>\n",
              "      <th>education</th>\n",
              "      <th>educationno</th>\n",
              "      <th>maritalstatus</th>\n",
              "      <th>occupation</th>\n",
              "      <th>relationship</th>\n",
              "      <th>race</th>\n",
              "      <th>sex</th>\n",
              "      <th>capitalgain</th>\n",
              "      <th>capitalloss</th>\n",
              "      <th>hoursperweek</th>\n",
              "      <th>native</th>\n",
              "      <th>Salary</th>\n",
              "    </tr>\n",
              "  </thead>\n",
              "  <tbody>\n",
              "    <tr>\n",
              "      <th>0</th>\n",
              "      <td>8</td>\n",
              "      <td>2</td>\n",
              "      <td>1</td>\n",
              "      <td>6</td>\n",
              "      <td>4</td>\n",
              "      <td>6</td>\n",
              "      <td>3</td>\n",
              "      <td>2</td>\n",
              "      <td>1</td>\n",
              "      <td>0</td>\n",
              "      <td>0</td>\n",
              "      <td>39</td>\n",
              "      <td>37</td>\n",
              "      <td>0</td>\n",
              "    </tr>\n",
              "    <tr>\n",
              "      <th>1</th>\n",
              "      <td>21</td>\n",
              "      <td>2</td>\n",
              "      <td>11</td>\n",
              "      <td>8</td>\n",
              "      <td>2</td>\n",
              "      <td>4</td>\n",
              "      <td>0</td>\n",
              "      <td>4</td>\n",
              "      <td>1</td>\n",
              "      <td>0</td>\n",
              "      <td>0</td>\n",
              "      <td>49</td>\n",
              "      <td>37</td>\n",
              "      <td>0</td>\n",
              "    </tr>\n",
              "    <tr>\n",
              "      <th>2</th>\n",
              "      <td>11</td>\n",
              "      <td>1</td>\n",
              "      <td>7</td>\n",
              "      <td>11</td>\n",
              "      <td>2</td>\n",
              "      <td>10</td>\n",
              "      <td>0</td>\n",
              "      <td>4</td>\n",
              "      <td>1</td>\n",
              "      <td>0</td>\n",
              "      <td>0</td>\n",
              "      <td>39</td>\n",
              "      <td>37</td>\n",
              "      <td>1</td>\n",
              "    </tr>\n",
              "    <tr>\n",
              "      <th>3</th>\n",
              "      <td>27</td>\n",
              "      <td>2</td>\n",
              "      <td>15</td>\n",
              "      <td>9</td>\n",
              "      <td>2</td>\n",
              "      <td>6</td>\n",
              "      <td>0</td>\n",
              "      <td>2</td>\n",
              "      <td>1</td>\n",
              "      <td>87</td>\n",
              "      <td>0</td>\n",
              "      <td>39</td>\n",
              "      <td>37</td>\n",
              "      <td>1</td>\n",
              "    </tr>\n",
              "    <tr>\n",
              "      <th>4</th>\n",
              "      <td>17</td>\n",
              "      <td>2</td>\n",
              "      <td>0</td>\n",
              "      <td>5</td>\n",
              "      <td>4</td>\n",
              "      <td>7</td>\n",
              "      <td>1</td>\n",
              "      <td>4</td>\n",
              "      <td>1</td>\n",
              "      <td>0</td>\n",
              "      <td>0</td>\n",
              "      <td>29</td>\n",
              "      <td>37</td>\n",
              "      <td>0</td>\n",
              "    </tr>\n",
              "    <tr>\n",
              "      <th>...</th>\n",
              "      <td>...</td>\n",
              "      <td>...</td>\n",
              "      <td>...</td>\n",
              "      <td>...</td>\n",
              "      <td>...</td>\n",
              "      <td>...</td>\n",
              "      <td>...</td>\n",
              "      <td>...</td>\n",
              "      <td>...</td>\n",
              "      <td>...</td>\n",
              "      <td>...</td>\n",
              "      <td>...</td>\n",
              "      <td>...</td>\n",
              "      <td>...</td>\n",
              "    </tr>\n",
              "    <tr>\n",
              "      <th>15055</th>\n",
              "      <td>16</td>\n",
              "      <td>2</td>\n",
              "      <td>9</td>\n",
              "      <td>12</td>\n",
              "      <td>4</td>\n",
              "      <td>9</td>\n",
              "      <td>3</td>\n",
              "      <td>4</td>\n",
              "      <td>1</td>\n",
              "      <td>0</td>\n",
              "      <td>0</td>\n",
              "      <td>39</td>\n",
              "      <td>37</td>\n",
              "      <td>0</td>\n",
              "    </tr>\n",
              "    <tr>\n",
              "      <th>15056</th>\n",
              "      <td>22</td>\n",
              "      <td>2</td>\n",
              "      <td>9</td>\n",
              "      <td>12</td>\n",
              "      <td>0</td>\n",
              "      <td>9</td>\n",
              "      <td>1</td>\n",
              "      <td>4</td>\n",
              "      <td>0</td>\n",
              "      <td>0</td>\n",
              "      <td>0</td>\n",
              "      <td>35</td>\n",
              "      <td>37</td>\n",
              "      <td>0</td>\n",
              "    </tr>\n",
              "    <tr>\n",
              "      <th>15057</th>\n",
              "      <td>21</td>\n",
              "      <td>2</td>\n",
              "      <td>9</td>\n",
              "      <td>12</td>\n",
              "      <td>2</td>\n",
              "      <td>9</td>\n",
              "      <td>0</td>\n",
              "      <td>4</td>\n",
              "      <td>1</td>\n",
              "      <td>0</td>\n",
              "      <td>0</td>\n",
              "      <td>49</td>\n",
              "      <td>37</td>\n",
              "      <td>0</td>\n",
              "    </tr>\n",
              "    <tr>\n",
              "      <th>15058</th>\n",
              "      <td>27</td>\n",
              "      <td>2</td>\n",
              "      <td>9</td>\n",
              "      <td>12</td>\n",
              "      <td>0</td>\n",
              "      <td>0</td>\n",
              "      <td>3</td>\n",
              "      <td>1</td>\n",
              "      <td>1</td>\n",
              "      <td>73</td>\n",
              "      <td>0</td>\n",
              "      <td>39</td>\n",
              "      <td>37</td>\n",
              "      <td>0</td>\n",
              "    </tr>\n",
              "    <tr>\n",
              "      <th>15059</th>\n",
              "      <td>18</td>\n",
              "      <td>3</td>\n",
              "      <td>9</td>\n",
              "      <td>12</td>\n",
              "      <td>2</td>\n",
              "      <td>3</td>\n",
              "      <td>0</td>\n",
              "      <td>4</td>\n",
              "      <td>1</td>\n",
              "      <td>0</td>\n",
              "      <td>0</td>\n",
              "      <td>59</td>\n",
              "      <td>37</td>\n",
              "      <td>1</td>\n",
              "    </tr>\n",
              "  </tbody>\n",
              "</table>\n",
              "<p>15060 rows × 14 columns</p>\n",
              "</div>\n",
              "    <div class=\"colab-df-buttons\">\n",
              "\n",
              "  <div class=\"colab-df-container\">\n",
              "    <button class=\"colab-df-convert\" onclick=\"convertToInteractive('df-aec1a713-3e5f-41a7-bf6c-49fe96b848a4')\"\n",
              "            title=\"Convert this dataframe to an interactive table.\"\n",
              "            style=\"display:none;\">\n",
              "\n",
              "  <svg xmlns=\"http://www.w3.org/2000/svg\" height=\"24px\" viewBox=\"0 -960 960 960\">\n",
              "    <path d=\"M120-120v-720h720v720H120Zm60-500h600v-160H180v160Zm220 220h160v-160H400v160Zm0 220h160v-160H400v160ZM180-400h160v-160H180v160Zm440 0h160v-160H620v160ZM180-180h160v-160H180v160Zm440 0h160v-160H620v160Z\"/>\n",
              "  </svg>\n",
              "    </button>\n",
              "\n",
              "  <style>\n",
              "    .colab-df-container {\n",
              "      display:flex;\n",
              "      gap: 12px;\n",
              "    }\n",
              "\n",
              "    .colab-df-convert {\n",
              "      background-color: #E8F0FE;\n",
              "      border: none;\n",
              "      border-radius: 50%;\n",
              "      cursor: pointer;\n",
              "      display: none;\n",
              "      fill: #1967D2;\n",
              "      height: 32px;\n",
              "      padding: 0 0 0 0;\n",
              "      width: 32px;\n",
              "    }\n",
              "\n",
              "    .colab-df-convert:hover {\n",
              "      background-color: #E2EBFA;\n",
              "      box-shadow: 0px 1px 2px rgba(60, 64, 67, 0.3), 0px 1px 3px 1px rgba(60, 64, 67, 0.15);\n",
              "      fill: #174EA6;\n",
              "    }\n",
              "\n",
              "    .colab-df-buttons div {\n",
              "      margin-bottom: 4px;\n",
              "    }\n",
              "\n",
              "    [theme=dark] .colab-df-convert {\n",
              "      background-color: #3B4455;\n",
              "      fill: #D2E3FC;\n",
              "    }\n",
              "\n",
              "    [theme=dark] .colab-df-convert:hover {\n",
              "      background-color: #434B5C;\n",
              "      box-shadow: 0px 1px 3px 1px rgba(0, 0, 0, 0.15);\n",
              "      filter: drop-shadow(0px 1px 2px rgba(0, 0, 0, 0.3));\n",
              "      fill: #FFFFFF;\n",
              "    }\n",
              "  </style>\n",
              "\n",
              "    <script>\n",
              "      const buttonEl =\n",
              "        document.querySelector('#df-aec1a713-3e5f-41a7-bf6c-49fe96b848a4 button.colab-df-convert');\n",
              "      buttonEl.style.display =\n",
              "        google.colab.kernel.accessAllowed ? 'block' : 'none';\n",
              "\n",
              "      async function convertToInteractive(key) {\n",
              "        const element = document.querySelector('#df-aec1a713-3e5f-41a7-bf6c-49fe96b848a4');\n",
              "        const dataTable =\n",
              "          await google.colab.kernel.invokeFunction('convertToInteractive',\n",
              "                                                    [key], {});\n",
              "        if (!dataTable) return;\n",
              "\n",
              "        const docLinkHtml = 'Like what you see? Visit the ' +\n",
              "          '<a target=\"_blank\" href=https://colab.research.google.com/notebooks/data_table.ipynb>data table notebook</a>'\n",
              "          + ' to learn more about interactive tables.';\n",
              "        element.innerHTML = '';\n",
              "        dataTable['output_type'] = 'display_data';\n",
              "        await google.colab.output.renderOutput(dataTable, element);\n",
              "        const docLink = document.createElement('div');\n",
              "        docLink.innerHTML = docLinkHtml;\n",
              "        element.appendChild(docLink);\n",
              "      }\n",
              "    </script>\n",
              "  </div>\n",
              "\n",
              "\n",
              "<div id=\"df-ded1b8f8-8f3b-4146-bcde-ae7fbc908fca\">\n",
              "  <button class=\"colab-df-quickchart\" onclick=\"quickchart('df-ded1b8f8-8f3b-4146-bcde-ae7fbc908fca')\"\n",
              "            title=\"Suggest charts.\"\n",
              "            style=\"display:none;\">\n",
              "\n",
              "<svg xmlns=\"http://www.w3.org/2000/svg\" height=\"24px\"viewBox=\"0 0 24 24\"\n",
              "     width=\"24px\">\n",
              "    <g>\n",
              "        <path d=\"M19 3H5c-1.1 0-2 .9-2 2v14c0 1.1.9 2 2 2h14c1.1 0 2-.9 2-2V5c0-1.1-.9-2-2-2zM9 17H7v-7h2v7zm4 0h-2V7h2v10zm4 0h-2v-4h2v4z\"/>\n",
              "    </g>\n",
              "</svg>\n",
              "  </button>\n",
              "\n",
              "<style>\n",
              "  .colab-df-quickchart {\n",
              "      --bg-color: #E8F0FE;\n",
              "      --fill-color: #1967D2;\n",
              "      --hover-bg-color: #E2EBFA;\n",
              "      --hover-fill-color: #174EA6;\n",
              "      --disabled-fill-color: #AAA;\n",
              "      --disabled-bg-color: #DDD;\n",
              "  }\n",
              "\n",
              "  [theme=dark] .colab-df-quickchart {\n",
              "      --bg-color: #3B4455;\n",
              "      --fill-color: #D2E3FC;\n",
              "      --hover-bg-color: #434B5C;\n",
              "      --hover-fill-color: #FFFFFF;\n",
              "      --disabled-bg-color: #3B4455;\n",
              "      --disabled-fill-color: #666;\n",
              "  }\n",
              "\n",
              "  .colab-df-quickchart {\n",
              "    background-color: var(--bg-color);\n",
              "    border: none;\n",
              "    border-radius: 50%;\n",
              "    cursor: pointer;\n",
              "    display: none;\n",
              "    fill: var(--fill-color);\n",
              "    height: 32px;\n",
              "    padding: 0;\n",
              "    width: 32px;\n",
              "  }\n",
              "\n",
              "  .colab-df-quickchart:hover {\n",
              "    background-color: var(--hover-bg-color);\n",
              "    box-shadow: 0 1px 2px rgba(60, 64, 67, 0.3), 0 1px 3px 1px rgba(60, 64, 67, 0.15);\n",
              "    fill: var(--button-hover-fill-color);\n",
              "  }\n",
              "\n",
              "  .colab-df-quickchart-complete:disabled,\n",
              "  .colab-df-quickchart-complete:disabled:hover {\n",
              "    background-color: var(--disabled-bg-color);\n",
              "    fill: var(--disabled-fill-color);\n",
              "    box-shadow: none;\n",
              "  }\n",
              "\n",
              "  .colab-df-spinner {\n",
              "    border: 2px solid var(--fill-color);\n",
              "    border-color: transparent;\n",
              "    border-bottom-color: var(--fill-color);\n",
              "    animation:\n",
              "      spin 1s steps(1) infinite;\n",
              "  }\n",
              "\n",
              "  @keyframes spin {\n",
              "    0% {\n",
              "      border-color: transparent;\n",
              "      border-bottom-color: var(--fill-color);\n",
              "      border-left-color: var(--fill-color);\n",
              "    }\n",
              "    20% {\n",
              "      border-color: transparent;\n",
              "      border-left-color: var(--fill-color);\n",
              "      border-top-color: var(--fill-color);\n",
              "    }\n",
              "    30% {\n",
              "      border-color: transparent;\n",
              "      border-left-color: var(--fill-color);\n",
              "      border-top-color: var(--fill-color);\n",
              "      border-right-color: var(--fill-color);\n",
              "    }\n",
              "    40% {\n",
              "      border-color: transparent;\n",
              "      border-right-color: var(--fill-color);\n",
              "      border-top-color: var(--fill-color);\n",
              "    }\n",
              "    60% {\n",
              "      border-color: transparent;\n",
              "      border-right-color: var(--fill-color);\n",
              "    }\n",
              "    80% {\n",
              "      border-color: transparent;\n",
              "      border-right-color: var(--fill-color);\n",
              "      border-bottom-color: var(--fill-color);\n",
              "    }\n",
              "    90% {\n",
              "      border-color: transparent;\n",
              "      border-bottom-color: var(--fill-color);\n",
              "    }\n",
              "  }\n",
              "</style>\n",
              "\n",
              "  <script>\n",
              "    async function quickchart(key) {\n",
              "      const quickchartButtonEl =\n",
              "        document.querySelector('#' + key + ' button');\n",
              "      quickchartButtonEl.disabled = true;  // To prevent multiple clicks.\n",
              "      quickchartButtonEl.classList.add('colab-df-spinner');\n",
              "      try {\n",
              "        const charts = await google.colab.kernel.invokeFunction(\n",
              "            'suggestCharts', [key], {});\n",
              "      } catch (error) {\n",
              "        console.error('Error during call to suggestCharts:', error);\n",
              "      }\n",
              "      quickchartButtonEl.classList.remove('colab-df-spinner');\n",
              "      quickchartButtonEl.classList.add('colab-df-quickchart-complete');\n",
              "    }\n",
              "    (() => {\n",
              "      let quickchartButtonEl =\n",
              "        document.querySelector('#df-ded1b8f8-8f3b-4146-bcde-ae7fbc908fca button');\n",
              "      quickchartButtonEl.style.display =\n",
              "        google.colab.kernel.accessAllowed ? 'block' : 'none';\n",
              "    })();\n",
              "  </script>\n",
              "</div>\n",
              "    </div>\n",
              "  </div>\n"
            ]
          },
          "metadata": {},
          "execution_count": 34
        }
      ]
    },
    {
      "cell_type": "markdown",
      "source": [
        "###**SPLITING DATA**"
      ],
      "metadata": {
        "id": "rI-jawfF22nS"
      }
    },
    {
      "cell_type": "code",
      "source": [
        "x_train1=data_train.iloc[:,:-1]\n",
        "y_train1=data_train.iloc[:,-1]"
      ],
      "metadata": {
        "id": "uo79zy7125bL"
      },
      "execution_count": 38,
      "outputs": []
    },
    {
      "cell_type": "code",
      "source": [
        "x_test1=data_test.iloc[:,:-1]\n",
        "y_test1=data_test.iloc[:,-1]"
      ],
      "metadata": {
        "id": "oCvE4pgA27WD"
      },
      "execution_count": 39,
      "outputs": []
    },
    {
      "cell_type": "code",
      "source": [
        "x_train,x_test,y_train,y_test=train_test_split(x_train1,y_train1,test_size=0.2)"
      ],
      "metadata": {
        "id": "CeA-XVrl285v"
      },
      "execution_count": 40,
      "outputs": []
    },
    {
      "cell_type": "markdown",
      "source": [
        "##**MODEL BUILDING LINEAR**"
      ],
      "metadata": {
        "id": "v8Hcs3up3AZ6"
      }
    },
    {
      "cell_type": "code",
      "source": [
        "model=SVC(kernel='linear',C=0.01,gamma=0.1)\n",
        "model.fit(x_train1,y_train1)"
      ],
      "metadata": {
        "colab": {
          "base_uri": "https://localhost:8080/",
          "height": 74
        },
        "id": "YRJFfkLj3DZt",
        "outputId": "880aac09-bef4-44b3-bf16-147c2132921a"
      },
      "execution_count": 41,
      "outputs": [
        {
          "output_type": "execute_result",
          "data": {
            "text/plain": [
              "SVC(C=0.01, gamma=0.1, kernel='linear')"
            ],
            "text/html": [
              "<style>#sk-container-id-1 {color: black;background-color: white;}#sk-container-id-1 pre{padding: 0;}#sk-container-id-1 div.sk-toggleable {background-color: white;}#sk-container-id-1 label.sk-toggleable__label {cursor: pointer;display: block;width: 100%;margin-bottom: 0;padding: 0.3em;box-sizing: border-box;text-align: center;}#sk-container-id-1 label.sk-toggleable__label-arrow:before {content: \"▸\";float: left;margin-right: 0.25em;color: #696969;}#sk-container-id-1 label.sk-toggleable__label-arrow:hover:before {color: black;}#sk-container-id-1 div.sk-estimator:hover label.sk-toggleable__label-arrow:before {color: black;}#sk-container-id-1 div.sk-toggleable__content {max-height: 0;max-width: 0;overflow: hidden;text-align: left;background-color: #f0f8ff;}#sk-container-id-1 div.sk-toggleable__content pre {margin: 0.2em;color: black;border-radius: 0.25em;background-color: #f0f8ff;}#sk-container-id-1 input.sk-toggleable__control:checked~div.sk-toggleable__content {max-height: 200px;max-width: 100%;overflow: auto;}#sk-container-id-1 input.sk-toggleable__control:checked~label.sk-toggleable__label-arrow:before {content: \"▾\";}#sk-container-id-1 div.sk-estimator input.sk-toggleable__control:checked~label.sk-toggleable__label {background-color: #d4ebff;}#sk-container-id-1 div.sk-label input.sk-toggleable__control:checked~label.sk-toggleable__label {background-color: #d4ebff;}#sk-container-id-1 input.sk-hidden--visually {border: 0;clip: rect(1px 1px 1px 1px);clip: rect(1px, 1px, 1px, 1px);height: 1px;margin: -1px;overflow: hidden;padding: 0;position: absolute;width: 1px;}#sk-container-id-1 div.sk-estimator {font-family: monospace;background-color: #f0f8ff;border: 1px dotted black;border-radius: 0.25em;box-sizing: border-box;margin-bottom: 0.5em;}#sk-container-id-1 div.sk-estimator:hover {background-color: #d4ebff;}#sk-container-id-1 div.sk-parallel-item::after {content: \"\";width: 100%;border-bottom: 1px solid gray;flex-grow: 1;}#sk-container-id-1 div.sk-label:hover label.sk-toggleable__label {background-color: #d4ebff;}#sk-container-id-1 div.sk-serial::before {content: \"\";position: absolute;border-left: 1px solid gray;box-sizing: border-box;top: 0;bottom: 0;left: 50%;z-index: 0;}#sk-container-id-1 div.sk-serial {display: flex;flex-direction: column;align-items: center;background-color: white;padding-right: 0.2em;padding-left: 0.2em;position: relative;}#sk-container-id-1 div.sk-item {position: relative;z-index: 1;}#sk-container-id-1 div.sk-parallel {display: flex;align-items: stretch;justify-content: center;background-color: white;position: relative;}#sk-container-id-1 div.sk-item::before, #sk-container-id-1 div.sk-parallel-item::before {content: \"\";position: absolute;border-left: 1px solid gray;box-sizing: border-box;top: 0;bottom: 0;left: 50%;z-index: -1;}#sk-container-id-1 div.sk-parallel-item {display: flex;flex-direction: column;z-index: 1;position: relative;background-color: white;}#sk-container-id-1 div.sk-parallel-item:first-child::after {align-self: flex-end;width: 50%;}#sk-container-id-1 div.sk-parallel-item:last-child::after {align-self: flex-start;width: 50%;}#sk-container-id-1 div.sk-parallel-item:only-child::after {width: 0;}#sk-container-id-1 div.sk-dashed-wrapped {border: 1px dashed gray;margin: 0 0.4em 0.5em 0.4em;box-sizing: border-box;padding-bottom: 0.4em;background-color: white;}#sk-container-id-1 div.sk-label label {font-family: monospace;font-weight: bold;display: inline-block;line-height: 1.2em;}#sk-container-id-1 div.sk-label-container {text-align: center;}#sk-container-id-1 div.sk-container {/* jupyter's `normalize.less` sets `[hidden] { display: none; }` but bootstrap.min.css set `[hidden] { display: none !important; }` so we also need the `!important` here to be able to override the default hidden behavior on the sphinx rendered scikit-learn.org. See: https://github.com/scikit-learn/scikit-learn/issues/21755 */display: inline-block !important;position: relative;}#sk-container-id-1 div.sk-text-repr-fallback {display: none;}</style><div id=\"sk-container-id-1\" class=\"sk-top-container\"><div class=\"sk-text-repr-fallback\"><pre>SVC(C=0.01, gamma=0.1, kernel=&#x27;linear&#x27;)</pre><b>In a Jupyter environment, please rerun this cell to show the HTML representation or trust the notebook. <br />On GitHub, the HTML representation is unable to render, please try loading this page with nbviewer.org.</b></div><div class=\"sk-container\" hidden><div class=\"sk-item\"><div class=\"sk-estimator sk-toggleable\"><input class=\"sk-toggleable__control sk-hidden--visually\" id=\"sk-estimator-id-1\" type=\"checkbox\" checked><label for=\"sk-estimator-id-1\" class=\"sk-toggleable__label sk-toggleable__label-arrow\">SVC</label><div class=\"sk-toggleable__content\"><pre>SVC(C=0.01, gamma=0.1, kernel=&#x27;linear&#x27;)</pre></div></div></div></div></div>"
            ]
          },
          "metadata": {},
          "execution_count": 41
        }
      ]
    },
    {
      "cell_type": "code",
      "source": [
        "y_pred_train=model.predict(x_train)"
      ],
      "metadata": {
        "id": "2tGdwRvP3FE5"
      },
      "execution_count": 42,
      "outputs": []
    },
    {
      "cell_type": "code",
      "source": [
        "model.score(x_train,y_train)"
      ],
      "metadata": {
        "colab": {
          "base_uri": "https://localhost:8080/"
        },
        "id": "mAqQnnVx2_h7",
        "outputId": "58d96c77-249f-4af3-ca5a-a0c5b19d2b3d"
      },
      "execution_count": 43,
      "outputs": [
        {
          "output_type": "execute_result",
          "data": {
            "text/plain": [
              "0.8012118193891102"
            ]
          },
          "metadata": {},
          "execution_count": 43
        }
      ]
    },
    {
      "cell_type": "code",
      "source": [
        "y_pred_test=model.predict(x_test)"
      ],
      "metadata": {
        "id": "WfxgelGc22Fy"
      },
      "execution_count": 44,
      "outputs": []
    },
    {
      "cell_type": "code",
      "source": [
        "accur_train=accuracy_score(y_test,y_pred_test)"
      ],
      "metadata": {
        "id": "KfUUasAp3Mqx"
      },
      "execution_count": 45,
      "outputs": []
    },
    {
      "cell_type": "code",
      "source": [
        "print('Accuracy of train_dastaset :',accur_train)"
      ],
      "metadata": {
        "colab": {
          "base_uri": "https://localhost:8080/"
        },
        "id": "e5Z6do1N3QlS",
        "outputId": "b8d16b2e-e783-4f41-9af5-3f1d04f13917"
      },
      "execution_count": 46,
      "outputs": [
        {
          "output_type": "stream",
          "name": "stdout",
          "text": [
            "Accuracy of train_dastaset : 0.8094289508632138\n"
          ]
        }
      ]
    },
    {
      "cell_type": "code",
      "source": [
        "new_pred=model.predict(x_test1)"
      ],
      "metadata": {
        "id": "lz1RXhMR3SGi"
      },
      "execution_count": 47,
      "outputs": []
    },
    {
      "cell_type": "code",
      "source": [
        "accu_test=accuracy_score(y_test1,new_pred)"
      ],
      "metadata": {
        "id": "i67is6Fq3UE0"
      },
      "execution_count": 48,
      "outputs": []
    },
    {
      "cell_type": "code",
      "source": [
        "print('Accuracy of test_dastaset :',accu_test)"
      ],
      "metadata": {
        "colab": {
          "base_uri": "https://localhost:8080/"
        },
        "id": "K7KKfN9L3WWL",
        "outputId": "09dd6d52-5086-4280-b473-6306c2340e20"
      },
      "execution_count": 49,
      "outputs": [
        {
          "output_type": "stream",
          "name": "stdout",
          "text": [
            "Accuracy of test_dastaset : 0.802855245683931\n"
          ]
        }
      ]
    },
    {
      "cell_type": "markdown",
      "source": [
        "##**Here we can say that,model is working properly.Because the trained model is working properly for dataset by increase in accuracy of 0.001.So,that there may be less chances for 'Overfitting'**"
      ],
      "metadata": {
        "id": "pJYUXCas3b1c"
      }
    },
    {
      "cell_type": "markdown",
      "source": [
        "###**HYPERPARAMETER TUNNING**"
      ],
      "metadata": {
        "id": "yj2nOGoL3eCW"
      }
    },
    {
      "cell_type": "code",
      "source": [
        "model_rbf=SVC(kernel='rbf',C=0.01,gamma=0.1)\n",
        "model_rbf.fit(x_train1,y_train1)"
      ],
      "metadata": {
        "colab": {
          "base_uri": "https://localhost:8080/",
          "height": 74
        },
        "id": "KcZLsrSR3hil",
        "outputId": "6a58ea0c-76e6-41f1-bc0c-de612089f8ed"
      },
      "execution_count": 50,
      "outputs": [
        {
          "output_type": "execute_result",
          "data": {
            "text/plain": [
              "SVC(C=0.01, gamma=0.1)"
            ],
            "text/html": [
              "<style>#sk-container-id-2 {color: black;background-color: white;}#sk-container-id-2 pre{padding: 0;}#sk-container-id-2 div.sk-toggleable {background-color: white;}#sk-container-id-2 label.sk-toggleable__label {cursor: pointer;display: block;width: 100%;margin-bottom: 0;padding: 0.3em;box-sizing: border-box;text-align: center;}#sk-container-id-2 label.sk-toggleable__label-arrow:before {content: \"▸\";float: left;margin-right: 0.25em;color: #696969;}#sk-container-id-2 label.sk-toggleable__label-arrow:hover:before {color: black;}#sk-container-id-2 div.sk-estimator:hover label.sk-toggleable__label-arrow:before {color: black;}#sk-container-id-2 div.sk-toggleable__content {max-height: 0;max-width: 0;overflow: hidden;text-align: left;background-color: #f0f8ff;}#sk-container-id-2 div.sk-toggleable__content pre {margin: 0.2em;color: black;border-radius: 0.25em;background-color: #f0f8ff;}#sk-container-id-2 input.sk-toggleable__control:checked~div.sk-toggleable__content {max-height: 200px;max-width: 100%;overflow: auto;}#sk-container-id-2 input.sk-toggleable__control:checked~label.sk-toggleable__label-arrow:before {content: \"▾\";}#sk-container-id-2 div.sk-estimator input.sk-toggleable__control:checked~label.sk-toggleable__label {background-color: #d4ebff;}#sk-container-id-2 div.sk-label input.sk-toggleable__control:checked~label.sk-toggleable__label {background-color: #d4ebff;}#sk-container-id-2 input.sk-hidden--visually {border: 0;clip: rect(1px 1px 1px 1px);clip: rect(1px, 1px, 1px, 1px);height: 1px;margin: -1px;overflow: hidden;padding: 0;position: absolute;width: 1px;}#sk-container-id-2 div.sk-estimator {font-family: monospace;background-color: #f0f8ff;border: 1px dotted black;border-radius: 0.25em;box-sizing: border-box;margin-bottom: 0.5em;}#sk-container-id-2 div.sk-estimator:hover {background-color: #d4ebff;}#sk-container-id-2 div.sk-parallel-item::after {content: \"\";width: 100%;border-bottom: 1px solid gray;flex-grow: 1;}#sk-container-id-2 div.sk-label:hover label.sk-toggleable__label {background-color: #d4ebff;}#sk-container-id-2 div.sk-serial::before {content: \"\";position: absolute;border-left: 1px solid gray;box-sizing: border-box;top: 0;bottom: 0;left: 50%;z-index: 0;}#sk-container-id-2 div.sk-serial {display: flex;flex-direction: column;align-items: center;background-color: white;padding-right: 0.2em;padding-left: 0.2em;position: relative;}#sk-container-id-2 div.sk-item {position: relative;z-index: 1;}#sk-container-id-2 div.sk-parallel {display: flex;align-items: stretch;justify-content: center;background-color: white;position: relative;}#sk-container-id-2 div.sk-item::before, #sk-container-id-2 div.sk-parallel-item::before {content: \"\";position: absolute;border-left: 1px solid gray;box-sizing: border-box;top: 0;bottom: 0;left: 50%;z-index: -1;}#sk-container-id-2 div.sk-parallel-item {display: flex;flex-direction: column;z-index: 1;position: relative;background-color: white;}#sk-container-id-2 div.sk-parallel-item:first-child::after {align-self: flex-end;width: 50%;}#sk-container-id-2 div.sk-parallel-item:last-child::after {align-self: flex-start;width: 50%;}#sk-container-id-2 div.sk-parallel-item:only-child::after {width: 0;}#sk-container-id-2 div.sk-dashed-wrapped {border: 1px dashed gray;margin: 0 0.4em 0.5em 0.4em;box-sizing: border-box;padding-bottom: 0.4em;background-color: white;}#sk-container-id-2 div.sk-label label {font-family: monospace;font-weight: bold;display: inline-block;line-height: 1.2em;}#sk-container-id-2 div.sk-label-container {text-align: center;}#sk-container-id-2 div.sk-container {/* jupyter's `normalize.less` sets `[hidden] { display: none; }` but bootstrap.min.css set `[hidden] { display: none !important; }` so we also need the `!important` here to be able to override the default hidden behavior on the sphinx rendered scikit-learn.org. See: https://github.com/scikit-learn/scikit-learn/issues/21755 */display: inline-block !important;position: relative;}#sk-container-id-2 div.sk-text-repr-fallback {display: none;}</style><div id=\"sk-container-id-2\" class=\"sk-top-container\"><div class=\"sk-text-repr-fallback\"><pre>SVC(C=0.01, gamma=0.1)</pre><b>In a Jupyter environment, please rerun this cell to show the HTML representation or trust the notebook. <br />On GitHub, the HTML representation is unable to render, please try loading this page with nbviewer.org.</b></div><div class=\"sk-container\" hidden><div class=\"sk-item\"><div class=\"sk-estimator sk-toggleable\"><input class=\"sk-toggleable__control sk-hidden--visually\" id=\"sk-estimator-id-2\" type=\"checkbox\" checked><label for=\"sk-estimator-id-2\" class=\"sk-toggleable__label sk-toggleable__label-arrow\">SVC</label><div class=\"sk-toggleable__content\"><pre>SVC(C=0.01, gamma=0.1)</pre></div></div></div></div></div>"
            ]
          },
          "metadata": {},
          "execution_count": 50
        }
      ]
    },
    {
      "cell_type": "code",
      "source": [
        "y_pred_trainrbf=model_rbf.predict(x_train)"
      ],
      "metadata": {
        "id": "ycq1cZxN3j2G"
      },
      "execution_count": 51,
      "outputs": []
    },
    {
      "cell_type": "code",
      "source": [
        "y_pred_trainrbf=model_rbf.predict(x_test)"
      ],
      "metadata": {
        "id": "yiWmkp-93lpV"
      },
      "execution_count": 52,
      "outputs": []
    },
    {
      "cell_type": "markdown",
      "source": [
        "###**EVALUATING MODEL**"
      ],
      "metadata": {
        "id": "1fPRT-Oc3q12"
      }
    },
    {
      "cell_type": "code",
      "source": [
        "accuracy_score(y_test,y_pred_trainrbf)"
      ],
      "metadata": {
        "colab": {
          "base_uri": "https://localhost:8080/"
        },
        "id": "3RqqzD1v3uBw",
        "outputId": "dbedc2c0-0c4d-47f1-a8d8-0dad63cf41c9"
      },
      "execution_count": 53,
      "outputs": [
        {
          "output_type": "execute_result",
          "data": {
            "text/plain": [
              "0.7646082337317397"
            ]
          },
          "metadata": {},
          "execution_count": 53
        }
      ]
    },
    {
      "cell_type": "code",
      "source": [
        "x_test=data_test.iloc[:,:-1]\n",
        "y_test=data_test.iloc[:,-1]"
      ],
      "metadata": {
        "id": "34MnWcYi3dIk"
      },
      "execution_count": 54,
      "outputs": []
    },
    {
      "cell_type": "markdown",
      "source": [
        "##**Testing the test data with trained model**"
      ],
      "metadata": {
        "id": "7Ez7eL6t32KP"
      }
    },
    {
      "cell_type": "code",
      "source": [
        "new_preb_rbf=model_rbf.predict(x_test)"
      ],
      "metadata": {
        "id": "qv8U5mP934yd"
      },
      "execution_count": 55,
      "outputs": []
    },
    {
      "cell_type": "code",
      "source": [
        "accuracy_score(y_test,new_preb_rbf)"
      ],
      "metadata": {
        "colab": {
          "base_uri": "https://localhost:8080/"
        },
        "id": "CQW1XxpM39d7",
        "outputId": "24c47432-9a5a-4864-97f0-c7159c9a9bfb"
      },
      "execution_count": 56,
      "outputs": [
        {
          "output_type": "execute_result",
          "data": {
            "text/plain": [
              "0.7543160690571049"
            ]
          },
          "metadata": {},
          "execution_count": 56
        }
      ]
    },
    {
      "cell_type": "markdown",
      "source": [
        "###**NAVIEBAYES MODELS TUNING**"
      ],
      "metadata": {
        "id": "EBMASXuF4RmD"
      }
    },
    {
      "cell_type": "code",
      "source": [
        "nb=MultinomialNB()\n",
        "nb.fit(x_train1,y_train1)"
      ],
      "metadata": {
        "colab": {
          "base_uri": "https://localhost:8080/",
          "height": 74
        },
        "id": "JzbmW_H34W95",
        "outputId": "5a6d3288-f7af-48a3-b9bc-dea1dfff8812"
      },
      "execution_count": 58,
      "outputs": [
        {
          "output_type": "execute_result",
          "data": {
            "text/plain": [
              "MultinomialNB()"
            ],
            "text/html": [
              "<style>#sk-container-id-4 {color: black;background-color: white;}#sk-container-id-4 pre{padding: 0;}#sk-container-id-4 div.sk-toggleable {background-color: white;}#sk-container-id-4 label.sk-toggleable__label {cursor: pointer;display: block;width: 100%;margin-bottom: 0;padding: 0.3em;box-sizing: border-box;text-align: center;}#sk-container-id-4 label.sk-toggleable__label-arrow:before {content: \"▸\";float: left;margin-right: 0.25em;color: #696969;}#sk-container-id-4 label.sk-toggleable__label-arrow:hover:before {color: black;}#sk-container-id-4 div.sk-estimator:hover label.sk-toggleable__label-arrow:before {color: black;}#sk-container-id-4 div.sk-toggleable__content {max-height: 0;max-width: 0;overflow: hidden;text-align: left;background-color: #f0f8ff;}#sk-container-id-4 div.sk-toggleable__content pre {margin: 0.2em;color: black;border-radius: 0.25em;background-color: #f0f8ff;}#sk-container-id-4 input.sk-toggleable__control:checked~div.sk-toggleable__content {max-height: 200px;max-width: 100%;overflow: auto;}#sk-container-id-4 input.sk-toggleable__control:checked~label.sk-toggleable__label-arrow:before {content: \"▾\";}#sk-container-id-4 div.sk-estimator input.sk-toggleable__control:checked~label.sk-toggleable__label {background-color: #d4ebff;}#sk-container-id-4 div.sk-label input.sk-toggleable__control:checked~label.sk-toggleable__label {background-color: #d4ebff;}#sk-container-id-4 input.sk-hidden--visually {border: 0;clip: rect(1px 1px 1px 1px);clip: rect(1px, 1px, 1px, 1px);height: 1px;margin: -1px;overflow: hidden;padding: 0;position: absolute;width: 1px;}#sk-container-id-4 div.sk-estimator {font-family: monospace;background-color: #f0f8ff;border: 1px dotted black;border-radius: 0.25em;box-sizing: border-box;margin-bottom: 0.5em;}#sk-container-id-4 div.sk-estimator:hover {background-color: #d4ebff;}#sk-container-id-4 div.sk-parallel-item::after {content: \"\";width: 100%;border-bottom: 1px solid gray;flex-grow: 1;}#sk-container-id-4 div.sk-label:hover label.sk-toggleable__label {background-color: #d4ebff;}#sk-container-id-4 div.sk-serial::before {content: \"\";position: absolute;border-left: 1px solid gray;box-sizing: border-box;top: 0;bottom: 0;left: 50%;z-index: 0;}#sk-container-id-4 div.sk-serial {display: flex;flex-direction: column;align-items: center;background-color: white;padding-right: 0.2em;padding-left: 0.2em;position: relative;}#sk-container-id-4 div.sk-item {position: relative;z-index: 1;}#sk-container-id-4 div.sk-parallel {display: flex;align-items: stretch;justify-content: center;background-color: white;position: relative;}#sk-container-id-4 div.sk-item::before, #sk-container-id-4 div.sk-parallel-item::before {content: \"\";position: absolute;border-left: 1px solid gray;box-sizing: border-box;top: 0;bottom: 0;left: 50%;z-index: -1;}#sk-container-id-4 div.sk-parallel-item {display: flex;flex-direction: column;z-index: 1;position: relative;background-color: white;}#sk-container-id-4 div.sk-parallel-item:first-child::after {align-self: flex-end;width: 50%;}#sk-container-id-4 div.sk-parallel-item:last-child::after {align-self: flex-start;width: 50%;}#sk-container-id-4 div.sk-parallel-item:only-child::after {width: 0;}#sk-container-id-4 div.sk-dashed-wrapped {border: 1px dashed gray;margin: 0 0.4em 0.5em 0.4em;box-sizing: border-box;padding-bottom: 0.4em;background-color: white;}#sk-container-id-4 div.sk-label label {font-family: monospace;font-weight: bold;display: inline-block;line-height: 1.2em;}#sk-container-id-4 div.sk-label-container {text-align: center;}#sk-container-id-4 div.sk-container {/* jupyter's `normalize.less` sets `[hidden] { display: none; }` but bootstrap.min.css set `[hidden] { display: none !important; }` so we also need the `!important` here to be able to override the default hidden behavior on the sphinx rendered scikit-learn.org. See: https://github.com/scikit-learn/scikit-learn/issues/21755 */display: inline-block !important;position: relative;}#sk-container-id-4 div.sk-text-repr-fallback {display: none;}</style><div id=\"sk-container-id-4\" class=\"sk-top-container\"><div class=\"sk-text-repr-fallback\"><pre>MultinomialNB()</pre><b>In a Jupyter environment, please rerun this cell to show the HTML representation or trust the notebook. <br />On GitHub, the HTML representation is unable to render, please try loading this page with nbviewer.org.</b></div><div class=\"sk-container\" hidden><div class=\"sk-item\"><div class=\"sk-estimator sk-toggleable\"><input class=\"sk-toggleable__control sk-hidden--visually\" id=\"sk-estimator-id-4\" type=\"checkbox\" checked><label for=\"sk-estimator-id-4\" class=\"sk-toggleable__label sk-toggleable__label-arrow\">MultinomialNB</label><div class=\"sk-toggleable__content\"><pre>MultinomialNB()</pre></div></div></div></div></div>"
            ]
          },
          "metadata": {},
          "execution_count": 58
        }
      ]
    },
    {
      "cell_type": "code",
      "source": [
        "nb_pred_train=nb.predict(x_train)"
      ],
      "metadata": {
        "id": "mEkjuW0Q4Y5a"
      },
      "execution_count": 59,
      "outputs": []
    },
    {
      "cell_type": "code",
      "source": [
        "nb_pred_test=nb.predict(x_test)"
      ],
      "metadata": {
        "id": "MePEEQ244dD3"
      },
      "execution_count": 60,
      "outputs": []
    },
    {
      "cell_type": "code",
      "source": [
        "accu_trainmodel=accuracy_score(y_test,nb_pred_test)"
      ],
      "metadata": {
        "id": "fGInDlLJ4ev9"
      },
      "execution_count": 61,
      "outputs": []
    },
    {
      "cell_type": "code",
      "source": [
        "accu_trainmodel"
      ],
      "metadata": {
        "colab": {
          "base_uri": "https://localhost:8080/"
        },
        "id": "VlZCUjcT3YVC",
        "outputId": "7e93e161-432a-4d63-f65a-60fad0c9239d"
      },
      "execution_count": 62,
      "outputs": [
        {
          "output_type": "execute_result",
          "data": {
            "text/plain": [
              "0.7804116865869853"
            ]
          },
          "metadata": {},
          "execution_count": 62
        }
      ]
    },
    {
      "cell_type": "code",
      "source": [
        "new_pred_test=nb.predict(x_test1)"
      ],
      "metadata": {
        "id": "TCMcp1-P4jqs"
      },
      "execution_count": 63,
      "outputs": []
    },
    {
      "cell_type": "code",
      "source": [
        "accu_testmodel=accuracy_score(y_test1,new_pred_test)"
      ],
      "metadata": {
        "id": "iO0bT5Ut4lX5"
      },
      "execution_count": 64,
      "outputs": []
    },
    {
      "cell_type": "code",
      "source": [
        "accu_testmodel"
      ],
      "metadata": {
        "colab": {
          "base_uri": "https://localhost:8080/"
        },
        "id": "Sq3E9Pc-4nCy",
        "outputId": "518df74e-8708-444f-cd3c-c07c57d9ca96"
      },
      "execution_count": 65,
      "outputs": [
        {
          "output_type": "execute_result",
          "data": {
            "text/plain": [
              "0.7804116865869853"
            ]
          },
          "metadata": {},
          "execution_count": 65
        }
      ]
    },
    {
      "cell_type": "code",
      "source": [
        "x=['nb train model','nb test model']\n",
        "y=[accu_trainmodel,accu_testmodel]\n",
        "fig=px.bar(x=x,y=y,labels={'x':'accu_trainmodel','y':'accu_testmodel'},text_auto=True)\n",
        "fig.show()"
      ],
      "metadata": {
        "colab": {
          "base_uri": "https://localhost:8080/",
          "height": 542
        },
        "id": "lXebUEfF4oW7",
        "outputId": "56136898-e21d-4907-a3cd-3b24e3710218"
      },
      "execution_count": 66,
      "outputs": [
        {
          "output_type": "display_data",
          "data": {
            "text/html": [
              "<html>\n",
              "<head><meta charset=\"utf-8\" /></head>\n",
              "<body>\n",
              "    <div>            <script src=\"https://cdnjs.cloudflare.com/ajax/libs/mathjax/2.7.5/MathJax.js?config=TeX-AMS-MML_SVG\"></script><script type=\"text/javascript\">if (window.MathJax && window.MathJax.Hub && window.MathJax.Hub.Config) {window.MathJax.Hub.Config({SVG: {font: \"STIX-Web\"}});}</script>                <script type=\"text/javascript\">window.PlotlyConfig = {MathJaxConfig: 'local'};</script>\n",
              "        <script charset=\"utf-8\" src=\"https://cdn.plot.ly/plotly-2.24.1.min.js\"></script>                <div id=\"ea9c1bcc-80e0-4563-b655-d72ce265d78b\" class=\"plotly-graph-div\" style=\"height:525px; width:100%;\"></div>            <script type=\"text/javascript\">                                    window.PLOTLYENV=window.PLOTLYENV || {};                                    if (document.getElementById(\"ea9c1bcc-80e0-4563-b655-d72ce265d78b\")) {                    Plotly.newPlot(                        \"ea9c1bcc-80e0-4563-b655-d72ce265d78b\",                        [{\"alignmentgroup\":\"True\",\"hovertemplate\":\"accu_trainmodel=%{x}\\u003cbr\\u003eaccu_testmodel=%{y}\\u003cextra\\u003e\\u003c\\u002fextra\\u003e\",\"legendgroup\":\"\",\"marker\":{\"color\":\"#636efa\",\"pattern\":{\"shape\":\"\"}},\"name\":\"\",\"offsetgroup\":\"\",\"orientation\":\"v\",\"showlegend\":false,\"textposition\":\"auto\",\"texttemplate\":\"%{y}\",\"x\":[\"nb train model\",\"nb test model\"],\"xaxis\":\"x\",\"y\":[0.7804116865869853,0.7804116865869853],\"yaxis\":\"y\",\"type\":\"bar\"}],                        {\"template\":{\"data\":{\"histogram2dcontour\":[{\"type\":\"histogram2dcontour\",\"colorbar\":{\"outlinewidth\":0,\"ticks\":\"\"},\"colorscale\":[[0.0,\"#0d0887\"],[0.1111111111111111,\"#46039f\"],[0.2222222222222222,\"#7201a8\"],[0.3333333333333333,\"#9c179e\"],[0.4444444444444444,\"#bd3786\"],[0.5555555555555556,\"#d8576b\"],[0.6666666666666666,\"#ed7953\"],[0.7777777777777778,\"#fb9f3a\"],[0.8888888888888888,\"#fdca26\"],[1.0,\"#f0f921\"]]}],\"choropleth\":[{\"type\":\"choropleth\",\"colorbar\":{\"outlinewidth\":0,\"ticks\":\"\"}}],\"histogram2d\":[{\"type\":\"histogram2d\",\"colorbar\":{\"outlinewidth\":0,\"ticks\":\"\"},\"colorscale\":[[0.0,\"#0d0887\"],[0.1111111111111111,\"#46039f\"],[0.2222222222222222,\"#7201a8\"],[0.3333333333333333,\"#9c179e\"],[0.4444444444444444,\"#bd3786\"],[0.5555555555555556,\"#d8576b\"],[0.6666666666666666,\"#ed7953\"],[0.7777777777777778,\"#fb9f3a\"],[0.8888888888888888,\"#fdca26\"],[1.0,\"#f0f921\"]]}],\"heatmap\":[{\"type\":\"heatmap\",\"colorbar\":{\"outlinewidth\":0,\"ticks\":\"\"},\"colorscale\":[[0.0,\"#0d0887\"],[0.1111111111111111,\"#46039f\"],[0.2222222222222222,\"#7201a8\"],[0.3333333333333333,\"#9c179e\"],[0.4444444444444444,\"#bd3786\"],[0.5555555555555556,\"#d8576b\"],[0.6666666666666666,\"#ed7953\"],[0.7777777777777778,\"#fb9f3a\"],[0.8888888888888888,\"#fdca26\"],[1.0,\"#f0f921\"]]}],\"heatmapgl\":[{\"type\":\"heatmapgl\",\"colorbar\":{\"outlinewidth\":0,\"ticks\":\"\"},\"colorscale\":[[0.0,\"#0d0887\"],[0.1111111111111111,\"#46039f\"],[0.2222222222222222,\"#7201a8\"],[0.3333333333333333,\"#9c179e\"],[0.4444444444444444,\"#bd3786\"],[0.5555555555555556,\"#d8576b\"],[0.6666666666666666,\"#ed7953\"],[0.7777777777777778,\"#fb9f3a\"],[0.8888888888888888,\"#fdca26\"],[1.0,\"#f0f921\"]]}],\"contourcarpet\":[{\"type\":\"contourcarpet\",\"colorbar\":{\"outlinewidth\":0,\"ticks\":\"\"}}],\"contour\":[{\"type\":\"contour\",\"colorbar\":{\"outlinewidth\":0,\"ticks\":\"\"},\"colorscale\":[[0.0,\"#0d0887\"],[0.1111111111111111,\"#46039f\"],[0.2222222222222222,\"#7201a8\"],[0.3333333333333333,\"#9c179e\"],[0.4444444444444444,\"#bd3786\"],[0.5555555555555556,\"#d8576b\"],[0.6666666666666666,\"#ed7953\"],[0.7777777777777778,\"#fb9f3a\"],[0.8888888888888888,\"#fdca26\"],[1.0,\"#f0f921\"]]}],\"surface\":[{\"type\":\"surface\",\"colorbar\":{\"outlinewidth\":0,\"ticks\":\"\"},\"colorscale\":[[0.0,\"#0d0887\"],[0.1111111111111111,\"#46039f\"],[0.2222222222222222,\"#7201a8\"],[0.3333333333333333,\"#9c179e\"],[0.4444444444444444,\"#bd3786\"],[0.5555555555555556,\"#d8576b\"],[0.6666666666666666,\"#ed7953\"],[0.7777777777777778,\"#fb9f3a\"],[0.8888888888888888,\"#fdca26\"],[1.0,\"#f0f921\"]]}],\"mesh3d\":[{\"type\":\"mesh3d\",\"colorbar\":{\"outlinewidth\":0,\"ticks\":\"\"}}],\"scatter\":[{\"fillpattern\":{\"fillmode\":\"overlay\",\"size\":10,\"solidity\":0.2},\"type\":\"scatter\"}],\"parcoords\":[{\"type\":\"parcoords\",\"line\":{\"colorbar\":{\"outlinewidth\":0,\"ticks\":\"\"}}}],\"scatterpolargl\":[{\"type\":\"scatterpolargl\",\"marker\":{\"colorbar\":{\"outlinewidth\":0,\"ticks\":\"\"}}}],\"bar\":[{\"error_x\":{\"color\":\"#2a3f5f\"},\"error_y\":{\"color\":\"#2a3f5f\"},\"marker\":{\"line\":{\"color\":\"#E5ECF6\",\"width\":0.5},\"pattern\":{\"fillmode\":\"overlay\",\"size\":10,\"solidity\":0.2}},\"type\":\"bar\"}],\"scattergeo\":[{\"type\":\"scattergeo\",\"marker\":{\"colorbar\":{\"outlinewidth\":0,\"ticks\":\"\"}}}],\"scatterpolar\":[{\"type\":\"scatterpolar\",\"marker\":{\"colorbar\":{\"outlinewidth\":0,\"ticks\":\"\"}}}],\"histogram\":[{\"marker\":{\"pattern\":{\"fillmode\":\"overlay\",\"size\":10,\"solidity\":0.2}},\"type\":\"histogram\"}],\"scattergl\":[{\"type\":\"scattergl\",\"marker\":{\"colorbar\":{\"outlinewidth\":0,\"ticks\":\"\"}}}],\"scatter3d\":[{\"type\":\"scatter3d\",\"line\":{\"colorbar\":{\"outlinewidth\":0,\"ticks\":\"\"}},\"marker\":{\"colorbar\":{\"outlinewidth\":0,\"ticks\":\"\"}}}],\"scattermapbox\":[{\"type\":\"scattermapbox\",\"marker\":{\"colorbar\":{\"outlinewidth\":0,\"ticks\":\"\"}}}],\"scatterternary\":[{\"type\":\"scatterternary\",\"marker\":{\"colorbar\":{\"outlinewidth\":0,\"ticks\":\"\"}}}],\"scattercarpet\":[{\"type\":\"scattercarpet\",\"marker\":{\"colorbar\":{\"outlinewidth\":0,\"ticks\":\"\"}}}],\"carpet\":[{\"aaxis\":{\"endlinecolor\":\"#2a3f5f\",\"gridcolor\":\"white\",\"linecolor\":\"white\",\"minorgridcolor\":\"white\",\"startlinecolor\":\"#2a3f5f\"},\"baxis\":{\"endlinecolor\":\"#2a3f5f\",\"gridcolor\":\"white\",\"linecolor\":\"white\",\"minorgridcolor\":\"white\",\"startlinecolor\":\"#2a3f5f\"},\"type\":\"carpet\"}],\"table\":[{\"cells\":{\"fill\":{\"color\":\"#EBF0F8\"},\"line\":{\"color\":\"white\"}},\"header\":{\"fill\":{\"color\":\"#C8D4E3\"},\"line\":{\"color\":\"white\"}},\"type\":\"table\"}],\"barpolar\":[{\"marker\":{\"line\":{\"color\":\"#E5ECF6\",\"width\":0.5},\"pattern\":{\"fillmode\":\"overlay\",\"size\":10,\"solidity\":0.2}},\"type\":\"barpolar\"}],\"pie\":[{\"automargin\":true,\"type\":\"pie\"}]},\"layout\":{\"autotypenumbers\":\"strict\",\"colorway\":[\"#636efa\",\"#EF553B\",\"#00cc96\",\"#ab63fa\",\"#FFA15A\",\"#19d3f3\",\"#FF6692\",\"#B6E880\",\"#FF97FF\",\"#FECB52\"],\"font\":{\"color\":\"#2a3f5f\"},\"hovermode\":\"closest\",\"hoverlabel\":{\"align\":\"left\"},\"paper_bgcolor\":\"white\",\"plot_bgcolor\":\"#E5ECF6\",\"polar\":{\"bgcolor\":\"#E5ECF6\",\"angularaxis\":{\"gridcolor\":\"white\",\"linecolor\":\"white\",\"ticks\":\"\"},\"radialaxis\":{\"gridcolor\":\"white\",\"linecolor\":\"white\",\"ticks\":\"\"}},\"ternary\":{\"bgcolor\":\"#E5ECF6\",\"aaxis\":{\"gridcolor\":\"white\",\"linecolor\":\"white\",\"ticks\":\"\"},\"baxis\":{\"gridcolor\":\"white\",\"linecolor\":\"white\",\"ticks\":\"\"},\"caxis\":{\"gridcolor\":\"white\",\"linecolor\":\"white\",\"ticks\":\"\"}},\"coloraxis\":{\"colorbar\":{\"outlinewidth\":0,\"ticks\":\"\"}},\"colorscale\":{\"sequential\":[[0.0,\"#0d0887\"],[0.1111111111111111,\"#46039f\"],[0.2222222222222222,\"#7201a8\"],[0.3333333333333333,\"#9c179e\"],[0.4444444444444444,\"#bd3786\"],[0.5555555555555556,\"#d8576b\"],[0.6666666666666666,\"#ed7953\"],[0.7777777777777778,\"#fb9f3a\"],[0.8888888888888888,\"#fdca26\"],[1.0,\"#f0f921\"]],\"sequentialminus\":[[0.0,\"#0d0887\"],[0.1111111111111111,\"#46039f\"],[0.2222222222222222,\"#7201a8\"],[0.3333333333333333,\"#9c179e\"],[0.4444444444444444,\"#bd3786\"],[0.5555555555555556,\"#d8576b\"],[0.6666666666666666,\"#ed7953\"],[0.7777777777777778,\"#fb9f3a\"],[0.8888888888888888,\"#fdca26\"],[1.0,\"#f0f921\"]],\"diverging\":[[0,\"#8e0152\"],[0.1,\"#c51b7d\"],[0.2,\"#de77ae\"],[0.3,\"#f1b6da\"],[0.4,\"#fde0ef\"],[0.5,\"#f7f7f7\"],[0.6,\"#e6f5d0\"],[0.7,\"#b8e186\"],[0.8,\"#7fbc41\"],[0.9,\"#4d9221\"],[1,\"#276419\"]]},\"xaxis\":{\"gridcolor\":\"white\",\"linecolor\":\"white\",\"ticks\":\"\",\"title\":{\"standoff\":15},\"zerolinecolor\":\"white\",\"automargin\":true,\"zerolinewidth\":2},\"yaxis\":{\"gridcolor\":\"white\",\"linecolor\":\"white\",\"ticks\":\"\",\"title\":{\"standoff\":15},\"zerolinecolor\":\"white\",\"automargin\":true,\"zerolinewidth\":2},\"scene\":{\"xaxis\":{\"backgroundcolor\":\"#E5ECF6\",\"gridcolor\":\"white\",\"linecolor\":\"white\",\"showbackground\":true,\"ticks\":\"\",\"zerolinecolor\":\"white\",\"gridwidth\":2},\"yaxis\":{\"backgroundcolor\":\"#E5ECF6\",\"gridcolor\":\"white\",\"linecolor\":\"white\",\"showbackground\":true,\"ticks\":\"\",\"zerolinecolor\":\"white\",\"gridwidth\":2},\"zaxis\":{\"backgroundcolor\":\"#E5ECF6\",\"gridcolor\":\"white\",\"linecolor\":\"white\",\"showbackground\":true,\"ticks\":\"\",\"zerolinecolor\":\"white\",\"gridwidth\":2}},\"shapedefaults\":{\"line\":{\"color\":\"#2a3f5f\"}},\"annotationdefaults\":{\"arrowcolor\":\"#2a3f5f\",\"arrowhead\":0,\"arrowwidth\":1},\"geo\":{\"bgcolor\":\"white\",\"landcolor\":\"#E5ECF6\",\"subunitcolor\":\"white\",\"showland\":true,\"showlakes\":true,\"lakecolor\":\"white\"},\"title\":{\"x\":0.05},\"mapbox\":{\"style\":\"light\"}}},\"xaxis\":{\"anchor\":\"y\",\"domain\":[0.0,1.0],\"title\":{\"text\":\"accu_trainmodel\"}},\"yaxis\":{\"anchor\":\"x\",\"domain\":[0.0,1.0],\"title\":{\"text\":\"accu_testmodel\"}},\"legend\":{\"tracegroupgap\":0},\"margin\":{\"t\":60},\"barmode\":\"relative\"},                        {\"responsive\": true}                    ).then(function(){\n",
              "                            \n",
              "var gd = document.getElementById('ea9c1bcc-80e0-4563-b655-d72ce265d78b');\n",
              "var x = new MutationObserver(function (mutations, observer) {{\n",
              "        var display = window.getComputedStyle(gd).display;\n",
              "        if (!display || display === 'none') {{\n",
              "            console.log([gd, 'removed!']);\n",
              "            Plotly.purge(gd);\n",
              "            observer.disconnect();\n",
              "        }}\n",
              "}});\n",
              "\n",
              "// Listen for the removal of the full notebook cells\n",
              "var notebookContainer = gd.closest('#notebook-container');\n",
              "if (notebookContainer) {{\n",
              "    x.observe(notebookContainer, {childList: true});\n",
              "}}\n",
              "\n",
              "// Listen for the clearing of the current output cell\n",
              "var outputEl = gd.closest('.output');\n",
              "if (outputEl) {{\n",
              "    x.observe(outputEl, {childList: true});\n",
              "}}\n",
              "\n",
              "                        })                };                            </script>        </div>\n",
              "</body>\n",
              "</html>"
            ]
          },
          "metadata": {}
        }
      ]
    },
    {
      "cell_type": "markdown",
      "source": [
        "##**GaussianNB tuning**"
      ],
      "metadata": {
        "id": "LmbgTdqa4ukm"
      }
    },
    {
      "cell_type": "code",
      "source": [
        "gnb=GaussianNB()\n",
        "gnb.fit(x_train1,y_train1)"
      ],
      "metadata": {
        "colab": {
          "base_uri": "https://localhost:8080/",
          "height": 74
        },
        "id": "BWQNcocy4zTN",
        "outputId": "60241085-3225-4d27-d771-165e2d762eb1"
      },
      "execution_count": 67,
      "outputs": [
        {
          "output_type": "execute_result",
          "data": {
            "text/plain": [
              "GaussianNB()"
            ],
            "text/html": [
              "<style>#sk-container-id-5 {color: black;background-color: white;}#sk-container-id-5 pre{padding: 0;}#sk-container-id-5 div.sk-toggleable {background-color: white;}#sk-container-id-5 label.sk-toggleable__label {cursor: pointer;display: block;width: 100%;margin-bottom: 0;padding: 0.3em;box-sizing: border-box;text-align: center;}#sk-container-id-5 label.sk-toggleable__label-arrow:before {content: \"▸\";float: left;margin-right: 0.25em;color: #696969;}#sk-container-id-5 label.sk-toggleable__label-arrow:hover:before {color: black;}#sk-container-id-5 div.sk-estimator:hover label.sk-toggleable__label-arrow:before {color: black;}#sk-container-id-5 div.sk-toggleable__content {max-height: 0;max-width: 0;overflow: hidden;text-align: left;background-color: #f0f8ff;}#sk-container-id-5 div.sk-toggleable__content pre {margin: 0.2em;color: black;border-radius: 0.25em;background-color: #f0f8ff;}#sk-container-id-5 input.sk-toggleable__control:checked~div.sk-toggleable__content {max-height: 200px;max-width: 100%;overflow: auto;}#sk-container-id-5 input.sk-toggleable__control:checked~label.sk-toggleable__label-arrow:before {content: \"▾\";}#sk-container-id-5 div.sk-estimator input.sk-toggleable__control:checked~label.sk-toggleable__label {background-color: #d4ebff;}#sk-container-id-5 div.sk-label input.sk-toggleable__control:checked~label.sk-toggleable__label {background-color: #d4ebff;}#sk-container-id-5 input.sk-hidden--visually {border: 0;clip: rect(1px 1px 1px 1px);clip: rect(1px, 1px, 1px, 1px);height: 1px;margin: -1px;overflow: hidden;padding: 0;position: absolute;width: 1px;}#sk-container-id-5 div.sk-estimator {font-family: monospace;background-color: #f0f8ff;border: 1px dotted black;border-radius: 0.25em;box-sizing: border-box;margin-bottom: 0.5em;}#sk-container-id-5 div.sk-estimator:hover {background-color: #d4ebff;}#sk-container-id-5 div.sk-parallel-item::after {content: \"\";width: 100%;border-bottom: 1px solid gray;flex-grow: 1;}#sk-container-id-5 div.sk-label:hover label.sk-toggleable__label {background-color: #d4ebff;}#sk-container-id-5 div.sk-serial::before {content: \"\";position: absolute;border-left: 1px solid gray;box-sizing: border-box;top: 0;bottom: 0;left: 50%;z-index: 0;}#sk-container-id-5 div.sk-serial {display: flex;flex-direction: column;align-items: center;background-color: white;padding-right: 0.2em;padding-left: 0.2em;position: relative;}#sk-container-id-5 div.sk-item {position: relative;z-index: 1;}#sk-container-id-5 div.sk-parallel {display: flex;align-items: stretch;justify-content: center;background-color: white;position: relative;}#sk-container-id-5 div.sk-item::before, #sk-container-id-5 div.sk-parallel-item::before {content: \"\";position: absolute;border-left: 1px solid gray;box-sizing: border-box;top: 0;bottom: 0;left: 50%;z-index: -1;}#sk-container-id-5 div.sk-parallel-item {display: flex;flex-direction: column;z-index: 1;position: relative;background-color: white;}#sk-container-id-5 div.sk-parallel-item:first-child::after {align-self: flex-end;width: 50%;}#sk-container-id-5 div.sk-parallel-item:last-child::after {align-self: flex-start;width: 50%;}#sk-container-id-5 div.sk-parallel-item:only-child::after {width: 0;}#sk-container-id-5 div.sk-dashed-wrapped {border: 1px dashed gray;margin: 0 0.4em 0.5em 0.4em;box-sizing: border-box;padding-bottom: 0.4em;background-color: white;}#sk-container-id-5 div.sk-label label {font-family: monospace;font-weight: bold;display: inline-block;line-height: 1.2em;}#sk-container-id-5 div.sk-label-container {text-align: center;}#sk-container-id-5 div.sk-container {/* jupyter's `normalize.less` sets `[hidden] { display: none; }` but bootstrap.min.css set `[hidden] { display: none !important; }` so we also need the `!important` here to be able to override the default hidden behavior on the sphinx rendered scikit-learn.org. See: https://github.com/scikit-learn/scikit-learn/issues/21755 */display: inline-block !important;position: relative;}#sk-container-id-5 div.sk-text-repr-fallback {display: none;}</style><div id=\"sk-container-id-5\" class=\"sk-top-container\"><div class=\"sk-text-repr-fallback\"><pre>GaussianNB()</pre><b>In a Jupyter environment, please rerun this cell to show the HTML representation or trust the notebook. <br />On GitHub, the HTML representation is unable to render, please try loading this page with nbviewer.org.</b></div><div class=\"sk-container\" hidden><div class=\"sk-item\"><div class=\"sk-estimator sk-toggleable\"><input class=\"sk-toggleable__control sk-hidden--visually\" id=\"sk-estimator-id-5\" type=\"checkbox\" checked><label for=\"sk-estimator-id-5\" class=\"sk-toggleable__label sk-toggleable__label-arrow\">GaussianNB</label><div class=\"sk-toggleable__content\"><pre>GaussianNB()</pre></div></div></div></div></div>"
            ]
          },
          "metadata": {},
          "execution_count": 67
        }
      ]
    },
    {
      "cell_type": "code",
      "source": [
        "y_pred_train=gnb.predict(x_train)"
      ],
      "metadata": {
        "id": "xwXvnmRo41Kz"
      },
      "execution_count": 68,
      "outputs": []
    },
    {
      "cell_type": "code",
      "source": [
        "y_pred_test=gnb.predict(x_test)"
      ],
      "metadata": {
        "id": "0zyEGjCO43nx"
      },
      "execution_count": 69,
      "outputs": []
    },
    {
      "cell_type": "code",
      "source": [
        "accu_traingnb=accuracy_score(y_test,y_pred_test)"
      ],
      "metadata": {
        "id": "7F0NDd9u45Y9"
      },
      "execution_count": 70,
      "outputs": []
    },
    {
      "cell_type": "code",
      "source": [
        "accu_traingnb"
      ],
      "metadata": {
        "colab": {
          "base_uri": "https://localhost:8080/"
        },
        "id": "YE-lcvZ1473c",
        "outputId": "9a2285bc-7e24-4f63-f18e-328df4f9aca2"
      },
      "execution_count": 71,
      "outputs": [
        {
          "output_type": "execute_result",
          "data": {
            "text/plain": [
              "0.8135458167330677"
            ]
          },
          "metadata": {},
          "execution_count": 71
        }
      ]
    },
    {
      "cell_type": "code",
      "source": [
        "new_pred=gnb.predict(x_test1)"
      ],
      "metadata": {
        "id": "nS41Es5L49Cz"
      },
      "execution_count": 72,
      "outputs": []
    },
    {
      "cell_type": "code",
      "source": [
        "accu_testgnb=accuracy_score(y_test1,new_pred)"
      ],
      "metadata": {
        "id": "XVDfCScX4-1r"
      },
      "execution_count": 75,
      "outputs": []
    },
    {
      "cell_type": "code",
      "source": [
        "accu_testgnb"
      ],
      "metadata": {
        "colab": {
          "base_uri": "https://localhost:8080/"
        },
        "id": "N4I3VgbJ5AZo",
        "outputId": "41f5f5db-a1eb-4dde-f777-11b2fc511a3b"
      },
      "execution_count": 76,
      "outputs": [
        {
          "output_type": "execute_result",
          "data": {
            "text/plain": [
              "0.8135458167330677"
            ]
          },
          "metadata": {},
          "execution_count": 76
        }
      ]
    },
    {
      "cell_type": "code",
      "source": [
        "x=['accu_traingnb','accu_testgnb']\n",
        "y=[accu_traingnb,accu_testgnb]\n",
        "fig=px.bar(x=x,y=y,labels={'x':'accu_traingnb','y':'accu_testgnb'},text_auto=True)\n",
        "\n",
        "\n",
        "fig.update_layout(title='Difference in accuracy ..',\n",
        "                  title_font={'size':30,'family': 'Serif'},\n",
        "                  paper_bgcolor='#D0D3D4',\n",
        "                  plot_bgcolor='#D0D3D4')\n",
        "fig.update_yaxes(showgrid=False)\n",
        "fig.show()"
      ],
      "metadata": {
        "colab": {
          "base_uri": "https://localhost:8080/",
          "height": 542
        },
        "id": "UnzH9f2F5BqF",
        "outputId": "e8e65485-4049-427e-8925-002e71553f19"
      },
      "execution_count": 77,
      "outputs": [
        {
          "output_type": "display_data",
          "data": {
            "text/html": [
              "<html>\n",
              "<head><meta charset=\"utf-8\" /></head>\n",
              "<body>\n",
              "    <div>            <script src=\"https://cdnjs.cloudflare.com/ajax/libs/mathjax/2.7.5/MathJax.js?config=TeX-AMS-MML_SVG\"></script><script type=\"text/javascript\">if (window.MathJax && window.MathJax.Hub && window.MathJax.Hub.Config) {window.MathJax.Hub.Config({SVG: {font: \"STIX-Web\"}});}</script>                <script type=\"text/javascript\">window.PlotlyConfig = {MathJaxConfig: 'local'};</script>\n",
              "        <script charset=\"utf-8\" src=\"https://cdn.plot.ly/plotly-2.24.1.min.js\"></script>                <div id=\"9b3eb5c0-b2f2-4e13-ad95-58de03092292\" class=\"plotly-graph-div\" style=\"height:525px; width:100%;\"></div>            <script type=\"text/javascript\">                                    window.PLOTLYENV=window.PLOTLYENV || {};                                    if (document.getElementById(\"9b3eb5c0-b2f2-4e13-ad95-58de03092292\")) {                    Plotly.newPlot(                        \"9b3eb5c0-b2f2-4e13-ad95-58de03092292\",                        [{\"alignmentgroup\":\"True\",\"hovertemplate\":\"accu_traingnb=%{x}\\u003cbr\\u003eaccu_testgnb=%{y}\\u003cextra\\u003e\\u003c\\u002fextra\\u003e\",\"legendgroup\":\"\",\"marker\":{\"color\":\"#636efa\",\"pattern\":{\"shape\":\"\"}},\"name\":\"\",\"offsetgroup\":\"\",\"orientation\":\"v\",\"showlegend\":false,\"textposition\":\"auto\",\"texttemplate\":\"%{y}\",\"x\":[\"accu_traingnb\",\"accu_testgnb\"],\"xaxis\":\"x\",\"y\":[0.8135458167330677,0.8135458167330677],\"yaxis\":\"y\",\"type\":\"bar\"}],                        {\"template\":{\"data\":{\"histogram2dcontour\":[{\"type\":\"histogram2dcontour\",\"colorbar\":{\"outlinewidth\":0,\"ticks\":\"\"},\"colorscale\":[[0.0,\"#0d0887\"],[0.1111111111111111,\"#46039f\"],[0.2222222222222222,\"#7201a8\"],[0.3333333333333333,\"#9c179e\"],[0.4444444444444444,\"#bd3786\"],[0.5555555555555556,\"#d8576b\"],[0.6666666666666666,\"#ed7953\"],[0.7777777777777778,\"#fb9f3a\"],[0.8888888888888888,\"#fdca26\"],[1.0,\"#f0f921\"]]}],\"choropleth\":[{\"type\":\"choropleth\",\"colorbar\":{\"outlinewidth\":0,\"ticks\":\"\"}}],\"histogram2d\":[{\"type\":\"histogram2d\",\"colorbar\":{\"outlinewidth\":0,\"ticks\":\"\"},\"colorscale\":[[0.0,\"#0d0887\"],[0.1111111111111111,\"#46039f\"],[0.2222222222222222,\"#7201a8\"],[0.3333333333333333,\"#9c179e\"],[0.4444444444444444,\"#bd3786\"],[0.5555555555555556,\"#d8576b\"],[0.6666666666666666,\"#ed7953\"],[0.7777777777777778,\"#fb9f3a\"],[0.8888888888888888,\"#fdca26\"],[1.0,\"#f0f921\"]]}],\"heatmap\":[{\"type\":\"heatmap\",\"colorbar\":{\"outlinewidth\":0,\"ticks\":\"\"},\"colorscale\":[[0.0,\"#0d0887\"],[0.1111111111111111,\"#46039f\"],[0.2222222222222222,\"#7201a8\"],[0.3333333333333333,\"#9c179e\"],[0.4444444444444444,\"#bd3786\"],[0.5555555555555556,\"#d8576b\"],[0.6666666666666666,\"#ed7953\"],[0.7777777777777778,\"#fb9f3a\"],[0.8888888888888888,\"#fdca26\"],[1.0,\"#f0f921\"]]}],\"heatmapgl\":[{\"type\":\"heatmapgl\",\"colorbar\":{\"outlinewidth\":0,\"ticks\":\"\"},\"colorscale\":[[0.0,\"#0d0887\"],[0.1111111111111111,\"#46039f\"],[0.2222222222222222,\"#7201a8\"],[0.3333333333333333,\"#9c179e\"],[0.4444444444444444,\"#bd3786\"],[0.5555555555555556,\"#d8576b\"],[0.6666666666666666,\"#ed7953\"],[0.7777777777777778,\"#fb9f3a\"],[0.8888888888888888,\"#fdca26\"],[1.0,\"#f0f921\"]]}],\"contourcarpet\":[{\"type\":\"contourcarpet\",\"colorbar\":{\"outlinewidth\":0,\"ticks\":\"\"}}],\"contour\":[{\"type\":\"contour\",\"colorbar\":{\"outlinewidth\":0,\"ticks\":\"\"},\"colorscale\":[[0.0,\"#0d0887\"],[0.1111111111111111,\"#46039f\"],[0.2222222222222222,\"#7201a8\"],[0.3333333333333333,\"#9c179e\"],[0.4444444444444444,\"#bd3786\"],[0.5555555555555556,\"#d8576b\"],[0.6666666666666666,\"#ed7953\"],[0.7777777777777778,\"#fb9f3a\"],[0.8888888888888888,\"#fdca26\"],[1.0,\"#f0f921\"]]}],\"surface\":[{\"type\":\"surface\",\"colorbar\":{\"outlinewidth\":0,\"ticks\":\"\"},\"colorscale\":[[0.0,\"#0d0887\"],[0.1111111111111111,\"#46039f\"],[0.2222222222222222,\"#7201a8\"],[0.3333333333333333,\"#9c179e\"],[0.4444444444444444,\"#bd3786\"],[0.5555555555555556,\"#d8576b\"],[0.6666666666666666,\"#ed7953\"],[0.7777777777777778,\"#fb9f3a\"],[0.8888888888888888,\"#fdca26\"],[1.0,\"#f0f921\"]]}],\"mesh3d\":[{\"type\":\"mesh3d\",\"colorbar\":{\"outlinewidth\":0,\"ticks\":\"\"}}],\"scatter\":[{\"fillpattern\":{\"fillmode\":\"overlay\",\"size\":10,\"solidity\":0.2},\"type\":\"scatter\"}],\"parcoords\":[{\"type\":\"parcoords\",\"line\":{\"colorbar\":{\"outlinewidth\":0,\"ticks\":\"\"}}}],\"scatterpolargl\":[{\"type\":\"scatterpolargl\",\"marker\":{\"colorbar\":{\"outlinewidth\":0,\"ticks\":\"\"}}}],\"bar\":[{\"error_x\":{\"color\":\"#2a3f5f\"},\"error_y\":{\"color\":\"#2a3f5f\"},\"marker\":{\"line\":{\"color\":\"#E5ECF6\",\"width\":0.5},\"pattern\":{\"fillmode\":\"overlay\",\"size\":10,\"solidity\":0.2}},\"type\":\"bar\"}],\"scattergeo\":[{\"type\":\"scattergeo\",\"marker\":{\"colorbar\":{\"outlinewidth\":0,\"ticks\":\"\"}}}],\"scatterpolar\":[{\"type\":\"scatterpolar\",\"marker\":{\"colorbar\":{\"outlinewidth\":0,\"ticks\":\"\"}}}],\"histogram\":[{\"marker\":{\"pattern\":{\"fillmode\":\"overlay\",\"size\":10,\"solidity\":0.2}},\"type\":\"histogram\"}],\"scattergl\":[{\"type\":\"scattergl\",\"marker\":{\"colorbar\":{\"outlinewidth\":0,\"ticks\":\"\"}}}],\"scatter3d\":[{\"type\":\"scatter3d\",\"line\":{\"colorbar\":{\"outlinewidth\":0,\"ticks\":\"\"}},\"marker\":{\"colorbar\":{\"outlinewidth\":0,\"ticks\":\"\"}}}],\"scattermapbox\":[{\"type\":\"scattermapbox\",\"marker\":{\"colorbar\":{\"outlinewidth\":0,\"ticks\":\"\"}}}],\"scatterternary\":[{\"type\":\"scatterternary\",\"marker\":{\"colorbar\":{\"outlinewidth\":0,\"ticks\":\"\"}}}],\"scattercarpet\":[{\"type\":\"scattercarpet\",\"marker\":{\"colorbar\":{\"outlinewidth\":0,\"ticks\":\"\"}}}],\"carpet\":[{\"aaxis\":{\"endlinecolor\":\"#2a3f5f\",\"gridcolor\":\"white\",\"linecolor\":\"white\",\"minorgridcolor\":\"white\",\"startlinecolor\":\"#2a3f5f\"},\"baxis\":{\"endlinecolor\":\"#2a3f5f\",\"gridcolor\":\"white\",\"linecolor\":\"white\",\"minorgridcolor\":\"white\",\"startlinecolor\":\"#2a3f5f\"},\"type\":\"carpet\"}],\"table\":[{\"cells\":{\"fill\":{\"color\":\"#EBF0F8\"},\"line\":{\"color\":\"white\"}},\"header\":{\"fill\":{\"color\":\"#C8D4E3\"},\"line\":{\"color\":\"white\"}},\"type\":\"table\"}],\"barpolar\":[{\"marker\":{\"line\":{\"color\":\"#E5ECF6\",\"width\":0.5},\"pattern\":{\"fillmode\":\"overlay\",\"size\":10,\"solidity\":0.2}},\"type\":\"barpolar\"}],\"pie\":[{\"automargin\":true,\"type\":\"pie\"}]},\"layout\":{\"autotypenumbers\":\"strict\",\"colorway\":[\"#636efa\",\"#EF553B\",\"#00cc96\",\"#ab63fa\",\"#FFA15A\",\"#19d3f3\",\"#FF6692\",\"#B6E880\",\"#FF97FF\",\"#FECB52\"],\"font\":{\"color\":\"#2a3f5f\"},\"hovermode\":\"closest\",\"hoverlabel\":{\"align\":\"left\"},\"paper_bgcolor\":\"white\",\"plot_bgcolor\":\"#E5ECF6\",\"polar\":{\"bgcolor\":\"#E5ECF6\",\"angularaxis\":{\"gridcolor\":\"white\",\"linecolor\":\"white\",\"ticks\":\"\"},\"radialaxis\":{\"gridcolor\":\"white\",\"linecolor\":\"white\",\"ticks\":\"\"}},\"ternary\":{\"bgcolor\":\"#E5ECF6\",\"aaxis\":{\"gridcolor\":\"white\",\"linecolor\":\"white\",\"ticks\":\"\"},\"baxis\":{\"gridcolor\":\"white\",\"linecolor\":\"white\",\"ticks\":\"\"},\"caxis\":{\"gridcolor\":\"white\",\"linecolor\":\"white\",\"ticks\":\"\"}},\"coloraxis\":{\"colorbar\":{\"outlinewidth\":0,\"ticks\":\"\"}},\"colorscale\":{\"sequential\":[[0.0,\"#0d0887\"],[0.1111111111111111,\"#46039f\"],[0.2222222222222222,\"#7201a8\"],[0.3333333333333333,\"#9c179e\"],[0.4444444444444444,\"#bd3786\"],[0.5555555555555556,\"#d8576b\"],[0.6666666666666666,\"#ed7953\"],[0.7777777777777778,\"#fb9f3a\"],[0.8888888888888888,\"#fdca26\"],[1.0,\"#f0f921\"]],\"sequentialminus\":[[0.0,\"#0d0887\"],[0.1111111111111111,\"#46039f\"],[0.2222222222222222,\"#7201a8\"],[0.3333333333333333,\"#9c179e\"],[0.4444444444444444,\"#bd3786\"],[0.5555555555555556,\"#d8576b\"],[0.6666666666666666,\"#ed7953\"],[0.7777777777777778,\"#fb9f3a\"],[0.8888888888888888,\"#fdca26\"],[1.0,\"#f0f921\"]],\"diverging\":[[0,\"#8e0152\"],[0.1,\"#c51b7d\"],[0.2,\"#de77ae\"],[0.3,\"#f1b6da\"],[0.4,\"#fde0ef\"],[0.5,\"#f7f7f7\"],[0.6,\"#e6f5d0\"],[0.7,\"#b8e186\"],[0.8,\"#7fbc41\"],[0.9,\"#4d9221\"],[1,\"#276419\"]]},\"xaxis\":{\"gridcolor\":\"white\",\"linecolor\":\"white\",\"ticks\":\"\",\"title\":{\"standoff\":15},\"zerolinecolor\":\"white\",\"automargin\":true,\"zerolinewidth\":2},\"yaxis\":{\"gridcolor\":\"white\",\"linecolor\":\"white\",\"ticks\":\"\",\"title\":{\"standoff\":15},\"zerolinecolor\":\"white\",\"automargin\":true,\"zerolinewidth\":2},\"scene\":{\"xaxis\":{\"backgroundcolor\":\"#E5ECF6\",\"gridcolor\":\"white\",\"linecolor\":\"white\",\"showbackground\":true,\"ticks\":\"\",\"zerolinecolor\":\"white\",\"gridwidth\":2},\"yaxis\":{\"backgroundcolor\":\"#E5ECF6\",\"gridcolor\":\"white\",\"linecolor\":\"white\",\"showbackground\":true,\"ticks\":\"\",\"zerolinecolor\":\"white\",\"gridwidth\":2},\"zaxis\":{\"backgroundcolor\":\"#E5ECF6\",\"gridcolor\":\"white\",\"linecolor\":\"white\",\"showbackground\":true,\"ticks\":\"\",\"zerolinecolor\":\"white\",\"gridwidth\":2}},\"shapedefaults\":{\"line\":{\"color\":\"#2a3f5f\"}},\"annotationdefaults\":{\"arrowcolor\":\"#2a3f5f\",\"arrowhead\":0,\"arrowwidth\":1},\"geo\":{\"bgcolor\":\"white\",\"landcolor\":\"#E5ECF6\",\"subunitcolor\":\"white\",\"showland\":true,\"showlakes\":true,\"lakecolor\":\"white\"},\"title\":{\"x\":0.05},\"mapbox\":{\"style\":\"light\"}}},\"xaxis\":{\"anchor\":\"y\",\"domain\":[0.0,1.0],\"title\":{\"text\":\"accu_traingnb\"}},\"yaxis\":{\"anchor\":\"x\",\"domain\":[0.0,1.0],\"title\":{\"text\":\"accu_testgnb\"},\"showgrid\":false},\"legend\":{\"tracegroupgap\":0},\"margin\":{\"t\":60},\"barmode\":\"relative\",\"title\":{\"text\":\"Difference in accuracy ..\",\"font\":{\"size\":30,\"family\":\"Serif\"}},\"paper_bgcolor\":\"#D0D3D4\",\"plot_bgcolor\":\"#D0D3D4\"},                        {\"responsive\": true}                    ).then(function(){\n",
              "                            \n",
              "var gd = document.getElementById('9b3eb5c0-b2f2-4e13-ad95-58de03092292');\n",
              "var x = new MutationObserver(function (mutations, observer) {{\n",
              "        var display = window.getComputedStyle(gd).display;\n",
              "        if (!display || display === 'none') {{\n",
              "            console.log([gd, 'removed!']);\n",
              "            Plotly.purge(gd);\n",
              "            observer.disconnect();\n",
              "        }}\n",
              "}});\n",
              "\n",
              "// Listen for the removal of the full notebook cells\n",
              "var notebookContainer = gd.closest('#notebook-container');\n",
              "if (notebookContainer) {{\n",
              "    x.observe(notebookContainer, {childList: true});\n",
              "}}\n",
              "\n",
              "// Listen for the clearing of the current output cell\n",
              "var outputEl = gd.closest('.output');\n",
              "if (outputEl) {{\n",
              "    x.observe(outputEl, {childList: true});\n",
              "}}\n",
              "\n",
              "                        })                };                            </script>        </div>\n",
              "</body>\n",
              "</html>"
            ]
          },
          "metadata": {}
        }
      ]
    },
    {
      "cell_type": "code",
      "source": [],
      "metadata": {
        "id": "qQQbOlKh4qAA"
      },
      "execution_count": null,
      "outputs": []
    }
  ]
}